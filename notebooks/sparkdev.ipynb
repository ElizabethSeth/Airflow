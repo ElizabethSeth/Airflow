{
 "cells": [
  {
   "cell_type": "code",
   "execution_count": 1,
   "metadata": {},
   "outputs": [
    {
     "name": "stdout",
     "output_type": "stream",
     "text": [
      "Requirement already satisfied: clickhouse_connect in /opt/conda/envs/sp/lib/python3.12/site-packages (0.8.16)\n",
      "Requirement already satisfied: certifi in /opt/conda/envs/sp/lib/python3.12/site-packages (from clickhouse_connect) (2025.7.14)\n",
      "Requirement already satisfied: urllib3>=1.26 in /opt/conda/envs/sp/lib/python3.12/site-packages (from clickhouse_connect) (2.5.0)\n",
      "Requirement already satisfied: pytz in /opt/conda/envs/sp/lib/python3.12/site-packages (from clickhouse_connect) (2025.2)\n",
      "Requirement already satisfied: zstandard in /opt/conda/envs/sp/lib/python3.12/site-packages (from clickhouse_connect) (0.23.0)\n",
      "Requirement already satisfied: lz4 in /opt/conda/envs/sp/lib/python3.12/site-packages (from clickhouse_connect) (4.4.4)\n",
      "Requirement already satisfied: pyxlsb in /opt/conda/envs/sp/lib/python3.12/site-packages (1.0.10)\n",
      "Requirement already satisfied: osmium in /opt/conda/envs/sp/lib/python3.12/site-packages (4.0.2)\n",
      "Requirement already satisfied: shapely in /opt/conda/envs/sp/lib/python3.12/site-packages (2.0.6)\n",
      "Requirement already satisfied: requests in /opt/conda/envs/sp/lib/python3.12/site-packages (from osmium) (2.32.4)\n",
      "Requirement already satisfied: numpy<3,>=1.14 in /opt/conda/envs/sp/lib/python3.12/site-packages (from shapely) (2.0.1)\n",
      "Requirement already satisfied: charset_normalizer<4,>=2 in /opt/conda/envs/sp/lib/python3.12/site-packages (from requests->osmium) (3.4.2)\n",
      "Requirement already satisfied: idna<4,>=2.5 in /opt/conda/envs/sp/lib/python3.12/site-packages (from requests->osmium) (3.10)\n",
      "Requirement already satisfied: urllib3<3,>=1.21.1 in /opt/conda/envs/sp/lib/python3.12/site-packages (from requests->osmium) (2.5.0)\n",
      "Requirement already satisfied: certifi>=2017.4.17 in /opt/conda/envs/sp/lib/python3.12/site-packages (from requests->osmium) (2025.7.14)\n",
      "Requirement already satisfied: python-dotenv in /opt/conda/envs/sp/lib/python3.12/site-packages (1.1.1)\n"
     ]
    },
    {
     "name": "stderr",
     "output_type": "stream",
     "text": [
      "https://artifacts.unidata.ucar.edu/repository/unidata-all added as a remote repository with the name: repo-1\n",
      "Ivy Default Cache set to: /home/wattwillersci/.ivy2/cache\n",
      "The jars for the packages stored in: /home/wattwillersci/.ivy2/jars\n",
      "com.clickhouse.spark#clickhouse-spark-runtime-3.5_2.12 added as a dependency\n",
      "com.clickhouse#clickhouse-jdbc added as a dependency\n",
      "com.clickhouse#clickhouse-client added as a dependency\n",
      "com.clickhouse#clickhouse-http-client added as a dependency\n",
      "org.apache.httpcomponents.client5#httpclient5 added as a dependency\n",
      "org.apache.sedona#sedona-spark-3.5_2.12 added as a dependency\n",
      "org.datasyslab#geotools-wrapper added as a dependency\n",
      "uk.co.gresearch.spark#spark-extension_2.12 added as a dependency\n",
      ":: resolving dependencies :: org.apache.spark#spark-submit-parent-1b1f3cdc-89d6-4a96-bcde-f85d56c40692;1.0\n",
      "\tconfs: [default]\n"
     ]
    },
    {
     "name": "stdout",
     "output_type": "stream",
     "text": [
      ":: loading settings :: url = jar:file:/opt/conda/envs/sp/lib/python3.12/site-packages/pyspark/jars/ivy-2.5.1.jar!/org/apache/ivy/core/settings/ivysettings.xml\n"
     ]
    },
    {
     "name": "stderr",
     "output_type": "stream",
     "text": [
      "\tfound com.clickhouse.spark#clickhouse-spark-runtime-3.5_2.12;0.8.0 in central\n",
      "\tfound com.clickhouse#clickhouse-jdbc;0.7.0 in central\n",
      "\tfound com.clickhouse#clickhouse-client;0.7.0 in central\n",
      "\tfound com.clickhouse#clickhouse-data;0.7.0 in central\n",
      "\tfound com.clickhouse#clickhouse-http-client;0.7.0 in central\n",
      "\tfound org.apache.httpcomponents.client5#httpclient5;5.3.1 in central\n",
      "\tfound org.apache.httpcomponents.core5#httpcore5;5.2.4 in central\n",
      "\tfound org.apache.httpcomponents.core5#httpcore5-h2;5.2.4 in central\n",
      "\tfound org.slf4j#slf4j-api;1.7.36 in central\n",
      "\tfound org.apache.sedona#sedona-spark-3.5_2.12;1.7.0 in central\n",
      "\tfound org.apache.sedona#sedona-common;1.7.0 in central\n",
      "\tfound org.apache.commons#commons-math3;3.6.1 in central\n",
      "\tfound org.locationtech.jts#jts-core;1.20.0 in central\n",
      "\tfound org.wololo#jts2geojson;0.16.1 in central\n",
      "\tfound org.locationtech.spatial4j#spatial4j;0.8 in central\n",
      "\tfound com.google.geometry#s2-geometry;2.0.0 in central\n",
      "\tfound com.google.guava#guava;25.1-jre in central\n",
      "\tfound com.google.code.findbugs#jsr305;3.0.2 in central\n",
      "\tfound org.checkerframework#checker-qual;2.0.0 in central\n",
      "\tfound com.google.errorprone#error_prone_annotations;2.1.3 in central\n",
      "\tfound com.google.j2objc#j2objc-annotations;1.1 in central\n",
      "\tfound org.codehaus.mojo#animal-sniffer-annotations;1.14 in central\n",
      "\tfound com.uber#h3;4.1.1 in central\n",
      "\tfound net.sf.geographiclib#GeographicLib-Java;1.52 in central\n",
      "\tfound com.github.ben-manes.caffeine#caffeine;2.9.2 in central\n",
      "\tfound org.checkerframework#checker-qual;3.10.0 in central\n",
      "\tfound com.google.errorprone#error_prone_annotations;2.5.1 in central\n",
      "\tfound org.apache.sedona#sedona-spark-common-3.5_2.12;1.7.0 in central\n",
      "\tfound org.xerial#sqlite-jdbc;3.41.2.2 in central\n",
      "\tfound commons-lang#commons-lang;2.6 in central\n",
      "\tfound graphframes#graphframes;0.8.3-spark3.5-s_2.12 in spark-packages\n",
      "\tfound org.scala-lang.modules#scala-collection-compat_2.12;2.5.0 in central\n",
      "\tfound org.beryx#awt-color-factory;1.0.0 in central\n",
      "\tfound org.datasyslab#geotools-wrapper;1.7.0-28.5 in central\n",
      "\tfound uk.co.gresearch.spark#spark-extension_2.12;2.11.0-3.4 in central\n",
      "\tfound com.github.scopt#scopt_2.12;4.1.0 in central\n",
      ":: resolution report :: resolve 745ms :: artifacts dl 34ms\n",
      "\t:: modules in use:\n",
      "\tcom.clickhouse#clickhouse-client;0.7.0 from central in [default]\n",
      "\tcom.clickhouse#clickhouse-data;0.7.0 from central in [default]\n",
      "\tcom.clickhouse#clickhouse-http-client;0.7.0 from central in [default]\n",
      "\tcom.clickhouse#clickhouse-jdbc;0.7.0 from central in [default]\n",
      "\tcom.clickhouse.spark#clickhouse-spark-runtime-3.5_2.12;0.8.0 from central in [default]\n",
      "\tcom.github.ben-manes.caffeine#caffeine;2.9.2 from central in [default]\n",
      "\tcom.github.scopt#scopt_2.12;4.1.0 from central in [default]\n",
      "\tcom.google.code.findbugs#jsr305;3.0.2 from central in [default]\n",
      "\tcom.google.errorprone#error_prone_annotations;2.5.1 from central in [default]\n",
      "\tcom.google.geometry#s2-geometry;2.0.0 from central in [default]\n",
      "\tcom.google.guava#guava;25.1-jre from central in [default]\n",
      "\tcom.google.j2objc#j2objc-annotations;1.1 from central in [default]\n",
      "\tcom.uber#h3;4.1.1 from central in [default]\n",
      "\tcommons-lang#commons-lang;2.6 from central in [default]\n",
      "\tgraphframes#graphframes;0.8.3-spark3.5-s_2.12 from spark-packages in [default]\n",
      "\tnet.sf.geographiclib#GeographicLib-Java;1.52 from central in [default]\n",
      "\torg.apache.commons#commons-math3;3.6.1 from central in [default]\n",
      "\torg.apache.httpcomponents.client5#httpclient5;5.3.1 from central in [default]\n",
      "\torg.apache.httpcomponents.core5#httpcore5;5.2.4 from central in [default]\n",
      "\torg.apache.httpcomponents.core5#httpcore5-h2;5.2.4 from central in [default]\n",
      "\torg.apache.sedona#sedona-common;1.7.0 from central in [default]\n",
      "\torg.apache.sedona#sedona-spark-3.5_2.12;1.7.0 from central in [default]\n",
      "\torg.apache.sedona#sedona-spark-common-3.5_2.12;1.7.0 from central in [default]\n",
      "\torg.beryx#awt-color-factory;1.0.0 from central in [default]\n",
      "\torg.checkerframework#checker-qual;3.10.0 from central in [default]\n",
      "\torg.codehaus.mojo#animal-sniffer-annotations;1.14 from central in [default]\n",
      "\torg.datasyslab#geotools-wrapper;1.7.0-28.5 from central in [default]\n",
      "\torg.locationtech.jts#jts-core;1.20.0 from central in [default]\n",
      "\torg.locationtech.spatial4j#spatial4j;0.8 from central in [default]\n",
      "\torg.scala-lang.modules#scala-collection-compat_2.12;2.5.0 from central in [default]\n",
      "\torg.slf4j#slf4j-api;1.7.36 from central in [default]\n",
      "\torg.wololo#jts2geojson;0.16.1 from central in [default]\n",
      "\torg.xerial#sqlite-jdbc;3.41.2.2 from central in [default]\n",
      "\tuk.co.gresearch.spark#spark-extension_2.12;2.11.0-3.4 from central in [default]\n",
      "\t:: evicted modules:\n",
      "\tcom.clickhouse#clickhouse-http-client;0.7.0-SNAPSHOT by [com.clickhouse#clickhouse-http-client;0.7.0] in [default]\n",
      "\torg.checkerframework#checker-qual;2.0.0 by [org.checkerframework#checker-qual;3.10.0] in [default]\n",
      "\tcom.google.errorprone#error_prone_annotations;2.1.3 by [com.google.errorprone#error_prone_annotations;2.5.1] in [default]\n",
      "\t---------------------------------------------------------------------\n",
      "\t|                  |            modules            ||   artifacts   |\n",
      "\t|       conf       | number| search|dwnlded|evicted|| number|dwnlded|\n",
      "\t---------------------------------------------------------------------\n",
      "\t|      default     |   37  |   0   |   0   |   3   ||   34  |   0   |\n",
      "\t---------------------------------------------------------------------\n",
      ":: retrieving :: org.apache.spark#spark-submit-parent-1b1f3cdc-89d6-4a96-bcde-f85d56c40692\n",
      "\tconfs: [default]\n",
      "\t0 artifacts copied, 34 already retrieved (0kB/20ms)\n",
      "25/08/23 19:10:51 WARN NativeCodeLoader: Unable to load native-hadoop library for your platform... using builtin-java classes where applicable\n",
      "Setting default log level to \"WARN\".\n",
      "To adjust logging level use sc.setLogLevel(newLevel). For SparkR, use setLogLevel(newLevel).\n",
      "25/08/23 19:10:52 WARN Utils: Service 'SparkUI' could not bind on port 4040. Attempting port 4041.\n",
      "/var/tmp/ipykernel_8763/236467048.py:95: DeprecationWarning: Call to deprecated function registerAll (Deprecated since 1.4.1, use SedonaContext.create() instead.).\n",
      "  SedonaRegistrator.registerAll(spark)\n",
      "                                                                                \r"
     ]
    }
   ],
   "source": [
    "# conda install -c conda-forge pyspark \n",
    "# import findspark\n",
    "# findspark.init()\n",
    "from sedona.spark import SedonaContext\n",
    "from sedona.register import SedonaRegistrator\n",
    "from sedona.utils import SedonaKryoRegistrator, KryoSerializer\n",
    "from pyspark import SparkContext, SparkConf, SQLContext\n",
    "from pyspark.sql import SparkSession\n",
    "from pyspark.sql import functions as F\n",
    "from pyspark.sql.functions import monotonically_increasing_id\n",
    "from pyspark.sql.types import StructType, StructField, StringType, IntegerType, DoubleType, BooleanType, LongType, ArrayType\n",
    "from pyspark.sql import Row\n",
    "from pprint import pprint\n",
    "from time import sleep\n",
    "from pyspark.sql.window import Window\n",
    "import pandas as pd\n",
    "# import Transformer\n",
    "import geopandas as gpd\n",
    "from pyproj import Transformer\n",
    "pd.set_option('display.max_columns', None)\n",
    "import os\n",
    "import re\n",
    "from sklearn.cluster import DBSCAN\n",
    "import geopandas as gpd\n",
    "from pyspark.sql.functions import col, udf\n",
    "!pip install clickhouse_connect\n",
    "!pip install pyxlsb\n",
    "!pip install osmium shapely\n",
    "!pip install python-dotenv\n",
    "import clickhouse_connect\n",
    "from pyspark.sql.functions import split, col\n",
    "from pyspark.sql.functions import sum, avg, count\n",
    "from pyspark.sql.functions import udf\n",
    "from pyspark.sql.types import DoubleType\n",
    "import os\n",
    "from dotenv import load_dotenv\n",
    "from pyspark.sql import Window\n",
    "from pyspark.sql.functions import row_number, rank, dense_rank\n",
    "from pyspark.sql.functions import col, split, when, last, monotonically_increasing_id, expr \n",
    "from pyspark.sql import functions as F\n",
    "from pyspark.sql.types import DoubleType, StringType\n",
    "import pyspark.sql.functions as F\n",
    "import builtins \n",
    "from collections import Counter\n",
    "from pyspark.sql.functions import to_date, year, month, dayofmonth\n",
    "\n",
    "\n",
    "import osmnx as ox\n",
    "import geopandas as gpd\n",
    "\n",
    "load_dotenv('../.env')\n",
    "\n",
    "CH_IP = os.getenv('CH_IP')\n",
    "CLICKHOUSE_USER = os.getenv('CLICKHOUSE_USER')\n",
    "CLICKHOUSE_PASSWORD = os.getenv('CLICKHOUSE_PASSWORD')\n",
    "\n",
    "client = clickhouse_connect.get_client(host=CH_IP, port=8123, username=CLICKHOUSE_USER, password=CLICKHOUSE_PASSWORD)\n",
    "\n",
    "packages = [\n",
    "        \"com.clickhouse.spark:clickhouse-spark-runtime-3.5_2.12:0.8.0\"\n",
    "        ,\"com.clickhouse:clickhouse-jdbc:0.7.0\"\n",
    "        ,\"com.clickhouse:clickhouse-client:0.7.0\"\n",
    "        ,\"com.clickhouse:clickhouse-http-client:0.7.0\"\n",
    "        ,\"org.apache.httpcomponents.client5:httpclient5:5.3.1\"\n",
    "        ,'org.apache.sedona:sedona-spark-3.5_2.12:1.7.0'\n",
    "        ,'org.datasyslab:geotools-wrapper:1.7.0-28.5'\n",
    "        ,'uk.co.gresearch.spark:spark-extension_2.12:2.11.0-3.4'\n",
    "    ]\n",
    "\n",
    "ram = 80\n",
    "cpu = 4*3\n",
    "\n",
    "spark = (\n",
    "    SparkSession.builder\n",
    "        .appName('appName')\n",
    "        .master(f\"spark://127.0.0.1:7077\")\n",
    "        .config(\"spark.jars.packages\", ','.join(packages))\n",
    "        .config('spark.jars.repositories', 'https://artifacts.unidata.ucar.edu/repository/unidata-all')\n",
    "        .config(\"spark.sql.catalog.clickhouse\", \"com.clickhouse.spark.ClickHouseCatalog\")\n",
    "        .config(\"spark.sql.catalog.clickhouse.host\", f\"{CH_IP}\")\n",
    "        .config(\"spark.sql.catalog.clickhouse.protocol\", \"http\")\n",
    "        .config(\"spark.sql.catalog.clickhouse.http_port\", \"8123\")\n",
    "        .config(\"spark.sql.catalog.clickhouse.user\", f\"{CLICKHOUSE_USER}\")\n",
    "        .config(\"spark.sql.catalog.clickhouse.password\", f\"{CLICKHOUSE_PASSWORD}\")\n",
    "        .config(\"spark.sql.catalog.clickhouse.database\", \"default\")\n",
    "        .config(\"spark.executor.memory\", f\"{ram}g\")\n",
    "        .config(\"spark.driver.memory\", f\"{ram}g\")\n",
    "        .config(\"spark.driver.maxResultSize\", f\"{ram}g\")\n",
    "        .config(\"spark.executor.memoryOverhead\", f\"{ram}g\")\n",
    "        .config(\"spark.clickhouse.write.format\", \"json\")\n",
    "        .getOrCreate()\n",
    "    )\n",
    "\n",
    "#sedona = SedonaContext.create(spark) \n",
    "SedonaRegistrator.registerAll(spark)\n",
    "spark.sql(\"use clickhouse\")\n",
    "base = '/home/wattwillersci'\n",
    "path_data = f\"{base}/data\"\n"
   ]
  },
  {
   "cell_type": "code",
   "execution_count": null,
   "metadata": {},
   "outputs": [],
   "source": []
  },
  {
   "cell_type": "code",
   "execution_count": null,
   "metadata": {},
   "outputs": [],
   "source": []
  },
  {
   "cell_type": "markdown",
   "metadata": {},
   "source": [
    "### Working with multiple years dataset"
   ]
  },
  {
   "cell_type": "code",
   "execution_count": 2,
   "metadata": {},
   "outputs": [
    {
     "name": "stderr",
     "output_type": "stream",
     "text": [
      "25/07/28 21:41:20 WARN SparkStringUtils: Truncated the string representation of a plan since it was too large. This behavior can be adjusted by setting 'spark.sql.debug.maxToStringFields'.\n"
     ]
    },
    {
     "name": "stdout",
     "output_type": "stream",
     "text": [
      "+----------+-----------+-------------+------------+-------------------+------------+------------+----------------+----------+-----------+-----------------+----------------+-----+-----------+-----------------+--------------------+--------+--------------------+-----+--------------------+--------------------+----------+------------+--------------+---------+--------+----------------+-------------+--------+-------+----------+----------+----------------+-----------------+--------------------+------------------------+\n",
      "|CMPLNT_NUM|ADDR_PCT_CD|      BORO_NM|CMPLNT_FR_DT|       CMPLNT_FR_TM|CMPLNT_TO_DT|CMPLNT_TO_TM|CRM_ATPT_CPTD_CD|HADEVELOPT|HOUSING_PSA|JURISDICTION_CODE|      JURIS_DESC|KY_CD| LAW_CAT_CD|LOC_OF_OCCUR_DESC|           OFNS_DESC|PARKS_NM|         PATROL_BORO|PD_CD|             PD_DESC|       PREM_TYP_DESC|    RPT_DT|STATION_NAME|SUSP_AGE_GROUP|SUSP_RACE|SUSP_SEX|TRANSIT_DISTRICT|VIC_AGE_GROUP|VIC_RACE|VIC_SEX|X_COORD_CD|Y_COORD_CD|        Latitude|        Longitude|             Lat_Lon|New Georeferenced Column|\n",
      "+----------+-----------+-------------+------------+-------------------+------------+------------+----------------+----------+-----------+-----------------+----------------+-----+-----------+-----------------+--------------------+--------+--------------------+-----+--------------------+--------------------+----------+------------+--------------+---------+--------+----------------+-------------+--------+-------+----------+----------+----------------+-----------------+--------------------+------------------------+\n",
      "| 301189557|        122|STATEN ISLAND|  02/16/2025|2025-07-28 21:45:00|  02/16/2025|    22:04:00|       COMPLETED|    (null)|       NULL|                0|N.Y. POLICE DEPT|  117|     FELONY|         FRONT OF|     DANGEROUS DRUGS|  (null)|PATROL BORO STATE...|  503|CONTROLLED SUBSTA...|              STREET|02/16/2025|      (null)|         25-44|    BLACK|       M|            NULL|      UNKNOWN| UNKNOWN|      E|    951236|    159312|       40.603899|       -74.118892|(40.603899, -74.1...|    POINT (-74.118892...|\n",
      "| 301604313|          7|    MANHATTAN|  02/24/2025|2025-07-28 00:00:00|  02/24/2025|    00:20:00|       COMPLETED|    (null)|       NULL|                0|N.Y. POLICE DEPT|  105|     FELONY|         FRONT OF|             ROBBERY|  (null)|PATROL BORO MAN S...|  382|ROBBERY,NECKCHAIN...|      GROCERY/BODEGA|02/24/2025|      (null)|       UNKNOWN|    BLACK|       M|            NULL|        25-44|   BLACK|      M|    987191|    201195|       40.718919|       -73.989391|(40.718919, -73.9...|    POINT (-73.989391...|\n",
      "| 301449652|        122|STATEN ISLAND|  02/21/2025|2025-07-28 04:50:00|        NULL|      (null)|       COMPLETED|    (null)|       NULL|                0|N.Y. POLICE DEPT|  107|     FELONY|           INSIDE|            BURGLARY|  (null)|PATROL BORO STATE...|  213|BURGLARY,COMMERCI...|          DRUG STORE|02/21/2025|      (null)|       UNKNOWN|  UNKNOWN|       U|            NULL|      UNKNOWN| UNKNOWN|      D|    960224|    156401|       40.595937|       -74.086513|(40.595937, -74.0...|    POINT (-74.086513...|\n",
      "| 302998076|         14|    MANHATTAN|  03/17/2025|2025-07-28 10:45:00|  03/17/2025|    10:45:00|       COMPLETED|    (null)|       NULL|               17| MTA POLICE DEPT|  351|MISDEMEANOR|         FRONT OF|CRIMINAL MISCHIEF...|  (null)|PATROL BORO MAN S...|  254|MISCHIEF, CRIMINA...|              STREET|03/17/2025|      (null)|         45-64|    BLACK|       M|            NULL|        25-44|   BLACK|      M|    990513|    213251|       40.752009|       -73.977394|(40.752009, -73.9...|    POINT (-73.977394...|\n",
      "| 298992911|         60|     BROOKLYN|  01/05/2025|2025-07-28 00:01:00|  01/05/2025|    23:59:00|       COMPLETED|    (null)|       NULL|                0|N.Y. POLICE DEPT|  104|     FELONY|           INSIDE|                RAPE|  (null)|PATROL BORO BKLYN...|  155|              RAPE 2|RESIDENCE - APT. ...|01/06/2025|      (null)|       UNKNOWN|    BLACK|       M|            NULL|          <18|   BLACK|      F|    990784|    149362|40.5766459780433|-73.9764803960699|(40.5766459780433...|    POINT (-73.976480...|\n",
      "+----------+-----------+-------------+------------+-------------------+------------+------------+----------------+----------+-----------+-----------------+----------------+-----+-----------+-----------------+--------------------+--------+--------------------+-----+--------------------+--------------------+----------+------------+--------------+---------+--------+----------------+-------------+--------+-------+----------+----------+----------------+-----------------+--------------------+------------------------+\n",
      "only showing top 5 rows\n",
      "\n"
     ]
    }
   ],
   "source": [
    "nyc_crime = spark.read.csv(f\"{path_data}/NYPD_currentyear.csv\", header=True, inferSchema=True)\n",
    "nyc_crime.show(5)"
   ]
  },
  {
   "cell_type": "code",
   "execution_count": 3,
   "metadata": {},
   "outputs": [],
   "source": [
    "nyc_crime.createOrReplaceTempView(\"nyc_crime_years\")"
   ]
  },
  {
   "cell_type": "code",
   "execution_count": 4,
   "metadata": {},
   "outputs": [
    {
     "name": "stdout",
     "output_type": "stream",
     "text": [
      "+--------------------+--------+------+\n",
      "|            geometry|OBJECTID|BoroCD|\n",
      "+--------------------+--------+------+\n",
      "|POLYGON ((-73.970...|       1|   308|\n",
      "|POLYGON ((-73.801...|       2|   410|\n",
      "|POLYGON ((-73.881...|       3|   206|\n",
      "|POLYGON ((-73.867...|       4|   480|\n",
      "|POLYGON ((-73.984...|       5|   104|\n",
      "|POLYGON ((-73.980...|       6|   107|\n",
      "|POLYGON ((-74.193...|       7|   503|\n",
      "|MULTIPOLYGON (((-...|       8|   595|\n",
      "|POLYGON ((-73.877...|       9|   207|\n",
      "|POLYGON ((-73.925...|      10|   317|\n",
      "|POLYGON ((-73.840...|      11|   481|\n",
      "|POLYGON ((-73.872...|      12|   227|\n",
      "|POLYGON ((-73.820...|      13|   409|\n",
      "|POLYGON ((-73.903...|      14|   316|\n",
      "|POLYGON ((-73.728...|      15|   413|\n",
      "|POLYGON ((-73.799...|      16|   483|\n",
      "|POLYGON ((-73.895...|      17|   208|\n",
      "|POLYGON ((-73.878...|      18|   226|\n",
      "|POLYGON ((-73.991...|      19|   312|\n",
      "|POLYGON ((-73.959...|      20|   314|\n",
      "+--------------------+--------+------+\n",
      "only showing top 20 rows\n",
      "\n"
     ]
    }
   ],
   "source": [
    "nyc_districts = (\n",
    "    spark.read.format(\"geojson\").option(\"multiLine\", \"true\").load(f\"{path_data}/nyc_districts.json\")\n",
    "    .selectExpr(\"explode(features) as features\")\n",
    "    .select(\"features.*\")\n",
    "    .withColumn(\"OBJECTID\", expr(\"properties['OBJECTID']\"))\n",
    "    .withColumn(\"BoroCD\", expr(\"properties['BoroCD']\"))\n",
    "    .drop(\"properties\")\n",
    "    .drop(\"type\")\n",
    "    .drop(\"id\")\n",
    ")\n",
    "nyc_districts.show(truncate=True)"
   ]
  },
  {
   "cell_type": "code",
   "execution_count": 5,
   "metadata": {},
   "outputs": [],
   "source": [
    "nyc_districts.createOrReplaceTempView(\"nyc_districts\")"
   ]
  },
  {
   "cell_type": "code",
   "execution_count": 6,
   "metadata": {},
   "outputs": [
    {
     "name": "stderr",
     "output_type": "stream",
     "text": [
      "                                                                                \r"
     ]
    },
    {
     "name": "stdout",
     "output_type": "stream",
     "text": [
      "+----------+-----------+-------------+------------+-------------------+------------+------------+----------------+----------+-----------+-----------------+----------------+-----+-----------+-----------------+--------------------+--------+--------------------+-----+--------------------+--------------------+----------+------------+--------------+---------+--------+----------------+-------------+--------+-------+----------+----------+----------------+-----------------+--------------------+------------------------+--------------------+--------+----------+\n",
      "|CMPLNT_NUM|ADDR_PCT_CD|      BORO_NM|CMPLNT_FR_DT|       CMPLNT_FR_TM|CMPLNT_TO_DT|CMPLNT_TO_TM|CRM_ATPT_CPTD_CD|HADEVELOPT|HOUSING_PSA|JURISDICTION_CODE|      JURIS_DESC|KY_CD| LAW_CAT_CD|LOC_OF_OCCUR_DESC|           OFNS_DESC|PARKS_NM|         PATROL_BORO|PD_CD|             PD_DESC|       PREM_TYP_DESC|    RPT_DT|STATION_NAME|SUSP_AGE_GROUP|SUSP_RACE|SUSP_SEX|TRANSIT_DISTRICT|VIC_AGE_GROUP|VIC_RACE|VIC_SEX|X_COORD_CD|Y_COORD_CD|        Latitude|        Longitude|             Lat_Lon|New Georeferenced Column|                geom|district|intersects|\n",
      "+----------+-----------+-------------+------------+-------------------+------------+------------+----------------+----------+-----------+-----------------+----------------+-----+-----------+-----------------+--------------------+--------+--------------------+-----+--------------------+--------------------+----------+------------+--------------+---------+--------+----------------+-------------+--------+-------+----------+----------+----------------+-----------------+--------------------+------------------------+--------------------+--------+----------+\n",
      "| 301189557|        122|STATEN ISLAND|  02/16/2025|2025-07-28 21:45:00|  02/16/2025|    22:04:00|       COMPLETED|    (null)|       NULL|                0|N.Y. POLICE DEPT|  117|     FELONY|         FRONT OF|     DANGEROUS DRUGS|  (null)|PATROL BORO STATE...|  503|CONTROLLED SUBSTA...|              STREET|02/16/2025|      (null)|         25-44|    BLACK|       M|            NULL|      UNKNOWN| UNKNOWN|      E|    951236|    159312|       40.603899|       -74.118892|(40.603899, -74.1...|    POINT (-74.118892...|POINT (-74.118892...|     502|      true|\n",
      "| 301604313|          7|    MANHATTAN|  02/24/2025|2025-07-28 00:00:00|  02/24/2025|    00:20:00|       COMPLETED|    (null)|       NULL|                0|N.Y. POLICE DEPT|  105|     FELONY|         FRONT OF|             ROBBERY|  (null)|PATROL BORO MAN S...|  382|ROBBERY,NECKCHAIN...|      GROCERY/BODEGA|02/24/2025|      (null)|       UNKNOWN|    BLACK|       M|            NULL|        25-44|   BLACK|      M|    987191|    201195|       40.718919|       -73.989391|(40.718919, -73.9...|    POINT (-73.989391...|POINT (-73.989391...|     103|      true|\n",
      "| 301449652|        122|STATEN ISLAND|  02/21/2025|2025-07-28 04:50:00|        NULL|      (null)|       COMPLETED|    (null)|       NULL|                0|N.Y. POLICE DEPT|  107|     FELONY|           INSIDE|            BURGLARY|  (null)|PATROL BORO STATE...|  213|BURGLARY,COMMERCI...|          DRUG STORE|02/21/2025|      (null)|       UNKNOWN|  UNKNOWN|       U|            NULL|      UNKNOWN| UNKNOWN|      D|    960224|    156401|       40.595937|       -74.086513|(40.595937, -74.0...|    POINT (-74.086513...|POINT (-74.086513...|     502|      true|\n",
      "| 302998076|         14|    MANHATTAN|  03/17/2025|2025-07-28 10:45:00|  03/17/2025|    10:45:00|       COMPLETED|    (null)|       NULL|               17| MTA POLICE DEPT|  351|MISDEMEANOR|         FRONT OF|CRIMINAL MISCHIEF...|  (null)|PATROL BORO MAN S...|  254|MISCHIEF, CRIMINA...|              STREET|03/17/2025|      (null)|         45-64|    BLACK|       M|            NULL|        25-44|   BLACK|      M|    990513|    213251|       40.752009|       -73.977394|(40.752009, -73.9...|    POINT (-73.977394...|POINT (-73.977394...|     105|      true|\n",
      "| 298992911|         60|     BROOKLYN|  01/05/2025|2025-07-28 00:01:00|  01/05/2025|    23:59:00|       COMPLETED|    (null)|       NULL|                0|N.Y. POLICE DEPT|  104|     FELONY|           INSIDE|                RAPE|  (null)|PATROL BORO BKLYN...|  155|              RAPE 2|RESIDENCE - APT. ...|01/06/2025|      (null)|       UNKNOWN|    BLACK|       M|            NULL|          <18|   BLACK|      F|    990784|    149362|40.5766459780433|-73.9764803960699|(40.5766459780433...|    POINT (-73.976480...|POINT (-73.976480...|     313|      true|\n",
      "+----------+-----------+-------------+------------+-------------------+------------+------------+----------------+----------+-----------+-----------------+----------------+-----+-----------+-----------------+--------------------+--------+--------------------+-----+--------------------+--------------------+----------+------------+--------------+---------+--------+----------------+-------------+--------+-------+----------+----------+----------------+-----------------+--------------------+------------------------+--------------------+--------+----------+\n",
      "only showing top 5 rows\n",
      "\n"
     ]
    }
   ],
   "source": [
    "crime_nyc = spark.sql(\"\"\"\n",
    "    with crimes as (\n",
    "                    select *\n",
    "            ,ST_Point(Longitude , Latitude) as geom\n",
    "        from nyc_crime_years\n",
    "        where Latitude is not null or Longitude is not null\n",
    "        and year(to_date(CMPLNT_FR_DT, 'MM/dd/yyyy')) != 1025\n",
    "    ),\n",
    "    districs as (\n",
    "    select \n",
    "        OBJECTID\n",
    "        ,BoroCD as district\n",
    "        ,geometry as geom\n",
    "    from nyc_districts\n",
    "    )\n",
    "                      select\n",
    "                        crimes.*\n",
    "                      , districs.district\n",
    "                        , ST_Intersects(crimes.geom, districs.geom) as intersects\n",
    "                      from crimes\n",
    "                      join districs on ST_Intersects(crimes.geom, districs.geom)\n",
    "\"\"\")\n",
    "\n",
    "crime_nyc.write.mode('overwrite').parquet(f\"{path_data}/crime_nyc_years.parquet\")\n",
    "crime_nyc.show(5)"
   ]
  },
  {
   "cell_type": "code",
   "execution_count": 11,
   "metadata": {},
   "outputs": [
    {
     "name": "stderr",
     "output_type": "stream",
     "text": [
      "                                                                                \r"
     ]
    },
    {
     "data": {
      "text/plain": [
       "71"
      ]
     },
     "execution_count": 11,
     "metadata": {},
     "output_type": "execute_result"
    }
   ],
   "source": [
    "crime_nyc.select(\"District\").distinct().count()"
   ]
  },
  {
   "cell_type": "code",
   "execution_count": null,
   "metadata": {},
   "outputs": [
    {
     "name": "stderr",
     "output_type": "stream",
     "text": [
      "25/07/29 16:29:33 WARN SparkStringUtils: Truncated the string representation of a plan since it was too large. This behavior can be adjusted by setting 'spark.sql.debug.maxToStringFields'.\n",
      "[Stage 4:>                                                          (0 + 1) / 1]\r"
     ]
    },
    {
     "name": "stdout",
     "output_type": "stream",
     "text": [
      "+----------+-----------+---------+------------+-------------------+------------+------------+----------------+----------+-----------+-----------------+-------------------+-----+----------+-----------------+--------------------+--------+--------------------+-----+--------------------+--------------------+----------+------------+--------------+---------+--------+----------------+-------------+--------------------+-------+----------+----------+-----------------+------------------+--------------------+------------------------+--------------------+--------+----------+\n",
      "|CMPLNT_NUM|ADDR_PCT_CD|  BORO_NM|CMPLNT_FR_DT|       CMPLNT_FR_TM|CMPLNT_TO_DT|CMPLNT_TO_TM|CRM_ATPT_CPTD_CD|HADEVELOPT|HOUSING_PSA|JURISDICTION_CODE|         JURIS_DESC|KY_CD|LAW_CAT_CD|LOC_OF_OCCUR_DESC|           OFNS_DESC|PARKS_NM|         PATROL_BORO|PD_CD|             PD_DESC|       PREM_TYP_DESC|    RPT_DT|STATION_NAME|SUSP_AGE_GROUP|SUSP_RACE|SUSP_SEX|TRANSIT_DISTRICT|VIC_AGE_GROUP|            VIC_RACE|VIC_SEX|X_COORD_CD|Y_COORD_CD|         Latitude|         Longitude|             Lat_Lon|New Georeferenced Column|                geom|district|intersects|\n",
      "+----------+-----------+---------+------------+-------------------+------------+------------+----------------+----------+-----------+-----------------+-------------------+-----+----------+-----------------+--------------------+--------+--------------------+-----+--------------------+--------------------+----------+------------+--------------+---------+--------+----------------+-------------+--------------------+-------+----------+----------+-----------------+------------------+--------------------+------------------------+--------------------+--------+----------+\n",
      "| 303240228|         63| BROOKLYN|  03/20/2025|2025-07-28 03:05:00|        NULL|      (null)|       COMPLETED|    (null)|       NULL|               11|  N.Y. STATE POLICE|  111|    FELONY|           (null)|POSSESSION OF STO...|  (null)|PATROL BORO BKLYN...|  494|STOLEN PROPERTY 2...|              STREET|03/20/2025|      (null)|         18-24|    BLACK|       M|            NULL|      UNKNOWN|             UNKNOWN|      E|   1009834|    156615|      40.59651127|      -73.90787551|(40.59651127, -73...|    POINT (-73.907875...|POINT (-73.907875...|     356|      true|\n",
      "| 298937675|        109|   QUEENS|  01/05/2025|2025-07-28 18:40:00|  01/05/2025|    18:50:00|       COMPLETED|    (null)|       NULL|                0|   N.Y. POLICE DEPT|  110|    FELONY|         FRONT OF|GRAND LARCENY OF ...|  (null)|PATROL BORO QUEEN...|  450|LARCENY, GRAND OF...|              STREET|01/05/2025|      (null)|        (null)|   (null)|  (null)|            NULL|        45-64|ASIAN / PACIFIC I...|      M|   1031811|    213643|         40.75296|        -73.828337|(40.75296, -73.82...|    POINT (-73.828337...|POINT (-73.828337...|     407|      true|\n",
      "| 300990025|         43|    BRONX|  02/10/2025|2025-07-28 20:00:00|  02/12/2025|    17:43:00|       COMPLETED|    (null)|       NULL|                0|   N.Y. POLICE DEPT|  110|    FELONY|           (null)|GRAND LARCENY OF ...|  (null)|   PATROL BORO BRONX|  441|LARCENY,GRAND OF ...|              STREET|02/12/2025|      (null)|       UNKNOWN|  UNKNOWN|       U|            NULL|        25-44|               BLACK|      M|   1017516|    237743|40.81916259403482|-73.87981290417615|(40.8191625940348...|    POINT (-73.879812...|POINT (-73.879812...|     209|      true|\n",
      "| 300734579|         84| BROOKLYN|  02/07/2025|2025-07-28 14:10:00|        NULL|      (null)|       COMPLETED|    (null)|       NULL|                0|   N.Y. POLICE DEPT|  117|    FELONY|           INSIDE|     DANGEROUS DRUGS|  (null)|PATROL BORO BKLYN...|  521|CONTROLLED SUBSTA...|RESIDENCE - APT. ...|02/07/2025|      (null)|        (null)|   (null)|  (null)|            NULL|      UNKNOWN|             UNKNOWN|      E|    989235|    189578|        40.687033|        -73.982026|(40.687033, -73.9...|    POINT (-73.982026...|POINT (-73.982026...|     302|      true|\n",
      "| 300962402|         24|MANHATTAN|  02/12/2025|2025-07-28 06:28:00|  02/12/2025|    06:58:00|       COMPLETED|    (null)|        697|                2|N.Y. HOUSING POLICE|  106|    FELONY|           INSIDE|      FELONY ASSAULT|  (null)|PATROL BORO MAN N...|  109|ASSAULT 2,1,UNCLA...|RESIDENCE - PUBLI...|02/12/2025|      (null)|         25-44|    BLACK|       F|            NULL|        25-44|               BLACK|      M|    993290|    230079|        40.798194|         -73.96735|(40.798194, -73.9...|    POINT (-73.96735 ...|POINT (-73.96735 ...|     107|      true|\n",
      "+----------+-----------+---------+------------+-------------------+------------+------------+----------------+----------+-----------+-----------------+-------------------+-----+----------+-----------------+--------------------+--------+--------------------+-----+--------------------+--------------------+----------+------------+--------------+---------+--------+----------------+-------------+--------------------+-------+----------+----------+-----------------+------------------+--------------------+------------------------+--------------------+--------+----------+\n",
      "only showing top 5 rows\n",
      "\n"
     ]
    },
    {
     "name": "stderr",
     "output_type": "stream",
     "text": [
      "                                                                                \r"
     ]
    }
   ],
   "source": [
    "crime_nyc = spark.read.parquet(f\"{path_data}/crime_nyc_years.parquet\")\n",
    "crime_nyc.show(5)"
   ]
  },
  {
   "cell_type": "code",
   "execution_count": 3,
   "metadata": {},
   "outputs": [],
   "source": [
    "crime_nyc.createOrReplaceTempView(\"crime_nyc_years\")"
   ]
  },
  {
   "cell_type": "code",
   "execution_count": 4,
   "metadata": {},
   "outputs": [
    {
     "name": "stderr",
     "output_type": "stream",
     "text": [
      "                                                                                \r"
     ]
    },
    {
     "name": "stdout",
     "output_type": "stream",
     "text": [
      "+---+---+---+--------+\n",
      "|  R|  G|  B|District|\n",
      "+---+---+---+--------+\n",
      "|254|255|255|     201|\n",
      "|255|254|255|     201|\n",
      "|253|255|254|     201|\n",
      "|255|255|253|     201|\n",
      "|255|255|253|     201|\n",
      "|254|254|255|     201|\n",
      "|254|255|255|     201|\n",
      "|255|255|253|     201|\n",
      "|255|254|255|     201|\n",
      "|254|255|255|     201|\n",
      "|255|253|254|     201|\n",
      "|255|255|251|     201|\n",
      "|254|255|255|     201|\n",
      "|254|255|255|     201|\n",
      "|254|255|253|     201|\n",
      "|255|254|255|     201|\n",
      "|255|254|252|     201|\n",
      "|254|255|255|     201|\n",
      "|254|255|255|     201|\n",
      "|253|254|255|     201|\n",
      "+---+---+---+--------+\n",
      "only showing top 20 rows\n",
      "\n"
     ]
    }
   ],
   "source": [
    "df_px = spark.read.csv(f\"{path_data}/rgb_districtsnyc.csv\", header=True, inferSchema=True)\n",
    "df_px.show()"
   ]
  },
  {
   "cell_type": "code",
   "execution_count": 5,
   "metadata": {},
   "outputs": [
    {
     "name": "stderr",
     "output_type": "stream",
     "text": [
      "[Stage 8:>                                                          (0 + 1) / 1]\r"
     ]
    },
    {
     "name": "stdout",
     "output_type": "stream",
     "text": [
      "+--------+------------------+------------------+--------+-----+-----+------------------+------------------+--------+-----+-----+------------------+------------------+--------+-----+-----+------------------+--------------------+\n",
      "|District|             R_avg|          R_stddev|R_median|R_q25|R_q75|             G_avg|          G_stddev|G_median|G_q25|G_q75|             B_avg|          B_stddev|B_median|B_q25|B_q75|    brightness_avg|    dark_pixel_ratio|\n",
      "+--------+------------------+------------------+--------+-----+-----+------------------+------------------+--------+-----+-----+------------------+------------------+--------+-----+-----+------------------+--------------------+\n",
      "|     211| 152.5937747819191| 56.98654506605884|     135|  107|  191|125.04837430610627| 68.84321103108333|     100|   71|  165| 78.88996827914353| 86.02875245369897|      39|   18|  109|118.84403912238967| 0.06641554321966693|\n",
      "|     210|169.54456951627623|  64.3848252890404|     157|  113|  250|146.81959233343474| 77.74560168479654|     121|   78|  249|106.82658959537572|102.90904923822526|      49|   17|  249|141.06358381502923| 0.04806814724672954|\n",
      "|     406|177.22461463175924| 58.75216079751365|     169|  124|  251|150.00415953021778| 72.88280867673042|     126|   86|  248|107.46709077563004| 96.52238881605683|      58|   30|  245| 144.8986216458691|0.016148764374847076|\n",
      "|     501|149.86373707533235| 68.76121319438278|     126|   93|  224|129.16728212703103| 79.88383055344983|      96|   63|  219| 97.32791728212703| 96.78866724048306|      43|   21|  206| 125.4529788281635| 0.13847858197932053|\n",
      "|     409|170.17024158952358| 58.08453259123121|     148|  120|  244|143.34906299390383| 74.13394020603737|     108|   81|  239|102.53149695190788| 97.40702705473618|      49|   25|  232|138.68360051177868|0.009934522465567848|\n",
      "|     209|172.18207088255733| 52.85206998242806|     165|  127|  215|143.04864489228632| 62.83710599980696|     128|   93|  181| 87.47498262682419| 84.44492177017631|      52|   27|  117|134.23523280055565|0.014767199444058373|\n",
      "|     305|172.15815976195927|54.807980889102545|     161|  124|  223|141.93293659876403| 67.55695153797478|     121|   86|  191| 91.67269398031586|   89.788128146953|      49|   25|  140| 135.2545967803463|0.011902037079423208|\n",
      "|     206|184.46749482401657|  48.7574573071514|     176|  147|  235| 159.3407867494824| 61.34480398683132|     139|  112|  226|109.43975155279503| 88.94277081623054|      69|   41|  205| 151.0826777087648|0.002070393374741201|\n",
      "|     212|        154.878125| 68.25876897629148|     130|   96|  238|132.53993055555554|  79.7260884937814|      98|   65|  229| 96.60972222222222|  97.7481067238964|      43|   21|  220|128.00925925925955| 0.11284722222222222|\n",
      "|     205|183.97471554993678| 52.86268158259936|     177|  139|  247|162.35145385587865|  64.5283997227383|     147|  106|  243|118.52170248630425| 89.57144108180529|      82|   44|  235| 154.9492906307071|0.005478297513695744|\n",
      "|     308|184.22156773901224| 54.33641828821146|     177|  142|  251|162.32079746261894| 66.58011375951904|     147|  109|  249|123.93611236973267| 88.58731623825969|      88|   50|  246|156.82615919045438|0.022655188038060717|\n",
      "|     402| 191.7115597345133| 51.30143650789941|     191|  147|  250|171.54037610619469|63.215406199259256|     164|  116|  247|134.40237831858408| 85.47745901624886|     110|   59|  244| 165.8847713864304|5.530973451327434E-4|\n",
      "|     306|200.25524109014674|55.397740453908206|     215|  156|  254|189.09591194968553| 64.86920181857914|     208|  131|  254|163.67505241090146| 86.82888721022574|     180|   80|  253|184.34206848357803|0.011530398322851153|\n",
      "|     309| 187.8180169286578| 57.62986714256464|     181|  137|  254|162.75634824667472| 74.00187538844067|     141|   97|  254|122.80350665054414|102.18256185161263|      71|   32|  253|157.79262394195857|0.018137847642079808|\n",
      "|     207|181.15361262902246| 59.49360213342372|     173|  130|  253|161.45021250758955| 71.93104412753662|     143|   98|  253|124.25834851244687| 97.77081281688908|      84|   36|  252|155.62072454968668|0.023375834851244687|\n",
      "|     316| 187.7597911227154| 49.21651455166856|     174|  145|  253|160.21279373368145| 66.75799523407446|     135|  104|  253| 116.3437771975631| 94.71986609290236|      71|   36|  252|154.77212068465354|8.703220191470844E-4|\n",
      "|     502|143.33631484794276| 70.48187088268699|     117|   86|  215|123.76565295169947| 81.17732254290203|      87|   57|  211| 94.01201124456938| 97.00683365587453|      37|   18|  198|120.37132634807055|  0.1845131612573473|\n",
      "|     202|195.26154868727153| 46.94456597231995|     193|  160|  248|172.03024260551678| 56.75530791069852|     160|  127|  234| 123.6630109670987|  83.8951986276103|      93|   56|  217|163.65160075329553|0.003988035892323031|\n",
      "|     503|152.50075075075074| 75.39030995648922|     125|   85|  252|136.87800300300302| 87.65954469313498|     105|   56|  253|114.23010510510511|103.37151215487809|      65|   18|  251|134.53628628628647|  0.2072072072072072|\n",
      "|     310|       151.1509375|54.110124984878595|     133|  111|  183|         128.14875| 64.98003443336208|     102|   78|  166|         87.335625| 83.09611622859221|      50|   26|  127|122.21177083333319|            0.025625|\n",
      "+--------+------------------+------------------+--------+-----+-----+------------------+------------------+--------+-----+-----+------------------+------------------+--------+-----+-----+------------------+--------------------+\n",
      "only showing top 20 rows\n",
      "\n"
     ]
    },
    {
     "name": "stderr",
     "output_type": "stream",
     "text": [
      "                                                                                \r"
     ]
    }
   ],
   "source": [
    "aggreg_df = df_px.groupby(\"District\").agg(\n",
    "    F.avg(\"R\").alias(\"R_avg\"),\n",
    "    F.stddev(\"R\").alias(\"R_stddev\"),\n",
    "    F.expr(\"percentile_approx(R, 0.5)\").alias(\"R_median\"),\n",
    "    F.expr(\"percentile_approx(R, 0.25)\").alias(\"R_q25\"),\n",
    "    F.expr(\"percentile_approx(R, 0.75)\").alias(\"R_q75\"),\n",
    "    \n",
    "    F.avg(\"G\").alias(\"G_avg\"),\n",
    "    F.stddev(\"G\").alias(\"G_stddev\"),\n",
    "    F.expr(\"percentile_approx(G, 0.5)\").alias(\"G_median\"),\n",
    "    F.expr(\"percentile_approx(G, 0.25)\").alias(\"G_q25\"),\n",
    "    F.expr(\"percentile_approx(G, 0.75)\").alias(\"G_q75\"),\n",
    "    \n",
    "    F.avg(\"B\").alias(\"B_avg\"),\n",
    "    F.stddev(\"B\").alias(\"B_stddev\"),\n",
    "    F.expr(\"percentile_approx(B, 0.5)\").alias(\"B_median\"),\n",
    "    F.expr(\"percentile_approx(B, 0.25)\").alias(\"B_q25\"),\n",
    "    F.expr(\"percentile_approx(B, 0.75)\").alias(\"B_q75\"),\n",
    "    F.avg( (F.col(\"R\") + F.col(\"G\") + F.col(\"B\")) / 3 ).alias(\"brightness_avg\"),\n",
    "    F.avg( F.when( (F.col(\"R\")+F.col(\"G\")+F.col(\"B\"))/3 < 50, 1).otherwise(0) ).alias(\"dark_pixel_ratio\"),\n",
    "\n",
    ")\n",
    "aggreg_df.show()"
   ]
  },
  {
   "cell_type": "code",
   "execution_count": 6,
   "metadata": {},
   "outputs": [
    {
     "name": "stderr",
     "output_type": "stream",
     "text": [
      "                                                                                \r"
     ]
    },
    {
     "name": "stdout",
     "output_type": "stream",
     "text": [
      "+-----------------+------------------+-----------------+-----------------+-----------------+-----------------+--------+--------+--------+-----+-----+-----+-----+-----+-----+------------------+-------------------+----------+-----------+-------+------------+-------------------+------------+------------+----------------+----------+-----------+-----------------+----------------+-----+-----------+-----------------+--------------------+--------+-----------------+-----+--------------------+--------------------+----------+------------+--------------+--------------+--------+----------------+-------------+--------------+-------+----------+----------+----------------+-----------------+--------------------+------------------------+--------------------+--------+----------+\n",
      "|            R_avg|             G_avg|            B_avg|         R_stddev|         G_stddev|         B_stddev|R_median|G_median|B_median|R_q25|G_q25|B_q25|R_q75|G_q75|B_q75|    brightness_avg|   dark_pixel_ratio|CMPLNT_NUM|ADDR_PCT_CD|BORO_NM|CMPLNT_FR_DT|       CMPLNT_FR_TM|CMPLNT_TO_DT|CMPLNT_TO_TM|CRM_ATPT_CPTD_CD|HADEVELOPT|HOUSING_PSA|JURISDICTION_CODE|      JURIS_DESC|KY_CD| LAW_CAT_CD|LOC_OF_OCCUR_DESC|           OFNS_DESC|PARKS_NM|      PATROL_BORO|PD_CD|             PD_DESC|       PREM_TYP_DESC|    RPT_DT|STATION_NAME|SUSP_AGE_GROUP|     SUSP_RACE|SUSP_SEX|TRANSIT_DISTRICT|VIC_AGE_GROUP|      VIC_RACE|VIC_SEX|X_COORD_CD|Y_COORD_CD|        Latitude|        Longitude|             Lat_Lon|New Georeferenced Column|                geom|district|intersects|\n",
      "+-----------------+------------------+-----------------+-----------------+-----------------+-----------------+--------+--------+--------+-----+-----+-----+-----+-----+-----+------------------+-------------------+----------+-----------+-------+------------+-------------------+------------+------------+----------------+----------+-----------+-----------------+----------------+-----+-----------+-----------------+--------------------+--------+-----------------+-----+--------------------+--------------------+----------+------------+--------------+--------------+--------+----------------+-------------+--------------+-------+----------+----------+----------------+-----------------+--------------------+------------------------+--------------------+--------+----------+\n",
      "|152.5937747819191|125.04837430610627|78.88996827914353|56.98654506605884|68.84321103108333|86.02875245369897|     135|     100|      39|  107|   71|   18|  191|  165|  109|118.84403912238967|0.06641554321966693| 298860303|         49|  BRONX|  01/03/2025|2025-07-28 21:55:00|  01/03/2025|    21:59:00|       COMPLETED|    (null)|       NULL|                0|N.Y. POLICE DEPT|  344|MISDEMEANOR|         FRONT OF|ASSAULT 3 & RELAT...|  (null)|PATROL BORO BRONX|  101|           ASSAULT 3|RESIDENCE - APT. ...|01/03/2025|      (null)|         45-64|         BLACK|       F|            NULL|        25-44|WHITE HISPANIC|      F|   1020761|    245865|       40.841451|       -73.868043|(40.841451, -73.8...|    POINT (-73.868043...|POINT (-73.868043...|     211|      true|\n",
      "|152.5937747819191|125.04837430610627|78.88996827914353|56.98654506605884|68.84321103108333|86.02875245369897|     135|     100|      39|  107|   71|   18|  191|  165|  109|118.84403912238967|0.06641554321966693| 299697829|         49|  BRONX|  01/13/2025|2025-07-28 08:00:00|  01/18/2025|    12:00:00|       COMPLETED|    (null)|       NULL|                0|N.Y. POLICE DEPT|  578|  VIOLATION|           INSIDE|       HARRASSMENT 2|  (null)|PATROL BORO BRONX|  638|HARASSMENT,SUBD 3...|     RESIDENCE-HOUSE|01/18/2025|      (null)|         25-44|       UNKNOWN|       M|            NULL|        25-44|WHITE HISPANIC|      F|   1021919|    247847|       40.846888|        -73.86385|(40.846888, -73.8...|    POINT (-73.86385 ...|POINT (-73.86385 ...|     211|      true|\n",
      "|152.5937747819191|125.04837430610627|78.88996827914353|56.98654506605884|68.84321103108333|86.02875245369897|     135|     100|      39|  107|   71|   18|  191|  165|  109|118.84403912238967|0.06641554321966693| 300402937|         49|  BRONX|  02/01/2025|2025-07-28 18:50:00|  02/01/2025|    19:13:00|       COMPLETED|    (null)|       NULL|                0|N.Y. POLICE DEPT|  344|MISDEMEANOR|           INSIDE|ASSAULT 3 & RELAT...|  (null)|PATROL BORO BRONX|  101|           ASSAULT 3|RESIDENCE - APT. ...|02/01/2025|      (null)|         45-64|         BLACK|       F|            NULL|        45-64|         BLACK|      F|   1021639|    250223|       40.853409|       -73.864848|(40.853409, -73.8...|    POINT (-73.864848...|POINT (-73.864848...|     211|      true|\n",
      "|152.5937747819191|125.04837430610627|78.88996827914353|56.98654506605884|68.84321103108333|86.02875245369897|     135|     100|      39|  107|   71|   18|  191|  165|  109|118.84403912238967|0.06641554321966693| 303870660|         49|  BRONX|  03/29/2025|2025-07-28 21:35:00|  03/29/2025|    23:02:00|       COMPLETED|    (null)|       NULL|                0|N.Y. POLICE DEPT|  233|MISDEMEANOR|           (null)|          SEX CRIMES|  (null)|PATROL BORO BRONX|  681|CHILD, ENDANGERIN...|              STREET|03/30/2025|      (null)|         18-24|         BLACK|       F|            NULL|      UNKNOWN|       UNKNOWN|      E|   1027434|    251387|40.8565767275976|-73.8438936779283|(40.8565767275976...|    POINT (-73.843893...|POINT (-73.843893...|     211|      true|\n",
      "|152.5937747819191|125.04837430610627|78.88996827914353|56.98654506605884|68.84321103108333|86.02875245369897|     135|     100|      39|  107|   71|   18|  191|  165|  109|118.84403912238967|0.06641554321966693| 299948449|         49|  BRONX|  01/22/2024|2025-07-28 19:22:00|  01/22/2025|    19:33:00|       COMPLETED|    (null)|       NULL|                0|N.Y. POLICE DEPT|  126|     FELONY|         FRONT OF|MISCELLANEOUS PEN...|  (null)|PATROL BORO BRONX|  198| CRIMINAL CONTEMPT 1|RESIDENCE - APT. ...|01/23/2025|      (null)|         45-64|WHITE HISPANIC|       M|            NULL|        45-64|WHITE HISPANIC|      F|   1025726|    246570|       40.843364|       -73.850096|(40.843364, -73.8...|    POINT (-73.850096...|POINT (-73.850096...|     211|      true|\n",
      "+-----------------+------------------+-----------------+-----------------+-----------------+-----------------+--------+--------+--------+-----+-----+-----+-----+-----+-----+------------------+-------------------+----------+-----------+-------+------------+-------------------+------------+------------+----------------+----------+-----------+-----------------+----------------+-----+-----------+-----------------+--------------------+--------+-----------------+-----+--------------------+--------------------+----------+------------+--------------+--------------+--------+----------------+-------------+--------------+-------+----------+----------+----------------+-----------------+--------------------+------------------------+--------------------+--------+----------+\n",
      "only showing top 5 rows\n",
      "\n"
     ]
    },
    {
     "name": "stderr",
     "output_type": "stream",
     "text": [
      "                                                                                \r"
     ]
    }
   ],
   "source": [
    "aggreg_df.createOrReplaceTempView(\"aggreg_df\")\n",
    "\n",
    "nyc = spark.sql(\"\"\"\n",
    "        select     \n",
    "            a.R_avg\n",
    "            ,a.G_avg\n",
    "            ,a.B_avg    \n",
    "            ,a.R_stddev\n",
    "            ,a.G_stddev\n",
    "            ,a.B_stddev\n",
    "            ,a.R_median\n",
    "            ,a.G_median\n",
    "            ,a.B_median\n",
    "            ,a.R_q25\n",
    "            ,a.G_q25\n",
    "            ,a.B_q25\n",
    "            ,a.R_q75\n",
    "            ,a.G_q75\n",
    "            ,a.B_q75\n",
    "            ,a.brightness_avg\n",
    "            ,a.dark_pixel_ratio            \n",
    "            ,cr.*\n",
    "        from aggreg_df a        \n",
    "        JOIN crime_nyc_years cr\n",
    "        on a.District = cr.District\n",
    "\"\"\")\n",
    "\n",
    "nyc.show(5)"
   ]
  },
  {
   "cell_type": "code",
   "execution_count": 12,
   "metadata": {},
   "outputs": [
    {
     "name": "stdout",
     "output_type": "stream",
     "text": [
      "+--------------------------------+\n",
      "|OFNS_DESC                       |\n",
      "+--------------------------------+\n",
      "|ANTICIPATORY OFFENSES           |\n",
      "|CHILD ABANDONMENT/NON SUPPORT 1 |\n",
      "|NEW YORK CITY HEALTH CODE       |\n",
      "|VEHICLE AND TRAFFIC LAWS        |\n",
      "|KIDNAPPING & RELATED OFFENSES   |\n",
      "|PETIT LARCENY OF MOTOR VEHICLE  |\n",
      "|OFF. AGNST PUB ORD SENSBLTY &   |\n",
      "|FELONY ASSAULT                  |\n",
      "|ALCOHOLIC BEVERAGE CONTROL LAW  |\n",
      "|OFFENSES RELATED TO CHILDREN    |\n",
      "|CRIMINAL MISCHIEF & RELATED OF  |\n",
      "|THEFT-FRAUD                     |\n",
      "|JOSTLING                        |\n",
      "|MISCELLANEOUS PENAL LAW         |\n",
      "|ARSON                           |\n",
      "|OFFENSES AGAINST THE PERSON     |\n",
      "|GAMBLING                        |\n",
      "|SEX CRIMES                      |\n",
      "|HARRASSMENT 2                   |\n",
      "|CRIMINAL TRESPASS               |\n",
      "|BURGLAR'S TOOLS                 |\n",
      "|OFFENSES INVOLVING FRAUD        |\n",
      "|ASSAULT 3 & RELATED OFFENSES    |\n",
      "|INTOXICATED/IMPAIRED DRIVING    |\n",
      "|INTOXICATED & IMPAIRED DRIVING  |\n",
      "|FRAUDS                          |\n",
      "|ESCAPE 3                        |\n",
      "|MURDER & NON-NEGL. MANSLAUGHTER |\n",
      "|DANGEROUS DRUGS                 |\n",
      "|PROSTITUTION & RELATED OFFENSES |\n",
      "|FORGERY                         |\n",
      "|FRAUDULENT ACCOSTING            |\n",
      "|OTHER OFFENSES RELATED TO THEFT |\n",
      "|UNLAWFUL POSS. WEAP. ON SCHOOL  |\n",
      "|OFFENSES AGAINST PUBLIC ADMINI  |\n",
      "|ROBBERY                         |\n",
      "|GRAND LARCENY OF MOTOR VEHICLE  |\n",
      "|DANGEROUS WEAPONS               |\n",
      "|UNAUTHORIZED USE OF A VEHICLE   |\n",
      "|OTHER STATE LAWS (NON PENAL LAW)|\n",
      "|CANNABIS RELATED OFFENSES       |\n",
      "|OTHER STATE LAWS                |\n",
      "|PETIT LARCENY                   |\n",
      "|RAPE                            |\n",
      "|HOMICIDE-NEGLIGENT,UNCLASSIFIE  |\n",
      "|OFFENSES AGAINST PUBLIC SAFETY  |\n",
      "|DISORDERLY CONDUCT              |\n",
      "|POSSESSION OF STOLEN PROPERTY   |\n",
      "|GRAND LARCENY                   |\n",
      "|BURGLARY                        |\n",
      "|ADMINISTRATIVE CODE             |\n",
      "+--------------------------------+\n",
      "\n"
     ]
    }
   ],
   "source": [
    "nyc.select(\"OFNS_DESC\").distinct().show(100, truncate=False)"
   ]
  },
  {
   "cell_type": "code",
   "execution_count": 7,
   "metadata": {},
   "outputs": [
    {
     "name": "stderr",
     "output_type": "stream",
     "text": [
      "                                                                                \r"
     ]
    },
    {
     "name": "stdout",
     "output_type": "stream",
     "text": [
      "+--------+----------+-----------+-----------------+------------------+-----------------+-----------------+-----------------+-----------------+--------+--------+--------+-----+-----+-----+-----+-----+-----+------------------+-------------------+----------+-----------+-------+------------+-------------------+------------+------------+----------------+----------+-----------+-----------------+-------------------+-----+-----------+-----------------+--------------------+--------+-----------------+-----+--------------------+--------------------+----------+------------+--------------+--------------+--------+----------------+-------------+--------------------+-------+----------+----------+----------------+-----------------+--------------------+------------------------+--------------------+----------+-------------------+---------+-----------------+\n",
      "|district|CRIME_YEAR|CRIME_MONTH|            R_avg|             G_avg|            B_avg|         R_stddev|         G_stddev|         B_stddev|R_median|G_median|B_median|R_q25|G_q25|B_q25|R_q75|G_q75|B_q75|    brightness_avg|   dark_pixel_ratio|CMPLNT_NUM|ADDR_PCT_CD|BORO_NM|CMPLNT_FR_DT|       CMPLNT_FR_TM|CMPLNT_TO_DT|CMPLNT_TO_TM|CRM_ATPT_CPTD_CD|HADEVELOPT|HOUSING_PSA|JURISDICTION_CODE|         JURIS_DESC|KY_CD| LAW_CAT_CD|LOC_OF_OCCUR_DESC|           OFNS_DESC|PARKS_NM|      PATROL_BORO|PD_CD|             PD_DESC|       PREM_TYP_DESC|    RPT_DT|STATION_NAME|SUSP_AGE_GROUP|     SUSP_RACE|SUSP_SEX|TRANSIT_DISTRICT|VIC_AGE_GROUP|            VIC_RACE|VIC_SEX|X_COORD_CD|Y_COORD_CD|        Latitude|        Longitude|             Lat_Lon|New Georeferenced Column|                geom|intersects|CMPLNT_FR_DT_PARSED|CRIME_DAY|total_crimes_dist|\n",
      "+--------+----------+-----------+-----------------+------------------+-----------------+-----------------+-----------------+-----------------+--------+--------+--------+-----+-----+-----+-----+-----+-----+------------------+-------------------+----------+-----------+-------+------------+-------------------+------------+------------+----------------+----------+-----------+-----------------+-------------------+-----+-----------+-----------------+--------------------+--------+-----------------+-----+--------------------+--------------------+----------+------------+--------------+--------------+--------+----------------+-------------+--------------------+-------+----------+----------+----------------+-----------------+--------------------+------------------------+--------------------+----------+-------------------+---------+-----------------+\n",
      "|     211|      2025|          2|152.5937747819191|125.04837430610627|78.88996827914353|56.98654506605884|68.84321103108333|86.02875245369897|     135|     100|      39|  107|   71|   18|  191|  165|  109|118.84403912238967|0.06641554321966693| 300402937|         49|  BRONX|  02/01/2025|2025-07-28 18:50:00|  02/01/2025|    19:13:00|       COMPLETED|    (null)|       NULL|                0|   N.Y. POLICE DEPT|  344|MISDEMEANOR|           INSIDE|ASSAULT 3 & RELAT...|  (null)|PATROL BORO BRONX|  101|           ASSAULT 3|RESIDENCE - APT. ...|02/01/2025|      (null)|         45-64|         BLACK|       F|            NULL|        45-64|               BLACK|      F|   1021639|    250223|       40.853409|       -73.864848|(40.853409, -73.8...|    POINT (-73.864848...|POINT (-73.864848...|      true|         2025-02-01|        1|              612|\n",
      "|     211|      2025|          2|152.5937747819191|125.04837430610627|78.88996827914353|56.98654506605884|68.84321103108333|86.02875245369897|     135|     100|      39|  107|   71|   18|  191|  165|  109|118.84403912238967|0.06641554321966693| 301248038|         49|  BRONX|  02/16/2025|2025-07-28 19:30:00|  02/16/2025|    19:50:00|       COMPLETED|    (null)|       NULL|                0|   N.Y. POLICE DEPT|  126|     FELONY|           INSIDE|MISCELLANEOUS PEN...|  (null)|PATROL BORO BRONX|  198| CRIMINAL CONTEMPT 1|RESIDENCE - APT. ...|02/16/2025|      (null)|         25-44|         BLACK|       M|            NULL|        25-44|      WHITE HISPANIC|      M|   1020614|    252660|       40.860104|       -73.868537|(40.860104, -73.8...|    POINT (-73.868537...|POINT (-73.868537...|      true|         2025-02-16|       16|              612|\n",
      "|     211|      2025|          2|152.5937747819191|125.04837430610627|78.88996827914353|56.98654506605884|68.84321103108333|86.02875245369897|     135|     100|      39|  107|   71|   18|  191|  165|  109|118.84403912238967|0.06641554321966693| 300585103|         49|  BRONX|  02/05/2025|2025-07-28 06:11:00|  02/05/2025|    06:21:00|       COMPLETED|    (null)|       NULL|                0|   N.Y. POLICE DEPT|  126|     FELONY|           INSIDE|MISCELLANEOUS PEN...|  (null)|PATROL BORO BRONX|  198| CRIMINAL CONTEMPT 1|RESIDENCE - APT. ...|02/05/2025|      (null)|         25-44|         BLACK|       M|            NULL|        25-44|      WHITE HISPANIC|      F|   1021228|    255054|        40.86667|       -73.866305|(40.86667, -73.86...|    POINT (-73.866305...|POINT (-73.866305...|      true|         2025-02-05|        5|              612|\n",
      "|     211|      2025|          2|152.5937747819191|125.04837430610627|78.88996827914353|56.98654506605884|68.84321103108333|86.02875245369897|     135|     100|      39|  107|   71|   18|  191|  165|  109|118.84403912238967|0.06641554321966693| 300740612|         49|  BRONX|  02/07/2025|2025-07-28 16:58:00|  02/07/2025|    17:35:00|       COMPLETED|    (null)|       NULL|                0|   N.Y. POLICE DEPT|  344|MISDEMEANOR|         FRONT OF|ASSAULT 3 & RELAT...|  (null)|PATROL BORO BRONX|  101|           ASSAULT 3|PARKING LOT/GARAG...|02/07/2025|      (null)|         25-44|BLACK HISPANIC|       M|            NULL|        25-44|      WHITE HISPANIC|      M|   1027589|    253305|        40.86184|       -73.843318|(40.86184, -73.84...|    POINT (-73.843318...|POINT (-73.843318...|      true|         2025-02-07|        7|              612|\n",
      "|     211|      2025|          2|152.5937747819191|125.04837430610627|78.88996827914353|56.98654506605884|68.84321103108333|86.02875245369897|     135|     100|      39|  107|   71|   18|  191|  165|  109|118.84403912238967|0.06641554321966693| 300649131|         49|  BRONX|  02/06/2025|2025-07-28 05:08:00|  02/06/2025|    05:45:00|       COMPLETED|    (null)|      34456|                2|N.Y. HOUSING POLICE|  344|MISDEMEANOR|           INSIDE|ASSAULT 3 & RELAT...|  (null)|PATROL BORO BRONX|  101|           ASSAULT 3|RESIDENCE - PUBLI...|02/06/2025|      (null)|         25-44|         BLACK|       M|            NULL|        18-24|      BLACK HISPANIC|      F|   1025116|    256702|       40.871176|       -73.852237|(40.871176, -73.8...|    POINT (-73.852237...|POINT (-73.852237...|      true|         2025-02-06|        6|              612|\n",
      "|     211|      2025|          2|152.5937747819191|125.04837430610627|78.88996827914353|56.98654506605884|68.84321103108333|86.02875245369897|     135|     100|      39|  107|   71|   18|  191|  165|  109|118.84403912238967|0.06641554321966693| 301837835|         49|  BRONX|  02/27/2025|2025-07-28 20:31:00|  02/27/2025|    20:40:00|       COMPLETED|    (null)|       NULL|                0|   N.Y. POLICE DEPT|  344|MISDEMEANOR|           INSIDE|ASSAULT 3 & RELAT...|  (null)|PATROL BORO BRONX|  101|           ASSAULT 3|RESIDENCE - APT. ...|02/27/2025|      (null)|         45-64|WHITE HISPANIC|       F|            NULL|        25-44|      WHITE HISPANIC|      F|   1021359|    249546|       40.851554|       -73.865861|(40.851554, -73.8...|    POINT (-73.865861...|POINT (-73.865861...|      true|         2025-02-27|       27|              612|\n",
      "|     211|      2025|          2|152.5937747819191|125.04837430610627|78.88996827914353|56.98654506605884|68.84321103108333|86.02875245369897|     135|     100|      39|  107|   71|   18|  191|  165|  109|118.84403912238967|0.06641554321966693| 301178088|         49|  BRONX|  02/15/2025|2025-07-28 10:40:00|  02/15/2025|    11:00:00|       COMPLETED|    (null)|       NULL|                0|   N.Y. POLICE DEPT|  578|  VIOLATION|           INSIDE|       HARRASSMENT 2|  (null)|PATROL BORO BRONX|  638|HARASSMENT,SUBD 3...|     RESIDENCE-HOUSE|02/15/2025|      (null)|       UNKNOWN|         BLACK|       F|            NULL|        25-44|               BLACK|      F|   1022529|    254205|       40.864336|       -73.861605|(40.864336, -73.8...|    POINT (-73.861605...|POINT (-73.861605...|      true|         2025-02-15|       15|              612|\n",
      "|     211|      2025|          2|152.5937747819191|125.04837430610627|78.88996827914353|56.98654506605884|68.84321103108333|86.02875245369897|     135|     100|      39|  107|   71|   18|  191|  165|  109|118.84403912238967|0.06641554321966693| 300922020|         49|  BRONX|  02/11/2025|2025-07-28 14:37:00|  02/11/2025|    14:50:00|       COMPLETED|    (null)|       NULL|                0|   N.Y. POLICE DEPT|  107|     FELONY|           INSIDE|            BURGLARY|  (null)|PATROL BORO BRONX|  221|BURGLARY,RESIDENC...|RESIDENCE - APT. ...|02/11/2025|      (null)|       UNKNOWN|       UNKNOWN|       U|            NULL|        18-24|ASIAN / PACIFIC I...|      F|   1024752|    252037|       40.858375|       -73.853583|(40.858375, -73.8...|    POINT (-73.853583...|POINT (-73.853583...|      true|         2025-02-11|       11|              612|\n",
      "|     211|      2025|          3|152.5937747819191|125.04837430610627|78.88996827914353|56.98654506605884|68.84321103108333|86.02875245369897|     135|     100|      39|  107|   71|   18|  191|  165|  109|118.84403912238967|0.06641554321966693| 303870660|         49|  BRONX|  03/29/2025|2025-07-28 21:35:00|  03/29/2025|    23:02:00|       COMPLETED|    (null)|       NULL|                0|   N.Y. POLICE DEPT|  233|MISDEMEANOR|           (null)|          SEX CRIMES|  (null)|PATROL BORO BRONX|  681|CHILD, ENDANGERIN...|              STREET|03/30/2025|      (null)|         18-24|         BLACK|       F|            NULL|      UNKNOWN|             UNKNOWN|      E|   1027434|    251387|40.8565767275976|-73.8438936779283|(40.8565767275976...|    POINT (-73.843893...|POINT (-73.843893...|      true|         2025-03-29|       29|              620|\n",
      "|     211|      2025|          3|152.5937747819191|125.04837430610627|78.88996827914353|56.98654506605884|68.84321103108333|86.02875245369897|     135|     100|      39|  107|   71|   18|  191|  165|  109|118.84403912238967|0.06641554321966693| 303389883|         49|  BRONX|  03/21/2025|2025-07-28 20:18:00|  03/21/2025|    21:30:00|       COMPLETED|    (null)|      34132|                2|N.Y. HOUSING POLICE|  233|MISDEMEANOR|           INSIDE|          SEX CRIMES|  (null)|PATROL BORO BRONX|  681|CHILD, ENDANGERIN...|RESIDENCE - PUBLI...|03/21/2025|      (null)|         25-44|WHITE HISPANIC|       F|            NULL|      UNKNOWN|             UNKNOWN|      E|   1027434|    251387|40.8565767275976|-73.8438936779283|(40.8565767275976...|    POINT (-73.843893...|POINT (-73.843893...|      true|         2025-03-21|       21|              620|\n",
      "|     211|      2025|          3|152.5937747819191|125.04837430610627|78.88996827914353|56.98654506605884|68.84321103108333|86.02875245369897|     135|     100|      39|  107|   71|   18|  191|  165|  109|118.84403912238967|0.06641554321966693| 303440921|         49|  BRONX|  03/20/2025|2025-07-28 22:30:00|  03/20/2025|    22:45:00|       COMPLETED|    (null)|       NULL|                0|   N.Y. POLICE DEPT|  578|  VIOLATION|           INSIDE|       HARRASSMENT 2|  (null)|PATROL BORO BRONX|  638|HARASSMENT,SUBD 3...|     RESIDENCE-HOUSE|03/20/2025|      (null)|         25-44|WHITE HISPANIC|       M|            NULL|        25-44|      WHITE HISPANIC|      F|   1022175|    248957|       40.849933|       -73.862915|(40.849933, -73.8...|    POINT (-73.862915...|POINT (-73.862915...|      true|         2025-03-20|       20|              620|\n",
      "|     211|      2025|          3|152.5937747819191|125.04837430610627|78.88996827914353|56.98654506605884|68.84321103108333|86.02875245369897|     135|     100|      39|  107|   71|   18|  191|  165|  109|118.84403912238967|0.06641554321966693| 302890284|         49|  BRONX|  03/15/2025|2025-07-28 23:30:00|  03/16/2025|    00:08:00|       COMPLETED|    (null)|       NULL|                0|   N.Y. POLICE DEPT|  233|MISDEMEANOR|         FRONT OF|          SEX CRIMES|  (null)|PATROL BORO BRONX|  681|CHILD, ENDANGERIN...|     RESIDENCE-HOUSE|03/16/2025|      (null)|         25-44|WHITE HISPANIC|       M|            NULL|      UNKNOWN|             UNKNOWN|      E|   1027434|    251387|40.8565767275976|-73.8438936779283|(40.8565767275976...|    POINT (-73.843893...|POINT (-73.843893...|      true|         2025-03-15|       15|              620|\n",
      "|     211|      2025|          3|152.5937747819191|125.04837430610627|78.88996827914353|56.98654506605884|68.84321103108333|86.02875245369897|     135|     100|      39|  107|   71|   18|  191|  165|  109|118.84403912238967|0.06641554321966693| 303879140|         49|  BRONX|  03/30/2025|2025-07-28 14:07:00|  03/30/2025|    14:10:00|       ATTEMPTED|    (null)|       NULL|                0|   N.Y. POLICE DEPT|  105|     FELONY|           INSIDE|             ROBBERY|  (null)|PATROL BORO BRONX|  396|ROBBERY,BEGIN AS ...|      GROCERY/BODEGA|03/30/2025|      (null)|         18-24|         BLACK|       M|            NULL|      UNKNOWN|             UNKNOWN|      D|   1024348|    248492|       40.848648|       -73.855067|(40.848648, -73.8...|    POINT (-73.855067...|POINT (-73.855067...|      true|         2025-03-30|       30|              620|\n",
      "|     211|      2025|          3|152.5937747819191|125.04837430610627|78.88996827914353|56.98654506605884|68.84321103108333|86.02875245369897|     135|     100|      39|  107|   71|   18|  191|  165|  109|118.84403912238967|0.06641554321966693| 302320577|         47|  BRONX|  03/05/2025|2025-07-28 10:30:00|  03/05/2025|    10:35:00|       COMPLETED|    (null)|       NULL|                0|   N.Y. POLICE DEPT|  578|  VIOLATION|         FRONT OF|       HARRASSMENT 2|  (null)|PATROL BORO BRONX|  638|HARASSMENT,SUBD 3...|              STREET|03/05/2025|      (null)|       UNKNOWN|       UNKNOWN|       U|            NULL|        25-44|      BLACK HISPANIC|      F|   1026943|    256334|       40.870159|       -73.845634|(40.870159, -73.8...|    POINT (-73.845634...|POINT (-73.845634...|      true|         2025-03-05|        5|              620|\n",
      "|     211|      2025|          3|152.5937747819191|125.04837430610627|78.88996827914353|56.98654506605884|68.84321103108333|86.02875245369897|     135|     100|      39|  107|   71|   18|  191|  165|  109|118.84403912238967|0.06641554321966693| 303872101|         49|  BRONX|  03/23/2025|2025-07-28 00:00:00|  03/23/2025|    00:10:00|       COMPLETED|    (null)|       NULL|                0|   N.Y. POLICE DEPT|  344|MISDEMEANOR|           INSIDE|ASSAULT 3 & RELAT...|  (null)|PATROL BORO BRONX|  101|           ASSAULT 3|RESIDENCE - APT. ...|03/23/2025|      (null)|       UNKNOWN|         BLACK|       M|            NULL|          <18|               BLACK|      M|   1021906|    249146|       40.850451|       -73.863888|(40.850451, -73.8...|    POINT (-73.863888...|POINT (-73.863888...|      true|         2025-03-23|       23|              620|\n",
      "|     211|      2024|          1|152.5937747819191|125.04837430610627|78.88996827914353|56.98654506605884|68.84321103108333|86.02875245369897|     135|     100|      39|  107|   71|   18|  191|  165|  109|118.84403912238967|0.06641554321966693| 299948449|         49|  BRONX|  01/22/2024|2025-07-28 19:22:00|  01/22/2025|    19:33:00|       COMPLETED|    (null)|       NULL|                0|   N.Y. POLICE DEPT|  126|     FELONY|         FRONT OF|MISCELLANEOUS PEN...|  (null)|PATROL BORO BRONX|  198| CRIMINAL CONTEMPT 1|RESIDENCE - APT. ...|01/23/2025|      (null)|         45-64|WHITE HISPANIC|       M|            NULL|        45-64|      WHITE HISPANIC|      F|   1025726|    246570|       40.843364|       -73.850096|(40.843364, -73.8...|    POINT (-73.850096...|POINT (-73.850096...|      true|         2024-01-22|       22|                5|\n",
      "|     211|      2025|          1|152.5937747819191|125.04837430610627|78.88996827914353|56.98654506605884|68.84321103108333|86.02875245369897|     135|     100|      39|  107|   71|   18|  191|  165|  109|118.84403912238967|0.06641554321966693| 298860303|         49|  BRONX|  01/03/2025|2025-07-28 21:55:00|  01/03/2025|    21:59:00|       COMPLETED|    (null)|       NULL|                0|   N.Y. POLICE DEPT|  344|MISDEMEANOR|         FRONT OF|ASSAULT 3 & RELAT...|  (null)|PATROL BORO BRONX|  101|           ASSAULT 3|RESIDENCE - APT. ...|01/03/2025|      (null)|         45-64|         BLACK|       F|            NULL|        25-44|      WHITE HISPANIC|      F|   1020761|    245865|       40.841451|       -73.868043|(40.841451, -73.8...|    POINT (-73.868043...|POINT (-73.868043...|      true|         2025-01-03|        3|              626|\n",
      "|     211|      2025|          1|152.5937747819191|125.04837430610627|78.88996827914353|56.98654506605884|68.84321103108333|86.02875245369897|     135|     100|      39|  107|   71|   18|  191|  165|  109|118.84403912238967|0.06641554321966693| 299697829|         49|  BRONX|  01/13/2025|2025-07-28 08:00:00|  01/18/2025|    12:00:00|       COMPLETED|    (null)|       NULL|                0|   N.Y. POLICE DEPT|  578|  VIOLATION|           INSIDE|       HARRASSMENT 2|  (null)|PATROL BORO BRONX|  638|HARASSMENT,SUBD 3...|     RESIDENCE-HOUSE|01/18/2025|      (null)|         25-44|       UNKNOWN|       M|            NULL|        25-44|      WHITE HISPANIC|      F|   1021919|    247847|       40.846888|        -73.86385|(40.846888, -73.8...|    POINT (-73.86385 ...|POINT (-73.86385 ...|      true|         2025-01-13|       13|              626|\n",
      "|     211|      2025|          1|152.5937747819191|125.04837430610627|78.88996827914353|56.98654506605884|68.84321103108333|86.02875245369897|     135|     100|      39|  107|   71|   18|  191|  165|  109|118.84403912238967|0.06641554321966693| 299149324|         49|  BRONX|  01/07/2025|2025-07-28 09:33:00|  01/07/2025|    10:30:00|       COMPLETED|    (null)|       NULL|                0|   N.Y. POLICE DEPT|  109|     FELONY|      OPPOSITE OF|       GRAND LARCENY|  (null)|PATROL BORO BRONX|  421|LARCENY,GRAND FRO...|              STREET|01/07/2025|      (null)|        (null)|        (null)|  (null)|            NULL|        25-44|ASIAN / PACIFIC I...|      M|   1025966|    246825|       40.844065|       -73.849225|(40.844065, -73.8...|    POINT (-73.849225...|POINT (-73.849225...|      true|         2025-01-07|        7|              626|\n",
      "|     211|      2025|          1|152.5937747819191|125.04837430610627|78.88996827914353|56.98654506605884|68.84321103108333|86.02875245369897|     135|     100|      39|  107|   71|   18|  191|  165|  109|118.84403912238967|0.06641554321966693| 299320357|         49|  BRONX|  01/12/2025|2025-07-28 15:05:00|  01/12/2025|    15:10:00|       COMPLETED|    (null)|       NULL|                0|   N.Y. POLICE DEPT|  578|  VIOLATION|           INSIDE|       HARRASSMENT 2|  (null)|PATROL BORO BRONX|  638|HARASSMENT,SUBD 3...|          DRUG STORE|01/12/2025|      (null)|         18-24|         BLACK|       F|            NULL|        45-64|               BLACK|      M|   1021869|    254631|       40.865507|       -73.863992|(40.865507, -73.8...|    POINT (-73.863992...|POINT (-73.863992...|      true|         2025-01-12|       12|              626|\n",
      "+--------+----------+-----------+-----------------+------------------+-----------------+-----------------+-----------------+-----------------+--------+--------+--------+-----+-----+-----+-----+-----+-----+------------------+-------------------+----------+-----------+-------+------------+-------------------+------------+------------+----------------+----------+-----------+-----------------+-------------------+-----+-----------+-----------------+--------------------+--------+-----------------+-----+--------------------+--------------------+----------+------------+--------------+--------------+--------+----------------+-------------+--------------------+-------+----------+----------+----------------+-----------------+--------------------+------------------------+--------------------+----------+-------------------+---------+-----------------+\n",
      "only showing top 20 rows\n",
      "\n"
     ]
    }
   ],
   "source": [
    "df = nyc.withColumn(\"CMPLNT_FR_DT_PARSED\", to_date(\"CMPLNT_FR_DT\", \"MM/dd/yyyy\")) \\\n",
    "                 .withColumn(\"CRIME_YEAR\", year(\"CMPLNT_FR_DT_PARSED\")) \\\n",
    "                 .withColumn(\"CRIME_MONTH\", month(\"CMPLNT_FR_DT_PARSED\")) \\\n",
    "                 .withColumn(\"CRIME_DAY\", dayofmonth(\"CMPLNT_FR_DT_PARSED\"))\n",
    "\n",
    "agg_df = df.groupBy(\"district\", \"CRIME_YEAR\", \"CRIME_MONTH\") \\\n",
    "                    .agg(F.count(\"*\").alias(\"total_crimes_dist\")) \\\n",
    "                    .orderBy(\"district\", \"CRIME_YEAR\", \"CRIME_MONTH\")\n",
    "\n",
    "df = df.join(agg_df, on=[\"district\", \"CRIME_YEAR\", \"CRIME_MONTH\"], how=\"left\")\n",
    "\n",
    "df.show()\n"
   ]
  },
  {
   "cell_type": "code",
   "execution_count": 8,
   "metadata": {},
   "outputs": [],
   "source": [
    "agg_race_vic_df = df.groupBy(\"District\", \"CRIME_YEAR\", \"CRIME_MONTH\").agg(\n",
    "    avg(when(df.VIC_RACE == 'WHITE', 1).otherwise(0)).alias(\"mean_white\"),\n",
    "    avg(when(df.VIC_RACE == 'BLACK', 1).otherwise(0)).alias(\"mean_black\"),\n",
    "    avg(when(\n",
    "        (df.VIC_RACE == 'WHITE HISPANIC') | (df.VIC_RACE == 'BLACK HISPANIC'), 1\n",
    "    ).otherwise(0)).alias(\"mean_hispanic\"),\n",
    "    avg(when(df.VIC_RACE == 'AMERICAN INDIAN/ALASKAN NATIVE', 1).otherwise(0)).alias(\"mean_amer_indian\"),\n",
    "    avg(when(df.VIC_RACE == 'ASIAN / PACIFIC ISLANDER', 1).otherwise(0)).alias(\"mean_asian\")\n",
    ").orderBy(\"District\")\n",
    "\n",
    "df = df.join(agg_race_vic_df, on=[\"District\", \"CRIME_YEAR\", \"CRIME_MONTH\"], how=\"left\")"
   ]
  },
  {
   "cell_type": "code",
   "execution_count": 9,
   "metadata": {},
   "outputs": [],
   "source": [
    "agg_sex_df = df.groupBy(\"District\",\"CRIME_YEAR\",\"CRIME_MONTH\").agg(\n",
    "    avg(when(df.SUSP_SEX == 'M', 1).otherwise(0)).alias(\"mean_M\"),\n",
    "    avg(when(df.SUSP_SEX == 'F', 1).otherwise(0)).alias(\"mean_F\"),\n",
    "    avg(when(df.SUSP_SEX == 'U', 1).otherwise(0)).alias(\"mean_U\")\n",
    ").orderBy(\"District\")\n",
    "df = df.join(agg_sex_df, on=[\"District\",\"CRIME_YEAR\",\"CRIME_MONTH\"], how=\"left\")"
   ]
  },
  {
   "cell_type": "code",
   "execution_count": 10,
   "metadata": {},
   "outputs": [],
   "source": [
    "from pyspark.sql.functions import when, avg, countDistinct, count, col, row_number\n",
    "\n",
    "agg_age_df = df.groupBy(\"District\", \"CRIME_YEAR\",\"CRIME_MONTH\").agg(\n",
    "    avg(when(df.SUSP_AGE_GROUP == '18-24', 1/7).otherwise(0)).alias(\"pct_age_18_24\"),\n",
    "    avg(when(df.SUSP_AGE_GROUP == '25-44', 1/20).otherwise(0)).alias(\"pct_age_25_44\"),\n",
    "    avg(when(df.SUSP_AGE_GROUP == '45-64', 1).otherwise(0)).alias(\"pct_age_45_64\"),\n",
    "    avg(when(df.SUSP_AGE_GROUP == '<18', 1).otherwise(0)).alias(\"pct_age_<18\"),\n",
    "    avg(when(df.SUSP_AGE_GROUP == '65+', 1).otherwise(0)).alias(\"pct_age_65_plus\")\n",
    ")\n",
    "df = df.join(agg_age_df, on=[\"District\",\"CRIME_YEAR\",\"CRIME_MONTH\"], how=\"left\")"
   ]
  },
  {
   "cell_type": "code",
   "execution_count": 11,
   "metadata": {},
   "outputs": [],
   "source": [
    "violent = [\n",
    "    'ASSAULT 3 & RELATED OFFENSES', 'FELONY ASSAULT', 'ROBBERY', \n",
    "    'SEX CRIMES', 'MURDER & NON-NEGL. MANSLAUGHTER', 'RAPE',\n",
    "    'OFFENSES AGAINST THE PERSON', 'KIDNAPPING & RELATED OFFENSES'\n",
    "]\n",
    "property_ = [\n",
    "    'PETIT LARCENY', 'GRAND LARCENY', 'BURGLARY', \n",
    "    'GRAND LARCENY OF MOTOR VEHICLE', 'CRIMINAL MISCHIEF & RELATED OF',\n",
    "    'POSSESSION OF STOLEN PROPERTY', 'PETIT LARCENY OF MOTOR VEHICLE',\n",
    "    'ARSON', 'BURGLAR\\'S TOOLS', 'UNAUTHORIZED USE OF A VEHICLE'\n",
    "]\n",
    "\n"
   ]
  },
  {
   "cell_type": "code",
   "execution_count": 13,
   "metadata": {},
   "outputs": [
    {
     "name": "stdout",
     "output_type": "stream",
     "text": [
      "+--------+----------+-----------+--------------------+-------------------+-------------------+\n",
      "|District|CRIME_YEAR|CRIME_MONTH|pct_violent_crimes  |pct_property_crimes|pct_other_offenses |\n",
      "+--------+----------+-----------+--------------------+-------------------+-------------------+\n",
      "|402     |2024      |7          |0.0                 |0.6666666666666666 |0.3333333333333333 |\n",
      "|402     |2023      |3          |0.0                 |1.0                |0.0                |\n",
      "|306     |2022      |3          |0.0                 |0.0                |1.0                |\n",
      "|310     |2021      |12         |0.0                 |0.0                |1.0                |\n",
      "|312     |2024      |1          |0.0                 |0.25               |0.75               |\n",
      "|403     |2022      |4          |1.0                 |0.0                |0.0                |\n",
      "|403     |2024      |3          |0.0                 |0.3333333333333333 |0.6666666666666666 |\n",
      "|201     |2024      |10         |0.18181818181818182 |0.2727272727272727 |0.5454545454545454 |\n",
      "|313     |2024      |11         |0.1111111111111111  |0.7777777777777778 |0.1111111111111111 |\n",
      "|311     |2024      |10         |0.16666666666666666 |0.5                |0.3333333333333333 |\n",
      "|410     |2023      |3          |1.0                 |0.0                |0.0                |\n",
      "|209     |2023      |12         |0.3333333333333333  |0.3333333333333333 |0.3333333333333333 |\n",
      "|211     |2024      |10         |0.25                |0.75               |0.0                |\n",
      "|305     |2022      |8          |1.0                 |0.0                |0.0                |\n",
      "|402     |2022      |2          |0.0                 |1.0                |0.0                |\n",
      "|306     |2024      |2          |0.0                 |0.0                |1.0                |\n",
      "|404     |2022      |3          |1.0                 |0.0                |0.0                |\n",
      "|410     |2020      |5          |0.0                 |1.0                |0.0                |\n",
      "|305     |2024      |5          |0.5                 |0.5                |0.0                |\n",
      "|212     |2024      |4          |0.0                 |0.6666666666666666 |0.3333333333333333 |\n",
      "|205     |2024      |6          |1.0                 |0.0                |0.0                |\n",
      "|503     |2024      |12         |0.075               |0.55               |0.375              |\n",
      "|407     |2023      |10         |0.0                 |0.0                |1.0                |\n",
      "|210     |2025      |1          |0.19887429643527205 |0.4277673545966229 |0.37335834896810505|\n",
      "|202     |2020      |1          |0.0                 |0.0                |1.0                |\n",
      "|312     |2024      |12         |0.038461538461538464|0.8076923076923077 |0.15384615384615385|\n",
      "|312     |2024      |11         |0.14285714285714285 |0.42857142857142855|0.42857142857142855|\n",
      "|304     |2025      |3          |0.21163166397415187 |0.2827140549273021 |0.505654281098546  |\n",
      "|304     |2023      |8          |0.0                 |1.0                |0.0                |\n",
      "|313     |2024      |12         |0.22580645161290322 |0.5483870967741935 |0.22580645161290322|\n",
      "+--------+----------+-----------+--------------------+-------------------+-------------------+\n",
      "only showing top 30 rows\n",
      "\n"
     ]
    }
   ],
   "source": [
    "from pyspark.sql.functions import col, when, avg\n",
    "\n",
    "group_exprs = [\n",
    "    avg(when(col(\"OFNS_DESC\").isin(violent), 1).otherwise(0)).alias(\"pct_violent_crimes\"),\n",
    "    avg(when(col(\"OFNS_DESC\").isin(property_), 1).otherwise(0)).alias(\"pct_property_crimes\"),\n",
    "    avg(when(\n",
    "        ~col(\"OFNS_DESC\").isin(violent + property_ ),\n",
    "        1\n",
    "    ).otherwise(0)).alias(\"pct_other_offenses\"),\n",
    "]\n",
    "\n",
    "agg_crimes_df = df.groupBy(\"District\", \"CRIME_YEAR\", \"CRIME_MONTH\").agg(*group_exprs)\n",
    "agg_crimes_df.show(30, truncate=False)\n"
   ]
  },
  {
   "cell_type": "code",
   "execution_count": 14,
   "metadata": {},
   "outputs": [
    {
     "name": "stderr",
     "output_type": "stream",
     "text": [
      "                                                                                \r"
     ]
    },
    {
     "name": "stdout",
     "output_type": "stream",
     "text": [
      "+--------+----------+-----------+-----------------+------------------+-----------------+-----------------+-----------------+-----------------+--------+--------+--------+-----+-----+-----+-----+-----+-----+------------------+-------------------+----------+-----------+-------+------------+-------------------+------------+------------+----------------+----------+-----------+-----------------+-------------------+-----+-----------+-----------------+--------------------+--------+-----------------+-----+--------------------+--------------------+----------+------------+--------------+--------------+--------+----------------+-------------+--------------+-------+----------+----------+----------------+-----------------+--------------------+------------------------+--------------------+----------+-------------------+---------+-----------------+-------------------+-------------------+-------------------+--------------------+-------------------+-------------------+-------------------+-------------------+--------------------+--------------------+-------------------+--------------------+--------------------+-------------------+-------------------+-------------------+\n",
      "|district|CRIME_YEAR|CRIME_MONTH|            R_avg|             G_avg|            B_avg|         R_stddev|         G_stddev|         B_stddev|R_median|G_median|B_median|R_q25|G_q25|B_q25|R_q75|G_q75|B_q75|    brightness_avg|   dark_pixel_ratio|CMPLNT_NUM|ADDR_PCT_CD|BORO_NM|CMPLNT_FR_DT|       CMPLNT_FR_TM|CMPLNT_TO_DT|CMPLNT_TO_TM|CRM_ATPT_CPTD_CD|HADEVELOPT|HOUSING_PSA|JURISDICTION_CODE|         JURIS_DESC|KY_CD| LAW_CAT_CD|LOC_OF_OCCUR_DESC|           OFNS_DESC|PARKS_NM|      PATROL_BORO|PD_CD|             PD_DESC|       PREM_TYP_DESC|    RPT_DT|STATION_NAME|SUSP_AGE_GROUP|     SUSP_RACE|SUSP_SEX|TRANSIT_DISTRICT|VIC_AGE_GROUP|      VIC_RACE|VIC_SEX|X_COORD_CD|Y_COORD_CD|        Latitude|        Longitude|             Lat_Lon|New Georeferenced Column|                geom|intersects|CMPLNT_FR_DT_PARSED|CRIME_DAY|total_crimes_dist|         mean_white|         mean_black|      mean_hispanic|    mean_amer_indian|         mean_asian|             mean_M|             mean_F|             mean_U|       pct_age_18_24|       pct_age_25_44|      pct_age_45_64|         pct_age_<18|     pct_age_65_plus| pct_violent_crimes|pct_property_crimes| pct_other_offenses|\n",
      "+--------+----------+-----------+-----------------+------------------+-----------------+-----------------+-----------------+-----------------+--------+--------+--------+-----+-----+-----+-----+-----+-----+------------------+-------------------+----------+-----------+-------+------------+-------------------+------------+------------+----------------+----------+-----------+-----------------+-------------------+-----+-----------+-----------------+--------------------+--------+-----------------+-----+--------------------+--------------------+----------+------------+--------------+--------------+--------+----------------+-------------+--------------+-------+----------+----------+----------------+-----------------+--------------------+------------------------+--------------------+----------+-------------------+---------+-----------------+-------------------+-------------------+-------------------+--------------------+-------------------+-------------------+-------------------+-------------------+--------------------+--------------------+-------------------+--------------------+--------------------+-------------------+-------------------+-------------------+\n",
      "|     211|      2025|          2|152.5937747819191|125.04837430610627|78.88996827914353|56.98654506605884|68.84321103108333|86.02875245369897|     135|     100|      39|  107|   71|   18|  191|  165|  109|118.84403912238967|0.06641554321966693| 300402937|         49|  BRONX|  02/01/2025|2025-07-28 18:50:00|  02/01/2025|    19:13:00|       COMPLETED|    (null)|       NULL|                0|   N.Y. POLICE DEPT|  344|MISDEMEANOR|           INSIDE|ASSAULT 3 & RELAT...|  (null)|PATROL BORO BRONX|  101|           ASSAULT 3|RESIDENCE - APT. ...|02/01/2025|      (null)|         45-64|         BLACK|       F|            NULL|        45-64|         BLACK|      F|   1021639|    250223|       40.853409|       -73.864848|(40.853409, -73.8...|    POINT (-73.864848...|POINT (-73.864848...|      true|         2025-02-01|        1|              612|0.08006535947712418|0.24673202614379086|0.31862745098039214|0.017973856209150325|0.06862745098039216|0.46405228758169936| 0.1388888888888889|0.22712418300653595|0.008870214752567697|0.016258169934640535|0.06862745098039216| 0.02287581699346405|0.006535947712418301|0.22058823529411764| 0.4624183006535948|0.31699346405228757|\n",
      "|     211|      2025|          3|152.5937747819191|125.04837430610627|78.88996827914353|56.98654506605884|68.84321103108333|86.02875245369897|     135|     100|      39|  107|   71|   18|  191|  165|  109|118.84403912238967|0.06641554321966693| 303870660|         49|  BRONX|  03/29/2025|2025-07-28 21:35:00|  03/29/2025|    23:02:00|       COMPLETED|    (null)|       NULL|                0|   N.Y. POLICE DEPT|  233|MISDEMEANOR|           (null)|          SEX CRIMES|  (null)|PATROL BORO BRONX|  681|CHILD, ENDANGERIN...|              STREET|03/30/2025|      (null)|         18-24|         BLACK|       F|            NULL|      UNKNOWN|       UNKNOWN|      E|   1027434|    251387|40.8565767275976|-73.8438936779283|(40.8565767275976...|    POINT (-73.843893...|POINT (-73.843893...|      true|         2025-03-29|       29|              620|0.09032258064516129|0.18548387096774194|0.33225806451612905|0.012903225806451613|               0.05|0.45161290322580644|0.16129032258064516|0.22741935483870968|0.010138248847926275|0.014516129032258053|0.07419354838709677| 0.02258064516129032| 0.01129032258064516|0.20806451612903226| 0.4532258064516129| 0.3387096774193548|\n",
      "|     211|      2025|          3|152.5937747819191|125.04837430610627|78.88996827914353|56.98654506605884|68.84321103108333|86.02875245369897|     135|     100|      39|  107|   71|   18|  191|  165|  109|118.84403912238967|0.06641554321966693| 303389883|         49|  BRONX|  03/21/2025|2025-07-28 20:18:00|  03/21/2025|    21:30:00|       COMPLETED|    (null)|      34132|                2|N.Y. HOUSING POLICE|  233|MISDEMEANOR|           INSIDE|          SEX CRIMES|  (null)|PATROL BORO BRONX|  681|CHILD, ENDANGERIN...|RESIDENCE - PUBLI...|03/21/2025|      (null)|         25-44|WHITE HISPANIC|       F|            NULL|      UNKNOWN|       UNKNOWN|      E|   1027434|    251387|40.8565767275976|-73.8438936779283|(40.8565767275976...|    POINT (-73.843893...|POINT (-73.843893...|      true|         2025-03-21|       21|              620|0.09032258064516129|0.18548387096774194|0.33225806451612905|0.012903225806451613|               0.05|0.45161290322580644|0.16129032258064516|0.22741935483870968|0.010138248847926275|0.014516129032258053|0.07419354838709677| 0.02258064516129032| 0.01129032258064516|0.20806451612903226| 0.4532258064516129| 0.3387096774193548|\n",
      "|     211|      2024|          1|152.5937747819191|125.04837430610627|78.88996827914353|56.98654506605884|68.84321103108333|86.02875245369897|     135|     100|      39|  107|   71|   18|  191|  165|  109|118.84403912238967|0.06641554321966693| 299948449|         49|  BRONX|  01/22/2024|2025-07-28 19:22:00|  01/22/2025|    19:33:00|       COMPLETED|    (null)|       NULL|                0|   N.Y. POLICE DEPT|  126|     FELONY|         FRONT OF|MISCELLANEOUS PEN...|  (null)|PATROL BORO BRONX|  198| CRIMINAL CONTEMPT 1|RESIDENCE - APT. ...|01/23/2025|      (null)|         45-64|WHITE HISPANIC|       M|            NULL|        45-64|WHITE HISPANIC|      F|   1025726|    246570|       40.843364|       -73.850096|(40.843364, -73.8...|    POINT (-73.850096...|POINT (-73.850096...|      true|         2024-01-22|       22|                5|                0.2|                0.6|                0.2|                 0.0|                0.0|                0.4|                0.2|                0.0|                 0.0|                0.01|                0.2|                 0.0|                 0.0|                0.0|                0.6|                0.4|\n",
      "|     211|      2025|          1|152.5937747819191|125.04837430610627|78.88996827914353|56.98654506605884|68.84321103108333|86.02875245369897|     135|     100|      39|  107|   71|   18|  191|  165|  109|118.84403912238967|0.06641554321966693| 298860303|         49|  BRONX|  01/03/2025|2025-07-28 21:55:00|  01/03/2025|    21:59:00|       COMPLETED|    (null)|       NULL|                0|   N.Y. POLICE DEPT|  344|MISDEMEANOR|         FRONT OF|ASSAULT 3 & RELAT...|  (null)|PATROL BORO BRONX|  101|           ASSAULT 3|RESIDENCE - APT. ...|01/03/2025|      (null)|         45-64|         BLACK|       F|            NULL|        25-44|WHITE HISPANIC|      F|   1020761|    245865|       40.841451|       -73.868043|(40.841451, -73.8...|    POINT (-73.868043...|POINT (-73.868043...|      true|         2025-01-03|        3|              626| 0.1134185303514377|0.24600638977635783|0.31309904153354634|0.009584664536741214|0.04952076677316294| 0.5095846645367412|0.11022364217252396| 0.2220447284345048|0.008671839342765863| 0.01613418530351439|0.07667731629392971|0.025559105431309903|0.012779552715654952|0.22364217252396165| 0.4329073482428115|0.34345047923322686|\n",
      "+--------+----------+-----------+-----------------+------------------+-----------------+-----------------+-----------------+-----------------+--------+--------+--------+-----+-----+-----+-----+-----+-----+------------------+-------------------+----------+-----------+-------+------------+-------------------+------------+------------+----------------+----------+-----------+-----------------+-------------------+-----+-----------+-----------------+--------------------+--------+-----------------+-----+--------------------+--------------------+----------+------------+--------------+--------------+--------+----------------+-------------+--------------+-------+----------+----------+----------------+-----------------+--------------------+------------------------+--------------------+----------+-------------------+---------+-----------------+-------------------+-------------------+-------------------+--------------------+-------------------+-------------------+-------------------+-------------------+--------------------+--------------------+-------------------+--------------------+--------------------+-------------------+-------------------+-------------------+\n",
      "only showing top 5 rows\n",
      "\n"
     ]
    }
   ],
   "source": [
    "df = df.join(agg_crimes_df, on=[\"District\", \"CRIME_YEAR\", \"CRIME_MONTH\"], how=\"left\")\n",
    "df.show(5)"
   ]
  },
  {
   "cell_type": "code",
   "execution_count": null,
   "metadata": {},
   "outputs": [],
   "source": []
  },
  {
   "cell_type": "code",
   "execution_count": null,
   "metadata": {},
   "outputs": [],
   "source": []
  },
  {
   "cell_type": "code",
   "execution_count": null,
   "metadata": {},
   "outputs": [],
   "source": []
  },
  {
   "cell_type": "code",
   "execution_count": null,
   "metadata": {},
   "outputs": [],
   "source": []
  },
  {
   "cell_type": "code",
   "execution_count": null,
   "metadata": {},
   "outputs": [],
   "source": []
  },
  {
   "cell_type": "code",
   "execution_count": 6,
   "metadata": {},
   "outputs": [],
   "source": [
    "agg_race_vic_df = df.groupBy(\"District\", \"CRIME_YEAR\",\"CRIME_MONTH\" ).agg(\n",
    "    avg(when(df.VIC_RACE == 'WHITE', 1).otherwise(0)).alias(\"mean_white\"),\n",
    "    avg(when(df.VIC_RACE == 'BLACK', 1).otherwise(0)).alias(\"mean_black\"),\n",
    "    avg(when(df.VIC_RACE == 'BLACK HISPANIC', 1).otherwise(0)).alias(\"mean_black_hispanic\"),\n",
    "    avg(when(df.VIC_RACE == 'WHITE HISPANIC', 1).otherwise(0)).alias(\"mean_hispanic\"),\n",
    "    avg(when(df.VIC_RACE == 'AMERICAN INDIAN/ALASKAN NATIVE', 1).otherwise(0)).alias(\"mean_amer_indian\"),\n",
    "    avg(when(df.VIC_RACE == 'ASIAN / PACIFIC ISLANDER', 1).otherwise(0)).alias(\"mean_asian\")\n",
    "\n",
    ").orderBy(\"District\")\n",
    "df = df.join(agg_race_vic_df, on=[\"District\",\"CRIME_YEAR\",\"CRIME_MONTH\"], how=\"left\")"
   ]
  },
  {
   "cell_type": "code",
   "execution_count": 7,
   "metadata": {},
   "outputs": [],
   "source": [
    "from pyspark.sql.functions import when, avg, countDistinct, count, col, row_number\n",
    "\n",
    "agg_age_df = df.groupBy(\"District\", \"CRIME_YEAR\",\"CRIME_MONTH\").agg(\n",
    "    avg(when(df.SUSP_AGE_GROUP == '18-24', 1/7).otherwise(0)).alias(\"pct_age_18_24\"),\n",
    "    avg(when(df.SUSP_AGE_GROUP == '25-44', 1/20).otherwise(0)).alias(\"pct_age_25_44\"),\n",
    "    avg(when(df.SUSP_AGE_GROUP == '45-64', 1).otherwise(0)).alias(\"pct_age_45_64\"),\n",
    "    avg(when(df.SUSP_AGE_GROUP == '<18', 1).otherwise(0)).alias(\"pct_age_<18\"),\n",
    "    avg(when(df.SUSP_AGE_GROUP == '65+', 1).otherwise(0)).alias(\"pct_age_65_plus\")\n",
    ")\n",
    "df = df.join(agg_age_df, on=[\"District\",\"CRIME_YEAR\",\"CRIME_MONTH\"], how=\"left\")"
   ]
  },
  {
   "cell_type": "code",
   "execution_count": 8,
   "metadata": {},
   "outputs": [],
   "source": [
    "agg_sex_df = df.groupBy(\"District\",\"CRIME_YEAR\",\"CRIME_MONTH\").agg(\n",
    "    avg(when(df.SUSP_SEX == 'M', 1).otherwise(0)).alias(\"mean_M\"),\n",
    "    avg(when(df.SUSP_SEX == 'F', 1).otherwise(0)).alias(\"mean_F\"),\n",
    "    avg(when(df.SUSP_SEX == 'U', 1).otherwise(0)).alias(\"mean_U\")\n",
    "\n",
    "\n",
    ").orderBy(\"District\")\n",
    "df = df.join(agg_sex_df, on=[\"District\",\"CRIME_YEAR\",\"CRIME_MONTH\"], how=\"left\")"
   ]
  },
  {
   "cell_type": "code",
   "execution_count": 9,
   "metadata": {},
   "outputs": [
    {
     "name": "stderr",
     "output_type": "stream",
     "text": [
      "[Stage 15:>                                                         (0 + 8) / 8]\r"
     ]
    },
    {
     "name": "stdout",
     "output_type": "stream",
     "text": [
      "+--------+----------+-----------+-------------------+--------------------+--------------------------------+--------------------+----------------------------------+----------------------------+--------------------+--------------------+---------------------------+-----------------------------------+---------------------------------+--------------------+--------------------+----------------------------------+--------------------+\n",
      "|District|CRIME_YEAR|CRIME_MONTH|  pct_petit_larceny|   pct_harrassment_2|pct_assault_3_&_related_offenses|   pct_grand_larceny|pct_criminal_mischief_&_related_of|pct_vehicle_and_traffic_laws|  pct_felony_assault| pct_dangerous_drugs|pct_miscellaneous_penal_law|pct_other_offenses_related_to_theft|pct_off._agnst_pub_ord_sensblty_&|         pct_robbery|        pct_burglary|pct_grand_larceny_of_motor_vehicle|      pct_sex_crimes|\n",
      "+--------+----------+-----------+-------------------+--------------------+--------------------------------+--------------------+----------------------------------+----------------------------+--------------------+--------------------+---------------------------+-----------------------------------+---------------------------------+--------------------+--------------------+----------------------------------+--------------------+\n",
      "|     313|      2024|         11| 0.3333333333333333|                 0.0|              0.1111111111111111|  0.3333333333333333|                               0.0|                         0.0|                 0.0|                 0.0|                        0.0|                                0.0|               0.1111111111111111|                 0.0|                 0.0|                               0.0|                 0.0|\n",
      "|     306|      2022|          3|                0.0|                 0.0|                             0.0|                 0.0|                               0.0|                         0.0|                 0.0|                 0.0|                        0.0|                                0.0|                              1.0|                 0.0|                 0.0|                               0.0|                 0.0|\n",
      "|     403|      2024|          3|                0.0|  0.3333333333333333|                             0.0|  0.3333333333333333|                               0.0|                         0.0|                 0.0|                 0.0|                        0.0|                                0.0|                              0.0|                 0.0|                 0.0|                               0.0|                 0.0|\n",
      "|     402|      2023|          3|                0.0|                 0.0|                             0.0|                 1.0|                               0.0|                         0.0|                 0.0|                 0.0|                        0.0|                                0.0|                              0.0|                 0.0|                 0.0|                               0.0|                 0.0|\n",
      "|     312|      2024|          1|               0.25|                0.75|                             0.0|                 0.0|                               0.0|                         0.0|                 0.0|                 0.0|                        0.0|                                0.0|                              0.0|                 0.0|                 0.0|                               0.0|                 0.0|\n",
      "|     311|      2024|         10| 0.3333333333333333|                 0.0|                             0.0| 0.16666666666666666|                               0.0|                         0.0|                 0.0|                 0.0|                        0.0|                                0.0|                              0.0|                 0.0|                 0.0|                               0.0| 0.16666666666666666|\n",
      "|     402|      2024|          7|                0.0|                 0.0|                             0.0|  0.3333333333333333|                0.3333333333333333|                         0.0|                 0.0|                 0.0|                        0.0|                                0.0|               0.3333333333333333|                 0.0|                 0.0|                               0.0|                 0.0|\n",
      "|     201|      2024|         10|0.09090909090909091|  0.2727272727272727|             0.18181818181818182| 0.18181818181818182|                               0.0|                         0.0|                 0.0|                 0.0|        0.09090909090909091|                                0.0|                              0.0|                 0.0|                 0.0|                               0.0|                 0.0|\n",
      "|     104|      2025|          2|0.18622448979591838| 0.13520408163265307|             0.09183673469387756| 0.11862244897959184|               0.06887755102040816|        0.021683673469387755|0.042091836734693876|              0.0625|        0.02040816326530612|                0.02423469387755102|             0.011479591836734694| 0.02295918367346939|0.025510204081632654|              0.003826530612244898| 0.03571428571428571|\n",
      "|     304|      2025|          3|0.09531502423263329|  0.1260096930533118|             0.12277867528271405|0.051696284329563816|               0.09208400646203554|         0.06785137318255251|0.033925686591276254| 0.05977382875605816|       0.051696284329563816|               0.051696284329563816|             0.030694668820678513|0.030694668820678513| 0.01615508885298869|              0.017770597738287562|0.022617124394184167|\n",
      "|     210|      2025|          1|0.18761726078799248| 0.13883677298311445|             0.08630393996247655|0.054409005628517824|               0.07692307692307693|         0.08067542213883677|  0.0450281425891182| 0.01125703564727955|         0.0225140712945591|                0.00375234521575985|               0.0525328330206379| 0.04878048780487805|0.020637898686679174|               0.08630393996247655|0.016885553470919325|\n",
      "|     312|      2024|         12|0.34615384615384615| 0.07692307692307693|                             0.0|  0.4230769230769231|              0.038461538461538464|                         0.0|                 0.0|                 0.0|                        0.0|                                0.0|                              0.0|                 0.0|                 0.0|                               0.0|                 0.0|\n",
      "|     313|      2024|         12|0.45161290322580644| 0.06451612903225806|             0.12903225806451613|  0.0967741935483871|                               0.0|                         0.0| 0.03225806451612903|                 0.0|        0.12903225806451613|                                0.0|              0.03225806451612903|                 0.0|                 0.0|                               0.0| 0.06451612903225806|\n",
      "|     312|      2024|         11| 0.2857142857142857| 0.42857142857142855|             0.14285714285714285|                 0.0|                               0.0|                         0.0|                 0.0|                 0.0|                        0.0|                                0.0|                              0.0|                 0.0|                 0.0|                               0.0|                 0.0|\n",
      "|     108|      2025|          1|0.47639484978540775| 0.08869814020028613|            0.044349070100143065| 0.15736766809728184|               0.03862660944206009|         0.02145922746781116| 0.01430615164520744|0.002861230329041488|       0.010014306151645207|               0.010014306151645207|             0.011444921316165951|0.020028612303290415| 0.03719599427753934|               0.00715307582260372|0.010014306151645207|\n",
      "|     105|      2024|          5|                0.0|                 0.0|                             0.0|                 0.0|                              0.75|                         0.0|                0.25|                 0.0|                        0.0|                                0.0|                              0.0|                 0.0|                 0.0|                               0.0|                 0.0|\n",
      "|     102|      2024|         12|0.43103448275862066|0.017241379310344827|            0.017241379310344827| 0.39655172413793105|              0.017241379310344827|                         0.0|                 0.0|                 0.0|       0.017241379310344827|                                0.0|                              0.0|                 0.0|0.017241379310344827|                               0.0|0.017241379310344827|\n",
      "|     109|      2024|          8|                0.5|                 0.0|                             0.0|                 0.5|                               0.0|                         0.0|                 0.0|                 0.0|                        0.0|                                0.0|                              0.0|                 0.0|                 0.0|                               0.0|                 0.0|\n",
      "|     107|      2024|          4|                0.5|                 0.0|                             0.0|                 0.0|                               0.0|                         0.0|                 0.0|                 0.0|                        0.0|                                0.0|                              0.0|                 0.0|                 0.0|                               0.0|                 0.0|\n",
      "|     482|      2025|          2|                0.0|                 0.0|                             0.0|                 0.0|                               0.0|                         0.0|                 0.0|                0.25|                        0.0|                                0.0|                              0.0|                 0.0|                0.25|                               0.5|                 0.0|\n",
      "|     302|      2025|          1|0.21981424148606812|  0.1692466460268318|             0.07636738906088751| 0.06914344685242518|               0.04643962848297214|         0.05675954592363261|  0.0392156862745098| 0.02476780185758514|       0.033023735810113516|               0.043343653250773995|             0.033023735810113516|0.022703818369453045| 0.03611971104231166|              0.014447884416924664|0.009287925696594427|\n",
      "|     210|      2024|          7|                0.0|                 0.0|                             0.0|                 0.0|                               0.0|                         0.0|                 0.0|                 0.0|                        0.0|                                0.0|                              0.5|                 0.0|                 0.0|                               0.0|                 0.5|\n",
      "|     401|      2024|         10|             0.3125|               0.125|                             0.0|                0.25|                               0.0|                         0.0|              0.0625|                 0.0|                        0.0|                                0.0|                              0.0|                 0.0|                 0.0|                            0.0625|               0.125|\n",
      "|     227|      2025|          2|                0.2|                0.04|                            0.04|                0.08|                               0.2|                        0.16|                0.12|                 0.0|                       0.04|                                0.0|                             0.08|                 0.0|                 0.0|                              0.04|                 0.0|\n",
      "|     112|      2024|         12|0.48214285714285715| 0.07142857142857142|             0.05357142857142857| 0.16071428571428573|                             0.125|                         0.0| 0.03571428571428571|                 0.0|                        0.0|                                0.0|              0.05357142857142857|                 0.0|                 0.0|                               0.0|                 0.0|\n",
      "|     107|      2024|          3|               0.75|                0.25|                             0.0|                 0.0|                               0.0|                         0.0|                 0.0|                 0.0|                        0.0|                                0.0|                              0.0|                 0.0|                 0.0|                               0.0|                 0.0|\n",
      "|     109|      2024|          6|                0.0|                 0.0|                            0.25|                 0.5|                               0.0|                         0.0|                 0.0|                 0.0|                        0.0|                                0.0|                              0.0|                 0.0|                 0.0|                               0.0|                0.25|\n",
      "|     105|      2024|          8|                0.0|                 0.0|                             0.0|  0.6666666666666666|                0.1111111111111111|                         0.0|                 0.0|                 0.0|                        0.0|                                0.0|                              0.0|                 0.0|                 0.0|                               0.0|                 0.0|\n",
      "|     308|      2024|          2|                0.0|                 0.5|                             0.0|                 0.0|                               0.0|                         0.0|                 0.0|                 0.0|                        0.0|                                0.0|                              0.0|                 0.0|                 0.0|                               0.0|                 0.0|\n",
      "|     206|      2025|          1|0.14516129032258066|  0.1662531017369727|             0.12034739454094293| 0.05086848635235732|              0.062034739454094295|        0.043424317617866005| 0.07816377171215881|0.013647642679900745|       0.022332506203473945|                0.04714640198511166|              0.05707196029776675| 0.03722084367245657| 0.02481389578163772|              0.018610421836228287|0.007444168734491315|\n",
      "|     227|      2025|          3|0.09090909090909091| 0.13636363636363635|             0.09090909090909091|0.045454545454545456|               0.13636363636363635|         0.18181818181818182|                 0.0|                 0.0|                        0.0|                                0.0|             0.045454545454545456|                 0.0|                 0.0|               0.13636363636363635|                 0.0|\n",
      "|     305|      2024|         10| 0.4117647058823529| 0.17647058823529413|            0.058823529411764705| 0.11764705882352941|                               0.0|                         0.0|                 0.0|                 0.0|                        0.0|                                0.0|             0.058823529411764705|                 0.0|                 0.0|                               0.0|                 0.0|\n",
      "|     412|      2024|          2|                0.0|                 0.0|                             0.0|                 0.0|                               0.0|                         0.0| 0.16666666666666666|  0.3333333333333333|                        0.0|                                0.0|                              0.0|                 0.0|                 0.0|                               0.0|  0.3333333333333333|\n",
      "|     301|      2023|          9|                0.0|                 0.0|                             0.0|                 0.0|                               0.0|                         0.0|                 0.0|                 0.0|                        0.0|                                0.0|                              1.0|                 0.0|                 0.0|                               0.0|                 0.0|\n",
      "|     480|      2024|         12|                0.5|                 0.0|                             0.0|                 0.5|                               0.0|                         0.0|                 0.0|                 0.0|                        0.0|                                0.0|                              0.0|                 0.0|                 0.0|                               0.0|                 0.0|\n",
      "|     102|      2025|          2|0.37417654808959155| 0.06060606060606061|             0.06455862977602109| 0.16996047430830039|               0.06060606060606061|        0.003952569169960474| 0.01844532279314888| 0.05928853754940711|        0.00922266139657444|                 0.0461133069828722|             0.021080368906455864|0.015810276679841896| 0.02766798418972332|              0.001317523056653...|0.006587615283267457|\n",
      "|     209|      2019|         12|                0.0|                 0.0|                             0.0|                 0.0|                               0.0|                         0.0|                 0.0|                 0.0|                        0.0|                                0.0|                              0.0|                 0.0|                 0.0|                               0.0|                 0.0|\n",
      "|     106|      2023|          3|                0.0|                 0.5|                             0.0|                 0.0|                               0.0|                         0.0|                 0.0|                 0.0|                        0.0|                                0.0|                              0.0|                 0.0|                 0.0|                               0.0|                 0.0|\n",
      "|     314|      2024|          9| 0.6666666666666666|                 0.0|                             0.0|  0.3333333333333333|                               0.0|                         0.0|                 0.0|                 0.0|                        0.0|                                0.0|                              0.0|                 0.0|                 0.0|                               0.0|                 0.0|\n",
      "|     203|      2017|          9|                0.0|                 0.0|                             0.0|                 0.0|                               0.0|                         0.0|                 0.0|                 0.0|                        0.0|                                0.0|                              0.0|                 0.0|                 0.0|                               0.0|                 0.0|\n",
      "|     209|      2025|          2|0.21524663677130046|  0.1311659192825112|             0.11547085201793722| 0.08632286995515695|               0.05605381165919283|        0.034753363228699555| 0.06502242152466367| 0.01569506726457399|       0.016816143497757848|                0.02242152466367713|              0.04484304932735426|0.034753363228699555|0.023542600896860985|               0.03923766816143498|0.005605381165919282|\n",
      "|     106|      2021|          4|                0.0|                 0.0|                             0.0|                 0.0|                               0.0|                         0.0|                 0.0|                 0.0|                        0.0|                                0.0|                              1.0|                 0.0|                 0.0|                               0.0|                 0.0|\n",
      "|     111|      2013|          1|                0.0|                 0.0|                             0.0|                 0.0|                               0.0|                         0.0|                 0.0|                 0.0|                        0.0|                                0.0|                              0.0|                 0.0|                 0.0|                               0.0|                 0.0|\n",
      "|     308|      2024|          6|                0.0|                 0.0|                             0.0|                0.25|                               0.0|                         0.0|                 0.0|                0.25|                        0.0|                                0.0|                             0.25|                 0.0|                 0.0|                               0.0|                0.25|\n",
      "|     106|      2024|          8|                0.0|                 0.0|                             0.0|  0.6666666666666666|                               0.0|                         0.0|                 0.0|                 0.0|                        0.0|                                0.0|               0.3333333333333333|                 0.0|                 0.0|                               0.0|                 0.0|\n",
      "|     111|      2020|          1|                1.0|                 0.0|                             0.0|                 0.0|                               0.0|                         0.0|                 0.0|                 0.0|                        0.0|                                0.0|                              0.0|                 0.0|                 0.0|                               0.0|                 0.0|\n",
      "|     411|      2025|          2|0.18584070796460178| 0.20353982300884957|            0.030973451327433628| 0.08849557522123894|               0.08849557522123894|          0.0752212389380531|0.008849557522123894|0.004424778761061947|        0.02654867256637168|               0.004424778761061947|             0.022123893805309734|                 0.0| 0.07964601769911504|                 0.084070796460177|0.004424778761061947|\n",
      "|     305|      2024|          8|                0.0|                 0.0|                             0.0|                 0.0|                               0.0|                         0.0|                 0.0|                 0.5|                        0.0|                                0.0|                              0.0|                 0.0|                 0.0|                               0.0|                 0.0|\n",
      "|     403|      2024|          1|                0.5|                0.25|                             0.0|                 0.0|                               0.0|                         0.0|                 0.0|                 0.0|                        0.0|                                0.0|                              0.0|                 0.0|                 0.0|                               0.0|                0.25|\n",
      "|     315|      2025|          1|0.16766467065868262| 0.12974051896207583|             0.07385229540918163| 0.08383233532934131|              0.041916167664670656|         0.11377245508982035| 0.02594810379241517|0.059880239520958084|        0.03992015968063872|               0.021956087824351298|             0.027944111776447105|0.017964071856287425|0.031936127744510975|              0.041916167664670656| 0.00998003992015968|\n",
      "+--------+----------+-----------+-------------------+--------------------+--------------------------------+--------------------+----------------------------------+----------------------------+--------------------+--------------------+---------------------------+-----------------------------------+---------------------------------+--------------------+--------------------+----------------------------------+--------------------+\n",
      "only showing top 50 rows\n",
      "\n"
     ]
    },
    {
     "name": "stderr",
     "output_type": "stream",
     "text": [
      "                                                                                \r"
     ]
    }
   ],
   "source": [
    "top_offenses = (\n",
    "    df.groupBy(\"OFNS_DESC\")\n",
    "    .count()\n",
    "    .orderBy(\"count\", ascending=False)\n",
    "    .limit(15)\n",
    "    .select(\"OFNS_DESC\")\n",
    "    .rdd.flatMap(lambda x: x)\n",
    "    .collect()\n",
    ")\n",
    "\n",
    "\n",
    "agg_exprs = [\n",
    "    avg(when(col(\"OFNS_DESC\") == offense, 1).otherwise(0)).alias(f\"pct_{offense.lower().replace(' ', '_')}\")\n",
    "    for offense in top_offenses\n",
    "]\n",
    "\n",
    "agg_offense_df = df.groupBy(\"District\",\"CRIME_YEAR\",\"CRIME_MONTH\").agg(*agg_exprs)\n",
    "\n",
    "agg_offense_df.show(50)"
   ]
  },
  {
   "cell_type": "code",
   "execution_count": 10,
   "metadata": {},
   "outputs": [
    {
     "name": "stderr",
     "output_type": "stream",
     "text": [
      "                                                                                \r"
     ]
    },
    {
     "name": "stdout",
     "output_type": "stream",
     "text": [
      "+--------+----------+-----------+----------+-----------+---------+------------+-------------------+------------+------------+----------------+----------+-----------+-----------------+-------------------+-----+----------+-----------------+--------------------+--------+--------------------+-----+--------------------+--------------------+----------+------------+--------------+---------+--------+----------------+-------------+--------------------+-------+----------+----------+-----------------+------------------+--------------------+------------------------+--------------------+----------+-------------------+---------+-----------------+-------------------+--------------------+--------------------+-------------------+--------------------+-------------------+--------------------+--------------------+-------------------+--------------------+--------------------+------------------+-------------------+-------------------+-------------------+-------------------+--------------------------------+-------------------+----------------------------------+----------------------------+--------------------+--------------------+---------------------------+-----------------------------------+---------------------------------+--------------------+--------------------+----------------------------------+--------------------+\n",
      "|district|CRIME_YEAR|CRIME_MONTH|CMPLNT_NUM|ADDR_PCT_CD|  BORO_NM|CMPLNT_FR_DT|       CMPLNT_FR_TM|CMPLNT_TO_DT|CMPLNT_TO_TM|CRM_ATPT_CPTD_CD|HADEVELOPT|HOUSING_PSA|JURISDICTION_CODE|         JURIS_DESC|KY_CD|LAW_CAT_CD|LOC_OF_OCCUR_DESC|           OFNS_DESC|PARKS_NM|         PATROL_BORO|PD_CD|             PD_DESC|       PREM_TYP_DESC|    RPT_DT|STATION_NAME|SUSP_AGE_GROUP|SUSP_RACE|SUSP_SEX|TRANSIT_DISTRICT|VIC_AGE_GROUP|            VIC_RACE|VIC_SEX|X_COORD_CD|Y_COORD_CD|         Latitude|         Longitude|             Lat_Lon|New Georeferenced Column|                geom|intersects|CMPLNT_FR_DT_PARSED|CRIME_DAY|total_crimes_dist|         mean_white|          mean_black| mean_black_hispanic|      mean_hispanic|    mean_amer_indian|         mean_asian|       pct_age_18_24|       pct_age_25_44|      pct_age_45_64|         pct_age_<18|     pct_age_65_plus|            mean_M|             mean_F|             mean_U|  pct_petit_larceny|  pct_harrassment_2|pct_assault_3_&_related_offenses|  pct_grand_larceny|pct_criminal_mischief_&_related_of|pct_vehicle_and_traffic_laws|  pct_felony_assault| pct_dangerous_drugs|pct_miscellaneous_penal_law|pct_other_offenses_related_to_theft|pct_off._agnst_pub_ord_sensblty_&|         pct_robbery|        pct_burglary|pct_grand_larceny_of_motor_vehicle|      pct_sex_crimes|\n",
      "+--------+----------+-----------+----------+-----------+---------+------------+-------------------+------------+------------+----------------+----------+-----------+-----------------+-------------------+-----+----------+-----------------+--------------------+--------+--------------------+-----+--------------------+--------------------+----------+------------+--------------+---------+--------+----------------+-------------+--------------------+-------+----------+----------+-----------------+------------------+--------------------+------------------------+--------------------+----------+-------------------+---------+-----------------+-------------------+--------------------+--------------------+-------------------+--------------------+-------------------+--------------------+--------------------+-------------------+--------------------+--------------------+------------------+-------------------+-------------------+-------------------+-------------------+--------------------------------+-------------------+----------------------------------+----------------------------+--------------------+--------------------+---------------------------+-----------------------------------+---------------------------------+--------------------+--------------------+----------------------------------+--------------------+\n",
      "|     356|      2025|          3| 303240228|         63| BROOKLYN|  03/20/2025|2025-07-15 03:05:00|        NULL|      (null)|       COMPLETED|    (null)|       NULL|               11|  N.Y. STATE POLICE|  111|    FELONY|           (null)|POSSESSION OF STO...|  (null)|PATROL BORO BKLYN...|  494|STOLEN PROPERTY 2...|              STREET|03/20/2025|      (null)|         18-24|    BLACK|       M|            NULL|      UNKNOWN|             UNKNOWN|      E|   1009834|    156615|      40.59651127|      -73.90787551|(40.59651127, -73...|    POINT (-73.907875...|POINT (-73.907875...|      true|         2025-03-20|       20|                5|                0.0|                 0.2|                 0.0|                0.0|                 0.0|                0.2| 0.05714285714285714|                0.01|                0.0|                 0.0|                 0.0|               0.6|                0.0|                0.0|                0.0|                0.0|                             0.0|                0.0|                               0.0|                         0.4|                 0.0|                 0.0|                        0.0|                                0.0|                              0.0|                 0.0|                 0.2|                               0.0|                 0.0|\n",
      "|     407|      2025|          1| 298937675|        109|   QUEENS|  01/05/2025|2025-07-15 18:40:00|  01/05/2025|    18:50:00|       COMPLETED|    (null)|       NULL|                0|   N.Y. POLICE DEPT|  110|    FELONY|         FRONT OF|GRAND LARCENY OF ...|  (null)|PATROL BORO QUEEN...|  450|LARCENY, GRAND OF...|              STREET|01/05/2025|      (null)|        (null)|   (null)|  (null)|            NULL|        45-64|ASIAN / PACIFIC I...|      M|   1031811|    213643|         40.75296|        -73.828337|(40.75296, -73.82...|    POINT (-73.828337...|POINT (-73.828337...|      true|         2025-01-05|        5|              827|0.10399032648125756|0.060459492140266025|0.014510278113663845|0.17049576783555018|0.004836759371221...| 0.3059250302297461|0.008637070305752287|0.012877871825876653|0.08464328899637243|0.014510278113663845|0.015719467956469165|0.4921402660217654|0.12091898428053205|0.09189842805320435|0.24062877871825877|0.13301088270858524|             0.09673518742442563|0.08343409915356712|                0.0471584038694075|        0.036275695284159616| 0.04836759371221282|0.012091898428053204|       0.026602176541717048|               0.010882708585247884|             0.015719467956469165|0.016928657799274487| 0.07255139056831923|              0.041112454655380895|0.016928657799274487|\n",
      "|     209|      2025|          2| 300990025|         43|    BRONX|  02/10/2025|2025-07-15 20:00:00|  02/12/2025|    17:43:00|       COMPLETED|    (null)|       NULL|                0|   N.Y. POLICE DEPT|  110|    FELONY|           (null)|GRAND LARCENY OF ...|  (null)|   PATROL BORO BRONX|  441|LARCENY,GRAND OF ...|              STREET|02/12/2025|      (null)|       UNKNOWN|  UNKNOWN|       U|            NULL|        25-44|               BLACK|      M|   1017516|    237743|40.81916259403482|-73.87981290417615|(40.8191625940348...|    POINT (-73.879812...|POINT (-73.879812...|      true|         2025-02-10|       10|              892|0.01569506726457399|  0.2589686098654709|  0.1132286995515695|0.28139013452914796|0.007847533632286996|0.05717488789237668|0.013452914798206275|0.014461883408071741|0.10538116591928251|0.030269058295964126|0.010089686098654708|0.5145739910313901| 0.1446188340807175|0.26905829596412556|0.21524663677130046| 0.1311659192825112|             0.11547085201793722|0.08632286995515695|               0.05605381165919283|        0.034753363228699555| 0.06502242152466367| 0.01569506726457399|       0.016816143497757848|                0.02242152466367713|              0.04484304932735426|0.034753363228699555|0.023542600896860985|               0.03923766816143498|0.005605381165919282|\n",
      "|     302|      2025|          2| 300734579|         84| BROOKLYN|  02/07/2025|2025-07-15 14:10:00|        NULL|      (null)|       COMPLETED|    (null)|       NULL|                0|   N.Y. POLICE DEPT|  117|    FELONY|           INSIDE|     DANGEROUS DRUGS|  (null)|PATROL BORO BKLYN...|  521|CONTROLLED SUBSTA...|RESIDENCE - APT. ...|02/07/2025|      (null)|        (null)|   (null)|  (null)|            NULL|      UNKNOWN|             UNKNOWN|      E|    989235|    189578|        40.687033|        -73.982026|(40.687033, -73.9...|    POINT (-73.982026...|POINT (-73.982026...|      true|         2025-02-07|        7|              954|0.11425576519916142| 0.24528301886792453|  0.0220125786163522|0.07756813417190776|0.007337526205450734|0.05555555555555555|0.010631925726265345|0.016404612159329122|0.14150943396226415|0.029350104821802937|0.009433962264150943|0.5649895178197065|0.20230607966457023|0.14570230607966456|0.23689727463312368|  0.149895178197065|             0.07966457023060797|0.06289308176100629|               0.06184486373165619|        0.029350104821802937| 0.05241090146750524|0.023060796645702306|        0.02620545073375262|                0.09119496855345911|             0.020964360587002098|0.025157232704402517|0.023060796645702306|              0.011530398322851153|0.008385744234800839|\n",
      "|     107|      2025|          2| 300962402|         24|MANHATTAN|  02/12/2025|2025-07-15 06:28:00|  02/12/2025|    06:58:00|       COMPLETED|    (null)|        697|                2|N.Y. HOUSING POLICE|  106|    FELONY|           INSIDE|      FELONY ASSAULT|  (null)|PATROL BORO MAN N...|  109|ASSAULT 2,1,UNCLA...|RESIDENCE - PUBLI...|02/12/2025|      (null)|         25-44|    BLACK|       F|            NULL|        25-44|               BLACK|      M|    993290|    230079|        40.798194|         -73.96735|(40.798194, -73.9...|    POINT (-73.96735 ...|POINT (-73.96735 ...|      true|         2025-02-12|       12|              772|0.23186528497409326|  0.1411917098445596| 0.02849740932642487|0.09326424870466321|0.005181347150259...|0.05829015544041451|0.007216876387860841|0.016839378238341956|0.16321243523316062|0.012953367875647668|0.015544041450777202|0.5867875647668394|0.14507772020725387| 0.1955958549222798| 0.3238341968911917|0.12305699481865284|             0.07642487046632124|0.09455958549222798|               0.06735751295336788|        0.018134715025906734|0.031088082901554404|0.012953367875647668|       0.023316062176165803|               0.042746113989637305|              0.02461139896373057|0.012953367875647668|0.034974093264248704|              0.003886010362694...|0.012953367875647668|\n",
      "+--------+----------+-----------+----------+-----------+---------+------------+-------------------+------------+------------+----------------+----------+-----------+-----------------+-------------------+-----+----------+-----------------+--------------------+--------+--------------------+-----+--------------------+--------------------+----------+------------+--------------+---------+--------+----------------+-------------+--------------------+-------+----------+----------+-----------------+------------------+--------------------+------------------------+--------------------+----------+-------------------+---------+-----------------+-------------------+--------------------+--------------------+-------------------+--------------------+-------------------+--------------------+--------------------+-------------------+--------------------+--------------------+------------------+-------------------+-------------------+-------------------+-------------------+--------------------------------+-------------------+----------------------------------+----------------------------+--------------------+--------------------+---------------------------+-----------------------------------+---------------------------------+--------------------+--------------------+----------------------------------+--------------------+\n",
      "only showing top 5 rows\n",
      "\n"
     ]
    }
   ],
   "source": [
    "df = df.join(agg_offense_df, on=[\"District\", \"CRIME_YEAR\", \"CRIME_MONTH\"], how=\"left\")\n",
    "df.show(5)"
   ]
  },
  {
   "cell_type": "code",
   "execution_count": 15,
   "metadata": {},
   "outputs": [
    {
     "name": "stdout",
     "output_type": "stream",
     "text": [
      "+--------+----------+-----------+-----------------+------------------+-----------------+-----------------+-----------------+-----------------+--------+--------+--------+-----+-----+-----+-----+-----+-----+------------------+-------------------+-------+--------------+--------+-------------+--------------+-------+---------+-----------------+-------------------+-------------------+-------------------+--------------------+-------------------+-------------------+-------------------+-------------------+--------------------+--------------------+-------------------+--------------------+--------------------+-------------------+-------------------+-------------------+\n",
      "|district|CRIME_YEAR|CRIME_MONTH|            R_avg|             G_avg|            B_avg|         R_stddev|         G_stddev|         B_stddev|R_median|G_median|B_median|R_q25|G_q25|B_q25|R_q75|G_q75|B_q75|    brightness_avg|   dark_pixel_ratio|BORO_NM|     SUSP_RACE|SUSP_SEX|VIC_AGE_GROUP|      VIC_RACE|VIC_SEX|CRIME_DAY|total_crimes_dist|         mean_white|         mean_black|      mean_hispanic|    mean_amer_indian|         mean_asian|             mean_M|             mean_F|             mean_U|       pct_age_18_24|       pct_age_25_44|      pct_age_45_64|         pct_age_<18|     pct_age_65_plus| pct_violent_crimes|pct_property_crimes| pct_other_offenses|\n",
      "+--------+----------+-----------+-----------------+------------------+-----------------+-----------------+-----------------+-----------------+--------+--------+--------+-----+-----+-----+-----+-----+-----+------------------+-------------------+-------+--------------+--------+-------------+--------------+-------+---------+-----------------+-------------------+-------------------+-------------------+--------------------+-------------------+-------------------+-------------------+-------------------+--------------------+--------------------+-------------------+--------------------+--------------------+-------------------+-------------------+-------------------+\n",
      "|     211|      2025|          1|152.5937747819191|125.04837430610627|78.88996827914353|56.98654506605884|68.84321103108333|86.02875245369897|     135|     100|      39|  107|   71|   18|  191|  165|  109|118.84403912238967|0.06641554321966693|  BRONX|         BLACK|       F|        25-44|WHITE HISPANIC|      F|        3|              626| 0.1134185303514377|0.24600638977635783|0.31309904153354634|0.009584664536741214|0.04952076677316294| 0.5095846645367412|0.11022364217252396| 0.2220447284345048|0.008671839342765863| 0.01613418530351439|0.07667731629392971|0.025559105431309903|0.012779552715654952|0.22364217252396165| 0.4329073482428115|0.34345047923322686|\n",
      "|     211|      2025|          1|152.5937747819191|125.04837430610627|78.88996827914353|56.98654506605884|68.84321103108333|86.02875245369897|     135|     100|      39|  107|   71|   18|  191|  165|  109|118.84403912238967|0.06641554321966693|  BRONX|       UNKNOWN|       M|        25-44|WHITE HISPANIC|      F|       13|              626| 0.1134185303514377|0.24600638977635783|0.31309904153354634|0.009584664536741214|0.04952076677316294| 0.5095846645367412|0.11022364217252396| 0.2220447284345048|0.008671839342765863| 0.01613418530351439|0.07667731629392971|0.025559105431309903|0.012779552715654952|0.22364217252396165| 0.4329073482428115|0.34345047923322686|\n",
      "|     211|      2025|          2|152.5937747819191|125.04837430610627|78.88996827914353|56.98654506605884|68.84321103108333|86.02875245369897|     135|     100|      39|  107|   71|   18|  191|  165|  109|118.84403912238967|0.06641554321966693|  BRONX|         BLACK|       F|        45-64|         BLACK|      F|        1|              612|0.08006535947712418|0.24673202614379086|0.31862745098039214|0.017973856209150325|0.06862745098039216|0.46405228758169936| 0.1388888888888889|0.22712418300653595|0.008870214752567697|0.016258169934640535|0.06862745098039216| 0.02287581699346405|0.006535947712418301|0.22058823529411764| 0.4624183006535948|0.31699346405228757|\n",
      "|     211|      2025|          3|152.5937747819191|125.04837430610627|78.88996827914353|56.98654506605884|68.84321103108333|86.02875245369897|     135|     100|      39|  107|   71|   18|  191|  165|  109|118.84403912238967|0.06641554321966693|  BRONX|         BLACK|       F|      UNKNOWN|       UNKNOWN|      E|       29|              620|0.09032258064516129|0.18548387096774194|0.33225806451612905|0.012903225806451613|               0.05|0.45161290322580644|0.16129032258064516|0.22741935483870968|0.010138248847926275|0.014516129032258053|0.07419354838709677| 0.02258064516129032| 0.01129032258064516|0.20806451612903226| 0.4532258064516129| 0.3387096774193548|\n",
      "|     211|      2024|          1|152.5937747819191|125.04837430610627|78.88996827914353|56.98654506605884|68.84321103108333|86.02875245369897|     135|     100|      39|  107|   71|   18|  191|  165|  109|118.84403912238967|0.06641554321966693|  BRONX|WHITE HISPANIC|       M|        45-64|WHITE HISPANIC|      F|       22|                5|                0.2|                0.6|                0.2|                 0.0|                0.0|                0.4|                0.2|                0.0|                 0.0|                0.01|                0.2|                 0.0|                 0.0|                0.0|                0.6|                0.4|\n",
      "+--------+----------+-----------+-----------------+------------------+-----------------+-----------------+-----------------+-----------------+--------+--------+--------+-----+-----+-----+-----+-----+-----+------------------+-------------------+-------+--------------+--------+-------------+--------------+-------+---------+-----------------+-------------------+-------------------+-------------------+--------------------+-------------------+-------------------+-------------------+-------------------+--------------------+--------------------+-------------------+--------------------+--------------------+-------------------+-------------------+-------------------+\n",
      "only showing top 5 rows\n",
      "\n"
     ]
    }
   ],
   "source": [
    "df = df.drop(\"HOUSING_PSA\",\"CMPLNT_FR_DT_PARSED\",\"OFNS_DESC\",\"LAW_CAT_CD\",\"CRM_ATPT_CPTD_CD\", \"CMPLNT_NUM\", \"PARKS_NM\", \"SUSP_AGE_GROUP\",  \"HADEVELOPT\",\"ADDR_PCT_CD\",\"CMPLNT_TO_DT\",\"CMPLNT_FR_TM\",\"CMPLNT_FR_DT\",\"CMPLNT_TO_TM\", \"RPT_DT\",   \"JURIS_DESC\",\"PD_DESC\",  \"KY_CD\",\"PD_CD\",\"STATION_NAME\",\"STATION_NAME\",  \"PREM_TYP_DESC\",\"TRANSIT_DISTRICT\", \"JURISDICTION_CODE\",\"LOC_OF_OCCUR_DESC\", \"Latitude\", \"Longitude\" , \"Lat_Lon\", \"geom\",  \"PATROL_BORO\", \"X_COORD_CD\", \"Y_COORD_CD\", \"New Georeferenced Column\", \"intersects\" ,\"LAW_CODE\")\n",
    "df.show(5)"
   ]
  },
  {
   "cell_type": "code",
   "execution_count": 19,
   "metadata": {},
   "outputs": [
    {
     "name": "stdout",
     "output_type": "stream",
     "text": [
      "+----------+\n",
      "|CRIME_YEAR|\n",
      "+----------+\n",
      "|      1025|\n",
      "|      2025|\n",
      "|      1975|\n",
      "|      2003|\n",
      "|      2018|\n",
      "|      2015|\n",
      "|      2023|\n",
      "|      2006|\n",
      "|      2022|\n",
      "|      1925|\n",
      "|      2013|\n",
      "|      1997|\n",
      "|      1994|\n",
      "|      2014|\n",
      "|      2019|\n",
      "|      2004|\n",
      "|      2020|\n",
      "|      2012|\n",
      "|      2009|\n",
      "|      2016|\n",
      "|      1995|\n",
      "|      2001|\n",
      "|      2024|\n",
      "|      2005|\n",
      "|      1984|\n",
      "|      2000|\n",
      "|      2010|\n",
      "|      2011|\n",
      "|      2008|\n",
      "|      2017|\n",
      "|      1999|\n",
      "|      2002|\n",
      "|      2021|\n",
      "|      1993|\n",
      "+----------+\n",
      "\n"
     ]
    }
   ],
   "source": [
    "df.select(\"CRIME_YEAR\").distinct().show(100)"
   ]
  },
  {
   "cell_type": "code",
   "execution_count": 16,
   "metadata": {},
   "outputs": [
    {
     "name": "stderr",
     "output_type": "stream",
     "text": [
      "                                                                                \r"
     ]
    }
   ],
   "source": [
    "df.write.mode('overwrite').parquet(f\"{path_data}/version_for_shap.parquet\")"
   ]
  },
  {
   "cell_type": "code",
   "execution_count": 2,
   "metadata": {},
   "outputs": [
    {
     "name": "stderr",
     "output_type": "stream",
     "text": [
      "25/07/29 17:52:21 WARN SparkStringUtils: Truncated the string representation of a plan since it was too large. This behavior can be adjusted by setting 'spark.sql.debug.maxToStringFields'.\n"
     ]
    },
    {
     "name": "stdout",
     "output_type": "stream",
     "text": [
      "+--------+----------+-----------+-----------------+------------------+-----------------+-----------------+-----------------+-----------------+--------+--------+--------+-----+-----+-----+-----+-----+-----+------------------+-------------------+-------+--------------+--------+-------------+--------------+-------+---------+-----------------+-------------------+-------------------+-------------------+--------------------+-------------------+-------------------+-------------------+-------------------+--------------------+--------------------+-------------------+--------------------+--------------------+-------------------+-------------------+-------------------+\n",
      "|district|CRIME_YEAR|CRIME_MONTH|            R_avg|             G_avg|            B_avg|         R_stddev|         G_stddev|         B_stddev|R_median|G_median|B_median|R_q25|G_q25|B_q25|R_q75|G_q75|B_q75|    brightness_avg|   dark_pixel_ratio|BORO_NM|     SUSP_RACE|SUSP_SEX|VIC_AGE_GROUP|      VIC_RACE|VIC_SEX|CRIME_DAY|total_crimes_dist|         mean_white|         mean_black|      mean_hispanic|    mean_amer_indian|         mean_asian|             mean_M|             mean_F|             mean_U|       pct_age_18_24|       pct_age_25_44|      pct_age_45_64|         pct_age_<18|     pct_age_65_plus| pct_violent_crimes|pct_property_crimes| pct_other_offenses|\n",
      "+--------+----------+-----------+-----------------+------------------+-----------------+-----------------+-----------------+-----------------+--------+--------+--------+-----+-----+-----+-----+-----+-----+------------------+-------------------+-------+--------------+--------+-------------+--------------+-------+---------+-----------------+-------------------+-------------------+-------------------+--------------------+-------------------+-------------------+-------------------+-------------------+--------------------+--------------------+-------------------+--------------------+--------------------+-------------------+-------------------+-------------------+\n",
      "|     211|      2025|          1|152.5937747819191|125.04837430610627|78.88996827914353|56.98654506605884|68.84321103108333|86.02875245369897|     135|     100|      39|  107|   71|   18|  191|  165|  109|118.84403912238967|0.06641554321966693|  BRONX|         BLACK|       F|        25-44|WHITE HISPANIC|      F|        3|              626| 0.1134185303514377|0.24600638977635783|0.31309904153354634|0.009584664536741214|0.04952076677316294| 0.5095846645367412|0.11022364217252396| 0.2220447284345048|0.008671839342765863| 0.01613418530351439|0.07667731629392971|0.025559105431309903|0.012779552715654952|0.22364217252396165| 0.4329073482428115|0.34345047923322686|\n",
      "|     211|      2025|          1|152.5937747819191|125.04837430610627|78.88996827914353|56.98654506605884|68.84321103108333|86.02875245369897|     135|     100|      39|  107|   71|   18|  191|  165|  109|118.84403912238967|0.06641554321966693|  BRONX|       UNKNOWN|       M|        25-44|WHITE HISPANIC|      F|       13|              626| 0.1134185303514377|0.24600638977635783|0.31309904153354634|0.009584664536741214|0.04952076677316294| 0.5095846645367412|0.11022364217252396| 0.2220447284345048|0.008671839342765863| 0.01613418530351439|0.07667731629392971|0.025559105431309903|0.012779552715654952|0.22364217252396165| 0.4329073482428115|0.34345047923322686|\n",
      "|     211|      2025|          2|152.5937747819191|125.04837430610627|78.88996827914353|56.98654506605884|68.84321103108333|86.02875245369897|     135|     100|      39|  107|   71|   18|  191|  165|  109|118.84403912238967|0.06641554321966693|  BRONX|         BLACK|       F|        45-64|         BLACK|      F|        1|              612|0.08006535947712418|0.24673202614379086|0.31862745098039214|0.017973856209150325|0.06862745098039216|0.46405228758169936| 0.1388888888888889|0.22712418300653595|0.008870214752567697|0.016258169934640535|0.06862745098039216| 0.02287581699346405|0.006535947712418301|0.22058823529411764| 0.4624183006535948|0.31699346405228757|\n",
      "|     211|      2025|          3|152.5937747819191|125.04837430610627|78.88996827914353|56.98654506605884|68.84321103108333|86.02875245369897|     135|     100|      39|  107|   71|   18|  191|  165|  109|118.84403912238967|0.06641554321966693|  BRONX|         BLACK|       F|      UNKNOWN|       UNKNOWN|      E|       29|              620|0.09032258064516129|0.18548387096774194|0.33225806451612905|0.012903225806451613|               0.05|0.45161290322580644|0.16129032258064516|0.22741935483870968|0.010138248847926275|0.014516129032258053|0.07419354838709677| 0.02258064516129032| 0.01129032258064516|0.20806451612903226| 0.4532258064516129| 0.3387096774193548|\n",
      "|     211|      2024|          1|152.5937747819191|125.04837430610627|78.88996827914353|56.98654506605884|68.84321103108333|86.02875245369897|     135|     100|      39|  107|   71|   18|  191|  165|  109|118.84403912238967|0.06641554321966693|  BRONX|WHITE HISPANIC|       M|        45-64|WHITE HISPANIC|      F|       22|                5|                0.2|                0.6|                0.2|                 0.0|                0.0|                0.4|                0.2|                0.0|                 0.0|                0.01|                0.2|                 0.0|                 0.0|                0.0|                0.6|                0.4|\n",
      "+--------+----------+-----------+-----------------+------------------+-----------------+-----------------+-----------------+-----------------+--------+--------+--------+-----+-----+-----+-----+-----+-----+------------------+-------------------+-------+--------------+--------+-------------+--------------+-------+---------+-----------------+-------------------+-------------------+-------------------+--------------------+-------------------+-------------------+-------------------+-------------------+--------------------+--------------------+-------------------+--------------------+--------------------+-------------------+-------------------+-------------------+\n",
      "only showing top 5 rows\n",
      "\n"
     ]
    },
    {
     "name": "stderr",
     "output_type": "stream",
     "text": [
      "                                                                                \r"
     ]
    },
    {
     "name": "stderr",
     "output_type": "stream",
     "text": [
      "25/07/29 17:56:05 WARN StandaloneAppClient$ClientEndpoint: Connection to 3ba0229e682b:7077 failed; waiting for master to reconnect...\n",
      "25/07/29 17:56:05 WARN StandaloneSchedulerBackend: Disconnected from Spark cluster! Waiting for reconnection...\n",
      "25/07/29 17:56:10 ERROR TaskSchedulerImpl: Lost executor 0 on 172.18.0.5: Remote RPC client disassociated. Likely due to containers exceeding thresholds, or network issues. Check driver logs for WARN messages.\n"
     ]
    }
   ],
   "source": [
    "read = spark.read.parquet(f\"{path_data}/version_for_shap.parquet\")\n",
    "read.show(5)"
   ]
  },
  {
   "cell_type": "markdown",
   "metadata": {},
   "source": [
    "### Some other datasets"
   ]
  },
  {
   "cell_type": "code",
   "execution_count": 35,
   "metadata": {},
   "outputs": [
    {
     "name": "stdout",
     "output_type": "stream",
     "text": [
      "+--------+----------+-----------+-----------------+------------------+-----------------+-----------------+-----------------+-----------------+--------+--------+--------+-----+-----+-----+-----+-----+-----+------------------+-------------------+-------+--------------+--------+-------------+--------------+-------+---------+-----------------+-------------------+-------------------+-------------------+-------------------+--------------------+-------------------+--------------------+--------------------+-------------------+--------------------+--------------------+-------------------+-------------------+-------------------+-------------------+-------------------+--------------------------------+----------------------------------+-------------------+----------------------------+--------------------+---------------------------+--------------------+-----------------------------------+---------------------------------+----------------------------------+--------------------+-------------------+--------------------+\n",
      "|district|CRIME_YEAR|CRIME_MONTH|            R_avg|             G_avg|            B_avg|         R_stddev|         G_stddev|         B_stddev|R_median|G_median|B_median|R_q25|G_q25|B_q25|R_q75|G_q75|B_q75|    brightness_avg|   dark_pixel_ratio|BORO_NM|     SUSP_RACE|SUSP_SEX|VIC_AGE_GROUP|      VIC_RACE|VIC_SEX|CRIME_DAY|total_crimes_dist|         mean_white|         mean_black|mean_black_hispanic|      mean_hispanic|    mean_amer_indian|         mean_asian|       pct_age_18_24|       pct_age_25_44|      pct_age_45_64|         pct_age_<18|     pct_age_65_plus|             mean_M|             mean_F|             mean_U|  pct_petit_larceny|  pct_harrassment_2|pct_assault_3_&_related_offenses|pct_criminal_mischief_&_related_of|  pct_grand_larceny|pct_vehicle_and_traffic_laws|  pct_felony_assault|pct_miscellaneous_penal_law| pct_dangerous_drugs|pct_other_offenses_related_to_theft|pct_off._agnst_pub_ord_sensblty_&|pct_grand_larceny_of_motor_vehicle|         pct_robbery|       pct_burglary|      pct_sex_crimes|\n",
      "+--------+----------+-----------+-----------------+------------------+-----------------+-----------------+-----------------+-----------------+--------+--------+--------+-----+-----+-----+-----+-----+-----+------------------+-------------------+-------+--------------+--------+-------------+--------------+-------+---------+-----------------+-------------------+-------------------+-------------------+-------------------+--------------------+-------------------+--------------------+--------------------+-------------------+--------------------+--------------------+-------------------+-------------------+-------------------+-------------------+-------------------+--------------------------------+----------------------------------+-------------------+----------------------------+--------------------+---------------------------+--------------------+-----------------------------------+---------------------------------+----------------------------------+--------------------+-------------------+--------------------+\n",
      "|     211|      2025|          1|152.5937747819191|125.04837430610627|78.88996827914353|56.98654506605884|68.84321103108333|86.02875245369897|     135|     100|      39|  107|   71|   18|  191|  165|  109|118.84403912238967|0.06641554321966693|  BRONX|         BLACK|       F|        25-44|WHITE HISPANIC|      F|        3|              626| 0.1134185303514377|0.24600638977635783|0.09105431309904154| 0.2220447284345048|0.009584664536741214|0.04952076677316294|0.008671839342765863| 0.01613418530351439|0.07667731629392971|0.025559105431309903|0.012779552715654952| 0.5095846645367412|0.11022364217252396| 0.2220447284345048|0.14696485623003194| 0.1869009584664537|             0.09584664536741214|               0.08306709265175719|0.08945686900958466|        0.036741214057507986|0.054313099041533544|        0.03035143769968051|0.007987220447284345|                0.01757188498402556|              0.01757188498402556|               0.06389776357827476|0.039936102236421724|0.04472843450479233| 0.03035143769968051|\n",
      "|     211|      2025|          1|152.5937747819191|125.04837430610627|78.88996827914353|56.98654506605884|68.84321103108333|86.02875245369897|     135|     100|      39|  107|   71|   18|  191|  165|  109|118.84403912238967|0.06641554321966693|  BRONX|       UNKNOWN|       M|        25-44|WHITE HISPANIC|      F|       13|              626| 0.1134185303514377|0.24600638977635783|0.09105431309904154| 0.2220447284345048|0.009584664536741214|0.04952076677316294|0.008671839342765863| 0.01613418530351439|0.07667731629392971|0.025559105431309903|0.012779552715654952| 0.5095846645367412|0.11022364217252396| 0.2220447284345048|0.14696485623003194| 0.1869009584664537|             0.09584664536741214|               0.08306709265175719|0.08945686900958466|        0.036741214057507986|0.054313099041533544|        0.03035143769968051|0.007987220447284345|                0.01757188498402556|              0.01757188498402556|               0.06389776357827476|0.039936102236421724|0.04472843450479233| 0.03035143769968051|\n",
      "|     211|      2025|          2|152.5937747819191|125.04837430610627|78.88996827914353|56.98654506605884|68.84321103108333|86.02875245369897|     135|     100|      39|  107|   71|   18|  191|  165|  109|118.84403912238967|0.06641554321966693|  BRONX|         BLACK|       F|        45-64|         BLACK|      F|        1|              612|0.08006535947712418|0.24673202614379086|0.07352941176470588|0.24509803921568626|0.017973856209150325|0.06862745098039216|0.008870214752567697|0.016258169934640535|0.06862745098039216| 0.02287581699346405|0.006535947712418301|0.46405228758169936| 0.1388888888888889|0.22712418300653595|0.15522875816993464|0.15849673202614378|             0.11764705882352941|               0.12254901960784313|0.08496732026143791|        0.024509803921568627| 0.04738562091503268|        0.04738562091503268|0.017973856209150325|                0.02287581699346405|             0.021241830065359478|               0.05718954248366013|0.029411764705882353|0.03758169934640523|0.013071895424836602|\n",
      "|     211|      2025|          3|152.5937747819191|125.04837430610627|78.88996827914353|56.98654506605884|68.84321103108333|86.02875245369897|     135|     100|      39|  107|   71|   18|  191|  165|  109|118.84403912238967|0.06641554321966693|  BRONX|         BLACK|       F|      UNKNOWN|       UNKNOWN|      E|       29|              620|0.09032258064516129|0.18548387096774194|0.09032258064516129|0.24193548387096775|0.012903225806451613|               0.05|0.010138248847926275|0.014516129032258053|0.07419354838709677| 0.02258064516129032| 0.01129032258064516|0.45161290322580644|0.16129032258064516|0.22741935483870968|0.18225806451612903|0.14193548387096774|             0.09838709677419355|               0.10161290322580645|0.08387096774193549|         0.04032258064516129|0.054838709677419356|        0.03387096774193549|0.020967741935483872|               0.012903225806451613|             0.025806451612903226|               0.05967741935483871|0.020967741935483872|0.02258064516129032| 0.03225806451612903|\n",
      "|     211|      2024|          1|152.5937747819191|125.04837430610627|78.88996827914353|56.98654506605884|68.84321103108333|86.02875245369897|     135|     100|      39|  107|   71|   18|  191|  165|  109|118.84403912238967|0.06641554321966693|  BRONX|WHITE HISPANIC|       M|        45-64|WHITE HISPANIC|      F|       22|                5|                0.2|                0.6|                0.0|                0.2|                 0.0|                0.0|                 0.0|                0.01|                0.2|                 0.0|                 0.0|                0.4|                0.2|                0.0|                0.4|                0.2|                             0.0|                               0.2|                0.0|                         0.0|                 0.0|                        0.2|                 0.0|                                0.0|                              0.0|                               0.0|                 0.0|                0.0|                 0.0|\n",
      "+--------+----------+-----------+-----------------+------------------+-----------------+-----------------+-----------------+-----------------+--------+--------+--------+-----+-----+-----+-----+-----+-----+------------------+-------------------+-------+--------------+--------+-------------+--------------+-------+---------+-----------------+-------------------+-------------------+-------------------+-------------------+--------------------+-------------------+--------------------+--------------------+-------------------+--------------------+--------------------+-------------------+-------------------+-------------------+-------------------+-------------------+--------------------------------+----------------------------------+-------------------+----------------------------+--------------------+---------------------------+--------------------+-----------------------------------+---------------------------------+----------------------------------+--------------------+-------------------+--------------------+\n",
      "only showing top 5 rows\n",
      "\n"
     ]
    }
   ],
   "source": [
    "nyc = spark.read.parquet(f\"{path_data}/crime_nyc_years_aggregated.parquet\")\n",
    "nyc.show(5)\n",
    "nyc.createOrReplaceTempView(\"nyc\")"
   ]
  },
  {
   "cell_type": "code",
   "execution_count": 36,
   "metadata": {},
   "outputs": [
    {
     "name": "stdout",
     "output_type": "stream",
     "text": [
      "+--------------------+-------+----------+-------+-----+---+--------------------+-----+--------+---------+--------------+----------+----------+--------------------+--------------------+---------------+----------+-------+--------------------+---------+---------+----------+----------------+----------------+-------------+---------+--------------------+---------+-------------------+---------+---------+--------------------+--------------------+-------+------+\n",
      "|            the_geom|    BIN|       BBL|Borough|Block|Lot|          Des_Addres|Circa|Date_Low|Date_High|    Date_Combo|Alt_Date_1|Alt_Date_2|          Arch_Build|           Own_Devel|     Alt_Arch_1|Alt_Arch_2|Altered|          Style_Prim|Style_Sec|Style_Oth|  Mat_Prim|         Mat_Sec|       Mat_Third|     Mat_Four|Mat_Other|            Use_Orig|Use_Other|         Build_Type|Build_Oth|Build_Nme|               Notes|           Hist_Dist|LM_Orig|LM_New|\n",
      "+--------------------+-------+----------+-------+-----+---+--------------------+-----+--------+---------+--------------+----------+----------+--------------------+--------------------+---------------+----------+-------+--------------------+---------+---------+----------+----------------+----------------+-------------+---------+--------------------+---------+-------------------+---------+---------+--------------------+--------------------+-------+------+\n",
      "|MULTIPOLYGON (((-...|3368915|3066920018|     BK| 6692| 18|803 East 17th Street|    1|    1912|     1912|       c. 1912|      1958|         0|Seth Cutting (or)...|      Stephen Norman|Donald A. Brown|         0|      1|      Not determined|        0|        0|Wood Frame|Asphalt Shingles|               0|            0|        0| Outbuilding, garage|        0|             Garage|        0|        0|                   0|Fiske Terrace-Mid...|      0|     0|\n",
      "|MULTIPOLYGON (((-...|3384822|3066920074|     BK| 6692| 74|814 East 18th Str...|    0|       0|        0|Not determined|         0|         0|      Not determined|      Not determined|              0|         0|      0|      Not determined|        0|        0|     Brick|               0|               0|            0|        0| Outbuilding, garage|        0|             Garage|        0|        0|Shared garage wit...|Fiske Terrace-Mid...|      0|     0|\n",
      "|MULTIPOLYGON (((-...|3121277|3052370230|     BK| 5237|230|  1653 Glenwood Road|    1|    1906|     1906|       c. 1906|         0|         0|   Benjamin Driesler|John R. Corbin Co...|              0|         0|      0|    Colonial Revival|        0|        0|Wood Frame|   Wood Shingles|  Concrete Block|            0|        0|Residential, sing...|        0|Free-standing House|        0|        0|                   0|Fiske Terrace-Mid...|      0|     0|\n",
      "|MULTIPOLYGON (((-...|3179065|3066910032|     BK| 6691| 32| 54 Wellington Court|    1|    1911|     1911|       c. 1911|         0|         0|   Benjamin Driesler|      John R. Corbin|              0|         0|      0|       Arts & Crafts|        0|        0|Wood Frame|           Brick|          Stucco|Wood Shingles|        0|Residential, sing...|        0|Free-standing House|        0|        0|                   0|Fiske Terrace-Mid...|      0|     0|\n",
      "|MULTIPOLYGON (((-...|3179111|3066930007|     BK| 6693|  7|       1809 Avenue H|    1|    1906|     1906|       c. 1906|         0|         0|     A. White Pierce|T. B. Ackerson Co...|              0|         0|      1|Colonial Revival ...|        0|        0|Wood Frame|            Wood|Asphalt Shingles|            0|        0|Residential, sing...|        0|Free-standing House|        0|        0|                   0|Fiske Terrace-Mid...|      0|     0|\n",
      "+--------------------+-------+----------+-------+-----+---+--------------------+-----+--------+---------+--------------+----------+----------+--------------------+--------------------+---------------+----------+-------+--------------------+---------+---------+----------+----------------+----------------+-------------+---------+--------------------+---------+-------------------+---------+---------+--------------------+--------------------+-------+------+\n",
      "only showing top 5 rows\n",
      "\n"
     ]
    }
   ],
   "source": [
    "nyc_landm = spark.read.csv(f\"{path_data}/Individual_Landmark.csv\", header=True, inferSchema=True)\n",
    "nyc_landm.show(5)"
   ]
  },
  {
   "cell_type": "code",
   "execution_count": 37,
   "metadata": {},
   "outputs": [
    {
     "name": "stdout",
     "output_type": "stream",
     "text": [
      "+--------------------+-------+--------------------+--------+--------------------+----------+--------------------+-------------------+--------------------+\n",
      "|            the_geom|Borough|          Des_Addres|Date_Low|          Style_Prim|  Mat_Prim|            Use_Orig|         Build_Type|           Hist_Dist|\n",
      "+--------------------+-------+--------------------+--------+--------------------+----------+--------------------+-------------------+--------------------+\n",
      "|MULTIPOLYGON (((-...|     BK|803 East 17th Street|    1912|      Not determined|Wood Frame| Outbuilding, garage|             Garage|Fiske Terrace-Mid...|\n",
      "|MULTIPOLYGON (((-...|     BK|814 East 18th Str...|       0|      Not determined|     Brick| Outbuilding, garage|             Garage|Fiske Terrace-Mid...|\n",
      "|MULTIPOLYGON (((-...|     BK|  1653 Glenwood Road|    1906|    Colonial Revival|Wood Frame|Residential, sing...|Free-standing House|Fiske Terrace-Mid...|\n",
      "|MULTIPOLYGON (((-...|     BK| 54 Wellington Court|    1911|       Arts & Crafts|Wood Frame|Residential, sing...|Free-standing House|Fiske Terrace-Mid...|\n",
      "|MULTIPOLYGON (((-...|     BK|       1809 Avenue H|    1906|Colonial Revival ...|Wood Frame|Residential, sing...|Free-standing House|Fiske Terrace-Mid...|\n",
      "+--------------------+-------+--------------------+--------+--------------------+----------+--------------------+-------------------+--------------------+\n",
      "only showing top 5 rows\n",
      "\n"
     ]
    }
   ],
   "source": [
    "nyc_landm = nyc_landm.drop(\"Block\",\"BBL\", \"BIN\",  \"Lot\", \"Arch_Build\",\"Own_Devel\",\"Alt_Arch_1\",\"Mat_Third\",  \"Alt_Arch_2\", \"Mat_Other\",\"Build_Oth\",    \"Date_Combo\", \"Circa\" , \"Alt_Date_1\", \"Alt_Date_2\", \"Date_High\",\"Altered\", \"Style_Oth\", \"Mat_Sec\",\"Mat_Four\",\"LM_Orig\",\"LM_New\",   \"Use_Other\", \"Build_Nme\" , \"Notes\" ,   \"Style_Sec\" )\n",
    "nyc_landm.show(5)\n",
    "nyc_landm.createOrReplaceTempView(\"land\")"
   ]
  },
  {
   "cell_type": "code",
   "execution_count": 38,
   "metadata": {},
   "outputs": [
    {
     "name": "stdout",
     "output_type": "stream",
     "text": [
      "+--------------------+--------+------+\n",
      "|            geometry|OBJECTID|BoroCD|\n",
      "+--------------------+--------+------+\n",
      "|POLYGON ((-73.970...|       1|   308|\n",
      "|POLYGON ((-73.801...|       2|   410|\n",
      "|POLYGON ((-73.881...|       3|   206|\n",
      "|POLYGON ((-73.867...|       4|   480|\n",
      "|POLYGON ((-73.984...|       5|   104|\n",
      "|POLYGON ((-73.980...|       6|   107|\n",
      "|POLYGON ((-74.193...|       7|   503|\n",
      "|MULTIPOLYGON (((-...|       8|   595|\n",
      "|POLYGON ((-73.877...|       9|   207|\n",
      "|POLYGON ((-73.925...|      10|   317|\n",
      "|POLYGON ((-73.840...|      11|   481|\n",
      "|POLYGON ((-73.872...|      12|   227|\n",
      "|POLYGON ((-73.820...|      13|   409|\n",
      "|POLYGON ((-73.903...|      14|   316|\n",
      "|POLYGON ((-73.728...|      15|   413|\n",
      "|POLYGON ((-73.799...|      16|   483|\n",
      "|POLYGON ((-73.895...|      17|   208|\n",
      "|POLYGON ((-73.878...|      18|   226|\n",
      "|POLYGON ((-73.991...|      19|   312|\n",
      "|POLYGON ((-73.959...|      20|   314|\n",
      "+--------------------+--------+------+\n",
      "only showing top 20 rows\n",
      "\n"
     ]
    }
   ],
   "source": [
    "nyc_districts = (\n",
    "    spark.read.format(\"geojson\").option(\"multiLine\", \"true\").load(f\"{path_data}/nyc_districts.json\")\n",
    "    .selectExpr(\"explode(features) as features\")\n",
    "    .select(\"features.*\")\n",
    "    .withColumn(\"OBJECTID\", expr(\"properties['OBJECTID']\"))\n",
    "    .withColumn(\"BoroCD\", expr(\"properties['BoroCD']\"))\n",
    "    .drop(\"properties\")\n",
    "    .drop(\"type\")\n",
    "    .drop(\"id\")\n",
    ")\n",
    "nyc_districts.show(truncate=True)\n",
    "nyc_districts.createOrReplaceTempView(\"nyc_districts\")"
   ]
  },
  {
   "cell_type": "code",
   "execution_count": 40,
   "metadata": {},
   "outputs": [
    {
     "name": "stderr",
     "output_type": "stream",
     "text": [
      "                                                                                \r"
     ]
    },
    {
     "name": "stdout",
     "output_type": "stream",
     "text": [
      "+--------------------+-------+--------------------+--------+--------------------+----------+--------------------+-------------------+--------------------+--------------------+--------+\n",
      "|            the_geom|Borough|          Des_Addres|Date_Low|          Style_Prim|  Mat_Prim|            Use_Orig|         Build_Type|           Hist_Dist|                geom|district|\n",
      "+--------------------+-------+--------------------+--------+--------------------+----------+--------------------+-------------------+--------------------+--------------------+--------+\n",
      "|MULTIPOLYGON (((-...|     BK|803 East 17th Street|    1912|      Not determined|Wood Frame| Outbuilding, garage|             Garage|Fiske Terrace-Mid...|MULTIPOLYGON (((-...|     314|\n",
      "|MULTIPOLYGON (((-...|     BK|814 East 18th Str...|       0|      Not determined|     Brick| Outbuilding, garage|             Garage|Fiske Terrace-Mid...|MULTIPOLYGON (((-...|     314|\n",
      "|MULTIPOLYGON (((-...|     BK|  1653 Glenwood Road|    1906|    Colonial Revival|Wood Frame|Residential, sing...|Free-standing House|Fiske Terrace-Mid...|MULTIPOLYGON (((-...|     314|\n",
      "|MULTIPOLYGON (((-...|     BK| 54 Wellington Court|    1911|       Arts & Crafts|Wood Frame|Residential, sing...|Free-standing House|Fiske Terrace-Mid...|MULTIPOLYGON (((-...|     314|\n",
      "|MULTIPOLYGON (((-...|     BK|       1809 Avenue H|    1906|Colonial Revival ...|Wood Frame|Residential, sing...|Free-standing House|Fiske Terrace-Mid...|MULTIPOLYGON (((-...|     314|\n",
      "+--------------------+-------+--------------------+--------+--------------------+----------+--------------------+-------------------+--------------------+--------------------+--------+\n",
      "only showing top 5 rows\n",
      "\n"
     ]
    }
   ],
   "source": [
    "land = spark.sql(\"\"\"\n",
    "WITH\n",
    "  valid_land AS (\n",
    "    SELECT *\n",
    "    FROM land\n",
    "    WHERE the_geom RLIKE '^(POINT|LINESTRING|POLYGON|MULTI)'\n",
    "  ),\n",
    "\n",
    "  geom_land AS (\n",
    "    SELECT *,\n",
    "           ST_GeomFromWKT(the_geom) AS geom\n",
    "    FROM valid_land\n",
    "  ),\n",
    "\n",
    "  geom_dist AS (\n",
    "    SELECT\n",
    "      BoroCD   AS district,\n",
    "      geometry AS geom\n",
    "    FROM nyc_districts\n",
    "  )\n",
    "\n",
    "SELECT\n",
    "  l.*,\n",
    "  d.district\n",
    "FROM geom_land l\n",
    "JOIN geom_dist d\n",
    "  ON ST_Intersects(l.geom, d.geom)\n",
    "\"\"\")\n",
    "\n",
    "land.write.mode(\"overwrite\") \\\n",
    "   .parquet(f\"{path_data}/landmark_distr.parquet\")\n",
    "\n",
    "land.show(5)\n"
   ]
  },
  {
   "cell_type": "code",
   "execution_count": 41,
   "metadata": {},
   "outputs": [],
   "source": [
    "land = land.drop(\"geom\", \"the_geom\", \"Borough\",\"Des_Addres\")"
   ]
  },
  {
   "cell_type": "code",
   "execution_count": 25,
   "metadata": {},
   "outputs": [
    {
     "data": {
      "text/plain": [
       "66"
      ]
     },
     "execution_count": 25,
     "metadata": {},
     "output_type": "execute_result"
    }
   ],
   "source": [
    "nyc.select(\"district\").distinct().count()"
   ]
  },
  {
   "cell_type": "code",
   "execution_count": 5,
   "metadata": {},
   "outputs": [
    {
     "name": "stderr",
     "output_type": "stream",
     "text": [
      "[Stage 8:>                                                          (0 + 7) / 7]\r"
     ]
    },
    {
     "name": "stdout",
     "output_type": "stream",
     "text": [
      "+--------------------+\n",
      "|          Style_Prim|\n",
      "+--------------------+\n",
      "|Greek Revival (late)|\n",
      "| White City Movement|\n",
      "|Romanesque Reviva...|\n",
      "|Dutch Renaissance...|\n",
      "|Dutch Colonial Re...|\n",
      "|Classicism (simpl...|\n",
      "|             Federal|\n",
      "| Post-War Vernacular|\n",
      "|   Collegiate Gothic|\n",
      "|Altered Romanesqu...|\n",
      "|   French Beaux-Arts|\n",
      "|    Eclectic-Diverse|\n",
      "|Victorian Gothic ...|\n",
      "|                None|\n",
      "|Second Empire wit...|\n",
      "|Queen Anne with a...|\n",
      "|Transitional Gree...|\n",
      "|Vernacular French...|\n",
      "|    Victorian Gothic|\n",
      "|    Daylight Factory|\n",
      "|Industrial Neocla...|\n",
      "|          Vernacular|\n",
      "|Spanish Colonial ...|\n",
      "|        neo-Colonial|\n",
      "|Altered Dutch Ren...|\n",
      "|Renaissance Reviv...|\n",
      "|Classical (simpli...|\n",
      "|      High Victorian|\n",
      "|            Medieval|\n",
      "|Italianate with a...|\n",
      "|          Romanesque|\n",
      "|neo-Italian Renai...|\n",
      "|French Renaissanc...|\n",
      "|            Stripped|\n",
      "|Modified Italiana...|\n",
      "|Transitional Fren...|\n",
      "|       Greek Revival|\n",
      "|   Stripped neo-Grec|\n",
      "|Modified Spanish ...|\n",
      "| English Garden City|\n",
      "|    Altered neo-Grec|\n",
      "|      Gothic Revival|\n",
      "|Transitional Ital...|\n",
      "|    Georgian Revival|\n",
      "|      Not determined|\n",
      "|  Altered Italianate|\n",
      "|French Renaissanc...|\n",
      "|      Japanese Style|\n",
      "|Northern Renaissa...|\n",
      "|Altered Renaissan...|\n",
      "|    Eclectic-Federal|\n",
      "|          Beaux-Arts|\n",
      "|High Victorian Go...|\n",
      "|neo-Grec with alt...|\n",
      "|Transitional Roma...|\n",
      "|Romanesque Reviva...|\n",
      "|    Anglo-Italianate|\n",
      "|     Eclectic-Gothic|\n",
      "|     Medieval French|\n",
      "|French Second Empire|\n",
      "|Altered Second Em...|\n",
      "|        Chateauesque|\n",
      "|      English Gothic|\n",
      "|Transitional neo-...|\n",
      "|         Post-Modern|\n",
      "|   Modified Georgian|\n",
      "|      Altered Modern|\n",
      "| Stripped Italianate|\n",
      "|          neo-Gothic|\n",
      "|Altered Colonial ...|\n",
      "|        Neoclassical|\n",
      "|            Georgian|\n",
      "|              Modern|\n",
      "|Italianate (simpl...|\n",
      "|           Classical|\n",
      "|   Commerical Gothic|\n",
      "|           neo-Tudor|\n",
      "|         Renaissance|\n",
      "|Eclectic-Diverse ...|\n",
      "|        neo-Jacobean|\n",
      "|Transitional Seco...|\n",
      "|    Spanish Colonial|\n",
      "|       Arts & Crafts|\n",
      "|         Utilitarian|\n",
      "|Altered Gothic Re...|\n",
      "|           Victorian|\n",
      "|     French neo-Grec|\n",
      "|        neo-Georgian|\n",
      "|              Gothic|\n",
      "|   Colonial Revivial|\n",
      "| Modified Italianate|\n",
      "|      neo-Romanesque|\n",
      "|            Art Deco|\n",
      "|Anglo-Italianate ...|\n",
      "|     neo-Renaissance|\n",
      "| Italian Renaissance|\n",
      "|Stripped Second E...|\n",
      "|Eclectic-Diverse ...|\n",
      "| Modified Queen Anne|\n",
      "|\"Paris 1925 \"\"Mod...|\n",
      "+--------------------+\n",
      "only showing top 100 rows\n",
      "\n"
     ]
    },
    {
     "name": "stderr",
     "output_type": "stream",
     "text": [
      "                                                                                \r"
     ]
    }
   ],
   "source": [
    "nyc_landm.select(\"Style_Prim\").distinct().show(100)"
   ]
  },
  {
   "cell_type": "code",
   "execution_count": 42,
   "metadata": {},
   "outputs": [
    {
     "name": "stderr",
     "output_type": "stream",
     "text": [
      "                                                                                \r"
     ]
    },
    {
     "name": "stdout",
     "output_type": "stream",
     "text": [
      "+--------+---------------------+-----------------------+--------------------+--------------------+----------------------+---------------------+---------------------+---------------------+---------------------+-------------------------------------------+---------------------+---------------------+---------------------+---------------------+---------------------+\n",
      "|district|pct_not_determined   |pct_renaissance_revival|pct_neo-grec        |pct_italianate      |pct_romanesque_revival|pct_greek_revival    |pct_queen_anne       |pct_colonial_revival |pct_neo-renaissance  |pct_simplified_colonial_revival_or_art_deco|pct_beaux-arts       |pct_none             |pct_neo-georgian     |pct_neoclassical     |pct_anglo-italianate |\n",
      "+--------+---------------------+-----------------------+--------------------+--------------------+----------------------+---------------------+---------------------+---------------------+---------------------+-------------------------------------------+---------------------+---------------------+---------------------+---------------------+---------------------+\n",
      "|307     |0.0034662045060658577|0.6377816291161178     |0.09532062391681109 |0.0                 |0.18370883882149047   |0.0                  |0.03292894280762565  |0.0                  |0.0                  |0.0                                        |0.0                  |0.0                  |0.0                  |0.0                  |0.0                  |\n",
      "|301     |0.20562770562770563  |0.0                    |0.20562770562770563 |0.30952380952380953 |0.023809523809523808  |0.0021645021645021645|0.023809523809523808 |0.0                  |0.0021645021645021645|0.0                                        |0.004329004329004329 |0.006493506493506494 |0.0                  |0.05411255411255411  |0.0021645021645021645|\n",
      "|306     |0.2644170234197935   |0.02165701334676404    |0.18156635608159155 |0.07756232686980609 |0.0899017879627298    |0.028959959707882146 |0.03097456560060438  |0.002770083102493075 |0.012591286829513977 |0.0                                        |0.0035255603122639136|0.0025182573659027953|0.01057668093679174  |0.03802568622513221  |0.01057668093679174  |\n",
      "|309     |0.27714285714285714  |0.009523809523809525   |0.0                 |0.0                 |0.09714285714285714   |0.0                  |0.0                  |0.022857142857142857 |0.32476190476190475  |0.0                                        |0.0                  |0.0                  |0.05333333333333334  |0.037142857142857144 |0.0                  |\n",
      "|303     |0.053485313459009205 |0.0648838228846997     |0.2985532661113547  |0.042525208241999124|0.14730381411661553   |0.0                  |0.10346339324857519  |0.0021920210434020165|0.0                  |0.0                                        |0.0017536168347216134|0.00920648838228847  |0.009644892590968873 |0.003068829460762823 |0.0                  |\n",
      "|101     |0.18475073313782991  |0.044965786901270774   |0.04985337243401759 |0.18670576735092864 |0.042033235581622676  |0.05180840664711633  |0.006842619745845552 |0.0039100684261974585|0.03714565004887586  |0.0                                        |0.017595307917888565 |0.008797653958944282 |0.02932551319648094  |0.009775171065493646 |0.0019550342130987292|\n",
      "|308     |0.032465081162702907 |0.4080785201963005     |0.0743676859192148  |0.05473763684409211 |0.16119290298225747   |0.0                  |0.051340128350320875 |0.05360513401283503  |0.0                  |0.0                                        |0.003775009437523594 |0.007550018875047188 |3.7750094375235937E-4|0.003020007550018875 |0.008682521706304265 |\n",
      "|302     |0.1686489058039962   |0.0014272121788772598  |0.05137963843958135 |0.2747383444338725  |0.019267364414843006  |0.12583254043767841  |0.010941960038058992 |0.008563273073263558 |0.004757373929590866 |0.0                                        |0.004519505233111323 |0.00784966698382493  |0.001665080875356803 |0.0021408182683158895|0.053758325404376785 |\n",
      "|314     |0.47664359861591693  |0.0                    |0.0                 |0.0                 |0.0                   |8.650519031141869E-4 |0.0034602076124567475|0.27162629757785467  |0.0                  |0.0                                        |0.0                  |0.0034602076124567475|0.005190311418685121 |8.650519031141869E-4 |0.0                  |\n",
      "|112     |0.19594594594594594  |0.08783783783783784    |0.0                 |0.0                 |0.19594594594594594   |0.0                  |0.0                  |0.0472972972972973   |0.013513513513513514 |0.0                                        |0.033783783783783786 |0.0                  |0.006756756756756757 |0.0                  |0.0                  |\n",
      "|202     |0.49145299145299143  |0.12393162393162394    |0.0                 |0.0                 |0.017094017094017096  |0.0                  |0.0                  |0.0                  |0.2606837606837607   |0.0                                        |0.0                  |0.0                  |0.0                  |0.008547008547008548 |0.0                  |\n",
      "|110     |0.29689922480620157  |0.20930232558139536    |0.16666666666666666 |0.0                 |0.034108527131782945  |0.0                  |0.09689922480620156  |0.0                  |0.009302325581395349 |0.0                                        |0.010852713178294573 |0.0031007751937984496|7.751937984496124E-4 |0.0                  |0.0                  |\n",
      "|201     |0.09090909090909091  |0.0481283422459893     |0.25668449197860965 |0.0                 |0.11229946524064172   |0.0                  |0.12834224598930483  |0.0                  |0.0481283422459893   |0.0                                        |0.0053475935828877   |0.0                  |0.0                  |0.016042780748663103 |0.0                  |\n",
      "|203     |0.1323529411764706   |0.014705882352941176   |0.0                 |0.0                 |0.0                   |0.0                  |0.0                  |0.0                  |0.0                  |0.0                                        |0.014705882352941176 |0.0                  |0.0                  |0.0                  |0.0                  |\n",
      "|107     |0.01759618252311363  |0.39755442886966896    |0.05756039367730391 |0.003578884580972264|0.07963018192663286   |0.0                  |0.09275275872353117  |0.010140172979421413 |0.053683268714583954 |0.0                                        |0.03638532657321801  |0.007456009543692216 |0.011631374888159856 |0.0023859230539815092|0.0                  |\n",
      "|103     |0.04310344827586207  |0.10775862068965517    |0.040948275862068964|0.1314655172413793  |0.01939655172413793   |0.08836206896551724  |0.06465517241379311  |0.00646551724137931  |0.0                  |0.0                                        |0.010775862068965518 |0.021551724137931036 |0.0021551724137931034|0.008620689655172414 |0.04310344827586207  |\n",
      "|208     |0.12                 |0.0                    |0.0                 |0.011428571428571429|0.002857142857142857  |0.0                  |0.005714285714285714 |0.12571428571428572  |0.0                  |0.0                                        |0.002857142857142857 |0.09428571428571429  |0.008571428571428572 |0.025714285714285714 |0.0                  |\n",
      "|207     |0.3793103448275862   |0.0                    |0.0                 |0.0                 |0.034482758620689655  |0.0                  |0.3103448275862069   |0.0                  |0.0                  |0.0                                        |0.0                  |0.0                  |0.0                  |0.0                  |0.0                  |\n",
      "|104     |0.09002433090024331  |0.0072992700729927005  |0.0170316301703163  |0.25790754257907544 |0.0024330900243309003 |0.23114355231143552  |0.021897810218978103 |0.0                  |0.004866180048661801 |0.0                                        |0.0072992700729927005|0.004866180048661801 |0.0                  |0.0024330900243309003|0.09245742092457421  |\n",
      "|106     |0.2594752186588921   |0.0058309037900874635  |0.0                 |0.16034985422740525 |0.0058309037900874635 |0.043731778425655975 |0.0                  |0.0                  |0.0058309037900874635|0.0                                        |0.02040816326530612  |0.0058309037900874635|0.008746355685131196 |0.0058309037900874635|0.05830903790087463  |\n",
      "|111     |0.02702702702702703  |0.02702702702702703    |0.02702702702702703 |0.02702702702702703 |0.1891891891891892    |0.0                  |0.05405405405405406  |0.0                  |0.08108108108108109  |0.0                                        |0.0                  |0.0                  |0.05405405405405406  |0.02702702702702703  |0.0                  |\n",
      "|105     |0.06060606060606061  |0.023415977961432508   |0.013774104683195593|0.07024793388429752 |0.02203856749311295   |0.026170798898071626 |0.013774104683195593 |0.004132231404958678 |0.15151515151515152  |0.0                                        |0.15702479338842976  |0.026170798898071626 |0.011019283746556474 |0.024793388429752067 |0.0                  |\n",
      "|108     |0.05670376258611553  |0.0598834128245893     |0.09114997350291468 |0.05140434552199258 |0.026497085320614733  |5.299417064122947E-4 |0.05617382087970323  |0.01589825119236884  |0.06624271330153683  |0.0                                        |0.07048224695283518  |0.07207207207207207  |0.057763645998940114 |0.03126656067832538  |0.0010598834128245894|\n",
      "|205     |0.12                 |0.0                    |0.0                 |0.0                 |0.0                   |0.0                  |0.0                  |0.0                  |0.0                  |0.0                                        |0.0                  |0.0                  |0.0                  |0.0                  |0.0                  |\n",
      "|102     |0.34031542631838346  |0.03721044849679645    |0.03499260719566289 |0.056678166584524396|0.01996057171020207   |0.12395268605224248  |0.016510596352883194 |0.0049285362247412515|0.0017249876786594382|0.0                                        |0.004435682602267127 |0.020699852143913258 |0.0022178413011335633|0.007392804337111878 |0.009857072449482503 |\n",
      "|109     |0.050913838120104436 |0.15274151436031333    |0.014360313315926894|0.0                 |0.12924281984334204   |0.0013054830287206266|0.028720626631853787 |0.04046997389033943  |0.020887728459530026 |0.0                                        |0.12924281984334204  |0.0026109660574412533|0.005221932114882507 |0.04177545691906005  |0.0                  |\n",
      "|204     |0.043478260869565216 |0.1826086956521739     |0.0                 |0.0                 |0.017391304347826087  |0.0                  |0.0                  |0.05217391304347826  |0.034782608695652174 |0.0                                        |0.008695652173913044 |0.017391304347826087 |0.0                  |0.008695652173913044 |0.0                  |\n",
      "|412     |0.39617486338797814  |0.0                    |0.0                 |0.0                 |0.001366120218579235  |0.0                  |0.0                  |0.08743169398907104  |0.0                  |0.0                                        |0.001366120218579235 |0.031420765027322405 |0.0                  |0.001366120218579235 |0.0                  |\n",
      "|402     |0.05524079320113314  |0.00141643059490085    |0.0                 |0.036827195467422094|0.0                   |0.0                  |0.00424929178470255  |0.0                  |0.0                  |0.8470254957507082                         |0.0                  |0.0                  |0.0                  |0.0                  |0.0                  |\n",
      "|407     |0.32432432432432434  |0.0                    |0.0                 |0.0                 |0.018018018018018018  |0.0                  |0.05405405405405406  |0.2972972972972973   |0.0                  |0.0                                        |0.0                  |0.04504504504504504  |0.009009009009009009 |0.0                  |0.0                  |\n",
      "|405     |0.05037037037037037  |0.8592592592592593     |0.0                 |0.0                 |0.0022222222222222222 |0.0                  |0.0                  |0.0                  |0.0014814814814814814|0.0                                        |7.407407407407407E-4 |0.003703703703703704 |0.0                  |7.407407407407407E-4 |0.0                  |\n",
      "|403     |0.009817671809256662 |0.0                    |0.0                 |0.0                 |0.0                   |0.0                  |0.0                  |0.002805049088359046 |0.0                  |0.0                                        |0.0                  |0.0                  |0.1402524544179523   |0.011220196353436185 |0.0                  |\n",
      "|411     |0.18743768693918245  |0.0                    |0.0                 |9.970089730807576E-4|0.0                   |9.970089730807576E-4 |0.004985044865403789 |0.2542372881355932   |0.0                  |0.0                                        |0.0                  |9.970089730807576E-4 |0.0                  |9.970089730807576E-4 |0.0                  |\n",
      "|502     |0.588957055214724    |0.0                    |0.0                 |0.006134969325153374|0.006134969325153374  |0.012269938650306749 |0.0                  |0.05521472392638037  |0.0                  |0.0                                        |0.0                  |0.0                  |0.0                  |0.0                  |0.0                  |\n",
      "|595     |1.0                  |0.0                    |0.0                 |0.0                 |0.0                   |0.0                  |0.0                  |0.0                  |0.0                  |0.0                                        |0.0                  |0.0                  |0.0                  |0.0                  |0.0                  |\n",
      "|227     |0.21428571428571427  |0.0                    |0.0                 |0.0                 |0.0                   |0.0                  |0.0                  |0.0                  |0.07142857142857142  |0.0                                        |0.07142857142857142  |0.0                  |0.0                  |0.35714285714285715  |0.0                  |\n",
      "|413     |0.37012987012987014  |0.0                    |0.0                 |0.0                 |0.0                   |0.0                  |0.0                  |0.0                  |0.0                  |0.0                                        |0.0                  |0.0                  |0.0                  |0.0                  |0.0                  |\n",
      "|304     |0.09803921568627451  |0.058823529411764705   |0.0196078431372549  |0.0                 |0.29411764705882354   |0.0196078431372549   |0.19607843137254902  |0.0196078431372549   |0.0                  |0.0                                        |0.0                  |0.0                  |0.0                  |0.0                  |0.0                  |\n",
      "|404     |0.15384615384615385  |0.0                    |0.0                 |0.07692307692307693 |0.0                   |0.07692307692307693  |0.0                  |0.0                  |0.0                  |0.0                                        |0.0                  |0.0                  |0.0                  |0.0                  |0.0                  |\n",
      "|501     |0.1935483870967742   |0.0                    |0.0                 |0.035483870967741936|0.01935483870967742   |0.04838709677419355  |0.07419354838709677  |0.02903225806451613  |0.0064516129032258064|0.0                                        |0.0                  |0.025806451612903226 |0.0                  |0.0032258064516129032|0.0                  |\n",
      "|318     |0.3333333333333333   |0.0                    |0.0                 |0.0                 |0.0                   |0.16666666666666666  |0.0                  |0.0                  |0.0                  |0.0                                        |0.0                  |0.0                  |0.0                  |0.0                  |0.0                  |\n",
      "|210     |0.3333333333333333   |0.0                    |0.0                 |0.0                 |0.0                   |0.0                  |0.0                  |0.0                  |0.0                  |0.0                                        |0.0                  |0.0                  |0.0                  |0.0                  |0.0                  |\n",
      "|206     |0.0                  |0.125                  |0.0                 |0.0                 |0.0                   |0.25                 |0.0                  |0.0                  |0.0                  |0.0                                        |0.0                  |0.0                  |0.0                  |0.0                  |0.0                  |\n",
      "|355     |0.7857142857142857   |0.0                    |0.0                 |0.0                 |0.0                   |0.0                  |0.0                  |0.0                  |0.0                  |0.0                                        |0.0                  |0.0                  |0.0                  |0.0                  |0.0                  |\n",
      "|503     |0.4375               |0.0                    |0.015625            |0.015625            |0.0                   |0.125                |0.015625             |0.0                  |0.0                  |0.0                                        |0.0                  |0.0                  |0.0                  |0.0                  |0.0                  |\n",
      "|164     |0.855072463768116    |0.0                    |0.0                 |0.0                 |0.0                   |0.0                  |0.0                  |0.0                  |0.0                  |0.0                                        |0.0                  |0.0                  |0.0                  |0.0                  |0.0                  |\n",
      "|305     |0.0                  |0.0                    |0.0                 |0.0                 |0.25                  |0.0                  |0.0                  |0.0                  |0.0                  |0.0                                        |0.0                  |0.0                  |0.0                  |0.0                  |0.0                  |\n",
      "|310     |0.10294117647058823  |0.8088235294117647     |0.0                 |0.0                 |0.0                   |0.014705882352941176 |0.0                  |0.0                  |0.0                  |0.0                                        |0.0                  |0.0                  |0.0                  |0.0                  |0.0                  |\n",
      "|315     |0.2857142857142857   |0.0                    |0.0                 |0.0                 |0.0                   |0.0                  |0.0                  |0.0                  |0.0                  |0.0                                        |0.0                  |0.0                  |0.0                  |0.0                  |0.0                  |\n",
      "|401     |0.3125               |0.0                    |0.0                 |0.0625              |0.0                   |0.0                  |0.0                  |0.0                  |0.0                  |0.0                                        |0.0                  |0.0                  |0.0                  |0.0                  |0.0                  |\n",
      "+--------+---------------------+-----------------------+--------------------+--------------------+----------------------+---------------------+---------------------+---------------------+---------------------+-------------------------------------------+---------------------+---------------------+---------------------+---------------------+---------------------+\n",
      "only showing top 50 rows\n",
      "\n"
     ]
    }
   ],
   "source": [
    "from pyspark.sql.functions import col, when, avg, desc\n",
    "\n",
    "top_styles = (\n",
    "    land\n",
    "      .groupBy(\"Style_Prim\")\n",
    "      .count()\n",
    "      .orderBy(desc(\"count\"))\n",
    "      .limit(15)\n",
    "      .select(\"Style_Prim\")\n",
    "      .rdd\n",
    "      .flatMap(lambda row: row)\n",
    "      .collect()\n",
    ")\n",
    "\n",
    "agg_exprs = [\n",
    "    avg(\n",
    "      when(col(\"Style_Prim\") == style, 1)\n",
    "      .otherwise(0)\n",
    "    ).alias(f\"pct_{style.lower().replace(' ', '_')}\")\n",
    "    for style in top_styles\n",
    "]\n",
    "\n",
    "agg_style_df = (\n",
    "    land\n",
    "      .groupBy(\"district\")\n",
    "      .agg(*agg_exprs)\n",
    ")\n",
    "\n",
    "agg_style_df.show(50, truncate=False)"
   ]
  },
  {
   "cell_type": "code",
   "execution_count": 43,
   "metadata": {},
   "outputs": [
    {
     "name": "stderr",
     "output_type": "stream",
     "text": [
      "                                                                                \r"
     ]
    },
    {
     "name": "stdout",
     "output_type": "stream",
     "text": [
      "+--------+----------+-----------+-----------------+------------------+-----------------+-----------------+-----------------+-----------------+--------+--------+--------+-----+-----+-----+-----+-----+-----+------------------+-------------------+-------+--------------+--------+-------------+--------------+-------+---------+-----------------+-------------------+-------------------+-------------------+-------------------+--------------------+-------------------+--------------------+--------------------+-------------------+--------------------+--------------------+-------------------+-------------------+-------------------+-------------------+-------------------+--------------------------------+----------------------------------+-------------------+----------------------------+--------------------+---------------------------+--------------------+-----------------------------------+---------------------------------+----------------------------------+--------------------+-------------------+--------------------+------------------+-----------------------+------------+--------------+----------------------+-----------------+--------------+--------------------+-------------------+-------------------------------------------+--------------+--------+----------------+----------------+--------------------+\n",
      "|district|CRIME_YEAR|CRIME_MONTH|            R_avg|             G_avg|            B_avg|         R_stddev|         G_stddev|         B_stddev|R_median|G_median|B_median|R_q25|G_q25|B_q25|R_q75|G_q75|B_q75|    brightness_avg|   dark_pixel_ratio|BORO_NM|     SUSP_RACE|SUSP_SEX|VIC_AGE_GROUP|      VIC_RACE|VIC_SEX|CRIME_DAY|total_crimes_dist|         mean_white|         mean_black|mean_black_hispanic|      mean_hispanic|    mean_amer_indian|         mean_asian|       pct_age_18_24|       pct_age_25_44|      pct_age_45_64|         pct_age_<18|     pct_age_65_plus|             mean_M|             mean_F|             mean_U|  pct_petit_larceny|  pct_harrassment_2|pct_assault_3_&_related_offenses|pct_criminal_mischief_&_related_of|  pct_grand_larceny|pct_vehicle_and_traffic_laws|  pct_felony_assault|pct_miscellaneous_penal_law| pct_dangerous_drugs|pct_other_offenses_related_to_theft|pct_off._agnst_pub_ord_sensblty_&|pct_grand_larceny_of_motor_vehicle|         pct_robbery|       pct_burglary|      pct_sex_crimes|pct_not_determined|pct_renaissance_revival|pct_neo-grec|pct_italianate|pct_romanesque_revival|pct_greek_revival|pct_queen_anne|pct_colonial_revival|pct_neo-renaissance|pct_simplified_colonial_revival_or_art_deco|pct_beaux-arts|pct_none|pct_neo-georgian|pct_neoclassical|pct_anglo-italianate|\n",
      "+--------+----------+-----------+-----------------+------------------+-----------------+-----------------+-----------------+-----------------+--------+--------+--------+-----+-----+-----+-----+-----+-----+------------------+-------------------+-------+--------------+--------+-------------+--------------+-------+---------+-----------------+-------------------+-------------------+-------------------+-------------------+--------------------+-------------------+--------------------+--------------------+-------------------+--------------------+--------------------+-------------------+-------------------+-------------------+-------------------+-------------------+--------------------------------+----------------------------------+-------------------+----------------------------+--------------------+---------------------------+--------------------+-----------------------------------+---------------------------------+----------------------------------+--------------------+-------------------+--------------------+------------------+-----------------------+------------+--------------+----------------------+-----------------+--------------+--------------------+-------------------+-------------------------------------------+--------------+--------+----------------+----------------+--------------------+\n",
      "|     211|      2025|          1|152.5937747819191|125.04837430610627|78.88996827914353|56.98654506605884|68.84321103108333|86.02875245369897|     135|     100|      39|  107|   71|   18|  191|  165|  109|118.84403912238967|0.06641554321966693|  BRONX|         BLACK|       F|        25-44|WHITE HISPANIC|      F|        3|              626| 0.1134185303514377|0.24600638977635783|0.09105431309904154| 0.2220447284345048|0.009584664536741214|0.04952076677316294|0.008671839342765863| 0.01613418530351439|0.07667731629392971|0.025559105431309903|0.012779552715654952| 0.5095846645367412|0.11022364217252396| 0.2220447284345048|0.14696485623003194| 0.1869009584664537|             0.09584664536741214|               0.08306709265175719|0.08945686900958466|        0.036741214057507986|0.054313099041533544|        0.03035143769968051|0.007987220447284345|                0.01757188498402556|              0.01757188498402556|               0.06389776357827476|0.039936102236421724|0.04472843450479233| 0.03035143769968051|               0.0|                    0.0|         0.0|           0.0|                   0.0|              0.0|           0.0|                 0.0|                0.0|                                        0.0|           0.0|     0.0|             0.0|             0.0|                 0.0|\n",
      "|     211|      2025|          1|152.5937747819191|125.04837430610627|78.88996827914353|56.98654506605884|68.84321103108333|86.02875245369897|     135|     100|      39|  107|   71|   18|  191|  165|  109|118.84403912238967|0.06641554321966693|  BRONX|       UNKNOWN|       M|        25-44|WHITE HISPANIC|      F|       13|              626| 0.1134185303514377|0.24600638977635783|0.09105431309904154| 0.2220447284345048|0.009584664536741214|0.04952076677316294|0.008671839342765863| 0.01613418530351439|0.07667731629392971|0.025559105431309903|0.012779552715654952| 0.5095846645367412|0.11022364217252396| 0.2220447284345048|0.14696485623003194| 0.1869009584664537|             0.09584664536741214|               0.08306709265175719|0.08945686900958466|        0.036741214057507986|0.054313099041533544|        0.03035143769968051|0.007987220447284345|                0.01757188498402556|              0.01757188498402556|               0.06389776357827476|0.039936102236421724|0.04472843450479233| 0.03035143769968051|               0.0|                    0.0|         0.0|           0.0|                   0.0|              0.0|           0.0|                 0.0|                0.0|                                        0.0|           0.0|     0.0|             0.0|             0.0|                 0.0|\n",
      "|     211|      2025|          2|152.5937747819191|125.04837430610627|78.88996827914353|56.98654506605884|68.84321103108333|86.02875245369897|     135|     100|      39|  107|   71|   18|  191|  165|  109|118.84403912238967|0.06641554321966693|  BRONX|         BLACK|       F|        45-64|         BLACK|      F|        1|              612|0.08006535947712418|0.24673202614379086|0.07352941176470588|0.24509803921568626|0.017973856209150325|0.06862745098039216|0.008870214752567697|0.016258169934640535|0.06862745098039216| 0.02287581699346405|0.006535947712418301|0.46405228758169936| 0.1388888888888889|0.22712418300653595|0.15522875816993464|0.15849673202614378|             0.11764705882352941|               0.12254901960784313|0.08496732026143791|        0.024509803921568627| 0.04738562091503268|        0.04738562091503268|0.017973856209150325|                0.02287581699346405|             0.021241830065359478|               0.05718954248366013|0.029411764705882353|0.03758169934640523|0.013071895424836602|               0.0|                    0.0|         0.0|           0.0|                   0.0|              0.0|           0.0|                 0.0|                0.0|                                        0.0|           0.0|     0.0|             0.0|             0.0|                 0.0|\n",
      "|     211|      2025|          3|152.5937747819191|125.04837430610627|78.88996827914353|56.98654506605884|68.84321103108333|86.02875245369897|     135|     100|      39|  107|   71|   18|  191|  165|  109|118.84403912238967|0.06641554321966693|  BRONX|         BLACK|       F|      UNKNOWN|       UNKNOWN|      E|       29|              620|0.09032258064516129|0.18548387096774194|0.09032258064516129|0.24193548387096775|0.012903225806451613|               0.05|0.010138248847926275|0.014516129032258053|0.07419354838709677| 0.02258064516129032| 0.01129032258064516|0.45161290322580644|0.16129032258064516|0.22741935483870968|0.18225806451612903|0.14193548387096774|             0.09838709677419355|               0.10161290322580645|0.08387096774193549|         0.04032258064516129|0.054838709677419356|        0.03387096774193549|0.020967741935483872|               0.012903225806451613|             0.025806451612903226|               0.05967741935483871|0.020967741935483872|0.02258064516129032| 0.03225806451612903|               0.0|                    0.0|         0.0|           0.0|                   0.0|              0.0|           0.0|                 0.0|                0.0|                                        0.0|           0.0|     0.0|             0.0|             0.0|                 0.0|\n",
      "|     211|      2024|          1|152.5937747819191|125.04837430610627|78.88996827914353|56.98654506605884|68.84321103108333|86.02875245369897|     135|     100|      39|  107|   71|   18|  191|  165|  109|118.84403912238967|0.06641554321966693|  BRONX|WHITE HISPANIC|       M|        45-64|WHITE HISPANIC|      F|       22|                5|                0.2|                0.6|                0.0|                0.2|                 0.0|                0.0|                 0.0|                0.01|                0.2|                 0.0|                 0.0|                0.4|                0.2|                0.0|                0.4|                0.2|                             0.0|                               0.2|                0.0|                         0.0|                 0.0|                        0.2|                 0.0|                                0.0|                              0.0|                               0.0|                 0.0|                0.0|                 0.0|               0.0|                    0.0|         0.0|           0.0|                   0.0|              0.0|           0.0|                 0.0|                0.0|                                        0.0|           0.0|     0.0|             0.0|             0.0|                 0.0|\n",
      "+--------+----------+-----------+-----------------+------------------+-----------------+-----------------+-----------------+-----------------+--------+--------+--------+-----+-----+-----+-----+-----+-----+------------------+-------------------+-------+--------------+--------+-------------+--------------+-------+---------+-----------------+-------------------+-------------------+-------------------+-------------------+--------------------+-------------------+--------------------+--------------------+-------------------+--------------------+--------------------+-------------------+-------------------+-------------------+-------------------+-------------------+--------------------------------+----------------------------------+-------------------+----------------------------+--------------------+---------------------------+--------------------+-----------------------------------+---------------------------------+----------------------------------+--------------------+-------------------+--------------------+------------------+-----------------------+------------+--------------+----------------------+-----------------+--------------+--------------------+-------------------+-------------------------------------------+--------------+--------+----------------+----------------+--------------------+\n",
      "only showing top 5 rows\n",
      "\n"
     ]
    }
   ],
   "source": [
    "df = nyc.join(agg_style_df, on=[\"District\"], how=\"left\")\n",
    "df.show(5)"
   ]
  },
  {
   "cell_type": "code",
   "execution_count": null,
   "metadata": {},
   "outputs": [
    {
     "data": {
      "text/plain": [
       "42"
      ]
     },
     "execution_count": 44,
     "metadata": {},
     "output_type": "execute_result"
    }
   ],
   "source": []
  },
  {
   "cell_type": "markdown",
   "metadata": {},
   "source": [
    "### Loading NYC Data"
   ]
  },
  {
   "cell_type": "code",
   "execution_count": 7,
   "metadata": {},
   "outputs": [
    {
     "name": "stderr",
     "output_type": "stream",
     "text": [
      "                                                                                \r"
     ]
    },
    {
     "name": "stdout",
     "output_type": "stream",
     "text": [
      "+----------+-----------+-----+-----------------+-----+--------------+----------+----------+-----------+---------------+-----------------+---------+--------+---------+----------+----------+----------------+-----------------+------------------------+\n",
      "|ARREST_KEY|ARREST_DATE|PD_CD|          PD_DESC|KY_CD|     OFNS_DESC|  LAW_CODE|LAW_CAT_CD|ARREST_BORO|ARREST_PRECINCT|JURISDICTION_CODE|AGE_GROUP|PERP_SEX|PERP_RACE|X_COORD_CD|Y_COORD_CD|        Latitude|        Longitude|New Georeferenced Column|\n",
      "+----------+-----------+-----+-----------------+-----+--------------+----------+----------+-----------+---------------+-----------------+---------+--------+---------+----------+----------+----------------+-----------------+------------------------+\n",
      "| 281369711| 01/30/2024|  177|     SEXUAL ABUSE|  116|    SEX CRIMES|PL 1306501|         F|          M|             25|                0|    25-44|       M|    BLACK|   1000558|    231080|40.8009303727402|-73.9410982410066|    POINT (-73.941098...|\n",
      "| 284561406| 03/30/2024|  105|STRANGULATION 1ST|  106|FELONY ASSAULT|PL 1211200|         F|          B|             44|                0|    25-44|       M|    BLACK|   1004297|    242846|       40.833209|       -73.927554|    POINT (-73.927554...|\n",
      "| 284896016| 04/06/2024|  105|STRANGULATION 1ST|  106|FELONY ASSAULT|PL 1211200|         F|          M|             19|                0|    25-44|       M|    BLACK|    997304|    222853|       40.778348|       -73.952863|    POINT (-73.952863...|\n",
      "| 285569016| 04/18/2024|  105|STRANGULATION 1ST|  106|FELONY ASSAULT|PL 1211200|         F|          K|             69|                0|    25-44|       M|    BLACK|   1010576|    175628|       40.648698|       -73.905128|    POINT (-73.905128...|\n",
      "| 287308954| 05/22/2024|  464|         JOSTLING|  230|      JOSTLING|PL 1652501|         M|          M|             18|                0|    18-24|       M|    WHITE|    991530|    217373|       40.763313|       -73.973717|    POINT (-73.973717...|\n",
      "+----------+-----------+-----+-----------------+-----+--------------+----------+----------+-----------+---------------+-----------------+---------+--------+---------+----------+----------+----------------+-----------------+------------------------+\n",
      "only showing top 5 rows\n",
      "\n"
     ]
    }
   ],
   "source": [
    "nyc_crimes = spark.read.csv(f\"{path_data}/NYPD_Arrest_Data.csv\", header=True, inferSchema=True)\n",
    "nyc_crimes.show(5)\n",
    "nyc_crimes.createOrReplaceTempView(\"nyc_crimes\")"
   ]
  },
  {
   "cell_type": "code",
   "execution_count": 15,
   "metadata": {},
   "outputs": [
    {
     "name": "stdout",
     "output_type": "stream",
     "text": [
      "+-----------+\n",
      "|ARREST_YEAR|\n",
      "+-----------+\n",
      "|       2024|\n",
      "+-----------+\n",
      "\n"
     ]
    }
   ],
   "source": [
    "spark.sql(\"\"\"\n",
    "    SELECT DISTINCT year(to_date(ARREST_DATE, 'MM/dd/yyyy')) AS ARREST_YEAR\n",
    "    FROM nyc_crimes\n",
    "    ORDER BY ARREST_YEAR\n",
    "\"\"\").show()\n"
   ]
  },
  {
   "cell_type": "code",
   "execution_count": 14,
   "metadata": {},
   "outputs": [
    {
     "name": "stdout",
     "output_type": "stream",
     "text": [
      "+-----------+\n",
      "|ARREST_DATE|\n",
      "+-----------+\n",
      "| 01/01/2024|\n",
      "| 01/02/2024|\n",
      "| 01/03/2024|\n",
      "| 01/04/2024|\n",
      "| 01/05/2024|\n",
      "| 01/06/2024|\n",
      "| 01/07/2024|\n",
      "| 01/08/2024|\n",
      "| 01/09/2024|\n",
      "| 01/10/2024|\n",
      "| 01/11/2024|\n",
      "| 01/12/2024|\n",
      "| 01/13/2024|\n",
      "| 01/14/2024|\n",
      "| 01/15/2024|\n",
      "| 01/16/2024|\n",
      "| 01/17/2024|\n",
      "| 01/18/2024|\n",
      "| 01/19/2024|\n",
      "| 01/20/2024|\n",
      "| 01/21/2024|\n",
      "| 01/22/2024|\n",
      "| 01/23/2024|\n",
      "| 01/24/2024|\n",
      "| 01/25/2024|\n",
      "| 01/26/2024|\n",
      "| 01/27/2024|\n",
      "| 01/28/2024|\n",
      "| 01/29/2024|\n",
      "| 01/30/2024|\n",
      "| 01/31/2024|\n",
      "| 02/01/2024|\n",
      "| 02/02/2024|\n",
      "| 02/03/2024|\n",
      "| 02/04/2024|\n",
      "| 02/05/2024|\n",
      "| 02/06/2024|\n",
      "| 02/07/2024|\n",
      "| 02/08/2024|\n",
      "| 02/09/2024|\n",
      "| 02/10/2024|\n",
      "| 02/11/2024|\n",
      "| 02/12/2024|\n",
      "| 02/13/2024|\n",
      "| 02/14/2024|\n",
      "| 02/15/2024|\n",
      "| 02/16/2024|\n",
      "| 02/17/2024|\n",
      "| 02/18/2024|\n",
      "| 02/19/2024|\n",
      "| 02/20/2024|\n",
      "| 02/21/2024|\n",
      "| 02/22/2024|\n",
      "| 02/23/2024|\n",
      "| 02/24/2024|\n",
      "| 02/25/2024|\n",
      "| 02/26/2024|\n",
      "| 02/27/2024|\n",
      "| 02/28/2024|\n",
      "| 02/29/2024|\n",
      "| 03/01/2024|\n",
      "| 03/02/2024|\n",
      "| 03/03/2024|\n",
      "| 03/04/2024|\n",
      "| 03/05/2024|\n",
      "| 03/06/2024|\n",
      "| 03/07/2024|\n",
      "| 03/08/2024|\n",
      "| 03/09/2024|\n",
      "| 03/10/2024|\n",
      "| 03/11/2024|\n",
      "| 03/12/2024|\n",
      "| 03/13/2024|\n",
      "| 03/14/2024|\n",
      "| 03/15/2024|\n",
      "| 03/16/2024|\n",
      "| 03/17/2024|\n",
      "| 03/18/2024|\n",
      "| 03/19/2024|\n",
      "| 03/20/2024|\n",
      "| 03/21/2024|\n",
      "| 03/22/2024|\n",
      "| 03/23/2024|\n",
      "| 03/24/2024|\n",
      "| 03/25/2024|\n",
      "| 03/26/2024|\n",
      "| 03/27/2024|\n",
      "| 03/28/2024|\n",
      "| 03/29/2024|\n",
      "| 03/30/2024|\n",
      "| 03/31/2024|\n",
      "| 04/01/2024|\n",
      "| 04/02/2024|\n",
      "| 04/03/2024|\n",
      "| 04/04/2024|\n",
      "| 04/05/2024|\n",
      "| 04/06/2024|\n",
      "| 04/07/2024|\n",
      "| 04/08/2024|\n",
      "| 04/09/2024|\n",
      "| 04/10/2024|\n",
      "| 04/11/2024|\n",
      "| 04/12/2024|\n",
      "| 04/13/2024|\n",
      "| 04/14/2024|\n",
      "| 04/15/2024|\n",
      "| 04/16/2024|\n",
      "| 04/17/2024|\n",
      "| 04/18/2024|\n",
      "| 04/19/2024|\n",
      "| 04/20/2024|\n",
      "| 04/21/2024|\n",
      "| 04/22/2024|\n",
      "| 04/23/2024|\n",
      "| 04/24/2024|\n",
      "| 04/25/2024|\n",
      "| 04/26/2024|\n",
      "| 04/27/2024|\n",
      "| 04/28/2024|\n",
      "| 04/29/2024|\n",
      "| 04/30/2024|\n",
      "| 05/01/2024|\n",
      "| 05/02/2024|\n",
      "| 05/03/2024|\n",
      "| 05/04/2024|\n",
      "| 05/05/2024|\n",
      "| 05/06/2024|\n",
      "| 05/07/2024|\n",
      "| 05/08/2024|\n",
      "| 05/09/2024|\n",
      "| 05/10/2024|\n",
      "| 05/11/2024|\n",
      "| 05/12/2024|\n",
      "| 05/13/2024|\n",
      "| 05/14/2024|\n",
      "| 05/15/2024|\n",
      "| 05/16/2024|\n",
      "| 05/17/2024|\n",
      "| 05/18/2024|\n",
      "| 05/19/2024|\n",
      "| 05/20/2024|\n",
      "| 05/21/2024|\n",
      "| 05/22/2024|\n",
      "| 05/23/2024|\n",
      "| 05/24/2024|\n",
      "| 05/25/2024|\n",
      "| 05/26/2024|\n",
      "| 05/27/2024|\n",
      "| 05/28/2024|\n",
      "| 05/29/2024|\n",
      "+-----------+\n",
      "only showing top 150 rows\n",
      "\n"
     ]
    }
   ],
   "source": [
    "spark.sql(\"\"\"\n",
    "    SELECT distinct ARREST_DATE\n",
    "    FROM nyc_crimes\n",
    "    ORDER BY ARREST_DATE\n",
    "\"\"\").show(150)\n"
   ]
  },
  {
   "cell_type": "code",
   "execution_count": 8,
   "metadata": {},
   "outputs": [
    {
     "name": "stderr",
     "output_type": "stream",
     "text": [
      "[Stage 15:>                                                         (0 + 1) / 1]\r"
     ]
    },
    {
     "name": "stdout",
     "output_type": "stream",
     "text": [
      "+--------------------+--------+------+\n",
      "|            geometry|OBJECTID|BoroCD|\n",
      "+--------------------+--------+------+\n",
      "|POLYGON ((-73.970...|       1|   308|\n",
      "|POLYGON ((-73.801...|       2|   410|\n",
      "|POLYGON ((-73.881...|       3|   206|\n",
      "|POLYGON ((-73.867...|       4|   480|\n",
      "|POLYGON ((-73.984...|       5|   104|\n",
      "|POLYGON ((-73.980...|       6|   107|\n",
      "|POLYGON ((-74.193...|       7|   503|\n",
      "|MULTIPOLYGON (((-...|       8|   595|\n",
      "|POLYGON ((-73.877...|       9|   207|\n",
      "|POLYGON ((-73.925...|      10|   317|\n",
      "|POLYGON ((-73.840...|      11|   481|\n",
      "|POLYGON ((-73.872...|      12|   227|\n",
      "|POLYGON ((-73.820...|      13|   409|\n",
      "|POLYGON ((-73.903...|      14|   316|\n",
      "|POLYGON ((-73.728...|      15|   413|\n",
      "|POLYGON ((-73.799...|      16|   483|\n",
      "|POLYGON ((-73.895...|      17|   208|\n",
      "|POLYGON ((-73.878...|      18|   226|\n",
      "|POLYGON ((-73.991...|      19|   312|\n",
      "|POLYGON ((-73.959...|      20|   314|\n",
      "+--------------------+--------+------+\n",
      "only showing top 20 rows\n",
      "\n"
     ]
    },
    {
     "name": "stderr",
     "output_type": "stream",
     "text": [
      "                                                                                \r"
     ]
    }
   ],
   "source": [
    "nyc_districts = (\n",
    "    spark.read.format(\"geojson\").option(\"multiLine\", \"true\").load(f\"{path_data}/nyc_districts.json\")\n",
    "    .selectExpr(\"explode(features) as features\")\n",
    "    .select(\"features.*\")\n",
    "    .withColumn(\"OBJECTID\", expr(\"properties['OBJECTID']\"))\n",
    "    .withColumn(\"BoroCD\", expr(\"properties['BoroCD']\"))\n",
    "    .drop(\"properties\")\n",
    "    .drop(\"type\")\n",
    "    .drop(\"id\")\n",
    ")\n",
    "nyc_districts.show(truncate=True)"
   ]
  },
  {
   "cell_type": "code",
   "execution_count": 9,
   "metadata": {},
   "outputs": [],
   "source": [
    "nyc_districts.createOrReplaceTempView(\"nyc_districts\")"
   ]
  },
  {
   "cell_type": "code",
   "execution_count": 10,
   "metadata": {},
   "outputs": [
    {
     "name": "stderr",
     "output_type": "stream",
     "text": [
      "                                                                                \r"
     ]
    },
    {
     "name": "stdout",
     "output_type": "stream",
     "text": [
      "+----------+-----------+-----+-----------------+-----+--------------+----------+----------+-----------+---------------+-----------------+---------+--------+---------+----------+----------+----------------+-----------------+------------------------+--------------------+--------+----------+\n",
      "|ARREST_KEY|ARREST_DATE|PD_CD|          PD_DESC|KY_CD|     OFNS_DESC|  LAW_CODE|LAW_CAT_CD|ARREST_BORO|ARREST_PRECINCT|JURISDICTION_CODE|AGE_GROUP|PERP_SEX|PERP_RACE|X_COORD_CD|Y_COORD_CD|        Latitude|        Longitude|New Georeferenced Column|                geom|district|intersects|\n",
      "+----------+-----------+-----+-----------------+-----+--------------+----------+----------+-----------+---------------+-----------------+---------+--------+---------+----------+----------+----------------+-----------------+------------------------+--------------------+--------+----------+\n",
      "| 281369711| 01/30/2024|  177|     SEXUAL ABUSE|  116|    SEX CRIMES|PL 1306501|         F|          M|             25|                0|    25-44|       M|    BLACK|   1000558|    231080|40.8009303727402|-73.9410982410066|    POINT (-73.941098...|POINT (-73.941098...|     111|      true|\n",
      "| 284561406| 03/30/2024|  105|STRANGULATION 1ST|  106|FELONY ASSAULT|PL 1211200|         F|          B|             44|                0|    25-44|       M|    BLACK|   1004297|    242846|       40.833209|       -73.927554|    POINT (-73.927554...|POINT (-73.927554...|     204|      true|\n",
      "| 284896016| 04/06/2024|  105|STRANGULATION 1ST|  106|FELONY ASSAULT|PL 1211200|         F|          M|             19|                0|    25-44|       M|    BLACK|    997304|    222853|       40.778348|       -73.952863|    POINT (-73.952863...|POINT (-73.952863...|     108|      true|\n",
      "| 285569016| 04/18/2024|  105|STRANGULATION 1ST|  106|FELONY ASSAULT|PL 1211200|         F|          K|             69|                0|    25-44|       M|    BLACK|   1010576|    175628|       40.648698|       -73.905128|    POINT (-73.905128...|POINT (-73.905128...|     318|      true|\n",
      "| 287308954| 05/22/2024|  464|         JOSTLING|  230|      JOSTLING|PL 1652501|         M|          M|             18|                0|    18-24|       M|    WHITE|    991530|    217373|       40.763313|       -73.973717|    POINT (-73.973717...|POINT (-73.973717...|     105|      true|\n",
      "+----------+-----------+-----+-----------------+-----+--------------+----------+----------+-----------+---------------+-----------------+---------+--------+---------+----------+----------+----------------+-----------------+------------------------+--------------------+--------+----------+\n",
      "only showing top 5 rows\n",
      "\n"
     ]
    }
   ],
   "source": [
    "crime_nyc = spark.sql(\"\"\"\n",
    "    with crimes as (\n",
    "                    select *\n",
    "            ,ST_Point(Longitude , Latitude) as geom\n",
    "        from nyc_crimes\n",
    "        where Latitude is not null or Longitude is not null\n",
    "    ),\n",
    "    districs as (\n",
    "    select \n",
    "        OBJECTID\n",
    "        ,BoroCD as district\n",
    "        ,geometry as geom\n",
    "    from nyc_districts\n",
    "    )\n",
    "                      select\n",
    "                        crimes.*\n",
    "                      , districs.district\n",
    "                        , ST_Intersects(crimes.geom, districs.geom) as intersects\n",
    "                      from crimes\n",
    "                      join districs on ST_Intersects(crimes.geom, districs.geom)\n",
    "\"\"\")\n",
    "\n",
    "crime_nyc.write.mode('overwrite').parquet(f\"{path_data}/crime_nyc.parquet\")\n",
    "crime_nyc.show(5)"
   ]
  },
  {
   "cell_type": "code",
   "execution_count": 11,
   "metadata": {},
   "outputs": [
    {
     "name": "stderr",
     "output_type": "stream",
     "text": [
      "                                                                                \r"
     ]
    },
    {
     "data": {
      "text/plain": [
       "71"
      ]
     },
     "execution_count": 11,
     "metadata": {},
     "output_type": "execute_result"
    }
   ],
   "source": [
    "crime_nyc.select(\"District\").distinct().count()"
   ]
  },
  {
   "cell_type": "code",
   "execution_count": 12,
   "metadata": {},
   "outputs": [],
   "source": [
    "crime_nyc.createOrReplaceTempView(\"crime_nyc\")"
   ]
  },
  {
   "cell_type": "code",
   "execution_count": null,
   "metadata": {},
   "outputs": [],
   "source": []
  },
  {
   "cell_type": "code",
   "execution_count": null,
   "metadata": {},
   "outputs": [],
   "source": []
  },
  {
   "cell_type": "code",
   "execution_count": null,
   "metadata": {},
   "outputs": [],
   "source": []
  },
  {
   "cell_type": "code",
   "execution_count": null,
   "metadata": {},
   "outputs": [],
   "source": []
  },
  {
   "cell_type": "code",
   "execution_count": null,
   "metadata": {},
   "outputs": [],
   "source": []
  },
  {
   "cell_type": "code",
   "execution_count": null,
   "metadata": {},
   "outputs": [],
   "source": []
  },
  {
   "cell_type": "code",
   "execution_count": null,
   "metadata": {},
   "outputs": [],
   "source": []
  },
  {
   "cell_type": "code",
   "execution_count": null,
   "metadata": {},
   "outputs": [],
   "source": [
    "nyc_buildings = nyc_buildings.where(F.col(\"geometry\").like(\"POLYGON ((%\"))"
   ]
  },
  {
   "cell_type": "code",
   "execution_count": null,
   "metadata": {},
   "outputs": [],
   "source": [
    "nyc_buildings.createOrReplaceTempView(\"nyc_buildings\")"
   ]
  },
  {
   "cell_type": "code",
   "execution_count": null,
   "metadata": {},
   "outputs": [
    {
     "name": "stderr",
     "output_type": "stream",
     "text": [
      "[Stage 20:======================================>                   (2 + 1) / 3]\r"
     ]
    },
    {
     "name": "stdout",
     "output_type": "stream",
     "text": [
      "+-----------+--------------------+--------+--------------------+--------+\n",
      "|building_id|       building_geom|district|          crime_geom|distance|\n",
      "+-----------+--------------------+--------+--------------------+--------+\n",
      "|  271585435|POLYGON ((-73.944...|     111|POINT (-73.944419...|     0.0|\n",
      "|  271585435|POLYGON ((-73.944...|     111|POINT (-73.944419...|     0.0|\n",
      "|  271585435|POLYGON ((-73.944...|     111|POINT (-73.944419...|     0.0|\n",
      "|  265795690|POLYGON ((-73.943...|     111|POINT (-73.943488...|     0.0|\n",
      "|  265795690|POLYGON ((-73.943...|     111|POINT (-73.943488...|     0.0|\n",
      "+-----------+--------------------+--------+--------------------+--------+\n",
      "only showing top 5 rows\n",
      "\n"
     ]
    },
    {
     "name": "stderr",
     "output_type": "stream",
     "text": [
      "                                                                                \r"
     ]
    }
   ],
   "source": [
    "crime_nyc.createOrReplaceTempView(\"crime_nyc\")\n",
    "\n",
    "nyc = spark.sql(\"\"\"\n",
    "    with buildings as (\n",
    "        select \n",
    "            id\n",
    "            ,ST_GeomFromWKT(geometry) as geom\n",
    "        from nyc_buildings\n",
    "    )\n",
    "    select \n",
    "        nb.id as building_id\n",
    "        ,nb.geom as building_geom\n",
    "        ,cn.district as district\n",
    "        ,cn.geom as crime_geom\n",
    "        ,ST_Distance(nb.geom, cn.geom) as distance\n",
    "    from buildings nb\n",
    "    join crime_nyc cn \n",
    "    on ST_Distance(nb.geom, cn.geom) = 0\n",
    "\"\"\")\n",
    "\n",
    "nyc.write.mode('overwrite').parquet(f\"{path_data}/nyc_full.parquet\")\n",
    "nyc.show(5)\n"
   ]
  },
  {
   "cell_type": "code",
   "execution_count": 11,
   "metadata": {},
   "outputs": [],
   "source": [
    "nyc_districts = spark.read.parquet(f\"{path_data}/nyc_full.parquet\")"
   ]
  },
  {
   "cell_type": "code",
   "execution_count": 12,
   "metadata": {},
   "outputs": [
    {
     "name": "stdout",
     "output_type": "stream",
     "text": [
      "+-----------+--------------------+--------+--------------------+--------+\n",
      "|building_id|       building_geom|District|          crime_geom|distance|\n",
      "+-----------+--------------------+--------+--------------------+--------+\n",
      "|  285901149|POLYGON ((-73.922...|     205|POINT (-73.92227 ...|     0.0|\n",
      "|  285901149|POLYGON ((-73.922...|     205|POINT (-73.92227 ...|     0.0|\n",
      "|  297834679|POLYGON ((-73.907...|     405|POINT (-73.907688...|     0.0|\n",
      "|  298198826|POLYGON ((-73.918...|     304|POINT (-73.918849...|     0.0|\n",
      "|  298198832|POLYGON ((-73.935...|     303|POINT (-73.935223...|     0.0|\n",
      "+-----------+--------------------+--------+--------------------+--------+\n",
      "only showing top 5 rows\n",
      "\n"
     ]
    }
   ],
   "source": [
    "nyc_districts = nyc_districts.withColumnRenamed(\"district\", \"District\")\n",
    "nyc_districts.show(5)"
   ]
  },
  {
   "cell_type": "code",
   "execution_count": 13,
   "metadata": {},
   "outputs": [
    {
     "name": "stdout",
     "output_type": "stream",
     "text": [
      "+-----------+--------------------+--------+--------------------+--------+----------+-----------+-----+--------------------+-----+----------------+----------+----------+-----------+---------------+-----------------+---------+--------+--------------+----------+----------+----------------+------------------+------------------------+--------------------+----------+\n",
      "|building_id|       building_geom|District|          crime_geom|distance|ARREST_KEY|ARREST_DATE|PD_CD|             PD_DESC|KY_CD|       OFNS_DESC|  LAW_CODE|LAW_CAT_CD|ARREST_BORO|ARREST_PRECINCT|JURISDICTION_CODE|AGE_GROUP|PERP_SEX|     PERP_RACE|X_COORD_CD|Y_COORD_CD|        Latitude|         Longitude|New Georeferenced Column|                geom|intersects|\n",
      "+-----------+--------------------+--------+--------------------+--------+----------+-----------+-----+--------------------+-----+----------------+----------+----------+-----------+---------------+-----------------+---------+--------+--------------+----------+----------+----------------+------------------+------------------------+--------------------+----------+\n",
      "|  812664109|POLYGON ((-73.939...|     112|POINT (-73.939767...|     0.0| 281779335| 02/07/2024|  849|NY STATE LAWS,UNC...|  677|OTHER STATE LAWS|LOC00000V0|         V|          M|             33|                1|    25-44|       M|WHITE HISPANIC|   1000916|    245710|40.8410766367656|-73.93976740555671|    POINT (-73.939767...|POINT (-73.939767...|      true|\n",
      "|  812664109|POLYGON ((-73.939...|     112|POINT (-73.939767...|     0.0| 281779335| 02/07/2024|  849|NY STATE LAWS,UNC...|  677|OTHER STATE LAWS|LOC00000V0|         V|          M|             33|                1|    25-44|       M|WHITE HISPANIC|   1000916|    245710|40.8410766367656|-73.93976740555671|    POINT (-73.939767...|POINT (-73.939767...|      true|\n",
      "|  812664109|POLYGON ((-73.939...|     112|POINT (-73.939767...|     0.0| 281779335| 02/07/2024|  849|NY STATE LAWS,UNC...|  677|OTHER STATE LAWS|LOC00000V0|         V|          M|             33|                1|    25-44|       M|WHITE HISPANIC|   1000916|    245710|40.8410766367656|-73.93976740555671|    POINT (-73.939767...|POINT (-73.939767...|      true|\n",
      "|  812664109|POLYGON ((-73.939...|     112|POINT (-73.939767...|     0.0| 281779335| 02/07/2024|  849|NY STATE LAWS,UNC...|  677|OTHER STATE LAWS|LOC00000V0|         V|          M|             33|                1|    25-44|       M|WHITE HISPANIC|   1000916|    245710|40.8410766367656|-73.93976740555671|    POINT (-73.939767...|POINT (-73.939767...|      true|\n",
      "|  812664109|POLYGON ((-73.939...|     112|POINT (-73.939767...|     0.0| 281779335| 02/07/2024|  849|NY STATE LAWS,UNC...|  677|OTHER STATE LAWS|LOC00000V0|         V|          M|             33|                1|    25-44|       M|WHITE HISPANIC|   1000916|    245710|40.8410766367656|-73.93976740555671|    POINT (-73.939767...|POINT (-73.939767...|      true|\n",
      "+-----------+--------------------+--------+--------------------+--------+----------+-----------+-----+--------------------+-----+----------------+----------+----------+-----------+---------------+-----------------+---------+--------+--------------+----------+----------+----------------+------------------+------------------------+--------------------+----------+\n",
      "only showing top 5 rows\n",
      "\n"
     ]
    }
   ],
   "source": [
    "result = nyc_districts.join(crime_nyc.drop(\"district\"), nyc_districts.crime_geom == crime_nyc.geom, \"inner\")\n",
    "result.show(5)"
   ]
  },
  {
   "cell_type": "code",
   "execution_count": 14,
   "metadata": {},
   "outputs": [
    {
     "name": "stderr",
     "output_type": "stream",
     "text": [
      "[Stage 31:>                                                         (0 + 1) / 1]\r"
     ]
    },
    {
     "name": "stdout",
     "output_type": "stream",
     "text": [
      "+-----------+--------------------+--------+--------------------+--------+----------+-----------+-----+--------------------+-----+--------------------+----------+----------+-----------+---------------+-----------------+---------+--------+--------------+----------+----------+-----------------+-----------------+------------------------+--------------------+----------+-------+---------+--------------------+-------------+------+---------------+------------+-----------------+-------------+----------+-----------+----------------+--------------------+-------------+---------+----------+------------+-----------+----------+-------+----+------+-------+----------+-------+--------+--------+--------+------------+--------+----------+-------+----+------+----------+--------+------------+------+----------+--------------------+-------------------+---------------------+-------------+-----+-----------+--------------+-------+--------+\n",
      "|building_id|       building_geom|District|          crime_geom|distance|ARREST_KEY|ARREST_DATE|PD_CD|             PD_DESC|KY_CD|           OFNS_DESC|  LAW_CODE|LAW_CAT_CD|ARREST_BORO|ARREST_PRECINCT|JURISDICTION_CODE|AGE_GROUP|PERP_SEX|     PERP_RACE|X_COORD_CD|Y_COORD_CD|         Latitude|        Longitude|New Georeferenced Column|                geom|intersects|element|       id|            geometry|     building|height|building:levels|building:use|building:material|roof:material|roof:shape|roof:height|addr:housenumber|         addr:street|addr:postcode|addr:city|addr:state|addr:country|addr:suburb|addr:block|amenity|shop|office|leisure|healthcare|tourism|historic|memorial|religion|denomination|man_made|industrial|landuse| lit|access|wheelchair|entrance|nycdoitt:bin|source|start_date|year_of_construction|building:start_date|historic:civilization|opening_hours|usage|residential|building:flats|surface|material|\n",
      "+-----------+--------------------+--------+--------------------+--------+----------+-----------+-----+--------------------+-----+--------------------+----------+----------+-----------+---------------+-----------------+---------+--------+--------------+----------+----------+-----------------+-----------------+------------------------+--------------------+----------+-------+---------+--------------------+-------------+------+---------------+------------+-----------------+-------------+----------+-----------+----------------+--------------------+-------------+---------+----------+------------+-----------+----------+-------+----+------+-------+----------+-------+--------+--------+--------+------------+--------+----------+-------+----+------+----------+--------+------------+------+----------+--------------------+-------------------+---------------------+-------------+-----+-----------+--------------+-------+--------+\n",
      "|  271846419|POLYGON ((-73.935...|     110|POINT (-73.935574...|     0.0| 296831314| 11/20/2024|  109|ASSAULT 2,1,UNCLA...|  106|      FELONY ASSAULT|PL 1200502|         F|          M|             32|                2|    25-44|       F|         BLACK|   1002080|    240156|        40.825832|       -73.935574|    POINT (-73.935574...|POINT (-73.935574...|      true|    way|271846419|POLYGON ((-73.935...|          yes|  14.7|           NULL|        NULL|             NULL|         NULL|      NULL|       NULL|            2627|Adam Clayton Powe...|        10039|     NULL|      NULL|        NULL|       NULL|      NULL|   NULL|NULL|  NULL|   NULL|      NULL|   NULL|    NULL|    NULL|    NULL|        NULL|    NULL|      NULL|   NULL|NULL|  NULL|      NULL|    NULL|     1060197|  NULL|      NULL|                NULL|               NULL|                 NULL|         NULL| NULL|       NULL|          NULL|   NULL|    NULL|\n",
      "|  297834679|POLYGON ((-73.907...|     405|POINT (-73.907688...|     0.0| 283257548| 03/06/2024|  922|TRAFFIC,UNCLASSIF...|  348|VEHICLE AND TRAFF...|VTL0511001|         M|          Q|            104|                0|    25-44|       M|BLACK HISPANIC|   1009845|    195343|40.70281112025132|-73.9076889512263|    POINT (-73.907688...|POINT (-73.907688...|      true|    way|297834679|POLYGON ((-73.907...|train_station|  NULL|            2.0|        NULL|             NULL|         NULL|      NULL|       NULL|            NULL|                NULL|         NULL|     NULL|      NULL|        NULL|       NULL|      NULL|   NULL|NULL|  NULL|   NULL|      NULL|   NULL|    NULL|    NULL|    NULL|        NULL|    NULL|      NULL|   NULL|NULL|  NULL|      NULL|    NULL|        NULL|  NULL|      NULL|                NULL|               NULL|                 NULL|         NULL| NULL|       NULL|          NULL|   NULL|    NULL|\n",
      "|  297834679|POLYGON ((-73.907...|     405|POINT (-73.907688...|     0.0| 283257548| 03/06/2024|  922|TRAFFIC,UNCLASSIF...|  348|VEHICLE AND TRAFF...|VTL0511001|         M|          Q|            104|                0|    25-44|       M|BLACK HISPANIC|   1009845|    195343|40.70281112025132|-73.9076889512263|    POINT (-73.907688...|POINT (-73.907688...|      true|    way|297834679|POLYGON ((-73.907...|train_station|  NULL|            2.0|        NULL|             NULL|         NULL|      NULL|       NULL|            NULL|                NULL|         NULL|     NULL|      NULL|        NULL|       NULL|      NULL|   NULL|NULL|  NULL|   NULL|      NULL|   NULL|    NULL|    NULL|    NULL|        NULL|    NULL|      NULL|   NULL|NULL|  NULL|      NULL|    NULL|        NULL|  NULL|      NULL|                NULL|               NULL|                 NULL|         NULL| NULL|       NULL|          NULL|   NULL|    NULL|\n",
      "|  297834679|POLYGON ((-73.907...|     405|POINT (-73.907688...|     0.0| 283257548| 03/06/2024|  922|TRAFFIC,UNCLASSIF...|  348|VEHICLE AND TRAFF...|VTL0511001|         M|          Q|            104|                0|    25-44|       M|BLACK HISPANIC|   1009845|    195343|40.70281112025132|-73.9076889512263|    POINT (-73.907688...|POINT (-73.907688...|      true|    way|297834679|POLYGON ((-73.907...|train_station|  NULL|            2.0|        NULL|             NULL|         NULL|      NULL|       NULL|            NULL|                NULL|         NULL|     NULL|      NULL|        NULL|       NULL|      NULL|   NULL|NULL|  NULL|   NULL|      NULL|   NULL|    NULL|    NULL|    NULL|        NULL|    NULL|      NULL|   NULL|NULL|  NULL|      NULL|    NULL|        NULL|  NULL|      NULL|                NULL|               NULL|                 NULL|         NULL| NULL|       NULL|          NULL|   NULL|    NULL|\n",
      "|  297834679|POLYGON ((-73.907...|     405|POINT (-73.907688...|     0.0| 283257548| 03/06/2024|  922|TRAFFIC,UNCLASSIF...|  348|VEHICLE AND TRAFF...|VTL0511001|         M|          Q|            104|                0|    25-44|       M|BLACK HISPANIC|   1009845|    195343|40.70281112025132|-73.9076889512263|    POINT (-73.907688...|POINT (-73.907688...|      true|    way|297834679|POLYGON ((-73.907...|train_station|  NULL|            2.0|        NULL|             NULL|         NULL|      NULL|       NULL|            NULL|                NULL|         NULL|     NULL|      NULL|        NULL|       NULL|      NULL|   NULL|NULL|  NULL|   NULL|      NULL|   NULL|    NULL|    NULL|    NULL|        NULL|    NULL|      NULL|   NULL|NULL|  NULL|      NULL|    NULL|        NULL|  NULL|      NULL|                NULL|               NULL|                 NULL|         NULL| NULL|       NULL|          NULL|   NULL|    NULL|\n",
      "+-----------+--------------------+--------+--------------------+--------+----------+-----------+-----+--------------------+-----+--------------------+----------+----------+-----------+---------------+-----------------+---------+--------+--------------+----------+----------+-----------------+-----------------+------------------------+--------------------+----------+-------+---------+--------------------+-------------+------+---------------+------------+-----------------+-------------+----------+-----------+----------------+--------------------+-------------+---------+----------+------------+-----------+----------+-------+----+------+-------+----------+-------+--------+--------+--------+------------+--------+----------+-------+----+------+----------+--------+------------+------+----------+--------------------+-------------------+---------------------+-------------+-----+-----------+--------------+-------+--------+\n",
      "only showing top 5 rows\n",
      "\n"
     ]
    },
    {
     "name": "stderr",
     "output_type": "stream",
     "text": [
      "                                                                                \r"
     ]
    }
   ],
   "source": [
    "enriched_df = result.join(nyc_buildings_full.drop(\"addr:district\"), result.building_id == nyc_buildings_full.id, \"inner\")\n",
    "enriched_df.show(5)"
   ]
  },
  {
   "cell_type": "code",
   "execution_count": null,
   "metadata": {},
   "outputs": [],
   "source": [
    "enriched_df = enriched_df.withColumnRenamed(\"addr:district\", \"null_distr\")"
   ]
  },
  {
   "cell_type": "code",
   "execution_count": null,
   "metadata": {},
   "outputs": [
    {
     "data": {
      "text/plain": [
       "DataFrame[building_id: string, ARREST_KEY: int, ARREST_DATE: string, PD_CD: int, PD_DESC: string, KY_CD: int, OFNS_DESC: string, LAW_CODE: string, LAW_CAT_CD: string, ARREST_BORO: string, ARREST_PRECINCT: int, JURISDICTION_CODE: int, AGE_GROUP: string, PERP_SEX: string, PERP_RACE: string, X_COORD_CD: int, Y_COORD_CD: int, Latitude: double, Longitude: double, New Georeferenced Column: string, geom: udt, element: string, id: string, geometry: string, building: string, height: string, building:levels: double, building:use: string, building:material: string, roof:material: string, roof:shape: string, addr:street: string, addr:postcode: string, addr:state: string, addr:suburb: string, amenity: string, man_made: string, wheelchair: string, opening_hours: string, building:flats: int]"
      ]
     },
     "execution_count": 30,
     "metadata": {},
     "output_type": "execute_result"
    }
   ],
   "source": [
    "enriched_df = enriched_df.drop(\"district\")\n",
    "enriched_df"
   ]
  },
  {
   "cell_type": "code",
   "execution_count": null,
   "metadata": {},
   "outputs": [
    {
     "name": "stderr",
     "output_type": "stream",
     "text": [
      "                                                                                \r"
     ]
    },
    {
     "name": "stdout",
     "output_type": "stream",
     "text": [
      "{'building_id': 0, 'ARREST_KEY': 0, 'ARREST_DATE': 0, 'PD_CD': 11, 'PD_DESC': 0, 'KY_CD': 29, 'OFNS_DESC': 0, 'LAW_CODE': 0, 'LAW_CAT_CD': 10, 'ARREST_BORO': 0, 'ARREST_PRECINCT': 0, 'JURISDICTION_CODE': 0, 'AGE_GROUP': 0, 'PERP_SEX': 0, 'PERP_RACE': 0, 'X_COORD_CD': 0, 'Y_COORD_CD': 0, 'Latitude': 0, 'Longitude': 0, 'New Georeferenced Column': 0, 'geom': 0, 'element': 0, 'id': 0, 'geometry': 0, 'building': 0, 'height': 1227514, 'building:levels': 954374, 'building:use': 1231514, 'building:material': 1233450, 'roof:material': 1233450, 'roof:shape': 977521, 'addr:street': 975568, 'addr:postcode': 412467, 'addr:state': 407448, 'addr:suburb': 1233450, 'amenity': 1231509, 'man_made': 1233425, 'wheelchair': 671627, 'nycdoitt:bin': 1231076, 'opening_hours': 1231514, 'building:flats': 1233450}\n",
      "16719407\n",
      "Total count of null values: 16719407\n",
      "Total count of rows: 1233450\n"
     ]
    },
    {
     "name": "stderr",
     "output_type": "stream",
     "text": [
      "                                                                                \r"
     ]
    }
   ],
   "source": [
    "null_counts = {}\n",
    "\n",
    "for col_name, col_type in enriched_df.dtypes:\n",
    "    if col_type in [\"float\", \"double\", \"int\"]:\n",
    "        null_condition = (F.col(col_name).isNull() | F.isnan(F.col(col_name)))\n",
    "    else:\n",
    "        null_condition = F.col(col_name).isNull()\n",
    "\n",
    "    null_count = (\n",
    "        enriched_df\n",
    "        .withColumn(\"new_column\", F.when(null_condition, 1).otherwise(0))\n",
    "        .agg(F.sum(\"new_column\").alias(\"temp_sum\"))\n",
    "        .collect()[0][0]\n",
    "    )\n",
    "\n",
    "    null_counts[col_name] = null_count\n",
    "\n",
    "total_count = builtins.sum(null_counts.values())\n",
    "\n",
    "print(null_counts)\n",
    "print(total_count)\n",
    "print(f\"Total count of null values: {total_count}\")\n",
    "print(f\"Total count of rows: {enriched_df.count()}\")"
   ]
  },
  {
   "cell_type": "code",
   "execution_count": 17,
   "metadata": {},
   "outputs": [],
   "source": [
    "columns_to_drop = [\"building_geom\",\"tourism\",\"building:material\",\"roof:material\", \"roof:height\", \"industrial\",\"healthcare\",\"nycdoitt:bin\",   \"denomination\",  \"crime_geom\", \"historic\", \"distance\",\"entrance\", \"access\",\"industrial\",  \"intersects\", \"memorial\", \"null_distr\", \"religion\", \"addr:housenumber\", \"addr:city\" , \"addr:country\", \"addr:block\", \"shop\" ,\"office\",\"start_date\", \"lit\",   \"leisure\" ,\"landuse\",  \"year_of_construction\", \"residential\", \"usage\", \"historic:civilization\",\"material\", \"surface\",  \"building:start_date\" , \"source\"]\n",
    "enriched_df = enriched_df.drop(*columns_to_drop)\n"
   ]
  },
  {
   "cell_type": "code",
   "execution_count": 18,
   "metadata": {},
   "outputs": [
    {
     "name": "stderr",
     "output_type": "stream",
     "text": [
      "[Stage 42:==============>                                           (2 + 6) / 8]\r"
     ]
    },
    {
     "name": "stdout",
     "output_type": "stream",
     "text": [
      "+-----------+--------+----------+-----------+-----+--------------------+-----+--------------------+----------+----------+-----------+---------------+-----------------+---------+--------+--------------+----------+----------+-----------------+------------------+------------------------+--------------------+-------+---------+--------------------+-------------+------+---------------+------------+----------+--------------------+-------------+----------+-----------+-------+--------+----------+-------------+--------------+\n",
      "|building_id|District|ARREST_KEY|ARREST_DATE|PD_CD|             PD_DESC|KY_CD|           OFNS_DESC|  LAW_CODE|LAW_CAT_CD|ARREST_BORO|ARREST_PRECINCT|JURISDICTION_CODE|AGE_GROUP|PERP_SEX|     PERP_RACE|X_COORD_CD|Y_COORD_CD|         Latitude|         Longitude|New Georeferenced Column|                geom|element|       id|            geometry|     building|height|building:levels|building:use|roof:shape|         addr:street|addr:postcode|addr:state|addr:suburb|amenity|man_made|wheelchair|opening_hours|building:flats|\n",
      "+-----------+--------+----------+-----------+-----+--------------------+-----+--------------------+----------+----------+-----------+---------------+-----------------+---------+--------+--------------+----------+----------+-----------------+------------------+------------------------+--------------------+-------+---------+--------------------+-------------+------+---------------+------------+----------+--------------------+-------------+----------+-----------+-------+--------+----------+-------------+--------------+\n",
      "|  271846419|     110| 296831314| 11/20/2024|  109|ASSAULT 2,1,UNCLA...|  106|      FELONY ASSAULT|PL 1200502|         F|          M|             32|                2|    25-44|       F|         BLACK|   1002080|    240156|        40.825832|        -73.935574|    POINT (-73.935574...|POINT (-73.935574...|    way|271846419|POLYGON ((-73.935...|          yes|  14.7|           NULL|        NULL|      NULL|Adam Clayton Powe...|        10039|      NULL|       NULL|   NULL|    NULL|      NULL|         NULL|          NULL|\n",
      "|  812667853|     404| 280693867| 01/18/2024|  478|THEFT OF SERVICES...|  343|OTHER OFFENSES RE...|PL 1651503|         M|          Q|            110|                1|    25-44|       M|WHITE HISPANIC|   1014344|    211317|40.74664168277901|-73.89139142095587|    POINT (-73.891391...|POINT (-73.891391...|    way|812667853|POLYGON ((-73.892...|train_station|  NULL|           NULL|        NULL|      NULL|                NULL|         NULL|      NULL|       NULL|   NULL|    NULL|      NULL|         NULL|          NULL|\n",
      "|  812667853|     404| 280693867| 01/18/2024|  478|THEFT OF SERVICES...|  343|OTHER OFFENSES RE...|PL 1651503|         M|          Q|            110|                1|    25-44|       M|WHITE HISPANIC|   1014344|    211317|40.74664168277901|-73.89139142095587|    POINT (-73.891391...|POINT (-73.891391...|    way|812667853|POLYGON ((-73.892...|train_station|  NULL|           NULL|        NULL|      NULL|                NULL|         NULL|      NULL|       NULL|   NULL|    NULL|      NULL|         NULL|          NULL|\n",
      "|  812667853|     404| 280693867| 01/18/2024|  478|THEFT OF SERVICES...|  343|OTHER OFFENSES RE...|PL 1651503|         M|          Q|            110|                1|    25-44|       M|WHITE HISPANIC|   1014344|    211317|40.74664168277901|-73.89139142095587|    POINT (-73.891391...|POINT (-73.891391...|    way|812667853|POLYGON ((-73.892...|train_station|  NULL|           NULL|        NULL|      NULL|                NULL|         NULL|      NULL|       NULL|   NULL|    NULL|      NULL|         NULL|          NULL|\n",
      "|  812667853|     404| 280693867| 01/18/2024|  478|THEFT OF SERVICES...|  343|OTHER OFFENSES RE...|PL 1651503|         M|          Q|            110|                1|    25-44|       M|WHITE HISPANIC|   1014344|    211317|40.74664168277901|-73.89139142095587|    POINT (-73.891391...|POINT (-73.891391...|    way|812667853|POLYGON ((-73.892...|train_station|  NULL|           NULL|        NULL|      NULL|                NULL|         NULL|      NULL|       NULL|   NULL|    NULL|      NULL|         NULL|          NULL|\n",
      "+-----------+--------+----------+-----------+-----+--------------------+-----+--------------------+----------+----------+-----------+---------------+-----------------+---------+--------+--------------+----------+----------+-----------------+------------------+------------------------+--------------------+-------+---------+--------------------+-------------+------+---------------+------------+----------+--------------------+-------------+----------+-----------+-------+--------+----------+-------------+--------------+\n",
      "only showing top 5 rows\n",
      "\n"
     ]
    },
    {
     "name": "stderr",
     "output_type": "stream",
     "text": [
      "                                                                                \r"
     ]
    }
   ],
   "source": [
    "enriched_df.show(5)"
   ]
  },
  {
   "cell_type": "markdown",
   "metadata": {},
   "source": [
    "### Loading to ClickHouse"
   ]
  },
  {
   "cell_type": "code",
   "execution_count": null,
   "metadata": {},
   "outputs": [
    {
     "data": {
      "text/plain": [
       "<clickhouse_connect.driver.summary.QuerySummary at 0x7f7386a382c0>"
      ]
     },
     "execution_count": 17,
     "metadata": {},
     "output_type": "execute_result"
    }
   ],
   "source": [
    "client.command(\"CREATE DATABASE IF NOT EXISTS crime_data\")"
   ]
  },
  {
   "cell_type": "code",
   "execution_count": null,
   "metadata": {},
   "outputs": [],
   "source": [
    "def full_func_creation_table(df, db, table):\n",
    "\n",
    "    types = {\"string\": \"String\",\n",
    "             \"int\": \"Int32\",\n",
    "            \"bigint\": \"Int64\",\n",
    "            \"long\": \"Int64\",\n",
    "            \"double\": \"Float64\",\n",
    "            \"float\": \"Float32\",\n",
    "            \"boolean\": \"Boolean\",\n",
    "            \"timestamp\": \"DateTime\",\n",
    "            \"date\": \"Date\"\n",
    "            }\n",
    "    columns = [f\"`{column_name}` {types.get(column_type, 'String')}\" for column_name, column_type in df.dtypes]\n",
    "    return f\"create table if not exists {db}.{table} ({','.join(columns)}) ENGINE=MergeTree() order by {df.columns[0]}\""
   ]
  },
  {
   "cell_type": "code",
   "execution_count": null,
   "metadata": {},
   "outputs": [
    {
     "data": {
      "text/plain": [
       "<clickhouse_connect.driver.summary.QuerySummary at 0x7f7386a38500>"
      ]
     },
     "execution_count": 19,
     "metadata": {},
     "output_type": "execute_result"
    }
   ],
   "source": [
    "client.command(full_func_creation_table(enriched_df, 'crime_data', 'nyc'))"
   ]
  },
  {
   "cell_type": "code",
   "execution_count": null,
   "metadata": {},
   "outputs": [
    {
     "name": "stderr",
     "output_type": "stream",
     "text": [
      "                                                                                \r"
     ]
    }
   ],
   "source": [
    "enriched_df.writeTo(\"crime_data.nyc\").append()"
   ]
  },
  {
   "cell_type": "markdown",
   "metadata": {},
   "source": [
    "### RGB Data and aggregations"
   ]
  },
  {
   "cell_type": "code",
   "execution_count": 13,
   "metadata": {},
   "outputs": [
    {
     "name": "stdout",
     "output_type": "stream",
     "text": [
      "+---+---+---+--------+\n",
      "|  R|  G|  B|District|\n",
      "+---+---+---+--------+\n",
      "|254|255|255|     201|\n",
      "|255|254|255|     201|\n",
      "|253|255|254|     201|\n",
      "|255|255|253|     201|\n",
      "|255|255|253|     201|\n",
      "|254|254|255|     201|\n",
      "|254|255|255|     201|\n",
      "|255|255|253|     201|\n",
      "|255|254|255|     201|\n",
      "|254|255|255|     201|\n",
      "|255|253|254|     201|\n",
      "|255|255|251|     201|\n",
      "|254|255|255|     201|\n",
      "|254|255|255|     201|\n",
      "|254|255|253|     201|\n",
      "|255|254|255|     201|\n",
      "|255|254|252|     201|\n",
      "|254|255|255|     201|\n",
      "|254|255|255|     201|\n",
      "|253|254|255|     201|\n",
      "+---+---+---+--------+\n",
      "only showing top 20 rows\n",
      "\n"
     ]
    }
   ],
   "source": [
    "df_px = spark.read.csv(f\"{path_data}/rgb_districtsnyc.csv\", header=True, inferSchema=True)\n",
    "df_px.show()"
   ]
  },
  {
   "cell_type": "code",
   "execution_count": 51,
   "metadata": {},
   "outputs": [
    {
     "data": {
      "text/plain": [
       "42"
      ]
     },
     "execution_count": 51,
     "metadata": {},
     "output_type": "execute_result"
    }
   ],
   "source": [
    "df_px.select(\"District\").distinct().count()"
   ]
  },
  {
   "cell_type": "code",
   "execution_count": 14,
   "metadata": {},
   "outputs": [
    {
     "name": "stderr",
     "output_type": "stream",
     "text": [
      "[Stage 30:>                                                         (0 + 1) / 1]\r"
     ]
    },
    {
     "name": "stdout",
     "output_type": "stream",
     "text": [
      "+--------+------------------+------------------+--------+-----+-----+------------------+------------------+--------+-----+-----+------------------+------------------+--------+-----+-----+------------------+--------------------+\n",
      "|District|             R_avg|          R_stddev|R_median|R_q25|R_q75|             G_avg|          G_stddev|G_median|G_q25|G_q75|             B_avg|          B_stddev|B_median|B_q25|B_q75|    brightness_avg|    dark_pixel_ratio|\n",
      "+--------+------------------+------------------+--------+-----+-----+------------------+------------------+--------+-----+-----+------------------+------------------+--------+-----+-----+------------------+--------------------+\n",
      "|     211| 152.5937747819191| 56.98654506605884|     135|  107|  191|125.04837430610627| 68.84321103108333|     100|   71|  165| 78.88996827914353| 86.02875245369897|      39|   18|  109|118.84403912238967| 0.06641554321966693|\n",
      "|     210|169.54456951627623|  64.3848252890404|     157|  113|  250|146.81959233343474| 77.74560168479654|     121|   78|  249|106.82658959537572|102.90904923822526|      49|   17|  249|141.06358381502923| 0.04806814724672954|\n",
      "|     406|177.22461463175924| 58.75216079751365|     169|  124|  251|150.00415953021778| 72.88280867673042|     126|   86|  248|107.46709077563004| 96.52238881605683|      58|   30|  245| 144.8986216458691|0.016148764374847076|\n",
      "|     501|149.86373707533235| 68.76121319438278|     126|   93|  224|129.16728212703103| 79.88383055344983|      96|   63|  219| 97.32791728212703| 96.78866724048306|      43|   21|  206| 125.4529788281635| 0.13847858197932053|\n",
      "|     409|170.17024158952358| 58.08453259123121|     148|  120|  244|143.34906299390383| 74.13394020603737|     108|   81|  239|102.53149695190788| 97.40702705473618|      49|   25|  232|138.68360051177868|0.009934522465567848|\n",
      "|     209|172.18207088255733| 52.85206998242806|     165|  127|  215|143.04864489228632| 62.83710599980696|     128|   93|  181| 87.47498262682419| 84.44492177017631|      52|   27|  117|134.23523280055565|0.014767199444058373|\n",
      "|     305|172.15815976195927|54.807980889102545|     161|  124|  223|141.93293659876403| 67.55695153797478|     121|   86|  191| 91.67269398031586|   89.788128146953|      49|   25|  140| 135.2545967803463|0.011902037079423208|\n",
      "|     206|184.46749482401657|  48.7574573071514|     176|  147|  235| 159.3407867494824| 61.34480398683132|     139|  112|  226|109.43975155279503| 88.94277081623054|      69|   41|  205| 151.0826777087648|0.002070393374741201|\n",
      "|     212|        154.878125| 68.25876897629148|     130|   96|  238|132.53993055555554|  79.7260884937814|      98|   65|  229| 96.60972222222222|  97.7481067238964|      43|   21|  220|128.00925925925955| 0.11284722222222222|\n",
      "|     205|183.97471554993678| 52.86268158259936|     177|  139|  247|162.35145385587865|  64.5283997227383|     147|  106|  243|118.52170248630425| 89.57144108180529|      82|   44|  235| 154.9492906307071|0.005478297513695744|\n",
      "|     308|184.22156773901224| 54.33641828821146|     177|  142|  251|162.32079746261894| 66.58011375951904|     147|  109|  249|123.93611236973267| 88.58731623825969|      88|   50|  246|156.82615919045438|0.022655188038060717|\n",
      "|     402| 191.7115597345133| 51.30143650789941|     191|  147|  250|171.54037610619469|63.215406199259256|     164|  116|  247|134.40237831858408| 85.47745901624886|     110|   59|  244| 165.8847713864304|5.530973451327434E-4|\n",
      "|     306|200.25524109014674|55.397740453908206|     215|  156|  254|189.09591194968553| 64.86920181857914|     208|  131|  254|163.67505241090146| 86.82888721022574|     180|   80|  253|184.34206848357803|0.011530398322851153|\n",
      "|     309| 187.8180169286578| 57.62986714256464|     181|  137|  254|162.75634824667472| 74.00187538844067|     141|   97|  254|122.80350665054414|102.18256185161263|      71|   32|  253|157.79262394195857|0.018137847642079808|\n",
      "|     207|181.15361262902246| 59.49360213342372|     173|  130|  253|161.45021250758955| 71.93104412753662|     143|   98|  253|124.25834851244687| 97.77081281688908|      84|   36|  252|155.62072454968668|0.023375834851244687|\n",
      "|     316| 187.7597911227154| 49.21651455166856|     174|  145|  253|160.21279373368145| 66.75799523407446|     135|  104|  253| 116.3437771975631| 94.71986609290236|      71|   36|  252|154.77212068465354|8.703220191470844E-4|\n",
      "|     502|143.33631484794276| 70.48187088268699|     117|   86|  215|123.76565295169947| 81.17732254290203|      87|   57|  211| 94.01201124456938| 97.00683365587453|      37|   18|  198|120.37132634807055|  0.1845131612573473|\n",
      "|     202|195.26154868727153| 46.94456597231995|     193|  160|  248|172.03024260551678| 56.75530791069852|     160|  127|  234| 123.6630109670987|  83.8951986276103|      93|   56|  217|163.65160075329553|0.003988035892323031|\n",
      "|     503|152.50075075075074| 75.39030995648922|     125|   85|  252|136.87800300300302| 87.65954469313498|     105|   56|  253|114.23010510510511|103.37151215487809|      65|   18|  251|134.53628628628647|  0.2072072072072072|\n",
      "|     310|       151.1509375|54.110124984878595|     133|  111|  183|         128.14875| 64.98003443336208|     102|   78|  166|         87.335625| 83.09611622859221|      50|   26|  127|122.21177083333319|            0.025625|\n",
      "+--------+------------------+------------------+--------+-----+-----+------------------+------------------+--------+-----+-----+------------------+------------------+--------+-----+-----+------------------+--------------------+\n",
      "only showing top 20 rows\n",
      "\n"
     ]
    },
    {
     "name": "stderr",
     "output_type": "stream",
     "text": [
      "                                                                                \r"
     ]
    }
   ],
   "source": [
    "aggreg_df = df_px.groupby(\"District\").agg(\n",
    "    F.avg(\"R\").alias(\"R_avg\"),\n",
    "    F.stddev(\"R\").alias(\"R_stddev\"),\n",
    "    F.expr(\"percentile_approx(R, 0.5)\").alias(\"R_median\"),\n",
    "    F.expr(\"percentile_approx(R, 0.25)\").alias(\"R_q25\"),\n",
    "    F.expr(\"percentile_approx(R, 0.75)\").alias(\"R_q75\"),\n",
    "    \n",
    "    F.avg(\"G\").alias(\"G_avg\"),\n",
    "    F.stddev(\"G\").alias(\"G_stddev\"),\n",
    "    F.expr(\"percentile_approx(G, 0.5)\").alias(\"G_median\"),\n",
    "    F.expr(\"percentile_approx(G, 0.25)\").alias(\"G_q25\"),\n",
    "    F.expr(\"percentile_approx(G, 0.75)\").alias(\"G_q75\"),\n",
    "    \n",
    "    F.avg(\"B\").alias(\"B_avg\"),\n",
    "    F.stddev(\"B\").alias(\"B_stddev\"),\n",
    "    F.expr(\"percentile_approx(B, 0.5)\").alias(\"B_median\"),\n",
    "    F.expr(\"percentile_approx(B, 0.25)\").alias(\"B_q25\"),\n",
    "    F.expr(\"percentile_approx(B, 0.75)\").alias(\"B_q75\"),\n",
    "    F.avg( (F.col(\"R\") + F.col(\"G\") + F.col(\"B\")) / 3 ).alias(\"brightness_avg\"),\n",
    "    F.avg( F.when( (F.col(\"R\")+F.col(\"G\")+F.col(\"B\"))/3 < 50, 1).otherwise(0) ).alias(\"dark_pixel_ratio\"),\n",
    "\n",
    ")\n",
    "aggreg_df.show()"
   ]
  },
  {
   "cell_type": "code",
   "execution_count": 15,
   "metadata": {},
   "outputs": [
    {
     "name": "stderr",
     "output_type": "stream",
     "text": [
      "[Stage 35:=============================>                            (4 + 4) / 8]\r"
     ]
    },
    {
     "name": "stdout",
     "output_type": "stream",
     "text": [
      "+------------------+------------------+-----------------+-----------------+-----------------+----------------+--------+--------+--------+-----+-----+-----+-----+-----+-----+------------------+--------------------+----------+-----------+-----+--------------------+-----+--------------------+----------+----------+-----------+---------------+-----------------+---------+--------+--------------+----------+----------+------------------+-----------------+------------------------+--------------------+--------+----------+\n",
      "|             R_avg|             G_avg|            B_avg|         R_stddev|         G_stddev|        B_stddev|R_median|G_median|B_median|R_q25|G_q25|B_q25|R_q75|G_q75|B_q75|    brightness_avg|    dark_pixel_ratio|ARREST_KEY|ARREST_DATE|PD_CD|             PD_DESC|KY_CD|           OFNS_DESC|  LAW_CODE|LAW_CAT_CD|ARREST_BORO|ARREST_PRECINCT|JURISDICTION_CODE|AGE_GROUP|PERP_SEX|     PERP_RACE|X_COORD_CD|Y_COORD_CD|          Latitude|        Longitude|New Georeferenced Column|                geom|district|intersects|\n",
      "+------------------+------------------+-----------------+-----------------+-----------------+----------------+--------+--------+--------+-----+-----+-----+-----+-----+-----+------------------+--------------------+----------+-----------+-----+--------------------+-----+--------------------+----------+----------+-----------+---------------+-----------------+---------+--------+--------------+----------+----------+------------------+-----------------+------------------------+--------------------+--------+----------+\n",
      "|195.26154868727153|172.03024260551678|123.6630109670987|46.94456597231995|56.75530791069852|83.8951986276103|     193|     160|      93|  160|  127|   56|  248|  234|  217|163.65160075329553|0.003988035892323031| 280733020| 01/18/2024|  153|              RAPE 3|  104|                RAPE|PL 1302503|         F|          B|             41|                0|    45-64|       M|         BLACK|   1013037|    236657|  40.8162058439227|-73.8960011932583|    POINT (-73.896001...|POINT (-73.896001...|     202|      true|\n",
      "|195.26154868727153|172.03024260551678|123.6630109670987|46.94456597231995|56.75530791069852|83.8951986276103|     193|     160|      93|  160|  127|   56|  248|  234|  217|163.65160075329553|0.003988035892323031| 284507917| 03/29/2024|  157|              RAPE 1|  104|                RAPE|PL 1303503|         F|          B|             41|                0|      65+|       M|BLACK HISPANIC|   1013037|    236657|  40.8162058439227|-73.8960011932583|    POINT (-73.896001...|POINT (-73.896001...|     202|      true|\n",
      "|195.26154868727153|172.03024260551678|123.6630109670987|46.94456597231995|56.75530791069852|83.8951986276103|     193|     160|      93|  160|  127|   56|  248|  234|  217|163.65160075329553|0.003988035892323031| 285085283| 04/10/2024|  515|CONTROLLED SUBSTA...|  117|     DANGEROUS DRUGS|PL 2203901|         F|          B|             41|                0|    25-44|       M|BLACK HISPANIC|   1013096|    236605|         40.816057|       -73.895785|    POINT (-73.895785...|POINT (-73.895785...|     202|      true|\n",
      "|195.26154868727153|172.03024260551678|123.6630109670987|46.94456597231995|56.75530791069852|83.8951986276103|     193|     160|      93|  160|  127|   56|  248|  234|  217|163.65160075329553|0.003988035892323031| 283820105| 03/15/2024|   49|U.S. CODE UNCLASS...|  995|FOR OTHER AUTHORI...|FOA9000049|      NULL|          B|             41|                0|    25-44|       M|         BLACK|   1012345|    236786|         40.816556|       -73.898497|    POINT (-73.898497...|POINT (-73.898497...|     202|      true|\n",
      "|195.26154868727153|172.03024260551678|123.6630109670987|46.94456597231995|56.75530791069852|83.8951986276103|     193|     160|      93|  160|  127|   56|  248|  234|  217|163.65160075329553|0.003988035892323031| 284704511| 04/03/2024|  849|NY STATE LAWS,UNC...|  677|    OTHER STATE LAWS|LOC00000V0|         V|          B|             41|                1|    25-44|       M|         BLACK|   1014509|    238113|40.820188951147415|-73.8906752472269|    POINT (-73.890675...|POINT (-73.890675...|     202|      true|\n",
      "+------------------+------------------+-----------------+-----------------+-----------------+----------------+--------+--------+--------+-----+-----+-----+-----+-----+-----+------------------+--------------------+----------+-----------+-----+--------------------+-----+--------------------+----------+----------+-----------+---------------+-----------------+---------+--------+--------------+----------+----------+------------------+-----------------+------------------------+--------------------+--------+----------+\n",
      "only showing top 5 rows\n",
      "\n"
     ]
    },
    {
     "name": "stderr",
     "output_type": "stream",
     "text": [
      "                                                                                \r"
     ]
    }
   ],
   "source": [
    "aggreg_df.createOrReplaceTempView(\"aggreg_df\")\n",
    "\n",
    "nyc = spark.sql(\"\"\"\n",
    "        select     \n",
    "            a.R_avg\n",
    "            ,a.G_avg\n",
    "            ,a.B_avg    \n",
    "            ,a.R_stddev\n",
    "            ,a.G_stddev\n",
    "            ,a.B_stddev\n",
    "            ,a.R_median\n",
    "            ,a.G_median\n",
    "            ,a.B_median\n",
    "            ,a.R_q25\n",
    "            ,a.G_q25\n",
    "            ,a.B_q25\n",
    "            ,a.R_q75\n",
    "            ,a.G_q75\n",
    "            ,a.B_q75\n",
    "            ,a.brightness_avg\n",
    "            ,a.dark_pixel_ratio            \n",
    "            ,cr.*\n",
    "        from aggreg_df a        \n",
    "        JOIN crime_nyc cr\n",
    "        on a.District = cr.District\n",
    "\"\"\")\n",
    "\n",
    "nyc.show(5)\n"
   ]
  },
  {
   "cell_type": "code",
   "execution_count": null,
   "metadata": {},
   "outputs": [],
   "source": []
  },
  {
   "cell_type": "code",
   "execution_count": 16,
   "metadata": {},
   "outputs": [
    {
     "name": "stderr",
     "output_type": "stream",
     "text": [
      "                                                                                \r"
     ]
    },
    {
     "data": {
      "text/plain": [
       "42"
      ]
     },
     "execution_count": 16,
     "metadata": {},
     "output_type": "execute_result"
    }
   ],
   "source": [
    "nyc.select(\"District\").distinct().count()"
   ]
  },
  {
   "cell_type": "code",
   "execution_count": 17,
   "metadata": {},
   "outputs": [
    {
     "name": "stderr",
     "output_type": "stream",
     "text": [
      "[Stage 56:=======>                                                  (1 + 7) / 8]\r"
     ]
    },
    {
     "name": "stdout",
     "output_type": "stream",
     "text": [
      "+------------+--------+-----+\n",
      "|ARREST_MONTH|District|count|\n",
      "+------------+--------+-----+\n",
      "|           1|     201|    1|\n",
      "|           1|     202|    1|\n",
      "|           1|     203|    1|\n",
      "|           1|     204|    1|\n",
      "|           1|     205|    1|\n",
      "|           1|     206|    1|\n",
      "|           1|     207|    1|\n",
      "|           1|     208|    1|\n",
      "|           1|     209|    1|\n",
      "|           1|     210|    1|\n",
      "|           1|     211|    1|\n",
      "|           1|     212|    1|\n",
      "|           1|     301|    1|\n",
      "|           1|     302|    1|\n",
      "|           1|     303|    1|\n",
      "|           1|     304|    1|\n",
      "|           1|     305|    1|\n",
      "|           1|     306|    1|\n",
      "|           1|     307|    1|\n",
      "|           1|     308|    1|\n",
      "+------------+--------+-----+\n",
      "only showing top 20 rows\n",
      "\n"
     ]
    },
    {
     "name": "stderr",
     "output_type": "stream",
     "text": [
      "                                                                                \r"
     ]
    }
   ],
   "source": [
    "from pyspark.sql.functions import to_date, year, month, dayofmonth\n",
    "\n",
    "df = nyc.withColumn(\"ARREST_DATE_DT\", to_date(\"ARREST_DATE\", \"MM/dd/yyyy\")) \\\n",
    "       .withColumn(\"ARREST_YEAR\", year(\"ARREST_DATE_DT\")) \\\n",
    "       .withColumn(\"ARREST_MONTH\", month(\"ARREST_DATE_DT\")) \\\n",
    "       .withColumn(\"ARREST_DAY\", dayofmonth(\"ARREST_DATE_DT\"))\n",
    "\n",
    "df.select(\"ARREST_MONTH\", \"District\").distinct().groupBy(\"ARREST_MONTH\", \"District\").count().orderBy(\"ARREST_MONTH\", \"District\").show()\n",
    "aggdf = df.groupBy(\"District\", \"ARREST_YEAR\", \"ARREST_Month\").agg(F.count(\"*\").alias(\"total_quantity_crime_in_dist\")).orderBy(\"District\", \"ARREST_YEAR\", \"ARREST_Month\")"
   ]
  },
  {
   "cell_type": "code",
   "execution_count": 18,
   "metadata": {},
   "outputs": [],
   "source": [
    "df = df.join(aggdf, on=[\"District\",  \"ARREST_Month\"], how=\"left\")"
   ]
  },
  {
   "cell_type": "code",
   "execution_count": 19,
   "metadata": {},
   "outputs": [],
   "source": [
    "agg_sex_df = df.groupBy(\"District\").agg(\n",
    "    avg(when(df.PERP_SEX == 'M', 1).otherwise(0)).alias(\"mean_M\"),\n",
    "    avg(when(df.PERP_SEX == 'F', 1).otherwise(0)).alias(\"mean_F\")\n",
    ").orderBy(\"District\")\n",
    "df = df.join(agg_sex_df, on=\"District\", how=\"left\")"
   ]
  },
  {
   "cell_type": "code",
   "execution_count": 20,
   "metadata": {},
   "outputs": [],
   "source": [
    "from pyspark.sql.functions import when, avg, countDistinct, count, col, row_number\n",
    "\n",
    "agg_age_df = df.groupBy(\"District\").agg(\n",
    "    avg(when(df.AGE_GROUP == '18-24', 1/7).otherwise(0)).alias(\"pct_age_18_24\"),\n",
    "    avg(when(df.AGE_GROUP == '25-44', 1/20).otherwise(0)).alias(\"pct_age_25_44\"),\n",
    "    avg(when(df.AGE_GROUP == '45-64', 1).otherwise(0)).alias(\"pct_age_45_64\"),\n",
    "    avg(when(df.AGE_GROUP == '<18', 1).otherwise(0)).alias(\"pct_age_<18\"),\n",
    "    avg(when(df.AGE_GROUP == '65+', 1).otherwise(0)).alias(\"pct_age_65_plus\")\n",
    ")\n",
    "df = df.join(agg_age_df, on=\"District\", how=\"left\")"
   ]
  },
  {
   "cell_type": "code",
   "execution_count": 21,
   "metadata": {},
   "outputs": [
    {
     "name": "stderr",
     "output_type": "stream",
     "text": [
      "                                                                                \r"
     ]
    }
   ],
   "source": [
    "top_offenses = (\n",
    "    df.groupBy(\"OFNS_DESC\")\n",
    "    .count()\n",
    "    .orderBy(\"count\", ascending=False)\n",
    "    .limit(15)\n",
    "    .select(\"OFNS_DESC\")\n",
    "    .rdd.flatMap(lambda x: x)\n",
    "    .collect()\n",
    ")"
   ]
  },
  {
   "cell_type": "code",
   "execution_count": 22,
   "metadata": {},
   "outputs": [
    {
     "name": "stderr",
     "output_type": "stream",
     "text": [
      "                                                                                \r"
     ]
    },
    {
     "name": "stdout",
     "output_type": "stream",
     "text": [
      "+--------+------------+--------------------------------+--------------------+--------------------+---------------------------+--------------------+----------------------------+--------------------+-----------------------------------+----------------------------------+---------------------+--------------------+----------------------------------+--------------------+--------------------+---------------------------------+\n",
      "|District|ARREST_MONTH|pct_assault_3_&_related_offenses|  pct_felony_assault|   pct_petit_larceny|pct_miscellaneous_penal_law| pct_dangerous_drugs|pct_vehicle_and_traffic_laws|         pct_robbery|pct_other_offenses_related_to_theft|pct_criminal_mischief_&_related_of|pct_dangerous_weapons|   pct_grand_larceny|pct_offenses_against_public_admini|        pct_burglary|      pct_sex_crimes|pct_off._agnst_pub_ord_sensblty_&|\n",
      "+--------+------------+--------------------------------+--------------------+--------------------+---------------------------+--------------------+----------------------------+--------------------+-----------------------------------+----------------------------------+---------------------+--------------------+----------------------------------+--------------------+--------------------+---------------------------------+\n",
      "|     212|           1|             0.19854721549636803| 0.15980629539951574|0.021791767554479417|        0.03389830508474576|  0.0387409200968523|        0.048426150121065374| 0.05569007263922518|                0.03389830508474576|               0.05084745762711865| 0.053268765133171914|  0.0387409200968523|              0.031476997578692496|0.029055690072639227| 0.01937046004842615|             0.043583535108958835|\n",
      "|     207|           4|             0.11959287531806616| 0.11195928753180662| 0.13740458015267176|        0.04580152671755725| 0.10941475826972011|         0.02544529262086514| 0.06615776081424936|                0.03816793893129771|               0.03307888040712468| 0.058524173027989825| 0.04580152671755725|              0.020356234096692113|0.007633587786259542|0.022900763358778626|             0.027989821882951654|\n",
      "|     409|           3|             0.16487455197132617|0.053763440860215055| 0.08960573476702509|        0.13261648745519714| 0.03225806451612903|         0.05734767025089606| 0.04659498207885305|                                0.0|               0.04659498207885305| 0.007168458781362007| 0.04659498207885305|                0.1039426523297491|0.007168458781362007|0.021505376344086023|             0.014336917562724014|\n",
      "|     208|           1|                          0.1875| 0.13392857142857142|0.044642857142857144|       0.044642857142857144|                 0.0|         0.15178571428571427|               0.125|                                0.0|                            0.0625| 0.008928571428571428|0.044642857142857144|              0.008928571428571428|                 0.0|                 0.0|             0.008928571428571428|\n",
      "|     309|           3|             0.11029411764705882|              0.0625| 0.04044117647058824|        0.15441176470588236| 0.08823529411764706|         0.05514705882352941|0.007352941176470588|                 0.0661764705882353|               0.04044117647058824|   0.0661764705882353|0.011029411764705883|               0.04411764705882353|0.029411764705882353|0.003676470588235294|              0.03308823529411765|\n",
      "|     311|           1|              0.1762114537444934| 0.07929515418502203|  0.1013215859030837|        0.09251101321585903| 0.05726872246696035|          0.1013215859030837|0.013215859030837005|               0.013215859030837005|              0.048458149779735685| 0.039647577092511016|0.030837004405286344|              0.030837004405286344|0.022026431718061675| 0.01762114537444934|              0.01762114537444934|\n",
      "|     201|           3|             0.12167832167832168| 0.08251748251748252|0.046153846153846156|       0.046153846153846156| 0.12867132867132866|         0.08671328671328671| 0.04195804195804196|                0.04195804195804196|               0.03636363636363636|  0.05314685314685315| 0.02097902097902098|               0.05174825174825175|0.033566433566433566|0.013986013986013986|             0.026573426573426574|\n",
      "|     310|           4|                           0.095|               0.025|               0.155|                       0.11|                0.09|                       0.135|               0.015|                              0.005|                              0.05|                0.065|               0.025|                              0.02|                0.03|               0.005|                            0.015|\n",
      "|     502|          11|              0.0989010989010989| 0.04945054945054945| 0.34065934065934067|        0.13186813186813187| 0.04395604395604396|        0.038461538461538464|0.005494505494505495|                0.03296703296703297|              0.027472527472527472| 0.038461538461538464| 0.01098901098901099|               0.02197802197802198|0.027472527472527472|                 0.0|              0.02197802197802198|\n",
      "|     411|           5|              0.2736842105263158| 0.12631578947368421|0.010526315789473684|        0.06315789473684211| 0.05263157894736842|         0.12631578947368421|0.010526315789473684|                                0.0|               0.09473684210526316| 0.031578947368421054| 0.06315789473684211|                               0.0|0.021052631578947368| 0.05263157894736842|             0.021052631578947368|\n",
      "|     211|           2|             0.13656387665198239| 0.10572687224669604|  0.1013215859030837|        0.02643171806167401| 0.04405286343612335|         0.11013215859030837| 0.04405286343612335|                0.01762114537444934|              0.048458149779735685|  0.05286343612334802|0.048458149779735685|              0.030837004405286344| 0.01762114537444934| 0.03524229074889868|             0.030837004405286344|\n",
      "|     406|           2|             0.09395973154362416|0.053691275167785234|  0.3087248322147651|       0.040268456375838924|0.013422818791946308|         0.03355704697986577|0.006711409395973154|               0.006711409395973154|              0.006711409395973154|                  0.0|0.053691275167785234|              0.013422818791946308|0.053691275167785234| 0.10738255033557047|             0.006711409395973154|\n",
      "|     302|           6|             0.09819639278557114| 0.09619238476953908| 0.19438877755511022|        0.03807615230460922| 0.03006012024048096|         0.03807615230460922| 0.04208416833667335|                0.04208416833667335|               0.04609218436873747| 0.026052104208416832| 0.08617234468937876|               0.02404809619238477| 0.04408817635270541| 0.03006012024048096|              0.01002004008016032|\n",
      "|     210|           2|             0.15770609318996415| 0.08243727598566308| 0.11827956989247312|        0.05734767025089606|0.021505376344086023|         0.12186379928315412|0.035842293906810034|               0.010752688172043012|               0.03942652329749104| 0.021505376344086023|  0.0931899641577061|              0.021505376344086023|0.010752688172043012|0.007168458781362007|             0.043010752688172046|\n",
      "|     312|           3|             0.14792899408284024| 0.07692307692307693|0.047337278106508875|        0.07100591715976332| 0.08875739644970414|        0.047337278106508875|0.047337278106508875|               0.011834319526627219|               0.08284023668639054|  0.03550295857988166|0.029585798816568046|               0.01775147928994083|0.023668639053254437|0.047337278106508875|             0.029585798816568046|\n",
      "|     405|           5|             0.21674876847290642| 0.09852216748768473| 0.07881773399014778|       0.059113300492610835|0.014778325123152709|        0.024630541871921183|0.054187192118226604|               0.004926108374384...|               0.07881773399014778| 0.009852216748768473|0.034482758620689655|              0.054187192118226604|0.024630541871921183|0.004926108374384...|             0.014778325123152709|\n",
      "|     313|           6|              0.1867816091954023| 0.09770114942528736| 0.02586206896551724|        0.08333333333333333| 0.07758620689655173|        0.040229885057471264| 0.05459770114942529|                0.08620689655172414|               0.03735632183908046|  0.05747126436781609|0.017241379310344827|              0.034482758620689655|0.022988505747126436| 0.04310344827586207|              0.02586206896551724|\n",
      "|     204|           2|             0.13673805601317957| 0.09225700164744646|   0.085667215815486|        0.03789126853377265| 0.06260296540362438|         0.07248764415156507|   0.042833607907743|                0.08401976935749589|               0.06260296540362438| 0.036243822075782535|0.016474464579901153|               0.03130148270181219|0.029654036243822075|0.009884678747940691|             0.009884678747940691|\n",
      "|     411|           1|             0.09090909090909091| 0.10606060606060606|0.030303030303030304|        0.10606060606060606|0.045454545454545456|         0.19696969696969696| 0.06060606060606061|                                0.0|              0.045454545454545456| 0.015151515151515152|0.015151515151515152|              0.015151515151515152|                 0.0|                 0.0|             0.015151515151515152|\n",
      "|     210|           6|             0.17796610169491525| 0.09322033898305085| 0.17796610169491525|        0.03389830508474576|0.038135593220338986|        0.038135593220338986|  0.0423728813559322|                                0.0|              0.059322033898305086|  0.05084745762711865|  0.0635593220338983|               0.05508474576271186|0.012711864406779662|0.025423728813559324|             0.029661016949152543|\n",
      "|     206|           1|             0.18441558441558442| 0.10909090909090909| 0.08311688311688312|        0.02857142857142857| 0.05974025974025974|         0.04935064935064935| 0.06233766233766234|                0.04155844155844156|               0.06233766233766234|  0.04155844155844156| 0.03116883116883117|               0.03896103896103896|0.033766233766233764|0.012987012987012988|             0.012987012987012988|\n",
      "|     401|           3|             0.10344827586206896| 0.09770114942528736| 0.11494252873563218|        0.09770114942528736| 0.08620689655172414|        0.040229885057471264| 0.05459770114942529|               0.014367816091954023|               0.03735632183908046|  0.04310344827586207| 0.06896551724137931|              0.034482758620689655|0.014367816091954023|0.028735632183908046|             0.028735632183908046|\n",
      "|     304|           2|             0.11026615969581749| 0.10646387832699619|0.030418250950570342|        0.07224334600760456| 0.08365019011406843|        0.030418250950570342|0.057034220532319393|                0.12167300380228137|              0.053231939163498096| 0.026615969581749048|0.045627376425855515|              0.034220532319391636| 0.03802281368821293|0.015209125475285171|             0.026615969581749048|\n",
      "|     404|           6|              0.2020057306590258|  0.1017191977077364| 0.14469914040114612|       0.024355300859598854|  0.0329512893982808|         0.02148997134670487| 0.05300859598853868|                0.07020057306590258|              0.027220630372492838|  0.02865329512893983| 0.07879656160458452|               0.02005730659025788|0.002865329512893...| 0.04154727793696275|             0.014326647564469915|\n",
      "|     210|           5|             0.17333333333333334|                0.12| 0.13333333333333333|        0.03111111111111111|0.035555555555555556|         0.09333333333333334| 0.05333333333333334|               0.008888888888888889|                              0.04| 0.008888888888888889|0.035555555555555556|               0.06666666666666667| 0.04888888888888889|0.022222222222222223|              0.03111111111111111|\n",
      "|     502|           6|             0.19230769230769232|  0.0641025641025641| 0.17307692307692307|        0.09615384615384616|0.038461538461538464|         0.10897435897435898| 0.00641025641025641|                                0.0|               0.07692307692307693|  0.01282051282051282|0.019230769230769232|               0.02564102564102564|                 0.0| 0.00641025641025641|              0.00641025641025641|\n",
      "|     304|          12|             0.15602836879432624| 0.09929078014184398| 0.03900709219858156|         0.0673758865248227| 0.13829787234042554|         0.03546099290780142|0.024822695035460994|                0.04609929078014184|               0.03900709219858156| 0.014184397163120567| 0.06028368794326241|               0.03900709219858156| 0.01773049645390071| 0.01773049645390071|             0.010638297872340425|\n",
      "|     205|           4|             0.16434108527131783| 0.07596899224806201| 0.09147286821705426|       0.037209302325581395| 0.08837209302325581|         0.07596899224806201|0.037209302325581395|                0.05271317829457364|              0.024806201550387597|  0.06201550387596899|0.024806201550387597|               0.05581395348837209|0.010852713178294573|0.020155038759689922|             0.004651162790697674|\n",
      "|     311|           2|             0.23766816143497757| 0.04932735426008968| 0.17040358744394618|        0.08071748878923767| 0.07174887892376682|         0.04035874439461883|0.013452914798206279|               0.017937219730941704|               0.03587443946188341| 0.053811659192825115|0.026905829596412557|              0.013452914798206279|0.013452914798206279| 0.02242152466367713|             0.013452914798206279|\n",
      "|     206|           4|              0.1873198847262248| 0.08645533141210375| 0.02881844380403458|       0.025936599423631124| 0.08069164265129683|        0.037463976945244955| 0.09798270893371758|                0.01729106628242075|               0.07780979827089338| 0.037463976945244955| 0.06628242074927954|              0.040345821325648415|  0.0345821325648415|0.040345821325648415|             0.011527377521613832|\n",
      "|     309|           4|             0.21145374449339208| 0.06607929515418502| 0.00881057268722467|        0.07488986784140969|  0.0881057268722467|        0.048458149779735685|0.013215859030837005|                0.10572687224669604|               0.05286343612334802|  0.05726872246696035|                 0.0|              0.022026431718061675|0.004405286343612335| 0.01762114537444934|             0.022026431718061675|\n",
      "|     312|           2|              0.1864406779661017| 0.07909604519774012| 0.03954802259887006|        0.06779661016949153|  0.1016949152542373|         0.04519774011299435| 0.01694915254237288|                0.01694915254237288|                0.0847457627118644|  0.02824858757062147| 0.04519774011299435|              0.005649717514124294|0.011299435028248588| 0.04519774011299435|              0.03389830508474576|\n",
      "|     410|           6|              0.2413793103448276| 0.15708812260536398| 0.10344827586206896|        0.05363984674329502|0.011494252873563218|         0.02681992337164751|0.038314176245210725|               0.003831417624521...|                0.0421455938697318|   0.0421455938697318|0.022988505747126436|               0.01532567049808429|0.007662835249042145| 0.12260536398467432|             0.003831417624521...|\n",
      "|     212|           4|             0.22946175637393768|  0.1671388101983003|0.031161473087818695|        0.06515580736543909|0.031161473087818695|        0.028328611898016998| 0.09348441926345609|               0.039660056657223795|                0.0764872521246459|   0.0028328611898017|0.031161473087818695|              0.028328611898016998|  0.0226628895184136|  0.0339943342776204|               0.0339943342776204|\n",
      "|     207|           5|             0.12807881773399016| 0.10591133004926108| 0.08374384236453201|       0.059113300492610835| 0.12807881773399016|         0.03940886699507389|0.046798029556650245|               0.019704433497536946|              0.046798029556650245| 0.027093596059113302| 0.03694581280788178|              0.012315270935960592|0.009852216748768473| 0.04433497536945813|             0.029556650246305417|\n",
      "|     503|           3|            0.051470588235294115| 0.08823529411764706| 0.15441176470588236|         0.1323529411764706|0.058823529411764705|         0.16911764705882354|0.007352941176470588|                                0.0|               0.04411764705882353| 0.014705882352941176|0.014705882352941176|              0.051470588235294115|0.007352941176470588|                 0.0|             0.014705882352941176|\n",
      "|     212|           2|             0.24266666666666667| 0.09866666666666667|0.050666666666666665|                       0.08|0.042666666666666665|         0.05333333333333334|0.037333333333333336|                              0.008|               0.07466666666666667| 0.037333333333333336|0.042666666666666665|              0.037333333333333336|0.034666666666666665|0.010666666666666666|                            0.024|\n",
      "|     310|           6|             0.19318181818181818| 0.05113636363636364|  0.1534090909090909|       0.056818181818181816| 0.08522727272727272|          0.1590909090909091|0.011363636363636364|               0.028409090909090908|              0.045454545454545456| 0.022727272727272728|0.028409090909090908|              0.017045454545454544|0.005681818181818182|0.017045454545454544|                              0.0|\n",
      "|     201|          12|             0.09928229665071771| 0.06578947368421052| 0.08014354066985646|       0.039473684210526314| 0.13157894736842105|         0.08851674641148326| 0.01555023923444976|                0.18301435406698566|                0.0430622009569378| 0.045454545454545456| 0.01076555023923445|              0.041866028708133975|0.013157894736842105| 0.01076555023923445|             0.011961722488038277|\n",
      "|     501|           3|             0.12275449101796407| 0.10329341317365269| 0.06287425149700598|        0.10029940119760479| 0.12724550898203593|         0.09880239520958084| 0.03293413173652695|                0.04491017964071856|               0.05538922155688623|  0.02694610778443114|  0.0344311377245509|               0.03143712574850299|0.005988023952095809|  0.0344311377245509|              0.01347305389221557|\n",
      "|     203|           4|             0.17630057803468208| 0.12138728323699421|0.031791907514450865|        0.09248554913294797| 0.03757225433526012|          0.0838150289017341|0.046242774566473986|                                0.0|               0.04046242774566474| 0.031791907514450865|0.031791907514450865|               0.02601156069364162| 0.03468208092485549|0.031791907514450865|             0.017341040462427744|\n",
      "|     207|           1|             0.14096916299559473| 0.08590308370044053| 0.14757709251101322|       0.048458149779735685|  0.1211453744493392|         0.07268722466960352|0.048458149779735685|               0.028634361233480177|              0.037444933920704845|  0.04185022026431718|0.037444933920704845|               0.01762114537444934|0.015418502202643172| 0.00881057268722467|             0.019823788546255508|\n",
      "|     406|           5|              0.1597222222222222|0.041666666666666664| 0.13194444444444445|       0.027777777777777776|0.013888888888888888|         0.04861111111111111|0.020833333333333332|               0.027777777777777776|               0.04861111111111111|  0.04861111111111111| 0.05555555555555555|              0.006944444444444444|0.013888888888888888| 0.14583333333333334|                              0.0|\n",
      "|     206|           2|             0.23003194888178913| 0.09584664536741214|0.051118210862619806|       0.025559105431309903|  0.0926517571884984|          0.0670926517571885| 0.06070287539936102|                0.03194888178913738|               0.04472843450479233|  0.07028753993610223|0.025559105431309903|               0.02875399361022364| 0.02875399361022364|0.012779552715654952|             0.006389776357827476|\n",
      "|     314|           3|              0.2440944881889764|0.031496062992125984|  0.1141732283464567|         0.0984251968503937| 0.08267716535433071|         0.04330708661417323|0.031496062992125984|               0.011811023622047244|               0.04330708661417323|  0.06692913385826772|0.051181102362204724|              0.051181102362204724|0.015748031496062992|0.015748031496062992|             0.007874015748031496|\n",
      "|     401|           6|             0.15365853658536585| 0.14634146341463414| 0.07073170731707316|        0.07317073170731707| 0.04878048780487805|         0.05609756097560976| 0.04390243902439024|               0.002439024390243...|               0.02926829268292683| 0.046341463414634146| 0.06341463414634146|              0.036585365853658534|0.026829268292682926| 0.03170731707317073|              0.03170731707317073|\n",
      "|     310|           1|             0.10824742268041238| 0.03608247422680412| 0.14948453608247422|         0.0979381443298969| 0.03608247422680412|         0.21649484536082475| 0.02577319587628866|               0.010309278350515464|               0.03608247422680412|  0.02577319587628866|0.015463917525773196|              0.015463917525773196|0.005154639175257732|0.041237113402061855|                              0.0|\n",
      "|     410|           4|              0.1559633027522936| 0.10550458715596331| 0.12844036697247707|        0.10091743119266056|0.022935779816513763|         0.07339449541284404|0.045871559633027525|               0.022935779816513763|                0.0779816513761468| 0.027522935779816515|0.045871559633027525|              0.027522935779816515| 0.01834862385321101| 0.03669724770642202|             0.013761467889908258|\n",
      "|     503|           2|             0.14393939393939395| 0.12121212121212122| 0.09848484848484848|       0.022727272727272728|0.022727272727272728|         0.20454545454545456|0.015151515151515152|               0.007575757575757576|              0.030303030303030304|  0.05303030303030303| 0.07575757575757576|              0.022727272727272728|                 0.0|0.007575757575757576|             0.015151515151515152|\n",
      "|     304|           1|             0.14859437751004015| 0.09236947791164658|  0.0321285140562249|        0.04819277108433735| 0.08835341365461848|        0.040160642570281124| 0.10441767068273092|                0.10040160642570281|               0.05220883534136546| 0.028112449799196786| 0.05220883534136546|              0.004016064257028112|  0.0321285140562249|0.020080321285140562|             0.024096385542168676|\n",
      "+--------+------------+--------------------------------+--------------------+--------------------+---------------------------+--------------------+----------------------------+--------------------+-----------------------------------+----------------------------------+---------------------+--------------------+----------------------------------+--------------------+--------------------+---------------------------------+\n",
      "only showing top 50 rows\n",
      "\n"
     ]
    }
   ],
   "source": [
    "from pyspark.sql.functions import when, avg, count\n",
    "\n",
    "agg_exprs = [\n",
    "    avg(when(col(\"OFNS_DESC\") == offense, 1).otherwise(0)).alias(f\"pct_{offense.lower().replace(' ', '_')}\")\n",
    "    for offense in top_offenses\n",
    "]\n",
    "\n",
    "agg_offense_df = df.groupBy(\"District\",  \"ARREST_MONTH\").agg(*agg_exprs)\n",
    "\n",
    "agg_offense_df.show(50)"
   ]
  },
  {
   "cell_type": "code",
   "execution_count": 23,
   "metadata": {},
   "outputs": [
    {
     "name": "stderr",
     "output_type": "stream",
     "text": [
      "                                                                                \r"
     ]
    },
    {
     "name": "stdout",
     "output_type": "stream",
     "text": [
      "+--------+------------+------------------+-----------------+------------------+-----------------+------------------+----------------+--------+--------+--------+-----+-----+-----+-----+-----+-----+------------------+--------------------+----------+-----------+-----+--------------------+-----+--------------------+----------+----------+-----------+---------------+-----------------+---------+--------+--------------+----------+----------+-----------------+------------------+------------------------+--------------------+----------+--------------+-----------+----------+-----------+----------------------------+------------------+-------------------+--------------------+--------------------+-------------------+-------------------+--------------------+--------------------------------+-------------------+--------------------+---------------------------+-------------------+----------------------------+--------------------+-----------------------------------+----------------------------------+---------------------+-------------------+----------------------------------+--------------------+--------------------+---------------------------------+\n",
      "|district|ARREST_MONTH|             R_avg|            G_avg|             B_avg|         R_stddev|          G_stddev|        B_stddev|R_median|G_median|B_median|R_q25|G_q25|B_q25|R_q75|G_q75|B_q75|    brightness_avg|    dark_pixel_ratio|ARREST_KEY|ARREST_DATE|PD_CD|             PD_DESC|KY_CD|           OFNS_DESC|  LAW_CODE|LAW_CAT_CD|ARREST_BORO|ARREST_PRECINCT|JURISDICTION_CODE|AGE_GROUP|PERP_SEX|     PERP_RACE|X_COORD_CD|Y_COORD_CD|         Latitude|         Longitude|New Georeferenced Column|                geom|intersects|ARREST_DATE_DT|ARREST_YEAR|ARREST_DAY|ARREST_YEAR|total_quantity_crime_in_dist|            mean_M|             mean_F|       pct_age_18_24|       pct_age_25_44|      pct_age_45_64|        pct_age_<18|     pct_age_65_plus|pct_assault_3_&_related_offenses| pct_felony_assault|   pct_petit_larceny|pct_miscellaneous_penal_law|pct_dangerous_drugs|pct_vehicle_and_traffic_laws|         pct_robbery|pct_other_offenses_related_to_theft|pct_criminal_mischief_&_related_of|pct_dangerous_weapons|  pct_grand_larceny|pct_offenses_against_public_admini|        pct_burglary|      pct_sex_crimes|pct_off._agnst_pub_ord_sensblty_&|\n",
      "+--------+------------+------------------+-----------------+------------------+-----------------+------------------+----------------+--------+--------+--------+-----+-----+-----+-----+-----+-----+------------------+--------------------+----------+-----------+-----+--------------------+-----+--------------------+----------+----------+-----------+---------------+-----------------+---------+--------+--------------+----------+----------+-----------------+------------------+------------------------+--------------------+----------+--------------+-----------+----------+-----------+----------------------------+------------------+-------------------+--------------------+--------------------+-------------------+-------------------+--------------------+--------------------------------+-------------------+--------------------+---------------------------+-------------------+----------------------------+--------------------+-----------------------------------+----------------------------------+---------------------+-------------------+----------------------------------+--------------------+--------------------+---------------------------------+\n",
      "|     201|           2|201.42183945401365|172.3652908677283|116.34676633084173|39.26344970288654|52.518092161152346|81.1639741653668|     199|     160|      86|  173|  132|   54|  237|  217|  177|163.37796555086163|9.749756256093598E-4| 282686241| 02/23/2024|  109|ASSAULT 2,1,UNCLA...|  106|      FELONY ASSAULT|PL 1200502|         F|          B|             40|                2|    18-24|       M|WHITE HISPANIC|   1007566|    238218|        40.820499|        -73.915756|    POINT (-73.915756...|POINT (-73.915756...|      true|    2024-02-23|       2024|        23|       2024|                         640|0.8442964196502915|0.15570358034970858|0.022090434841713198|0.030296181753303637|0.20149875104079934|0.02628761746163911|0.011656952539550375|                       0.1640625|          0.0859375|              0.0875|                  0.0359375|          0.0953125|                   0.0984375|           0.0484375|                             0.0625|                           0.03125|            0.0390625|            0.01875|                         0.0328125|            0.028125|            0.015625|                        0.0234375|\n",
      "|     201|           2|201.42183945401365|172.3652908677283|116.34676633084173|39.26344970288654|52.518092161152346|81.1639741653668|     199|     160|      86|  173|  132|   54|  237|  217|  177|163.37796555086163|9.749756256093598E-4| 282350908| 02/16/2024|  503|CONTROLLED SUBSTA...|  117|     DANGEROUS DRUGS|PL 2201601|         F|          B|             40|                1|    25-44|       M|WHITE HISPANIC|   1004368|    237509|40.81856005891384|-73.92731612997096|    POINT (-73.927316...|POINT (-73.927316...|      true|    2024-02-16|       2024|        16|       2024|                         640|0.8442964196502915|0.15570358034970858|0.022090434841713198|0.030296181753303637|0.20149875104079934|0.02628761746163911|0.011656952539550375|                       0.1640625|          0.0859375|              0.0875|                  0.0359375|          0.0953125|                   0.0984375|           0.0484375|                             0.0625|                           0.03125|            0.0390625|            0.01875|                         0.0328125|            0.028125|            0.015625|                        0.0234375|\n",
      "|     201|           3|201.42183945401365|172.3652908677283|116.34676633084173|39.26344970288654|52.518092161152346|81.1639741653668|     199|     160|      86|  173|  132|   54|  237|  217|  177|163.37796555086163|9.749756256093598E-4| 283961766| 03/19/2024|  139| MURDER,UNCLASSIFIED|  101|MURDER & NON-NEGL...|PL 1252501|         F|          B|             40|                0|    18-24|       M|         BLACK|   1005040|    234533|        40.810391|        -73.924895|    POINT (-73.924895...|POINT (-73.924895...|      true|    2024-03-19|       2024|        19|       2024|                         715|0.8442964196502915|0.15570358034970858|0.022090434841713198|0.030296181753303637|0.20149875104079934|0.02628761746163911|0.011656952539550375|             0.12167832167832168|0.08251748251748252|0.046153846153846156|       0.046153846153846156|0.12867132867132866|         0.08671328671328671| 0.04195804195804196|                0.04195804195804196|               0.03636363636363636|  0.05314685314685315|0.02097902097902098|               0.05174825174825175|0.033566433566433566|0.013986013986013986|             0.026573426573426574|\n",
      "|     201|           3|201.42183945401365|172.3652908677283|116.34676633084173|39.26344970288654|52.518092161152346|81.1639741653668|     199|     160|      86|  173|  132|   54|  237|  217|  177|163.37796555086163|9.749756256093598E-4| 284040116| 03/20/2024|  259|CRIMINAL MISCHIEF...|  351|CRIMINAL MISCHIEF...|PL 1450001|         M|          B|             40|                0|    25-44|       F|         BLACK|   1006984|    238152|         40.82032|         -73.91786|    POINT (-73.91786 ...|POINT (-73.91786 ...|      true|    2024-03-20|       2024|        20|       2024|                         715|0.8442964196502915|0.15570358034970858|0.022090434841713198|0.030296181753303637|0.20149875104079934|0.02628761746163911|0.011656952539550375|             0.12167832167832168|0.08251748251748252|0.046153846153846156|       0.046153846153846156|0.12867132867132866|         0.08671328671328671| 0.04195804195804196|                0.04195804195804196|               0.03636363636363636|  0.05314685314685315|0.02097902097902098|               0.05174825174825175|0.033566433566433566|0.013986013986013986|             0.026573426573426574|\n",
      "|     201|           4|201.42183945401365|172.3652908677283|116.34676633084173|39.26344970288654|52.518092161152346|81.1639741653668|     199|     160|      86|  173|  132|   54|  237|  217|  177|163.37796555086163|9.749756256093598E-4| 285388534| 04/16/2024|  105|   STRANGULATION 1ST|  106|      FELONY ASSAULT|PL 1211200|         F|          B|             40|                0|    25-44|       M|         BLACK|   1005040|    234533|        40.810391|        -73.924895|    POINT (-73.924895...|POINT (-73.924895...|      true|    2024-04-16|       2024|        16|       2024|                         615|0.8442964196502915|0.15570358034970858|0.022090434841713198|0.030296181753303637|0.20149875104079934|0.02628761746163911|0.011656952539550375|             0.12520325203252033| 0.1073170731707317| 0.07317073170731707|        0.04065040650406504|0.11382113821138211|         0.07967479674796749|0.032520325203252036|                0.10894308943089431|               0.05040650406504065|  0.04065040650406504|0.03577235772357724|               0.04065040650406504|0.011382113821138212| 0.00975609756097561|              0.02926829268292683|\n",
      "+--------+------------+------------------+-----------------+------------------+-----------------+------------------+----------------+--------+--------+--------+-----+-----+-----+-----+-----+-----+------------------+--------------------+----------+-----------+-----+--------------------+-----+--------------------+----------+----------+-----------+---------------+-----------------+---------+--------+--------------+----------+----------+-----------------+------------------+------------------------+--------------------+----------+--------------+-----------+----------+-----------+----------------------------+------------------+-------------------+--------------------+--------------------+-------------------+-------------------+--------------------+--------------------------------+-------------------+--------------------+---------------------------+-------------------+----------------------------+--------------------+-----------------------------------+----------------------------------+---------------------+-------------------+----------------------------------+--------------------+--------------------+---------------------------------+\n",
      "only showing top 5 rows\n",
      "\n"
     ]
    }
   ],
   "source": [
    "df = df.join(agg_offense_df, on=[\"District\", \"ARREST_Month\"], how=\"left\")\n",
    "df.show(5)"
   ]
  },
  {
   "cell_type": "code",
   "execution_count": 24,
   "metadata": {},
   "outputs": [
    {
     "name": "stderr",
     "output_type": "stream",
     "text": [
      "                                                                                \r"
     ]
    },
    {
     "name": "stdout",
     "output_type": "stream",
     "text": [
      "+--------+------------+------------------+-----------------+------------------+-----------------+------------------+----------------+--------+--------+--------+-----+-----+-----+-----+-----+-----+------------------+--------------------+-----------+-----+--------------------+--------------------+----------+-----------+---------+--------+--------------+-----------------+------------------+--------------------+--------------+----------+----------------------------+------------------+-------------------+--------------------+--------------------+-------------------+-------------------+--------------------+--------------------------------+-------------------+--------------------+---------------------------+-------------------+----------------------------+--------------------+-----------------------------------+----------------------------------+---------------------+-------------------+----------------------------------+--------------------+--------------------+---------------------------------+\n",
      "|district|ARREST_MONTH|             R_avg|            G_avg|             B_avg|         R_stddev|          G_stddev|        B_stddev|R_median|G_median|B_median|R_q25|G_q25|B_q25|R_q75|G_q75|B_q75|    brightness_avg|    dark_pixel_ratio|ARREST_DATE|PD_CD|             PD_DESC|           OFNS_DESC|LAW_CAT_CD|ARREST_BORO|AGE_GROUP|PERP_SEX|     PERP_RACE|         Latitude|         Longitude|                geom|ARREST_DATE_DT|ARREST_DAY|total_quantity_crime_in_dist|            mean_M|             mean_F|       pct_age_18_24|       pct_age_25_44|      pct_age_45_64|        pct_age_<18|     pct_age_65_plus|pct_assault_3_&_related_offenses| pct_felony_assault|   pct_petit_larceny|pct_miscellaneous_penal_law|pct_dangerous_drugs|pct_vehicle_and_traffic_laws|         pct_robbery|pct_other_offenses_related_to_theft|pct_criminal_mischief_&_related_of|pct_dangerous_weapons|  pct_grand_larceny|pct_offenses_against_public_admini|        pct_burglary|      pct_sex_crimes|pct_off._agnst_pub_ord_sensblty_&|\n",
      "+--------+------------+------------------+-----------------+------------------+-----------------+------------------+----------------+--------+--------+--------+-----+-----+-----+-----+-----+-----+------------------+--------------------+-----------+-----+--------------------+--------------------+----------+-----------+---------+--------+--------------+-----------------+------------------+--------------------+--------------+----------+----------------------------+------------------+-------------------+--------------------+--------------------+-------------------+-------------------+--------------------+--------------------------------+-------------------+--------------------+---------------------------+-------------------+----------------------------+--------------------+-----------------------------------+----------------------------------+---------------------+-------------------+----------------------------------+--------------------+--------------------+---------------------------------+\n",
      "|     201|           2|201.42183945401365|172.3652908677283|116.34676633084173|39.26344970288654|52.518092161152346|81.1639741653668|     199|     160|      86|  173|  132|   54|  237|  217|  177|163.37796555086163|9.749756256093598E-4| 02/23/2024|  109|ASSAULT 2,1,UNCLA...|      FELONY ASSAULT|         F|          B|    18-24|       M|WHITE HISPANIC|        40.820499|        -73.915756|POINT (-73.915756...|    2024-02-23|        23|                         640|0.8442964196502915|0.15570358034970858|0.022090434841713198|0.030296181753303637|0.20149875104079934|0.02628761746163911|0.011656952539550375|                       0.1640625|          0.0859375|              0.0875|                  0.0359375|          0.0953125|                   0.0984375|           0.0484375|                             0.0625|                           0.03125|            0.0390625|            0.01875|                         0.0328125|            0.028125|            0.015625|                        0.0234375|\n",
      "|     201|           2|201.42183945401365|172.3652908677283|116.34676633084173|39.26344970288654|52.518092161152346|81.1639741653668|     199|     160|      86|  173|  132|   54|  237|  217|  177|163.37796555086163|9.749756256093598E-4| 02/16/2024|  503|CONTROLLED SUBSTA...|     DANGEROUS DRUGS|         F|          B|    25-44|       M|WHITE HISPANIC|40.81856005891384|-73.92731612997096|POINT (-73.927316...|    2024-02-16|        16|                         640|0.8442964196502915|0.15570358034970858|0.022090434841713198|0.030296181753303637|0.20149875104079934|0.02628761746163911|0.011656952539550375|                       0.1640625|          0.0859375|              0.0875|                  0.0359375|          0.0953125|                   0.0984375|           0.0484375|                             0.0625|                           0.03125|            0.0390625|            0.01875|                         0.0328125|            0.028125|            0.015625|                        0.0234375|\n",
      "|     201|           3|201.42183945401365|172.3652908677283|116.34676633084173|39.26344970288654|52.518092161152346|81.1639741653668|     199|     160|      86|  173|  132|   54|  237|  217|  177|163.37796555086163|9.749756256093598E-4| 03/19/2024|  139| MURDER,UNCLASSIFIED|MURDER & NON-NEGL...|         F|          B|    18-24|       M|         BLACK|        40.810391|        -73.924895|POINT (-73.924895...|    2024-03-19|        19|                         715|0.8442964196502915|0.15570358034970858|0.022090434841713198|0.030296181753303637|0.20149875104079934|0.02628761746163911|0.011656952539550375|             0.12167832167832168|0.08251748251748252|0.046153846153846156|       0.046153846153846156|0.12867132867132866|         0.08671328671328671| 0.04195804195804196|                0.04195804195804196|               0.03636363636363636|  0.05314685314685315|0.02097902097902098|               0.05174825174825175|0.033566433566433566|0.013986013986013986|             0.026573426573426574|\n",
      "|     201|           3|201.42183945401365|172.3652908677283|116.34676633084173|39.26344970288654|52.518092161152346|81.1639741653668|     199|     160|      86|  173|  132|   54|  237|  217|  177|163.37796555086163|9.749756256093598E-4| 03/20/2024|  259|CRIMINAL MISCHIEF...|CRIMINAL MISCHIEF...|         M|          B|    25-44|       F|         BLACK|         40.82032|         -73.91786|POINT (-73.91786 ...|    2024-03-20|        20|                         715|0.8442964196502915|0.15570358034970858|0.022090434841713198|0.030296181753303637|0.20149875104079934|0.02628761746163911|0.011656952539550375|             0.12167832167832168|0.08251748251748252|0.046153846153846156|       0.046153846153846156|0.12867132867132866|         0.08671328671328671| 0.04195804195804196|                0.04195804195804196|               0.03636363636363636|  0.05314685314685315|0.02097902097902098|               0.05174825174825175|0.033566433566433566|0.013986013986013986|             0.026573426573426574|\n",
      "|     201|           4|201.42183945401365|172.3652908677283|116.34676633084173|39.26344970288654|52.518092161152346|81.1639741653668|     199|     160|      86|  173|  132|   54|  237|  217|  177|163.37796555086163|9.749756256093598E-4| 04/16/2024|  105|   STRANGULATION 1ST|      FELONY ASSAULT|         F|          B|    25-44|       M|         BLACK|        40.810391|        -73.924895|POINT (-73.924895...|    2024-04-16|        16|                         615|0.8442964196502915|0.15570358034970858|0.022090434841713198|0.030296181753303637|0.20149875104079934|0.02628761746163911|0.011656952539550375|             0.12520325203252033| 0.1073170731707317| 0.07317073170731707|        0.04065040650406504|0.11382113821138211|         0.07967479674796749|0.032520325203252036|                0.10894308943089431|               0.05040650406504065|  0.04065040650406504|0.03577235772357724|               0.04065040650406504|0.011382113821138212| 0.00975609756097561|              0.02926829268292683|\n",
      "+--------+------------+------------------+-----------------+------------------+-----------------+------------------+----------------+--------+--------+--------+-----+-----+-----+-----+-----+-----+------------------+--------------------+-----------+-----+--------------------+--------------------+----------+-----------+---------+--------+--------------+-----------------+------------------+--------------------+--------------+----------+----------------------------+------------------+-------------------+--------------------+--------------------+-------------------+-------------------+--------------------+--------------------------------+-------------------+--------------------+---------------------------+-------------------+----------------------------+--------------------+-----------------------------------+----------------------------------+---------------------+-------------------+----------------------------------+--------------------+--------------------+---------------------------------+\n",
      "only showing top 5 rows\n",
      "\n"
     ]
    }
   ],
   "source": [
    "df = df.drop(\"ARREST_KEY\", \"KY_CD\", \"ARREST_YEAR\",\"ARREST_PRECINCT\", \"JURISDICTION_CODE\", \"X_COORD_CD\", \"Y_COORD_CD\", \"New Georeferenced Column\", \"intersects\" ,\"LAW_CODE\")\n",
    "df.show(5)"
   ]
  },
  {
   "cell_type": "code",
   "execution_count": 25,
   "metadata": {},
   "outputs": [
    {
     "name": "stdout",
     "output_type": "stream",
     "text": [
      "+------------+\n",
      "|ARREST_MONTH|\n",
      "+------------+\n",
      "|           1|\n",
      "|           2|\n",
      "|           3|\n",
      "|           4|\n",
      "|           5|\n",
      "|           6|\n",
      "|           7|\n",
      "|           8|\n",
      "|           9|\n",
      "|          10|\n",
      "|          11|\n",
      "|          12|\n",
      "+------------+\n",
      "\n"
     ]
    },
    {
     "name": "stderr",
     "output_type": "stream",
     "text": [
      "                                                                                \r"
     ]
    }
   ],
   "source": [
    "df.createOrReplaceTempView(\"df\")\n",
    "spark.sql(\"\"\"\n",
    "    SELECT distinct month(ARREST_DATE_DT) AS ARREST_MONTH\n",
    "    FROM df\n",
    "    ORDER BY ARREST_MONTH\n",
    "\"\"\").show(150)"
   ]
  },
  {
   "cell_type": "code",
   "execution_count": 26,
   "metadata": {},
   "outputs": [
    {
     "name": "stderr",
     "output_type": "stream",
     "text": [
      "                                                                                \r"
     ]
    },
    {
     "name": "stdout",
     "output_type": "stream",
     "text": [
      "+--------+------------+------------+\n",
      "|District|ARREST_MONTH|total_crimes|\n",
      "+--------+------------+------------+\n",
      "|     212|           1|         413|\n",
      "|     207|           4|         393|\n",
      "|     409|           3|         279|\n",
      "|     208|           1|         112|\n",
      "|     309|           3|         272|\n",
      "|     311|           1|         227|\n",
      "|     201|           3|         715|\n",
      "|     310|           4|         200|\n",
      "|     502|          11|         182|\n",
      "|     411|           5|          95|\n",
      "|     211|           2|         227|\n",
      "|     406|           2|         149|\n",
      "|     302|           6|         499|\n",
      "|     210|           2|         279|\n",
      "|     312|           3|         169|\n",
      "|     405|           5|         203|\n",
      "|     313|           6|         348|\n",
      "|     204|           2|         607|\n",
      "|     411|           1|          66|\n",
      "|     210|           6|         236|\n",
      "|     206|           1|         385|\n",
      "|     401|           3|         348|\n",
      "|     304|           2|         263|\n",
      "|     404|           6|         698|\n",
      "|     210|           5|         225|\n",
      "|     502|           6|         156|\n",
      "|     304|          12|         282|\n",
      "|     205|           4|         645|\n",
      "|     311|           2|         223|\n",
      "|     206|           4|         347|\n",
      "|     309|           4|         227|\n",
      "|     312|           2|         177|\n",
      "|     410|           6|         261|\n",
      "|     212|           4|         353|\n",
      "|     207|           5|         406|\n",
      "|     503|           3|         136|\n",
      "|     212|           2|         375|\n",
      "|     310|           6|         176|\n",
      "|     201|          12|         836|\n",
      "|     501|           3|         668|\n",
      "|     203|           4|         346|\n",
      "|     207|           1|         454|\n",
      "|     406|           5|         144|\n",
      "|     206|           2|         313|\n",
      "|     314|           3|         254|\n",
      "|     401|           6|         410|\n",
      "|     310|           1|         194|\n",
      "|     410|           4|         218|\n",
      "|     503|           2|         132|\n",
      "|     304|           1|         249|\n",
      "|     316|           4|         445|\n",
      "|     309|           1|         283|\n",
      "|     503|           5|         127|\n",
      "|     304|           5|         331|\n",
      "|     210|           3|         288|\n",
      "|     212|           6|         460|\n",
      "|     304|           6|         236|\n",
      "|     212|          12|         394|\n",
      "|     209|           1|         469|\n",
      "|     407|           4|         358|\n",
      "|     310|           2|         151|\n",
      "|     202|           3|         373|\n",
      "|     404|           4|         505|\n",
      "|     301|           4|         310|\n",
      "|     201|           6|         649|\n",
      "|     308|           1|         257|\n",
      "|     308|           4|         217|\n",
      "|     305|           5|         784|\n",
      "|     209|           5|         445|\n",
      "|     205|           3|         508|\n",
      "|     211|           1|         290|\n",
      "|     313|           2|         318|\n",
      "+--------+------------+------------+\n",
      "only showing top 72 rows\n",
      "\n"
     ]
    }
   ],
   "source": [
    "total_counts = df.groupBy(\"District\", \"ARREST_MONTH\") \\\n",
    "    .agg(count(\"*\").alias(\"total_crimes\"))\n",
    "total_counts.show(72)"
   ]
  },
  {
   "cell_type": "code",
   "execution_count": 27,
   "metadata": {},
   "outputs": [
    {
     "name": "stderr",
     "output_type": "stream",
     "text": [
      "                                                                                \r"
     ]
    }
   ],
   "source": [
    "df.write.mode('overwrite').parquet(f\"{path_data}/df_leftjoin.parquet\")"
   ]
  },
  {
   "cell_type": "code",
   "execution_count": 29,
   "metadata": {},
   "outputs": [
    {
     "name": "stdout",
     "output_type": "stream",
     "text": [
      "+--------+------------+------------------+-----------------+------------------+-----------------+------------------+----------------+--------+--------+--------+-----+-----+-----+-----+-----+-----+------------------+--------------------+-----------+-----+--------------------+--------------------+----------+-----------+---------+--------+--------------+-----------------+------------------+--------------------+--------------+----------+----------------------------+------------------+-------------------+--------------------+--------------------+-------------------+-------------------+--------------------+--------------------------------+------------------+-----------------+---------------------------+-------------------+----------------------------+-----------+-----------------------------------+----------------------------------+---------------------+-----------------+----------------------------------+------------+--------------+---------------------------------+\n",
      "|district|ARREST_MONTH|             R_avg|            G_avg|             B_avg|         R_stddev|          G_stddev|        B_stddev|R_median|G_median|B_median|R_q25|G_q25|B_q25|R_q75|G_q75|B_q75|    brightness_avg|    dark_pixel_ratio|ARREST_DATE|PD_CD|             PD_DESC|           OFNS_DESC|LAW_CAT_CD|ARREST_BORO|AGE_GROUP|PERP_SEX|     PERP_RACE|         Latitude|         Longitude|                geom|ARREST_DATE_DT|ARREST_DAY|total_quantity_crime_in_dist|            mean_M|             mean_F|       pct_age_18_24|       pct_age_25_44|      pct_age_45_64|        pct_age_<18|     pct_age_65_plus|pct_assault_3_&_related_offenses|pct_felony_assault|pct_petit_larceny|pct_miscellaneous_penal_law|pct_dangerous_drugs|pct_vehicle_and_traffic_laws|pct_robbery|pct_other_offenses_related_to_theft|pct_criminal_mischief_&_related_of|pct_dangerous_weapons|pct_grand_larceny|pct_offenses_against_public_admini|pct_burglary|pct_sex_crimes|pct_off._agnst_pub_ord_sensblty_&|\n",
      "+--------+------------+------------------+-----------------+------------------+-----------------+------------------+----------------+--------+--------+--------+-----+-----+-----+-----+-----+-----+------------------+--------------------+-----------+-----+--------------------+--------------------+----------+-----------+---------+--------+--------------+-----------------+------------------+--------------------+--------------+----------+----------------------------+------------------+-------------------+--------------------+--------------------+-------------------+-------------------+--------------------+--------------------------------+------------------+-----------------+---------------------------+-------------------+----------------------------+-----------+-----------------------------------+----------------------------------+---------------------+-----------------+----------------------------------+------------+--------------+---------------------------------+\n",
      "|     201|           2|201.42183945401365|172.3652908677283|116.34676633084173|39.26344970288654|52.518092161152346|81.1639741653668|     199|     160|      86|  173|  132|   54|  237|  217|  177|163.37796555086163|9.749756256093598E-4| 02/23/2024|  109|ASSAULT 2,1,UNCLA...|      FELONY ASSAULT|         F|          B|    18-24|       M|WHITE HISPANIC|        40.820499|        -73.915756|POINT (-73.915756...|    2024-02-23|        23|                         640|0.8442964196502915|0.15570358034970858|0.022090434841713198|0.030296181753303637|0.20149875104079934|0.02628761746163911|0.011656952539550375|                       0.1640625|         0.0859375|           0.0875|                  0.0359375|          0.0953125|                   0.0984375|  0.0484375|                             0.0625|                           0.03125|            0.0390625|          0.01875|                         0.0328125|    0.028125|      0.015625|                        0.0234375|\n",
      "|     201|           2|201.42183945401365|172.3652908677283|116.34676633084173|39.26344970288654|52.518092161152346|81.1639741653668|     199|     160|      86|  173|  132|   54|  237|  217|  177|163.37796555086163|9.749756256093598E-4| 02/16/2024|  503|CONTROLLED SUBSTA...|     DANGEROUS DRUGS|         F|          B|    25-44|       M|WHITE HISPANIC|40.81856005891384|-73.92731612997096|POINT (-73.927316...|    2024-02-16|        16|                         640|0.8442964196502915|0.15570358034970858|0.022090434841713198|0.030296181753303637|0.20149875104079934|0.02628761746163911|0.011656952539550375|                       0.1640625|         0.0859375|           0.0875|                  0.0359375|          0.0953125|                   0.0984375|  0.0484375|                             0.0625|                           0.03125|            0.0390625|          0.01875|                         0.0328125|    0.028125|      0.015625|                        0.0234375|\n",
      "|     201|           2|201.42183945401365|172.3652908677283|116.34676633084173|39.26344970288654|52.518092161152346|81.1639741653668|     199|     160|      86|  173|  132|   54|  237|  217|  177|163.37796555086163|9.749756256093598E-4| 02/10/2024|  101|           ASSAULT 3|ASSAULT 3 & RELAT...|         M|          B|    45-64|       M|         BLACK|        40.817043|        -73.922926|POINT (-73.922926...|    2024-02-10|        10|                         640|0.8442964196502915|0.15570358034970858|0.022090434841713198|0.030296181753303637|0.20149875104079934|0.02628761746163911|0.011656952539550375|                       0.1640625|         0.0859375|           0.0875|                  0.0359375|          0.0953125|                   0.0984375|  0.0484375|                             0.0625|                           0.03125|            0.0390625|          0.01875|                         0.0328125|    0.028125|      0.015625|                        0.0234375|\n",
      "|     201|           2|201.42183945401365|172.3652908677283|116.34676633084173|39.26344970288654|52.518092161152346|81.1639741653668|     199|     160|      86|  173|  132|   54|  237|  217|  177|163.37796555086163|9.749756256093598E-4| 02/07/2024|  339|LARCENY,PETIT FRO...|       PETIT LARCENY|         M|          B|    45-64|       M|BLACK HISPANIC|        40.817703|        -73.915395|POINT (-73.915395...|    2024-02-07|         7|                         640|0.8442964196502915|0.15570358034970858|0.022090434841713198|0.030296181753303637|0.20149875104079934|0.02628761746163911|0.011656952539550375|                       0.1640625|         0.0859375|           0.0875|                  0.0359375|          0.0953125|                   0.0984375|  0.0484375|                             0.0625|                           0.03125|            0.0390625|          0.01875|                         0.0328125|    0.028125|      0.015625|                        0.0234375|\n",
      "|     201|           2|201.42183945401365|172.3652908677283|116.34676633084173|39.26344970288654|52.518092161152346|81.1639741653668|     199|     160|      86|  173|  132|   54|  237|  217|  177|163.37796555086163|9.749756256093598E-4| 02/12/2024|  101|           ASSAULT 3|ASSAULT 3 & RELAT...|         M|          B|    25-44|       M|         BLACK|40.81427012385687| -73.9153412820544|POINT (-73.915341...|    2024-02-12|        12|                         640|0.8442964196502915|0.15570358034970858|0.022090434841713198|0.030296181753303637|0.20149875104079934|0.02628761746163911|0.011656952539550375|                       0.1640625|         0.0859375|           0.0875|                  0.0359375|          0.0953125|                   0.0984375|  0.0484375|                             0.0625|                           0.03125|            0.0390625|          0.01875|                         0.0328125|    0.028125|      0.015625|                        0.0234375|\n",
      "+--------+------------+------------------+-----------------+------------------+-----------------+------------------+----------------+--------+--------+--------+-----+-----+-----+-----+-----+-----+------------------+--------------------+-----------+-----+--------------------+--------------------+----------+-----------+---------+--------+--------------+-----------------+------------------+--------------------+--------------+----------+----------------------------+------------------+-------------------+--------------------+--------------------+-------------------+-------------------+--------------------+--------------------------------+------------------+-----------------+---------------------------+-------------------+----------------------------+-----------+-----------------------------------+----------------------------------+---------------------+-----------------+----------------------------------+------------+--------------+---------------------------------+\n",
      "only showing top 5 rows\n",
      "\n"
     ]
    }
   ],
   "source": [
    "df_join = spark.read.parquet(f\"{path_data}/df_leftjoin.parquet\")\n",
    "df_join.show(5)"
   ]
  },
  {
   "cell_type": "code",
   "execution_count": 31,
   "metadata": {},
   "outputs": [
    {
     "data": {
      "text/plain": [
       "['district',\n",
       " 'ARREST_MONTH',\n",
       " 'R_avg',\n",
       " 'G_avg',\n",
       " 'B_avg',\n",
       " 'R_stddev',\n",
       " 'G_stddev',\n",
       " 'B_stddev',\n",
       " 'R_median',\n",
       " 'G_median',\n",
       " 'B_median',\n",
       " 'R_q25',\n",
       " 'G_q25',\n",
       " 'B_q25',\n",
       " 'R_q75',\n",
       " 'G_q75',\n",
       " 'B_q75',\n",
       " 'brightness_avg',\n",
       " 'dark_pixel_ratio',\n",
       " 'ARREST_DATE',\n",
       " 'PD_CD',\n",
       " 'PD_DESC',\n",
       " 'OFNS_DESC',\n",
       " 'LAW_CAT_CD',\n",
       " 'ARREST_BORO',\n",
       " 'AGE_GROUP',\n",
       " 'PERP_SEX',\n",
       " 'PERP_RACE',\n",
       " 'Latitude',\n",
       " 'Longitude',\n",
       " 'geom',\n",
       " 'ARREST_DATE_DT',\n",
       " 'ARREST_DAY',\n",
       " 'total_quantity_crime_in_dist',\n",
       " 'mean_M',\n",
       " 'mean_F',\n",
       " 'pct_age_18_24',\n",
       " 'pct_age_25_44',\n",
       " 'pct_age_45_64',\n",
       " 'pct_age_<18',\n",
       " 'pct_age_65_plus',\n",
       " 'pct_assault_3_&_related_offenses',\n",
       " 'pct_felony_assault',\n",
       " 'pct_petit_larceny',\n",
       " 'pct_miscellaneous_penal_law',\n",
       " 'pct_dangerous_drugs',\n",
       " 'pct_vehicle_and_traffic_laws',\n",
       " 'pct_robbery',\n",
       " 'pct_other_offenses_related_to_theft',\n",
       " 'pct_criminal_mischief_&_related_of',\n",
       " 'pct_dangerous_weapons',\n",
       " 'pct_grand_larceny',\n",
       " 'pct_offenses_against_public_admini',\n",
       " 'pct_burglary',\n",
       " 'pct_sex_crimes',\n",
       " 'pct_off._agnst_pub_ord_sensblty_&']"
      ]
     },
     "execution_count": 31,
     "metadata": {},
     "output_type": "execute_result"
    }
   ],
   "source": [
    "df_join.columns"
   ]
  },
  {
   "cell_type": "code",
   "execution_count": 32,
   "metadata": {},
   "outputs": [
    {
     "name": "stderr",
     "output_type": "stream",
     "text": [
      "                                                                                \r"
     ]
    }
   ],
   "source": [
    "agg_df = df_join.groupBy(\"district\", \"ARREST_MONTH\").agg(\n",
    "    F.count(\"*\").alias(\"total_quantity_crime_in_dist\"),\n",
    "    F.avg(\"R_avg\").alias(\"avg_R_avg\"),\n",
    "    F.avg(\"G_avg\").alias(\"avg_G_avg\"),\n",
    "    F.avg(\"B_avg\").alias(\"avg_B_avg\"),\n",
    "    F.avg(\"R_stddev\").alias(\"avg_R_stddev\"),\n",
    "    F.avg(\"G_stddev\").alias(\"avg_G_stddev\"),\n",
    "    F.avg(\"B_stddev\").alias(\"avg_B_stddev\"),\n",
    "    F.avg(\"R_median\").alias(\"avg_R_median\"),\n",
    "    F.avg(\"G_median\").alias(\"avg_G_median\"),\n",
    "    F.avg(\"B_median\").alias(\"avg_B_median\"),\n",
    "    F.avg(\"R_q25\").alias(\"avg_R_q25\"),\n",
    "    F.avg(\"G_q25\").alias(\"avg_G_q25\"),\n",
    "    F.avg(\"B_q25\").alias(\"avg_B_q25\"),\n",
    "    F.avg(\"R_q75\").alias(\"avg_R_q75\"),\n",
    "    F.avg(\"G_q75\").alias(\"avg_G_q75\"),\n",
    "    F.avg(\"B_q75\").alias(\"avg_B_q75\"),\n",
    "    F.avg(\"brightness_avg\").alias(\"avg_brightness\"),\n",
    "    F.avg(\"dark_pixel_ratio\").alias(\"avg_dark_pixel_ratio\"),\n",
    "    F.avg(\"ARREST_DAY\").alias(\"avg_ARREST_DAY\"),\n",
    "    F.avg(\"mean_M\").alias(\"avg_mean_M\"),\n",
    "    F.avg(\"mean_F\").alias(\"avg_mean_F\"),\n",
    "    F.avg(\"pct_age_18_24\").alias(\"avg_pct_age_18_24\"),\n",
    "    F.avg(\"pct_age_25_44\").alias(\"avg_pct_age_25_44\"),\n",
    "    F.avg(\"pct_age_45_64\").alias(\"avg_pct_age_45_64\"),\n",
    "    F.avg(\"pct_age_<18\").alias(\"avg_pct_age_<18\"),\n",
    "    F.avg(\"pct_age_65_plus\").alias(\"avg_pct_age_65_plus\"),\n",
    "    F.avg(\"pct_assault_3_&_related_offenses\").alias(\"avg_pct_assault_3_&_related_offenses\"),\n",
    "    F.avg(\"pct_petit_larceny\").alias(\"avg_pct_petit_larceny\"),\n",
    "    F.avg(\"pct_felony_assault\").alias(\"avg_pct_felony_assault\"),\n",
    "    F.avg(\"pct_dangerous_drugs\").alias(\"avg_pct_dangerous_drugs\"),\n",
    "    F.avg(\"pct_miscellaneous_penal_law\").alias(\"avg_pct_miscellaneous_penal_law\"),\n",
    "    F.avg(\"pct_vehicle_and_traffic_laws\").alias(\"avg_pct_vehicle_and_traffic_laws\"),\n",
    "    F.avg(\"pct_other_offenses_related_to_theft\").alias(\"avg_pct_other_offenses_related_to_theft\"),\n",
    "    F.avg(\"pct_robbery\").alias(\"avg_pct_robbery\"),\n",
    "    F.avg(\"pct_criminal_mischief_&_related_of\").alias(\"avg_pct_criminal_mischief_&_related_of\"),\n",
    "    F.avg(\"pct_grand_larceny\").alias(\"avg_pct_grand_larceny\"),\n",
    "    F.avg(\"pct_dangerous_weapons\").alias(\"avg_pct_dangerous_weapons\"),\n",
    "    F.avg(\"pct_offenses_against_public_admini\").alias(\"avg_pct_offenses_against_public_admini\"),\n",
    "    F.avg(\"pct_burglary\").alias(\"avg_pct_burglary\"),\n",
    "    F.avg(\"pct_sex_crimes\").alias(\"avg_pct_sex_crimes\"),\n",
    ")\n",
    "\n",
    "agg_df.write.mode(\"overwrite\").parquet(f\"{path_data}/join_nyc.parquet\")"
   ]
  },
  {
   "cell_type": "code",
   "execution_count": null,
   "metadata": {},
   "outputs": [],
   "source": []
  },
  {
   "cell_type": "code",
   "execution_count": null,
   "metadata": {},
   "outputs": [],
   "source": []
  },
  {
   "cell_type": "code",
   "execution_count": null,
   "metadata": {},
   "outputs": [],
   "source": []
  },
  {
   "cell_type": "code",
   "execution_count": 2,
   "metadata": {},
   "outputs": [
    {
     "name": "stderr",
     "output_type": "stream",
     "text": [
      "25/06/16 20:31:59 WARN SparkStringUtils: Truncated the string representation of a plan since it was too large. This behavior can be adjusted by setting 'spark.sql.debug.maxToStringFields'.\n"
     ]
    },
    {
     "name": "stdout",
     "output_type": "stream",
     "text": [
      "+--------+------------+-----+-----+-----+--------+--------+--------+--------+--------+--------+-----+-----+-----+-----+-----+-----+--------------+----------------+-----------+-----+--------------------+-------------+----------+-----------+---------+--------+--------------+------------------+------------------+--------------------+--------------+----------+----------------------------+-----------------+-----------------+--------------------+-----------------+------------------+--------------------+--------------------+--------------------------------+-------------------+-------------------+--------------------+---------------------------+----------------------------+-----------------------------------+--------------------+----------------------------------+-------------------+---------------------+----------------------------------+--------------------+--------------------+-------------------+\n",
      "|district|ARREST_MONTH|R_avg|G_avg|B_avg|R_stddev|G_stddev|B_stddev|R_median|G_median|B_median|R_q25|G_q25|B_q25|R_q75|G_q75|B_q75|brightness_avg|dark_pixel_ratio|ARREST_DATE|PD_CD|             PD_DESC|    OFNS_DESC|LAW_CAT_CD|ARREST_BORO|AGE_GROUP|PERP_SEX|     PERP_RACE|          Latitude|         Longitude|                geom|ARREST_DATE_DT|ARREST_DAY|total_quantity_crime_in_dist|           mean_M|           mean_F|       pct_age_18_24|    pct_age_25_44|     pct_age_45_64|         pct_age_<18|     pct_age_65_plus|pct_assault_3_&_related_offenses|  pct_petit_larceny| pct_felony_assault| pct_dangerous_drugs|pct_miscellaneous_penal_law|pct_vehicle_and_traffic_laws|pct_other_offenses_related_to_theft|         pct_robbery|pct_criminal_mischief_&_related_of|  pct_grand_larceny|pct_dangerous_weapons|pct_offenses_against_public_admini|        pct_burglary|      pct_sex_crimes|        pct_forgery|\n",
      "+--------+------------+-----+-----+-----+--------+--------+--------+--------+--------+--------+-----+-----+-----+-----+-----+-----+--------------+----------------+-----------+-----+--------------------+-------------+----------+-----------+---------+--------+--------------+------------------+------------------+--------------------+--------------+----------+----------------------------+-----------------+-----------------+--------------------+-----------------+------------------+--------------------+--------------------+--------------------------------+-------------------+-------------------+--------------------+---------------------------+----------------------------+-----------------------------------+--------------------+----------------------------------+-------------------+---------------------+----------------------------------+--------------------+--------------------+-------------------+\n",
      "|     101|           7| NULL| NULL| NULL|    NULL|    NULL|    NULL|    NULL|    NULL|    NULL| NULL| NULL| NULL| NULL| NULL| NULL|          NULL|            NULL| 07/12/2024|  729|FORGERY,ETC.,UNCL...|      FORGERY|         F|          M|    25-44|       M|         BLACK| 40.72055728841594|-74.00351016018516|POINT (-74.003510...|    2024-07-12|        12|                         371|0.851280834914611|0.148719165085389|0.017992680943345142|0.030740037950663|0.2215370018975332|0.018975332068311195|0.018738140417457305|             0.07277628032345014|0.18598382749326145|0.03773584905660377|0.029649595687331536|       0.029649595687331536|        0.018867924528301886|               0.029649595687331536|0.018867924528301886|               0.07008086253369272|0.06199460916442048| 0.016172506738544475|                0.0646900269541779|0.013477088948787063|0.029649595687331536|0.15363881401617252|\n",
      "|     101|           7| NULL| NULL| NULL|    NULL|    NULL|    NULL|    NULL|    NULL|    NULL| NULL| NULL| NULL| NULL| NULL| NULL|          NULL|            NULL| 07/09/2024|  729|FORGERY,ETC.,UNCL...|      FORGERY|         F|          M|    25-44|       M|         BLACK| 40.71843015224279|-74.00053029504515|POINT (-74.000530...|    2024-07-09|         9|                         371|0.851280834914611|0.148719165085389|0.017992680943345142|0.030740037950663|0.2215370018975332|0.018975332068311195|0.018738140417457305|             0.07277628032345014|0.18598382749326145|0.03773584905660377|0.029649595687331536|       0.029649595687331536|        0.018867924528301886|               0.029649595687331536|0.018867924528301886|               0.07008086253369272|0.06199460916442048| 0.016172506738544475|                0.0646900269541779|0.013477088948787063|0.029649595687331536|0.15363881401617252|\n",
      "|     101|           7| NULL| NULL| NULL|    NULL|    NULL|    NULL|    NULL|    NULL|    NULL| NULL| NULL| NULL| NULL| NULL| NULL|          NULL|            NULL| 07/04/2024|  729|FORGERY,ETC.,UNCL...|      FORGERY|         F|          M|    45-64|       M|         BLACK|  40.7193962934139| -74.0018831158253|POINT (-74.001883...|    2024-07-04|         4|                         371|0.851280834914611|0.148719165085389|0.017992680943345142|0.030740037950663|0.2215370018975332|0.018975332068311195|0.018738140417457305|             0.07277628032345014|0.18598382749326145|0.03773584905660377|0.029649595687331536|       0.029649595687331536|        0.018867924528301886|               0.029649595687331536|0.018867924528301886|               0.07008086253369272|0.06199460916442048| 0.016172506738544475|                0.0646900269541779|0.013477088948787063|0.029649595687331536|0.15363881401617252|\n",
      "|     101|           7| NULL| NULL| NULL|    NULL|    NULL|    NULL|    NULL|    NULL|    NULL| NULL| NULL| NULL| NULL| NULL| NULL|          NULL|            NULL| 07/12/2024|  729|FORGERY,ETC.,UNCL...|      FORGERY|         F|          M|    18-24|       M|         BLACK|40.718018439490294|-73.99995671087598|POINT (-73.999956...|    2024-07-12|        12|                         371|0.851280834914611|0.148719165085389|0.017992680943345142|0.030740037950663|0.2215370018975332|0.018975332068311195|0.018738140417457305|             0.07277628032345014|0.18598382749326145|0.03773584905660377|0.029649595687331536|       0.029649595687331536|        0.018867924528301886|               0.029649595687331536|0.018867924528301886|               0.07008086253369272|0.06199460916442048| 0.016172506738544475|                0.0646900269541779|0.013477088948787063|0.029649595687331536|0.15363881401617252|\n",
      "|     101|           7| NULL| NULL| NULL|    NULL|    NULL|    NULL|    NULL|    NULL|    NULL| NULL| NULL| NULL| NULL| NULL| NULL|          NULL|            NULL| 07/02/2024|  439|LARCENY,GRAND FRO...|GRAND LARCENY|         F|          M|      <18|       M|BLACK HISPANIC|         40.715912|        -74.010103|POINT (-74.010103...|    2024-07-02|         2|                         371|0.851280834914611|0.148719165085389|0.017992680943345142|0.030740037950663|0.2215370018975332|0.018975332068311195|0.018738140417457305|             0.07277628032345014|0.18598382749326145|0.03773584905660377|0.029649595687331536|       0.029649595687331536|        0.018867924528301886|               0.029649595687331536|0.018867924528301886|               0.07008086253369272|0.06199460916442048| 0.016172506738544475|                0.0646900269541779|0.013477088948787063|0.029649595687331536|0.15363881401617252|\n",
      "+--------+------------+-----+-----+-----+--------+--------+--------+--------+--------+--------+-----+-----+-----+-----+-----+-----+--------------+----------------+-----------+-----+--------------------+-------------+----------+-----------+---------+--------+--------------+------------------+------------------+--------------------+--------------+----------+----------------------------+-----------------+-----------------+--------------------+-----------------+------------------+--------------------+--------------------+--------------------------------+-------------------+-------------------+--------------------+---------------------------+----------------------------+-----------------------------------+--------------------+----------------------------------+-------------------+---------------------+----------------------------------+--------------------+--------------------+-------------------+\n",
      "only showing top 5 rows\n",
      "\n"
     ]
    },
    {
     "name": "stderr",
     "output_type": "stream",
     "text": [
      "                                                                                \r"
     ]
    }
   ],
   "source": [
    "df = spark.read.parquet(f\"{path_data}/df_full.parquet\")\n",
    "df.show(5)"
   ]
  },
  {
   "cell_type": "code",
   "execution_count": 3,
   "metadata": {},
   "outputs": [
    {
     "name": "stderr",
     "output_type": "stream",
     "text": [
      "[Stage 5:>                                                          (0 + 8) / 8]\r"
     ]
    },
    {
     "name": "stdout",
     "output_type": "stream",
     "text": [
      "+------------+\n",
      "|ARREST_MONTH|\n",
      "+------------+\n",
      "|           1|\n",
      "|           2|\n",
      "|           3|\n",
      "|           4|\n",
      "|           5|\n",
      "|           6|\n",
      "|           7|\n",
      "|           8|\n",
      "|           9|\n",
      "|          10|\n",
      "|          11|\n",
      "|          12|\n",
      "+------------+\n",
      "\n"
     ]
    },
    {
     "name": "stderr",
     "output_type": "stream",
     "text": [
      "                                                                                \r"
     ]
    }
   ],
   "source": [
    "df.select(\"ARREST_MONTH\").distinct().orderBy(\"ARREST_MONTH\").show(150)"
   ]
  },
  {
   "cell_type": "code",
   "execution_count": 22,
   "metadata": {},
   "outputs": [
    {
     "name": "stderr",
     "output_type": "stream",
     "text": [
      "                                                                                \r"
     ]
    }
   ],
   "source": [
    "nyc.write.mode('overwrite').parquet(f\"{path_data}/nyc_full_px.parquet\")"
   ]
  },
  {
   "cell_type": "code",
   "execution_count": 34,
   "metadata": {},
   "outputs": [
    {
     "name": "stdout",
     "output_type": "stream",
     "text": [
      "+------------------+------------------+-----------------+-----------------+-----------------+-----------------+--------+--------+--------+-----+-----+-----+-----+-----+-----+------------------+--------------------+-----------+--------+----------+-----------+-----+--------------------+-----+--------------------+----------+----------+-----------+---------------+-----------------+---------+--------+---------+----------+----------+-----------------+------------------+------------------------+--------------------+-------+---------+--------------------+--------------+------+---------------+------------+----------+-----------+-------------+----------+-----------+-------+--------+----------+-------------+--------------+\n",
      "|             R_avg|             G_avg|            B_avg|         R_stddev|         G_stddev|         B_stddev|R_median|G_median|B_median|R_q25|G_q25|B_q25|R_q75|G_q75|B_q75|    brightness_avg|    dark_pixel_ratio|building_id|District|ARREST_KEY|ARREST_DATE|PD_CD|             PD_DESC|KY_CD|           OFNS_DESC|  LAW_CODE|LAW_CAT_CD|ARREST_BORO|ARREST_PRECINCT|JURISDICTION_CODE|AGE_GROUP|PERP_SEX|PERP_RACE|X_COORD_CD|Y_COORD_CD|         Latitude|         Longitude|New Georeferenced Column|                geom|element|       id|            geometry|      building|height|building:levels|building:use|roof:shape|addr:street|addr:postcode|addr:state|addr:suburb|amenity|man_made|wheelchair|opening_hours|building:flats|\n",
      "+------------------+------------------+-----------------+-----------------+-----------------+-----------------+--------+--------+--------+-----+-----+-----+-----+-----+-----+------------------+--------------------+-----------+--------+----------+-----------+-----+--------------------+-----+--------------------+----------+----------+-----------+---------------+-----------------+---------+--------+---------+----------+----------+-----------------+------------------+------------------------+--------------------+-------+---------+--------------------+--------------+------+---------------+------------+----------+-----------+-------------+----------+-----------+-------+--------+----------+-------------+--------------+\n",
      "|172.18207088255733|143.04864489228632|87.47498262682419|52.85206998242806|62.83710599980696|84.44492177017631|     165|     128|      52|  127|   93|   27|  215|  181|  117|134.23523280055565|0.014767199444058373|  764882369|     209| 282706358| 02/24/2024|  113|MENACING,UNCLASSI...|  344|ASSAULT 3 & RELAT...|PL 1201401|         M|          B|             43|                0|    18-24|       M|    BLACK|   1025292|    243234|40.83420109672967|-73.85168536781177|    POINT (-73.851685...|POINT (-73.851685...|    way|764882369|POLYGON ((-73.851...|transportation|  NULL|            1.0|     railway|      NULL|       NULL|         NULL|      NULL|       NULL|   NULL|    NULL|        no|         24/7|          NULL|\n",
      "|172.18207088255733|143.04864489228632|87.47498262682419|52.85206998242806|62.83710599980696|84.44492177017631|     165|     128|      52|  127|   93|   27|  215|  181|  117|134.23523280055565|0.014767199444058373|  764882369|     209| 282706358| 02/24/2024|  113|MENACING,UNCLASSI...|  344|ASSAULT 3 & RELAT...|PL 1201401|         M|          B|             43|                0|    18-24|       M|    BLACK|   1025292|    243234|40.83420109672967|-73.85168536781177|    POINT (-73.851685...|POINT (-73.851685...|    way|764882369|POLYGON ((-73.851...|transportation|  NULL|            1.0|     railway|      NULL|       NULL|         NULL|      NULL|       NULL|   NULL|    NULL|        no|         24/7|          NULL|\n",
      "|172.18207088255733|143.04864489228632|87.47498262682419|52.85206998242806|62.83710599980696|84.44492177017631|     165|     128|      52|  127|   93|   27|  215|  181|  117|134.23523280055565|0.014767199444058373|  764882369|     209| 282706358| 02/24/2024|  113|MENACING,UNCLASSI...|  344|ASSAULT 3 & RELAT...|PL 1201401|         M|          B|             43|                0|    18-24|       M|    BLACK|   1025292|    243234|40.83420109672967|-73.85168536781177|    POINT (-73.851685...|POINT (-73.851685...|    way|764882369|POLYGON ((-73.851...|transportation|  NULL|            1.0|     railway|      NULL|       NULL|         NULL|      NULL|       NULL|   NULL|    NULL|        no|         24/7|          NULL|\n",
      "|172.18207088255733|143.04864489228632|87.47498262682419|52.85206998242806|62.83710599980696|84.44492177017631|     165|     128|      52|  127|   93|   27|  215|  181|  117|134.23523280055565|0.014767199444058373|  764882369|     209| 282706358| 02/24/2024|  113|MENACING,UNCLASSI...|  344|ASSAULT 3 & RELAT...|PL 1201401|         M|          B|             43|                0|    18-24|       M|    BLACK|   1025292|    243234|40.83420109672967|-73.85168536781177|    POINT (-73.851685...|POINT (-73.851685...|    way|764882369|POLYGON ((-73.851...|transportation|  NULL|            1.0|     railway|      NULL|       NULL|         NULL|      NULL|       NULL|   NULL|    NULL|        no|         24/7|          NULL|\n",
      "|172.18207088255733|143.04864489228632|87.47498262682419|52.85206998242806|62.83710599980696|84.44492177017631|     165|     128|      52|  127|   93|   27|  215|  181|  117|134.23523280055565|0.014767199444058373|  764882369|     209| 282706358| 02/24/2024|  113|MENACING,UNCLASSI...|  344|ASSAULT 3 & RELAT...|PL 1201401|         M|          B|             43|                0|    18-24|       M|    BLACK|   1025292|    243234|40.83420109672967|-73.85168536781177|    POINT (-73.851685...|POINT (-73.851685...|    way|764882369|POLYGON ((-73.851...|transportation|  NULL|            1.0|     railway|      NULL|       NULL|         NULL|      NULL|       NULL|   NULL|    NULL|        no|         24/7|          NULL|\n",
      "+------------------+------------------+-----------------+-----------------+-----------------+-----------------+--------+--------+--------+-----+-----+-----+-----+-----+-----+------------------+--------------------+-----------+--------+----------+-----------+-----+--------------------+-----+--------------------+----------+----------+-----------+---------------+-----------------+---------+--------+---------+----------+----------+-----------------+------------------+------------------------+--------------------+-------+---------+--------------------+--------------+------+---------------+------------+----------+-----------+-------------+----------+-----------+-------+--------+----------+-------------+--------------+\n",
      "only showing top 5 rows\n",
      "\n"
     ]
    }
   ],
   "source": [
    "final_nyc = spark.read.parquet(f\"{path_data}/nyc_full_px.parquet\")\n",
    "final_nyc.show(5)"
   ]
  },
  {
   "cell_type": "code",
   "execution_count": 35,
   "metadata": {},
   "outputs": [],
   "source": [
    "from pyspark.sql.functions import to_date, year, month, dayofmonth\n",
    "\n",
    "df = final_nyc.withColumn(\"ARREST_DATE_DT\", to_date(\"ARREST_DATE\", \"MM/dd/yyyy\")) \\\n",
    "       .withColumn(\"ARREST_YEAR\", year(\"ARREST_DATE_DT\")) \\\n",
    "       .withColumn(\"ARREST_MONTH\", month(\"ARREST_DATE_DT\")) \\\n",
    "       .withColumn(\"ARREST_DAY\", dayofmonth(\"ARREST_DATE_DT\"))\n"
   ]
  },
  {
   "cell_type": "code",
   "execution_count": null,
   "metadata": {},
   "outputs": [
    {
     "name": "stdout",
     "output_type": "stream",
     "text": [
      "+------------+--------+-----+\n",
      "|ARREST_MONTH|District|count|\n",
      "+------------+--------+-----+\n",
      "|           1|     209|    1|\n",
      "|           1|     301|    1|\n",
      "|           1|     302|    1|\n",
      "|           1|     303|    1|\n",
      "|           1|     306|    1|\n",
      "|           1|     312|    1|\n",
      "|           1|     402|    1|\n",
      "|           1|     404|    1|\n",
      "|           2|     209|    1|\n",
      "|           2|     212|    1|\n",
      "|           2|     301|    1|\n",
      "|           2|     302|    1|\n",
      "|           2|     303|    1|\n",
      "|           2|     306|    1|\n",
      "|           2|     312|    1|\n",
      "|           2|     313|    1|\n",
      "|           2|     402|    1|\n",
      "|           2|     404|    1|\n",
      "|           2|     405|    1|\n",
      "|           3|     209|    1|\n",
      "+------------+--------+-----+\n",
      "only showing top 20 rows\n",
      "\n"
     ]
    }
   ],
   "source": [
    "df.select(\"ARREST_MONTH\", \"District\").distinct().groupBy(\"ARREST_MONTH\", \"District\").count().orderBy(\"ARREST_MONTH\", \"District\").show()"
   ]
  },
  {
   "cell_type": "code",
   "execution_count": 37,
   "metadata": {},
   "outputs": [],
   "source": [
    "aggdf = df.groupBy(\"District\", \"ARREST_YEAR\", \"ARREST_Month\").agg(F.count(\"*\").alias(\"total_quantity_crime_in_dist\")).orderBy(\"District\", \"ARREST_YEAR\", \"ARREST_Month\")"
   ]
  },
  {
   "cell_type": "code",
   "execution_count": null,
   "metadata": {},
   "outputs": [
    {
     "name": "stdout",
     "output_type": "stream",
     "text": [
      "+--------+-----------+------------+------------------+------------------+-----------------+-----------------+-----------------+-----------------+--------+--------+--------+-----+-----+-----+-----+-----+-----+------------------+--------------------+-----------+----------+-----------+-----+--------------------+-----+--------------------+----------+----------+-----------+---------------+-----------------+---------+--------+---------+----------+----------+-----------------+------------------+------------------------+--------------------+-------+---------+--------------------+--------------+------+---------------+------------+----------+-----------+-------------+----------+-----------+-------+--------+----------+-------------+--------------+--------------+----------+----------------------------+\n",
      "|District|ARREST_YEAR|ARREST_MONTH|             R_avg|             G_avg|            B_avg|         R_stddev|         G_stddev|         B_stddev|R_median|G_median|B_median|R_q25|G_q25|B_q25|R_q75|G_q75|B_q75|    brightness_avg|    dark_pixel_ratio|building_id|ARREST_KEY|ARREST_DATE|PD_CD|             PD_DESC|KY_CD|           OFNS_DESC|  LAW_CODE|LAW_CAT_CD|ARREST_BORO|ARREST_PRECINCT|JURISDICTION_CODE|AGE_GROUP|PERP_SEX|PERP_RACE|X_COORD_CD|Y_COORD_CD|         Latitude|         Longitude|New Georeferenced Column|                geom|element|       id|            geometry|      building|height|building:levels|building:use|roof:shape|addr:street|addr:postcode|addr:state|addr:suburb|amenity|man_made|wheelchair|opening_hours|building:flats|ARREST_DATE_DT|ARREST_DAY|total_quantity_crime_in_dist|\n",
      "+--------+-----------+------------+------------------+------------------+-----------------+-----------------+-----------------+-----------------+--------+--------+--------+-----+-----+-----+-----+-----+-----+------------------+--------------------+-----------+----------+-----------+-----+--------------------+-----+--------------------+----------+----------+-----------+---------------+-----------------+---------+--------+---------+----------+----------+-----------------+------------------+------------------------+--------------------+-------+---------+--------------------+--------------+------+---------------+------------+----------+-----------+-------------+----------+-----------+-------+--------+----------+-------------+--------------+--------------+----------+----------------------------+\n",
      "|     209|       2024|           2|172.18207088255733|143.04864489228632|87.47498262682419|52.85206998242806|62.83710599980696|84.44492177017631|     165|     128|      52|  127|   93|   27|  215|  181|  117|134.23523280055565|0.014767199444058373|  764882369| 282706358| 02/24/2024|  113|MENACING,UNCLASSI...|  344|ASSAULT 3 & RELAT...|PL 1201401|         M|          B|             43|                0|    18-24|       M|    BLACK|   1025292|    243234|40.83420109672967|-73.85168536781177|    POINT (-73.851685...|POINT (-73.851685...|    way|764882369|POLYGON ((-73.851...|transportation|  NULL|            1.0|     railway|      NULL|       NULL|         NULL|      NULL|       NULL|   NULL|    NULL|        no|         24/7|          NULL|    2024-02-24|        24|                          88|\n",
      "|     209|       2024|           2|172.18207088255733|143.04864489228632|87.47498262682419|52.85206998242806|62.83710599980696|84.44492177017631|     165|     128|      52|  127|   93|   27|  215|  181|  117|134.23523280055565|0.014767199444058373|  764882369| 282706358| 02/24/2024|  113|MENACING,UNCLASSI...|  344|ASSAULT 3 & RELAT...|PL 1201401|         M|          B|             43|                0|    18-24|       M|    BLACK|   1025292|    243234|40.83420109672967|-73.85168536781177|    POINT (-73.851685...|POINT (-73.851685...|    way|764882369|POLYGON ((-73.851...|transportation|  NULL|            1.0|     railway|      NULL|       NULL|         NULL|      NULL|       NULL|   NULL|    NULL|        no|         24/7|          NULL|    2024-02-24|        24|                          88|\n",
      "|     209|       2024|           2|172.18207088255733|143.04864489228632|87.47498262682419|52.85206998242806|62.83710599980696|84.44492177017631|     165|     128|      52|  127|   93|   27|  215|  181|  117|134.23523280055565|0.014767199444058373|  764882369| 282706358| 02/24/2024|  113|MENACING,UNCLASSI...|  344|ASSAULT 3 & RELAT...|PL 1201401|         M|          B|             43|                0|    18-24|       M|    BLACK|   1025292|    243234|40.83420109672967|-73.85168536781177|    POINT (-73.851685...|POINT (-73.851685...|    way|764882369|POLYGON ((-73.851...|transportation|  NULL|            1.0|     railway|      NULL|       NULL|         NULL|      NULL|       NULL|   NULL|    NULL|        no|         24/7|          NULL|    2024-02-24|        24|                          88|\n",
      "|     209|       2024|           2|172.18207088255733|143.04864489228632|87.47498262682419|52.85206998242806|62.83710599980696|84.44492177017631|     165|     128|      52|  127|   93|   27|  215|  181|  117|134.23523280055565|0.014767199444058373|  764882369| 282706358| 02/24/2024|  113|MENACING,UNCLASSI...|  344|ASSAULT 3 & RELAT...|PL 1201401|         M|          B|             43|                0|    18-24|       M|    BLACK|   1025292|    243234|40.83420109672967|-73.85168536781177|    POINT (-73.851685...|POINT (-73.851685...|    way|764882369|POLYGON ((-73.851...|transportation|  NULL|            1.0|     railway|      NULL|       NULL|         NULL|      NULL|       NULL|   NULL|    NULL|        no|         24/7|          NULL|    2024-02-24|        24|                          88|\n",
      "|     209|       2024|           2|172.18207088255733|143.04864489228632|87.47498262682419|52.85206998242806|62.83710599980696|84.44492177017631|     165|     128|      52|  127|   93|   27|  215|  181|  117|134.23523280055565|0.014767199444058373|  764882369| 282706358| 02/24/2024|  113|MENACING,UNCLASSI...|  344|ASSAULT 3 & RELAT...|PL 1201401|         M|          B|             43|                0|    18-24|       M|    BLACK|   1025292|    243234|40.83420109672967|-73.85168536781177|    POINT (-73.851685...|POINT (-73.851685...|    way|764882369|POLYGON ((-73.851...|transportation|  NULL|            1.0|     railway|      NULL|       NULL|         NULL|      NULL|       NULL|   NULL|    NULL|        no|         24/7|          NULL|    2024-02-24|        24|                          88|\n",
      "|     209|       2024|           2|172.18207088255733|143.04864489228632|87.47498262682419|52.85206998242806|62.83710599980696|84.44492177017631|     165|     128|      52|  127|   93|   27|  215|  181|  117|134.23523280055565|0.014767199444058373|  764882369| 282706358| 02/24/2024|  113|MENACING,UNCLASSI...|  344|ASSAULT 3 & RELAT...|PL 1201401|         M|          B|             43|                0|    18-24|       M|    BLACK|   1025292|    243234|40.83420109672967|-73.85168536781177|    POINT (-73.851685...|POINT (-73.851685...|    way|764882369|POLYGON ((-73.851...|transportation|  NULL|            1.0|     railway|      NULL|       NULL|         NULL|      NULL|       NULL|   NULL|    NULL|        no|         24/7|          NULL|    2024-02-24|        24|                          88|\n",
      "|     209|       2024|           2|172.18207088255733|143.04864489228632|87.47498262682419|52.85206998242806|62.83710599980696|84.44492177017631|     165|     128|      52|  127|   93|   27|  215|  181|  117|134.23523280055565|0.014767199444058373|  764882369| 282706358| 02/24/2024|  113|MENACING,UNCLASSI...|  344|ASSAULT 3 & RELAT...|PL 1201401|         M|          B|             43|                0|    18-24|       M|    BLACK|   1025292|    243234|40.83420109672967|-73.85168536781177|    POINT (-73.851685...|POINT (-73.851685...|    way|764882369|POLYGON ((-73.851...|transportation|  NULL|            1.0|     railway|      NULL|       NULL|         NULL|      NULL|       NULL|   NULL|    NULL|        no|         24/7|          NULL|    2024-02-24|        24|                          88|\n",
      "|     209|       2024|           2|172.18207088255733|143.04864489228632|87.47498262682419|52.85206998242806|62.83710599980696|84.44492177017631|     165|     128|      52|  127|   93|   27|  215|  181|  117|134.23523280055565|0.014767199444058373|  764882369| 282706358| 02/24/2024|  113|MENACING,UNCLASSI...|  344|ASSAULT 3 & RELAT...|PL 1201401|         M|          B|             43|                0|    18-24|       M|    BLACK|   1025292|    243234|40.83420109672967|-73.85168536781177|    POINT (-73.851685...|POINT (-73.851685...|    way|764882369|POLYGON ((-73.851...|transportation|  NULL|            1.0|     railway|      NULL|       NULL|         NULL|      NULL|       NULL|   NULL|    NULL|        no|         24/7|          NULL|    2024-02-24|        24|                          88|\n",
      "|     209|       2024|           2|172.18207088255733|143.04864489228632|87.47498262682419|52.85206998242806|62.83710599980696|84.44492177017631|     165|     128|      52|  127|   93|   27|  215|  181|  117|134.23523280055565|0.014767199444058373|  764882369| 282706358| 02/24/2024|  113|MENACING,UNCLASSI...|  344|ASSAULT 3 & RELAT...|PL 1201401|         M|          B|             43|                0|    18-24|       M|    BLACK|   1025292|    243234|40.83420109672967|-73.85168536781177|    POINT (-73.851685...|POINT (-73.851685...|    way|764882369|POLYGON ((-73.851...|transportation|  NULL|            1.0|     railway|      NULL|       NULL|         NULL|      NULL|       NULL|   NULL|    NULL|        no|         24/7|          NULL|    2024-02-24|        24|                          88|\n",
      "|     209|       2024|           2|172.18207088255733|143.04864489228632|87.47498262682419|52.85206998242806|62.83710599980696|84.44492177017631|     165|     128|      52|  127|   93|   27|  215|  181|  117|134.23523280055565|0.014767199444058373|  764882369| 282706358| 02/24/2024|  113|MENACING,UNCLASSI...|  344|ASSAULT 3 & RELAT...|PL 1201401|         M|          B|             43|                0|    18-24|       M|    BLACK|   1025292|    243234|40.83420109672967|-73.85168536781177|    POINT (-73.851685...|POINT (-73.851685...|    way|764882369|POLYGON ((-73.851...|transportation|  NULL|            1.0|     railway|      NULL|       NULL|         NULL|      NULL|       NULL|   NULL|    NULL|        no|         24/7|          NULL|    2024-02-24|        24|                          88|\n",
      "+--------+-----------+------------+------------------+------------------+-----------------+-----------------+-----------------+-----------------+--------+--------+--------+-----+-----+-----+-----+-----+-----+------------------+--------------------+-----------+----------+-----------+-----+--------------------+-----+--------------------+----------+----------+-----------+---------------+-----------------+---------+--------+---------+----------+----------+-----------------+------------------+------------------------+--------------------+-------+---------+--------------------+--------------+------+---------------+------------+----------+-----------+-------------+----------+-----------+-------+--------+----------+-------------+--------------+--------------+----------+----------------------------+\n",
      "only showing top 10 rows\n",
      "\n"
     ]
    }
   ],
   "source": [
    "df = df.join(aggdf, on=[\"District\", \"ARREST_YEAR\", \"ARREST_Month\"], how=\"left\")\n",
    "df.show(10)"
   ]
  },
  {
   "cell_type": "code",
   "execution_count": 39,
   "metadata": {},
   "outputs": [],
   "source": [
    "agg_sex_df = df.groupBy(\"District\").agg(\n",
    "    avg(when(df.PERP_SEX == 'M', 1).otherwise(0)).alias(\"mean_M\"),\n",
    "    avg(when(df.PERP_SEX == 'F', 1).otherwise(0)).alias(\"mean_F\")\n",
    ").orderBy(\"District\")"
   ]
  },
  {
   "cell_type": "code",
   "execution_count": null,
   "metadata": {},
   "outputs": [],
   "source": [
    "df = df.join(agg_sex_df, on=\"District\", how=\"left\")"
   ]
  },
  {
   "cell_type": "code",
   "execution_count": 30,
   "metadata": {},
   "outputs": [
    {
     "name": "stdout",
     "output_type": "stream",
     "text": [
      "+--------+-----------+------------+------------------+------------------+-----------------+-----------------+-----------------+-----------------+--------+--------+--------+-----+-----+-----+-----+-----+-----+------------------+--------------------+-----------+----------+-----------+-----+--------------------+-----+--------------------+----------+----------+-----------+---------------+-----------------+---------+--------+---------+----------+----------+-----------------+------------------+------------------------+--------------------+-------+---------+--------------------+--------------+------+---------------+------------+----------+-----------+-------------+----------+-----------+-------+--------+----------+-------------+--------------+--------------+----------+----------------------------+------------------+-------------------+\n",
      "|District|ARREST_YEAR|ARREST_MONTH|             R_avg|             G_avg|            B_avg|         R_stddev|         G_stddev|         B_stddev|R_median|G_median|B_median|R_q25|G_q25|B_q25|R_q75|G_q75|B_q75|    brightness_avg|    dark_pixel_ratio|building_id|ARREST_KEY|ARREST_DATE|PD_CD|             PD_DESC|KY_CD|           OFNS_DESC|  LAW_CODE|LAW_CAT_CD|ARREST_BORO|ARREST_PRECINCT|JURISDICTION_CODE|AGE_GROUP|PERP_SEX|PERP_RACE|X_COORD_CD|Y_COORD_CD|         Latitude|         Longitude|New Georeferenced Column|                geom|element|       id|            geometry|      building|height|building:levels|building:use|roof:shape|addr:street|addr:postcode|addr:state|addr:suburb|amenity|man_made|wheelchair|opening_hours|building:flats|ARREST_DATE_DT|ARREST_DAY|total_quantity_crime_in_dist|            mean_M|             mean_F|\n",
      "+--------+-----------+------------+------------------+------------------+-----------------+-----------------+-----------------+-----------------+--------+--------+--------+-----+-----+-----+-----+-----+-----+------------------+--------------------+-----------+----------+-----------+-----+--------------------+-----+--------------------+----------+----------+-----------+---------------+-----------------+---------+--------+---------+----------+----------+-----------------+------------------+------------------------+--------------------+-------+---------+--------------------+--------------+------+---------------+------------+----------+-----------+-------------+----------+-----------+-------+--------+----------+-------------+--------------+--------------+----------+----------------------------+------------------+-------------------+\n",
      "|     209|       2024|           2|172.18207088255733|143.04864489228632|87.47498262682419|52.85206998242806|62.83710599980696|84.44492177017631|     165|     128|      52|  127|   93|   27|  215|  181|  117|134.23523280055565|0.014767199444058373|  764882369| 282706358| 02/24/2024|  113|MENACING,UNCLASSI...|  344|ASSAULT 3 & RELAT...|PL 1201401|         M|          B|             43|                0|    18-24|       M|    BLACK|   1025292|    243234|40.83420109672967|-73.85168536781177|    POINT (-73.851685...|POINT (-73.851685...|    way|764882369|POLYGON ((-73.851...|transportation|  NULL|            1.0|     railway|      NULL|       NULL|         NULL|      NULL|       NULL|   NULL|    NULL|        no|         24/7|          NULL|    2024-02-24|        24|                          88|0.9090909090909091|0.09090909090909091|\n",
      "|     209|       2024|           2|172.18207088255733|143.04864489228632|87.47498262682419|52.85206998242806|62.83710599980696|84.44492177017631|     165|     128|      52|  127|   93|   27|  215|  181|  117|134.23523280055565|0.014767199444058373|  764882369| 282706358| 02/24/2024|  113|MENACING,UNCLASSI...|  344|ASSAULT 3 & RELAT...|PL 1201401|         M|          B|             43|                0|    18-24|       M|    BLACK|   1025292|    243234|40.83420109672967|-73.85168536781177|    POINT (-73.851685...|POINT (-73.851685...|    way|764882369|POLYGON ((-73.851...|transportation|  NULL|            1.0|     railway|      NULL|       NULL|         NULL|      NULL|       NULL|   NULL|    NULL|        no|         24/7|          NULL|    2024-02-24|        24|                          88|0.9090909090909091|0.09090909090909091|\n",
      "|     209|       2024|           2|172.18207088255733|143.04864489228632|87.47498262682419|52.85206998242806|62.83710599980696|84.44492177017631|     165|     128|      52|  127|   93|   27|  215|  181|  117|134.23523280055565|0.014767199444058373|  764882369| 282706358| 02/24/2024|  113|MENACING,UNCLASSI...|  344|ASSAULT 3 & RELAT...|PL 1201401|         M|          B|             43|                0|    18-24|       M|    BLACK|   1025292|    243234|40.83420109672967|-73.85168536781177|    POINT (-73.851685...|POINT (-73.851685...|    way|764882369|POLYGON ((-73.851...|transportation|  NULL|            1.0|     railway|      NULL|       NULL|         NULL|      NULL|       NULL|   NULL|    NULL|        no|         24/7|          NULL|    2024-02-24|        24|                          88|0.9090909090909091|0.09090909090909091|\n",
      "|     209|       2024|           2|172.18207088255733|143.04864489228632|87.47498262682419|52.85206998242806|62.83710599980696|84.44492177017631|     165|     128|      52|  127|   93|   27|  215|  181|  117|134.23523280055565|0.014767199444058373|  764882369| 282706358| 02/24/2024|  113|MENACING,UNCLASSI...|  344|ASSAULT 3 & RELAT...|PL 1201401|         M|          B|             43|                0|    18-24|       M|    BLACK|   1025292|    243234|40.83420109672967|-73.85168536781177|    POINT (-73.851685...|POINT (-73.851685...|    way|764882369|POLYGON ((-73.851...|transportation|  NULL|            1.0|     railway|      NULL|       NULL|         NULL|      NULL|       NULL|   NULL|    NULL|        no|         24/7|          NULL|    2024-02-24|        24|                          88|0.9090909090909091|0.09090909090909091|\n",
      "|     209|       2024|           2|172.18207088255733|143.04864489228632|87.47498262682419|52.85206998242806|62.83710599980696|84.44492177017631|     165|     128|      52|  127|   93|   27|  215|  181|  117|134.23523280055565|0.014767199444058373|  764882369| 282706358| 02/24/2024|  113|MENACING,UNCLASSI...|  344|ASSAULT 3 & RELAT...|PL 1201401|         M|          B|             43|                0|    18-24|       M|    BLACK|   1025292|    243234|40.83420109672967|-73.85168536781177|    POINT (-73.851685...|POINT (-73.851685...|    way|764882369|POLYGON ((-73.851...|transportation|  NULL|            1.0|     railway|      NULL|       NULL|         NULL|      NULL|       NULL|   NULL|    NULL|        no|         24/7|          NULL|    2024-02-24|        24|                          88|0.9090909090909091|0.09090909090909091|\n",
      "|     209|       2024|           2|172.18207088255733|143.04864489228632|87.47498262682419|52.85206998242806|62.83710599980696|84.44492177017631|     165|     128|      52|  127|   93|   27|  215|  181|  117|134.23523280055565|0.014767199444058373|  764882369| 282706358| 02/24/2024|  113|MENACING,UNCLASSI...|  344|ASSAULT 3 & RELAT...|PL 1201401|         M|          B|             43|                0|    18-24|       M|    BLACK|   1025292|    243234|40.83420109672967|-73.85168536781177|    POINT (-73.851685...|POINT (-73.851685...|    way|764882369|POLYGON ((-73.851...|transportation|  NULL|            1.0|     railway|      NULL|       NULL|         NULL|      NULL|       NULL|   NULL|    NULL|        no|         24/7|          NULL|    2024-02-24|        24|                          88|0.9090909090909091|0.09090909090909091|\n",
      "|     209|       2024|           2|172.18207088255733|143.04864489228632|87.47498262682419|52.85206998242806|62.83710599980696|84.44492177017631|     165|     128|      52|  127|   93|   27|  215|  181|  117|134.23523280055565|0.014767199444058373|  764882369| 282706358| 02/24/2024|  113|MENACING,UNCLASSI...|  344|ASSAULT 3 & RELAT...|PL 1201401|         M|          B|             43|                0|    18-24|       M|    BLACK|   1025292|    243234|40.83420109672967|-73.85168536781177|    POINT (-73.851685...|POINT (-73.851685...|    way|764882369|POLYGON ((-73.851...|transportation|  NULL|            1.0|     railway|      NULL|       NULL|         NULL|      NULL|       NULL|   NULL|    NULL|        no|         24/7|          NULL|    2024-02-24|        24|                          88|0.9090909090909091|0.09090909090909091|\n",
      "|     209|       2024|           2|172.18207088255733|143.04864489228632|87.47498262682419|52.85206998242806|62.83710599980696|84.44492177017631|     165|     128|      52|  127|   93|   27|  215|  181|  117|134.23523280055565|0.014767199444058373|  764882369| 282706358| 02/24/2024|  113|MENACING,UNCLASSI...|  344|ASSAULT 3 & RELAT...|PL 1201401|         M|          B|             43|                0|    18-24|       M|    BLACK|   1025292|    243234|40.83420109672967|-73.85168536781177|    POINT (-73.851685...|POINT (-73.851685...|    way|764882369|POLYGON ((-73.851...|transportation|  NULL|            1.0|     railway|      NULL|       NULL|         NULL|      NULL|       NULL|   NULL|    NULL|        no|         24/7|          NULL|    2024-02-24|        24|                          88|0.9090909090909091|0.09090909090909091|\n",
      "|     209|       2024|           2|172.18207088255733|143.04864489228632|87.47498262682419|52.85206998242806|62.83710599980696|84.44492177017631|     165|     128|      52|  127|   93|   27|  215|  181|  117|134.23523280055565|0.014767199444058373|  764882369| 282706358| 02/24/2024|  113|MENACING,UNCLASSI...|  344|ASSAULT 3 & RELAT...|PL 1201401|         M|          B|             43|                0|    18-24|       M|    BLACK|   1025292|    243234|40.83420109672967|-73.85168536781177|    POINT (-73.851685...|POINT (-73.851685...|    way|764882369|POLYGON ((-73.851...|transportation|  NULL|            1.0|     railway|      NULL|       NULL|         NULL|      NULL|       NULL|   NULL|    NULL|        no|         24/7|          NULL|    2024-02-24|        24|                          88|0.9090909090909091|0.09090909090909091|\n",
      "|     209|       2024|           2|172.18207088255733|143.04864489228632|87.47498262682419|52.85206998242806|62.83710599980696|84.44492177017631|     165|     128|      52|  127|   93|   27|  215|  181|  117|134.23523280055565|0.014767199444058373|  764882369| 282706358| 02/24/2024|  113|MENACING,UNCLASSI...|  344|ASSAULT 3 & RELAT...|PL 1201401|         M|          B|             43|                0|    18-24|       M|    BLACK|   1025292|    243234|40.83420109672967|-73.85168536781177|    POINT (-73.851685...|POINT (-73.851685...|    way|764882369|POLYGON ((-73.851...|transportation|  NULL|            1.0|     railway|      NULL|       NULL|         NULL|      NULL|       NULL|   NULL|    NULL|        no|         24/7|          NULL|    2024-02-24|        24|                          88|0.9090909090909091|0.09090909090909091|\n",
      "+--------+-----------+------------+------------------+------------------+-----------------+-----------------+-----------------+-----------------+--------+--------+--------+-----+-----+-----+-----+-----+-----+------------------+--------------------+-----------+----------+-----------+-----+--------------------+-----+--------------------+----------+----------+-----------+---------------+-----------------+---------+--------+---------+----------+----------+-----------------+------------------+------------------------+--------------------+-------+---------+--------------------+--------------+------+---------------+------------+----------+-----------+-------------+----------+-----------+-------+--------+----------+-------------+--------------+--------------+----------+----------------------------+------------------+-------------------+\n",
      "only showing top 10 rows\n",
      "\n"
     ]
    }
   ],
   "source": [
    "df.show(10)"
   ]
  },
  {
   "cell_type": "code",
   "execution_count": 41,
   "metadata": {},
   "outputs": [
    {
     "name": "stdout",
     "output_type": "stream",
     "text": [
      "+--------+--------------------+--------------------+-------------------+--------------------+--------------------+----------------------+\n",
      "|District|       pct_age_18_24|       pct_age_25_44|      pct_age_45_64|         pct_age_<18|     pct_age_65_plus|num_age_groups_present|\n",
      "+--------+--------------------+--------------------+-------------------+--------------------+--------------------+----------------------+\n",
      "|     212|0.027649769585253448| 0.03064516129032256|0.08602150537634409|0.021505376344086023| 0.08602150537634409|                     5|\n",
      "|     402| 0.03353423954860234| 0.03361759425493622|0.09290843806104129|                 0.0|                 0.0|                     3|\n",
      "|     209| 0.04220779220779226| 0.02386363636363611|0.22727272727272727|                 0.0|                 0.0|                     3|\n",
      "|     405|0.023809523809523805| 0.03333333333333335|0.16666666666666666|                 0.0|                 0.0|                     3|\n",
      "|     304|                 0.0|                0.05|                0.0|                 0.0|                 0.0|                     1|\n",
      "|     404| 0.03322724861710533|0.031117867697185983|0.12523679624157005|0.010267485034477533|0.009547624460104568|                     5|\n",
      "|     403|                 0.0|0.049999999999999996|                0.0|                 0.0|                 0.0|                     1|\n",
      "|     301|0.014981273408239716| 0.03586142322097404|0.16853932584269662|0.009363295880149813|                 0.0|                     4|\n",
      "|     306|0.014404651777454532| 0.02936254309982719|0.31191657556134894|                 0.0|                 0.0|                     3|\n",
      "|     205| 0.04285714285714286|                0.02|                0.3|                 0.0|                 0.0|                     3|\n",
      "|     303|0.015476190476190204|0.030416666666671203|               0.25|               0.025|0.008333333333333333|                     5|\n",
      "|     305|                 0.0|                0.05|                0.0|                 0.0|                 0.0|                     1|\n",
      "|     302| 0.01969170492379529| 0.02426221503341686| 0.3575752026937671|0.007009084342987355|0.012329477828302866|                     5|\n",
      "|     314|                 0.0|                0.05|                0.0|                 0.0|                 0.0|                     1|\n",
      "|     313| 0.05714285714285713|0.019999999999999997|                0.2|                 0.0|                 0.0|                     3|\n",
      "|     315|                 0.0|                0.05|                0.0|                 0.0|                 0.0|                     1|\n",
      "|     312|  0.0238095238095238| 0.02916666666666662|               0.25|                 0.0|                 0.0|                     3|\n",
      "|     409|                 0.0|                0.05|                0.0|                 0.0|                 0.0|                     1|\n",
      "|     311|                 0.0|                0.05|                0.0|                 0.0|                 0.0|                     1|\n",
      "+--------+--------------------+--------------------+-------------------+--------------------+--------------------+----------------------+\n",
      "\n"
     ]
    }
   ],
   "source": [
    "from pyspark.sql.functions import when, avg, countDistinct, count, col, row_number\n",
    "\n",
    "agg_age_df = df.groupBy(\"District\").agg(\n",
    "    avg(when(df.AGE_GROUP == '18-24', 1/7).otherwise(0)).alias(\"pct_age_18_24\"),\n",
    "    avg(when(df.AGE_GROUP == '25-44', 1/20).otherwise(0)).alias(\"pct_age_25_44\"),\n",
    "    avg(when(df.AGE_GROUP == '45-64', 1).otherwise(0)).alias(\"pct_age_45_64\"),\n",
    "    avg(when(df.AGE_GROUP == '<18', 1).otherwise(0)).alias(\"pct_age_<18\"),\n",
    "    avg(when(df.AGE_GROUP == '65+', 1).otherwise(0)).alias(\"pct_age_65_plus\"),\n",
    "    countDistinct(\"AGE_GROUP\").alias(\"num_age_groups_present\")\n",
    ")\n",
    "\n",
    "agg_age_df.show(100)"
   ]
  },
  {
   "cell_type": "code",
   "execution_count": null,
   "metadata": {},
   "outputs": [
    {
     "name": "stdout",
     "output_type": "stream",
     "text": [
      "+--------+------------------------------+\n",
      "|District|dominant_age_group_in_district|\n",
      "+--------+------------------------------+\n",
      "|     205|                         25-44|\n",
      "|     209|                         25-44|\n",
      "|     212|                         25-44|\n",
      "|     301|                         25-44|\n",
      "|     302|                         25-44|\n",
      "|     303|                         25-44|\n",
      "|     304|                         25-44|\n",
      "|     305|                         25-44|\n",
      "|     306|                         25-44|\n",
      "|     311|                         25-44|\n",
      "|     312|                         25-44|\n",
      "|     313|                         25-44|\n",
      "|     314|                         25-44|\n",
      "|     315|                         25-44|\n",
      "|     402|                         25-44|\n",
      "|     403|                         25-44|\n",
      "|     404|                         25-44|\n",
      "|     405|                         25-44|\n",
      "|     409|                         25-44|\n",
      "+--------+------------------------------+\n",
      "\n"
     ]
    }
   ],
   "source": [
    "age_counts = df.groupBy(\"District\", \"AGE_GROUP\").count()\n",
    "\n",
    "windowSpec = Window.partitionBy(\"District\").orderBy(col(\"count\").desc())\n",
    "\n",
    "age_counts = age_counts.withColumn(\"rank\", row_number().over(windowSpec))\n",
    "dominant_age_df = age_counts.filter(col(\"rank\") == 1).select(\n",
    "    \"District\", \n",
    "    col(\"AGE_GROUP\").alias(\"dominant_age_group_in_district\")\n",
    ")\n",
    "\n",
    "dominant_age_df.show(100)"
   ]
  },
  {
   "cell_type": "code",
   "execution_count": null,
   "metadata": {},
   "outputs": [],
   "source": [
    "df = df.join(agg_age_df, on=\"District\", how=\"left\")\n"
   ]
  },
  {
   "cell_type": "code",
   "execution_count": 34,
   "metadata": {},
   "outputs": [
    {
     "name": "stdout",
     "output_type": "stream",
     "text": [
      "+--------+-----------+------------+------------------+------------------+-----------------+-----------------+-----------------+-----------------+--------+--------+--------+-----+-----+-----+-----+-----+-----+------------------+--------------------+-----------+----------+-----------+-----+--------------------+-----+--------------------+----------+----------+-----------+---------------+-----------------+---------+--------+---------+----------+----------+-----------------+------------------+------------------------+--------------------+-------+---------+--------------------+--------------+------+---------------+------------+----------+-----------+-------------+----------+-----------+-------+--------+----------+-------------+--------------+--------------+----------+----------------------------+------------------+-------------------+-------------------+-------------------+-------------------+-----------+---------------+----------------------+\n",
      "|District|ARREST_YEAR|ARREST_MONTH|             R_avg|             G_avg|            B_avg|         R_stddev|         G_stddev|         B_stddev|R_median|G_median|B_median|R_q25|G_q25|B_q25|R_q75|G_q75|B_q75|    brightness_avg|    dark_pixel_ratio|building_id|ARREST_KEY|ARREST_DATE|PD_CD|             PD_DESC|KY_CD|           OFNS_DESC|  LAW_CODE|LAW_CAT_CD|ARREST_BORO|ARREST_PRECINCT|JURISDICTION_CODE|AGE_GROUP|PERP_SEX|PERP_RACE|X_COORD_CD|Y_COORD_CD|         Latitude|         Longitude|New Georeferenced Column|                geom|element|       id|            geometry|      building|height|building:levels|building:use|roof:shape|addr:street|addr:postcode|addr:state|addr:suburb|amenity|man_made|wheelchair|opening_hours|building:flats|ARREST_DATE_DT|ARREST_DAY|total_quantity_crime_in_dist|            mean_M|             mean_F|      pct_age_18_24|      pct_age_25_44|      pct_age_45_64|pct_age_<18|pct_age_65_plus|num_age_groups_present|\n",
      "+--------+-----------+------------+------------------+------------------+-----------------+-----------------+-----------------+-----------------+--------+--------+--------+-----+-----+-----+-----+-----+-----+------------------+--------------------+-----------+----------+-----------+-----+--------------------+-----+--------------------+----------+----------+-----------+---------------+-----------------+---------+--------+---------+----------+----------+-----------------+------------------+------------------------+--------------------+-------+---------+--------------------+--------------+------+---------------+------------+----------+-----------+-------------+----------+-----------+-------+--------+----------+-------------+--------------+--------------+----------+----------------------------+------------------+-------------------+-------------------+-------------------+-------------------+-----------+---------------+----------------------+\n",
      "|     209|       2024|           2|172.18207088255733|143.04864489228632|87.47498262682419|52.85206998242806|62.83710599980696|84.44492177017631|     165|     128|      52|  127|   93|   27|  215|  181|  117|134.23523280055565|0.014767199444058373|  764882369| 282706358| 02/24/2024|  113|MENACING,UNCLASSI...|  344|ASSAULT 3 & RELAT...|PL 1201401|         M|          B|             43|                0|    18-24|       M|    BLACK|   1025292|    243234|40.83420109672967|-73.85168536781177|    POINT (-73.851685...|POINT (-73.851685...|    way|764882369|POLYGON ((-73.851...|transportation|  NULL|            1.0|     railway|      NULL|       NULL|         NULL|      NULL|       NULL|   NULL|    NULL|        no|         24/7|          NULL|    2024-02-24|        24|                          88|0.9090909090909091|0.09090909090909091|0.04220779220779226|0.02386363636363611|0.22727272727272727|        0.0|            0.0|                     3|\n",
      "|     209|       2024|           2|172.18207088255733|143.04864489228632|87.47498262682419|52.85206998242806|62.83710599980696|84.44492177017631|     165|     128|      52|  127|   93|   27|  215|  181|  117|134.23523280055565|0.014767199444058373|  764882369| 282706358| 02/24/2024|  113|MENACING,UNCLASSI...|  344|ASSAULT 3 & RELAT...|PL 1201401|         M|          B|             43|                0|    18-24|       M|    BLACK|   1025292|    243234|40.83420109672967|-73.85168536781177|    POINT (-73.851685...|POINT (-73.851685...|    way|764882369|POLYGON ((-73.851...|transportation|  NULL|            1.0|     railway|      NULL|       NULL|         NULL|      NULL|       NULL|   NULL|    NULL|        no|         24/7|          NULL|    2024-02-24|        24|                          88|0.9090909090909091|0.09090909090909091|0.04220779220779226|0.02386363636363611|0.22727272727272727|        0.0|            0.0|                     3|\n",
      "|     209|       2024|           2|172.18207088255733|143.04864489228632|87.47498262682419|52.85206998242806|62.83710599980696|84.44492177017631|     165|     128|      52|  127|   93|   27|  215|  181|  117|134.23523280055565|0.014767199444058373|  764882369| 282706358| 02/24/2024|  113|MENACING,UNCLASSI...|  344|ASSAULT 3 & RELAT...|PL 1201401|         M|          B|             43|                0|    18-24|       M|    BLACK|   1025292|    243234|40.83420109672967|-73.85168536781177|    POINT (-73.851685...|POINT (-73.851685...|    way|764882369|POLYGON ((-73.851...|transportation|  NULL|            1.0|     railway|      NULL|       NULL|         NULL|      NULL|       NULL|   NULL|    NULL|        no|         24/7|          NULL|    2024-02-24|        24|                          88|0.9090909090909091|0.09090909090909091|0.04220779220779226|0.02386363636363611|0.22727272727272727|        0.0|            0.0|                     3|\n",
      "|     209|       2024|           2|172.18207088255733|143.04864489228632|87.47498262682419|52.85206998242806|62.83710599980696|84.44492177017631|     165|     128|      52|  127|   93|   27|  215|  181|  117|134.23523280055565|0.014767199444058373|  764882369| 282706358| 02/24/2024|  113|MENACING,UNCLASSI...|  344|ASSAULT 3 & RELAT...|PL 1201401|         M|          B|             43|                0|    18-24|       M|    BLACK|   1025292|    243234|40.83420109672967|-73.85168536781177|    POINT (-73.851685...|POINT (-73.851685...|    way|764882369|POLYGON ((-73.851...|transportation|  NULL|            1.0|     railway|      NULL|       NULL|         NULL|      NULL|       NULL|   NULL|    NULL|        no|         24/7|          NULL|    2024-02-24|        24|                          88|0.9090909090909091|0.09090909090909091|0.04220779220779226|0.02386363636363611|0.22727272727272727|        0.0|            0.0|                     3|\n",
      "|     209|       2024|           2|172.18207088255733|143.04864489228632|87.47498262682419|52.85206998242806|62.83710599980696|84.44492177017631|     165|     128|      52|  127|   93|   27|  215|  181|  117|134.23523280055565|0.014767199444058373|  764882369| 282706358| 02/24/2024|  113|MENACING,UNCLASSI...|  344|ASSAULT 3 & RELAT...|PL 1201401|         M|          B|             43|                0|    18-24|       M|    BLACK|   1025292|    243234|40.83420109672967|-73.85168536781177|    POINT (-73.851685...|POINT (-73.851685...|    way|764882369|POLYGON ((-73.851...|transportation|  NULL|            1.0|     railway|      NULL|       NULL|         NULL|      NULL|       NULL|   NULL|    NULL|        no|         24/7|          NULL|    2024-02-24|        24|                          88|0.9090909090909091|0.09090909090909091|0.04220779220779226|0.02386363636363611|0.22727272727272727|        0.0|            0.0|                     3|\n",
      "|     209|       2024|           2|172.18207088255733|143.04864489228632|87.47498262682419|52.85206998242806|62.83710599980696|84.44492177017631|     165|     128|      52|  127|   93|   27|  215|  181|  117|134.23523280055565|0.014767199444058373|  764882369| 282706358| 02/24/2024|  113|MENACING,UNCLASSI...|  344|ASSAULT 3 & RELAT...|PL 1201401|         M|          B|             43|                0|    18-24|       M|    BLACK|   1025292|    243234|40.83420109672967|-73.85168536781177|    POINT (-73.851685...|POINT (-73.851685...|    way|764882369|POLYGON ((-73.851...|transportation|  NULL|            1.0|     railway|      NULL|       NULL|         NULL|      NULL|       NULL|   NULL|    NULL|        no|         24/7|          NULL|    2024-02-24|        24|                          88|0.9090909090909091|0.09090909090909091|0.04220779220779226|0.02386363636363611|0.22727272727272727|        0.0|            0.0|                     3|\n",
      "|     209|       2024|           2|172.18207088255733|143.04864489228632|87.47498262682419|52.85206998242806|62.83710599980696|84.44492177017631|     165|     128|      52|  127|   93|   27|  215|  181|  117|134.23523280055565|0.014767199444058373|  764882369| 282706358| 02/24/2024|  113|MENACING,UNCLASSI...|  344|ASSAULT 3 & RELAT...|PL 1201401|         M|          B|             43|                0|    18-24|       M|    BLACK|   1025292|    243234|40.83420109672967|-73.85168536781177|    POINT (-73.851685...|POINT (-73.851685...|    way|764882369|POLYGON ((-73.851...|transportation|  NULL|            1.0|     railway|      NULL|       NULL|         NULL|      NULL|       NULL|   NULL|    NULL|        no|         24/7|          NULL|    2024-02-24|        24|                          88|0.9090909090909091|0.09090909090909091|0.04220779220779226|0.02386363636363611|0.22727272727272727|        0.0|            0.0|                     3|\n",
      "|     209|       2024|           2|172.18207088255733|143.04864489228632|87.47498262682419|52.85206998242806|62.83710599980696|84.44492177017631|     165|     128|      52|  127|   93|   27|  215|  181|  117|134.23523280055565|0.014767199444058373|  764882369| 282706358| 02/24/2024|  113|MENACING,UNCLASSI...|  344|ASSAULT 3 & RELAT...|PL 1201401|         M|          B|             43|                0|    18-24|       M|    BLACK|   1025292|    243234|40.83420109672967|-73.85168536781177|    POINT (-73.851685...|POINT (-73.851685...|    way|764882369|POLYGON ((-73.851...|transportation|  NULL|            1.0|     railway|      NULL|       NULL|         NULL|      NULL|       NULL|   NULL|    NULL|        no|         24/7|          NULL|    2024-02-24|        24|                          88|0.9090909090909091|0.09090909090909091|0.04220779220779226|0.02386363636363611|0.22727272727272727|        0.0|            0.0|                     3|\n",
      "|     209|       2024|           2|172.18207088255733|143.04864489228632|87.47498262682419|52.85206998242806|62.83710599980696|84.44492177017631|     165|     128|      52|  127|   93|   27|  215|  181|  117|134.23523280055565|0.014767199444058373|  764882369| 282706358| 02/24/2024|  113|MENACING,UNCLASSI...|  344|ASSAULT 3 & RELAT...|PL 1201401|         M|          B|             43|                0|    18-24|       M|    BLACK|   1025292|    243234|40.83420109672967|-73.85168536781177|    POINT (-73.851685...|POINT (-73.851685...|    way|764882369|POLYGON ((-73.851...|transportation|  NULL|            1.0|     railway|      NULL|       NULL|         NULL|      NULL|       NULL|   NULL|    NULL|        no|         24/7|          NULL|    2024-02-24|        24|                          88|0.9090909090909091|0.09090909090909091|0.04220779220779226|0.02386363636363611|0.22727272727272727|        0.0|            0.0|                     3|\n",
      "|     209|       2024|           2|172.18207088255733|143.04864489228632|87.47498262682419|52.85206998242806|62.83710599980696|84.44492177017631|     165|     128|      52|  127|   93|   27|  215|  181|  117|134.23523280055565|0.014767199444058373|  764882369| 282706358| 02/24/2024|  113|MENACING,UNCLASSI...|  344|ASSAULT 3 & RELAT...|PL 1201401|         M|          B|             43|                0|    18-24|       M|    BLACK|   1025292|    243234|40.83420109672967|-73.85168536781177|    POINT (-73.851685...|POINT (-73.851685...|    way|764882369|POLYGON ((-73.851...|transportation|  NULL|            1.0|     railway|      NULL|       NULL|         NULL|      NULL|       NULL|   NULL|    NULL|        no|         24/7|          NULL|    2024-02-24|        24|                          88|0.9090909090909091|0.09090909090909091|0.04220779220779226|0.02386363636363611|0.22727272727272727|        0.0|            0.0|                     3|\n",
      "+--------+-----------+------------+------------------+------------------+-----------------+-----------------+-----------------+-----------------+--------+--------+--------+-----+-----+-----+-----+-----+-----+------------------+--------------------+-----------+----------+-----------+-----+--------------------+-----+--------------------+----------+----------+-----------+---------------+-----------------+---------+--------+---------+----------+----------+-----------------+------------------+------------------------+--------------------+-------+---------+--------------------+--------------+------+---------------+------------+----------+-----------+-------------+----------+-----------+-------+--------+----------+-------------+--------------+--------------+----------+----------------------------+------------------+-------------------+-------------------+-------------------+-------------------+-----------+---------------+----------------------+\n",
      "only showing top 10 rows\n",
      "\n"
     ]
    }
   ],
   "source": [
    "df.show(10)"
   ]
  },
  {
   "cell_type": "code",
   "execution_count": 43,
   "metadata": {},
   "outputs": [
    {
     "name": "stderr",
     "output_type": "stream",
     "text": [
      "                                                                                \r"
     ]
    },
    {
     "name": "stderr",
     "output_type": "stream",
     "text": [
      "25/06/12 20:41:39 WARN StandaloneAppClient$ClientEndpoint: Connection to 86f0235d7cff:7077 failed; waiting for master to reconnect...\n",
      "25/06/12 20:41:39 WARN StandaloneSchedulerBackend: Disconnected from Spark cluster! Waiting for reconnection...\n",
      "25/06/12 20:41:44 ERROR TaskSchedulerImpl: Lost executor 0 on 172.18.0.9: Remote RPC client disassociated. Likely due to containers exceeding thresholds, or network issues. Check driver logs for WARN messages.\n"
     ]
    }
   ],
   "source": [
    "df.write.mode('overwrite').parquet(f\"{path_data}/nyc_full_px_enriched.parquet\")"
   ]
  },
  {
   "cell_type": "code",
   "execution_count": 2,
   "metadata": {},
   "outputs": [
    {
     "name": "stderr",
     "output_type": "stream",
     "text": [
      "25/06/14 20:28:36 WARN SparkStringUtils: Truncated the string representation of a plan since it was too large. This behavior can be adjusted by setting 'spark.sql.debug.maxToStringFields'.\n",
      "                                                                                \r"
     ]
    },
    {
     "name": "stdout",
     "output_type": "stream",
     "text": [
      "+--------+-----------+------------+------------------+------------------+-----------------+-----------------+-----------------+-----------------+--------+--------+--------+-----+-----+-----+-----+-----+-----+------------------+--------------------+-----------+----------+-----------+-----+--------------------+-----+--------------------+----------+----------+-----------+---------------+-----------------+---------+--------+---------+----------+----------+-----------------+------------------+------------------------+--------------------+-------+---------+--------------------+--------------+------+---------------+------------+----------+-----------+-------------+----------+-----------+-------+--------+----------+-------------+--------------+--------------+----------+----------------------------+------------------+-------------------+-------------------+-------------------+-------------------+-----------+---------------+----------------------+\n",
      "|District|ARREST_YEAR|ARREST_MONTH|             R_avg|             G_avg|            B_avg|         R_stddev|         G_stddev|         B_stddev|R_median|G_median|B_median|R_q25|G_q25|B_q25|R_q75|G_q75|B_q75|    brightness_avg|    dark_pixel_ratio|building_id|ARREST_KEY|ARREST_DATE|PD_CD|             PD_DESC|KY_CD|           OFNS_DESC|  LAW_CODE|LAW_CAT_CD|ARREST_BORO|ARREST_PRECINCT|JURISDICTION_CODE|AGE_GROUP|PERP_SEX|PERP_RACE|X_COORD_CD|Y_COORD_CD|         Latitude|         Longitude|New Georeferenced Column|                geom|element|       id|            geometry|      building|height|building:levels|building:use|roof:shape|addr:street|addr:postcode|addr:state|addr:suburb|amenity|man_made|wheelchair|opening_hours|building:flats|ARREST_DATE_DT|ARREST_DAY|total_quantity_crime_in_dist|            mean_M|             mean_F|      pct_age_18_24|      pct_age_25_44|      pct_age_45_64|pct_age_<18|pct_age_65_plus|num_age_groups_present|\n",
      "+--------+-----------+------------+------------------+------------------+-----------------+-----------------+-----------------+-----------------+--------+--------+--------+-----+-----+-----+-----+-----+-----+------------------+--------------------+-----------+----------+-----------+-----+--------------------+-----+--------------------+----------+----------+-----------+---------------+-----------------+---------+--------+---------+----------+----------+-----------------+------------------+------------------------+--------------------+-------+---------+--------------------+--------------+------+---------------+------------+----------+-----------+-------------+----------+-----------+-------+--------+----------+-------------+--------------+--------------+----------+----------------------------+------------------+-------------------+-------------------+-------------------+-------------------+-----------+---------------+----------------------+\n",
      "|     209|       2024|           2|172.18207088255733|143.04864489228632|87.47498262682419|52.85206998242806|62.83710599980696|84.44492177017631|     165|     128|      52|  127|   93|   27|  215|  181|  117|134.23523280055565|0.014767199444058373|  764882369| 282706358| 02/24/2024|  113|MENACING,UNCLASSI...|  344|ASSAULT 3 & RELAT...|PL 1201401|         M|          B|             43|                0|    18-24|       M|    BLACK|   1025292|    243234|40.83420109672967|-73.85168536781177|    POINT (-73.851685...|POINT (-73.851685...|    way|764882369|POLYGON ((-73.851...|transportation|  NULL|            1.0|     railway|      NULL|       NULL|         NULL|      NULL|       NULL|   NULL|    NULL|        no|         24/7|          NULL|    2024-02-24|        24|                          88|0.9090909090909091|0.09090909090909091|0.04220779220779226|0.02386363636363611|0.22727272727272727|        0.0|            0.0|                     3|\n",
      "|     209|       2024|           2|172.18207088255733|143.04864489228632|87.47498262682419|52.85206998242806|62.83710599980696|84.44492177017631|     165|     128|      52|  127|   93|   27|  215|  181|  117|134.23523280055565|0.014767199444058373|  764882369| 282706358| 02/24/2024|  113|MENACING,UNCLASSI...|  344|ASSAULT 3 & RELAT...|PL 1201401|         M|          B|             43|                0|    18-24|       M|    BLACK|   1025292|    243234|40.83420109672967|-73.85168536781177|    POINT (-73.851685...|POINT (-73.851685...|    way|764882369|POLYGON ((-73.851...|transportation|  NULL|            1.0|     railway|      NULL|       NULL|         NULL|      NULL|       NULL|   NULL|    NULL|        no|         24/7|          NULL|    2024-02-24|        24|                          88|0.9090909090909091|0.09090909090909091|0.04220779220779226|0.02386363636363611|0.22727272727272727|        0.0|            0.0|                     3|\n",
      "|     209|       2024|           2|172.18207088255733|143.04864489228632|87.47498262682419|52.85206998242806|62.83710599980696|84.44492177017631|     165|     128|      52|  127|   93|   27|  215|  181|  117|134.23523280055565|0.014767199444058373|  764882369| 282706358| 02/24/2024|  113|MENACING,UNCLASSI...|  344|ASSAULT 3 & RELAT...|PL 1201401|         M|          B|             43|                0|    18-24|       M|    BLACK|   1025292|    243234|40.83420109672967|-73.85168536781177|    POINT (-73.851685...|POINT (-73.851685...|    way|764882369|POLYGON ((-73.851...|transportation|  NULL|            1.0|     railway|      NULL|       NULL|         NULL|      NULL|       NULL|   NULL|    NULL|        no|         24/7|          NULL|    2024-02-24|        24|                          88|0.9090909090909091|0.09090909090909091|0.04220779220779226|0.02386363636363611|0.22727272727272727|        0.0|            0.0|                     3|\n",
      "|     209|       2024|           2|172.18207088255733|143.04864489228632|87.47498262682419|52.85206998242806|62.83710599980696|84.44492177017631|     165|     128|      52|  127|   93|   27|  215|  181|  117|134.23523280055565|0.014767199444058373|  764882369| 282706358| 02/24/2024|  113|MENACING,UNCLASSI...|  344|ASSAULT 3 & RELAT...|PL 1201401|         M|          B|             43|                0|    18-24|       M|    BLACK|   1025292|    243234|40.83420109672967|-73.85168536781177|    POINT (-73.851685...|POINT (-73.851685...|    way|764882369|POLYGON ((-73.851...|transportation|  NULL|            1.0|     railway|      NULL|       NULL|         NULL|      NULL|       NULL|   NULL|    NULL|        no|         24/7|          NULL|    2024-02-24|        24|                          88|0.9090909090909091|0.09090909090909091|0.04220779220779226|0.02386363636363611|0.22727272727272727|        0.0|            0.0|                     3|\n",
      "|     209|       2024|           2|172.18207088255733|143.04864489228632|87.47498262682419|52.85206998242806|62.83710599980696|84.44492177017631|     165|     128|      52|  127|   93|   27|  215|  181|  117|134.23523280055565|0.014767199444058373|  764882369| 282706358| 02/24/2024|  113|MENACING,UNCLASSI...|  344|ASSAULT 3 & RELAT...|PL 1201401|         M|          B|             43|                0|    18-24|       M|    BLACK|   1025292|    243234|40.83420109672967|-73.85168536781177|    POINT (-73.851685...|POINT (-73.851685...|    way|764882369|POLYGON ((-73.851...|transportation|  NULL|            1.0|     railway|      NULL|       NULL|         NULL|      NULL|       NULL|   NULL|    NULL|        no|         24/7|          NULL|    2024-02-24|        24|                          88|0.9090909090909091|0.09090909090909091|0.04220779220779226|0.02386363636363611|0.22727272727272727|        0.0|            0.0|                     3|\n",
      "|     209|       2024|           2|172.18207088255733|143.04864489228632|87.47498262682419|52.85206998242806|62.83710599980696|84.44492177017631|     165|     128|      52|  127|   93|   27|  215|  181|  117|134.23523280055565|0.014767199444058373|  764882369| 282706358| 02/24/2024|  113|MENACING,UNCLASSI...|  344|ASSAULT 3 & RELAT...|PL 1201401|         M|          B|             43|                0|    18-24|       M|    BLACK|   1025292|    243234|40.83420109672967|-73.85168536781177|    POINT (-73.851685...|POINT (-73.851685...|    way|764882369|POLYGON ((-73.851...|transportation|  NULL|            1.0|     railway|      NULL|       NULL|         NULL|      NULL|       NULL|   NULL|    NULL|        no|         24/7|          NULL|    2024-02-24|        24|                          88|0.9090909090909091|0.09090909090909091|0.04220779220779226|0.02386363636363611|0.22727272727272727|        0.0|            0.0|                     3|\n",
      "|     209|       2024|           2|172.18207088255733|143.04864489228632|87.47498262682419|52.85206998242806|62.83710599980696|84.44492177017631|     165|     128|      52|  127|   93|   27|  215|  181|  117|134.23523280055565|0.014767199444058373|  764882369| 282706358| 02/24/2024|  113|MENACING,UNCLASSI...|  344|ASSAULT 3 & RELAT...|PL 1201401|         M|          B|             43|                0|    18-24|       M|    BLACK|   1025292|    243234|40.83420109672967|-73.85168536781177|    POINT (-73.851685...|POINT (-73.851685...|    way|764882369|POLYGON ((-73.851...|transportation|  NULL|            1.0|     railway|      NULL|       NULL|         NULL|      NULL|       NULL|   NULL|    NULL|        no|         24/7|          NULL|    2024-02-24|        24|                          88|0.9090909090909091|0.09090909090909091|0.04220779220779226|0.02386363636363611|0.22727272727272727|        0.0|            0.0|                     3|\n",
      "|     209|       2024|           2|172.18207088255733|143.04864489228632|87.47498262682419|52.85206998242806|62.83710599980696|84.44492177017631|     165|     128|      52|  127|   93|   27|  215|  181|  117|134.23523280055565|0.014767199444058373|  764882369| 282706358| 02/24/2024|  113|MENACING,UNCLASSI...|  344|ASSAULT 3 & RELAT...|PL 1201401|         M|          B|             43|                0|    18-24|       M|    BLACK|   1025292|    243234|40.83420109672967|-73.85168536781177|    POINT (-73.851685...|POINT (-73.851685...|    way|764882369|POLYGON ((-73.851...|transportation|  NULL|            1.0|     railway|      NULL|       NULL|         NULL|      NULL|       NULL|   NULL|    NULL|        no|         24/7|          NULL|    2024-02-24|        24|                          88|0.9090909090909091|0.09090909090909091|0.04220779220779226|0.02386363636363611|0.22727272727272727|        0.0|            0.0|                     3|\n",
      "|     209|       2024|           2|172.18207088255733|143.04864489228632|87.47498262682419|52.85206998242806|62.83710599980696|84.44492177017631|     165|     128|      52|  127|   93|   27|  215|  181|  117|134.23523280055565|0.014767199444058373|  764882369| 282706358| 02/24/2024|  113|MENACING,UNCLASSI...|  344|ASSAULT 3 & RELAT...|PL 1201401|         M|          B|             43|                0|    18-24|       M|    BLACK|   1025292|    243234|40.83420109672967|-73.85168536781177|    POINT (-73.851685...|POINT (-73.851685...|    way|764882369|POLYGON ((-73.851...|transportation|  NULL|            1.0|     railway|      NULL|       NULL|         NULL|      NULL|       NULL|   NULL|    NULL|        no|         24/7|          NULL|    2024-02-24|        24|                          88|0.9090909090909091|0.09090909090909091|0.04220779220779226|0.02386363636363611|0.22727272727272727|        0.0|            0.0|                     3|\n",
      "|     209|       2024|           2|172.18207088255733|143.04864489228632|87.47498262682419|52.85206998242806|62.83710599980696|84.44492177017631|     165|     128|      52|  127|   93|   27|  215|  181|  117|134.23523280055565|0.014767199444058373|  764882369| 282706358| 02/24/2024|  113|MENACING,UNCLASSI...|  344|ASSAULT 3 & RELAT...|PL 1201401|         M|          B|             43|                0|    18-24|       M|    BLACK|   1025292|    243234|40.83420109672967|-73.85168536781177|    POINT (-73.851685...|POINT (-73.851685...|    way|764882369|POLYGON ((-73.851...|transportation|  NULL|            1.0|     railway|      NULL|       NULL|         NULL|      NULL|       NULL|   NULL|    NULL|        no|         24/7|          NULL|    2024-02-24|        24|                          88|0.9090909090909091|0.09090909090909091|0.04220779220779226|0.02386363636363611|0.22727272727272727|        0.0|            0.0|                     3|\n",
      "+--------+-----------+------------+------------------+------------------+-----------------+-----------------+-----------------+-----------------+--------+--------+--------+-----+-----+-----+-----+-----+-----+------------------+--------------------+-----------+----------+-----------+-----+--------------------+-----+--------------------+----------+----------+-----------+---------------+-----------------+---------+--------+---------+----------+----------+-----------------+------------------+------------------------+--------------------+-------+---------+--------------------+--------------+------+---------------+------------+----------+-----------+-------------+----------+-----------+-------+--------+----------+-------------+--------------+--------------+----------+----------------------------+------------------+-------------------+-------------------+-------------------+-------------------+-----------+---------------+----------------------+\n",
      "only showing top 10 rows\n",
      "\n"
     ]
    }
   ],
   "source": [
    "nyc_file = spark.read.parquet(f\"{path_data}/nyc_full_px_enriched.parquet\")\n",
    "nyc_file.show(10)"
   ]
  },
  {
   "cell_type": "code",
   "execution_count": null,
   "metadata": {},
   "outputs": [
    {
     "data": {
      "text/plain": [
       "19"
      ]
     },
     "execution_count": 30,
     "metadata": {},
     "output_type": "execute_result"
    }
   ],
   "source": [
    "nyc_file.select(\"District\").distinct().count()"
   ]
  },
  {
   "cell_type": "code",
   "execution_count": null,
   "metadata": {},
   "outputs": [
    {
     "name": "stdout",
     "output_type": "stream",
     "text": [
      "+--------------------+\n",
      "|           OFNS_DESC|\n",
      "+--------------------+\n",
      "| ADMINISTRATIVE CODE|\n",
      "|ANTICIPATORY OFFE...|\n",
      "|ASSAULT 3 & RELAT...|\n",
      "|     BURGLAR'S TOOLS|\n",
      "|            BURGLARY|\n",
      "|CRIMINAL MISCHIEF...|\n",
      "|   CRIMINAL TRESPASS|\n",
      "|     DANGEROUS DRUGS|\n",
      "|   DANGEROUS WEAPONS|\n",
      "|  DISORDERLY CONDUCT|\n",
      "|      FELONY ASSAULT|\n",
      "|             FORGERY|\n",
      "|              FRAUDS|\n",
      "|            GAMBLING|\n",
      "|       GRAND LARCENY|\n",
      "|GRAND LARCENY OF ...|\n",
      "|INTOXICATED & IMP...|\n",
      "|            JOSTLING|\n",
      "|KIDNAPPING & RELA...|\n",
      "|MISCELLANEOUS PEN...|\n",
      "|OFF. AGNST PUB OR...|\n",
      "|OFFENSES AGAINST ...|\n",
      "|OFFENSES AGAINST ...|\n",
      "|OFFENSES INVOLVIN...|\n",
      "|OTHER OFFENSES RE...|\n",
      "|    OTHER STATE LAWS|\n",
      "|OTHER STATE LAWS ...|\n",
      "|OTHER TRAFFIC INF...|\n",
      "|       PETIT LARCENY|\n",
      "|POSSESSION OF STO...|\n",
      "|             ROBBERY|\n",
      "|VEHICLE AND TRAFF...|\n",
      "+--------------------+\n",
      "\n"
     ]
    }
   ],
   "source": [
    "nyc_file.select(\"OFNS_DESC\").distinct().orderBy(\"OFNS_DESC\").show(100)"
   ]
  },
  {
   "cell_type": "code",
   "execution_count": null,
   "metadata": {},
   "outputs": [],
   "source": [
    "top_offenses = (\n",
    "    nyc_file.groupBy(\"OFNS_DESC\")\n",
    "    .count()\n",
    "    .orderBy(\"count\", ascending=False)\n",
    "    .limit(15)\n",
    "    .select(\"OFNS_DESC\")\n",
    "    .rdd.flatMap(lambda x: x)\n",
    "    .collect()\n",
    ")"
   ]
  },
  {
   "cell_type": "code",
   "execution_count": 26,
   "metadata": {},
   "outputs": [
    {
     "name": "stdout",
     "output_type": "stream",
     "text": [
      "+--------+-----------+------------+--------------------+-----------------------------------+--------------------------------+--------------------+--------------------+--------------------+---------------------+----------------------------------+--------------------+------------+---------------------+-------------------+--------------------+---------------------------+----------------------------------+\n",
      "|District|ARREST_YEAR|ARREST_MONTH|   pct_petit_larceny|pct_other_offenses_related_to_theft|pct_assault_3_&_related_offenses|pct_other_state_laws| pct_dangerous_drugs|   pct_grand_larceny|pct_dangerous_weapons|pct_offenses_against_public_admini|         pct_forgery|pct_burglary|pct_criminal_trespass| pct_felony_assault|          pct_frauds|pct_miscellaneous_penal_law|pct_criminal_mischief_&_related_of|\n",
      "+--------+-----------+------------+--------------------+-----------------------------------+--------------------------------+--------------------+--------------------+--------------------+---------------------+----------------------------------+--------------------+------------+---------------------+-------------------+--------------------+---------------------------+----------------------------------+\n",
      "|     402|       2024|           7|                 1.0|                                0.0|                             0.0|                 0.0|                 0.0|                 0.0|                  0.0|                               0.0|                 0.0|         0.0|                  0.0|                0.0|                 0.0|                        0.0|                               0.0|\n",
      "|     403|       2024|           3|                 0.0|                                0.0|                             0.0|                 0.0|                 0.0|                 0.0|                  0.0|                               0.0|                 0.0|         0.0|                  0.0|                0.0|                 0.0|         0.3333333333333333|                0.6666666666666666|\n",
      "|     306|       2024|           2|                 0.0|                                0.0|             0.16793893129770993|   0.166412213740458|                 0.0|                 0.0|                  0.0|                               0.0|                 0.0|         0.0|  0.49923664122137407|                0.0|                 0.0|                        0.0|                               0.0|\n",
      "|     212|       2024|           4|                 0.0|                                0.0|                             0.0|                 0.0|                 0.0|                 0.0|                  0.0|               0.38461538461538464|                 0.0|         0.0|                  0.0| 0.6153846153846154|                 0.0|                        0.0|                               0.0|\n",
      "|     212|       2024|           2|                 0.0|                                0.0|                             0.0|                 0.0|                 1.0|                 0.0|                  0.0|                               0.0|                 0.0|         0.0|                  0.0|                0.0|                 0.0|                        0.0|                               0.0|\n",
      "|     306|       2024|           3|                 0.0|                 0.4444444444444444|              0.1111111111111111|  0.1111111111111111|  0.1111111111111111|                 0.0|                  0.0|                               0.0|  0.1111111111111111|         0.0|   0.1111111111111111|                0.0|                 0.0|                        0.0|                               0.0|\n",
      "|     404|       2024|           3|                 0.0|                  0.540893470790378|                             0.0| 0.02491408934707904| 0.04982817869415808|0.011855670103092783|                  0.0|               0.04003436426116838| 0.12457044673539519|         0.0|                  0.0|                0.0| 0.08986254295532646|       0.028178694158075602|                               0.0|\n",
      "|     404|       2024|           9|                 0.0|                0.15961070559610704|             0.08321167883211679|  0.0705596107055961|  0.0705596107055961|  0.3192214111922141|   0.0705596107055961|                               0.0|                 0.0|         0.0|                  0.0|0.00145985401459854|                 0.0|         0.0705596107055961|                               0.0|\n",
      "|     402|       2024|           9|                 0.0|                                0.0|                             0.0|                 0.0|                 0.0|                 0.0|                  0.0|                               0.0|                 0.0|         0.0|                 0.25|                0.0|                 0.0|                        0.0|                               0.0|\n",
      "|     209|       2024|          10|                 0.0|                               0.25|                             0.0|                0.25|                0.25|                 0.0|                  0.0|                               0.0|                 0.0|         0.0|                  0.0|                0.0|                 0.0|                        0.0|                               0.0|\n",
      "|     404|       2024|          11|                 0.0|                 0.5154671717171717|             0.04861111111111111| 0.13731060606060605| 0.05176767676767677|                 0.0|                  0.0|                               0.0| 0.05176767676767677|         0.0|                  0.0|                0.0| 0.09753787878787878|                        0.0|                               0.0|\n",
      "|     209|       2024|           3|                 0.0|                                0.4|                             0.0|                 0.0|                 0.2|                 0.0|                  0.2|                               0.0|                 0.0|         0.0|                  0.0|                0.0|                 0.0|                        0.0|                               0.0|\n",
      "|     301|       2024|          11|                 0.0|                                0.5|                             0.0|                 0.0|                 0.0|                 0.0|                  0.5|                               0.0|                 0.0|         0.0|                  0.0|                0.0|                 0.0|                        0.0|                               0.0|\n",
      "|     404|       2024|           7|0.027507547802750755|                 0.4163032539416303|             0.02432069775243207| 0.07614894330761489|  0.0358939953035894| 0.02432069775243207|  0.07933579335793357|               0.09090909090909091| 0.06658839315665883|         0.0|                  0.0|                0.0|0.027507547802750755|       0.051828245555182825|                               0.0|\n",
      "|     209|       2024|           9|                 0.0|                 0.6666666666666666|              0.3333333333333333|                 0.0|                 0.0|                 0.0|                  0.0|                               0.0|                 0.0|         0.0|                  0.0|                0.0|                 0.0|                        0.0|                               0.0|\n",
      "|     402|       2024|          10|                 1.0|                                0.0|                             0.0|                 0.0|                 0.0|                 0.0|                  0.0|                               0.0|                 0.0|         0.0|                  0.0|                0.0|                 0.0|                        0.0|                               0.0|\n",
      "|     404|       2024|          12|                 0.0|                 0.3158112582781457|             0.04428807947019867|  0.0347682119205298| 0.06167218543046358|0.030008278145695365|  0.03394039735099338|               0.08216059602649006| 0.06001655629139073|         0.0|  0.08216059602649006|                0.0| 0.16183774834437087|       0.014279801324503311|                               0.0|\n",
      "|     209|       2024|          12|                 0.0|                                0.0|                             0.0|                 1.0|                 0.0|                 0.0|                  0.0|                               0.0|                 0.0|         0.0|                  0.0|                0.0|                 0.0|                        0.0|                               0.0|\n",
      "|     304|       2024|           7|                 0.0|                                0.0|                             0.0|                 0.0|                 0.0|                 0.0|                  0.0|                               0.0|                 0.0|         0.0|                  0.0|                0.0|                 0.0|                        0.0|                               0.0|\n",
      "|     402|       2024|          11|  0.9517241379310345|                                0.0|                             0.0| 0.04827586206896552|                 0.0|                 0.0|                  0.0|                               0.0|                 0.0|         0.0|                  0.0|                0.0|                 0.0|                        0.0|                               0.0|\n",
      "|     405|       2024|          10|                 0.0|                                0.0|                             0.0|                 0.0|                 0.0|                 0.0|                  0.0|                               0.0|                 1.0|         0.0|                  0.0|                0.0|                 0.0|                        0.0|                               0.0|\n",
      "|     209|       2024|           7|                 0.0|                                0.8|                             0.2|                 0.0|                 0.0|                 0.0|                  0.0|                               0.0|                 0.0|         0.0|                  0.0|                0.0|                 0.0|                        0.0|                               0.0|\n",
      "|     212|       2024|          12|                 0.0|                                0.0|                             0.0|                 0.0|                 0.0|                 0.0|                  1.0|                               0.0|                 0.0|         0.0|                  0.0|                0.0|                 0.0|                        0.0|                               0.0|\n",
      "|     301|       2024|           6|                 0.0|                                0.0|             0.19230769230769232| 0.40384615384615385|                 0.0|                 0.0|                  0.0|                               0.0|                 0.0|         0.0|                  0.0|                0.0|                 0.0|                        0.0|                               0.0|\n",
      "|     301|       2024|           8|                 0.0|                 0.6176470588235294|                             0.0|                 0.0|                 0.0|                 0.0|                  0.0|                               0.0|                 0.0|         0.0|                  0.0|                0.0|                 0.0|                        0.0|               0.07352941176470588|\n",
      "|     301|       2024|           4|                 0.0|                                0.0|                         0.96875|                 0.0|                 0.0|                 0.0|                  0.0|                               0.0|                 0.0|         0.0|                  0.0|                0.0|                 0.0|                        0.0|                               0.0|\n",
      "|     306|       2024|          11|                 0.0|                 0.0902317880794702|              0.0902317880794702|  0.2706953642384106|  0.1804635761589404|                 0.0|  0.09768211920529801|                0.0902317880794702|                 0.0|         0.0|   0.0902317880794702|                0.0|                 0.0|                        0.0|                               0.0|\n",
      "|     402|       2024|           1|                 1.0|                                0.0|                             0.0|                 0.0|                 0.0|                 0.0|                  0.0|                               0.0|                 0.0|         0.0|                  0.0|                0.0|                 0.0|                        0.0|                               0.0|\n",
      "|     301|       2024|          10|                 0.0|                 0.1276595744680851|                             0.0| 0.44680851063829785|                 0.0|                 0.0|                  0.0|                               0.0|                 0.0|         0.0|                  0.0|                0.0|                 0.0|                        0.0|                 0.425531914893617|\n",
      "|     405|       2024|           2|                 0.0|                                0.0|                             0.0|                 0.0|                 0.0|                 0.0|                  0.0|                               0.0|                 0.0|         0.0|                  0.0|                1.0|                 0.0|                        0.0|                               0.0|\n",
      "|     405|       2024|           4|                 0.0|                                0.0|                             0.0|                 0.0|                 0.0|                 0.0|                  0.0|                               0.0|                 1.0|         0.0|                  0.0|                0.0|                 0.0|                        0.0|                               0.0|\n",
      "|     209|       2024|           4|                 0.0|                 0.6666666666666666|                             0.0|                 0.0| 0.16666666666666666|                 0.0|                  0.0|                               0.0|                 0.0|         0.0|                  0.0|                0.0|                 0.0|        0.16666666666666666|                               0.0|\n",
      "|     212|       2024|           9|                 0.0|                                0.0|                             0.0|                 0.0|                 0.0|                 0.0|                  0.0|                               0.0|                 0.0|         0.0|                  0.0|                0.0|                 0.0|                        0.0|                               0.0|\n",
      "|     404|       2024|           4|                 0.0|                 0.3092207389009624|             0.20738900962434026| 0.05091586463831108| 0.09593294008072027|                 0.0|  0.12325364793542379|               0.05091586463831108| 0.14095001552312947|         0.0|                  0.0|                0.0|0.021421918658801616|                        0.0|                               0.0|\n",
      "|     301|       2024|           7|                 0.0|                                0.0|                             0.0|  0.9767441860465116|                 0.0|                 0.0|                  0.0|                               0.0|                 0.0|         0.0|                  0.0|                0.0|                 0.0|                        0.0|                               0.0|\n",
      "|     404|       2024|          10|                 0.0|                 0.4733893557422969|             0.11077158135981666| 0.05933282403870639|0.041762159409218236|                 0.0|                  0.0|                0.1525337407690349|0.041762159409218236|         0.0|                  0.0|                0.0|                 0.0|                        0.0|              0.041762159409218236|\n",
      "|     306|       2024|           9|                 0.0|                                0.4|                             0.0|                 0.5|                 0.0|                 0.0|                  0.0|                               0.1|                 0.0|         0.0|                  0.0|                0.0|                 0.0|                        0.0|                               0.0|\n",
      "|     404|       2024|           2|0.016974169741697416|                 0.5567035670356704|             0.12865928659286593| 0.07601476014760147|                 0.0|                 0.0|                  0.0|               0.05731857318573186| 0.04034440344403444|         0.0|  0.03567035670356704|                0.0|0.016974169741697416|                        0.0|                               0.0|\n",
      "|     306|       2024|           1|                 0.0|                                0.0|                             0.0| 0.09090909090909091| 0.09090909090909091|                 0.0|                  0.0|               0.09090909090909091|                 0.0|         0.0|   0.5454545454545454|                0.0| 0.09090909090909091|                        0.0|                               0.0|\n",
      "|     209|       2024|           2|                 0.0|                                0.0|                             0.5|                 0.0|                 0.0|                 0.0|                  0.0|                               0.0|                 0.0|         0.0|                  0.0|                0.0|                 0.0|                        0.0|                               0.0|\n",
      "|     209|       2024|           8|                 0.0|                               0.25|                            0.25|                 0.0|                 0.0|                 0.0|                  0.0|                               0.0|                 0.0|         0.0|                 0.25|               0.25|                 0.0|                        0.0|                               0.0|\n",
      "|     405|       2024|           3|                 0.0|                                0.0|                             0.0|                 0.0|                 0.0|                 0.0|                  0.0|                               0.0|                 0.0|         0.0|                  0.0|                0.0|                 0.0|                        0.0|                               0.0|\n",
      "|     301|       2024|          12|                 0.0|                                0.0|                             0.0|              0.5625|                 0.0|                 0.0|                  0.0|                               0.0|                 0.0|         0.0|                  0.0|                0.0|                 0.0|                        0.0|                            0.4375|\n",
      "|     402|       2024|           5|  0.9552715654952076|                                0.0|                             0.0|                 0.0|0.011182108626198083|                 0.0| 0.011182108626198083|                               0.0|                 0.0|         0.0| 0.011182108626198083|                0.0|                 0.0|       0.011182108626198083|                               0.0|\n",
      "|     306|       2024|           5|  0.1111111111111111|                 0.1111111111111111|              0.3333333333333333|  0.1111111111111111|                 0.0|                 0.0|                  0.0|                               0.0|                 0.0|         0.0|   0.2222222222222222|                0.0|                 0.0|         0.1111111111111111|                               0.0|\n",
      "|     306|       2024|           4|                 0.0|                                0.4|                             0.0|                 0.2|                 0.0|                 0.0|                  0.2|                               0.2|                 0.0|         0.0|                  0.0|                0.0|                 0.0|                        0.0|                               0.0|\n",
      "|     306|       2024|          10|                 0.0|                0.47058823529411764|            0.058823529411764705| 0.11764705882352941|                 0.0|                 0.0|  0.11764705882352941|                               0.0|0.058823529411764705|         0.0|  0.11764705882352941|                0.0|                 0.0|                        0.0|                               0.0|\n",
      "|     405|       2024|           6|                 0.0|                                0.0|                             0.0|                 0.5|                 0.0|                 0.0|                  0.0|                               0.0|                 0.0|         0.0|                  0.0|                0.0|                 0.0|                        0.0|                               0.0|\n",
      "|     209|       2024|          11|                 0.0|                                1.0|                             0.0|                 0.0|                 0.0|                 0.0|                  0.0|                               0.0|                 0.0|         0.0|                  0.0|                0.0|                 0.0|                        0.0|                               0.0|\n",
      "|     306|       2024|          12|                 0.0|                0.45454545454545453|                             0.0| 0.09090909090909091|                 0.0| 0.09090909090909091|                  0.0|                               0.0|                 0.0|         0.0|  0.18181818181818182|0.09090909090909091| 0.09090909090909091|                        0.0|                               0.0|\n",
      "+--------+-----------+------------+--------------------+-----------------------------------+--------------------------------+--------------------+--------------------+--------------------+---------------------+----------------------------------+--------------------+------------+---------------------+-------------------+--------------------+---------------------------+----------------------------------+\n",
      "only showing top 50 rows\n",
      "\n"
     ]
    }
   ],
   "source": [
    "from pyspark.sql.functions import when, avg, count\n",
    "\n",
    "agg_exprs = [\n",
    "    avg(when(col(\"OFNS_DESC\") == offense, 1).otherwise(0)).alias(f\"pct_{offense.lower().replace(' ', '_')}\")\n",
    "    for offense in top_offenses\n",
    "]\n",
    "\n",
    "agg_offense_df = nyc_file.groupBy(\"District\", \"ARREST_YEAR\", \"ARREST_MONTH\").agg(*agg_exprs)\n",
    "\n",
    "agg_offense_df.show(50)\n"
   ]
  },
  {
   "cell_type": "code",
   "execution_count": 2,
   "metadata": {},
   "outputs": [
    {
     "name": "stderr",
     "output_type": "stream",
     "text": [
      "25/06/19 17:50:47 WARN SparkStringUtils: Truncated the string representation of a plan since it was too large. This behavior can be adjusted by setting 'spark.sql.debug.maxToStringFields'.\n",
      "[Stage 4:>                                                          (0 + 1) / 1]\r"
     ]
    },
    {
     "name": "stdout",
     "output_type": "stream",
     "text": [
      "+--------+------------+-----+-----+-----+--------+--------+--------+--------+--------+--------+-----+-----+-----+-----+-----+-----+--------------+----------------+-----------+-----+--------------------+-------------+----------+-----------+---------+--------+--------------+------------------+------------------+--------------------+--------------+----------+----------------------------+-----------------+-----------------+--------------------+-----------------+------------------+--------------------+--------------------+--------------------------------+-------------------+-------------------+--------------------+---------------------------+----------------------------+-----------------------------------+--------------------+----------------------------------+-------------------+---------------------+----------------------------------+--------------------+--------------------+-------------------+\n",
      "|district|ARREST_MONTH|R_avg|G_avg|B_avg|R_stddev|G_stddev|B_stddev|R_median|G_median|B_median|R_q25|G_q25|B_q25|R_q75|G_q75|B_q75|brightness_avg|dark_pixel_ratio|ARREST_DATE|PD_CD|             PD_DESC|    OFNS_DESC|LAW_CAT_CD|ARREST_BORO|AGE_GROUP|PERP_SEX|     PERP_RACE|          Latitude|         Longitude|                geom|ARREST_DATE_DT|ARREST_DAY|total_quantity_crime_in_dist|           mean_M|           mean_F|       pct_age_18_24|    pct_age_25_44|     pct_age_45_64|         pct_age_<18|     pct_age_65_plus|pct_assault_3_&_related_offenses|  pct_petit_larceny| pct_felony_assault| pct_dangerous_drugs|pct_miscellaneous_penal_law|pct_vehicle_and_traffic_laws|pct_other_offenses_related_to_theft|         pct_robbery|pct_criminal_mischief_&_related_of|  pct_grand_larceny|pct_dangerous_weapons|pct_offenses_against_public_admini|        pct_burglary|      pct_sex_crimes|        pct_forgery|\n",
      "+--------+------------+-----+-----+-----+--------+--------+--------+--------+--------+--------+-----+-----+-----+-----+-----+-----+--------------+----------------+-----------+-----+--------------------+-------------+----------+-----------+---------+--------+--------------+------------------+------------------+--------------------+--------------+----------+----------------------------+-----------------+-----------------+--------------------+-----------------+------------------+--------------------+--------------------+--------------------------------+-------------------+-------------------+--------------------+---------------------------+----------------------------+-----------------------------------+--------------------+----------------------------------+-------------------+---------------------+----------------------------------+--------------------+--------------------+-------------------+\n",
      "|     101|           7| NULL| NULL| NULL|    NULL|    NULL|    NULL|    NULL|    NULL|    NULL| NULL| NULL| NULL| NULL| NULL| NULL|          NULL|            NULL| 07/12/2024|  729|FORGERY,ETC.,UNCL...|      FORGERY|         F|          M|    25-44|       M|         BLACK| 40.72055728841594|-74.00351016018516|POINT (-74.003510...|    2024-07-12|        12|                         371|0.851280834914611|0.148719165085389|0.017992680943345142|0.030740037950663|0.2215370018975332|0.018975332068311195|0.018738140417457305|             0.07277628032345014|0.18598382749326145|0.03773584905660377|0.029649595687331536|       0.029649595687331536|        0.018867924528301886|               0.029649595687331536|0.018867924528301886|               0.07008086253369272|0.06199460916442048| 0.016172506738544475|                0.0646900269541779|0.013477088948787063|0.029649595687331536|0.15363881401617252|\n",
      "|     101|           7| NULL| NULL| NULL|    NULL|    NULL|    NULL|    NULL|    NULL|    NULL| NULL| NULL| NULL| NULL| NULL| NULL|          NULL|            NULL| 07/09/2024|  729|FORGERY,ETC.,UNCL...|      FORGERY|         F|          M|    25-44|       M|         BLACK| 40.71843015224279|-74.00053029504515|POINT (-74.000530...|    2024-07-09|         9|                         371|0.851280834914611|0.148719165085389|0.017992680943345142|0.030740037950663|0.2215370018975332|0.018975332068311195|0.018738140417457305|             0.07277628032345014|0.18598382749326145|0.03773584905660377|0.029649595687331536|       0.029649595687331536|        0.018867924528301886|               0.029649595687331536|0.018867924528301886|               0.07008086253369272|0.06199460916442048| 0.016172506738544475|                0.0646900269541779|0.013477088948787063|0.029649595687331536|0.15363881401617252|\n",
      "|     101|           7| NULL| NULL| NULL|    NULL|    NULL|    NULL|    NULL|    NULL|    NULL| NULL| NULL| NULL| NULL| NULL| NULL|          NULL|            NULL| 07/04/2024|  729|FORGERY,ETC.,UNCL...|      FORGERY|         F|          M|    45-64|       M|         BLACK|  40.7193962934139| -74.0018831158253|POINT (-74.001883...|    2024-07-04|         4|                         371|0.851280834914611|0.148719165085389|0.017992680943345142|0.030740037950663|0.2215370018975332|0.018975332068311195|0.018738140417457305|             0.07277628032345014|0.18598382749326145|0.03773584905660377|0.029649595687331536|       0.029649595687331536|        0.018867924528301886|               0.029649595687331536|0.018867924528301886|               0.07008086253369272|0.06199460916442048| 0.016172506738544475|                0.0646900269541779|0.013477088948787063|0.029649595687331536|0.15363881401617252|\n",
      "|     101|           7| NULL| NULL| NULL|    NULL|    NULL|    NULL|    NULL|    NULL|    NULL| NULL| NULL| NULL| NULL| NULL| NULL|          NULL|            NULL| 07/12/2024|  729|FORGERY,ETC.,UNCL...|      FORGERY|         F|          M|    18-24|       M|         BLACK|40.718018439490294|-73.99995671087598|POINT (-73.999956...|    2024-07-12|        12|                         371|0.851280834914611|0.148719165085389|0.017992680943345142|0.030740037950663|0.2215370018975332|0.018975332068311195|0.018738140417457305|             0.07277628032345014|0.18598382749326145|0.03773584905660377|0.029649595687331536|       0.029649595687331536|        0.018867924528301886|               0.029649595687331536|0.018867924528301886|               0.07008086253369272|0.06199460916442048| 0.016172506738544475|                0.0646900269541779|0.013477088948787063|0.029649595687331536|0.15363881401617252|\n",
      "|     101|           7| NULL| NULL| NULL|    NULL|    NULL|    NULL|    NULL|    NULL|    NULL| NULL| NULL| NULL| NULL| NULL| NULL|          NULL|            NULL| 07/02/2024|  439|LARCENY,GRAND FRO...|GRAND LARCENY|         F|          M|      <18|       M|BLACK HISPANIC|         40.715912|        -74.010103|POINT (-74.010103...|    2024-07-02|         2|                         371|0.851280834914611|0.148719165085389|0.017992680943345142|0.030740037950663|0.2215370018975332|0.018975332068311195|0.018738140417457305|             0.07277628032345014|0.18598382749326145|0.03773584905660377|0.029649595687331536|       0.029649595687331536|        0.018867924528301886|               0.029649595687331536|0.018867924528301886|               0.07008086253369272|0.06199460916442048| 0.016172506738544475|                0.0646900269541779|0.013477088948787063|0.029649595687331536|0.15363881401617252|\n",
      "+--------+------------+-----+-----+-----+--------+--------+--------+--------+--------+--------+-----+-----+-----+-----+-----+-----+--------------+----------------+-----------+-----+--------------------+-------------+----------+-----------+---------+--------+--------------+------------------+------------------+--------------------+--------------+----------+----------------------------+-----------------+-----------------+--------------------+-----------------+------------------+--------------------+--------------------+--------------------------------+-------------------+-------------------+--------------------+---------------------------+----------------------------+-----------------------------------+--------------------+----------------------------------+-------------------+---------------------+----------------------------------+--------------------+--------------------+-------------------+\n",
      "only showing top 5 rows\n",
      "\n"
     ]
    },
    {
     "name": "stderr",
     "output_type": "stream",
     "text": [
      "                                                                                \r"
     ]
    }
   ],
   "source": [
    "p = spark.read.parquet(f\"{path_data}/df_full.parquet\")\n",
    "p.show(5)"
   ]
  },
  {
   "cell_type": "code",
   "execution_count": 3,
   "metadata": {},
   "outputs": [
    {
     "data": {
      "text/plain": [
       "['district',\n",
       " 'ARREST_MONTH',\n",
       " 'R_avg',\n",
       " 'G_avg',\n",
       " 'B_avg',\n",
       " 'R_stddev',\n",
       " 'G_stddev',\n",
       " 'B_stddev',\n",
       " 'R_median',\n",
       " 'G_median',\n",
       " 'B_median',\n",
       " 'R_q25',\n",
       " 'G_q25',\n",
       " 'B_q25',\n",
       " 'R_q75',\n",
       " 'G_q75',\n",
       " 'B_q75',\n",
       " 'brightness_avg',\n",
       " 'dark_pixel_ratio',\n",
       " 'ARREST_DATE',\n",
       " 'PD_CD',\n",
       " 'PD_DESC',\n",
       " 'OFNS_DESC',\n",
       " 'LAW_CAT_CD',\n",
       " 'ARREST_BORO',\n",
       " 'AGE_GROUP',\n",
       " 'PERP_SEX',\n",
       " 'PERP_RACE',\n",
       " 'Latitude',\n",
       " 'Longitude',\n",
       " 'geom',\n",
       " 'ARREST_DATE_DT',\n",
       " 'ARREST_DAY',\n",
       " 'total_quantity_crime_in_dist',\n",
       " 'mean_M',\n",
       " 'mean_F',\n",
       " 'pct_age_18_24',\n",
       " 'pct_age_25_44',\n",
       " 'pct_age_45_64',\n",
       " 'pct_age_<18',\n",
       " 'pct_age_65_plus',\n",
       " 'pct_assault_3_&_related_offenses',\n",
       " 'pct_petit_larceny',\n",
       " 'pct_felony_assault',\n",
       " 'pct_dangerous_drugs',\n",
       " 'pct_miscellaneous_penal_law',\n",
       " 'pct_vehicle_and_traffic_laws',\n",
       " 'pct_other_offenses_related_to_theft',\n",
       " 'pct_robbery',\n",
       " 'pct_criminal_mischief_&_related_of',\n",
       " 'pct_grand_larceny',\n",
       " 'pct_dangerous_weapons',\n",
       " 'pct_offenses_against_public_admini',\n",
       " 'pct_burglary',\n",
       " 'pct_sex_crimes',\n",
       " 'pct_forgery']"
      ]
     },
     "execution_count": 3,
     "metadata": {},
     "output_type": "execute_result"
    }
   ],
   "source": [
    "p.columns"
   ]
  },
  {
   "cell_type": "code",
   "execution_count": 4,
   "metadata": {},
   "outputs": [
    {
     "name": "stderr",
     "output_type": "stream",
     "text": [
      "                                                                                \r"
     ]
    }
   ],
   "source": [
    "agg_df = p.groupBy(\"district\", \"ARREST_MONTH\").agg(\n",
    "    F.count(\"*\").alias(\"total_quantity_crime_in_dist\"),\n",
    "    F.avg(\"R_avg\").alias(\"avg_R_avg\"),\n",
    "    F.avg(\"G_avg\").alias(\"avg_G_avg\"),\n",
    "    F.avg(\"B_avg\").alias(\"avg_B_avg\"),\n",
    "    F.avg(\"R_stddev\").alias(\"avg_R_stddev\"),\n",
    "    F.avg(\"G_stddev\").alias(\"avg_G_stddev\"),\n",
    "    F.avg(\"B_stddev\").alias(\"avg_B_stddev\"),\n",
    "    F.avg(\"R_median\").alias(\"avg_R_median\"),\n",
    "    F.avg(\"G_median\").alias(\"avg_G_median\"),\n",
    "    F.avg(\"B_median\").alias(\"avg_B_median\"),\n",
    "    F.avg(\"R_q25\").alias(\"avg_R_q25\"),\n",
    "    F.avg(\"G_q25\").alias(\"avg_G_q25\"),\n",
    "    F.avg(\"B_q25\").alias(\"avg_B_q25\"),\n",
    "    F.avg(\"R_q75\").alias(\"avg_R_q75\"),\n",
    "    F.avg(\"G_q75\").alias(\"avg_G_q75\"),\n",
    "    F.avg(\"B_q75\").alias(\"avg_B_q75\"),\n",
    "    F.avg(\"brightness_avg\").alias(\"avg_brightness\"),\n",
    "    F.avg(\"dark_pixel_ratio\").alias(\"avg_dark_pixel_ratio\"),\n",
    "    F.avg(\"ARREST_DAY\").alias(\"avg_ARREST_DAY\"),\n",
    "    F.avg(\"mean_M\").alias(\"avg_mean_M\"),\n",
    "    F.avg(\"mean_F\").alias(\"avg_mean_F\"),\n",
    "    F.avg(\"pct_age_18_24\").alias(\"avg_pct_age_18_24\"),\n",
    "    F.avg(\"pct_age_25_44\").alias(\"avg_pct_age_25_44\"),\n",
    "    F.avg(\"pct_age_45_64\").alias(\"avg_pct_age_45_64\"),\n",
    "    F.avg(\"pct_age_<18\").alias(\"avg_pct_age_<18\"),\n",
    "    F.avg(\"pct_age_65_plus\").alias(\"avg_pct_age_65_plus\"),\n",
    "    F.avg(\"pct_assault_3_&_related_offenses\").alias(\"avg_pct_assault_3_&_related_offenses\"),\n",
    "    F.avg(\"pct_petit_larceny\").alias(\"avg_pct_petit_larceny\"),\n",
    "    F.avg(\"pct_felony_assault\").alias(\"avg_pct_felony_assault\"),\n",
    "    F.avg(\"pct_dangerous_drugs\").alias(\"avg_pct_dangerous_drugs\"),\n",
    "    F.avg(\"pct_miscellaneous_penal_law\").alias(\"avg_pct_miscellaneous_penal_law\"),\n",
    "    F.avg(\"pct_vehicle_and_traffic_laws\").alias(\"avg_pct_vehicle_and_traffic_laws\"),\n",
    "    F.avg(\"pct_other_offenses_related_to_theft\").alias(\"avg_pct_other_offenses_related_to_theft\"),\n",
    "    F.avg(\"pct_robbery\").alias(\"avg_pct_robbery\"),\n",
    "    F.avg(\"pct_criminal_mischief_&_related_of\").alias(\"avg_pct_criminal_mischief_&_related_of\"),\n",
    "    F.avg(\"pct_grand_larceny\").alias(\"avg_pct_grand_larceny\"),\n",
    "    F.avg(\"pct_dangerous_weapons\").alias(\"avg_pct_dangerous_weapons\"),\n",
    "    F.avg(\"pct_offenses_against_public_admini\").alias(\"avg_pct_offenses_against_public_admini\"),\n",
    "    F.avg(\"pct_burglary\").alias(\"avg_pct_burglary\"),\n",
    "    F.avg(\"pct_sex_crimes\").alias(\"avg_pct_sex_crimes\"),\n",
    "    F.avg(\"pct_forgery\").alias(\"avg_pct_forgery\")\n",
    ")\n",
    "\n",
    "agg_df.write.mode(\"overwrite\").parquet(f\"{path_data}/nyc.parquet\")\n"
   ]
  },
  {
   "cell_type": "code",
   "execution_count": null,
   "metadata": {},
   "outputs": [],
   "source": []
  },
  {
   "cell_type": "code",
   "execution_count": 6,
   "metadata": {},
   "outputs": [
    {
     "name": "stdout",
     "output_type": "stream",
     "text": [
      "+--------+------------+----------------------------+------------------+------------------+------------------+-----------------+-----------------+-----------------+------------+------------+------------+---------+---------+---------+---------+---------+---------+------------------+--------------------+------------------+------------------+-------------------+--------------------+--------------------+-------------------+--------------------+--------------------+------------------------------------+---------------------+----------------------+-----------------------+-------------------------------+--------------------------------+---------------------------------------+--------------------+--------------------------------------+---------------------+-------------------------+--------------------------------------+--------------------+--------------------+--------------------+\n",
      "|district|ARREST_MONTH|total_quantity_crime_in_dist|         avg_R_avg|         avg_G_avg|         avg_B_avg|     avg_R_stddev|     avg_G_stddev|     avg_B_stddev|avg_R_median|avg_G_median|avg_B_median|avg_R_q25|avg_G_q25|avg_B_q25|avg_R_q75|avg_G_q75|avg_B_q75|    avg_brightness|avg_dark_pixel_ratio|    avg_ARREST_DAY|        avg_mean_M|         avg_mean_F|   avg_pct_age_18_24|   avg_pct_age_25_44|  avg_pct_age_45_64|     avg_pct_age_<18| avg_pct_age_65_plus|avg_pct_assault_3_&_related_offenses|avg_pct_petit_larceny|avg_pct_felony_assault|avg_pct_dangerous_drugs|avg_pct_miscellaneous_penal_law|avg_pct_vehicle_and_traffic_laws|avg_pct_other_offenses_related_to_theft|     avg_pct_robbery|avg_pct_criminal_mischief_&_related_of|avg_pct_grand_larceny|avg_pct_dangerous_weapons|avg_pct_offenses_against_public_admini|    avg_pct_burglary|  avg_pct_sex_crimes|     avg_pct_forgery|\n",
      "+--------+------------+----------------------------+------------------+------------------+------------------+-----------------+-----------------+-----------------+------------+------------+------------+---------+---------+---------+---------+---------+---------+------------------+--------------------+------------------+------------------+-------------------+--------------------+--------------------+-------------------+--------------------+--------------------+------------------------------------+---------------------+----------------------+-----------------------+-------------------------------+--------------------------------+---------------------------------------+--------------------+--------------------------------------+---------------------+-------------------------+--------------------------------------+--------------------+--------------------+--------------------+\n",
      "|     105|           9|                         828|              NULL|              NULL|              NULL|             NULL|             NULL|             NULL|        NULL|        NULL|        NULL|     NULL|     NULL|     NULL|     NULL|     NULL|     NULL|              NULL|                NULL|15.403381642512077|0.8415791257200852|0.15842087427990822|0.024337996804957105|0.029388342934602407| 0.1972212809217234|0.024313791934936886|0.020332090816672685|                 0.07367149758454151|   0.2717391304347815|  0.035024154589372296|    0.09178743961352617|             0.0120772946859903|            0.016908212560386226|                     0.1074879227053161| 0.01570048309178762|                   0.03864734299516924|  0.07246376811594321|     0.030193236714975532|                   0.03140096618357524|0.026570048309178487|                 0.0| 0.08695652173913059|\n",
      "|     110|           4|                         431|              NULL|              NULL|              NULL|             NULL|             NULL|             NULL|        NULL|        NULL|        NULL|     NULL|     NULL|     NULL|     NULL|     NULL|     NULL|              NULL|                NULL|14.844547563805104|0.7889201877934308|0.21107981220657335|0.020415828303152136| 0.02823474178403762|0.23173708920187602| 0.04244131455399044|0.018215962441314685|                 0.16009280742459495|  0.16009280742459495|   0.12761020881670507|     0.0672853828306261|           0.053364269141531424|             0.02088167053364273|                    0.03248259860788852| 0.05104408352668239|                  0.037122969837586756| 0.027842227378190497|      0.03944315545243652|                   0.03016241299303954|0.055684454756380994|0.013921113689095248|0.018561484918793378|\n",
      "|     112|           3|                         452|              NULL|              NULL|              NULL|             NULL|             NULL|             NULL|        NULL|        NULL|        NULL|     NULL|     NULL|     NULL|     NULL|     NULL|     NULL|              NULL|                NULL| 16.36283185840708| 0.844139869970134| 0.1558601300298712|0.026959861435348897|0.031215955016694222|0.15463011772975058|0.021788789316464722|0.010542962572482825|                 0.14601769911504353|  0.03761061946902642|   0.08185840707964619|    0.09513274336283213|           0.055309734513273826|             0.09292035398230071|                   0.015486725663716786| 0.05752212389380505|                  0.044247787610619156|  0.07743362831858423|      0.04203539823008854|                  0.030973451327433572|0.015486725663716786| 0.01769911504424759|0.015486725663716786|\n",
      "|     208|           3|                          96| 152.9866630375614|131.67827980402816| 97.44284158954827|68.99806921009169|79.31028871931194|97.00806001179082|       136.0|       102.0|        47.0|     95.0|     68.0|     22.0|    233.0|    224.0|    219.0|127.36926147704612|  0.1434403919433861|          15.46875|0.8023088023088012| 0.1976911976911978|0.028860028860028922|0.029256854256854165| 0.1544011544011546| 0.03679653679653682|0.021645021645021675|                                0.25|  0.10416666666666664|                 0.125|                    0.0|                        0.03125|             0.08333333333333322|                                    0.0|0.020833333333333304|                   0.04166666666666661|                  0.0|                      0.0|                   0.04166666666666661|              0.0625|0.010416666666666652|                 0.0|\n",
      "|     316|           5|                         503|187.75979112271628|160.21279373368176|116.34377719756404|49.21651455166897|66.75799523407471|94.71986609290137|       174.0|       135.0|        71.0|    145.0|    104.0|     36.0|    253.0|    253.0|    252.0| 154.7721206846531|8.703220191470923E-4|15.483101391650099|0.8253771073646763|0.17462289263531366|0.022132082646722995|   0.029671694764863| 0.1973380656610465| 0.04241348713398426|0.011889973380656713|                 0.12326043737574649|  0.03180914512922495|    0.0815109343936386|    0.07753479125248497|           0.059642147117295485|             0.04373757455268387|                    0.07554671968190912|0.029821073558647743|                   0.07355864811133249| 0.013916500994035682|      0.13121272365805217|                   0.04970178926441363|0.013916500994035682|0.011928429423459336|0.011928429423459336|\n",
      "+--------+------------+----------------------------+------------------+------------------+------------------+-----------------+-----------------+-----------------+------------+------------+------------+---------+---------+---------+---------+---------+---------+------------------+--------------------+------------------+------------------+-------------------+--------------------+--------------------+-------------------+--------------------+--------------------+------------------------------------+---------------------+----------------------+-----------------------+-------------------------------+--------------------------------+---------------------------------------+--------------------+--------------------------------------+---------------------+-------------------------+--------------------------------------+--------------------+--------------------+--------------------+\n",
      "only showing top 5 rows\n",
      "\n"
     ]
    }
   ],
   "source": [
    "agg_df.show(5)"
   ]
  },
  {
   "cell_type": "code",
   "execution_count": null,
   "metadata": {},
   "outputs": [],
   "source": [
    "\n",
    "offense_counts = nyc_file.groupBy(\"District\", \"ARREST_YEAR\", \"ARREST_MONTH\", \"OFNS_DESC\") \\\n",
    "    .agg(count(\"*\").alias(\"crime_count\"))\n"
   ]
  },
  {
   "cell_type": "code",
   "execution_count": 7,
   "metadata": {},
   "outputs": [
    {
     "name": "stdout",
     "output_type": "stream",
     "text": [
      "+--------+-----------+------------+--------------------+-----------+\n",
      "|District|ARREST_YEAR|ARREST_MONTH|           OFNS_DESC|crime_count|\n",
      "+--------+-----------+------------+--------------------+-----------+\n",
      "|     404|       2024|           8|            BURGLARY|          4|\n",
      "|     403|       2024|           3|CRIMINAL MISCHIEF...|          6|\n",
      "|     402|       2024|          12|      FELONY ASSAULT|          7|\n",
      "|     404|       2024|           6|    OTHER STATE LAWS|        164|\n",
      "|     306|       2024|           8|OFFENSES INVOLVIN...|        109|\n",
      "|     306|       2024|           9|OFFENSES AGAINST ...|        109|\n",
      "|     402|       2024|           6|       PETIT LARCENY|        290|\n",
      "|     301|       2024|           5|OTHER OFFENSES RE...|          6|\n",
      "|     306|       2024|           5|OTHER OFFENSES RE...|        109|\n",
      "|     402|       2024|           4|POSSESSION OF STO...|          7|\n",
      "+--------+-----------+------------+--------------------+-----------+\n",
      "only showing top 10 rows\n",
      "\n"
     ]
    }
   ],
   "source": [
    "offense_counts.show(10)"
   ]
  },
  {
   "cell_type": "code",
   "execution_count": 10,
   "metadata": {},
   "outputs": [
    {
     "name": "stdout",
     "output_type": "stream",
     "text": [
      "+--------+-----------+------------+------------+\n",
      "|District|ARREST_YEAR|ARREST_MONTH|total_crimes|\n",
      "+--------+-----------+------------+------------+\n",
      "|     402|       2024|           7|         421|\n",
      "|     403|       2024|           3|           9|\n",
      "|     306|       2024|           2|         655|\n",
      "|     212|       2024|           4|          13|\n",
      "|     212|       2024|           2|           8|\n",
      "|     306|       2024|           3|         981|\n",
      "|     404|       2024|           3|        5820|\n",
      "|     404|       2024|           9|        2055|\n",
      "|     402|       2024|           9|           4|\n",
      "|     209|       2024|          10|         176|\n",
      "+--------+-----------+------------+------------+\n",
      "only showing top 10 rows\n",
      "\n"
     ]
    }
   ],
   "source": [
    "total_counts = nyc_file.groupBy(\"District\", \"ARREST_YEAR\", \"ARREST_MONTH\") \\\n",
    "    .agg(count(\"*\").alias(\"total_crimes\"))\n",
    "total_counts.show(10)"
   ]
  },
  {
   "cell_type": "code",
   "execution_count": 11,
   "metadata": {},
   "outputs": [
    {
     "name": "stdout",
     "output_type": "stream",
     "text": [
      "+--------+-----------+------------+--------------------+-----------+------------+\n",
      "|District|ARREST_YEAR|ARREST_MONTH|           OFNS_DESC|crime_count|total_crimes|\n",
      "+--------+-----------+------------+--------------------+-----------+------------+\n",
      "|     404|       2024|           8|            BURGLARY|          4|        4672|\n",
      "|     403|       2024|           3|CRIMINAL MISCHIEF...|          6|           9|\n",
      "|     402|       2024|          12|      FELONY ASSAULT|          7|          21|\n",
      "|     404|       2024|           6|    OTHER STATE LAWS|        164|        7253|\n",
      "|     306|       2024|           8|OFFENSES INVOLVIN...|        109|         654|\n",
      "|     306|       2024|           9|OFFENSES AGAINST ...|        109|        1090|\n",
      "|     402|       2024|           6|       PETIT LARCENY|        290|         290|\n",
      "|     301|       2024|           5|OTHER OFFENSES RE...|          6|         111|\n",
      "|     306|       2024|           5|OTHER OFFENSES RE...|        109|         981|\n",
      "|     402|       2024|           4|POSSESSION OF STO...|          7|         237|\n",
      "+--------+-----------+------------+--------------------+-----------+------------+\n",
      "only showing top 10 rows\n",
      "\n"
     ]
    }
   ],
   "source": [
    "offense_with_total = offense_counts.join(\n",
    "    total_counts,\n",
    "    on=[\"District\", \"ARREST_YEAR\", \"ARREST_MONTH\"],\n",
    "    how=\"left\"\n",
    ")\n",
    "offense_with_total.show(10)"
   ]
  },
  {
   "cell_type": "code",
   "execution_count": null,
   "metadata": {},
   "outputs": [],
   "source": []
  },
  {
   "cell_type": "code",
   "execution_count": null,
   "metadata": {},
   "outputs": [
    {
     "data": {
      "text/plain": [
       "115"
      ]
     },
     "execution_count": 33,
     "metadata": {},
     "output_type": "execute_result"
    }
   ],
   "source": [
    "nyc_file.select(\"ARREST_MONTH\", \"District\").distinct().count()"
   ]
  },
  {
   "cell_type": "code",
   "execution_count": 22,
   "metadata": {},
   "outputs": [
    {
     "name": "stdout",
     "output_type": "stream",
     "text": [
      "+--------+--------+\n",
      "|count(1)|District|\n",
      "+--------+--------+\n",
      "|      93|     212|\n",
      "|    2228|     402|\n",
      "|    1936|     209|\n",
      "|      36|     405|\n",
      "|       1|     304|\n",
      "|   52788|     404|\n",
      "|       9|     403|\n",
      "|     534|     301|\n",
      "|   11891|     306|\n",
      "|      10|     205|\n",
      "|   14400|     303|\n",
      "|       1|     305|\n",
      "|   98301|     302|\n",
      "|       1|     314|\n",
      "|      25|     313|\n",
      "|       1|     315|\n",
      "|     144|     312|\n",
      "|       1|     409|\n",
      "|       1|     311|\n",
      "+--------+--------+\n",
      "\n"
     ]
    }
   ],
   "source": [
    "nyc_file.createOrReplaceTempView(\"nyc_file\")\n",
    "\n",
    "n = spark.sql(\"\"\"\n",
    "    select\n",
    "        count(*), \n",
    "        District \n",
    "    from nyc_file\n",
    "               group by District\n",
    "\"\"\")\n",
    "n.show(100)"
   ]
  },
  {
   "cell_type": "code",
   "execution_count": 5,
   "metadata": {},
   "outputs": [
    {
     "name": "stderr",
     "output_type": "stream",
     "text": [
      "                                                                                \r"
     ]
    },
    {
     "name": "stdout",
     "output_type": "stream",
     "text": [
      "+--------------------+----+-------+--------+----------+--------+-----------------+------------+---------------+----------------+-----------+--------------------+----------------+-------------+\n",
      "|            the_geom|NAME|    BIN|DOITT_ID|  BASE_BBL|OBJECTID|Construction Year|Feature Code|Geometry Source|Ground Elevation|Height Roof|    LAST_EDITED_DATE|LAST_STATUS_TYPE|Map Pluto BBL|\n",
      "+--------------------+----+-------+--------+----------+--------+-----------------+------------+---------------+----------------+-----------+--------------------+----------------+-------------+\n",
      "|POINT (-73.946696...|NULL|3032417|  672968|3012560076| 1026585|             1910|        2100|Photogrammetric|              97|      25.87|01/28/2020 05:16:...|     Constructed|   3012560076|\n",
      "|POINT (-73.821842...|NULL|4140548|  328604|4064170022|  807856|             1940|        2100|Photogrammetric|              46|      27.03|08/22/2017 07:31:...|     Constructed|   4064170022|\n",
      "|POINT (-73.815321...|NULL|4481285|  909628|4045040044|  395837|             1935|        5110|Photogrammetric|              79|      12.42|08/17/2017 04:19:...|     Constructed|   4045040044|\n",
      "|POINT (-74.121092...|NULL|5156295|  499359|5002210040|  617587|             1920|        5110|Photogrammetric|              50|      11.44|08/17/2017 04:43:...|     Constructed|   5002210040|\n",
      "|POINT (-73.720577...|NULL|4174700|  151224|4085710041|  647287|             1955|        2100|Photogrammetric|             104|  23.086432|08/22/2017 05:41:...|     Constructed|   4085710041|\n",
      "+--------------------+----+-------+--------+----------+--------+-----------------+------------+---------------+----------------+-----------+--------------------+----------------+-------------+\n",
      "only showing top 5 rows\n",
      "\n"
     ]
    }
   ],
   "source": [
    "ny_build = spark.read.csv(f\"{path_data}/buildings.csv\", header=True, inferSchema=True)\n",
    "ny_build.show(5)"
   ]
  },
  {
   "cell_type": "code",
   "execution_count": 6,
   "metadata": {},
   "outputs": [
    {
     "name": "stderr",
     "output_type": "stream",
     "text": [
      "                                                                                \r"
     ]
    }
   ],
   "source": [
    "ny_build.select(\n",
    "    \"the_geom\",\n",
    "    \"Construction Year\",\n",
    "    \"Geometry Source\",\n",
    "    \"Ground Elevation\",\n",
    "    \"Height Roof\",\n",
    "    \"LAST_STATUS_TYPE\"\n",
    ").write.parquet(f\"{path_data}/ny_buildings.parquet\", mode='overwrite')"
   ]
  },
  {
   "cell_type": "code",
   "execution_count": 7,
   "metadata": {},
   "outputs": [],
   "source": [
    "ny_build = spark.read.parquet(f\"{path_data}/ny_buildings.parquet\")"
   ]
  },
  {
   "cell_type": "code",
   "execution_count": null,
   "metadata": {},
   "outputs": [],
   "source": []
  },
  {
   "cell_type": "code",
   "execution_count": null,
   "metadata": {},
   "outputs": [],
   "source": []
  },
  {
   "cell_type": "code",
   "execution_count": null,
   "metadata": {},
   "outputs": [],
   "source": []
  },
  {
   "cell_type": "markdown",
   "metadata": {},
   "source": [
    "### MODEL TRAINING\n"
   ]
  },
  {
   "cell_type": "code",
   "execution_count": 3,
   "metadata": {},
   "outputs": [
    {
     "name": "stderr",
     "output_type": "stream",
     "text": [
      "25/06/09 10:23:34 WARN SparkStringUtils: Truncated the string representation of a plan since it was too large. This behavior can be adjusted by setting 'spark.sql.debug.maxToStringFields'.\n"
     ]
    },
    {
     "name": "stdout",
     "output_type": "stream",
     "text": [
      "+------------------+------------------+------------------+-----------+--------+----------+-----------+-----+--------------------+-----+--------------------+----------+----------+-----------+---------------+-----------------+---------+--------+---------+----------+----------+-----------------+------------------+------------------------+--------------------+--------+--------+--------------------+-------------+------+---------------+------------+-----------------+-------------+----------+-----------+-------------+----------+-----------+-------+--------+----------+-------------+--------------+\n",
      "|             R_avg|             G_avg|             B_avg|building_id|district|ARREST_KEY|ARREST_DATE|PD_CD|             PD_DESC|KY_CD|           OFNS_DESC|  LAW_CODE|LAW_CAT_CD|ARREST_BORO|ARREST_PRECINCT|JURISDICTION_CODE|AGE_GROUP|PERP_SEX|PERP_RACE|X_COORD_CD|Y_COORD_CD|         Latitude|         Longitude|New Georeferenced Column|                geom| element|      id|            geometry|     building|height|building:levels|building:use|building:material|roof:material|roof:shape|addr:street|addr:postcode|addr:state|addr:suburb|amenity|man_made|wheelchair|opening_hours|building:flats|\n",
      "+------------------+------------------+------------------+-----------+--------+----------+-----------+-----+--------------------+-----+--------------------+----------+----------+-----------+---------------+-----------------+---------+--------+---------+----------+----------+-----------------+------------------+------------------------+--------------------+--------+--------+--------------------+-------------+------+---------------+------------+-----------------+-------------+----------+-----------+-------------+----------+-----------+-------+--------+----------+-------------+--------------+\n",
      "|200.25524109014674|189.09591194968553|163.67505241090146|   11169051|     306| 283166802| 03/04/2024|  478|THEFT OF SERVICES...|  343|OTHER OFFENSES RE...|PL 1651503|         M|          K|             84|                1|    25-44|       M|    WHITE|    990141|    188391|40.68376454457041|-73.97875956361523|    POINT (-73.978759...|POINT (-73.978759...|relation|11169051|POLYGON ((-73.978...|train_station|  NULL|           NULL|        NULL|             NULL|         NULL|      NULL|       NULL|         NULL|      NULL|       NULL|   NULL|    NULL|      NULL|         NULL|          NULL|\n",
      "|200.25524109014674|189.09591194968553|163.67505241090146|   11169051|     306| 283166802| 03/04/2024|  478|THEFT OF SERVICES...|  343|OTHER OFFENSES RE...|PL 1651503|         M|          K|             84|                1|    25-44|       M|    WHITE|    990141|    188391|40.68376454457041|-73.97875956361523|    POINT (-73.978759...|POINT (-73.978759...|relation|11169051|POLYGON ((-73.978...|train_station|  NULL|           NULL|        NULL|             NULL|         NULL|      NULL|       NULL|         NULL|      NULL|       NULL|   NULL|    NULL|      NULL|         NULL|          NULL|\n",
      "|200.25524109014674|189.09591194968553|163.67505241090146|   11169051|     306| 283166802| 03/04/2024|  478|THEFT OF SERVICES...|  343|OTHER OFFENSES RE...|PL 1651503|         M|          K|             84|                1|    25-44|       M|    WHITE|    990141|    188391|40.68376454457041|-73.97875956361523|    POINT (-73.978759...|POINT (-73.978759...|relation|11169051|POLYGON ((-73.978...|train_station|  NULL|           NULL|        NULL|             NULL|         NULL|      NULL|       NULL|         NULL|      NULL|       NULL|   NULL|    NULL|      NULL|         NULL|          NULL|\n",
      "|200.25524109014674|189.09591194968553|163.67505241090146|   11169051|     306| 283166802| 03/04/2024|  478|THEFT OF SERVICES...|  343|OTHER OFFENSES RE...|PL 1651503|         M|          K|             84|                1|    25-44|       M|    WHITE|    990141|    188391|40.68376454457041|-73.97875956361523|    POINT (-73.978759...|POINT (-73.978759...|relation|11169051|POLYGON ((-73.978...|train_station|  NULL|           NULL|        NULL|             NULL|         NULL|      NULL|       NULL|         NULL|      NULL|       NULL|   NULL|    NULL|      NULL|         NULL|          NULL|\n",
      "|200.25524109014674|189.09591194968553|163.67505241090146|   11169051|     306| 283166802| 03/04/2024|  478|THEFT OF SERVICES...|  343|OTHER OFFENSES RE...|PL 1651503|         M|          K|             84|                1|    25-44|       M|    WHITE|    990141|    188391|40.68376454457041|-73.97875956361523|    POINT (-73.978759...|POINT (-73.978759...|relation|11169051|POLYGON ((-73.978...|train_station|  NULL|           NULL|        NULL|             NULL|         NULL|      NULL|       NULL|         NULL|      NULL|       NULL|   NULL|    NULL|      NULL|         NULL|          NULL|\n",
      "+------------------+------------------+------------------+-----------+--------+----------+-----------+-----+--------------------+-----+--------------------+----------+----------+-----------+---------------+-----------------+---------+--------+---------+----------+----------+-----------------+------------------+------------------------+--------------------+--------+--------+--------------------+-------------+------+---------------+------------+-----------------+-------------+----------+-----------+-------------+----------+-----------+-------+--------+----------+-------------+--------------+\n",
      "only showing top 5 rows\n",
      "\n"
     ]
    },
    {
     "name": "stderr",
     "output_type": "stream",
     "text": [
      "                                                                                \r"
     ]
    }
   ],
   "source": [
    "nyc_nyc = spark.read.parquet(f\"{path_data}/nyc_full_px.parquet\")\n",
    "nyc_nyc.show(5)"
   ]
  },
  {
   "cell_type": "code",
   "execution_count": 8,
   "metadata": {},
   "outputs": [],
   "source": [
    "ny_build.createOrReplaceTempView(\"buildings_types\")\n",
    "nyc_nyc.createOrReplaceTempView(\"districts\")\n",
    "\n",
    "build = spark.sql(\"\"\"\n",
    "WITH buildings_prepared AS (\n",
    "    SELECT \n",
    "        *,\n",
    "        ST_GeomFromWKT(the_geom) AS geom_point\n",
    "    FROM buildings_types\n",
    "),\n",
    "\n",
    "districts_prepared AS (\n",
    "    SELECT \n",
    "        district,\n",
    "        ST_GeomFromWKT(geometry) AS geom_polygon\n",
    "    FROM districts\n",
    ")\n",
    "\n",
    "SELECT   \n",
    "    b.*,\n",
    "    d.district,\n",
    "    ST_Intersects(d.geom_polygon, b.geom_point) AS intersects\n",
    "FROM buildings_prepared b\n",
    "JOIN districts_prepared d\n",
    "    ON ST_Intersects(d.geom_polygon, b.geom_point)\n",
    "\"\"\")\n"
   ]
  },
  {
   "cell_type": "code",
   "execution_count": 9,
   "metadata": {},
   "outputs": [
    {
     "name": "stderr",
     "output_type": "stream",
     "text": [
      "                                                                                \r"
     ]
    }
   ],
   "source": [
    "build.write.mode('overwrite').parquet(f\"{path_data}/buildings_data.parquet\")"
   ]
  },
  {
   "cell_type": "code",
   "execution_count": 17,
   "metadata": {},
   "outputs": [
    {
     "name": "stdout",
     "output_type": "stream",
     "text": [
      "+--------------------+-----------------+---------------+----------------+-----------+----------------+--------------------+--------+----------+\n",
      "|            the_geom|Construction Year|Geometry Source|Ground Elevation|Height Roof|LAST_STATUS_TYPE|          geom_point|district|intersects|\n",
      "+--------------------+-----------------+---------------+----------------+-----------+----------------+--------------------+--------+----------+\n",
      "|POINT (-73.976912...|             2003| Other (Manual)|              51|       57.0|     Constructed|POINT (-73.976912...|     306|      true|\n",
      "|POINT (-73.976912...|             2003| Other (Manual)|              51|       57.0|     Constructed|POINT (-73.976912...|     306|      true|\n",
      "|POINT (-73.976912...|             2003| Other (Manual)|              51|       57.0|     Constructed|POINT (-73.976912...|     306|      true|\n",
      "|POINT (-73.976912...|             2003| Other (Manual)|              51|       57.0|     Constructed|POINT (-73.976912...|     306|      true|\n",
      "|POINT (-73.976912...|             2003| Other (Manual)|              51|       57.0|     Constructed|POINT (-73.976912...|     306|      true|\n",
      "|POINT (-73.976912...|             2003| Other (Manual)|              51|       57.0|     Constructed|POINT (-73.976912...|     306|      true|\n",
      "|POINT (-73.976912...|             2003| Other (Manual)|              51|       57.0|     Constructed|POINT (-73.976912...|     306|      true|\n",
      "|POINT (-73.976912...|             2003| Other (Manual)|              51|       57.0|     Constructed|POINT (-73.976912...|     306|      true|\n",
      "|POINT (-73.976912...|             2003| Other (Manual)|              51|       57.0|     Constructed|POINT (-73.976912...|     306|      true|\n",
      "|POINT (-73.976912...|             2003| Other (Manual)|              51|       57.0|     Constructed|POINT (-73.976912...|     306|      true|\n",
      "|POINT (-73.976912...|             2003| Other (Manual)|              51|       57.0|     Constructed|POINT (-73.976912...|     306|      true|\n",
      "|POINT (-73.976912...|             2003| Other (Manual)|              51|       57.0|     Constructed|POINT (-73.976912...|     306|      true|\n",
      "|POINT (-73.976912...|             2003| Other (Manual)|              51|       57.0|     Constructed|POINT (-73.976912...|     306|      true|\n",
      "|POINT (-73.976912...|             2003| Other (Manual)|              51|       57.0|     Constructed|POINT (-73.976912...|     306|      true|\n",
      "|POINT (-73.976912...|             2003| Other (Manual)|              51|       57.0|     Constructed|POINT (-73.976912...|     306|      true|\n",
      "|POINT (-73.976912...|             2003| Other (Manual)|              51|       57.0|     Constructed|POINT (-73.976912...|     306|      true|\n",
      "|POINT (-73.976912...|             2003| Other (Manual)|              51|       57.0|     Constructed|POINT (-73.976912...|     306|      true|\n",
      "|POINT (-73.976912...|             2003| Other (Manual)|              51|       57.0|     Constructed|POINT (-73.976912...|     306|      true|\n",
      "|POINT (-73.976912...|             2003| Other (Manual)|              51|       57.0|     Constructed|POINT (-73.976912...|     306|      true|\n",
      "|POINT (-73.976912...|             2003| Other (Manual)|              51|       57.0|     Constructed|POINT (-73.976912...|     306|      true|\n",
      "|POINT (-73.976912...|             2003| Other (Manual)|              51|       57.0|     Constructed|POINT (-73.976912...|     306|      true|\n",
      "|POINT (-73.976912...|             2003| Other (Manual)|              51|       57.0|     Constructed|POINT (-73.976912...|     306|      true|\n",
      "|POINT (-73.976912...|             2003| Other (Manual)|              51|       57.0|     Constructed|POINT (-73.976912...|     306|      true|\n",
      "|POINT (-73.976912...|             2003| Other (Manual)|              51|       57.0|     Constructed|POINT (-73.976912...|     306|      true|\n",
      "|POINT (-73.976912...|             2003| Other (Manual)|              51|       57.0|     Constructed|POINT (-73.976912...|     306|      true|\n",
      "|POINT (-73.976912...|             2003| Other (Manual)|              51|       57.0|     Constructed|POINT (-73.976912...|     306|      true|\n",
      "|POINT (-73.976912...|             2003| Other (Manual)|              51|       57.0|     Constructed|POINT (-73.976912...|     306|      true|\n",
      "|POINT (-73.976912...|             2003| Other (Manual)|              51|       57.0|     Constructed|POINT (-73.976912...|     306|      true|\n",
      "|POINT (-73.976912...|             2003| Other (Manual)|              51|       57.0|     Constructed|POINT (-73.976912...|     306|      true|\n",
      "|POINT (-73.976912...|             2003| Other (Manual)|              51|       57.0|     Constructed|POINT (-73.976912...|     306|      true|\n",
      "|POINT (-73.976912...|             2003| Other (Manual)|              51|       57.0|     Constructed|POINT (-73.976912...|     306|      true|\n",
      "|POINT (-73.976912...|             2003| Other (Manual)|              51|       57.0|     Constructed|POINT (-73.976912...|     306|      true|\n",
      "|POINT (-73.976912...|             2003| Other (Manual)|              51|       57.0|     Constructed|POINT (-73.976912...|     306|      true|\n",
      "|POINT (-73.976912...|             2003| Other (Manual)|              51|       57.0|     Constructed|POINT (-73.976912...|     306|      true|\n",
      "|POINT (-73.976912...|             2003| Other (Manual)|              51|       57.0|     Constructed|POINT (-73.976912...|     306|      true|\n",
      "|POINT (-73.976912...|             2003| Other (Manual)|              51|       57.0|     Constructed|POINT (-73.976912...|     306|      true|\n",
      "|POINT (-73.976912...|             2003| Other (Manual)|              51|       57.0|     Constructed|POINT (-73.976912...|     306|      true|\n",
      "|POINT (-73.976912...|             2003| Other (Manual)|              51|       57.0|     Constructed|POINT (-73.976912...|     306|      true|\n",
      "|POINT (-73.976912...|             2003| Other (Manual)|              51|       57.0|     Constructed|POINT (-73.976912...|     306|      true|\n",
      "|POINT (-73.976912...|             2003| Other (Manual)|              51|       57.0|     Constructed|POINT (-73.976912...|     306|      true|\n",
      "|POINT (-73.976912...|             2003| Other (Manual)|              51|       57.0|     Constructed|POINT (-73.976912...|     306|      true|\n",
      "|POINT (-73.976912...|             2003| Other (Manual)|              51|       57.0|     Constructed|POINT (-73.976912...|     306|      true|\n",
      "|POINT (-73.976912...|             2003| Other (Manual)|              51|       57.0|     Constructed|POINT (-73.976912...|     306|      true|\n",
      "|POINT (-73.976912...|             2003| Other (Manual)|              51|       57.0|     Constructed|POINT (-73.976912...|     306|      true|\n",
      "|POINT (-73.976912...|             2003| Other (Manual)|              51|       57.0|     Constructed|POINT (-73.976912...|     306|      true|\n",
      "|POINT (-73.976912...|             2003| Other (Manual)|              51|       57.0|     Constructed|POINT (-73.976912...|     306|      true|\n",
      "|POINT (-73.976912...|             2003| Other (Manual)|              51|       57.0|     Constructed|POINT (-73.976912...|     306|      true|\n",
      "|POINT (-73.976912...|             2003| Other (Manual)|              51|       57.0|     Constructed|POINT (-73.976912...|     306|      true|\n",
      "|POINT (-73.976912...|             2003| Other (Manual)|              51|       57.0|     Constructed|POINT (-73.976912...|     306|      true|\n",
      "|POINT (-73.976912...|             2003| Other (Manual)|              51|       57.0|     Constructed|POINT (-73.976912...|     306|      true|\n",
      "|POINT (-73.976912...|             2003| Other (Manual)|              51|       57.0|     Constructed|POINT (-73.976912...|     306|      true|\n",
      "|POINT (-73.976912...|             2003| Other (Manual)|              51|       57.0|     Constructed|POINT (-73.976912...|     306|      true|\n",
      "|POINT (-73.976912...|             2003| Other (Manual)|              51|       57.0|     Constructed|POINT (-73.976912...|     306|      true|\n",
      "|POINT (-73.976912...|             2003| Other (Manual)|              51|       57.0|     Constructed|POINT (-73.976912...|     306|      true|\n",
      "|POINT (-73.976912...|             2003| Other (Manual)|              51|       57.0|     Constructed|POINT (-73.976912...|     306|      true|\n",
      "|POINT (-73.976912...|             2003| Other (Manual)|              51|       57.0|     Constructed|POINT (-73.976912...|     306|      true|\n",
      "|POINT (-73.976912...|             2003| Other (Manual)|              51|       57.0|     Constructed|POINT (-73.976912...|     306|      true|\n",
      "|POINT (-73.976912...|             2003| Other (Manual)|              51|       57.0|     Constructed|POINT (-73.976912...|     306|      true|\n",
      "|POINT (-73.976912...|             2003| Other (Manual)|              51|       57.0|     Constructed|POINT (-73.976912...|     306|      true|\n",
      "|POINT (-73.976912...|             2003| Other (Manual)|              51|       57.0|     Constructed|POINT (-73.976912...|     306|      true|\n",
      "|POINT (-73.976912...|             2003| Other (Manual)|              51|       57.0|     Constructed|POINT (-73.976912...|     306|      true|\n",
      "|POINT (-73.976912...|             2003| Other (Manual)|              51|       57.0|     Constructed|POINT (-73.976912...|     306|      true|\n",
      "|POINT (-73.976912...|             2003| Other (Manual)|              51|       57.0|     Constructed|POINT (-73.976912...|     306|      true|\n",
      "|POINT (-73.976912...|             2003| Other (Manual)|              51|       57.0|     Constructed|POINT (-73.976912...|     306|      true|\n",
      "|POINT (-73.976912...|             2003| Other (Manual)|              51|       57.0|     Constructed|POINT (-73.976912...|     306|      true|\n",
      "|POINT (-73.976912...|             2003| Other (Manual)|              51|       57.0|     Constructed|POINT (-73.976912...|     306|      true|\n",
      "|POINT (-73.976912...|             2003| Other (Manual)|              51|       57.0|     Constructed|POINT (-73.976912...|     306|      true|\n",
      "|POINT (-73.976912...|             2003| Other (Manual)|              51|       57.0|     Constructed|POINT (-73.976912...|     306|      true|\n",
      "|POINT (-73.976912...|             2003| Other (Manual)|              51|       57.0|     Constructed|POINT (-73.976912...|     306|      true|\n",
      "|POINT (-73.976912...|             2003| Other (Manual)|              51|       57.0|     Constructed|POINT (-73.976912...|     306|      true|\n",
      "|POINT (-73.976912...|             2003| Other (Manual)|              51|       57.0|     Constructed|POINT (-73.976912...|     306|      true|\n",
      "|POINT (-73.976912...|             2003| Other (Manual)|              51|       57.0|     Constructed|POINT (-73.976912...|     306|      true|\n",
      "|POINT (-73.976912...|             2003| Other (Manual)|              51|       57.0|     Constructed|POINT (-73.976912...|     306|      true|\n",
      "|POINT (-73.976912...|             2003| Other (Manual)|              51|       57.0|     Constructed|POINT (-73.976912...|     306|      true|\n",
      "|POINT (-73.976912...|             2003| Other (Manual)|              51|       57.0|     Constructed|POINT (-73.976912...|     306|      true|\n",
      "|POINT (-73.976912...|             2003| Other (Manual)|              51|       57.0|     Constructed|POINT (-73.976912...|     306|      true|\n",
      "|POINT (-73.976912...|             2003| Other (Manual)|              51|       57.0|     Constructed|POINT (-73.976912...|     306|      true|\n",
      "|POINT (-73.976912...|             2003| Other (Manual)|              51|       57.0|     Constructed|POINT (-73.976912...|     306|      true|\n",
      "|POINT (-73.976912...|             2003| Other (Manual)|              51|       57.0|     Constructed|POINT (-73.976912...|     306|      true|\n",
      "|POINT (-73.976912...|             2003| Other (Manual)|              51|       57.0|     Constructed|POINT (-73.976912...|     306|      true|\n",
      "|POINT (-73.976912...|             2003| Other (Manual)|              51|       57.0|     Constructed|POINT (-73.976912...|     306|      true|\n",
      "|POINT (-73.976912...|             2003| Other (Manual)|              51|       57.0|     Constructed|POINT (-73.976912...|     306|      true|\n",
      "|POINT (-73.976912...|             2003| Other (Manual)|              51|       57.0|     Constructed|POINT (-73.976912...|     306|      true|\n",
      "|POINT (-73.976912...|             2003| Other (Manual)|              51|       57.0|     Constructed|POINT (-73.976912...|     306|      true|\n",
      "|POINT (-73.976912...|             2003| Other (Manual)|              51|       57.0|     Constructed|POINT (-73.976912...|     306|      true|\n",
      "|POINT (-73.976912...|             2003| Other (Manual)|              51|       57.0|     Constructed|POINT (-73.976912...|     306|      true|\n",
      "|POINT (-73.976912...|             2003| Other (Manual)|              51|       57.0|     Constructed|POINT (-73.976912...|     306|      true|\n",
      "|POINT (-73.976912...|             2003| Other (Manual)|              51|       57.0|     Constructed|POINT (-73.976912...|     306|      true|\n",
      "|POINT (-73.976912...|             2003| Other (Manual)|              51|       57.0|     Constructed|POINT (-73.976912...|     306|      true|\n",
      "|POINT (-73.976912...|             2003| Other (Manual)|              51|       57.0|     Constructed|POINT (-73.976912...|     306|      true|\n",
      "|POINT (-73.976912...|             2003| Other (Manual)|              51|       57.0|     Constructed|POINT (-73.976912...|     306|      true|\n",
      "|POINT (-73.976912...|             2003| Other (Manual)|              51|       57.0|     Constructed|POINT (-73.976912...|     306|      true|\n",
      "|POINT (-73.976912...|             2003| Other (Manual)|              51|       57.0|     Constructed|POINT (-73.976912...|     306|      true|\n",
      "|POINT (-73.976912...|             2003| Other (Manual)|              51|       57.0|     Constructed|POINT (-73.976912...|     306|      true|\n",
      "|POINT (-73.976912...|             2003| Other (Manual)|              51|       57.0|     Constructed|POINT (-73.976912...|     306|      true|\n",
      "|POINT (-73.976912...|             2003| Other (Manual)|              51|       57.0|     Constructed|POINT (-73.976912...|     306|      true|\n",
      "|POINT (-73.976912...|             2003| Other (Manual)|              51|       57.0|     Constructed|POINT (-73.976912...|     306|      true|\n",
      "|POINT (-73.976912...|             2003| Other (Manual)|              51|       57.0|     Constructed|POINT (-73.976912...|     306|      true|\n",
      "|POINT (-73.976912...|             2003| Other (Manual)|              51|       57.0|     Constructed|POINT (-73.976912...|     306|      true|\n",
      "|POINT (-73.976912...|             2003| Other (Manual)|              51|       57.0|     Constructed|POINT (-73.976912...|     306|      true|\n",
      "+--------------------+-----------------+---------------+----------------+-----------+----------------+--------------------+--------+----------+\n",
      "only showing top 100 rows\n",
      "\n"
     ]
    }
   ],
   "source": [
    "buildings = spark.read.parquet(f\"{path_data}/buildings_data.parquet\")\n",
    "buildings.show(100)"
   ]
  },
  {
   "cell_type": "code",
   "execution_count": 18,
   "metadata": {},
   "outputs": [
    {
     "data": {
      "text/plain": [
       "9"
      ]
     },
     "execution_count": 18,
     "metadata": {},
     "output_type": "execute_result"
    }
   ],
   "source": [
    "res = buildings.select(\"district\").distinct().count()\n",
    "res"
   ]
  },
  {
   "cell_type": "code",
   "execution_count": 41,
   "metadata": {},
   "outputs": [
    {
     "name": "stderr",
     "output_type": "stream",
     "text": [
      "[Stage 105:>                                                        (0 + 2) / 2]\r"
     ]
    }
   ],
   "source": [
    "agg_dist = buildings.groupby(\"district\").agg(\n",
    "    F.count(\"*\").alias(\"total_buildings_in_district\"),\n",
    "    F.avg(\"Height Roof\").alias(\"avg_height_roof\"),\n",
    "    F.avg(\"Ground Elevation\").alias(\"avg_ground_elevation\"),\n",
    "    F.avg(\"Construction Year\").alias(\"avg_construction_year\"),\n",
    "    F.expr(\"percentile_approx(`Construction Year`, 0.5)\").alias(\"median_construction_year\"),\n",
    "    F.expr(\"percentile_approx(`Ground Elevation`, 0.25)\").alias(\"q25_ground_elevation\"),\n",
    "    F.expr(\"percentile_approx(`Ground Elevation`, 0.75)\").alias(\"q75_ground_elevation\"),\n",
    "    F.expr(\"percentile_approx(`Height Roof`, 0.5)\").alias(\"median_height_roof\"),\n",
    "    F.expr(\"percentile_approx(`Height Roof`, 0.25)\").alias(\"q25_height_roof\"),\n",
    "    F.expr(\"percentile_approx(`Height Roof`, 0.75)\").alias(\"q75_height_roof\"),\n",
    "    \n",
    ").orderBy(\"district\")"
   ]
  },
  {
   "cell_type": "code",
   "execution_count": 42,
   "metadata": {},
   "outputs": [],
   "source": [
    "agg_dist.createOrReplaceTempView(\"buildings\")\n",
    "df.createOrReplaceTempView(\"df\")\n",
    "\n",
    "full = spark.sql(\"\"\"\n",
    "        select \n",
    "                 b.total_buildings_in_district,\n",
    "                 b.avg_height_roof,\n",
    "                 b.avg_ground_elevation,\n",
    "                 b.avg_construction_year,\n",
    "                 b.median_construction_year,\n",
    "                 b.q25_ground_elevation,\n",
    "                 b.q75_ground_elevation,\n",
    "                 b.median_height_roof,\n",
    "                 b.q25_height_roof,\n",
    "                 b.q75_height_roof,\n",
    "                 d.*\n",
    "                 from buildings b\n",
    "                 join df d\n",
    "                 on b.district = d.district\n",
    "\n",
    "\"\"\")"
   ]
  },
  {
   "cell_type": "code",
   "execution_count": null,
   "metadata": {},
   "outputs": [
    {
     "name": "stderr",
     "output_type": "stream",
     "text": [
      "                                                                                \r"
     ]
    },
    {
     "name": "stderr",
     "output_type": "stream",
     "text": [
      "[Stage 105:>                                                        (0 + 2) / 2]\r"
     ]
    }
   ],
   "source": [
    "full.write.mode('overwrite').parquet(f\"{path_data}/nyc_full_buildings.parquet\")"
   ]
  },
  {
   "cell_type": "code",
   "execution_count": 18,
   "metadata": {},
   "outputs": [
    {
     "name": "stdout",
     "output_type": "stream",
     "text": [
      "+--------+-----------+------------+----------------------------+-------------+-------------+------------------+------------------+------------------+------------------+------------------+-----------------+------------+------------+------------+---------+---------+---------+---------+---------+---------+-------------------------------+------------------+--------------------+------------------+--------------------+--------------------+--------------------+-------------------+--------------------+--------------------+\n",
      "|District|ARREST_YEAR|ARREST_Month|total_quantity_crime_in_dist|sum_OFNS_DESC|sum_PERP_RACE|             avg_R|             avg_G|             avg_B|      avg_R_stddev|      avg_G_stddev|     avg_B_stddev|avg_R_median|avg_G_median|avg_B_median|avg_R_q25|avg_G_q25|avg_B_q25|avg_R_q75|avg_G_q75|avg_B_q75|avg_total_buildings_in_district|    avg_brightness|avg_dark_pixel_ratio|        avg_mean_M|          avg_mean_F|   avg_pct_age_18_24|   avg_pct_age_25_44|  avg_pct_age_45_64|     avg_pct_age_<18| avg_pct_age_65_plus|\n",
      "+--------+-----------+------------+----------------------------+-------------+-------------+------------------+------------------+------------------+------------------+------------------+-----------------+------------+------------+------------+---------+---------+---------+---------+---------+---------+-------------------------------+------------------+--------------------+------------------+--------------------+--------------------+--------------------+-------------------+--------------------+--------------------+\n",
      "|     306|       2024|           2|                         655|         NULL|         NULL|200.25524109014424|189.09591194968405|163.67505241090396| 55.39774045390788| 64.86920181857847|86.82888721022702|       215.0|       208.0|       180.0|    156.0|    131.0|     80.0|    254.0|    254.0|    253.0|                        35670.0|  184.342068483576|0.011530398322850976|0.9816668068286867|0.018333193171306182|0.014404651777454279| 0.02936254309982692|  0.311916575561353|                 0.0|                 0.0|\n",
      "|     212|       2024|           4|                          13|         NULL|         NULL|154.87812499999998| 132.5399305555556| 96.60972222222222| 68.25876897629146|  79.7260884937814| 97.7481067238964|       130.0|        98.0|        43.0|     96.0|     65.0|     21.0|    238.0|    229.0|    220.0|                           93.0|128.00925925925955| 0.11284722222222225|0.7526881720430108| 0.24731182795698917|0.027649769585253448|0.030645161290322562|0.08602150537634409|0.021505376344086023| 0.08602150537634409|\n",
      "|     212|       2024|           2|                           8|         NULL|         NULL|154.87812499999998|132.53993055555554| 96.60972222222222| 68.25876897629148|  79.7260884937814| 97.7481067238964|       130.0|        98.0|        43.0|     96.0|     65.0|     21.0|    238.0|    229.0|    220.0|                           93.0|128.00925925925955| 0.11284722222222222|0.7526881720430109| 0.24731182795698925|0.027649769585253448|0.030645161290322555| 0.0860215053763441|0.021505376344086027|  0.0860215053763441|\n",
      "|     306|       2024|           3|                         981|         NULL|         NULL|200.25524109014307|189.09591194968823|163.67505241090277|  55.3977404539089| 64.86920181857755| 86.8288872102272|       215.0|       208.0|       180.0|    156.0|    131.0|     80.0|    254.0|    254.0|    253.0|                        35670.0|184.34206848357894|  0.0115303983228509| 0.981666806828686|0.018333193171306144|0.014404651777454217| 0.02936254309982643|0.31191657556134905|                 0.0|                 0.0|\n",
      "|     404|       2024|           3|                        5820|         NULL|         NULL| 173.0137821362511| 146.2107076596898|100.26504108136119| 54.44309608556202| 67.55986600839235|90.17041859700015|       156.0|       120.0|        58.0|    128.0|     91.0|     31.0|    230.0|    207.0|    168.0|                           16.0| 139.8298436257732|0.007951232441028399| 0.952564976888681| 0.04743502311131556| 0.03322724861710266|0.031117867697188602| 0.1252367962415599|0.010267485034476947|0.009547624460104489|\n",
      "|     404|       2024|           9|                        2055|         NULL|         NULL| 173.0137821362373| 146.2107076596839| 100.2650410813715| 54.44309608555363| 67.55986600839141|90.17041859699859|       156.0|       120.0|        58.0|    128.0|     91.0|     31.0|    230.0|    207.0|    168.0|                           16.0|139.82984362576897|0.007951232441028423|0.9525649768886638|0.047435023111314756|0.033227248617104216| 0.03111786769718494|0.12523679624157447| 0.01026748503447777|0.009547624460104492|\n",
      "|     404|       2024|          11|                        3168|         NULL|         NULL|173.01378213624477|146.21070765967497|100.26504108136953|54.443096085557045| 67.55986600838665|90.17041859699947|       156.0|       120.0|        58.0|    128.0|     91.0|     31.0|    230.0|    207.0|    168.0|                           16.0|139.82984362577128|0.007951232441027814|0.9525649768887329| 0.04743502311131632|0.033227248617105985|0.031117867697186927|0.12523679624156656|0.010267485034478161| 0.00954762446010449|\n",
      "|     301|       2024|          11|                          12|         NULL|         NULL|199.36569209684788|172.16811329374147|123.84604842393787| 47.62047604604023|57.692107922726116|82.25514093559947|       207.0|       168.0|        98.0|    163.0|    126.0|     57.0|    247.0|    224.0|    201.0|                            1.0|165.12661793817512|0.004568296025582458|0.9925093632958805|0.007490636704119851|0.014981273408239711|0.035861423220974034|0.16853932584269662|0.009363295880149811|                 0.0|\n",
      "|     404|       2024|           7|                        5962|         NULL|         NULL|173.01378213625128|146.21070765969046|100.26504108136095| 54.44309608556216|  67.5598660083927|90.17041859699879|       156.0|       120.0|        58.0|    128.0|     91.0|     31.0|    230.0|    207.0|    168.0|                           16.0|139.82984362577326|0.007951232441028442|0.9525649768886749| 0.04743502311131497| 0.03322724861710248| 0.03111786769718865| 0.1252367962415597|0.010267485034476912|0.009547624460104489|\n",
      "|     404|       2024|          12|                        4832|         NULL|         NULL|173.01378213624957|146.21070765968432|100.26504108136322|  54.4430960855608| 67.55986600838936|90.17041859700004|       156.0|       120.0|        58.0|    128.0|     91.0|     31.0|    230.0|    207.0|    168.0|                           16.0|139.82984362577275| 0.00795123244102802|0.9525649768887333| 0.04743502311131731| 0.03322724861710422|0.031117867697188193|0.12523679624156153|0.010267485034477244| 0.00954762446010449|\n",
      "|     212|       2024|          12|                           2|         NULL|         NULL|        154.878125|132.53993055555554| 96.60972222222222| 68.25876897629148|  79.7260884937814| 97.7481067238964|       130.0|        98.0|        43.0|     96.0|     65.0|     21.0|    238.0|    229.0|    220.0|                           93.0|128.00925925925955| 0.11284722222222222|0.7526881720430108| 0.24731182795698925|0.027649769585253448| 0.03064516129032256|0.08602150537634409|0.021505376344086023| 0.08602150537634409|\n",
      "|     301|       2024|           6|                          52|         NULL|         NULL|199.36569209684788|172.16811329374124|123.84604842393772|47.620476046040224| 57.69210792272619|82.25514093559956|       207.0|       168.0|        98.0|    163.0|    126.0|     57.0|    247.0|    224.0|    201.0|                            1.0|165.12661793817526|0.004568296025582454|0.9925093632958805|0.007490636704119855|0.014981273408239728| 0.03586142322097401|0.16853932584269668|0.009363295880149823|                 0.0|\n",
      "|     301|       2024|           8|                          68|         NULL|         NULL|199.36569209684788|172.16811329374121|123.84604842393773| 47.62047604604018| 57.69210792272622|82.25514093559948|       207.0|       168.0|        98.0|    163.0|    126.0|     57.0|    247.0|    224.0|    201.0|                            1.0|165.12661793817512|0.004568296025582454|0.9925093632958804|0.007490636704119857| 0.01498127340823973|0.035861423220974006| 0.1685393258426965|0.009363295880149825|                 0.0|\n",
      "|     301|       2024|           4|                          32|         NULL|         NULL|199.36569209684788|172.16811329374136|123.84604842393776| 47.62047604604025|57.692107922726116|82.25514093559951|       207.0|       168.0|        98.0|    163.0|    126.0|     57.0|    247.0|    224.0|    201.0|                            1.0| 165.1266179381752|0.004568296025582455|0.9925093632958805|0.007490636704119847|0.014981273408239723| 0.03586142322097404|0.16853932584269674|0.009363295880149815|                 0.0|\n",
      "|     306|       2024|          11|                        1208|         NULL|         NULL|200.25524109014265|189.09591194969013| 163.6750524109011| 55.39774045390914| 64.86920181857839|86.82888721022726|       215.0|       208.0|       180.0|    156.0|    131.0|     80.0|    254.0|    254.0|    253.0|                        35670.0| 184.3420684835805| 0.01153039832285087|0.9816668068287012|0.018333193171305908|0.014404651777454194|0.029362543099826593|0.31191657556134483|                 0.0|                 0.0|\n",
      "|     301|       2024|          10|                          47|         NULL|         NULL|199.36569209684788|172.16811329374124|123.84604842393772|47.620476046040245| 57.69210792272617|82.25514093559957|       207.0|       168.0|        98.0|    163.0|    126.0|     57.0|    247.0|    224.0|    201.0|                            1.0|165.12661793817531|0.004568296025582454|0.9925093632958805|0.007490636704119853|0.014981273408239728| 0.03586142322097401|0.16853932584269676|0.009363295880149822|                 0.0|\n",
      "|     212|       2024|           9|                          16|         NULL|         NULL|        154.878125| 132.5399305555556| 96.60972222222222| 68.25876897629146|  79.7260884937814| 97.7481067238964|       130.0|        98.0|        43.0|     96.0|     65.0|     21.0|    238.0|    229.0|    220.0|                           93.0|128.00925925925955| 0.11284722222222227|0.7526881720430106| 0.24731182795698914|0.027649769585253448|0.030645161290322565|0.08602150537634408| 0.02150537634408602| 0.08602150537634408|\n",
      "|     404|       2024|           4|                        3221|         NULL|         NULL|  173.013782136245| 146.2107076596747|100.26504108136923| 54.44309608555722|  67.5598660083865| 90.1704185969995|       156.0|       120.0|        58.0|    128.0|     91.0|     31.0|    230.0|    207.0|    168.0|                           16.0|139.82984362577133|0.007951232441027795|0.9525649768887353|0.047435023111316366|0.033227248617106034|0.031117867697186986| 0.1252367962415663|0.010267485034478116| 0.00954762446010449|\n",
      "|     301|       2024|           7|                          43|         NULL|         NULL|199.36569209684788|172.16811329374127|123.84604842393773| 47.62047604604026| 57.69210792272616|82.25514093559956|       207.0|       168.0|        98.0|    163.0|    126.0|     57.0|    247.0|    224.0|    201.0|                            1.0| 165.1266179381753|0.004568296025582454|0.9925093632958805|0.007490636704119852|0.014981273408239727| 0.03586142322097402|0.16853932584269676| 0.00936329588014982|                 0.0|\n",
      "|     404|       2024|          10|                        3927|         NULL|         NULL|173.01378213624747|146.21070765967684|  100.265041081366|54.443096085559155|  67.5598660083853|90.17041859699978|       156.0|       120.0|        58.0|    128.0|     91.0|     31.0|    230.0|    207.0|    168.0|                           16.0| 139.8298436257721|0.007951232441027597|0.9525649768887613| 0.04743502311131687| 0.03322724861710634|0.031117867697187638|0.12523679624156372|0.010267485034477646| 0.00954762446010449|\n",
      "|     306|       2024|           9|                        1090|         NULL|         NULL|200.25524109014285|189.09591194968925|163.67505241090188| 55.39774045390911| 64.86920181857789|86.82888721022722|       215.0|       208.0|       180.0|    156.0|    131.0|     80.0|    254.0|    254.0|    253.0|                        35670.0|184.34206848357977|0.011530398322850884|0.9816668068286907| 0.01833319317130602|0.014404651777454204|0.029362543099826333|0.31191657556134683|                 0.0|                 0.0|\n",
      "|     404|       2024|           2|                        4065|         NULL|         NULL|173.01378213624784| 146.2107076596782| 100.2650410813655| 54.44309608555945| 67.55986600838604|90.17041859699982|       156.0|       120.0|        58.0|    128.0|     91.0|     31.0|    230.0|    207.0|    168.0|                           16.0| 139.8298436257722|  0.0079512324410276|0.9525649768887653|0.047435023111316955| 0.03322724861710596| 0.03111786769718774|0.12523679624156334|0.010267485034477573| 0.00954762446010449|\n",
      "|     306|       2024|           1|                        1199|         NULL|         NULL|200.25524109014268|189.09591194969008|163.67505241090115| 55.39774045390918| 64.86920181857835|86.82888721022726|       215.0|       208.0|       180.0|    156.0|    131.0|     80.0|    254.0|    254.0|    253.0|                        35670.0|184.34206848358045| 0.01153039832285087|0.9816668068287004|0.018333193171305915|0.014404651777454196|0.029362543099826572|  0.311916575561345|                 0.0|                 0.0|\n",
      "|     301|       2024|          12|                          48|         NULL|         NULL|199.36569209684788|172.16811329374127|123.84604842393772| 47.62047604604024| 57.69210792272617|82.25514093559957|       207.0|       168.0|        98.0|    163.0|    126.0|     57.0|    247.0|    224.0|    201.0|                            1.0|165.12661793817531|0.004568296025582454|0.9925093632958805|0.007490636704119854|0.014981273408239728| 0.03586142322097401|0.16853932584269674|0.009363295880149822|                 0.0|\n",
      "|     306|       2024|           5|                         981|         NULL|         NULL|200.25524109014307|189.09591194968823|163.67505241090277|  55.3977404539089| 64.86920181857755| 86.8288872102272|       215.0|       208.0|       180.0|    156.0|    131.0|     80.0|    254.0|    254.0|    253.0|                        35670.0|184.34206848357894|  0.0115303983228509| 0.981666806828686|0.018333193171306144|0.014404651777454217| 0.02936254309982643|0.31191657556134905|                 0.0|                 0.0|\n",
      "|     306|       2024|           4|                         545|         NULL|         NULL|200.25524109014492|189.09591194968408|163.67505241090308|55.397740453907566| 64.86920181857904|86.82888721022692|       215.0|       208.0|       180.0|    156.0|    131.0|     80.0|    254.0|    254.0|    253.0|                        35670.0|184.34206848357664|0.011530398322851023|0.9816668068286871|0.018333193171306085|0.014404651777454317|0.029362543099827217|0.31191657556135255|                 0.0|                 0.0|\n",
      "|     306|       2024|          10|                        1853|         NULL|         NULL|  200.255241090142|189.09591194969298|163.67505241090254| 55.39774045390724| 64.86920181857998|86.82888721022736|       215.0|       208.0|       180.0|    156.0|    131.0|     80.0|    254.0|    254.0|    253.0|                        35670.0| 184.3420684835829|0.011530398322850827| 0.981666806828735|0.018333193171305755| 0.01440465177745416| 0.02936254309982743| 0.3119165755613385|                 0.0|                 0.0|\n",
      "|     306|       2024|          12|                        1199|         NULL|         NULL|200.25524109014268|189.09591194969008|163.67505241090115| 55.39774045390918| 64.86920181857835|86.82888721022726|       215.0|       208.0|       180.0|    156.0|    131.0|     80.0|    254.0|    254.0|    253.0|                        35670.0|184.34206848358045| 0.01153039832285087|0.9816668068287004|0.018333193171305915|0.014404651777454196|0.029362543099826572|  0.311916575561345|                 0.0|                 0.0|\n",
      "|     306|       2024|           8|                         654|         NULL|         NULL| 200.2552410901442|189.09591194968405|163.67505241090396| 55.39774045390787| 64.86920181857847|86.82888721022702|       215.0|       208.0|       180.0|    156.0|    131.0|     80.0|    254.0|    254.0|    253.0|                        35670.0|  184.342068483576|0.011530398322850976|0.9816668068286867| 0.01833319317130618|0.014404651777454279|0.029362543099826922|  0.311916575561353|                 0.0|                 0.0|\n",
      "|     212|       2024|           7|                          23|         NULL|         NULL|154.87812500000007|132.53993055555563|  96.6097222222222| 68.25876897629149|  79.7260884937814| 97.7481067238964|       130.0|        98.0|        43.0|     96.0|     65.0|     21.0|    238.0|    229.0|    220.0|                           93.0|128.00925925925955| 0.11284722222222228|0.7526881720430106|  0.2473118279569891|0.027649769585253448|0.030645161290322565|0.08602150537634405|0.021505376344086013| 0.08602150537634405|\n",
      "|     404|       2024|           5|                        3289|         NULL|         NULL|173.01378213624528|146.21070765967437|100.26504108136885| 54.44309608555745| 67.55986600838632|90.17041859699953|       156.0|       120.0|        58.0|    128.0|     91.0|     31.0|    230.0|    207.0|    168.0|                           16.0|139.82984362577145|0.007951232441027772|0.9525649768887383| 0.04743502311131642|  0.0332272486171061|0.031117867697187062|  0.125236796241566|0.010267485034478063| 0.00954762446010449|\n",
      "|     212|       2024|          10|                          24|         NULL|         NULL|154.87812500000007|132.53993055555563| 96.60972222222222| 68.25876897629149|  79.7260884937814| 97.7481067238964|       130.0|        98.0|        43.0|     96.0|     65.0|     21.0|    238.0|    229.0|    220.0|                           93.0|128.00925925925955| 0.11284722222222228|0.7526881720430106|  0.2473118279569891|0.027649769585253448|0.030645161290322565|0.08602150537634407|0.021505376344086016| 0.08602150537634407|\n",
      "|     212|       2024|           8|                           7|         NULL|         NULL|154.87812499999998|132.53993055555554| 96.60972222222222| 68.25876897629148|  79.7260884937814| 97.7481067238964|       130.0|        98.0|        43.0|     96.0|     65.0|     21.0|    238.0|    229.0|    220.0|                           93.0|128.00925925925955| 0.11284722222222222|0.7526881720430109| 0.24731182795698925|0.027649769585253448|0.030645161290322555| 0.0860215053763441|0.021505376344086027|  0.0860215053763441|\n",
      "|     404|       2024|           8|                        4672|         NULL|         NULL|173.01378213624926| 146.2107076596832|100.26504108136363|54.443096085560555| 67.55986600838875|     90.170418597|       156.0|       120.0|        58.0|    128.0|     91.0|     31.0|    230.0|    207.0|    168.0|                           16.0|139.82984362577264|0.007951232441027944|0.9525649768887439| 0.04743502311131725|0.033227248617104535| 0.03111786769718811|0.12523679624156187|0.010267485034477304| 0.00954762446010449|\n",
      "|     306|       2024|           7|                         872|         NULL|         NULL| 200.2552410901434|189.09591194968698|163.67505241090387|55.397740453908646| 64.86920181857778|86.82888721022715|       215.0|       208.0|       180.0|    156.0|    131.0|     80.0|    254.0|    254.0|    253.0|                        35670.0|184.34206848357786|0.011530398322850919|0.9816668068286861|  0.0183331931713063|0.014404651777454232| 0.02936254309982655| 0.3119165755613518|                 0.0|                 0.0|\n",
      "|     301|       2024|           5|                         111|         NULL|         NULL|199.36569209684833|172.16811329374113|123.84604842393804|47.620476046040224|  57.6921079227261|82.25514093559948|       207.0|       168.0|        98.0|    163.0|    126.0|     57.0|    247.0|    224.0|    201.0|                            1.0|165.12661793817495|0.004568296025582454|0.9925093632958805|0.007490636704119...|0.014981273408239733|0.035861423220973986|0.16853932584269654|0.009363295880149825|                 0.0|\n",
      "|     301|       2024|           1|                          67|         NULL|         NULL|199.36569209684788|172.16811329374121|123.84604842393772| 47.62047604604018| 57.69210792272622|82.25514093559948|       207.0|       168.0|        98.0|    163.0|    126.0|     57.0|    247.0|    224.0|    201.0|                            1.0|165.12661793817512|0.004568296025582454|0.9925093632958804|0.007490636704119857| 0.01498127340823973|0.035861423220974006| 0.1685393258426965|0.009363295880149825|                 0.0|\n",
      "|     404|       2024|           6|                        7253|         NULL|         NULL|173.01378213623346| 146.2107076596938|100.26504108135921| 54.44309608556319| 67.55986600839523|90.17041859698885|       156.0|       120.0|        58.0|    128.0|     91.0|     31.0|    230.0|    207.0|    168.0|                           16.0|139.82984362577366|0.007951232441028763|0.9525649768886304| 0.04743502311131067|0.033227248617101156|0.031117867697188998| 0.1252367962415583|0.010267485034476663|0.009547624460105026|\n",
      "|     301|       2024|           2|                          42|         NULL|         NULL| 199.3656920968479|172.16811329374127|123.84604842393773| 47.62047604604025| 57.69210792272615|82.25514093559956|       207.0|       168.0|        98.0|    163.0|    126.0|     57.0|    247.0|    224.0|    201.0|                            1.0| 165.1266179381753|0.004568296025582454|0.9925093632958804|0.007490636704119851|0.014981273408239727| 0.03586142322097402|0.16853932584269676| 0.00936329588014982|                 0.0|\n",
      "|     404|       2024|           1|                        4524|         NULL|         NULL|173.01378213624895| 146.2107076596821|100.26504108136405| 54.44309608556031| 67.55986600838816|90.17041859699997|       156.0|       120.0|        58.0|    128.0|     91.0|     31.0|    230.0|    207.0|    168.0|                           16.0|139.82984362577255| 0.00795123244102787|0.9525649768887543| 0.04743502311131718| 0.03322724861710485| 0.03111786769718803|0.12523679624156217|0.010267485034477363| 0.00954762446010449|\n",
      "|     306|       2024|           6|                         654|         NULL|         NULL| 200.2552410901442|189.09591194968405|163.67505241090396| 55.39774045390787| 64.86920181857847|86.82888721022702|       215.0|       208.0|       180.0|    156.0|    131.0|     80.0|    254.0|    254.0|    253.0|                        35670.0|  184.342068483576|0.011530398322850976|0.9816668068286867| 0.01833319317130618|0.014404651777454279|0.029362543099826922|  0.311916575561353|                 0.0|                 0.0|\n",
      "|     301|       2024|           3|                          12|         NULL|         NULL|199.36569209684788|172.16811329374147|123.84604842393787| 47.62047604604023|57.692107922726116|82.25514093559947|       207.0|       168.0|        98.0|    163.0|    126.0|     57.0|    247.0|    224.0|    201.0|                            1.0|165.12661793817512|0.004568296025582458|0.9925093632958805|0.007490636704119851|0.014981273408239711|0.035861423220974034|0.16853932584269662|0.009363295880149811|                 0.0|\n",
      "|     312|       2024|           1|                          12|         NULL|         NULL|162.05640902544408|134.03384541526648| 90.25924147863658|  56.0194867138894| 70.37938730860283|92.54612687113534|       140.0|       103.0|        44.0|    119.0|     82.0|     25.0|    209.0|    183.0|    139.0|                          144.0|128.78316530644884|0.014882381180988955|0.6666666666666666|  0.3333333333333333|0.023809523809523805| 0.02916666666666662|               0.25|                 0.0|                 0.0|\n",
      "|     205|       2024|           6|                           6|         NULL|         NULL|183.97471554993675|162.35145385587865|118.52170248630425| 52.86268158259936|  64.5283997227383|89.57144108180529|       177.0|       147.0|        82.0|    139.0|    106.0|     44.0|    247.0|    243.0|    235.0|                           10.0| 154.9492906307071|0.005478297513695745|               0.3|  0.7000000000000001|0.042857142857142864|                0.02|                0.3|                 0.0|                 0.0|\n",
      "|     312|       2024|          11|                          24|         NULL|         NULL|162.05640902544417|134.03384541526654| 90.25924147863658|56.019486713889385| 70.37938730860286|92.54612687113534|       140.0|       103.0|        44.0|    119.0|     82.0|     25.0|    209.0|    183.0|    139.0|                          144.0|128.78316530644875|0.014882381180988951|0.6666666666666664|  0.3333333333333332|0.023809523809523798|0.029166666666666608|               0.25|                 0.0|                 0.0|\n",
      "|     205|       2024|           7|                           1|         NULL|         NULL|183.97471554993678|162.35145385587865|118.52170248630425| 52.86268158259936|  64.5283997227383|89.57144108180529|       177.0|       147.0|        82.0|    139.0|    106.0|     44.0|    247.0|    243.0|    235.0|                           10.0| 154.9492906307071|0.005478297513695744|               0.3|                 0.7| 0.04285714285714286|                0.02|                0.3|                 0.0|                 0.0|\n",
      "|     314|       2024|           6|                           1|         NULL|         NULL|169.12793497892835|143.64629741119808|100.63907284768212| 57.44613655529123| 71.79017193423434| 96.2088812176734|       149.0|       112.0|        49.0|    124.0|     87.0|     25.0|    239.0|    230.0|    218.0|                            1.0|137.80443507926933|0.024683925346177003|               1.0|                 0.0|                 0.0|                0.05|                0.0|                 0.0|                 0.0|\n",
      "|     302|       2024|           1|                        9471|         NULL|         NULL|187.88400335005926| 161.3371021775529|116.59715242881163| 49.68587909087453|63.526406876616306|88.43887510313657|       182.0|       145.0|        80.0|    146.0|    106.0|     41.0|    240.0|    228.0|    208.0|                       294903.0| 155.2727526521724|0.004606365159128817|0.6637877539394611| 0.33621224606062855|0.019691704923794257|0.024262215033417075| 0.3575752026937339|0.007009084342987959|0.012329477828302531|\n",
      "|     302|       2024|           2|                        3353|         NULL|         NULL|187.88400335008427|161.33710217755294| 116.5971524288167|   49.685879090886| 63.52640687660457|88.43887510313661|       182.0|       145.0|        80.0|    146.0|    106.0|     41.0|    240.0|    228.0|    208.0|                       294903.0|155.27275265216298| 0.00460636515912871|0.6637877539394315| 0.33621224606055994|0.019691704923794528| 0.02426221503341707| 0.3575752026937728|0.007009084342987106|0.012329477828302555|\n",
      "|     302|       2024|          11|                       10705|         NULL|         NULL|187.88400335005767| 161.3371021775529|116.59715242879894| 49.68587909087358| 63.52640687661747|88.43887510313655|       182.0|       145.0|        80.0|    146.0|    106.0|     41.0|    240.0|    228.0|    208.0|                       294903.0|  155.272752652173|0.004606365159128587|0.6637877539394872|  0.3362122460606446|  0.0196917049237934|0.024262215033416665|0.35757520269372123|0.007009084342987...| 0.01232947782830253|\n",
      "|     302|       2024|          10|                        5980|         NULL|         NULL|187.88400335006725| 161.3371021775529|116.59715242881724| 49.68587909088354|  63.5264068766104|88.43887510313658|       182.0|       145.0|        80.0|    146.0|    106.0|     41.0|    240.0|    228.0|    208.0|                       294903.0| 155.2727526521694|0.004606365159129406|0.6637877539393439| 0.33621224606055145|0.019691704923797376|0.024262215033417075|0.35757520269379783|0.007009084342987449| 0.01232947782830254|\n",
      "|     302|       2024|           3|                        7203|         NULL|         NULL|187.88400335006358| 161.3371021775529|116.59715242881735| 49.68587909087939| 63.52640687661312|88.43887510313657|       182.0|       145.0|        80.0|    146.0|    106.0|     41.0|    240.0|    228.0|    208.0|                       294903.0|155.27275265217077|0.004606365159129445|  0.66378775393939| 0.33621224606058464|0.019691704923796606|0.024262215033417075|0.35757520269376836|0.007009084342987801|0.012329477828302534|\n",
      "|     312|       2024|           5|                          12|         NULL|         NULL|162.05640902544408|134.03384541526648| 90.25924147863658|  56.0194867138894| 70.37938730860283|92.54612687113534|       140.0|       103.0|        44.0|    119.0|     82.0|     25.0|    209.0|    183.0|    139.0|                          144.0|128.78316530644884|0.014882381180988955|0.6666666666666666|  0.3333333333333333|0.023809523809523805| 0.02916666666666662|               0.25|                 0.0|                 0.0|\n",
      "|     312|       2024|           2|                          12|         NULL|         NULL|162.05640902544408|134.03384541526648| 90.25924147863658|  56.0194867138894| 70.37938730860283|92.54612687113534|       140.0|       103.0|        44.0|    119.0|     82.0|     25.0|    209.0|    183.0|    139.0|                          144.0|128.78316530644884|0.014882381180988955|0.6666666666666666|  0.3333333333333333|0.023809523809523805| 0.02916666666666662|               0.25|                 0.0|                 0.0|\n",
      "|     302|       2024|          12|                        7121|         NULL|         NULL|187.88400335006378| 161.3371021775529|116.59715242881735|49.685879090879624| 63.52640687661297|88.43887510313657|       182.0|       145.0|        80.0|    146.0|    106.0|     41.0|    240.0|    228.0|    208.0|                       294903.0|155.27275265217068|0.004606365159129...|0.6637877539393867| 0.33621224606058253| 0.01969170492379672|0.024262215033417075|   0.35757520269377|0.007009084342987781|0.012329477828302536|\n",
      "|     312|       2024|           7|                          24|         NULL|         NULL|162.05640902544417|134.03384541526654| 90.25924147863658|56.019486713889385| 70.37938730860286|92.54612687113534|       140.0|       103.0|        44.0|    119.0|     82.0|     25.0|    209.0|    183.0|    139.0|                          144.0|128.78316530644875|0.014882381180988951|0.6666666666666664|  0.3333333333333332|0.023809523809523798|0.029166666666666608|               0.25|                 0.0|                 0.0|\n",
      "|     312|       2024|           6|                          12|         NULL|         NULL|162.05640902544408|134.03384541526648| 90.25924147863658|  56.0194867138894| 70.37938730860283|92.54612687113534|       140.0|       103.0|        44.0|    119.0|     82.0|     25.0|    209.0|    183.0|    139.0|                          144.0|128.78316530644884|0.014882381180988955|0.6666666666666666|  0.3333333333333333|0.023809523809523805| 0.02916666666666662|               0.25|                 0.0|                 0.0|\n",
      "|     302|       2024|           4|                        5798|         NULL|         NULL|187.88400335006793| 161.3371021775529|116.59715242881721|49.685879090884306|  63.5264068766099|88.43887510313658|       182.0|       145.0|        80.0|    146.0|    106.0|     41.0|    240.0|    228.0|    208.0|                       294903.0|155.27275265216915|0.004606365159129376|0.6637877539393473|  0.3362122460605518|0.019691704923797262|0.024262215033417075| 0.3575752026938033|0.007009084342987384| 0.01232947782830254|\n",
      "|     302|       2024|           6|                       10494|         NULL|         NULL|187.88400335005792| 161.3371021775529| 116.5971524288009| 49.68587909087302|63.526406876617294|88.43887510313655|       182.0|       145.0|        80.0|    146.0|    106.0|     41.0|    240.0|    228.0|    208.0|                       294903.0| 155.2727526521729|0.004606365159128623|0.6637877539394832| 0.33621224606064215|0.019691704923793532|0.024262215033417075|0.35757520269372317|0.007009084342987...| 0.01232947782830253|\n",
      "|     302|       2024|           8|                        6712|         NULL|         NULL| 187.8840033500649| 161.3371021775529|116.59715242881731|49.685879090880874| 63.52640687661215|88.43887510313658|       182.0|       145.0|        80.0|    146.0|    106.0|     41.0|    240.0|    228.0|    208.0|                       294903.0|155.27275265217028|0.004606365159129512|0.6637877539393684| 0.33621224606057126|0.019691704923797324|0.024262215033417075| 0.3575752026937789|0.007009084342987675|0.012329477828302536|\n",
      "|     302|       2024|           5|                       12730|         NULL|         NULL|187.88400335005574| 161.3371021775529|116.59715242878345| 49.68587909088053|  63.5264068766189|88.43887510313657|       182.0|       145.0|        80.0|    146.0|    106.0|     41.0|    240.0|    228.0|    208.0|                       294903.0|155.27275265217372|0.004606365159128307|0.6637877539395189|  0.3362122460606447| 0.01969170492379235| 0.02426221503341221|0.35757520269370585|0.007009084342986541|0.012329477828302526|\n",
      "|     302|       2024|           7|                        9860|         NULL|         NULL|187.88400335005872| 161.3371021775529|116.59715242880729| 49.68587909087392|63.526406876616704|88.43887510313655|       182.0|       145.0|        80.0|    146.0|    106.0|     41.0|    240.0|    228.0|    208.0|                       294903.0| 155.2727526521726|0.004606365159128739|0.6637877539394701| 0.33621224606063405|0.019691704923793966|0.024262215033417075|0.35757520269372955| 0.00700908434298774| 0.01232947782830253|\n",
      "|     312|       2024|          10|                          12|         NULL|         NULL|162.05640902544408|134.03384541526648| 90.25924147863658|  56.0194867138894| 70.37938730860283|92.54612687113534|       140.0|       103.0|        44.0|    119.0|     82.0|     25.0|    209.0|    183.0|    139.0|                          144.0|128.78316530644884|0.014882381180988955|0.6666666666666666|  0.3333333333333333|0.023809523809523805| 0.02916666666666662|               0.25|                 0.0|                 0.0|\n",
      "|     409|       2024|           9|                           1|         NULL|         NULL|170.17024158952358|143.34906299390383|102.53149695190788| 58.08453259123121| 74.13394020603737|97.40702705473618|       148.0|       108.0|        49.0|    120.0|     81.0|     25.0|    244.0|    239.0|    232.0|                            1.0|138.68360051177868|0.009934522465567848|               1.0|                 0.0|                 0.0|                0.05|                0.0|                 0.0|                 0.0|\n",
      "|     302|       2024|           9|                        8874|         NULL|         NULL|187.88400335006017| 161.3371021775529|116.59715242881747| 49.68587909087557| 63.52640687661563|88.43887510313657|       182.0|       145.0|        80.0|    146.0|    106.0|     41.0|    240.0|    228.0|    208.0|                       294903.0|155.27275265217204|0.004606365159128952| 0.663787753939446| 0.33621224606061917| 0.01969170492379476|0.024262215033417075|0.35757520269374127|0.007009084342988125|0.012329477828302531|\n",
      "|     312|       2024|           8|                          24|         NULL|         NULL|162.05640902544417|134.03384541526654| 90.25924147863658|56.019486713889385| 70.37938730860286|92.54612687113534|       140.0|       103.0|        44.0|    119.0|     82.0|     25.0|    209.0|    183.0|    139.0|                          144.0|128.78316530644875|0.014882381180988951|0.6666666666666664|  0.3333333333333332|0.023809523809523798|0.029166666666666608|               0.25|                 0.0|                 0.0|\n",
      "|     312|       2024|           4|                          12|         NULL|         NULL|162.05640902544408|134.03384541526648| 90.25924147863658|  56.0194867138894| 70.37938730860283|92.54612687113534|       140.0|       103.0|        44.0|    119.0|     82.0|     25.0|    209.0|    183.0|    139.0|                          144.0|128.78316530644884|0.014882381180988955|0.6666666666666666|  0.3333333333333333|0.023809523809523805| 0.02916666666666662|               0.25|                 0.0|                 0.0|\n",
      "|     205|       2024|          12|                           3|         NULL|         NULL| 183.9747155499368|162.35145385587865|118.52170248630425| 52.86268158259936|  64.5283997227383|89.57144108180529|       177.0|       147.0|        82.0|    139.0|    106.0|     44.0|    247.0|    243.0|    235.0|                           10.0| 154.9492906307071|0.005478297513695743|               0.3|  0.6999999999999998| 0.04285714285714285|                0.02|                0.3|                 0.0|                 0.0|\n",
      "+--------+-----------+------------+----------------------------+-------------+-------------+------------------+------------------+------------------+------------------+------------------+-----------------+------------+------------+------------+---------+---------+---------+---------+---------+---------+-------------------------------+------------------+--------------------+------------------+--------------------+--------------------+--------------------+-------------------+--------------------+--------------------+\n",
      "\n"
     ]
    }
   ],
   "source": [
    "df = spark.read.parquet(f\"{path_data}/nyc_full_buildings.parquet\")\n",
    "df.show(105)"
   ]
  },
  {
   "cell_type": "code",
   "execution_count": null,
   "metadata": {},
   "outputs": [],
   "source": []
  },
  {
   "cell_type": "code",
   "execution_count": null,
   "metadata": {},
   "outputs": [
    {
     "name": "stdout",
     "output_type": "stream",
     "text": [
      "+------------+--------+--------+\n",
      "|ARREST_Month|count(1)|District|\n",
      "+------------+--------+--------+\n",
      "|           6|       6|     205|\n",
      "|           7|       1|     205|\n",
      "|          12|       3|     205|\n",
      "|           1|      88|     209|\n",
      "|           2|      88|     209|\n",
      "|           3|     220|     209|\n",
      "|           4|     264|     209|\n",
      "|           5|     440|     209|\n",
      "|           7|     220|     209|\n",
      "|           8|     176|     209|\n",
      "|           9|     132|     209|\n",
      "|          10|     176|     209|\n",
      "|          11|      88|     209|\n",
      "|          12|      44|     209|\n",
      "|           2|       8|     212|\n",
      "|           4|      13|     212|\n",
      "|           7|      23|     212|\n",
      "|           8|       7|     212|\n",
      "|           9|      16|     212|\n",
      "|          10|      24|     212|\n",
      "|          12|       2|     212|\n",
      "|           1|      67|     301|\n",
      "|           2|      42|     301|\n",
      "|           3|      12|     301|\n",
      "|           4|      32|     301|\n",
      "|           5|     111|     301|\n",
      "|           6|      52|     301|\n",
      "|           7|      43|     301|\n",
      "|           8|      68|     301|\n",
      "|          10|      47|     301|\n",
      "|          11|      12|     301|\n",
      "|          12|      48|     301|\n",
      "|           1|    9471|     302|\n",
      "|           2|    3353|     302|\n",
      "|           3|    7203|     302|\n",
      "|           4|    5798|     302|\n",
      "|           5|   12730|     302|\n",
      "|           6|   10494|     302|\n",
      "|           7|    9860|     302|\n",
      "|           8|    6712|     302|\n",
      "|           9|    8874|     302|\n",
      "|          10|    5980|     302|\n",
      "|          11|   10705|     302|\n",
      "|          12|    7121|     302|\n",
      "|           1|     720|     303|\n",
      "|           2|     240|     303|\n",
      "|           4|    1680|     303|\n",
      "|           5|    2160|     303|\n",
      "|           6|    2160|     303|\n",
      "|           7|     840|     303|\n",
      "|           8|     840|     303|\n",
      "|           9|    1440|     303|\n",
      "|          10|    1560|     303|\n",
      "|          11|    1560|     303|\n",
      "|          12|    1200|     303|\n",
      "|           7|       1|     304|\n",
      "|           8|       1|     305|\n",
      "|           1|    1199|     306|\n",
      "|           2|     655|     306|\n",
      "|           3|     981|     306|\n",
      "|           4|     545|     306|\n",
      "|           5|     981|     306|\n",
      "|           6|     654|     306|\n",
      "|           7|     872|     306|\n",
      "|           8|     654|     306|\n",
      "|           9|    1090|     306|\n",
      "|          10|    1853|     306|\n",
      "|          11|    1208|     306|\n",
      "|          12|    1199|     306|\n",
      "|           5|       1|     311|\n",
      "|           1|      12|     312|\n",
      "|           2|      12|     312|\n",
      "|           4|      12|     312|\n",
      "|           5|      12|     312|\n",
      "|           6|      12|     312|\n",
      "|           7|      24|     312|\n",
      "|           8|      24|     312|\n",
      "|          10|      12|     312|\n",
      "|          11|      24|     312|\n",
      "|           2|      10|     313|\n",
      "|           4|       5|     313|\n",
      "|           6|       5|     313|\n",
      "|           8|       5|     313|\n",
      "|           6|       1|     314|\n",
      "|          10|       1|     315|\n",
      "|           1|      92|     402|\n",
      "|           2|       6|     402|\n",
      "|           3|     188|     402|\n",
      "|           4|     237|     402|\n",
      "|           5|     626|     402|\n",
      "|           6|     290|     402|\n",
      "|           7|     421|     402|\n",
      "|           9|       4|     402|\n",
      "|          10|      53|     402|\n",
      "|          11|     290|     402|\n",
      "|          12|      21|     402|\n",
      "|           3|       9|     403|\n",
      "|           1|    4524|     404|\n",
      "|           2|    4065|     404|\n",
      "|           3|    5820|     404|\n",
      "+------------+--------+--------+\n",
      "only showing top 100 rows\n",
      "\n"
     ]
    }
   ],
   "source": [
    "df.createOrReplaceTempView(\"df\")\n",
    "\n",
    "n = spark.sql(\"\"\"\n",
    "    select\n",
    "              ARREST_Month,\n",
    "        count(*), \n",
    "        District \n",
    "    from df\n",
    "            group by District , ARREST_Month\n",
    "            Order by district , ARREST_Month , count(*)\n",
    "\"\"\")\n",
    "n.show(100)\n"
   ]
  },
  {
   "cell_type": "code",
   "execution_count": 37,
   "metadata": {},
   "outputs": [
    {
     "name": "stdout",
     "output_type": "stream",
     "text": [
      "+--------+--------------------+-----------------+---------------+----------------+-----------+----------------+--------------------+----------+---------------------------+----------------+--------------------+---------------------+------------------------+--------------------+--------------------+------------------+---------------+---------------+\n",
      "|district|            the_geom|Construction Year|Geometry Source|Ground Elevation|Height Roof|LAST_STATUS_TYPE|          geom_point|intersects|total_buildings_in_district| avg_height_roof|avg_ground_elevation|avg_construction_year|median_construction_year|q25_ground_elevation|q75_ground_elevation|median_height_roof|q25_height_roof|q75_height_roof|\n",
      "+--------+--------------------+-----------------+---------------+----------------+-----------+----------------+--------------------+----------+---------------------------+----------------+--------------------+---------------------+------------------------+--------------------+--------------------+------------------+---------------+---------------+\n",
      "|     306|POINT (-73.976912...|             2003| Other (Manual)|              51|       57.0|     Constructed|POINT (-73.976912...|      true|                      35670|44.9100000000014|  49.666666666666664|               1961.5|                    2003|                  47|                  51|              57.0|          20.73|           57.0|\n",
      "|     306|POINT (-73.976912...|             2003| Other (Manual)|              51|       57.0|     Constructed|POINT (-73.976912...|      true|                      35670|44.9100000000014|  49.666666666666664|               1961.5|                    2003|                  47|                  51|              57.0|          20.73|           57.0|\n",
      "|     306|POINT (-73.976912...|             2003| Other (Manual)|              51|       57.0|     Constructed|POINT (-73.976912...|      true|                      35670|44.9100000000014|  49.666666666666664|               1961.5|                    2003|                  47|                  51|              57.0|          20.73|           57.0|\n",
      "|     306|POINT (-73.976912...|             2003| Other (Manual)|              51|       57.0|     Constructed|POINT (-73.976912...|      true|                      35670|44.9100000000014|  49.666666666666664|               1961.5|                    2003|                  47|                  51|              57.0|          20.73|           57.0|\n",
      "|     306|POINT (-73.976912...|             2003| Other (Manual)|              51|       57.0|     Constructed|POINT (-73.976912...|      true|                      35670|44.9100000000014|  49.666666666666664|               1961.5|                    2003|                  47|                  51|              57.0|          20.73|           57.0|\n",
      "|     306|POINT (-73.976912...|             2003| Other (Manual)|              51|       57.0|     Constructed|POINT (-73.976912...|      true|                      35670|44.9100000000014|  49.666666666666664|               1961.5|                    2003|                  47|                  51|              57.0|          20.73|           57.0|\n",
      "|     306|POINT (-73.976912...|             2003| Other (Manual)|              51|       57.0|     Constructed|POINT (-73.976912...|      true|                      35670|44.9100000000014|  49.666666666666664|               1961.5|                    2003|                  47|                  51|              57.0|          20.73|           57.0|\n",
      "|     306|POINT (-73.976912...|             2003| Other (Manual)|              51|       57.0|     Constructed|POINT (-73.976912...|      true|                      35670|44.9100000000014|  49.666666666666664|               1961.5|                    2003|                  47|                  51|              57.0|          20.73|           57.0|\n",
      "|     306|POINT (-73.976912...|             2003| Other (Manual)|              51|       57.0|     Constructed|POINT (-73.976912...|      true|                      35670|44.9100000000014|  49.666666666666664|               1961.5|                    2003|                  47|                  51|              57.0|          20.73|           57.0|\n",
      "|     306|POINT (-73.976912...|             2003| Other (Manual)|              51|       57.0|     Constructed|POINT (-73.976912...|      true|                      35670|44.9100000000014|  49.666666666666664|               1961.5|                    2003|                  47|                  51|              57.0|          20.73|           57.0|\n",
      "|     306|POINT (-73.976912...|             2003| Other (Manual)|              51|       57.0|     Constructed|POINT (-73.976912...|      true|                      35670|44.9100000000014|  49.666666666666664|               1961.5|                    2003|                  47|                  51|              57.0|          20.73|           57.0|\n",
      "|     306|POINT (-73.976912...|             2003| Other (Manual)|              51|       57.0|     Constructed|POINT (-73.976912...|      true|                      35670|44.9100000000014|  49.666666666666664|               1961.5|                    2003|                  47|                  51|              57.0|          20.73|           57.0|\n",
      "|     306|POINT (-73.976912...|             2003| Other (Manual)|              51|       57.0|     Constructed|POINT (-73.976912...|      true|                      35670|44.9100000000014|  49.666666666666664|               1961.5|                    2003|                  47|                  51|              57.0|          20.73|           57.0|\n",
      "|     306|POINT (-73.976912...|             2003| Other (Manual)|              51|       57.0|     Constructed|POINT (-73.976912...|      true|                      35670|44.9100000000014|  49.666666666666664|               1961.5|                    2003|                  47|                  51|              57.0|          20.73|           57.0|\n",
      "|     306|POINT (-73.976912...|             2003| Other (Manual)|              51|       57.0|     Constructed|POINT (-73.976912...|      true|                      35670|44.9100000000014|  49.666666666666664|               1961.5|                    2003|                  47|                  51|              57.0|          20.73|           57.0|\n",
      "|     306|POINT (-73.976912...|             2003| Other (Manual)|              51|       57.0|     Constructed|POINT (-73.976912...|      true|                      35670|44.9100000000014|  49.666666666666664|               1961.5|                    2003|                  47|                  51|              57.0|          20.73|           57.0|\n",
      "|     306|POINT (-73.976912...|             2003| Other (Manual)|              51|       57.0|     Constructed|POINT (-73.976912...|      true|                      35670|44.9100000000014|  49.666666666666664|               1961.5|                    2003|                  47|                  51|              57.0|          20.73|           57.0|\n",
      "|     306|POINT (-73.976912...|             2003| Other (Manual)|              51|       57.0|     Constructed|POINT (-73.976912...|      true|                      35670|44.9100000000014|  49.666666666666664|               1961.5|                    2003|                  47|                  51|              57.0|          20.73|           57.0|\n",
      "|     306|POINT (-73.976912...|             2003| Other (Manual)|              51|       57.0|     Constructed|POINT (-73.976912...|      true|                      35670|44.9100000000014|  49.666666666666664|               1961.5|                    2003|                  47|                  51|              57.0|          20.73|           57.0|\n",
      "|     306|POINT (-73.976912...|             2003| Other (Manual)|              51|       57.0|     Constructed|POINT (-73.976912...|      true|                      35670|44.9100000000014|  49.666666666666664|               1961.5|                    2003|                  47|                  51|              57.0|          20.73|           57.0|\n",
      "|     306|POINT (-73.976912...|             2003| Other (Manual)|              51|       57.0|     Constructed|POINT (-73.976912...|      true|                      35670|44.9100000000014|  49.666666666666664|               1961.5|                    2003|                  47|                  51|              57.0|          20.73|           57.0|\n",
      "|     306|POINT (-73.976912...|             2003| Other (Manual)|              51|       57.0|     Constructed|POINT (-73.976912...|      true|                      35670|44.9100000000014|  49.666666666666664|               1961.5|                    2003|                  47|                  51|              57.0|          20.73|           57.0|\n",
      "|     306|POINT (-73.976912...|             2003| Other (Manual)|              51|       57.0|     Constructed|POINT (-73.976912...|      true|                      35670|44.9100000000014|  49.666666666666664|               1961.5|                    2003|                  47|                  51|              57.0|          20.73|           57.0|\n",
      "|     306|POINT (-73.976912...|             2003| Other (Manual)|              51|       57.0|     Constructed|POINT (-73.976912...|      true|                      35670|44.9100000000014|  49.666666666666664|               1961.5|                    2003|                  47|                  51|              57.0|          20.73|           57.0|\n",
      "|     306|POINT (-73.976912...|             2003| Other (Manual)|              51|       57.0|     Constructed|POINT (-73.976912...|      true|                      35670|44.9100000000014|  49.666666666666664|               1961.5|                    2003|                  47|                  51|              57.0|          20.73|           57.0|\n",
      "|     306|POINT (-73.976912...|             2003| Other (Manual)|              51|       57.0|     Constructed|POINT (-73.976912...|      true|                      35670|44.9100000000014|  49.666666666666664|               1961.5|                    2003|                  47|                  51|              57.0|          20.73|           57.0|\n",
      "|     306|POINT (-73.976912...|             2003| Other (Manual)|              51|       57.0|     Constructed|POINT (-73.976912...|      true|                      35670|44.9100000000014|  49.666666666666664|               1961.5|                    2003|                  47|                  51|              57.0|          20.73|           57.0|\n",
      "|     306|POINT (-73.976912...|             2003| Other (Manual)|              51|       57.0|     Constructed|POINT (-73.976912...|      true|                      35670|44.9100000000014|  49.666666666666664|               1961.5|                    2003|                  47|                  51|              57.0|          20.73|           57.0|\n",
      "|     306|POINT (-73.976912...|             2003| Other (Manual)|              51|       57.0|     Constructed|POINT (-73.976912...|      true|                      35670|44.9100000000014|  49.666666666666664|               1961.5|                    2003|                  47|                  51|              57.0|          20.73|           57.0|\n",
      "|     306|POINT (-73.976912...|             2003| Other (Manual)|              51|       57.0|     Constructed|POINT (-73.976912...|      true|                      35670|44.9100000000014|  49.666666666666664|               1961.5|                    2003|                  47|                  51|              57.0|          20.73|           57.0|\n",
      "|     306|POINT (-73.976912...|             2003| Other (Manual)|              51|       57.0|     Constructed|POINT (-73.976912...|      true|                      35670|44.9100000000014|  49.666666666666664|               1961.5|                    2003|                  47|                  51|              57.0|          20.73|           57.0|\n",
      "|     306|POINT (-73.976912...|             2003| Other (Manual)|              51|       57.0|     Constructed|POINT (-73.976912...|      true|                      35670|44.9100000000014|  49.666666666666664|               1961.5|                    2003|                  47|                  51|              57.0|          20.73|           57.0|\n",
      "|     306|POINT (-73.976912...|             2003| Other (Manual)|              51|       57.0|     Constructed|POINT (-73.976912...|      true|                      35670|44.9100000000014|  49.666666666666664|               1961.5|                    2003|                  47|                  51|              57.0|          20.73|           57.0|\n",
      "|     306|POINT (-73.976912...|             2003| Other (Manual)|              51|       57.0|     Constructed|POINT (-73.976912...|      true|                      35670|44.9100000000014|  49.666666666666664|               1961.5|                    2003|                  47|                  51|              57.0|          20.73|           57.0|\n",
      "|     306|POINT (-73.976912...|             2003| Other (Manual)|              51|       57.0|     Constructed|POINT (-73.976912...|      true|                      35670|44.9100000000014|  49.666666666666664|               1961.5|                    2003|                  47|                  51|              57.0|          20.73|           57.0|\n",
      "|     306|POINT (-73.976912...|             2003| Other (Manual)|              51|       57.0|     Constructed|POINT (-73.976912...|      true|                      35670|44.9100000000014|  49.666666666666664|               1961.5|                    2003|                  47|                  51|              57.0|          20.73|           57.0|\n",
      "|     306|POINT (-73.976912...|             2003| Other (Manual)|              51|       57.0|     Constructed|POINT (-73.976912...|      true|                      35670|44.9100000000014|  49.666666666666664|               1961.5|                    2003|                  47|                  51|              57.0|          20.73|           57.0|\n",
      "|     306|POINT (-73.976912...|             2003| Other (Manual)|              51|       57.0|     Constructed|POINT (-73.976912...|      true|                      35670|44.9100000000014|  49.666666666666664|               1961.5|                    2003|                  47|                  51|              57.0|          20.73|           57.0|\n",
      "|     306|POINT (-73.976912...|             2003| Other (Manual)|              51|       57.0|     Constructed|POINT (-73.976912...|      true|                      35670|44.9100000000014|  49.666666666666664|               1961.5|                    2003|                  47|                  51|              57.0|          20.73|           57.0|\n",
      "|     306|POINT (-73.976912...|             2003| Other (Manual)|              51|       57.0|     Constructed|POINT (-73.976912...|      true|                      35670|44.9100000000014|  49.666666666666664|               1961.5|                    2003|                  47|                  51|              57.0|          20.73|           57.0|\n",
      "|     306|POINT (-73.976912...|             2003| Other (Manual)|              51|       57.0|     Constructed|POINT (-73.976912...|      true|                      35670|44.9100000000014|  49.666666666666664|               1961.5|                    2003|                  47|                  51|              57.0|          20.73|           57.0|\n",
      "|     306|POINT (-73.976912...|             2003| Other (Manual)|              51|       57.0|     Constructed|POINT (-73.976912...|      true|                      35670|44.9100000000014|  49.666666666666664|               1961.5|                    2003|                  47|                  51|              57.0|          20.73|           57.0|\n",
      "|     306|POINT (-73.976912...|             2003| Other (Manual)|              51|       57.0|     Constructed|POINT (-73.976912...|      true|                      35670|44.9100000000014|  49.666666666666664|               1961.5|                    2003|                  47|                  51|              57.0|          20.73|           57.0|\n",
      "|     306|POINT (-73.976912...|             2003| Other (Manual)|              51|       57.0|     Constructed|POINT (-73.976912...|      true|                      35670|44.9100000000014|  49.666666666666664|               1961.5|                    2003|                  47|                  51|              57.0|          20.73|           57.0|\n",
      "|     306|POINT (-73.976912...|             2003| Other (Manual)|              51|       57.0|     Constructed|POINT (-73.976912...|      true|                      35670|44.9100000000014|  49.666666666666664|               1961.5|                    2003|                  47|                  51|              57.0|          20.73|           57.0|\n",
      "|     306|POINT (-73.976912...|             2003| Other (Manual)|              51|       57.0|     Constructed|POINT (-73.976912...|      true|                      35670|44.9100000000014|  49.666666666666664|               1961.5|                    2003|                  47|                  51|              57.0|          20.73|           57.0|\n",
      "|     306|POINT (-73.976912...|             2003| Other (Manual)|              51|       57.0|     Constructed|POINT (-73.976912...|      true|                      35670|44.9100000000014|  49.666666666666664|               1961.5|                    2003|                  47|                  51|              57.0|          20.73|           57.0|\n",
      "|     306|POINT (-73.976912...|             2003| Other (Manual)|              51|       57.0|     Constructed|POINT (-73.976912...|      true|                      35670|44.9100000000014|  49.666666666666664|               1961.5|                    2003|                  47|                  51|              57.0|          20.73|           57.0|\n",
      "|     306|POINT (-73.976912...|             2003| Other (Manual)|              51|       57.0|     Constructed|POINT (-73.976912...|      true|                      35670|44.9100000000014|  49.666666666666664|               1961.5|                    2003|                  47|                  51|              57.0|          20.73|           57.0|\n",
      "|     306|POINT (-73.976912...|             2003| Other (Manual)|              51|       57.0|     Constructed|POINT (-73.976912...|      true|                      35670|44.9100000000014|  49.666666666666664|               1961.5|                    2003|                  47|                  51|              57.0|          20.73|           57.0|\n",
      "|     306|POINT (-73.976912...|             2003| Other (Manual)|              51|       57.0|     Constructed|POINT (-73.976912...|      true|                      35670|44.9100000000014|  49.666666666666664|               1961.5|                    2003|                  47|                  51|              57.0|          20.73|           57.0|\n",
      "|     306|POINT (-73.976912...|             2003| Other (Manual)|              51|       57.0|     Constructed|POINT (-73.976912...|      true|                      35670|44.9100000000014|  49.666666666666664|               1961.5|                    2003|                  47|                  51|              57.0|          20.73|           57.0|\n",
      "|     306|POINT (-73.976912...|             2003| Other (Manual)|              51|       57.0|     Constructed|POINT (-73.976912...|      true|                      35670|44.9100000000014|  49.666666666666664|               1961.5|                    2003|                  47|                  51|              57.0|          20.73|           57.0|\n",
      "|     306|POINT (-73.976912...|             2003| Other (Manual)|              51|       57.0|     Constructed|POINT (-73.976912...|      true|                      35670|44.9100000000014|  49.666666666666664|               1961.5|                    2003|                  47|                  51|              57.0|          20.73|           57.0|\n",
      "|     306|POINT (-73.976912...|             2003| Other (Manual)|              51|       57.0|     Constructed|POINT (-73.976912...|      true|                      35670|44.9100000000014|  49.666666666666664|               1961.5|                    2003|                  47|                  51|              57.0|          20.73|           57.0|\n",
      "|     306|POINT (-73.976912...|             2003| Other (Manual)|              51|       57.0|     Constructed|POINT (-73.976912...|      true|                      35670|44.9100000000014|  49.666666666666664|               1961.5|                    2003|                  47|                  51|              57.0|          20.73|           57.0|\n",
      "|     306|POINT (-73.976912...|             2003| Other (Manual)|              51|       57.0|     Constructed|POINT (-73.976912...|      true|                      35670|44.9100000000014|  49.666666666666664|               1961.5|                    2003|                  47|                  51|              57.0|          20.73|           57.0|\n",
      "|     306|POINT (-73.976912...|             2003| Other (Manual)|              51|       57.0|     Constructed|POINT (-73.976912...|      true|                      35670|44.9100000000014|  49.666666666666664|               1961.5|                    2003|                  47|                  51|              57.0|          20.73|           57.0|\n",
      "|     306|POINT (-73.976912...|             2003| Other (Manual)|              51|       57.0|     Constructed|POINT (-73.976912...|      true|                      35670|44.9100000000014|  49.666666666666664|               1961.5|                    2003|                  47|                  51|              57.0|          20.73|           57.0|\n",
      "|     306|POINT (-73.976912...|             2003| Other (Manual)|              51|       57.0|     Constructed|POINT (-73.976912...|      true|                      35670|44.9100000000014|  49.666666666666664|               1961.5|                    2003|                  47|                  51|              57.0|          20.73|           57.0|\n",
      "|     306|POINT (-73.976912...|             2003| Other (Manual)|              51|       57.0|     Constructed|POINT (-73.976912...|      true|                      35670|44.9100000000014|  49.666666666666664|               1961.5|                    2003|                  47|                  51|              57.0|          20.73|           57.0|\n",
      "|     306|POINT (-73.976912...|             2003| Other (Manual)|              51|       57.0|     Constructed|POINT (-73.976912...|      true|                      35670|44.9100000000014|  49.666666666666664|               1961.5|                    2003|                  47|                  51|              57.0|          20.73|           57.0|\n",
      "|     306|POINT (-73.976912...|             2003| Other (Manual)|              51|       57.0|     Constructed|POINT (-73.976912...|      true|                      35670|44.9100000000014|  49.666666666666664|               1961.5|                    2003|                  47|                  51|              57.0|          20.73|           57.0|\n",
      "|     306|POINT (-73.976912...|             2003| Other (Manual)|              51|       57.0|     Constructed|POINT (-73.976912...|      true|                      35670|44.9100000000014|  49.666666666666664|               1961.5|                    2003|                  47|                  51|              57.0|          20.73|           57.0|\n",
      "|     306|POINT (-73.976912...|             2003| Other (Manual)|              51|       57.0|     Constructed|POINT (-73.976912...|      true|                      35670|44.9100000000014|  49.666666666666664|               1961.5|                    2003|                  47|                  51|              57.0|          20.73|           57.0|\n",
      "|     306|POINT (-73.976912...|             2003| Other (Manual)|              51|       57.0|     Constructed|POINT (-73.976912...|      true|                      35670|44.9100000000014|  49.666666666666664|               1961.5|                    2003|                  47|                  51|              57.0|          20.73|           57.0|\n",
      "|     306|POINT (-73.976912...|             2003| Other (Manual)|              51|       57.0|     Constructed|POINT (-73.976912...|      true|                      35670|44.9100000000014|  49.666666666666664|               1961.5|                    2003|                  47|                  51|              57.0|          20.73|           57.0|\n",
      "|     306|POINT (-73.976912...|             2003| Other (Manual)|              51|       57.0|     Constructed|POINT (-73.976912...|      true|                      35670|44.9100000000014|  49.666666666666664|               1961.5|                    2003|                  47|                  51|              57.0|          20.73|           57.0|\n",
      "|     306|POINT (-73.976912...|             2003| Other (Manual)|              51|       57.0|     Constructed|POINT (-73.976912...|      true|                      35670|44.9100000000014|  49.666666666666664|               1961.5|                    2003|                  47|                  51|              57.0|          20.73|           57.0|\n",
      "|     306|POINT (-73.976912...|             2003| Other (Manual)|              51|       57.0|     Constructed|POINT (-73.976912...|      true|                      35670|44.9100000000014|  49.666666666666664|               1961.5|                    2003|                  47|                  51|              57.0|          20.73|           57.0|\n",
      "|     306|POINT (-73.976912...|             2003| Other (Manual)|              51|       57.0|     Constructed|POINT (-73.976912...|      true|                      35670|44.9100000000014|  49.666666666666664|               1961.5|                    2003|                  47|                  51|              57.0|          20.73|           57.0|\n",
      "|     306|POINT (-73.976912...|             2003| Other (Manual)|              51|       57.0|     Constructed|POINT (-73.976912...|      true|                      35670|44.9100000000014|  49.666666666666664|               1961.5|                    2003|                  47|                  51|              57.0|          20.73|           57.0|\n",
      "|     306|POINT (-73.976912...|             2003| Other (Manual)|              51|       57.0|     Constructed|POINT (-73.976912...|      true|                      35670|44.9100000000014|  49.666666666666664|               1961.5|                    2003|                  47|                  51|              57.0|          20.73|           57.0|\n",
      "|     306|POINT (-73.976912...|             2003| Other (Manual)|              51|       57.0|     Constructed|POINT (-73.976912...|      true|                      35670|44.9100000000014|  49.666666666666664|               1961.5|                    2003|                  47|                  51|              57.0|          20.73|           57.0|\n",
      "|     306|POINT (-73.976912...|             2003| Other (Manual)|              51|       57.0|     Constructed|POINT (-73.976912...|      true|                      35670|44.9100000000014|  49.666666666666664|               1961.5|                    2003|                  47|                  51|              57.0|          20.73|           57.0|\n",
      "|     306|POINT (-73.976912...|             2003| Other (Manual)|              51|       57.0|     Constructed|POINT (-73.976912...|      true|                      35670|44.9100000000014|  49.666666666666664|               1961.5|                    2003|                  47|                  51|              57.0|          20.73|           57.0|\n",
      "|     306|POINT (-73.976912...|             2003| Other (Manual)|              51|       57.0|     Constructed|POINT (-73.976912...|      true|                      35670|44.9100000000014|  49.666666666666664|               1961.5|                    2003|                  47|                  51|              57.0|          20.73|           57.0|\n",
      "|     306|POINT (-73.976912...|             2003| Other (Manual)|              51|       57.0|     Constructed|POINT (-73.976912...|      true|                      35670|44.9100000000014|  49.666666666666664|               1961.5|                    2003|                  47|                  51|              57.0|          20.73|           57.0|\n",
      "|     306|POINT (-73.976912...|             2003| Other (Manual)|              51|       57.0|     Constructed|POINT (-73.976912...|      true|                      35670|44.9100000000014|  49.666666666666664|               1961.5|                    2003|                  47|                  51|              57.0|          20.73|           57.0|\n",
      "|     306|POINT (-73.976912...|             2003| Other (Manual)|              51|       57.0|     Constructed|POINT (-73.976912...|      true|                      35670|44.9100000000014|  49.666666666666664|               1961.5|                    2003|                  47|                  51|              57.0|          20.73|           57.0|\n",
      "|     306|POINT (-73.976912...|             2003| Other (Manual)|              51|       57.0|     Constructed|POINT (-73.976912...|      true|                      35670|44.9100000000014|  49.666666666666664|               1961.5|                    2003|                  47|                  51|              57.0|          20.73|           57.0|\n",
      "|     306|POINT (-73.976912...|             2003| Other (Manual)|              51|       57.0|     Constructed|POINT (-73.976912...|      true|                      35670|44.9100000000014|  49.666666666666664|               1961.5|                    2003|                  47|                  51|              57.0|          20.73|           57.0|\n",
      "|     306|POINT (-73.976912...|             2003| Other (Manual)|              51|       57.0|     Constructed|POINT (-73.976912...|      true|                      35670|44.9100000000014|  49.666666666666664|               1961.5|                    2003|                  47|                  51|              57.0|          20.73|           57.0|\n",
      "|     306|POINT (-73.976912...|             2003| Other (Manual)|              51|       57.0|     Constructed|POINT (-73.976912...|      true|                      35670|44.9100000000014|  49.666666666666664|               1961.5|                    2003|                  47|                  51|              57.0|          20.73|           57.0|\n",
      "|     306|POINT (-73.976912...|             2003| Other (Manual)|              51|       57.0|     Constructed|POINT (-73.976912...|      true|                      35670|44.9100000000014|  49.666666666666664|               1961.5|                    2003|                  47|                  51|              57.0|          20.73|           57.0|\n",
      "|     306|POINT (-73.976912...|             2003| Other (Manual)|              51|       57.0|     Constructed|POINT (-73.976912...|      true|                      35670|44.9100000000014|  49.666666666666664|               1961.5|                    2003|                  47|                  51|              57.0|          20.73|           57.0|\n",
      "|     306|POINT (-73.976912...|             2003| Other (Manual)|              51|       57.0|     Constructed|POINT (-73.976912...|      true|                      35670|44.9100000000014|  49.666666666666664|               1961.5|                    2003|                  47|                  51|              57.0|          20.73|           57.0|\n",
      "|     306|POINT (-73.976912...|             2003| Other (Manual)|              51|       57.0|     Constructed|POINT (-73.976912...|      true|                      35670|44.9100000000014|  49.666666666666664|               1961.5|                    2003|                  47|                  51|              57.0|          20.73|           57.0|\n",
      "|     306|POINT (-73.976912...|             2003| Other (Manual)|              51|       57.0|     Constructed|POINT (-73.976912...|      true|                      35670|44.9100000000014|  49.666666666666664|               1961.5|                    2003|                  47|                  51|              57.0|          20.73|           57.0|\n",
      "|     306|POINT (-73.976912...|             2003| Other (Manual)|              51|       57.0|     Constructed|POINT (-73.976912...|      true|                      35670|44.9100000000014|  49.666666666666664|               1961.5|                    2003|                  47|                  51|              57.0|          20.73|           57.0|\n",
      "|     306|POINT (-73.976912...|             2003| Other (Manual)|              51|       57.0|     Constructed|POINT (-73.976912...|      true|                      35670|44.9100000000014|  49.666666666666664|               1961.5|                    2003|                  47|                  51|              57.0|          20.73|           57.0|\n",
      "|     306|POINT (-73.976912...|             2003| Other (Manual)|              51|       57.0|     Constructed|POINT (-73.976912...|      true|                      35670|44.9100000000014|  49.666666666666664|               1961.5|                    2003|                  47|                  51|              57.0|          20.73|           57.0|\n",
      "|     306|POINT (-73.976912...|             2003| Other (Manual)|              51|       57.0|     Constructed|POINT (-73.976912...|      true|                      35670|44.9100000000014|  49.666666666666664|               1961.5|                    2003|                  47|                  51|              57.0|          20.73|           57.0|\n",
      "|     306|POINT (-73.976912...|             2003| Other (Manual)|              51|       57.0|     Constructed|POINT (-73.976912...|      true|                      35670|44.9100000000014|  49.666666666666664|               1961.5|                    2003|                  47|                  51|              57.0|          20.73|           57.0|\n",
      "|     306|POINT (-73.976912...|             2003| Other (Manual)|              51|       57.0|     Constructed|POINT (-73.976912...|      true|                      35670|44.9100000000014|  49.666666666666664|               1961.5|                    2003|                  47|                  51|              57.0|          20.73|           57.0|\n",
      "|     306|POINT (-73.976912...|             2003| Other (Manual)|              51|       57.0|     Constructed|POINT (-73.976912...|      true|                      35670|44.9100000000014|  49.666666666666664|               1961.5|                    2003|                  47|                  51|              57.0|          20.73|           57.0|\n",
      "|     306|POINT (-73.976912...|             2003| Other (Manual)|              51|       57.0|     Constructed|POINT (-73.976912...|      true|                      35670|44.9100000000014|  49.666666666666664|               1961.5|                    2003|                  47|                  51|              57.0|          20.73|           57.0|\n",
      "|     306|POINT (-73.976912...|             2003| Other (Manual)|              51|       57.0|     Constructed|POINT (-73.976912...|      true|                      35670|44.9100000000014|  49.666666666666664|               1961.5|                    2003|                  47|                  51|              57.0|          20.73|           57.0|\n",
      "|     306|POINT (-73.976912...|             2003| Other (Manual)|              51|       57.0|     Constructed|POINT (-73.976912...|      true|                      35670|44.9100000000014|  49.666666666666664|               1961.5|                    2003|                  47|                  51|              57.0|          20.73|           57.0|\n",
      "|     306|POINT (-73.976912...|             2003| Other (Manual)|              51|       57.0|     Constructed|POINT (-73.976912...|      true|                      35670|44.9100000000014|  49.666666666666664|               1961.5|                    2003|                  47|                  51|              57.0|          20.73|           57.0|\n",
      "+--------+--------------------+-----------------+---------------+----------------+-----------+----------------+--------------------+----------+---------------------------+----------------+--------------------+---------------------+------------------------+--------------------+--------------------+------------------+---------------+---------------+\n",
      "only showing top 100 rows\n",
      "\n"
     ]
    }
   ],
   "source": [
    "buildings = buildings.join(agg_dist, on=\"district\", how=\"left\")\n",
    "buildings.show(100)"
   ]
  },
  {
   "cell_type": "code",
   "execution_count": null,
   "metadata": {},
   "outputs": [],
   "source": []
  },
  {
   "cell_type": "code",
   "execution_count": 11,
   "metadata": {},
   "outputs": [],
   "source": [
    "buildings = buildings.withColumnRenamed(\"Construction Year\", \"construction_year\") \\\n",
    "                        .withColumnRenamed(\"the_geom\", \"geometry_from_build\") \\\n",
    "                     .withColumnRenamed(\"LAST_STATUS_TYPE\", \"last_status_type\")\n",
    "buildings =  buildings.drop(\"geom_point\",\"intersects\", \"district\")\n"
   ]
  },
  {
   "cell_type": "code",
   "execution_count": null,
   "metadata": {},
   "outputs": [
    {
     "name": "stdout",
     "output_type": "stream",
     "text": [
      "+--------------------+-----------------+---------------+----------------+-----------+----------------+\n",
      "| geometry_from_build|construction_year|Geometry Source|Ground Elevation|Height Roof|last_status_type|\n",
      "+--------------------+-----------------+---------------+----------------+-----------+----------------+\n",
      "|POINT (-73.978008...|             1920|Photogrammetric|              47|      20.73|     Constructed|\n",
      "|POINT (-73.978008...|             1920|Photogrammetric|              47|      20.73|     Constructed|\n",
      "|POINT (-73.978008...|             1920|Photogrammetric|              47|      20.73|     Constructed|\n",
      "|POINT (-73.978008...|             1920|Photogrammetric|              47|      20.73|     Constructed|\n",
      "|POINT (-73.978008...|             1920|Photogrammetric|              47|      20.73|     Constructed|\n",
      "|POINT (-73.978008...|             1920|Photogrammetric|              47|      20.73|     Constructed|\n",
      "|POINT (-73.978008...|             1920|Photogrammetric|              47|      20.73|     Constructed|\n",
      "|POINT (-73.978008...|             1920|Photogrammetric|              47|      20.73|     Constructed|\n",
      "|POINT (-73.978008...|             1920|Photogrammetric|              47|      20.73|     Constructed|\n",
      "|POINT (-73.978008...|             1920|Photogrammetric|              47|      20.73|     Constructed|\n",
      "|POINT (-73.978008...|             1920|Photogrammetric|              47|      20.73|     Constructed|\n",
      "|POINT (-73.978008...|             1920|Photogrammetric|              47|      20.73|     Constructed|\n",
      "|POINT (-73.978008...|             1920|Photogrammetric|              47|      20.73|     Constructed|\n",
      "|POINT (-73.978008...|             1920|Photogrammetric|              47|      20.73|     Constructed|\n",
      "|POINT (-73.978008...|             1920|Photogrammetric|              47|      20.73|     Constructed|\n",
      "|POINT (-73.978008...|             1920|Photogrammetric|              47|      20.73|     Constructed|\n",
      "|POINT (-73.978008...|             1920|Photogrammetric|              47|      20.73|     Constructed|\n",
      "|POINT (-73.978008...|             1920|Photogrammetric|              47|      20.73|     Constructed|\n",
      "|POINT (-73.978008...|             1920|Photogrammetric|              47|      20.73|     Constructed|\n",
      "|POINT (-73.978008...|             1920|Photogrammetric|              47|      20.73|     Constructed|\n",
      "|POINT (-73.978008...|             1920|Photogrammetric|              47|      20.73|     Constructed|\n",
      "|POINT (-73.978008...|             1920|Photogrammetric|              47|      20.73|     Constructed|\n",
      "|POINT (-73.978008...|             1920|Photogrammetric|              47|      20.73|     Constructed|\n",
      "|POINT (-73.978008...|             1920|Photogrammetric|              47|      20.73|     Constructed|\n",
      "|POINT (-73.978008...|             1920|Photogrammetric|              47|      20.73|     Constructed|\n",
      "|POINT (-73.978008...|             1920|Photogrammetric|              47|      20.73|     Constructed|\n",
      "|POINT (-73.978008...|             1920|Photogrammetric|              47|      20.73|     Constructed|\n",
      "|POINT (-73.978008...|             1920|Photogrammetric|              47|      20.73|     Constructed|\n",
      "|POINT (-73.978008...|             1920|Photogrammetric|              47|      20.73|     Constructed|\n",
      "|POINT (-73.978008...|             1920|Photogrammetric|              47|      20.73|     Constructed|\n",
      "|POINT (-73.978008...|             1920|Photogrammetric|              47|      20.73|     Constructed|\n",
      "|POINT (-73.978008...|             1920|Photogrammetric|              47|      20.73|     Constructed|\n",
      "|POINT (-73.978008...|             1920|Photogrammetric|              47|      20.73|     Constructed|\n",
      "|POINT (-73.978008...|             1920|Photogrammetric|              47|      20.73|     Constructed|\n",
      "|POINT (-73.978008...|             1920|Photogrammetric|              47|      20.73|     Constructed|\n",
      "|POINT (-73.978008...|             1920|Photogrammetric|              47|      20.73|     Constructed|\n",
      "|POINT (-73.978008...|             1920|Photogrammetric|              47|      20.73|     Constructed|\n",
      "|POINT (-73.978008...|             1920|Photogrammetric|              47|      20.73|     Constructed|\n",
      "|POINT (-73.978008...|             1920|Photogrammetric|              47|      20.73|     Constructed|\n",
      "|POINT (-73.978008...|             1920|Photogrammetric|              47|      20.73|     Constructed|\n",
      "|POINT (-73.978008...|             1920|Photogrammetric|              47|      20.73|     Constructed|\n",
      "|POINT (-73.978008...|             1920|Photogrammetric|              47|      20.73|     Constructed|\n",
      "|POINT (-73.978008...|             1920|Photogrammetric|              47|      20.73|     Constructed|\n",
      "|POINT (-73.978008...|             1920|Photogrammetric|              47|      20.73|     Constructed|\n",
      "|POINT (-73.978008...|             1920|Photogrammetric|              47|      20.73|     Constructed|\n",
      "|POINT (-73.978008...|             1920|Photogrammetric|              47|      20.73|     Constructed|\n",
      "|POINT (-73.978008...|             1920|Photogrammetric|              47|      20.73|     Constructed|\n",
      "|POINT (-73.978008...|             1920|Photogrammetric|              47|      20.73|     Constructed|\n",
      "|POINT (-73.978008...|             1920|Photogrammetric|              47|      20.73|     Constructed|\n",
      "|POINT (-73.978008...|             1920|Photogrammetric|              47|      20.73|     Constructed|\n",
      "|POINT (-73.978008...|             1920|Photogrammetric|              47|      20.73|     Constructed|\n",
      "|POINT (-73.978008...|             1920|Photogrammetric|              47|      20.73|     Constructed|\n",
      "|POINT (-73.978008...|             1920|Photogrammetric|              47|      20.73|     Constructed|\n",
      "|POINT (-73.978008...|             1920|Photogrammetric|              47|      20.73|     Constructed|\n",
      "|POINT (-73.978008...|             1920|Photogrammetric|              47|      20.73|     Constructed|\n",
      "|POINT (-73.978008...|             1920|Photogrammetric|              47|      20.73|     Constructed|\n",
      "|POINT (-73.978008...|             1920|Photogrammetric|              47|      20.73|     Constructed|\n",
      "|POINT (-73.978008...|             1920|Photogrammetric|              47|      20.73|     Constructed|\n",
      "|POINT (-73.978008...|             1920|Photogrammetric|              47|      20.73|     Constructed|\n",
      "|POINT (-73.978008...|             1920|Photogrammetric|              47|      20.73|     Constructed|\n",
      "|POINT (-73.978008...|             1920|Photogrammetric|              47|      20.73|     Constructed|\n",
      "|POINT (-73.978008...|             1920|Photogrammetric|              47|      20.73|     Constructed|\n",
      "|POINT (-73.978008...|             1920|Photogrammetric|              47|      20.73|     Constructed|\n",
      "|POINT (-73.978008...|             1920|Photogrammetric|              47|      20.73|     Constructed|\n",
      "|POINT (-73.978008...|             1920|Photogrammetric|              47|      20.73|     Constructed|\n",
      "|POINT (-73.978008...|             1920|Photogrammetric|              47|      20.73|     Constructed|\n",
      "|POINT (-73.978008...|             1920|Photogrammetric|              47|      20.73|     Constructed|\n",
      "|POINT (-73.978008...|             1920|Photogrammetric|              47|      20.73|     Constructed|\n",
      "|POINT (-73.978008...|             1920|Photogrammetric|              47|      20.73|     Constructed|\n",
      "|POINT (-73.978008...|             1920|Photogrammetric|              47|      20.73|     Constructed|\n",
      "|POINT (-73.978008...|             1920|Photogrammetric|              47|      20.73|     Constructed|\n",
      "|POINT (-73.978008...|             1920|Photogrammetric|              47|      20.73|     Constructed|\n",
      "|POINT (-73.978008...|             1920|Photogrammetric|              47|      20.73|     Constructed|\n",
      "|POINT (-73.978008...|             1920|Photogrammetric|              47|      20.73|     Constructed|\n",
      "|POINT (-73.978008...|             1920|Photogrammetric|              47|      20.73|     Constructed|\n",
      "|POINT (-73.978008...|             1920|Photogrammetric|              47|      20.73|     Constructed|\n",
      "|POINT (-73.978008...|             1920|Photogrammetric|              47|      20.73|     Constructed|\n",
      "|POINT (-73.978008...|             1920|Photogrammetric|              47|      20.73|     Constructed|\n",
      "|POINT (-73.978008...|             1920|Photogrammetric|              47|      20.73|     Constructed|\n",
      "|POINT (-73.978008...|             1920|Photogrammetric|              47|      20.73|     Constructed|\n",
      "|POINT (-73.978008...|             1920|Photogrammetric|              47|      20.73|     Constructed|\n",
      "|POINT (-73.978008...|             1920|Photogrammetric|              47|      20.73|     Constructed|\n",
      "|POINT (-73.978008...|             1920|Photogrammetric|              47|      20.73|     Constructed|\n",
      "|POINT (-73.978008...|             1920|Photogrammetric|              47|      20.73|     Constructed|\n",
      "|POINT (-73.978008...|             1920|Photogrammetric|              47|      20.73|     Constructed|\n",
      "|POINT (-73.978008...|             1920|Photogrammetric|              47|      20.73|     Constructed|\n",
      "|POINT (-73.978008...|             1920|Photogrammetric|              47|      20.73|     Constructed|\n",
      "|POINT (-73.978008...|             1920|Photogrammetric|              47|      20.73|     Constructed|\n",
      "|POINT (-73.978008...|             1920|Photogrammetric|              47|      20.73|     Constructed|\n",
      "|POINT (-73.978008...|             1920|Photogrammetric|              47|      20.73|     Constructed|\n",
      "|POINT (-73.978008...|             1920|Photogrammetric|              47|      20.73|     Constructed|\n",
      "|POINT (-73.978008...|             1920|Photogrammetric|              47|      20.73|     Constructed|\n",
      "|POINT (-73.978008...|             1920|Photogrammetric|              47|      20.73|     Constructed|\n",
      "|POINT (-73.978008...|             1920|Photogrammetric|              47|      20.73|     Constructed|\n",
      "|POINT (-73.978008...|             1920|Photogrammetric|              47|      20.73|     Constructed|\n",
      "|POINT (-73.978008...|             1920|Photogrammetric|              47|      20.73|     Constructed|\n",
      "|POINT (-73.978008...|             1920|Photogrammetric|              47|      20.73|     Constructed|\n",
      "|POINT (-73.978008...|             1920|Photogrammetric|              47|      20.73|     Constructed|\n",
      "|POINT (-73.978008...|             1920|Photogrammetric|              47|      20.73|     Constructed|\n",
      "|POINT (-73.978008...|             1920|Photogrammetric|              47|      20.73|     Constructed|\n",
      "+--------------------+-----------------+---------------+----------------+-----------+----------------+\n",
      "only showing top 100 rows\n",
      "\n"
     ]
    },
    {
     "name": "stderr",
     "output_type": "stream",
     "text": [
      "                                                                                \r"
     ]
    },
    {
     "name": "stderr",
     "output_type": "stream",
     "text": [
      "[Stage 34:=================================================>        (6 + 1) / 7]\r"
     ]
    }
   ],
   "source": [
    "buildings.show(100)"
   ]
  },
  {
   "cell_type": "code",
   "execution_count": 14,
   "metadata": {},
   "outputs": [
    {
     "name": "stderr",
     "output_type": "stream",
     "text": [
      "                                                                                \r"
     ]
    },
    {
     "name": "stdout",
     "output_type": "stream",
     "text": [
      "+-----------------+---------------+----------------+-----------+----------------+--------------------+------------------+------------------+------------------+-----------+--------+----------+-----------+-----+--------------------+-----+--------------------+----------+----------+-----------+---------------+-----------------+---------+--------+---------+----------+----------+-----------------+------------------+--------------------+--------+--------+--------------------+-------------+------+---------------+------------+----------+-----------+-------------+----------+-----------+-------+--------+----------+-------------+--------------+\n",
      "|construction_year|Geometry Source|Ground Elevation|Height Roof|last_status_type|          geom_point|             R_avg|             G_avg|             B_avg|building_id|district|ARREST_KEY|ARREST_DATE|PD_CD|             PD_DESC|KY_CD|           OFNS_DESC|  LAW_CODE|LAW_CAT_CD|ARREST_BORO|ARREST_PRECINCT|JURISDICTION_CODE|AGE_GROUP|PERP_SEX|PERP_RACE|X_COORD_CD|Y_COORD_CD|         Latitude|         Longitude|                geom| element|      id|            geometry|     building|height|building:levels|building:use|roof:shape|addr:street|addr:postcode|addr:state|addr:suburb|amenity|man_made|wheelchair|opening_hours|building:flats|\n",
      "+-----------------+---------------+----------------+-----------+----------------+--------------------+------------------+------------------+------------------+-----------+--------+----------+-----------+-----+--------------------+-----+--------------------+----------+----------+-----------+---------------+-----------------+---------+--------+---------+----------+----------+-----------------+------------------+--------------------+--------+--------+--------------------+-------------+------+---------------+------------+----------+-----------+-------------+----------+-----------+-------+--------+----------+-------------+--------------+\n",
      "|             2003| Other (Manual)|              51|       57.0|     Constructed|POINT (-73.976912...|200.25524109014674|189.09591194968553|163.67505241090146|   11169051|     306| 283166802| 03/04/2024|  478|THEFT OF SERVICES...|  343|OTHER OFFENSES RE...|PL 1651503|         M|          K|             84|                1|    25-44|       M|    WHITE|    990141|    188391|40.68376454457041|-73.97875956361523|POINT (-73.978759...|relation|11169051|POLYGON ((-73.978...|train_station|  NULL|           NULL|        NULL|      NULL|       NULL|         NULL|      NULL|       NULL|   NULL|    NULL|      NULL|         NULL|          NULL|\n",
      "|             2003| Other (Manual)|              51|       57.0|     Constructed|POINT (-73.976912...|200.25524109014674|189.09591194968553|163.67505241090146|   11169051|     306| 283166802| 03/04/2024|  478|THEFT OF SERVICES...|  343|OTHER OFFENSES RE...|PL 1651503|         M|          K|             84|                1|    25-44|       M|    WHITE|    990141|    188391|40.68376454457041|-73.97875956361523|POINT (-73.978759...|relation|11169051|POLYGON ((-73.978...|train_station|  NULL|           NULL|        NULL|      NULL|       NULL|         NULL|      NULL|       NULL|   NULL|    NULL|      NULL|         NULL|          NULL|\n",
      "|             2003| Other (Manual)|              51|       57.0|     Constructed|POINT (-73.976912...|200.25524109014674|189.09591194968553|163.67505241090146|   11169051|     306| 283166802| 03/04/2024|  478|THEFT OF SERVICES...|  343|OTHER OFFENSES RE...|PL 1651503|         M|          K|             84|                1|    25-44|       M|    WHITE|    990141|    188391|40.68376454457041|-73.97875956361523|POINT (-73.978759...|relation|11169051|POLYGON ((-73.978...|train_station|  NULL|           NULL|        NULL|      NULL|       NULL|         NULL|      NULL|       NULL|   NULL|    NULL|      NULL|         NULL|          NULL|\n",
      "|             2003| Other (Manual)|              51|       57.0|     Constructed|POINT (-73.976912...|200.25524109014674|189.09591194968553|163.67505241090146|   11169051|     306| 283166802| 03/04/2024|  478|THEFT OF SERVICES...|  343|OTHER OFFENSES RE...|PL 1651503|         M|          K|             84|                1|    25-44|       M|    WHITE|    990141|    188391|40.68376454457041|-73.97875956361523|POINT (-73.978759...|relation|11169051|POLYGON ((-73.978...|train_station|  NULL|           NULL|        NULL|      NULL|       NULL|         NULL|      NULL|       NULL|   NULL|    NULL|      NULL|         NULL|          NULL|\n",
      "|             2003| Other (Manual)|              51|       57.0|     Constructed|POINT (-73.976912...|200.25524109014674|189.09591194968553|163.67505241090146|   11169051|     306| 283166802| 03/04/2024|  478|THEFT OF SERVICES...|  343|OTHER OFFENSES RE...|PL 1651503|         M|          K|             84|                1|    25-44|       M|    WHITE|    990141|    188391|40.68376454457041|-73.97875956361523|POINT (-73.978759...|relation|11169051|POLYGON ((-73.978...|train_station|  NULL|           NULL|        NULL|      NULL|       NULL|         NULL|      NULL|       NULL|   NULL|    NULL|      NULL|         NULL|          NULL|\n",
      "|             2003| Other (Manual)|              51|       57.0|     Constructed|POINT (-73.976912...|200.25524109014674|189.09591194968553|163.67505241090146|   11169051|     306| 283166802| 03/04/2024|  478|THEFT OF SERVICES...|  343|OTHER OFFENSES RE...|PL 1651503|         M|          K|             84|                1|    25-44|       M|    WHITE|    990141|    188391|40.68376454457041|-73.97875956361523|POINT (-73.978759...|relation|11169051|POLYGON ((-73.978...|train_station|  NULL|           NULL|        NULL|      NULL|       NULL|         NULL|      NULL|       NULL|   NULL|    NULL|      NULL|         NULL|          NULL|\n",
      "|             2003| Other (Manual)|              51|       57.0|     Constructed|POINT (-73.976912...|200.25524109014674|189.09591194968553|163.67505241090146|   11169051|     306| 283166802| 03/04/2024|  478|THEFT OF SERVICES...|  343|OTHER OFFENSES RE...|PL 1651503|         M|          K|             84|                1|    25-44|       M|    WHITE|    990141|    188391|40.68376454457041|-73.97875956361523|POINT (-73.978759...|relation|11169051|POLYGON ((-73.978...|train_station|  NULL|           NULL|        NULL|      NULL|       NULL|         NULL|      NULL|       NULL|   NULL|    NULL|      NULL|         NULL|          NULL|\n",
      "|             2003| Other (Manual)|              51|       57.0|     Constructed|POINT (-73.976912...|200.25524109014674|189.09591194968553|163.67505241090146|   11169051|     306| 283166802| 03/04/2024|  478|THEFT OF SERVICES...|  343|OTHER OFFENSES RE...|PL 1651503|         M|          K|             84|                1|    25-44|       M|    WHITE|    990141|    188391|40.68376454457041|-73.97875956361523|POINT (-73.978759...|relation|11169051|POLYGON ((-73.978...|train_station|  NULL|           NULL|        NULL|      NULL|       NULL|         NULL|      NULL|       NULL|   NULL|    NULL|      NULL|         NULL|          NULL|\n",
      "|             2003| Other (Manual)|              51|       57.0|     Constructed|POINT (-73.976912...|200.25524109014674|189.09591194968553|163.67505241090146|   11169051|     306| 283166802| 03/04/2024|  478|THEFT OF SERVICES...|  343|OTHER OFFENSES RE...|PL 1651503|         M|          K|             84|                1|    25-44|       M|    WHITE|    990141|    188391|40.68376454457041|-73.97875956361523|POINT (-73.978759...|relation|11169051|POLYGON ((-73.978...|train_station|  NULL|           NULL|        NULL|      NULL|       NULL|         NULL|      NULL|       NULL|   NULL|    NULL|      NULL|         NULL|          NULL|\n",
      "|             2003| Other (Manual)|              51|       57.0|     Constructed|POINT (-73.976912...|200.25524109014674|189.09591194968553|163.67505241090146|   11169051|     306| 283166802| 03/04/2024|  478|THEFT OF SERVICES...|  343|OTHER OFFENSES RE...|PL 1651503|         M|          K|             84|                1|    25-44|       M|    WHITE|    990141|    188391|40.68376454457041|-73.97875956361523|POINT (-73.978759...|relation|11169051|POLYGON ((-73.978...|train_station|  NULL|           NULL|        NULL|      NULL|       NULL|         NULL|      NULL|       NULL|   NULL|    NULL|      NULL|         NULL|          NULL|\n",
      "+-----------------+---------------+----------------+-----------+----------------+--------------------+------------------+------------------+------------------+-----------+--------+----------+-----------+-----+--------------------+-----+--------------------+----------+----------+-----------+---------------+-----------------+---------+--------+---------+----------+----------+-----------------+------------------+--------------------+--------+--------+--------------------+-------------+------+---------------+------------+----------+-----------+-------------+----------+-----------+-------+--------+----------+-------------+--------------+\n",
      "only showing top 10 rows\n",
      "\n"
     ]
    },
    {
     "name": "stderr",
     "output_type": "stream",
     "text": [
      "                                                                                \r"
     ]
    }
   ],
   "source": [
    "full = full.drop(\"geometry_from_build\", \"building_id\" \"geom_point\", \"New Georeferenced Column\", \"geom_polygon\", \"intersects\" ,\"building:material\", \"roof:material\" )\n",
    "full.show(10)"
   ]
  },
  {
   "cell_type": "code",
   "execution_count": 15,
   "metadata": {},
   "outputs": [
    {
     "name": "stderr",
     "output_type": "stream",
     "text": [
      "                                                                                \r"
     ]
    },
    {
     "name": "stdout",
     "output_type": "stream",
     "text": [
      "+--------+--------+--------------------+--------------------+-------------+-----------------+----------------+-----------+----------------+----------+-----------+---------------+--------------------+------------------+------------------+------------------+-----------+-----+--------------------+-----+--------------------+----------+----------+-----------+---------------+-----------------+---------+--------+---------+----------+----------+-----------------+------------------+--------+------+---------------+------------+----------+-----------+-------------+----------+-----------+-------+--------+----------+-------------+--------------+\n",
      "|      id|district|            geometry|                geom|     building|construction_year|Ground Elevation|Height Roof|last_status_type|ARREST_KEY|ARREST_DATE|Geometry Source|          geom_point|             R_avg|             G_avg|             B_avg|building_id|PD_CD|             PD_DESC|KY_CD|           OFNS_DESC|  LAW_CODE|LAW_CAT_CD|ARREST_BORO|ARREST_PRECINCT|JURISDICTION_CODE|AGE_GROUP|PERP_SEX|PERP_RACE|X_COORD_CD|Y_COORD_CD|         Latitude|         Longitude| element|height|building:levels|building:use|roof:shape|addr:street|addr:postcode|addr:state|addr:suburb|amenity|man_made|wheelchair|opening_hours|building:flats|\n",
      "+--------+--------+--------------------+--------------------+-------------+-----------------+----------------+-----------+----------------+----------+-----------+---------------+--------------------+------------------+------------------+------------------+-----------+-----+--------------------+-----+--------------------+----------+----------+-----------+---------------+-----------------+---------+--------+---------+----------+----------+-----------------+------------------+--------+------+---------------+------------+----------+-----------+-------------+----------+-----------+-------+--------+----------+-------------+--------------+\n",
      "|11169051|     306|POLYGON ((-73.978...|POINT (-73.978759...|train_station|             2003|              51|       57.0|     Constructed| 283166802| 03/04/2024| Other (Manual)|POINT (-73.976912...|200.25524109014674|189.09591194968553|163.67505241090146|   11169051|  478|THEFT OF SERVICES...|  343|OTHER OFFENSES RE...|PL 1651503|         M|          K|             84|                1|    25-44|       M|    WHITE|    990141|    188391|40.68376454457041|-73.97875956361523|relation|  NULL|           NULL|        NULL|      NULL|       NULL|         NULL|      NULL|       NULL|   NULL|    NULL|      NULL|         NULL|          NULL|\n",
      "|11169051|     306|POLYGON ((-73.978...|POINT (-73.978759...|train_station|             2003|              51|       57.0|     Constructed| 283166802| 03/04/2024| Other (Manual)|POINT (-73.976912...|200.25524109014674|189.09591194968553|163.67505241090146|   11169051|  478|THEFT OF SERVICES...|  343|OTHER OFFENSES RE...|PL 1651503|         M|          K|             84|                1|    25-44|       M|    WHITE|    990141|    188391|40.68376454457041|-73.97875956361523|relation|  NULL|           NULL|        NULL|      NULL|       NULL|         NULL|      NULL|       NULL|   NULL|    NULL|      NULL|         NULL|          NULL|\n",
      "|11169051|     306|POLYGON ((-73.978...|POINT (-73.978759...|train_station|             2003|              51|       57.0|     Constructed| 283166802| 03/04/2024| Other (Manual)|POINT (-73.976912...|200.25524109014674|189.09591194968553|163.67505241090146|   11169051|  478|THEFT OF SERVICES...|  343|OTHER OFFENSES RE...|PL 1651503|         M|          K|             84|                1|    25-44|       M|    WHITE|    990141|    188391|40.68376454457041|-73.97875956361523|relation|  NULL|           NULL|        NULL|      NULL|       NULL|         NULL|      NULL|       NULL|   NULL|    NULL|      NULL|         NULL|          NULL|\n",
      "|11169051|     306|POLYGON ((-73.978...|POINT (-73.978759...|train_station|             2003|              51|       57.0|     Constructed| 283166802| 03/04/2024| Other (Manual)|POINT (-73.976912...|200.25524109014674|189.09591194968553|163.67505241090146|   11169051|  478|THEFT OF SERVICES...|  343|OTHER OFFENSES RE...|PL 1651503|         M|          K|             84|                1|    25-44|       M|    WHITE|    990141|    188391|40.68376454457041|-73.97875956361523|relation|  NULL|           NULL|        NULL|      NULL|       NULL|         NULL|      NULL|       NULL|   NULL|    NULL|      NULL|         NULL|          NULL|\n",
      "|11169051|     306|POLYGON ((-73.978...|POINT (-73.978759...|train_station|             2003|              51|       57.0|     Constructed| 283166802| 03/04/2024| Other (Manual)|POINT (-73.976912...|200.25524109014674|189.09591194968553|163.67505241090146|   11169051|  478|THEFT OF SERVICES...|  343|OTHER OFFENSES RE...|PL 1651503|         M|          K|             84|                1|    25-44|       M|    WHITE|    990141|    188391|40.68376454457041|-73.97875956361523|relation|  NULL|           NULL|        NULL|      NULL|       NULL|         NULL|      NULL|       NULL|   NULL|    NULL|      NULL|         NULL|          NULL|\n",
      "+--------+--------+--------------------+--------------------+-------------+-----------------+----------------+-----------+----------------+----------+-----------+---------------+--------------------+------------------+------------------+------------------+-----------+-----+--------------------+-----+--------------------+----------+----------+-----------+---------------+-----------------+---------+--------+---------+----------+----------+-----------------+------------------+--------+------+---------------+------------+----------+-----------+-------------+----------+-----------+-------+--------+----------+-------------+--------------+\n",
      "only showing top 5 rows\n",
      "\n"
     ]
    },
    {
     "name": "stderr",
     "output_type": "stream",
     "text": [
      "                                                                                \r"
     ]
    }
   ],
   "source": [
    "desired_first_columns = [\n",
    "    \"id\", \"district\", \"geometry\", \"geom\", \"building\", \n",
    "    \"construction_year\", \"Ground Elevation\", \"Height Roof\", \"last_status_type\", \n",
    "    \"ARREST_KEY\", \"ARREST_DATE\"\n",
    "]\n",
    "\n",
    "remaining_columns = [col for col in full.columns if col not in desired_first_columns]\n",
    "new_columns_order = desired_first_columns + remaining_columns\n",
    "reord_full = full.select(new_columns_order)\n",
    "reord_full.show(5)\n"
   ]
  },
  {
   "cell_type": "code",
   "execution_count": null,
   "metadata": {},
   "outputs": [],
   "source": []
  },
  {
   "cell_type": "code",
   "execution_count": null,
   "metadata": {},
   "outputs": [
    {
     "name": "stderr",
     "output_type": "stream",
     "text": [
      "                                                                                \r"
     ]
    },
    {
     "name": "stdout",
     "output_type": "stream",
     "text": [
      "+--------+-----------+--------------------+--------------------+----+--------------------+--------------------+--------------------+------+--------+----+--------+----+--------------+--------+------------+------------+----+--------------------+------------+-------------+--------------------+\n",
      "|      ID|Case Number|                Date|               Block|IUCR|        Primary Type|         Description|Location Description|Arrest|Domestic|Beat|District|Ward|Community Area|FBI Code|X Coordinate|Y Coordinate|Year|          Updated On|    Latitude|    Longitude|            Location|\n",
      "+--------+-----------+--------------------+--------------------+----+--------------------+--------------------+--------------------+------+--------+----+--------+----+--------------+--------+------------+------------+----+--------------------+------------+-------------+--------------------+\n",
      "|13311263|   JG503434|07/29/2022 03:39:...|     023XX S TROY ST|1582|OFFENSE INVOLVING...|   CHILD PORNOGRAPHY|           RESIDENCE|  true|   false|1033|      10|  25|            30|      17|        NULL|        NULL|2022|04/18/2024 03:40:...|        NULL|         NULL|                NULL|\n",
      "|13053066|   JG103252|01/03/2023 04:44:...|039XX W WASHINGTO...|2017|           NARCOTICS|MANUFACTURE / DEL...|            SIDEWALK|  true|   false|1122|      11|  28|            26|      18|        NULL|        NULL|2023|01/20/2024 03:41:...|        NULL|         NULL|                NULL|\n",
      "|11227634|   JB147599|08/26/2017 10:00:...| 001XX W RANDOLPH ST|0281| CRIM SEXUAL ASSAULT|      NON-AGGRAVATED|         HOTEL/MOTEL| false|   false| 122|       1|  42|            32|      02|        NULL|        NULL|2017|02/11/2018 03:57:...|        NULL|         NULL|                NULL|\n",
      "|13203321|   JG415333|09/06/2023 05:00:...|    002XX N Wells st|1320|     CRIMINAL DAMAGE|          TO VEHICLE|PARKING LOT / GAR...| false|   false| 122|       1|  42|            32|      14|     1174694|     1901831|2023|11/04/2023 03:40:...|41.886018055|-87.633937881|(41.886018055, -8...|\n",
      "|13204489|   JG416325|09/06/2023 11:00:...|      0000X E 8TH ST|0810|               THEFT|           OVER $500|PARKING LOT / GAR...| false|   false| 123|       1|   4|            32|      06|     1176857|     1896680|2023|11/04/2023 03:40:...|41.871834768| -87.62615082|(41.871834768, -8...|\n",
      "+--------+-----------+--------------------+--------------------+----+--------------------+--------------------+--------------------+------+--------+----+--------+----+--------------+--------+------------+------------+----+--------------------+------------+-------------+--------------------+\n",
      "only showing top 5 rows\n",
      "\n"
     ]
    }
   ],
   "source": [
    "chicago_crimes = spark.read.csv(f\"{path_data}/Crimes_2001_to_Present.csv\", header=True, inferSchema=True)\n",
    "chicago_crimes.show(5)"
   ]
  },
  {
   "cell_type": "code",
   "execution_count": null,
   "metadata": {},
   "outputs": [
    {
     "name": "stdout",
     "output_type": "stream",
     "text": [
      "+--------------------+----------+--------+\n",
      "|            the_geom|DIST_LABEL|DIST_NUM|\n",
      "+--------------------+----------+--------+\n",
      "|MULTIPOLYGON (((-...|      17TH|      17|\n",
      "|MULTIPOLYGON (((-...|      20TH|      20|\n",
      "|MULTIPOLYGON (((-...|      31ST|      31|\n",
      "|MULTIPOLYGON (((-...|      31ST|      31|\n",
      "|MULTIPOLYGON (((-...|      19TH|      19|\n",
      "+--------------------+----------+--------+\n",
      "only showing top 5 rows\n",
      "\n"
     ]
    }
   ],
   "source": [
    "chicago_dist = spark.read.csv(f\"{path_data}/ChicagoDistricts.csv\", header=True, inferSchema=True)\n",
    "chicago_dist.show(5)"
   ]
  },
  {
   "cell_type": "code",
   "execution_count": null,
   "metadata": {},
   "outputs": [
    {
     "name": "stderr",
     "output_type": "stream",
     "text": [
      "25/04/27 13:28:16 WARN SparkStringUtils: Truncated the string representation of a plan since it was too large. This behavior can be adjusted by setting 'spark.sql.debug.maxToStringFields'.\n",
      "                                                                                \r"
     ]
    },
    {
     "name": "stdout",
     "output_type": "stream",
     "text": [
      "+--------+-----------+--------------------+--------------------+----+---------------+--------------------+--------------------+------+--------+----+--------+----+--------------+--------+------------+------------+----+--------------------+------------+-------------+--------------------+--------------------+----------+--------+----------+\n",
      "|      ID|Case Number|                Date|               Block|IUCR|   Primary Type|         Description|Location Description|Arrest|Domestic|Beat|District|Ward|Community Area|FBI Code|X Coordinate|Y Coordinate|Year|          Updated On|    Latitude|    Longitude|            Location|                geom|DIST_LABEL|DIST_NUM|intersects|\n",
      "+--------+-----------+--------------------+--------------------+----+---------------+--------------------+--------------------+------+--------+----+--------+----+--------------+--------+------------+------------+----+--------------------+------------+-------------+--------------------+--------------------+----------+--------+----------+\n",
      "|13203321|   JG415333|09/06/2023 05:00:...|    002XX N Wells st|1320|CRIMINAL DAMAGE|          TO VEHICLE|PARKING LOT / GAR...| false|   false| 122|       1|  42|            32|      14|     1174694|     1901831|2023|11/04/2023 03:40:...|41.886018055|-87.633937881|(41.886018055, -8...|POINT (-87.633937...|       1ST|       1|      true|\n",
      "|13204489|   JG416325|09/06/2023 11:00:...|      0000X E 8TH ST|0810|          THEFT|           OVER $500|PARKING LOT / GAR...| false|   false| 123|       1|   4|            32|      06|     1176857|     1896680|2023|11/04/2023 03:40:...|41.871834768| -87.62615082|(41.871834768, -8...|POINT (-87.626150...|       1ST|       1|      true|\n",
      "|11695116|   JC272771|05/21/2019 08:20:...|018XX S CALIFORNI...|0620|       BURGLARY|      UNLAWFUL ENTRY|           RESIDENCE| false|   false|1023|      10|  25|            29|      05|     1157982|     1890961|2019|01/19/2024 03:40:...|41.856547057|-87.695604526|(41.856547057, -8...|POINT (-87.695604...|      10TH|      10|      true|\n",
      "|12419690|   JE295655|07/07/2021 10:30:...|132XX S GREENWOOD...|1544|    SEX OFFENSE|SEXUAL EXPLOITATI...|           RESIDENCE| false|   false| 533|       5|  10|            54|      17|     1186051|     1817781|2021|01/19/2024 03:40:...| 41.65511579|-87.594883198|(41.65511579, -87...|POINT (-87.594883...|       5TH|       5|      true|\n",
      "|12729745|   JF279458|06/14/2022 02:47:...| 035XX N CENTRAL AVE|0340|        ROBBERY|ATTEMPT STRONG AR...|                BANK|  true|   false|1633|      16|  30|            15|      03|     1138391|     1923142|2022|01/19/2024 03:40:...|41.945232412|-87.766734668|(41.945232412, -8...|POINT (-87.766734...|      16TH|      16|      true|\n",
      "+--------+-----------+--------------------+--------------------+----+---------------+--------------------+--------------------+------+--------+----+--------+----+--------------+--------+------------+------------+----+--------------------+------------+-------------+--------------------+--------------------+----------+--------+----------+\n",
      "only showing top 5 rows\n",
      "\n"
     ]
    }
   ],
   "source": [
    "chicago_dist.createOrReplaceTempView(\"chicago_dist\")\n",
    "chicago_crimes.createOrReplaceTempView(\"chicago_crimes\")\n",
    "\n",
    "Chicago_intersects = spark.sql(\"\"\"\n",
    "          With crimes as (\n",
    "              select\n",
    "                  *\n",
    "                  ,ST_Point(Longitude, Latitude) as geom\n",
    "              FROM chicago_crimes\n",
    "            where Latitude is not null or Longitude is not null\n",
    "          ),\n",
    "          districts as (\n",
    "              select\n",
    "                  DIST_NUM \n",
    "                 ,DIST_LABEL\n",
    "                ,ST_GeomFromWKT(the_geom) as geom\n",
    "              from chicago_dist\n",
    "            )\n",
    "            select\n",
    "              crimes.*\n",
    "              ,districts.DIST_LABEL\n",
    "              ,districts.DIST_NUM\n",
    "              ,ST_Intersects(crimes.geom, districts.geom) as intersects\n",
    "          from crimes\n",
    "          join districts on ST_Intersects(crimes.geom, districts.geom)\n",
    "\"\"\")\n",
    "\n",
    "\n",
    "Chicago_intersects.write.mode('overwrite').parquet(f\"{path_data}/Chicago_intersects.parquet\")\n",
    "Chicago_intersects.show(5)"
   ]
  },
  {
   "cell_type": "code",
   "execution_count": null,
   "metadata": {},
   "outputs": [
    {
     "name": "stdout",
     "output_type": "stream",
     "text": [
      "+-------+-----------+--------------------+--------------------+----+---------------+--------------------+--------------------+------+--------+----+--------+----+--------------+--------+------------+------------+----+--------------------+------------+-------------+--------------------+--------------------+----------+--------+----------+\n",
      "|     ID|Case Number|                Date|               Block|IUCR|   Primary Type|         Description|Location Description|Arrest|Domestic|Beat|District|Ward|Community Area|FBI Code|X Coordinate|Y Coordinate|Year|          Updated On|    Latitude|    Longitude|            Location|                geom|DIST_LABEL|DIST_NUM|intersects|\n",
      "+-------+-----------+--------------------+--------------------+----+---------------+--------------------+--------------------+------+--------+----+--------+----+--------------+--------+------------+------------+----+--------------------+------------+-------------+--------------------+--------------------+----------+--------+----------+\n",
      "|4985035|   HM594486|06/16/2006 12:01:...| 058XX N LINCOLN AVE|0890|          THEFT|       FROM BUILDING|SCHOOL, PUBLIC, B...| false|   false|2011|      20|  40|             2|      06|     1155809|     1938617|2006|02/10/2018 03:50:...|41.987362912|-87.702293402|(41.987362912, -8...|POINT (-87.702293...|      20TH|      20|      true|\n",
      "|5088131|   HM535488|08/12/2006 09:26:...|   008XX N AVERS AVE|2014|      NARCOTICS|MANU/DELIVER: HER...|              STREET|  true|   false|1112|      11|  27|            23|      18|     1150568|     1905402|2006|02/28/2018 03:56:...|41.896322652|-87.722440756|(41.896322652, -8...|POINT (-87.722440...|      11TH|      11|      true|\n",
      "|5008775|   HM514766|08/02/2006 11:36:...|077XX S MARQUETTE...|1811|      NARCOTICS|POSS: CANNABIS 30...|           APARTMENT|  true|   false| 421|       4|   7|            43|      18|     1195668|     1854105|2006|02/10/2018 03:50:...|41.754560972| -87.55849889|(41.754560972, -8...|POINT (-87.558498...|       4TH|       4|      true|\n",
      "|5195391|   HM785206|12/20/2006 04:30:...|054XX N MILWAUKEE...|1320|CRIMINAL DAMAGE|          TO VEHICLE|              STREET| false|   false|1622|      16|  45|            11|      14|     1136919|     1935861|2006|02/28/2018 03:56:...| 41.98016112|-87.771838908|(41.98016112, -87...|POINT (-87.771838...|      16TH|      16|      true|\n",
      "|5021317|   HM629457|09/28/2006 08:00:...| 030XX N KENMORE AVE|0820|          THEFT|      $500 AND UNDER|              STREET| false|   false|1932|      19|  44|             6|      06|     1168750|     1920411|2006|02/28/2018 03:56:...| 41.93713352|-87.655225978|(41.93713352, -87...|POINT (-87.655225...|      19TH|      19|      true|\n",
      "+-------+-----------+--------------------+--------------------+----+---------------+--------------------+--------------------+------+--------+----+--------+----+--------------+--------+------------+------------+----+--------------------+------------+-------------+--------------------+--------------------+----------+--------+----------+\n",
      "only showing top 5 rows\n",
      "\n"
     ]
    }
   ],
   "source": [
    "spark.read.parquet(f\"{path_data}/Chicago_intersects.parquet\").show(5)"
   ]
  },
  {
   "cell_type": "code",
   "execution_count": null,
   "metadata": {},
   "outputs": [],
   "source": [
    "nyc_districts.toPandas().to_csv(f\"{path_data}/nyc_districts.csv\", index=False)\n"
   ]
  },
  {
   "cell_type": "code",
   "execution_count": null,
   "metadata": {},
   "outputs": [
    {
     "name": "stdout",
     "output_type": "stream",
     "text": [
      "+---------+----------+-----+--------------------+-----+--------------------+----------+----------+-----------+---------------+-----------------+-----+---+--------------+------------+------------+------------------+------------------+--------------------+--------------------+--------+----------+\n",
      "|       ID|      Date|PD_CD|             PD_DESC|KY_CD|         Description|  LAW_CODE|LAW_CAT_CD|ARREST_BORO|ARREST_PRECINCT|JURISDICTION_CODE|  age|sex|          race|X Coordinate|Y Coordinate|          Latitude|         Longitude|             Lon_Lat|                geom|District|intersects|\n",
      "+---------+----------+-----+--------------------+-----+--------------------+----------+----------+-----------+---------------+-----------------+-----+---+--------------+------------+------------+------------------+------------------+--------------------+--------------------+--------+----------+\n",
      "|205590989|11/24/2019|  339|LARCENY,PETIT FRO...|  341|       PETIT LARCENY|PL 1552500|         M|          M|             28|                0|25-44|  F|         WHITE|    997571.0|    234556.0| 40.81047604300005|-73.95188015099995|POINT (-73.951880...|POINT (-73.951880...|     110|      true|\n",
      "|202546976|09/17/2019|  793|WEAPONS POSSESSION 3|  118|   DANGEROUS WEAPONS|PL 2650201|         F|          M|              6|                0|45-64|  M|         BLACK|    982746.0|    206647.0| 40.73388303300004|-74.00542831099995|POINT (-74.005428...|POINT (-74.005428...|     102|      true|\n",
      "|203563701|10/10/2019|  494|STOLEN PROPERTY 2...|  111|POSSESSION OF STO...|PL 1654502|         F|          K|             90|                0|18-24|  M|BLACK HISPANIC|   1000830.0|    197889.0| 40.70982902900005|-73.94019763899996|POINT (-73.940197...|POINT (-73.940197...|     301|      true|\n",
      "|205169609|11/14/2019|  397|ROBBERY,OPEN AREA...|  105|             ROBBERY|PL 1601001|         F|          B|             43|                0|18-24|  M|BLACK HISPANIC|   1020183.0|    239283.0|40.823387291000074|-73.87017044999999|POINT (-73.870170...|POINT (-73.870170...|     209|      true|\n",
      "|204097687|10/23/2019|  105|   STRANGULATION 1ST|  106|      FELONY ASSAULT|PL 1211300|         F|          Q|            114|                0|25-44|  M|         BLACK|   1007694.0|    219657.0|40.769561242000066|-73.91536344699995|POINT (-73.915363...|POINT (-73.915363...|     401|      true|\n",
      "+---------+----------+-----+--------------------+-----+--------------------+----------+----------+-----------+---------------+-----------------+-----+---+--------------+------------+------------+------------------+------------------+--------------------+--------------------+--------+----------+\n",
      "only showing top 5 rows\n",
      "\n"
     ]
    }
   ],
   "source": [
    "crime_nyc = (\n",
    "    crime_nyc.withColumnRenamed(\"ARREST_KEY\", \"ID\")\n",
    "        .withColumnRenamed(\"ARREST_DATE\", \"Date\")\n",
    "        .withColumnRenamed(\"X_COORD_CD\", \"X Coordinate\")\n",
    "        .withColumnRenamed(\"Y_COORD_CD\", \"Y Coordinate\")\n",
    "        .withColumnRenamed(\"PERP_RACE\", \"race\")\n",
    "        .withColumnRenamed(\"AGE_GROUP\", \"age\")\n",
    "        .withColumnRenamed(\"PERP_SEX\", \"sex\")\n",
    "        .withColumnRenamed(\"OFNS_DESC\", \"Description\")\n",
    "        .withColumnRenamed(\"district\", \"District\")\n",
    ")\n",
    "crime_nyc.show(5)\n"
   ]
  },
  {
   "cell_type": "code",
   "execution_count": null,
   "metadata": {},
   "outputs": [],
   "source": [
    "crime_nyc = (\n",
    "    crime_nyc\n",
    "    .withColumn(\"Case Number\", F.lit(None))\n",
    "    .withColumn(\"Block\", F.lit(None))\n",
    "    .withColumn(\"IUCR\", F.lit(None))\n",
    "    .withColumn(\"Primary Type\", F.lit(None))\n",
    "    .withColumn(\"Location Description\", F.lit(None))\n",
    "    .withColumn(\"Arrest\", F.lit(None))\n",
    "    .withColumn(\"Domestic\", F.lit(None))\n",
    "    .withColumn(\"Beat\", F.lit(None))\n",
    "    .withColumn(\"Ward\", F.lit(None))\n",
    "    .withColumn(\"Community Area\", F.lit(None))\n",
    "    .withColumn(\"FBI Code\", F.lit(None))\n",
    "    .withColumn(\"Year\", F.lit(None))\n",
    "    .withColumn(\"Updated On\", F.lit(None))\n",
    "    .withColumn(\"Location\", F.lit(None))\n",
    "    .withColumn(\"DIST_LABEL\", F.lit(None))\n",
    "    .withColumn(\"DIST_NUM\", F.lit(None))\n",
    ")\n",
    "Chicago_intersects = (\n",
    "    Chicago_intersects\n",
    "    .withColumn(\"PD_CD\", F.lit(None))\n",
    "    .withColumn(\"PD_DESC\", F.lit(None))\n",
    "    .withColumn(\"KY_CD\", F.lit(None))\n",
    "    .withColumn(\"LAW_CODE\", F.lit(None))\n",
    "    .withColumn(\"LAW_CAT_CD\", F.lit(None))\n",
    "    .withColumn(\"ARREST_BORO\", F.lit(None))\n",
    "    .withColumn(\"ARREST_PRECINCT\", F.lit(None))\n",
    "    .withColumn(\"JURISDICTION_CODE\", F.lit(None))\n",
    "    .withColumn(\"age\", F.lit(None))\n",
    "    .withColumn(\"sex\", F.lit(None))\n",
    "    .withColumn(\"race\", F.lit(None))\n",
    "    .withColumn(\"Lon_Lat\", F.lit(None))\n",
    ")"
   ]
  },
  {
   "cell_type": "code",
   "execution_count": null,
   "metadata": {},
   "outputs": [
    {
     "name": "stdout",
     "output_type": "stream",
     "text": [
      "+---------+----------+-----+--------------------+-----+--------------------+----------+----------+-----------+---------------+-----------------+-----+---+--------------+------------+------------+------------------+------------------+--------------------+--------------------+--------+----------+-----------+-----+----+------------+--------------------+------+--------+----+----+--------------+--------+----+----------+--------+----------+--------+\n",
      "|       ID|      Date|PD_CD|             PD_DESC|KY_CD|         Description|  LAW_CODE|LAW_CAT_CD|ARREST_BORO|ARREST_PRECINCT|JURISDICTION_CODE|  age|sex|          race|X Coordinate|Y Coordinate|          Latitude|         Longitude|             Lon_Lat|                geom|District|intersects|Case Number|Block|IUCR|Primary Type|Location Description|Arrest|Domestic|Beat|Ward|Community Area|FBI Code|Year|Updated On|Location|DIST_LABEL|DIST_NUM|\n",
      "+---------+----------+-----+--------------------+-----+--------------------+----------+----------+-----------+---------------+-----------------+-----+---+--------------+------------+------------+------------------+------------------+--------------------+--------------------+--------+----------+-----------+-----+----+------------+--------------------+------+--------+----+----+--------------+--------+----+----------+--------+----------+--------+\n",
      "|205590989|11/24/2019|  339|LARCENY,PETIT FRO...|  341|       PETIT LARCENY|PL 1552500|         M|          M|             28|                0|25-44|  F|         WHITE|    997571.0|    234556.0| 40.81047604300005|-73.95188015099995|POINT (-73.951880...|POINT (-73.951880...|     110|      true|       NULL| NULL|NULL|        NULL|                NULL|  NULL|    NULL|NULL|NULL|          NULL|    NULL|NULL|      NULL|    NULL|      NULL|    NULL|\n",
      "|202546976|09/17/2019|  793|WEAPONS POSSESSION 3|  118|   DANGEROUS WEAPONS|PL 2650201|         F|          M|              6|                0|45-64|  M|         BLACK|    982746.0|    206647.0| 40.73388303300004|-74.00542831099995|POINT (-74.005428...|POINT (-74.005428...|     102|      true|       NULL| NULL|NULL|        NULL|                NULL|  NULL|    NULL|NULL|NULL|          NULL|    NULL|NULL|      NULL|    NULL|      NULL|    NULL|\n",
      "|203563701|10/10/2019|  494|STOLEN PROPERTY 2...|  111|POSSESSION OF STO...|PL 1654502|         F|          K|             90|                0|18-24|  M|BLACK HISPANIC|   1000830.0|    197889.0| 40.70982902900005|-73.94019763899996|POINT (-73.940197...|POINT (-73.940197...|     301|      true|       NULL| NULL|NULL|        NULL|                NULL|  NULL|    NULL|NULL|NULL|          NULL|    NULL|NULL|      NULL|    NULL|      NULL|    NULL|\n",
      "|205169609|11/14/2019|  397|ROBBERY,OPEN AREA...|  105|             ROBBERY|PL 1601001|         F|          B|             43|                0|18-24|  M|BLACK HISPANIC|   1020183.0|    239283.0|40.823387291000074|-73.87017044999999|POINT (-73.870170...|POINT (-73.870170...|     209|      true|       NULL| NULL|NULL|        NULL|                NULL|  NULL|    NULL|NULL|NULL|          NULL|    NULL|NULL|      NULL|    NULL|      NULL|    NULL|\n",
      "|204097687|10/23/2019|  105|   STRANGULATION 1ST|  106|      FELONY ASSAULT|PL 1211300|         F|          Q|            114|                0|25-44|  M|         BLACK|   1007694.0|    219657.0|40.769561242000066|-73.91536344699995|POINT (-73.915363...|POINT (-73.915363...|     401|      true|       NULL| NULL|NULL|        NULL|                NULL|  NULL|    NULL|NULL|NULL|          NULL|    NULL|NULL|      NULL|    NULL|      NULL|    NULL|\n",
      "+---------+----------+-----+--------------------+-----+--------------------+----------+----------+-----------+---------------+-----------------+-----+---+--------------+------------+------------+------------------+------------------+--------------------+--------------------+--------+----------+-----------+-----+----+------------+--------------------+------+--------+----+----+--------------+--------+----+----------+--------+----------+--------+\n",
      "only showing top 5 rows\n",
      "\n"
     ]
    }
   ],
   "source": [
    "merged_df = crime_nyc.unionByName(Chicago_intersects)\n",
    "merged_df.show(5)"
   ]
  },
  {
   "cell_type": "code",
   "execution_count": null,
   "metadata": {},
   "outputs": [],
   "source": [
    "def full_func_creation_table(df, db, table):\n",
    "\n",
    "    types = {\"string\": \"String\",\n",
    "             \"int\": \"Int32\",\n",
    "            \"bigint\": \"Int64\",\n",
    "            \"long\": \"Int64\",\n",
    "            \"double\": \"Float64\",\n",
    "            \"float\": \"Float32\",\n",
    "            \"boolean\": \"Boolean\",\n",
    "            \"timestamp\": \"DateTime\",\n",
    "            \"date\": \"Date\"\n",
    "            }\n",
    "    columns = [f\"`{column_name}` {types.get(column_type, 'String')}\" for column_name, column_type in df.dtypes]\n",
    "    return f\"create table if not exists {db}.{table} ({','.join(columns)}) ENGINE=MergeTree() order by {df.columns[0]}\"\n"
   ]
  },
  {
   "cell_type": "code",
   "execution_count": null,
   "metadata": {},
   "outputs": [
    {
     "data": {
      "text/plain": [
       "<clickhouse_connect.driver.summary.QuerySummary at 0x7ff8d2417650>"
      ]
     },
     "execution_count": 23,
     "metadata": {},
     "output_type": "execute_result"
    }
   ],
   "source": [
    "client.command(full_func_creation_table(merged_df, 'crime_data', 'crime_merge'))"
   ]
  },
  {
   "cell_type": "code",
   "execution_count": null,
   "metadata": {},
   "outputs": [
    {
     "name": "stderr",
     "output_type": "stream",
     "text": [
      "                                                                                \r"
     ]
    },
    {
     "name": "stderr",
     "output_type": "stream",
     "text": [
      "25/04/21 13:00:07 WARN StandaloneAppClient$ClientEndpoint: Connection to 56bff44e4ea3:7077 failed; waiting for master to reconnect...\n",
      "25/04/21 13:00:07 WARN StandaloneSchedulerBackend: Disconnected from Spark cluster! Waiting for reconnection...\n",
      "25/04/21 13:00:12 ERROR TaskSchedulerImpl: Lost executor 0 on 172.18.0.5: Remote RPC client disassociated. Likely due to containers exceeding thresholds, or network issues. Check driver logs for WARN messages.\n"
     ]
    }
   ],
   "source": [
    "merged_df.writeTo(\"crime_data.crime_merge\").append()"
   ]
  },
  {
   "cell_type": "code",
   "execution_count": null,
   "metadata": {},
   "outputs": [
    {
     "name": "stdout",
     "output_type": "stream",
     "text": [
      "+---------+----------+-----+--------------------+-----+--------------------+----------+----------+-----------+---------------+-----------------+-----+---+--------------+------------+------------+------------------+------------------+--------------------+--------------------+--------+----------+----+--------+--------------+--------+------------+--------------------+----+----+----------+-----+--------+--------+-----------+------+\n",
      "|       ID|      Date|PD_CD|             PD_DESC|KY_CD|         Description|  LAW_CODE|LAW_CAT_CD|ARREST_BORO|ARREST_PRECINCT|JURISDICTION_CODE|  age|sex|          race|X Coordinate|Y Coordinate|          Latitude|         Longitude|             Lon_Lat|                geom|District|intersects|Year|FBI Code|Community Area|Location|Primary Type|Location Description|IUCR|Ward|Updated On|Block|DIST_NUM|Domestic|Case Number|Arrest|\n",
      "+---------+----------+-----+--------------------+-----+--------------------+----------+----------+-----------+---------------+-----------------+-----+---+--------------+------------+------------+------------------+------------------+--------------------+--------------------+--------+----------+----+--------+--------------+--------+------------+--------------------+----+----+----------+-----+--------+--------+-----------+------+\n",
      "|205590989|11/24/2019|  339|LARCENY,PETIT FRO...|  341|       PETIT LARCENY|PL 1552500|         M|          M|             28|                0|25-44|  F|         WHITE|    997571.0|    234556.0| 40.81047604300005|-73.95188015099995|POINT (-73.951880...|POINT (-73.951880...|    NULL|      true|NULL|    NULL|          NULL|    NULL|        NULL|                NULL|NULL|NULL|      NULL| NULL|    NULL|    NULL|       NULL|  NULL|\n",
      "|202546976|09/17/2019|  793|WEAPONS POSSESSION 3|  118|   DANGEROUS WEAPONS|PL 2650201|         F|          M|              6|                0|45-64|  M|         BLACK|    982746.0|    206647.0| 40.73388303300004|-74.00542831099995|POINT (-74.005428...|POINT (-74.005428...|    NULL|      true|NULL|    NULL|          NULL|    NULL|        NULL|                NULL|NULL|NULL|      NULL| NULL|    NULL|    NULL|       NULL|  NULL|\n",
      "|203563701|10/10/2019|  494|STOLEN PROPERTY 2...|  111|POSSESSION OF STO...|PL 1654502|         F|          K|             90|                0|18-24|  M|BLACK HISPANIC|   1000830.0|    197889.0| 40.70982902900005|-73.94019763899996|POINT (-73.940197...|POINT (-73.940197...|    NULL|      true|NULL|    NULL|          NULL|    NULL|        NULL|                NULL|NULL|NULL|      NULL| NULL|    NULL|    NULL|       NULL|  NULL|\n",
      "|205169609|11/14/2019|  397|ROBBERY,OPEN AREA...|  105|             ROBBERY|PL 1601001|         F|          B|             43|                0|18-24|  M|BLACK HISPANIC|   1020183.0|    239283.0|40.823387291000074|-73.87017044999999|POINT (-73.870170...|POINT (-73.870170...|    NULL|      true|NULL|    NULL|          NULL|    NULL|        NULL|                NULL|NULL|NULL|      NULL| NULL|    NULL|    NULL|       NULL|  NULL|\n",
      "|204097687|10/23/2019|  105|   STRANGULATION 1ST|  106|      FELONY ASSAULT|PL 1211300|         F|          Q|            114|                0|25-44|  M|         BLACK|   1007694.0|    219657.0|40.769561242000066|-73.91536344699995|POINT (-73.915363...|POINT (-73.915363...|    NULL|      true|NULL|    NULL|          NULL|    NULL|        NULL|                NULL|NULL|NULL|      NULL| NULL|    NULL|    NULL|       NULL|  NULL|\n",
      "+---------+----------+-----+--------------------+-----+--------------------+----------+----------+-----------+---------------+-----------------+-----+---+--------------+------------+------------+------------------+------------------+--------------------+--------------------+--------+----------+----+--------+--------------+--------+------------+--------------------+----+----+----------+-----+--------+--------+-----------+------+\n",
      "only showing top 5 rows\n",
      "\n"
     ]
    }
   ],
   "source": [
    "\n",
    "crime_nyc = (\n",
    "    crime_nyc.withColumn(\"Year\", F.lit(None))\n",
    "             .withColumn(\"FBI Code\", F.lit(None))\n",
    "             .withColumn(\"Community Area\", F.lit(None))\n",
    "             .withColumn(\"Location\", F.lit(None))\n",
    "             .withColumn(\"Primary Type\", F.lit(None))\n",
    "             .withColumn(\"Location Description\", F.lit(None))\n",
    "             .withColumn(\"IUCR\", F.lit(None))\n",
    "             .withColumn(\"Ward\", F.lit(None))\n",
    "             .withColumn(\"Updated On\", F.lit(None))\n",
    "             .withColumn(\"Block\", F.lit(None))\n",
    "             .withColumn(\"DIST_NUM\", F.lit(None))\n",
    "             .withColumn(\"Domestic\", F.lit(None))\n",
    "             .withColumn(\"District\", F.lit(None))\n",
    "             .withColumn(\"Case Number\", F.lit(None))\n",
    "             .withColumn(\"Arrest\", F.lit(None))\n",
    ")\n",
    "\n",
    "\n",
    "crime_nyc.show(5)"
   ]
  },
  {
   "cell_type": "code",
   "execution_count": null,
   "metadata": {},
   "outputs": [
    {
     "name": "stdout",
     "output_type": "stream",
     "text": [
      "+--------+-----------+--------------------+--------------------+----+---------------+--------------------+--------------------+------+--------+----+--------+----+--------------+--------+------------+------------+----+--------------------+------------+-------------+--------------------+--------------------+--------+----------+-----------+----+-----+-------+----+----------+-----------------+---------------+-----+-------+--------+----+\n",
      "|      ID|Case Number|                Date|               Block|IUCR|   Primary Type|         Description|Location Description|Arrest|Domestic|Beat|district|Ward|Community Area|FBI Code|X Coordinate|Y Coordinate|Year|          Updated On|    Latitude|    Longitude|            Location|                geom|DIST_NUM|intersects|ARREST_BORO| sex|KY_CD|PD_DESC| age|LAW_CAT_CD|JURISDICTION_CODE|ARREST_PRECINCT|PD_CD|Lon_Lat|LAW_CODE|race|\n",
      "+--------+-----------+--------------------+--------------------+----+---------------+--------------------+--------------------+------+--------+----+--------+----+--------------+--------+------------+------------+----+--------------------+------------+-------------+--------------------+--------------------+--------+----------+-----------+----+-----+-------+----+----------+-----------------+---------------+-----+-------+--------+----+\n",
      "|13203321|   JG415333|09/06/2023 05:00:...|    002XX N Wells st|1320|CRIMINAL DAMAGE|          TO VEHICLE|PARKING LOT / GAR...| false|   false| 122|    NULL|  42|            32|      14|     1174694|     1901831|2023|11/04/2023 03:40:...|41.886018055|-87.633937881|(41.886018055, -8...|POINT (-87.633937...|       1|      true|       NULL|NULL| NULL|   NULL|NULL|      NULL|             NULL|           NULL| NULL|   NULL|    NULL|NULL|\n",
      "|13204489|   JG416325|09/06/2023 11:00:...|      0000X E 8TH ST|0810|          THEFT|           OVER $500|PARKING LOT / GAR...| false|   false| 123|    NULL|   4|            32|      06|     1176857|     1896680|2023|11/04/2023 03:40:...|41.871834768| -87.62615082|(41.871834768, -8...|POINT (-87.626150...|       1|      true|       NULL|NULL| NULL|   NULL|NULL|      NULL|             NULL|           NULL| NULL|   NULL|    NULL|NULL|\n",
      "|11695116|   JC272771|05/21/2019 08:20:...|018XX S CALIFORNI...|0620|       BURGLARY|      UNLAWFUL ENTRY|           RESIDENCE| false|   false|1023|    NULL|  25|            29|      05|     1157982|     1890961|2019|01/19/2024 03:40:...|41.856547057|-87.695604526|(41.856547057, -8...|POINT (-87.695604...|      10|      true|       NULL|NULL| NULL|   NULL|NULL|      NULL|             NULL|           NULL| NULL|   NULL|    NULL|NULL|\n",
      "|12419690|   JE295655|07/07/2021 10:30:...|132XX S GREENWOOD...|1544|    SEX OFFENSE|SEXUAL EXPLOITATI...|           RESIDENCE| false|   false| 533|    NULL|  10|            54|      17|     1186051|     1817781|2021|01/19/2024 03:40:...| 41.65511579|-87.594883198|(41.65511579, -87...|POINT (-87.594883...|       5|      true|       NULL|NULL| NULL|   NULL|NULL|      NULL|             NULL|           NULL| NULL|   NULL|    NULL|NULL|\n",
      "|12729745|   JF279458|06/14/2022 02:47:...| 035XX N CENTRAL AVE|0340|        ROBBERY|ATTEMPT STRONG AR...|                BANK|  true|   false|1633|    NULL|  30|            15|      03|     1138391|     1923142|2022|01/19/2024 03:40:...|41.945232412|-87.766734668|(41.945232412, -8...|POINT (-87.766734...|      16|      true|       NULL|NULL| NULL|   NULL|NULL|      NULL|             NULL|           NULL| NULL|   NULL|    NULL|NULL|\n",
      "+--------+-----------+--------------------+--------------------+----+---------------+--------------------+--------------------+------+--------+----+--------+----+--------------+--------+------------+------------+----+--------------------+------------+-------------+--------------------+--------------------+--------+----------+-----------+----+-----+-------+----+----------+-----------------+---------------+-----+-------+--------+----+\n",
      "only showing top 5 rows\n",
      "\n"
     ]
    }
   ],
   "source": [
    "Chicago_intersects = (\n",
    "    Chicago_intersects.withColumn(\"ARREST_BORO\", F.lit(None))\n",
    "                      .withColumn(\"sex\", F.lit(None))\n",
    "                      .withColumn(\"KY_CD\", F.lit(None))\n",
    "                      .withColumn(\"PD_DESC\", F.lit(None))\n",
    "                      .withColumn(\"age\", F.lit(None))\n",
    "                      .withColumn(\"LAW_CAT_CD\", F.lit(None))\n",
    "                      .withColumn(\"JURISDICTION_CODE\", F.lit(None))\n",
    "                      .withColumn(\"district\", F.lit(None))\n",
    "                      .withColumn(\"ARREST_PRECINCT\", F.lit(None))\n",
    "                      .withColumn(\"PD_CD\", F.lit(None))\n",
    "                      .withColumn(\"Lon_Lat\", F.lit(None))\n",
    "                      .withColumn(\"LAW_CODE\", F.lit(None))\n",
    "                      .withColumn(\"race\", F.lit(None))\n",
    ")\n",
    "\n",
    "\n",
    "Chicago_intersects.show(5)"
   ]
  },
  {
   "cell_type": "code",
   "execution_count": null,
   "metadata": {},
   "outputs": [
    {
     "name": "stdout",
     "output_type": "stream",
     "text": [
      "+---------+----------+-----+--------------------+-----+--------------------+----------+----------+-----------+---------------+-----------------+-----+---+--------------+------------+------------+------------------+------------------+--------------------+--------------------+--------+----------+----+--------+--------------+--------+------------+--------------------+----+----+----------+-----+--------+--------+-----------+------+----+\n",
      "|       id|      date|pd_cd|             pd_desc|ky_cd|         description|  law_code|law_cat_cd|arrest_boro|arrest_precinct|jurisdiction_code|  age|sex|          race|x coordinate|y coordinate|          latitude|         longitude|             lon_lat|                geom|district|intersects|year|fbi code|community area|location|primary type|location description|iucr|ward|updated on|block|dist_num|domestic|case number|arrest|beat|\n",
      "+---------+----------+-----+--------------------+-----+--------------------+----------+----------+-----------+---------------+-----------------+-----+---+--------------+------------+------------+------------------+------------------+--------------------+--------------------+--------+----------+----+--------+--------------+--------+------------+--------------------+----+----+----------+-----+--------+--------+-----------+------+----+\n",
      "|205590989|11/24/2019|  339|LARCENY,PETIT FRO...|  341|       PETIT LARCENY|PL 1552500|         M|          M|             28|                0|25-44|  F|         WHITE|    997571.0|    234556.0| 40.81047604300005|-73.95188015099995|POINT (-73.951880...|POINT (-73.951880...|    NULL|      true|NULL|    NULL|          NULL|    NULL|        NULL|                NULL|NULL|NULL|      NULL| NULL|    NULL|    NULL|       NULL|  NULL|NULL|\n",
      "|202546976|09/17/2019|  793|WEAPONS POSSESSION 3|  118|   DANGEROUS WEAPONS|PL 2650201|         F|          M|              6|                0|45-64|  M|         BLACK|    982746.0|    206647.0| 40.73388303300004|-74.00542831099995|POINT (-74.005428...|POINT (-74.005428...|    NULL|      true|NULL|    NULL|          NULL|    NULL|        NULL|                NULL|NULL|NULL|      NULL| NULL|    NULL|    NULL|       NULL|  NULL|NULL|\n",
      "|203563701|10/10/2019|  494|STOLEN PROPERTY 2...|  111|POSSESSION OF STO...|PL 1654502|         F|          K|             90|                0|18-24|  M|BLACK HISPANIC|   1000830.0|    197889.0| 40.70982902900005|-73.94019763899996|POINT (-73.940197...|POINT (-73.940197...|    NULL|      true|NULL|    NULL|          NULL|    NULL|        NULL|                NULL|NULL|NULL|      NULL| NULL|    NULL|    NULL|       NULL|  NULL|NULL|\n",
      "|205169609|11/14/2019|  397|ROBBERY,OPEN AREA...|  105|             ROBBERY|PL 1601001|         F|          B|             43|                0|18-24|  M|BLACK HISPANIC|   1020183.0|    239283.0|40.823387291000074|-73.87017044999999|POINT (-73.870170...|POINT (-73.870170...|    NULL|      true|NULL|    NULL|          NULL|    NULL|        NULL|                NULL|NULL|NULL|      NULL| NULL|    NULL|    NULL|       NULL|  NULL|NULL|\n",
      "|204097687|10/23/2019|  105|   STRANGULATION 1ST|  106|      FELONY ASSAULT|PL 1211300|         F|          Q|            114|                0|25-44|  M|         BLACK|   1007694.0|    219657.0|40.769561242000066|-73.91536344699995|POINT (-73.915363...|POINT (-73.915363...|    NULL|      true|NULL|    NULL|          NULL|    NULL|        NULL|                NULL|NULL|NULL|      NULL| NULL|    NULL|    NULL|       NULL|  NULL|NULL|\n",
      "+---------+----------+-----+--------------------+-----+--------------------+----------+----------+-----------+---------------+-----------------+-----+---+--------------+------------+------------+------------------+------------------+--------------------+--------------------+--------+----------+----+--------+--------------+--------+------------+--------------------+----+----+----------+-----+--------+--------+-----------+------+----+\n",
      "only showing top 5 rows\n",
      "\n"
     ]
    }
   ],
   "source": [
    "crime_nyc.unionByName(Chicago_intersects).show(5)"
   ]
  },
  {
   "cell_type": "code",
   "execution_count": null,
   "metadata": {},
   "outputs": [],
   "source": [
    "# Add Chicago-only columns to NYC\n",
    "crime_nyc = (\n",
    "    crime_nyc.withColumn(\"year\", F.lit(None))\n",
    "             .withColumn(\"fbi code\", F.lit(None))\n",
    "             .withColumn(\"community area\", F.lit(None))\n",
    "             .withColumn(\"location\", F.lit(None))\n",
    "             .withColumn(\"primary type\", F.lit(None))\n",
    "             .withColumn(\"location description\", F.lit(None))\n",
    "             .withColumn(\"iucr\", F.lit(None))\n",
    "             .withColumn(\"ward\", F.lit(None))\n",
    "             .withColumn(\"updated on\", F.lit(None))\n",
    "             .withColumn(\"block\", F.lit(None))\n",
    "             .withColumn(\"dist_num\", F.lit(None))\n",
    "             .withColumn(\"domestic\", F.lit(None))\n",
    "             .withColumn(\"district\", F.lit(None)) \n",
    "             .withColumn(\"case number\", F.lit(None))\n",
    "             .withColumn(\"arrest\", F.lit(None))\n",
    "             .withColumn(\"beat\", F.lit(None))\n",
    ")\n",
    "\n",
    "\n",
    "# Add NYC-only columns to Chicago\n",
    "Chicago_intersects = (\n",
    "    Chicago_intersects.withColumn(\"arrest_boro\", F.lit(None))\n",
    "                      .withColumn(\"sex\", F.lit(None))\n",
    "                      .withColumn(\"ky_cd\", F.lit(None))\n",
    "                      .withColumn(\"pd_desc\", F.lit(None))\n",
    "                      .withColumn(\"age\", F.lit(None))\n",
    "                      .withColumn(\"law_cat_cd\", F.lit(None))\n",
    "                      .withColumn(\"jurisdiction_code\", F.lit(None))\n",
    "                      .withColumn(\"arrest_precinct\", F.lit(None))\n",
    "                      .withColumn(\"pd_cd\", F.lit(None))\n",
    "                      .withColumn(\"lon_lat\", F.lit(None))\n",
    "                      .withColumn(\"law_code\", F.lit(None))\n",
    "                      .withColumn(\"race\", F.lit(None))\n",
    ")\n"
   ]
  },
  {
   "cell_type": "code",
   "execution_count": null,
   "metadata": {},
   "outputs": [
    {
     "name": "stdout",
     "output_type": "stream",
     "text": [
      "Missing in NYC:\n",
      "{'District', 'law_cat_cd', 'Updated On', 'jurisdiction_code', 'IUCR', 'ky_cd', 'DIST_NUM', 'Block', 'pd_desc', 'lon_lat', 'Primary Type', 'Location Description', 'Case Number', 'Location', 'Community Area', 'Year', 'FBI Code', 'Beat', 'law_code', 'Domestic', 'Ward', 'arrest_precinct', 'Arrest', 'pd_cd', 'arrest_boro'}\n",
      "Missing in Chicago:\n",
      "{'beat', 'location', 'location description', 'district', 'year', 'KY_CD', 'domestic', 'LAW_CAT_CD', 'ARREST_PRECINCT', 'ward', 'LAW_CODE', 'JURISDICTION_CODE', 'updated on', 'block', 'case number', 'ARREST_BORO', 'arrest', 'iucr', 'primary type', 'fbi code', 'community area', 'PD_CD', 'PD_DESC', 'dist_num', 'Lon_Lat'}\n"
     ]
    }
   ],
   "source": [
    "columns_chicago = set(Chicago_intersects.columns)\n",
    "columns_nyc = set(crime_nyc.columns)\n",
    "\n",
    "missing_in_nyc = columns_chicago - columns_nyc\n",
    "missing_in_chicago = columns_nyc - columns_chicago\n",
    "print(\"Missing in NYC:\")\n",
    "print(missing_in_nyc)\n",
    "\n",
    "print(\"Missing in Chicago:\")\n",
    "print(missing_in_chicago)\n"
   ]
  },
  {
   "cell_type": "code",
   "execution_count": null,
   "metadata": {},
   "outputs": [],
   "source": [
    "crime_nyc = crime_nyc.select([F.col(c).alias(c.lower()) for c in crime_nyc.columns])\n",
    "Chicago_intersects = Chicago_intersects.select([F.col(c).alias(c.lower()) for c in Chicago_intersects.columns])\n"
   ]
  },
  {
   "cell_type": "code",
   "execution_count": null,
   "metadata": {},
   "outputs": [],
   "source": []
  },
  {
   "cell_type": "code",
   "execution_count": null,
   "metadata": {},
   "outputs": [
    {
     "name": "stderr",
     "output_type": "stream",
     "text": [
      "25/04/17 19:28:17 WARN SparkStringUtils: Truncated the string representation of a plan since it was too large. This behavior can be adjusted by setting 'spark.sql.debug.maxToStringFields'.\n"
     ]
    },
    {
     "name": "stdout",
     "output_type": "stream",
     "text": [
      "+---------+----------+-----+--------------------+-----+--------------------+----------+----------+-----------+---------------+-----------------+-----+---+--------------+------------+------------+------------------+------------------+--------------------+--------------------+--------+----------+----+--------+--------------+--------+------------+--------------------+----+----+----------+-----+--------+--------+-----------+------+----+\n",
      "|       id|      date|pd_cd|             pd_desc|ky_cd|         description|  law_code|law_cat_cd|arrest_boro|arrest_precinct|jurisdiction_code|  age|sex|          race|x coordinate|y coordinate|          latitude|         longitude|             lon_lat|                geom|district|intersects|year|fbi code|community area|location|primary type|location description|iucr|ward|updated on|block|dist_num|domestic|case number|arrest|beat|\n",
      "+---------+----------+-----+--------------------+-----+--------------------+----------+----------+-----------+---------------+-----------------+-----+---+--------------+------------+------------+------------------+------------------+--------------------+--------------------+--------+----------+----+--------+--------------+--------+------------+--------------------+----+----+----------+-----+--------+--------+-----------+------+----+\n",
      "|205590989|11/24/2019|  339|LARCENY,PETIT FRO...|  341|       PETIT LARCENY|PL 1552500|         M|          M|             28|                0|25-44|  F|         WHITE|    997571.0|    234556.0| 40.81047604300005|-73.95188015099995|POINT (-73.951880...|POINT (-73.951880...|    NULL|      true|NULL|    NULL|          NULL|    NULL|        NULL|                NULL|NULL|NULL|      NULL| NULL|    NULL|    NULL|       NULL|  NULL|NULL|\n",
      "|202546976|09/17/2019|  793|WEAPONS POSSESSION 3|  118|   DANGEROUS WEAPONS|PL 2650201|         F|          M|              6|                0|45-64|  M|         BLACK|    982746.0|    206647.0| 40.73388303300004|-74.00542831099995|POINT (-74.005428...|POINT (-74.005428...|    NULL|      true|NULL|    NULL|          NULL|    NULL|        NULL|                NULL|NULL|NULL|      NULL| NULL|    NULL|    NULL|       NULL|  NULL|NULL|\n",
      "|203563701|10/10/2019|  494|STOLEN PROPERTY 2...|  111|POSSESSION OF STO...|PL 1654502|         F|          K|             90|                0|18-24|  M|BLACK HISPANIC|   1000830.0|    197889.0| 40.70982902900005|-73.94019763899996|POINT (-73.940197...|POINT (-73.940197...|    NULL|      true|NULL|    NULL|          NULL|    NULL|        NULL|                NULL|NULL|NULL|      NULL| NULL|    NULL|    NULL|       NULL|  NULL|NULL|\n",
      "|205169609|11/14/2019|  397|ROBBERY,OPEN AREA...|  105|             ROBBERY|PL 1601001|         F|          B|             43|                0|18-24|  M|BLACK HISPANIC|   1020183.0|    239283.0|40.823387291000074|-73.87017044999999|POINT (-73.870170...|POINT (-73.870170...|    NULL|      true|NULL|    NULL|          NULL|    NULL|        NULL|                NULL|NULL|NULL|      NULL| NULL|    NULL|    NULL|       NULL|  NULL|NULL|\n",
      "|204097687|10/23/2019|  105|   STRANGULATION 1ST|  106|      FELONY ASSAULT|PL 1211300|         F|          Q|            114|                0|25-44|  M|         BLACK|   1007694.0|    219657.0|40.769561242000066|-73.91536344699995|POINT (-73.915363...|POINT (-73.915363...|    NULL|      true|NULL|    NULL|          NULL|    NULL|        NULL|                NULL|NULL|NULL|      NULL| NULL|    NULL|    NULL|       NULL|  NULL|NULL|\n",
      "+---------+----------+-----+--------------------+-----+--------------------+----------+----------+-----------+---------------+-----------------+-----+---+--------------+------------+------------+------------------+------------------+--------------------+--------------------+--------+----------+----+--------+--------------+--------+------------+--------------------+----+----+----------+-----+--------+--------+-----------+------+----+\n",
      "only showing top 5 rows\n",
      "\n"
     ]
    }
   ],
   "source": [
    "combined_df = crime_nyc.unionByName(Chicago_intersects)\n",
    "combined_df.show(5)"
   ]
  },
  {
   "cell_type": "code",
   "execution_count": null,
   "metadata": {},
   "outputs": [
    {
     "name": "stderr",
     "output_type": "stream",
     "text": [
      "                                                                                \r"
     ]
    },
    {
     "name": "stdout",
     "output_type": "stream",
     "text": [
      "{'age': 8177185, 'arrest': 5717716, 'arrest_boro': 8177176, 'arrest_precinct': 8177168, 'beat': 5717716, 'block': 5717716, 'case number': 5717716, 'community area': 6321514, 'date': 0, 'description': 9163, 'dist_num': 5717716, 'district': 13894884, 'domestic': 5717716, 'fbi code': 5717716, 'geom': 0, 'id': 0, 'intersects': 0, 'iucr': 5717716, 'jurisdiction_code': 8177178, 'ky_cd': 8186918, 'latitude': 0, 'law_cat_cd': 8200758, 'law_code': 8177364, 'location': 5717716, 'location description': 5726836, 'lon_lat': 8177168, 'longitude': 0, 'pd_cd': 8178044, 'pd_desc': 8186331, 'primary type': 5717716, 'race': 8177168, 'sex': 8177168, 'updated on': 5717716, 'ward': 6322800, 'x coordinate': 0, 'y coordinate': 0, 'year': 5717716}\n",
      "199057415\n",
      "Total count of null values: 199057415\n"
     ]
    },
    {
     "name": "stderr",
     "output_type": "stream",
     "text": [
      "[Stage 292:==================================================>    (23 + 2) / 25]\r"
     ]
    },
    {
     "name": "stdout",
     "output_type": "stream",
     "text": [
      "Total count of rows: 13894884\n"
     ]
    },
    {
     "name": "stderr",
     "output_type": "stream",
     "text": [
      "                                                                                \r"
     ]
    }
   ],
   "source": [
    "null_counts = {}\n",
    "\n",
    "for col_name, col_type in combined_df.dtypes:\n",
    "    if col_type in [\"float\", \"double\", \"int\"]:\n",
    "        null_condition = (F.col(col_name).isNull() | F.isnan(F.col(col_name)))\n",
    "    else:\n",
    "        null_condition = F.col(col_name).isNull()\n",
    "\n",
    "    null_count = (\n",
    "        combined_df\n",
    "        .withColumn(\"new_column\", F.when(null_condition, 1).otherwise(0))\n",
    "        .agg(F.sum(\"new_column\").alias(\"temp_sum\"))\n",
    "        .collect()[0][0]\n",
    "    )\n",
    "\n",
    "    null_counts[col_name] = null_count\n",
    "\n",
    "total_count = builtins.sum(null_counts.values())\n",
    "\n",
    "print(null_counts)\n",
    "print(total_count)\n",
    "print(f\"Total count of null values: {total_count}\")\n",
    "print(f\"Total count of rows: {combined_df.count()}\")\n"
   ]
  },
  {
   "cell_type": "code",
   "execution_count": null,
   "metadata": {},
   "outputs": [],
   "source": [
    "def full_func_creation_table(df, db, table):\n",
    "\n",
    "    types = {\"string\": \"String\",\n",
    "             \"int\": \"Int32\",\n",
    "            \"bigint\": \"Int64\",\n",
    "            \"long\": \"Int64\",\n",
    "            \"double\": \"Float64\",\n",
    "            \"float\": \"Float32\",\n",
    "            \"boolean\": \"Boolean\",\n",
    "            \"timestamp\": \"DateTime\",\n",
    "            \"date\": \"Date\"\n",
    "            }\n",
    "    columns = [f\"`{column_name}` {types.get(column_type, 'String')}\" for column_name, column_type in df.dtypes]\n",
    "    return f\"create table if not exists {db}.{table} ({','.join(columns)}) ENGINE=MergeTree() order by {df.columns[0]}\"\n"
   ]
  },
  {
   "cell_type": "code",
   "execution_count": null,
   "metadata": {},
   "outputs": [
    {
     "data": {
      "text/plain": [
       "'create table if not exists crime_data.crime_combined (`id` Int32,`date` String,`pd_cd` Int32,`pd_desc` String,`ky_cd` Int32,`description` String,`law_code` String,`law_cat_cd` String,`arrest_boro` String,`arrest_precinct` Int32,`jurisdiction_code` Int32,`age` String,`sex` String,`race` String,`x coordinate` Float64,`y coordinate` Float64,`latitude` Float64,`longitude` Float64,`lon_lat` String,`geom` String,`district` Int32,`intersects` Boolean,`year` Int32,`fbi code` String,`community area` Int32,`location` String,`primary type` String,`location description` String,`iucr` String,`ward` Int32,`updated on` String,`block` String,`dist_num` Int32,`domestic` Boolean,`case number` String,`arrest` Boolean,`beat` Int32) ENGINE=MergeTree() order by id'"
      ]
     },
     "execution_count": 17,
     "metadata": {},
     "output_type": "execute_result"
    }
   ],
   "source": [
    "full_func_creation_table(combined_df, 'crime_data', 'crime_combined')"
   ]
  },
  {
   "cell_type": "code",
   "execution_count": null,
   "metadata": {},
   "outputs": [
    {
     "data": {
      "text/plain": [
       "<clickhouse_connect.driver.summary.QuerySummary at 0x7f19fc9590d0>"
      ]
     },
     "execution_count": 18,
     "metadata": {},
     "output_type": "execute_result"
    }
   ],
   "source": [
    "client.command(full_func_creation_table(combined_df, 'crime_data', 'crime_combined'))"
   ]
  },
  {
   "cell_type": "code",
   "execution_count": null,
   "metadata": {},
   "outputs": [
    {
     "name": "stderr",
     "output_type": "stream",
     "text": [
      "                                                                                \r"
     ]
    }
   ],
   "source": [
    "combined_df.writeTo(\"crime_data.crime_combined\").append()"
   ]
  },
  {
   "cell_type": "code",
   "execution_count": null,
   "metadata": {},
   "outputs": [],
   "source": [
    "client.insert('crime_data.crime_combined', combined_df)"
   ]
  },
  {
   "cell_type": "code",
   "execution_count": null,
   "metadata": {},
   "outputs": [
    {
     "name": "stderr",
     "output_type": "stream",
     "text": [
      "                                                                                \r"
     ]
    }
   ],
   "source": [
    "df = combined_df.toPandas()"
   ]
  },
  {
   "cell_type": "code",
   "execution_count": null,
   "metadata": {},
   "outputs": [
    {
     "data": {
      "text/html": [
       "<div>\n",
       "<style scoped>\n",
       "    .dataframe tbody tr th:only-of-type {\n",
       "        vertical-align: middle;\n",
       "    }\n",
       "\n",
       "    .dataframe tbody tr th {\n",
       "        vertical-align: top;\n",
       "    }\n",
       "\n",
       "    .dataframe thead th {\n",
       "        text-align: right;\n",
       "    }\n",
       "</style>\n",
       "<table border=\"1\" class=\"dataframe\">\n",
       "  <thead>\n",
       "    <tr style=\"text-align: right;\">\n",
       "      <th></th>\n",
       "      <th>id</th>\n",
       "      <th>date</th>\n",
       "      <th>pd_cd</th>\n",
       "      <th>pd_desc</th>\n",
       "      <th>ky_cd</th>\n",
       "      <th>description</th>\n",
       "      <th>law_code</th>\n",
       "      <th>law_cat_cd</th>\n",
       "      <th>arrest_boro</th>\n",
       "      <th>arrest_precinct</th>\n",
       "      <th>jurisdiction_code</th>\n",
       "      <th>age</th>\n",
       "      <th>sex</th>\n",
       "      <th>race</th>\n",
       "      <th>x coordinate</th>\n",
       "      <th>y coordinate</th>\n",
       "      <th>latitude</th>\n",
       "      <th>longitude</th>\n",
       "      <th>lon_lat</th>\n",
       "      <th>geom</th>\n",
       "      <th>district</th>\n",
       "      <th>intersects</th>\n",
       "      <th>year</th>\n",
       "      <th>fbi code</th>\n",
       "      <th>community area</th>\n",
       "      <th>location</th>\n",
       "      <th>primary type</th>\n",
       "      <th>location description</th>\n",
       "      <th>iucr</th>\n",
       "      <th>ward</th>\n",
       "      <th>updated on</th>\n",
       "      <th>block</th>\n",
       "      <th>dist_num</th>\n",
       "      <th>domestic</th>\n",
       "      <th>case number</th>\n",
       "      <th>arrest</th>\n",
       "      <th>beat</th>\n",
       "    </tr>\n",
       "  </thead>\n",
       "  <tbody>\n",
       "    <tr>\n",
       "      <th>0</th>\n",
       "      <td>205590989</td>\n",
       "      <td>11/24/2019</td>\n",
       "      <td>339.0</td>\n",
       "      <td>LARCENY,PETIT FROM OPEN AREAS,</td>\n",
       "      <td>341.0</td>\n",
       "      <td>PETIT LARCENY</td>\n",
       "      <td>PL 1552500</td>\n",
       "      <td>M</td>\n",
       "      <td>M</td>\n",
       "      <td>28.0</td>\n",
       "      <td>0.0</td>\n",
       "      <td>25-44</td>\n",
       "      <td>F</td>\n",
       "      <td>WHITE</td>\n",
       "      <td>997571.0</td>\n",
       "      <td>234556.0</td>\n",
       "      <td>40.810476</td>\n",
       "      <td>-73.951880</td>\n",
       "      <td>POINT (-73.95188015099995 40.81047604300005)</td>\n",
       "      <td>POINT (-73.95188015099995 40.81047604300005)</td>\n",
       "      <td>NaN</td>\n",
       "      <td>True</td>\n",
       "      <td>NaN</td>\n",
       "      <td>None</td>\n",
       "      <td>NaN</td>\n",
       "      <td>None</td>\n",
       "      <td>None</td>\n",
       "      <td>None</td>\n",
       "      <td>None</td>\n",
       "      <td>NaN</td>\n",
       "      <td>None</td>\n",
       "      <td>None</td>\n",
       "      <td>NaN</td>\n",
       "      <td>None</td>\n",
       "      <td>None</td>\n",
       "      <td>None</td>\n",
       "      <td>NaN</td>\n",
       "    </tr>\n",
       "    <tr>\n",
       "      <th>1</th>\n",
       "      <td>202546976</td>\n",
       "      <td>09/17/2019</td>\n",
       "      <td>793.0</td>\n",
       "      <td>WEAPONS POSSESSION 3</td>\n",
       "      <td>118.0</td>\n",
       "      <td>DANGEROUS WEAPONS</td>\n",
       "      <td>PL 2650201</td>\n",
       "      <td>F</td>\n",
       "      <td>M</td>\n",
       "      <td>6.0</td>\n",
       "      <td>0.0</td>\n",
       "      <td>45-64</td>\n",
       "      <td>M</td>\n",
       "      <td>BLACK</td>\n",
       "      <td>982746.0</td>\n",
       "      <td>206647.0</td>\n",
       "      <td>40.733883</td>\n",
       "      <td>-74.005428</td>\n",
       "      <td>POINT (-74.00542831099995 40.73388303300004)</td>\n",
       "      <td>POINT (-74.00542831099995 40.73388303300004)</td>\n",
       "      <td>NaN</td>\n",
       "      <td>True</td>\n",
       "      <td>NaN</td>\n",
       "      <td>None</td>\n",
       "      <td>NaN</td>\n",
       "      <td>None</td>\n",
       "      <td>None</td>\n",
       "      <td>None</td>\n",
       "      <td>None</td>\n",
       "      <td>NaN</td>\n",
       "      <td>None</td>\n",
       "      <td>None</td>\n",
       "      <td>NaN</td>\n",
       "      <td>None</td>\n",
       "      <td>None</td>\n",
       "      <td>None</td>\n",
       "      <td>NaN</td>\n",
       "    </tr>\n",
       "    <tr>\n",
       "      <th>2</th>\n",
       "      <td>203563701</td>\n",
       "      <td>10/10/2019</td>\n",
       "      <td>494.0</td>\n",
       "      <td>STOLEN PROPERTY 2,1,POSSESSION</td>\n",
       "      <td>111.0</td>\n",
       "      <td>POSSESSION OF STOLEN PROPERTY</td>\n",
       "      <td>PL 1654502</td>\n",
       "      <td>F</td>\n",
       "      <td>K</td>\n",
       "      <td>90.0</td>\n",
       "      <td>0.0</td>\n",
       "      <td>18-24</td>\n",
       "      <td>M</td>\n",
       "      <td>BLACK HISPANIC</td>\n",
       "      <td>1000830.0</td>\n",
       "      <td>197889.0</td>\n",
       "      <td>40.709829</td>\n",
       "      <td>-73.940198</td>\n",
       "      <td>POINT (-73.94019763899996 40.70982902900005)</td>\n",
       "      <td>POINT (-73.94019763899996 40.70982902900005)</td>\n",
       "      <td>NaN</td>\n",
       "      <td>True</td>\n",
       "      <td>NaN</td>\n",
       "      <td>None</td>\n",
       "      <td>NaN</td>\n",
       "      <td>None</td>\n",
       "      <td>None</td>\n",
       "      <td>None</td>\n",
       "      <td>None</td>\n",
       "      <td>NaN</td>\n",
       "      <td>None</td>\n",
       "      <td>None</td>\n",
       "      <td>NaN</td>\n",
       "      <td>None</td>\n",
       "      <td>None</td>\n",
       "      <td>None</td>\n",
       "      <td>NaN</td>\n",
       "    </tr>\n",
       "    <tr>\n",
       "      <th>3</th>\n",
       "      <td>205169609</td>\n",
       "      <td>11/14/2019</td>\n",
       "      <td>397.0</td>\n",
       "      <td>ROBBERY,OPEN AREA UNCLASSIFIED</td>\n",
       "      <td>105.0</td>\n",
       "      <td>ROBBERY</td>\n",
       "      <td>PL 1601001</td>\n",
       "      <td>F</td>\n",
       "      <td>B</td>\n",
       "      <td>43.0</td>\n",
       "      <td>0.0</td>\n",
       "      <td>18-24</td>\n",
       "      <td>M</td>\n",
       "      <td>BLACK HISPANIC</td>\n",
       "      <td>1020183.0</td>\n",
       "      <td>239283.0</td>\n",
       "      <td>40.823387</td>\n",
       "      <td>-73.870170</td>\n",
       "      <td>POINT (-73.87017044999999 40.823387291000074)</td>\n",
       "      <td>POINT (-73.87017044999999 40.823387291000074)</td>\n",
       "      <td>NaN</td>\n",
       "      <td>True</td>\n",
       "      <td>NaN</td>\n",
       "      <td>None</td>\n",
       "      <td>NaN</td>\n",
       "      <td>None</td>\n",
       "      <td>None</td>\n",
       "      <td>None</td>\n",
       "      <td>None</td>\n",
       "      <td>NaN</td>\n",
       "      <td>None</td>\n",
       "      <td>None</td>\n",
       "      <td>NaN</td>\n",
       "      <td>None</td>\n",
       "      <td>None</td>\n",
       "      <td>None</td>\n",
       "      <td>NaN</td>\n",
       "    </tr>\n",
       "    <tr>\n",
       "      <th>4</th>\n",
       "      <td>204097687</td>\n",
       "      <td>10/23/2019</td>\n",
       "      <td>105.0</td>\n",
       "      <td>STRANGULATION 1ST</td>\n",
       "      <td>106.0</td>\n",
       "      <td>FELONY ASSAULT</td>\n",
       "      <td>PL 1211300</td>\n",
       "      <td>F</td>\n",
       "      <td>Q</td>\n",
       "      <td>114.0</td>\n",
       "      <td>0.0</td>\n",
       "      <td>25-44</td>\n",
       "      <td>M</td>\n",
       "      <td>BLACK</td>\n",
       "      <td>1007694.0</td>\n",
       "      <td>219657.0</td>\n",
       "      <td>40.769561</td>\n",
       "      <td>-73.915363</td>\n",
       "      <td>POINT (-73.91536344699995 40.769561242000066)</td>\n",
       "      <td>POINT (-73.91536344699995 40.769561242000066)</td>\n",
       "      <td>NaN</td>\n",
       "      <td>True</td>\n",
       "      <td>NaN</td>\n",
       "      <td>None</td>\n",
       "      <td>NaN</td>\n",
       "      <td>None</td>\n",
       "      <td>None</td>\n",
       "      <td>None</td>\n",
       "      <td>None</td>\n",
       "      <td>NaN</td>\n",
       "      <td>None</td>\n",
       "      <td>None</td>\n",
       "      <td>NaN</td>\n",
       "      <td>None</td>\n",
       "      <td>None</td>\n",
       "      <td>None</td>\n",
       "      <td>NaN</td>\n",
       "    </tr>\n",
       "    <tr>\n",
       "      <th>...</th>\n",
       "      <td>...</td>\n",
       "      <td>...</td>\n",
       "      <td>...</td>\n",
       "      <td>...</td>\n",
       "      <td>...</td>\n",
       "      <td>...</td>\n",
       "      <td>...</td>\n",
       "      <td>...</td>\n",
       "      <td>...</td>\n",
       "      <td>...</td>\n",
       "      <td>...</td>\n",
       "      <td>...</td>\n",
       "      <td>...</td>\n",
       "      <td>...</td>\n",
       "      <td>...</td>\n",
       "      <td>...</td>\n",
       "      <td>...</td>\n",
       "      <td>...</td>\n",
       "      <td>...</td>\n",
       "      <td>...</td>\n",
       "      <td>...</td>\n",
       "      <td>...</td>\n",
       "      <td>...</td>\n",
       "      <td>...</td>\n",
       "      <td>...</td>\n",
       "      <td>...</td>\n",
       "      <td>...</td>\n",
       "      <td>...</td>\n",
       "      <td>...</td>\n",
       "      <td>...</td>\n",
       "      <td>...</td>\n",
       "      <td>...</td>\n",
       "      <td>...</td>\n",
       "      <td>...</td>\n",
       "      <td>...</td>\n",
       "      <td>...</td>\n",
       "      <td>...</td>\n",
       "    </tr>\n",
       "    <tr>\n",
       "      <th>13894879</th>\n",
       "      <td>13790609</td>\n",
       "      <td>03/29/2025 06:00:00 PM</td>\n",
       "      <td>NaN</td>\n",
       "      <td>None</td>\n",
       "      <td>NaN</td>\n",
       "      <td>ATTEMPT - AUTOMOBILE</td>\n",
       "      <td>None</td>\n",
       "      <td>None</td>\n",
       "      <td>None</td>\n",
       "      <td>NaN</td>\n",
       "      <td>NaN</td>\n",
       "      <td>None</td>\n",
       "      <td>None</td>\n",
       "      <td>None</td>\n",
       "      <td>1201525.0</td>\n",
       "      <td>1834449.0</td>\n",
       "      <td>41.700477</td>\n",
       "      <td>-87.537701</td>\n",
       "      <td>None</td>\n",
       "      <td>POINT (-87.537701103 41.700476705)</td>\n",
       "      <td>4.0</td>\n",
       "      <td>True</td>\n",
       "      <td>2025.0</td>\n",
       "      <td>07</td>\n",
       "      <td>52.0</td>\n",
       "      <td>(41.700476705, -87.537701103)</td>\n",
       "      <td>MOTOR VEHICLE THEFT</td>\n",
       "      <td>STREET</td>\n",
       "      <td>0920</td>\n",
       "      <td>10.0</td>\n",
       "      <td>04/06/2025 03:41:20 PM</td>\n",
       "      <td>107XX S AVENUE M</td>\n",
       "      <td>4.0</td>\n",
       "      <td>False</td>\n",
       "      <td>JJ199817</td>\n",
       "      <td>False</td>\n",
       "      <td>432.0</td>\n",
       "    </tr>\n",
       "    <tr>\n",
       "      <th>13894880</th>\n",
       "      <td>13790302</td>\n",
       "      <td>03/29/2025 07:45:00 PM</td>\n",
       "      <td>NaN</td>\n",
       "      <td>None</td>\n",
       "      <td>NaN</td>\n",
       "      <td>RETAIL THEFT</td>\n",
       "      <td>None</td>\n",
       "      <td>None</td>\n",
       "      <td>None</td>\n",
       "      <td>NaN</td>\n",
       "      <td>NaN</td>\n",
       "      <td>None</td>\n",
       "      <td>None</td>\n",
       "      <td>None</td>\n",
       "      <td>1168469.0</td>\n",
       "      <td>1929861.0</td>\n",
       "      <td>41.963071</td>\n",
       "      <td>-87.655984</td>\n",
       "      <td>None</td>\n",
       "      <td>POINT (-87.655984213 41.963070794)</td>\n",
       "      <td>19.0</td>\n",
       "      <td>True</td>\n",
       "      <td>2025.0</td>\n",
       "      <td>06</td>\n",
       "      <td>3.0</td>\n",
       "      <td>(41.963070794, -87.655984213)</td>\n",
       "      <td>THEFT</td>\n",
       "      <td>DEPARTMENT STORE</td>\n",
       "      <td>0860</td>\n",
       "      <td>46.0</td>\n",
       "      <td>04/06/2025 03:41:20 PM</td>\n",
       "      <td>044XX N BROADWAY</td>\n",
       "      <td>19.0</td>\n",
       "      <td>False</td>\n",
       "      <td>JJ199433</td>\n",
       "      <td>True</td>\n",
       "      <td>1913.0</td>\n",
       "    </tr>\n",
       "    <tr>\n",
       "      <th>13894881</th>\n",
       "      <td>13795591</td>\n",
       "      <td>02/20/2025 12:00:00 PM</td>\n",
       "      <td>NaN</td>\n",
       "      <td>None</td>\n",
       "      <td>NaN</td>\n",
       "      <td>OVER $500</td>\n",
       "      <td>None</td>\n",
       "      <td>None</td>\n",
       "      <td>None</td>\n",
       "      <td>NaN</td>\n",
       "      <td>NaN</td>\n",
       "      <td>None</td>\n",
       "      <td>None</td>\n",
       "      <td>None</td>\n",
       "      <td>1177518.0</td>\n",
       "      <td>1890999.0</td>\n",
       "      <td>41.856231</td>\n",
       "      <td>-87.623896</td>\n",
       "      <td>None</td>\n",
       "      <td>POINT (-87.623896406 41.856230779)</td>\n",
       "      <td>1.0</td>\n",
       "      <td>True</td>\n",
       "      <td>2025.0</td>\n",
       "      <td>06</td>\n",
       "      <td>33.0</td>\n",
       "      <td>(41.856230779, -87.623896406)</td>\n",
       "      <td>THEFT</td>\n",
       "      <td>APARTMENT</td>\n",
       "      <td>0810</td>\n",
       "      <td>3.0</td>\n",
       "      <td>04/06/2025 03:40:31 PM</td>\n",
       "      <td>019XX S MICHIGAN AVE</td>\n",
       "      <td>1.0</td>\n",
       "      <td>False</td>\n",
       "      <td>JJ205757</td>\n",
       "      <td>False</td>\n",
       "      <td>132.0</td>\n",
       "    </tr>\n",
       "    <tr>\n",
       "      <th>13894882</th>\n",
       "      <td>13790020</td>\n",
       "      <td>03/29/2025 03:00:00 PM</td>\n",
       "      <td>NaN</td>\n",
       "      <td>None</td>\n",
       "      <td>NaN</td>\n",
       "      <td>TELEPHONE THREAT</td>\n",
       "      <td>None</td>\n",
       "      <td>None</td>\n",
       "      <td>None</td>\n",
       "      <td>NaN</td>\n",
       "      <td>NaN</td>\n",
       "      <td>None</td>\n",
       "      <td>None</td>\n",
       "      <td>None</td>\n",
       "      <td>1161061.0</td>\n",
       "      <td>1894662.0</td>\n",
       "      <td>41.866640</td>\n",
       "      <td>-87.684200</td>\n",
       "      <td>None</td>\n",
       "      <td>POINT (-87.684200232 41.866639654)</td>\n",
       "      <td>12.0</td>\n",
       "      <td>True</td>\n",
       "      <td>2025.0</td>\n",
       "      <td>08A</td>\n",
       "      <td>28.0</td>\n",
       "      <td>(41.866639654, -87.684200232)</td>\n",
       "      <td>OTHER OFFENSE</td>\n",
       "      <td>STREET</td>\n",
       "      <td>2820</td>\n",
       "      <td>28.0</td>\n",
       "      <td>04/06/2025 03:41:20 PM</td>\n",
       "      <td>023XX W ROOSEVELT RD</td>\n",
       "      <td>12.0</td>\n",
       "      <td>False</td>\n",
       "      <td>JJ199122</td>\n",
       "      <td>False</td>\n",
       "      <td>1225.0</td>\n",
       "    </tr>\n",
       "    <tr>\n",
       "      <th>13894883</th>\n",
       "      <td>13789694</td>\n",
       "      <td>03/29/2025 08:40:00 AM</td>\n",
       "      <td>NaN</td>\n",
       "      <td>None</td>\n",
       "      <td>NaN</td>\n",
       "      <td>RETAIL THEFT</td>\n",
       "      <td>None</td>\n",
       "      <td>None</td>\n",
       "      <td>None</td>\n",
       "      <td>NaN</td>\n",
       "      <td>NaN</td>\n",
       "      <td>None</td>\n",
       "      <td>None</td>\n",
       "      <td>None</td>\n",
       "      <td>1143644.0</td>\n",
       "      <td>1926627.0</td>\n",
       "      <td>41.954699</td>\n",
       "      <td>-87.747339</td>\n",
       "      <td>None</td>\n",
       "      <td>POINT (-87.747338823 41.954698652)</td>\n",
       "      <td>16.0</td>\n",
       "      <td>True</td>\n",
       "      <td>2025.0</td>\n",
       "      <td>06</td>\n",
       "      <td>15.0</td>\n",
       "      <td>(41.954698652, -87.747338823)</td>\n",
       "      <td>THEFT</td>\n",
       "      <td>DRUG STORE</td>\n",
       "      <td>0860</td>\n",
       "      <td>45.0</td>\n",
       "      <td>04/06/2025 03:41:20 PM</td>\n",
       "      <td>040XX N CICERO AVE</td>\n",
       "      <td>16.0</td>\n",
       "      <td>False</td>\n",
       "      <td>JJ198716</td>\n",
       "      <td>False</td>\n",
       "      <td>1624.0</td>\n",
       "    </tr>\n",
       "  </tbody>\n",
       "</table>\n",
       "<p>13894884 rows × 37 columns</p>\n",
       "</div>"
      ],
      "text/plain": [
       "                 id                    date  pd_cd  \\\n",
       "0         205590989              11/24/2019  339.0   \n",
       "1         202546976              09/17/2019  793.0   \n",
       "2         203563701              10/10/2019  494.0   \n",
       "3         205169609              11/14/2019  397.0   \n",
       "4         204097687              10/23/2019  105.0   \n",
       "...             ...                     ...    ...   \n",
       "13894879   13790609  03/29/2025 06:00:00 PM    NaN   \n",
       "13894880   13790302  03/29/2025 07:45:00 PM    NaN   \n",
       "13894881   13795591  02/20/2025 12:00:00 PM    NaN   \n",
       "13894882   13790020  03/29/2025 03:00:00 PM    NaN   \n",
       "13894883   13789694  03/29/2025 08:40:00 AM    NaN   \n",
       "\n",
       "                                 pd_desc  ky_cd  \\\n",
       "0         LARCENY,PETIT FROM OPEN AREAS,  341.0   \n",
       "1                   WEAPONS POSSESSION 3  118.0   \n",
       "2         STOLEN PROPERTY 2,1,POSSESSION  111.0   \n",
       "3         ROBBERY,OPEN AREA UNCLASSIFIED  105.0   \n",
       "4                      STRANGULATION 1ST  106.0   \n",
       "...                                  ...    ...   \n",
       "13894879                            None    NaN   \n",
       "13894880                            None    NaN   \n",
       "13894881                            None    NaN   \n",
       "13894882                            None    NaN   \n",
       "13894883                            None    NaN   \n",
       "\n",
       "                            description    law_code law_cat_cd arrest_boro  \\\n",
       "0                         PETIT LARCENY  PL 1552500          M           M   \n",
       "1                     DANGEROUS WEAPONS  PL 2650201          F           M   \n",
       "2         POSSESSION OF STOLEN PROPERTY  PL 1654502          F           K   \n",
       "3                               ROBBERY  PL 1601001          F           B   \n",
       "4                        FELONY ASSAULT  PL 1211300          F           Q   \n",
       "...                                 ...         ...        ...         ...   \n",
       "13894879           ATTEMPT - AUTOMOBILE        None       None        None   \n",
       "13894880                   RETAIL THEFT        None       None        None   \n",
       "13894881                      OVER $500        None       None        None   \n",
       "13894882               TELEPHONE THREAT        None       None        None   \n",
       "13894883                   RETAIL THEFT        None       None        None   \n",
       "\n",
       "          arrest_precinct  jurisdiction_code    age   sex            race  \\\n",
       "0                    28.0                0.0  25-44     F           WHITE   \n",
       "1                     6.0                0.0  45-64     M           BLACK   \n",
       "2                    90.0                0.0  18-24     M  BLACK HISPANIC   \n",
       "3                    43.0                0.0  18-24     M  BLACK HISPANIC   \n",
       "4                   114.0                0.0  25-44     M           BLACK   \n",
       "...                   ...                ...    ...   ...             ...   \n",
       "13894879              NaN                NaN   None  None            None   \n",
       "13894880              NaN                NaN   None  None            None   \n",
       "13894881              NaN                NaN   None  None            None   \n",
       "13894882              NaN                NaN   None  None            None   \n",
       "13894883              NaN                NaN   None  None            None   \n",
       "\n",
       "          x coordinate  y coordinate   latitude  longitude  \\\n",
       "0             997571.0      234556.0  40.810476 -73.951880   \n",
       "1             982746.0      206647.0  40.733883 -74.005428   \n",
       "2            1000830.0      197889.0  40.709829 -73.940198   \n",
       "3            1020183.0      239283.0  40.823387 -73.870170   \n",
       "4            1007694.0      219657.0  40.769561 -73.915363   \n",
       "...                ...           ...        ...        ...   \n",
       "13894879     1201525.0     1834449.0  41.700477 -87.537701   \n",
       "13894880     1168469.0     1929861.0  41.963071 -87.655984   \n",
       "13894881     1177518.0     1890999.0  41.856231 -87.623896   \n",
       "13894882     1161061.0     1894662.0  41.866640 -87.684200   \n",
       "13894883     1143644.0     1926627.0  41.954699 -87.747339   \n",
       "\n",
       "                                                lon_lat  \\\n",
       "0          POINT (-73.95188015099995 40.81047604300005)   \n",
       "1          POINT (-74.00542831099995 40.73388303300004)   \n",
       "2          POINT (-73.94019763899996 40.70982902900005)   \n",
       "3         POINT (-73.87017044999999 40.823387291000074)   \n",
       "4         POINT (-73.91536344699995 40.769561242000066)   \n",
       "...                                                 ...   \n",
       "13894879                                           None   \n",
       "13894880                                           None   \n",
       "13894881                                           None   \n",
       "13894882                                           None   \n",
       "13894883                                           None   \n",
       "\n",
       "                                                   geom  district  intersects  \\\n",
       "0          POINT (-73.95188015099995 40.81047604300005)       NaN        True   \n",
       "1          POINT (-74.00542831099995 40.73388303300004)       NaN        True   \n",
       "2          POINT (-73.94019763899996 40.70982902900005)       NaN        True   \n",
       "3         POINT (-73.87017044999999 40.823387291000074)       NaN        True   \n",
       "4         POINT (-73.91536344699995 40.769561242000066)       NaN        True   \n",
       "...                                                 ...       ...         ...   \n",
       "13894879             POINT (-87.537701103 41.700476705)       4.0        True   \n",
       "13894880             POINT (-87.655984213 41.963070794)      19.0        True   \n",
       "13894881             POINT (-87.623896406 41.856230779)       1.0        True   \n",
       "13894882             POINT (-87.684200232 41.866639654)      12.0        True   \n",
       "13894883             POINT (-87.747338823 41.954698652)      16.0        True   \n",
       "\n",
       "            year fbi code  community area                       location  \\\n",
       "0            NaN     None             NaN                           None   \n",
       "1            NaN     None             NaN                           None   \n",
       "2            NaN     None             NaN                           None   \n",
       "3            NaN     None             NaN                           None   \n",
       "4            NaN     None             NaN                           None   \n",
       "...          ...      ...             ...                            ...   \n",
       "13894879  2025.0       07            52.0  (41.700476705, -87.537701103)   \n",
       "13894880  2025.0       06             3.0  (41.963070794, -87.655984213)   \n",
       "13894881  2025.0       06            33.0  (41.856230779, -87.623896406)   \n",
       "13894882  2025.0      08A            28.0  (41.866639654, -87.684200232)   \n",
       "13894883  2025.0       06            15.0  (41.954698652, -87.747338823)   \n",
       "\n",
       "                 primary type location description  iucr  ward  \\\n",
       "0                        None                 None  None   NaN   \n",
       "1                        None                 None  None   NaN   \n",
       "2                        None                 None  None   NaN   \n",
       "3                        None                 None  None   NaN   \n",
       "4                        None                 None  None   NaN   \n",
       "...                       ...                  ...   ...   ...   \n",
       "13894879  MOTOR VEHICLE THEFT               STREET  0920  10.0   \n",
       "13894880                THEFT     DEPARTMENT STORE  0860  46.0   \n",
       "13894881                THEFT            APARTMENT  0810   3.0   \n",
       "13894882        OTHER OFFENSE               STREET  2820  28.0   \n",
       "13894883                THEFT           DRUG STORE  0860  45.0   \n",
       "\n",
       "                      updated on                 block  dist_num domestic  \\\n",
       "0                           None                  None       NaN     None   \n",
       "1                           None                  None       NaN     None   \n",
       "2                           None                  None       NaN     None   \n",
       "3                           None                  None       NaN     None   \n",
       "4                           None                  None       NaN     None   \n",
       "...                          ...                   ...       ...      ...   \n",
       "13894879  04/06/2025 03:41:20 PM      107XX S AVENUE M       4.0    False   \n",
       "13894880  04/06/2025 03:41:20 PM      044XX N BROADWAY      19.0    False   \n",
       "13894881  04/06/2025 03:40:31 PM  019XX S MICHIGAN AVE       1.0    False   \n",
       "13894882  04/06/2025 03:41:20 PM  023XX W ROOSEVELT RD      12.0    False   \n",
       "13894883  04/06/2025 03:41:20 PM    040XX N CICERO AVE      16.0    False   \n",
       "\n",
       "         case number arrest    beat  \n",
       "0               None   None     NaN  \n",
       "1               None   None     NaN  \n",
       "2               None   None     NaN  \n",
       "3               None   None     NaN  \n",
       "4               None   None     NaN  \n",
       "...              ...    ...     ...  \n",
       "13894879    JJ199817  False   432.0  \n",
       "13894880    JJ199433   True  1913.0  \n",
       "13894881    JJ205757  False   132.0  \n",
       "13894882    JJ199122  False  1225.0  \n",
       "13894883    JJ198716  False  1624.0  \n",
       "\n",
       "[13894884 rows x 37 columns]"
      ]
     },
     "execution_count": 28,
     "metadata": {},
     "output_type": "execute_result"
    }
   ],
   "source": [
    "df"
   ]
  },
  {
   "cell_type": "code",
   "execution_count": null,
   "metadata": {},
   "outputs": [
    {
     "data": {
      "text/plain": [
       "0           False\n",
       "1           False\n",
       "2           False\n",
       "3           False\n",
       "4           False\n",
       "            ...  \n",
       "13894879    False\n",
       "13894880    False\n",
       "13894881    False\n",
       "13894882    False\n",
       "13894883    False\n",
       "Name: latitude, Length: 13894884, dtype: bool"
      ]
     },
     "execution_count": 30,
     "metadata": {},
     "output_type": "execute_result"
    }
   ],
   "source": [
    "df[\"latitude\"].isnull()\n"
   ]
  },
  {
   "cell_type": "code",
   "execution_count": null,
   "metadata": {},
   "outputs": [],
   "source": []
  },
  {
   "cell_type": "code",
   "execution_count": null,
   "metadata": {},
   "outputs": [],
   "source": []
  },
  {
   "cell_type": "code",
   "execution_count": null,
   "metadata": {},
   "outputs": [],
   "source": []
  },
  {
   "cell_type": "code",
   "execution_count": null,
   "metadata": {},
   "outputs": [],
   "source": []
  },
  {
   "cell_type": "code",
   "execution_count": null,
   "metadata": {},
   "outputs": [],
   "source": []
  },
  {
   "cell_type": "code",
   "execution_count": null,
   "metadata": {},
   "outputs": [
    {
     "name": "stdout",
     "output_type": "stream",
     "text": [
      "+----------+-----------+-----+--------------------+-----+--------------------+----------+----------+-----------+---------------+-----------------+---------+--------+---------+----------+----------+------------------+------------------+--------------------+--------------------+--------+----------+\n",
      "|ARREST_KEY|ARREST_DATE|PD_CD|             PD_DESC|KY_CD|           OFNS_DESC|  LAW_CODE|LAW_CAT_CD|ARREST_BORO|ARREST_PRECINCT|JURISDICTION_CODE|AGE_GROUP|PERP_SEX|PERP_RACE|X_COORD_CD|Y_COORD_CD|          Latitude|         Longitude|             Lon_Lat|                geom|district|intersects|\n",
      "+----------+-----------+-----+--------------------+-----+--------------------+----------+----------+-----------+---------------+-----------------+---------+--------+---------+----------+----------+------------------+------------------+--------------------+--------------------+--------+----------+\n",
      "|  26633324| 02/01/2007|  478|THEFT OF SERVICES...|  343|OTHER OFFENSES RE...|PL 1651503|         M|          K|             84|                1|    18-24|       M|    BLACK|  987772.0|  191476.0| 40.69224167400005|     -73.987300996|POINT (-73.987300...|POINT (-73.987300...|     302|      true|\n",
      "|  26370338| 01/18/2007|  511|CONTROLLED SUBSTA...|  235|     DANGEROUS DRUGS|PL 2200300|         M|          K|             77|                0|    25-44|       F|    BLACK| 1002660.0|  183975.0|40.671634692000055|     -73.933634881|POINT (-73.933634...|POINT (-73.933634...|     308|      true|\n",
      "|  26621273| 02/01/2007|  782|WEAPONS, POSSESSI...|  236|   DANGEROUS WEAPONS|PL 2650101|         M|          K|             71|                1|      <18|       M|    BLACK|  995407.0|  182377.0| 40.66726064900007|-73.95978399999996|POINT (-73.959783...|POINT (-73.959783...|     309|      true|\n",
      "|  27016646| 02/22/2007|  511|CONTROLLED SUBSTA...|  235|     DANGEROUS DRUGS|PL 2200300|         M|          K|             79|                0|    18-24|       M|    BLACK|  998205.0|  190419.0| 40.68933015300007|-73.94968144799998|POINT (-73.949681...|POINT (-73.949681...|     303|      true|\n",
      "|  26998272| 02/21/2007|  490|STOLEN PROPERTY 3...|  232|POSSESSION OF STO...|PL 1654000|         M|          M|              1|                0|      <18|       F|    BLACK|  981309.0|  197980.0|40.710093847000046|-74.01060962999998|POINT (-74.010609...|POINT (-74.010609...|     101|      true|\n",
      "+----------+-----------+-----+--------------------+-----+--------------------+----------+----------+-----------+---------------+-----------------+---------+--------+---------+----------+----------+------------------+------------------+--------------------+--------------------+--------+----------+\n",
      "only showing top 5 rows\n",
      "\n"
     ]
    }
   ],
   "source": [
    "crime_nyc = spark.read.parquet(f\"{path_data}/crime_nyc.parquet\")\n",
    "crime_nyc.show(5)"
   ]
  },
  {
   "cell_type": "code",
   "execution_count": null,
   "metadata": {},
   "outputs": [],
   "source": []
  },
  {
   "cell_type": "code",
   "execution_count": null,
   "metadata": {},
   "outputs": [],
   "source": []
  },
  {
   "cell_type": "code",
   "execution_count": null,
   "metadata": {},
   "outputs": [],
   "source": [
    "chicago_df = pd.read_parquet(f\"{path_data}/Chicago_intersects.parquet\")\n",
    "nyc_df = pd.read_parquet(f\"{path_data}/crime_nyc.parquet\")"
   ]
  },
  {
   "cell_type": "code",
   "execution_count": null,
   "metadata": {},
   "outputs": [],
   "source": [
    "nyc_df[\"city\"] = \"NYC\"\n",
    "chicago_df[\"city\"] = \"Chicago\"\n"
   ]
  },
  {
   "cell_type": "code",
   "execution_count": null,
   "metadata": {},
   "outputs": [
    {
     "data": {
      "text/html": [
       "<div>\n",
       "<style scoped>\n",
       "    .dataframe tbody tr th:only-of-type {\n",
       "        vertical-align: middle;\n",
       "    }\n",
       "\n",
       "    .dataframe tbody tr th {\n",
       "        vertical-align: top;\n",
       "    }\n",
       "\n",
       "    .dataframe thead th {\n",
       "        text-align: right;\n",
       "    }\n",
       "</style>\n",
       "<table border=\"1\" class=\"dataframe\">\n",
       "  <thead>\n",
       "    <tr style=\"text-align: right;\">\n",
       "      <th></th>\n",
       "      <th>ID</th>\n",
       "      <th>Case Number</th>\n",
       "      <th>Date</th>\n",
       "      <th>Block</th>\n",
       "      <th>IUCR</th>\n",
       "      <th>Primary Type</th>\n",
       "      <th>Description</th>\n",
       "      <th>Location Description</th>\n",
       "      <th>Arrest</th>\n",
       "      <th>Domestic</th>\n",
       "      <th>Beat</th>\n",
       "      <th>District</th>\n",
       "      <th>Ward</th>\n",
       "      <th>FBI Code</th>\n",
       "      <th>X Coordinate</th>\n",
       "      <th>Y Coordinate</th>\n",
       "      <th>Year</th>\n",
       "      <th>Updated On</th>\n",
       "      <th>Latitude</th>\n",
       "      <th>Longitude</th>\n",
       "      <th>Location</th>\n",
       "      <th>geom</th>\n",
       "      <th>intersects</th>\n",
       "      <th>city</th>\n",
       "    </tr>\n",
       "  </thead>\n",
       "  <tbody>\n",
       "    <tr>\n",
       "      <th>0</th>\n",
       "      <td>13203321</td>\n",
       "      <td>JG415333</td>\n",
       "      <td>09/06/2023 05:00:00 PM</td>\n",
       "      <td>002XX N Wells st</td>\n",
       "      <td>1320</td>\n",
       "      <td>CRIMINAL DAMAGE</td>\n",
       "      <td>TO VEHICLE</td>\n",
       "      <td>PARKING LOT / GARAGE (NON RESIDENTIAL)</td>\n",
       "      <td>False</td>\n",
       "      <td>False</td>\n",
       "      <td>122</td>\n",
       "      <td>1.0</td>\n",
       "      <td>42.0</td>\n",
       "      <td>14</td>\n",
       "      <td>1174694</td>\n",
       "      <td>1901831</td>\n",
       "      <td>2023</td>\n",
       "      <td>11/04/2023 03:40:18 PM</td>\n",
       "      <td>41.886018</td>\n",
       "      <td>-87.633938</td>\n",
       "      <td>(41.886018055, -87.633937881)</td>\n",
       "      <td>b'\\x12\\x00\\x00\\x00\\x01\\x00\\x00\\x00\\xcb\\xa50p\\x...</td>\n",
       "      <td>True</td>\n",
       "      <td>Chicago</td>\n",
       "    </tr>\n",
       "    <tr>\n",
       "      <th>1</th>\n",
       "      <td>13204489</td>\n",
       "      <td>JG416325</td>\n",
       "      <td>09/06/2023 11:00:00 AM</td>\n",
       "      <td>0000X E 8TH ST</td>\n",
       "      <td>0810</td>\n",
       "      <td>THEFT</td>\n",
       "      <td>OVER $500</td>\n",
       "      <td>PARKING LOT / GARAGE (NON RESIDENTIAL)</td>\n",
       "      <td>False</td>\n",
       "      <td>False</td>\n",
       "      <td>123</td>\n",
       "      <td>1.0</td>\n",
       "      <td>4.0</td>\n",
       "      <td>06</td>\n",
       "      <td>1176857</td>\n",
       "      <td>1896680</td>\n",
       "      <td>2023</td>\n",
       "      <td>11/04/2023 03:40:18 PM</td>\n",
       "      <td>41.871835</td>\n",
       "      <td>-87.626151</td>\n",
       "      <td>(41.871834768, -87.62615082)</td>\n",
       "      <td>b'\\x12\\x00\\x00\\x00\\x01\\x00\\x00\\x00\\xdf\\x90\\xe3...</td>\n",
       "      <td>True</td>\n",
       "      <td>Chicago</td>\n",
       "    </tr>\n",
       "    <tr>\n",
       "      <th>2</th>\n",
       "      <td>11695116</td>\n",
       "      <td>JC272771</td>\n",
       "      <td>05/21/2019 08:20:00 AM</td>\n",
       "      <td>018XX S CALIFORNIA AVE</td>\n",
       "      <td>0620</td>\n",
       "      <td>BURGLARY</td>\n",
       "      <td>UNLAWFUL ENTRY</td>\n",
       "      <td>RESIDENCE</td>\n",
       "      <td>False</td>\n",
       "      <td>False</td>\n",
       "      <td>1023</td>\n",
       "      <td>10.0</td>\n",
       "      <td>25.0</td>\n",
       "      <td>05</td>\n",
       "      <td>1157982</td>\n",
       "      <td>1890961</td>\n",
       "      <td>2019</td>\n",
       "      <td>01/19/2024 03:40:50 PM</td>\n",
       "      <td>41.856547</td>\n",
       "      <td>-87.695605</td>\n",
       "      <td>(41.856547057, -87.695604526)</td>\n",
       "      <td>b'\\x12\\x00\\x00\\x00\\x01\\x00\\x00\\x00\\xa7\\x87\\xd8...</td>\n",
       "      <td>True</td>\n",
       "      <td>Chicago</td>\n",
       "    </tr>\n",
       "    <tr>\n",
       "      <th>3</th>\n",
       "      <td>12419690</td>\n",
       "      <td>JE295655</td>\n",
       "      <td>07/07/2021 10:30:00 AM</td>\n",
       "      <td>132XX S GREENWOOD AVE</td>\n",
       "      <td>1544</td>\n",
       "      <td>SEX OFFENSE</td>\n",
       "      <td>SEXUAL EXPLOITATION OF A CHILD</td>\n",
       "      <td>RESIDENCE</td>\n",
       "      <td>False</td>\n",
       "      <td>False</td>\n",
       "      <td>533</td>\n",
       "      <td>5.0</td>\n",
       "      <td>10.0</td>\n",
       "      <td>17</td>\n",
       "      <td>1186051</td>\n",
       "      <td>1817781</td>\n",
       "      <td>2021</td>\n",
       "      <td>01/19/2024 03:40:50 PM</td>\n",
       "      <td>41.655116</td>\n",
       "      <td>-87.594883</td>\n",
       "      <td>(41.65511579, -87.594883198)</td>\n",
       "      <td>b'\\x12\\x00\\x00\\x00\\x01\\x00\\x00\\x00e\\x16\\xfa\\x9...</td>\n",
       "      <td>True</td>\n",
       "      <td>Chicago</td>\n",
       "    </tr>\n",
       "    <tr>\n",
       "      <th>4</th>\n",
       "      <td>12729745</td>\n",
       "      <td>JF279458</td>\n",
       "      <td>06/14/2022 02:47:00 PM</td>\n",
       "      <td>035XX N CENTRAL AVE</td>\n",
       "      <td>0340</td>\n",
       "      <td>ROBBERY</td>\n",
       "      <td>ATTEMPT STRONG ARM - NO WEAPON</td>\n",
       "      <td>BANK</td>\n",
       "      <td>True</td>\n",
       "      <td>False</td>\n",
       "      <td>1633</td>\n",
       "      <td>16.0</td>\n",
       "      <td>30.0</td>\n",
       "      <td>03</td>\n",
       "      <td>1138391</td>\n",
       "      <td>1923142</td>\n",
       "      <td>2022</td>\n",
       "      <td>01/19/2024 03:40:50 PM</td>\n",
       "      <td>41.945232</td>\n",
       "      <td>-87.766735</td>\n",
       "      <td>(41.945232412, -87.766734668)</td>\n",
       "      <td>b'\\x12\\x00\\x00\\x00\\x01\\x00\\x00\\x00&gt;\\xf1H.\\x12\\...</td>\n",
       "      <td>True</td>\n",
       "      <td>Chicago</td>\n",
       "    </tr>\n",
       "    <tr>\n",
       "      <th>...</th>\n",
       "      <td>...</td>\n",
       "      <td>...</td>\n",
       "      <td>...</td>\n",
       "      <td>...</td>\n",
       "      <td>...</td>\n",
       "      <td>...</td>\n",
       "      <td>...</td>\n",
       "      <td>...</td>\n",
       "      <td>...</td>\n",
       "      <td>...</td>\n",
       "      <td>...</td>\n",
       "      <td>...</td>\n",
       "      <td>...</td>\n",
       "      <td>...</td>\n",
       "      <td>...</td>\n",
       "      <td>...</td>\n",
       "      <td>...</td>\n",
       "      <td>...</td>\n",
       "      <td>...</td>\n",
       "      <td>...</td>\n",
       "      <td>...</td>\n",
       "      <td>...</td>\n",
       "      <td>...</td>\n",
       "      <td>...</td>\n",
       "    </tr>\n",
       "    <tr>\n",
       "      <th>8177163</th>\n",
       "      <td>13790609</td>\n",
       "      <td>JJ199817</td>\n",
       "      <td>03/29/2025 06:00:00 PM</td>\n",
       "      <td>107XX S AVENUE M</td>\n",
       "      <td>0920</td>\n",
       "      <td>MOTOR VEHICLE THEFT</td>\n",
       "      <td>ATTEMPT - AUTOMOBILE</td>\n",
       "      <td>STREET</td>\n",
       "      <td>False</td>\n",
       "      <td>False</td>\n",
       "      <td>432</td>\n",
       "      <td>4.0</td>\n",
       "      <td>10.0</td>\n",
       "      <td>07</td>\n",
       "      <td>1201525</td>\n",
       "      <td>1834449</td>\n",
       "      <td>2025</td>\n",
       "      <td>04/06/2025 03:41:20 PM</td>\n",
       "      <td>41.700477</td>\n",
       "      <td>-87.537701</td>\n",
       "      <td>(41.700476705, -87.537701103)</td>\n",
       "      <td>b'\\x12\\x00\\x00\\x00\\x01\\x00\\x00\\x00\\x1f\\x1a\\xe3...</td>\n",
       "      <td>True</td>\n",
       "      <td>Chicago</td>\n",
       "    </tr>\n",
       "    <tr>\n",
       "      <th>8177164</th>\n",
       "      <td>13790302</td>\n",
       "      <td>JJ199433</td>\n",
       "      <td>03/29/2025 07:45:00 PM</td>\n",
       "      <td>044XX N BROADWAY</td>\n",
       "      <td>0860</td>\n",
       "      <td>THEFT</td>\n",
       "      <td>RETAIL THEFT</td>\n",
       "      <td>DEPARTMENT STORE</td>\n",
       "      <td>True</td>\n",
       "      <td>False</td>\n",
       "      <td>1913</td>\n",
       "      <td>19.0</td>\n",
       "      <td>46.0</td>\n",
       "      <td>06</td>\n",
       "      <td>1168469</td>\n",
       "      <td>1929861</td>\n",
       "      <td>2025</td>\n",
       "      <td>04/06/2025 03:41:20 PM</td>\n",
       "      <td>41.963071</td>\n",
       "      <td>-87.655984</td>\n",
       "      <td>(41.963070794, -87.655984213)</td>\n",
       "      <td>b'\\x12\\x00\\x00\\x00\\x01\\x00\\x00\\x00\\xbfa5\\xa5\\x...</td>\n",
       "      <td>True</td>\n",
       "      <td>Chicago</td>\n",
       "    </tr>\n",
       "    <tr>\n",
       "      <th>8177165</th>\n",
       "      <td>13795591</td>\n",
       "      <td>JJ205757</td>\n",
       "      <td>02/20/2025 12:00:00 PM</td>\n",
       "      <td>019XX S MICHIGAN AVE</td>\n",
       "      <td>0810</td>\n",
       "      <td>THEFT</td>\n",
       "      <td>OVER $500</td>\n",
       "      <td>APARTMENT</td>\n",
       "      <td>False</td>\n",
       "      <td>False</td>\n",
       "      <td>132</td>\n",
       "      <td>1.0</td>\n",
       "      <td>3.0</td>\n",
       "      <td>06</td>\n",
       "      <td>1177518</td>\n",
       "      <td>1890999</td>\n",
       "      <td>2025</td>\n",
       "      <td>04/06/2025 03:40:31 PM</td>\n",
       "      <td>41.856231</td>\n",
       "      <td>-87.623896</td>\n",
       "      <td>(41.856230779, -87.623896406)</td>\n",
       "      <td>b'\\x12\\x00\\x00\\x00\\x01\\x00\\x00\\x00*\\xf70\\xeb\\x...</td>\n",
       "      <td>True</td>\n",
       "      <td>Chicago</td>\n",
       "    </tr>\n",
       "    <tr>\n",
       "      <th>8177166</th>\n",
       "      <td>13790020</td>\n",
       "      <td>JJ199122</td>\n",
       "      <td>03/29/2025 03:00:00 PM</td>\n",
       "      <td>023XX W ROOSEVELT RD</td>\n",
       "      <td>2820</td>\n",
       "      <td>OTHER OFFENSE</td>\n",
       "      <td>TELEPHONE THREAT</td>\n",
       "      <td>STREET</td>\n",
       "      <td>False</td>\n",
       "      <td>False</td>\n",
       "      <td>1225</td>\n",
       "      <td>12.0</td>\n",
       "      <td>28.0</td>\n",
       "      <td>08A</td>\n",
       "      <td>1161061</td>\n",
       "      <td>1894662</td>\n",
       "      <td>2025</td>\n",
       "      <td>04/06/2025 03:41:20 PM</td>\n",
       "      <td>41.866640</td>\n",
       "      <td>-87.684200</td>\n",
       "      <td>(41.866639654, -87.684200232)</td>\n",
       "      <td>b'\\x12\\x00\\x00\\x00\\x01\\x00\\x00\\x00\\xc2\\x16\\xc5...</td>\n",
       "      <td>True</td>\n",
       "      <td>Chicago</td>\n",
       "    </tr>\n",
       "    <tr>\n",
       "      <th>8177167</th>\n",
       "      <td>13789694</td>\n",
       "      <td>JJ198716</td>\n",
       "      <td>03/29/2025 08:40:00 AM</td>\n",
       "      <td>040XX N CICERO AVE</td>\n",
       "      <td>0860</td>\n",
       "      <td>THEFT</td>\n",
       "      <td>RETAIL THEFT</td>\n",
       "      <td>DRUG STORE</td>\n",
       "      <td>False</td>\n",
       "      <td>False</td>\n",
       "      <td>1624</td>\n",
       "      <td>16.0</td>\n",
       "      <td>45.0</td>\n",
       "      <td>06</td>\n",
       "      <td>1143644</td>\n",
       "      <td>1926627</td>\n",
       "      <td>2025</td>\n",
       "      <td>04/06/2025 03:41:20 PM</td>\n",
       "      <td>41.954699</td>\n",
       "      <td>-87.747339</td>\n",
       "      <td>(41.954698652, -87.747338823)</td>\n",
       "      <td>b'\\x12\\x00\\x00\\x00\\x01\\x00\\x00\\x00&lt;\\xf46f\\xd4\\...</td>\n",
       "      <td>True</td>\n",
       "      <td>Chicago</td>\n",
       "    </tr>\n",
       "  </tbody>\n",
       "</table>\n",
       "<p>8177168 rows × 24 columns</p>\n",
       "</div>"
      ],
      "text/plain": [
       "               ID Case Number                    Date                   Block  \\\n",
       "0        13203321    JG415333  09/06/2023 05:00:00 PM        002XX N Wells st   \n",
       "1        13204489    JG416325  09/06/2023 11:00:00 AM          0000X E 8TH ST   \n",
       "2        11695116    JC272771  05/21/2019 08:20:00 AM  018XX S CALIFORNIA AVE   \n",
       "3        12419690    JE295655  07/07/2021 10:30:00 AM   132XX S GREENWOOD AVE   \n",
       "4        12729745    JF279458  06/14/2022 02:47:00 PM     035XX N CENTRAL AVE   \n",
       "...           ...         ...                     ...                     ...   \n",
       "8177163  13790609    JJ199817  03/29/2025 06:00:00 PM        107XX S AVENUE M   \n",
       "8177164  13790302    JJ199433  03/29/2025 07:45:00 PM        044XX N BROADWAY   \n",
       "8177165  13795591    JJ205757  02/20/2025 12:00:00 PM    019XX S MICHIGAN AVE   \n",
       "8177166  13790020    JJ199122  03/29/2025 03:00:00 PM    023XX W ROOSEVELT RD   \n",
       "8177167  13789694    JJ198716  03/29/2025 08:40:00 AM      040XX N CICERO AVE   \n",
       "\n",
       "         IUCR         Primary Type                     Description  \\\n",
       "0        1320      CRIMINAL DAMAGE                      TO VEHICLE   \n",
       "1        0810                THEFT                       OVER $500   \n",
       "2        0620             BURGLARY                  UNLAWFUL ENTRY   \n",
       "3        1544          SEX OFFENSE  SEXUAL EXPLOITATION OF A CHILD   \n",
       "4        0340              ROBBERY  ATTEMPT STRONG ARM - NO WEAPON   \n",
       "...       ...                  ...                             ...   \n",
       "8177163  0920  MOTOR VEHICLE THEFT            ATTEMPT - AUTOMOBILE   \n",
       "8177164  0860                THEFT                    RETAIL THEFT   \n",
       "8177165  0810                THEFT                       OVER $500   \n",
       "8177166  2820        OTHER OFFENSE                TELEPHONE THREAT   \n",
       "8177167  0860                THEFT                    RETAIL THEFT   \n",
       "\n",
       "                           Location Description  Arrest  Domestic  Beat  \\\n",
       "0        PARKING LOT / GARAGE (NON RESIDENTIAL)   False     False   122   \n",
       "1        PARKING LOT / GARAGE (NON RESIDENTIAL)   False     False   123   \n",
       "2                                     RESIDENCE   False     False  1023   \n",
       "3                                     RESIDENCE   False     False   533   \n",
       "4                                          BANK    True     False  1633   \n",
       "...                                         ...     ...       ...   ...   \n",
       "8177163                                  STREET   False     False   432   \n",
       "8177164                        DEPARTMENT STORE    True     False  1913   \n",
       "8177165                               APARTMENT   False     False   132   \n",
       "8177166                                  STREET   False     False  1225   \n",
       "8177167                              DRUG STORE   False     False  1624   \n",
       "\n",
       "         District  Ward FBI Code  X Coordinate  Y Coordinate  Year  \\\n",
       "0             1.0  42.0       14       1174694       1901831  2023   \n",
       "1             1.0   4.0       06       1176857       1896680  2023   \n",
       "2            10.0  25.0       05       1157982       1890961  2019   \n",
       "3             5.0  10.0       17       1186051       1817781  2021   \n",
       "4            16.0  30.0       03       1138391       1923142  2022   \n",
       "...           ...   ...      ...           ...           ...   ...   \n",
       "8177163       4.0  10.0       07       1201525       1834449  2025   \n",
       "8177164      19.0  46.0       06       1168469       1929861  2025   \n",
       "8177165       1.0   3.0       06       1177518       1890999  2025   \n",
       "8177166      12.0  28.0      08A       1161061       1894662  2025   \n",
       "8177167      16.0  45.0       06       1143644       1926627  2025   \n",
       "\n",
       "                     Updated On   Latitude  Longitude  \\\n",
       "0        11/04/2023 03:40:18 PM  41.886018 -87.633938   \n",
       "1        11/04/2023 03:40:18 PM  41.871835 -87.626151   \n",
       "2        01/19/2024 03:40:50 PM  41.856547 -87.695605   \n",
       "3        01/19/2024 03:40:50 PM  41.655116 -87.594883   \n",
       "4        01/19/2024 03:40:50 PM  41.945232 -87.766735   \n",
       "...                         ...        ...        ...   \n",
       "8177163  04/06/2025 03:41:20 PM  41.700477 -87.537701   \n",
       "8177164  04/06/2025 03:41:20 PM  41.963071 -87.655984   \n",
       "8177165  04/06/2025 03:40:31 PM  41.856231 -87.623896   \n",
       "8177166  04/06/2025 03:41:20 PM  41.866640 -87.684200   \n",
       "8177167  04/06/2025 03:41:20 PM  41.954699 -87.747339   \n",
       "\n",
       "                              Location  \\\n",
       "0        (41.886018055, -87.633937881)   \n",
       "1         (41.871834768, -87.62615082)   \n",
       "2        (41.856547057, -87.695604526)   \n",
       "3         (41.65511579, -87.594883198)   \n",
       "4        (41.945232412, -87.766734668)   \n",
       "...                                ...   \n",
       "8177163  (41.700476705, -87.537701103)   \n",
       "8177164  (41.963070794, -87.655984213)   \n",
       "8177165  (41.856230779, -87.623896406)   \n",
       "8177166  (41.866639654, -87.684200232)   \n",
       "8177167  (41.954698652, -87.747338823)   \n",
       "\n",
       "                                                      geom  intersects  \\\n",
       "0        b'\\x12\\x00\\x00\\x00\\x01\\x00\\x00\\x00\\xcb\\xa50p\\x...        True   \n",
       "1        b'\\x12\\x00\\x00\\x00\\x01\\x00\\x00\\x00\\xdf\\x90\\xe3...        True   \n",
       "2        b'\\x12\\x00\\x00\\x00\\x01\\x00\\x00\\x00\\xa7\\x87\\xd8...        True   \n",
       "3        b'\\x12\\x00\\x00\\x00\\x01\\x00\\x00\\x00e\\x16\\xfa\\x9...        True   \n",
       "4        b'\\x12\\x00\\x00\\x00\\x01\\x00\\x00\\x00>\\xf1H.\\x12\\...        True   \n",
       "...                                                    ...         ...   \n",
       "8177163  b'\\x12\\x00\\x00\\x00\\x01\\x00\\x00\\x00\\x1f\\x1a\\xe3...        True   \n",
       "8177164  b'\\x12\\x00\\x00\\x00\\x01\\x00\\x00\\x00\\xbfa5\\xa5\\x...        True   \n",
       "8177165  b'\\x12\\x00\\x00\\x00\\x01\\x00\\x00\\x00*\\xf70\\xeb\\x...        True   \n",
       "8177166  b'\\x12\\x00\\x00\\x00\\x01\\x00\\x00\\x00\\xc2\\x16\\xc5...        True   \n",
       "8177167  b'\\x12\\x00\\x00\\x00\\x01\\x00\\x00\\x00<\\xf46f\\xd4\\...        True   \n",
       "\n",
       "            city  \n",
       "0        Chicago  \n",
       "1        Chicago  \n",
       "2        Chicago  \n",
       "3        Chicago  \n",
       "4        Chicago  \n",
       "...          ...  \n",
       "8177163  Chicago  \n",
       "8177164  Chicago  \n",
       "8177165  Chicago  \n",
       "8177166  Chicago  \n",
       "8177167  Chicago  \n",
       "\n",
       "[8177168 rows x 24 columns]"
      ]
     },
     "execution_count": 60,
     "metadata": {},
     "output_type": "execute_result"
    }
   ],
   "source": [
    "#chicago_df[\"district\"] = chicago_df[\"Community Area\"]\n",
    "chicago_df = chicago_df.drop(columns=[\"Community Area\", \"DIST_NUM\"])\n",
    "chicago_df"
   ]
  },
  {
   "cell_type": "code",
   "execution_count": null,
   "metadata": {},
   "outputs": [
    {
     "data": {
      "text/html": [
       "<div>\n",
       "<style scoped>\n",
       "    .dataframe tbody tr th:only-of-type {\n",
       "        vertical-align: middle;\n",
       "    }\n",
       "\n",
       "    .dataframe tbody tr th {\n",
       "        vertical-align: top;\n",
       "    }\n",
       "\n",
       "    .dataframe thead th {\n",
       "        text-align: right;\n",
       "    }\n",
       "</style>\n",
       "<table border=\"1\" class=\"dataframe\">\n",
       "  <thead>\n",
       "    <tr style=\"text-align: right;\">\n",
       "      <th></th>\n",
       "      <th>ID</th>\n",
       "      <th>Date</th>\n",
       "      <th>PD_CD</th>\n",
       "      <th>PD_DESC</th>\n",
       "      <th>KY_CD</th>\n",
       "      <th>description</th>\n",
       "      <th>law_code</th>\n",
       "      <th>LAW_CAT_CD</th>\n",
       "      <th>ARREST_BORO</th>\n",
       "      <th>ARREST_PRECINCT</th>\n",
       "      <th>jurisdiction</th>\n",
       "      <th>age</th>\n",
       "      <th>sex</th>\n",
       "      <th>race</th>\n",
       "      <th>X Coordinate</th>\n",
       "      <th>Y Coordinate</th>\n",
       "      <th>Latitude</th>\n",
       "      <th>Longitude</th>\n",
       "      <th>Lon_Lat</th>\n",
       "      <th>geom</th>\n",
       "      <th>district</th>\n",
       "      <th>intersects</th>\n",
       "      <th>city</th>\n",
       "    </tr>\n",
       "  </thead>\n",
       "  <tbody>\n",
       "    <tr>\n",
       "      <th>0</th>\n",
       "      <td>205590989</td>\n",
       "      <td>11/24/2019</td>\n",
       "      <td>339.0</td>\n",
       "      <td>LARCENY,PETIT FROM OPEN AREAS,</td>\n",
       "      <td>341.0</td>\n",
       "      <td>PETIT LARCENY</td>\n",
       "      <td>PL 1552500</td>\n",
       "      <td>M</td>\n",
       "      <td>M</td>\n",
       "      <td>28</td>\n",
       "      <td>0.0</td>\n",
       "      <td>25-44</td>\n",
       "      <td>F</td>\n",
       "      <td>WHITE</td>\n",
       "      <td>997571.0</td>\n",
       "      <td>234556.0</td>\n",
       "      <td>40.810476</td>\n",
       "      <td>-73.951880</td>\n",
       "      <td>POINT (-73.95188015099995 40.81047604300005)</td>\n",
       "      <td>b'\\x12\\x00\\x00\\x00\\x01\\x00\\x00\\x00h\\x90\\xb9\\x9...</td>\n",
       "      <td>110</td>\n",
       "      <td>True</td>\n",
       "      <td>NYC</td>\n",
       "    </tr>\n",
       "    <tr>\n",
       "      <th>1</th>\n",
       "      <td>202546976</td>\n",
       "      <td>09/17/2019</td>\n",
       "      <td>793.0</td>\n",
       "      <td>WEAPONS POSSESSION 3</td>\n",
       "      <td>118.0</td>\n",
       "      <td>DANGEROUS WEAPONS</td>\n",
       "      <td>PL 2650201</td>\n",
       "      <td>F</td>\n",
       "      <td>M</td>\n",
       "      <td>6</td>\n",
       "      <td>0.0</td>\n",
       "      <td>45-64</td>\n",
       "      <td>M</td>\n",
       "      <td>BLACK</td>\n",
       "      <td>982746.0</td>\n",
       "      <td>206647.0</td>\n",
       "      <td>40.733883</td>\n",
       "      <td>-74.005428</td>\n",
       "      <td>POINT (-74.00542831099995 40.73388303300004)</td>\n",
       "      <td>b'\\x12\\x00\\x00\\x00\\x01\\x00\\x00\\x00\\xe8\\x8d\\xfc...</td>\n",
       "      <td>102</td>\n",
       "      <td>True</td>\n",
       "      <td>NYC</td>\n",
       "    </tr>\n",
       "    <tr>\n",
       "      <th>2</th>\n",
       "      <td>203563701</td>\n",
       "      <td>10/10/2019</td>\n",
       "      <td>494.0</td>\n",
       "      <td>STOLEN PROPERTY 2,1,POSSESSION</td>\n",
       "      <td>111.0</td>\n",
       "      <td>POSSESSION OF STOLEN PROPERTY</td>\n",
       "      <td>PL 1654502</td>\n",
       "      <td>F</td>\n",
       "      <td>K</td>\n",
       "      <td>90</td>\n",
       "      <td>0.0</td>\n",
       "      <td>18-24</td>\n",
       "      <td>M</td>\n",
       "      <td>BLACK HISPANIC</td>\n",
       "      <td>1000830.0</td>\n",
       "      <td>197889.0</td>\n",
       "      <td>40.709829</td>\n",
       "      <td>-73.940198</td>\n",
       "      <td>POINT (-73.94019763899996 40.70982902900005)</td>\n",
       "      <td>b'\\x12\\x00\\x00\\x00\\x01\\x00\\x00\\x00\\x00\\xd2\\xb7...</td>\n",
       "      <td>301</td>\n",
       "      <td>True</td>\n",
       "      <td>NYC</td>\n",
       "    </tr>\n",
       "    <tr>\n",
       "      <th>3</th>\n",
       "      <td>205169609</td>\n",
       "      <td>11/14/2019</td>\n",
       "      <td>397.0</td>\n",
       "      <td>ROBBERY,OPEN AREA UNCLASSIFIED</td>\n",
       "      <td>105.0</td>\n",
       "      <td>ROBBERY</td>\n",
       "      <td>PL 1601001</td>\n",
       "      <td>F</td>\n",
       "      <td>B</td>\n",
       "      <td>43</td>\n",
       "      <td>0.0</td>\n",
       "      <td>18-24</td>\n",
       "      <td>M</td>\n",
       "      <td>BLACK HISPANIC</td>\n",
       "      <td>1020183.0</td>\n",
       "      <td>239283.0</td>\n",
       "      <td>40.823387</td>\n",
       "      <td>-73.870170</td>\n",
       "      <td>POINT (-73.87017044999999 40.823387291000074)</td>\n",
       "      <td>b'\\x12\\x00\\x00\\x00\\x01\\x00\\x00\\x00\\x84,f\\xdf\\x...</td>\n",
       "      <td>209</td>\n",
       "      <td>True</td>\n",
       "      <td>NYC</td>\n",
       "    </tr>\n",
       "    <tr>\n",
       "      <th>4</th>\n",
       "      <td>204097687</td>\n",
       "      <td>10/23/2019</td>\n",
       "      <td>105.0</td>\n",
       "      <td>STRANGULATION 1ST</td>\n",
       "      <td>106.0</td>\n",
       "      <td>FELONY ASSAULT</td>\n",
       "      <td>PL 1211300</td>\n",
       "      <td>F</td>\n",
       "      <td>Q</td>\n",
       "      <td>114</td>\n",
       "      <td>0.0</td>\n",
       "      <td>25-44</td>\n",
       "      <td>M</td>\n",
       "      <td>BLACK</td>\n",
       "      <td>1007694.0</td>\n",
       "      <td>219657.0</td>\n",
       "      <td>40.769561</td>\n",
       "      <td>-73.915363</td>\n",
       "      <td>POINT (-73.91536344699995 40.769561242000066)</td>\n",
       "      <td>b'\\x12\\x00\\x00\\x00\\x01\\x00\\x00\\x00d4\\x91P\\x95z...</td>\n",
       "      <td>401</td>\n",
       "      <td>True</td>\n",
       "      <td>NYC</td>\n",
       "    </tr>\n",
       "    <tr>\n",
       "      <th>...</th>\n",
       "      <td>...</td>\n",
       "      <td>...</td>\n",
       "      <td>...</td>\n",
       "      <td>...</td>\n",
       "      <td>...</td>\n",
       "      <td>...</td>\n",
       "      <td>...</td>\n",
       "      <td>...</td>\n",
       "      <td>...</td>\n",
       "      <td>...</td>\n",
       "      <td>...</td>\n",
       "      <td>...</td>\n",
       "      <td>...</td>\n",
       "      <td>...</td>\n",
       "      <td>...</td>\n",
       "      <td>...</td>\n",
       "      <td>...</td>\n",
       "      <td>...</td>\n",
       "      <td>...</td>\n",
       "      <td>...</td>\n",
       "      <td>...</td>\n",
       "      <td>...</td>\n",
       "      <td>...</td>\n",
       "    </tr>\n",
       "    <tr>\n",
       "      <th>5717711</th>\n",
       "      <td>201765665</td>\n",
       "      <td>08/30/2019</td>\n",
       "      <td>905.0</td>\n",
       "      <td>INTOXICATED DRIVING,ALCOHOL</td>\n",
       "      <td>347.0</td>\n",
       "      <td>INTOXICATED &amp; IMPAIRED DRIVING</td>\n",
       "      <td>VTL11920U2</td>\n",
       "      <td>M</td>\n",
       "      <td>M</td>\n",
       "      <td>14</td>\n",
       "      <td>0.0</td>\n",
       "      <td>18-24</td>\n",
       "      <td>F</td>\n",
       "      <td>BLACK</td>\n",
       "      <td>987377.0</td>\n",
       "      <td>211980.0</td>\n",
       "      <td>40.748520</td>\n",
       "      <td>-73.988716</td>\n",
       "      <td>POINT (-73.98871585799998 40.74852036900006)</td>\n",
       "      <td>b'\\x12\\x00\\x00\\x00\\x01\\x00\\x00\\x00`\\xc9\\xe0\\x1...</td>\n",
       "      <td>105</td>\n",
       "      <td>True</td>\n",
       "      <td>NYC</td>\n",
       "    </tr>\n",
       "    <tr>\n",
       "      <th>5717712</th>\n",
       "      <td>205225898</td>\n",
       "      <td>11/16/2019</td>\n",
       "      <td>969.0</td>\n",
       "      <td>TRAFFIC,UNCLASSIFIED INFRACTIO</td>\n",
       "      <td>881.0</td>\n",
       "      <td>OTHER TRAFFIC INFRACTION</td>\n",
       "      <td>VTL051101A</td>\n",
       "      <td>M</td>\n",
       "      <td>K</td>\n",
       "      <td>70</td>\n",
       "      <td>0.0</td>\n",
       "      <td>18-24</td>\n",
       "      <td>F</td>\n",
       "      <td>WHITE HISPANIC</td>\n",
       "      <td>995346.0</td>\n",
       "      <td>174216.0</td>\n",
       "      <td>40.644861</td>\n",
       "      <td>-73.960017</td>\n",
       "      <td>POINT (-73.96001731099994 40.644860566000034)</td>\n",
       "      <td>b'\\x12\\x00\\x00\\x00\\x01\\x00\\x00\\x00\\xac\\x95r\\xe...</td>\n",
       "      <td>314</td>\n",
       "      <td>True</td>\n",
       "      <td>NYC</td>\n",
       "    </tr>\n",
       "    <tr>\n",
       "      <th>5717713</th>\n",
       "      <td>200468223</td>\n",
       "      <td>07/31/2019</td>\n",
       "      <td>849.0</td>\n",
       "      <td>NY STATE LAWS,UNCLASSIFIED VIO</td>\n",
       "      <td>677.0</td>\n",
       "      <td>OTHER STATE LAWS</td>\n",
       "      <td>LOC000000V</td>\n",
       "      <td>V</td>\n",
       "      <td>K</td>\n",
       "      <td>60</td>\n",
       "      <td>1.0</td>\n",
       "      <td>45-64</td>\n",
       "      <td>M</td>\n",
       "      <td>BLACK</td>\n",
       "      <td>989472.0</td>\n",
       "      <td>148971.0</td>\n",
       "      <td>40.575574</td>\n",
       "      <td>-73.981204</td>\n",
       "      <td>POINT (-73.98120362499998 40.575573630000065)</td>\n",
       "      <td>b'\\x12\\x00\\x00\\x00\\x01\\x00\\x00\\x00\\xdc\\x05J\\n\\...</td>\n",
       "      <td>313</td>\n",
       "      <td>True</td>\n",
       "      <td>NYC</td>\n",
       "    </tr>\n",
       "    <tr>\n",
       "      <th>5717714</th>\n",
       "      <td>205012373</td>\n",
       "      <td>11/11/2019</td>\n",
       "      <td>339.0</td>\n",
       "      <td>LARCENY,PETIT FROM OPEN AREAS,</td>\n",
       "      <td>341.0</td>\n",
       "      <td>PETIT LARCENY</td>\n",
       "      <td>PL 1552500</td>\n",
       "      <td>M</td>\n",
       "      <td>M</td>\n",
       "      <td>19</td>\n",
       "      <td>0.0</td>\n",
       "      <td>&lt;18</td>\n",
       "      <td>M</td>\n",
       "      <td>WHITE HISPANIC</td>\n",
       "      <td>993570.0</td>\n",
       "      <td>216847.0</td>\n",
       "      <td>40.761875</td>\n",
       "      <td>-73.966358</td>\n",
       "      <td>POINT (-73.96635808399998 40.76187469000007)</td>\n",
       "      <td>b'\\x12\\x00\\x00\\x00\\x01\\x00\\x00\\x00T\\xc0\\x93\\xc...</td>\n",
       "      <td>108</td>\n",
       "      <td>True</td>\n",
       "      <td>NYC</td>\n",
       "    </tr>\n",
       "    <tr>\n",
       "      <th>5717715</th>\n",
       "      <td>200592234</td>\n",
       "      <td>08/02/2019</td>\n",
       "      <td>244.0</td>\n",
       "      <td>BURGLARY,UNCLASSIFIED,UNKNOWN</td>\n",
       "      <td>107.0</td>\n",
       "      <td>BURGLARY</td>\n",
       "      <td>PL 1402000</td>\n",
       "      <td>F</td>\n",
       "      <td>M</td>\n",
       "      <td>13</td>\n",
       "      <td>0.0</td>\n",
       "      <td>25-44</td>\n",
       "      <td>M</td>\n",
       "      <td>WHITE HISPANIC</td>\n",
       "      <td>988972.0</td>\n",
       "      <td>207813.0</td>\n",
       "      <td>40.737082</td>\n",
       "      <td>-73.982962</td>\n",
       "      <td>POINT (-73.98296229999994 40.73708228400005)</td>\n",
       "      <td>b'\\x12\\x00\\x00\\x00\\x01\\x00\\x00\\x00\\xd8\\xec\\xb4...</td>\n",
       "      <td>106</td>\n",
       "      <td>True</td>\n",
       "      <td>NYC</td>\n",
       "    </tr>\n",
       "  </tbody>\n",
       "</table>\n",
       "<p>5717716 rows × 23 columns</p>\n",
       "</div>"
      ],
      "text/plain": [
       "                ID        Date  PD_CD                         PD_DESC  KY_CD  \\\n",
       "0        205590989  11/24/2019  339.0  LARCENY,PETIT FROM OPEN AREAS,  341.0   \n",
       "1        202546976  09/17/2019  793.0            WEAPONS POSSESSION 3  118.0   \n",
       "2        203563701  10/10/2019  494.0  STOLEN PROPERTY 2,1,POSSESSION  111.0   \n",
       "3        205169609  11/14/2019  397.0  ROBBERY,OPEN AREA UNCLASSIFIED  105.0   \n",
       "4        204097687  10/23/2019  105.0               STRANGULATION 1ST  106.0   \n",
       "...            ...         ...    ...                             ...    ...   \n",
       "5717711  201765665  08/30/2019  905.0     INTOXICATED DRIVING,ALCOHOL  347.0   \n",
       "5717712  205225898  11/16/2019  969.0  TRAFFIC,UNCLASSIFIED INFRACTIO  881.0   \n",
       "5717713  200468223  07/31/2019  849.0  NY STATE LAWS,UNCLASSIFIED VIO  677.0   \n",
       "5717714  205012373  11/11/2019  339.0  LARCENY,PETIT FROM OPEN AREAS,  341.0   \n",
       "5717715  200592234  08/02/2019  244.0   BURGLARY,UNCLASSIFIED,UNKNOWN  107.0   \n",
       "\n",
       "                            description    law_code LAW_CAT_CD ARREST_BORO  \\\n",
       "0                         PETIT LARCENY  PL 1552500          M           M   \n",
       "1                     DANGEROUS WEAPONS  PL 2650201          F           M   \n",
       "2         POSSESSION OF STOLEN PROPERTY  PL 1654502          F           K   \n",
       "3                               ROBBERY  PL 1601001          F           B   \n",
       "4                        FELONY ASSAULT  PL 1211300          F           Q   \n",
       "...                                 ...         ...        ...         ...   \n",
       "5717711  INTOXICATED & IMPAIRED DRIVING  VTL11920U2          M           M   \n",
       "5717712        OTHER TRAFFIC INFRACTION  VTL051101A          M           K   \n",
       "5717713                OTHER STATE LAWS  LOC000000V          V           K   \n",
       "5717714                   PETIT LARCENY  PL 1552500          M           M   \n",
       "5717715                        BURGLARY  PL 1402000          F           M   \n",
       "\n",
       "         ARREST_PRECINCT  jurisdiction    age sex            race  \\\n",
       "0                     28           0.0  25-44   F           WHITE   \n",
       "1                      6           0.0  45-64   M           BLACK   \n",
       "2                     90           0.0  18-24   M  BLACK HISPANIC   \n",
       "3                     43           0.0  18-24   M  BLACK HISPANIC   \n",
       "4                    114           0.0  25-44   M           BLACK   \n",
       "...                  ...           ...    ...  ..             ...   \n",
       "5717711               14           0.0  18-24   F           BLACK   \n",
       "5717712               70           0.0  18-24   F  WHITE HISPANIC   \n",
       "5717713               60           1.0  45-64   M           BLACK   \n",
       "5717714               19           0.0    <18   M  WHITE HISPANIC   \n",
       "5717715               13           0.0  25-44   M  WHITE HISPANIC   \n",
       "\n",
       "         X Coordinate  Y Coordinate   Latitude  Longitude  \\\n",
       "0            997571.0      234556.0  40.810476 -73.951880   \n",
       "1            982746.0      206647.0  40.733883 -74.005428   \n",
       "2           1000830.0      197889.0  40.709829 -73.940198   \n",
       "3           1020183.0      239283.0  40.823387 -73.870170   \n",
       "4           1007694.0      219657.0  40.769561 -73.915363   \n",
       "...               ...           ...        ...        ...   \n",
       "5717711      987377.0      211980.0  40.748520 -73.988716   \n",
       "5717712      995346.0      174216.0  40.644861 -73.960017   \n",
       "5717713      989472.0      148971.0  40.575574 -73.981204   \n",
       "5717714      993570.0      216847.0  40.761875 -73.966358   \n",
       "5717715      988972.0      207813.0  40.737082 -73.982962   \n",
       "\n",
       "                                               Lon_Lat  \\\n",
       "0         POINT (-73.95188015099995 40.81047604300005)   \n",
       "1         POINT (-74.00542831099995 40.73388303300004)   \n",
       "2         POINT (-73.94019763899996 40.70982902900005)   \n",
       "3        POINT (-73.87017044999999 40.823387291000074)   \n",
       "4        POINT (-73.91536344699995 40.769561242000066)   \n",
       "...                                                ...   \n",
       "5717711   POINT (-73.98871585799998 40.74852036900006)   \n",
       "5717712  POINT (-73.96001731099994 40.644860566000034)   \n",
       "5717713  POINT (-73.98120362499998 40.575573630000065)   \n",
       "5717714   POINT (-73.96635808399998 40.76187469000007)   \n",
       "5717715   POINT (-73.98296229999994 40.73708228400005)   \n",
       "\n",
       "                                                      geom  district  \\\n",
       "0        b'\\x12\\x00\\x00\\x00\\x01\\x00\\x00\\x00h\\x90\\xb9\\x9...       110   \n",
       "1        b'\\x12\\x00\\x00\\x00\\x01\\x00\\x00\\x00\\xe8\\x8d\\xfc...       102   \n",
       "2        b'\\x12\\x00\\x00\\x00\\x01\\x00\\x00\\x00\\x00\\xd2\\xb7...       301   \n",
       "3        b'\\x12\\x00\\x00\\x00\\x01\\x00\\x00\\x00\\x84,f\\xdf\\x...       209   \n",
       "4        b'\\x12\\x00\\x00\\x00\\x01\\x00\\x00\\x00d4\\x91P\\x95z...       401   \n",
       "...                                                    ...       ...   \n",
       "5717711  b'\\x12\\x00\\x00\\x00\\x01\\x00\\x00\\x00`\\xc9\\xe0\\x1...       105   \n",
       "5717712  b'\\x12\\x00\\x00\\x00\\x01\\x00\\x00\\x00\\xac\\x95r\\xe...       314   \n",
       "5717713  b'\\x12\\x00\\x00\\x00\\x01\\x00\\x00\\x00\\xdc\\x05J\\n\\...       313   \n",
       "5717714  b'\\x12\\x00\\x00\\x00\\x01\\x00\\x00\\x00T\\xc0\\x93\\xc...       108   \n",
       "5717715  b'\\x12\\x00\\x00\\x00\\x01\\x00\\x00\\x00\\xd8\\xec\\xb4...       106   \n",
       "\n",
       "         intersects city  \n",
       "0              True  NYC  \n",
       "1              True  NYC  \n",
       "2              True  NYC  \n",
       "3              True  NYC  \n",
       "4              True  NYC  \n",
       "...             ...  ...  \n",
       "5717711        True  NYC  \n",
       "5717712        True  NYC  \n",
       "5717713        True  NYC  \n",
       "5717714        True  NYC  \n",
       "5717715        True  NYC  \n",
       "\n",
       "[5717716 rows x 23 columns]"
      ]
     },
     "execution_count": 48,
     "metadata": {},
     "output_type": "execute_result"
    }
   ],
   "source": [
    "nyc_df = nyc_df.rename(columns={\n",
    "    \"ARREST_KEY\": \"ID\",\n",
    "    \"ARREST_DATE\": \"Date\",\n",
    "    \"X_COORD_CD\": \"X Coordinate\",\n",
    "    \"Y_COORD_CD\": \"Y Coordinate\",\n",
    "    \"PERP_RACE\": \"race\",\n",
    "    \"PERP_SEX\": \"sex\",\n",
    "    \"AGE_GROUP\": \"age\",\n",
    "    \"JURISDICTION_CODE\": \"jurisdiction\",\n",
    "    \"LAW_CODE\": \"law_code\",\n",
    "    \"OFNS_DESC\": \"description\"\n",
    "})\n",
    "nyc_df\n"
   ]
  },
  {
   "cell_type": "code",
   "execution_count": null,
   "metadata": {},
   "outputs": [
    {
     "name": "stdout",
     "output_type": "stream",
     "text": [
      "<class 'pandas.core.frame.DataFrame'>\n",
      "RangeIndex: 5717716 entries, 0 to 5717715\n",
      "Data columns (total 23 columns):\n",
      " #   Column           Dtype  \n",
      "---  ------           -----  \n",
      " 0   ID               int32  \n",
      " 1   Date             object \n",
      " 2   PD_CD            float64\n",
      " 3   PD_DESC          object \n",
      " 4   KY_CD            float64\n",
      " 5   description      object \n",
      " 6   law_code         object \n",
      " 7   LAW_CAT_CD       object \n",
      " 8   ARREST_BORO      object \n",
      " 9   ARREST_PRECINCT  int32  \n",
      " 10  jurisdiction     float64\n",
      " 11  age              object \n",
      " 12  sex              object \n",
      " 13  race             object \n",
      " 14  X Coordinate     float64\n",
      " 15  Y Coordinate     float64\n",
      " 16  Latitude         float64\n",
      " 17  Longitude        float64\n",
      " 18  Lon_Lat          object \n",
      " 19  geom             object \n",
      " 20  district         int64  \n",
      " 21  intersects       bool   \n",
      " 22  city             object \n",
      "dtypes: bool(1), float64(7), int32(2), int64(1), object(12)\n",
      "memory usage: 921.5+ MB\n"
     ]
    }
   ],
   "source": [
    "nyc_df.info()"
   ]
  },
  {
   "cell_type": "code",
   "execution_count": null,
   "metadata": {},
   "outputs": [
    {
     "data": {
      "text/plain": [
       "ID                     0\n",
       "Date                   0\n",
       "PD_CD                876\n",
       "PD_DESC             9163\n",
       "KY_CD               9750\n",
       "description         9163\n",
       "law_code             196\n",
       "LAW_CAT_CD         23590\n",
       "ARREST_BORO            8\n",
       "ARREST_PRECINCT        0\n",
       "jurisdiction          10\n",
       "age                   17\n",
       "sex                    0\n",
       "race                   0\n",
       "X Coordinate           0\n",
       "Y Coordinate           0\n",
       "Latitude               0\n",
       "Longitude              0\n",
       "Lon_Lat                0\n",
       "geom                   0\n",
       "district               0\n",
       "intersects             0\n",
       "city                   0\n",
       "dtype: int64"
      ]
     },
     "execution_count": 50,
     "metadata": {},
     "output_type": "execute_result"
    }
   ],
   "source": [
    "nyc_df.isnull().sum()"
   ]
  },
  {
   "cell_type": "code",
   "execution_count": null,
   "metadata": {},
   "outputs": [
    {
     "data": {
      "text/plain": [
       "ID                           0\n",
       "Case Number                  0\n",
       "Date                         0\n",
       "Block                        0\n",
       "IUCR                         0\n",
       "Primary Type                 0\n",
       "Description                  0\n",
       "Location Description      9120\n",
       "Arrest                       0\n",
       "Domestic                     0\n",
       "Beat                         0\n",
       "District                    47\n",
       "Ward                    605084\n",
       "FBI Code                     0\n",
       "X Coordinate                 0\n",
       "Y Coordinate                 0\n",
       "Year                         0\n",
       "Updated On                   0\n",
       "Latitude                     0\n",
       "Longitude                    0\n",
       "Location                     0\n",
       "geom                         0\n",
       "intersects                   0\n",
       "city                         0\n",
       "dtype: int64"
      ]
     },
     "execution_count": 61,
     "metadata": {},
     "output_type": "execute_result"
    }
   ],
   "source": [
    "chicago_df.isnull().sum()"
   ]
  },
  {
   "cell_type": "code",
   "execution_count": null,
   "metadata": {},
   "outputs": [
    {
     "data": {
      "text/plain": [
       "ID                      8177168\n",
       "Case Number             8176578\n",
       "Date                    3427481\n",
       "Block                     63182\n",
       "IUCR                        421\n",
       "Primary Type                 36\n",
       "Description                 569\n",
       "Location Description        218\n",
       "Arrest                        2\n",
       "Domestic                      2\n",
       "Beat                        304\n",
       "District                     24\n",
       "Ward                         50\n",
       "FBI Code                     27\n",
       "X Coordinate              79116\n",
       "Y Coordinate             130268\n",
       "Year                         25\n",
       "Updated On                 5481\n",
       "Latitude                 901972\n",
       "Longitude                901374\n",
       "Location                 903272\n",
       "geom                     903272\n",
       "intersects                    1\n",
       "city                          1\n",
       "dtype: int64"
      ]
     },
     "execution_count": 62,
     "metadata": {},
     "output_type": "execute_result"
    }
   ],
   "source": [
    "chicago_df.nunique()\n",
    "#nyc_df.nunique()"
   ]
  },
  {
   "cell_type": "code",
   "execution_count": null,
   "metadata": {},
   "outputs": [
    {
     "data": {
      "text/plain": [
       "<bound method IndexOpsMixin.value_counts of 0          41.886018\n",
       "1          41.871835\n",
       "2          41.856547\n",
       "3          41.655116\n",
       "4          41.945232\n",
       "             ...    \n",
       "8177163    41.700477\n",
       "8177164    41.963071\n",
       "8177165    41.856231\n",
       "8177166    41.866640\n",
       "8177167    41.954699\n",
       "Name: Latitude, Length: 8177168, dtype: float64>"
      ]
     },
     "execution_count": 63,
     "metadata": {},
     "output_type": "execute_result"
    }
   ],
   "source": [
    "chicago_df[\"Latitude\"].value_counts"
   ]
  },
  {
   "cell_type": "code",
   "execution_count": null,
   "metadata": {},
   "outputs": [
    {
     "name": "stdout",
     "output_type": "stream",
     "text": [
      "<class 'pandas.core.frame.DataFrame'>\n",
      "RangeIndex: 8177168 entries, 0 to 8177167\n",
      "Data columns (total 24 columns):\n",
      " #   Column                Dtype  \n",
      "---  ------                -----  \n",
      " 0   ID                    int32  \n",
      " 1   Case Number           object \n",
      " 2   Date                  object \n",
      " 3   Block                 object \n",
      " 4   IUCR                  object \n",
      " 5   Primary Type          object \n",
      " 6   Description           object \n",
      " 7   Location Description  object \n",
      " 8   Arrest                bool   \n",
      " 9   Domestic              bool   \n",
      " 10  Beat                  int32  \n",
      " 11  District              float64\n",
      " 12  Ward                  float64\n",
      " 13  FBI Code              object \n",
      " 14  X Coordinate          int32  \n",
      " 15  Y Coordinate          int32  \n",
      " 16  Year                  int32  \n",
      " 17  Updated On            object \n",
      " 18  Latitude              float64\n",
      " 19  Longitude             float64\n",
      " 20  Location              object \n",
      " 21  geom                  object \n",
      " 22  intersects            bool   \n",
      " 23  city                  object \n",
      "dtypes: bool(3), float64(4), int32(5), object(12)\n",
      "memory usage: 1.1+ GB\n"
     ]
    }
   ],
   "source": [
    "chicago_df.info()"
   ]
  },
  {
   "cell_type": "code",
   "execution_count": null,
   "metadata": {},
   "outputs": [
    {
     "data": {
      "text/html": [
       "<div>\n",
       "<style scoped>\n",
       "    .dataframe tbody tr th:only-of-type {\n",
       "        vertical-align: middle;\n",
       "    }\n",
       "\n",
       "    .dataframe tbody tr th {\n",
       "        vertical-align: top;\n",
       "    }\n",
       "\n",
       "    .dataframe thead th {\n",
       "        text-align: right;\n",
       "    }\n",
       "</style>\n",
       "<table border=\"1\" class=\"dataframe\">\n",
       "  <thead>\n",
       "    <tr style=\"text-align: right;\">\n",
       "      <th></th>\n",
       "      <th>ID</th>\n",
       "      <th>Case Number</th>\n",
       "      <th>Date</th>\n",
       "      <th>Block</th>\n",
       "      <th>IUCR</th>\n",
       "      <th>Primary Type</th>\n",
       "      <th>Description</th>\n",
       "      <th>Location Description</th>\n",
       "      <th>Arrest</th>\n",
       "      <th>Domestic</th>\n",
       "      <th>Beat</th>\n",
       "      <th>District</th>\n",
       "      <th>Ward</th>\n",
       "      <th>FBI Code</th>\n",
       "      <th>X Coordinate</th>\n",
       "      <th>Y Coordinate</th>\n",
       "      <th>Year</th>\n",
       "      <th>Updated On</th>\n",
       "      <th>Latitude</th>\n",
       "      <th>Longitude</th>\n",
       "      <th>Location</th>\n",
       "      <th>geom</th>\n",
       "      <th>intersects</th>\n",
       "      <th>city</th>\n",
       "    </tr>\n",
       "  </thead>\n",
       "  <tbody>\n",
       "    <tr>\n",
       "      <th>count</th>\n",
       "      <td>8.177168e+06</td>\n",
       "      <td>8177168</td>\n",
       "      <td>8177168</td>\n",
       "      <td>8177168</td>\n",
       "      <td>8177168</td>\n",
       "      <td>8177168</td>\n",
       "      <td>8177168</td>\n",
       "      <td>8168048</td>\n",
       "      <td>8177168</td>\n",
       "      <td>8177168</td>\n",
       "      <td>8.177168e+06</td>\n",
       "      <td>8.177121e+06</td>\n",
       "      <td>7.572084e+06</td>\n",
       "      <td>8177168</td>\n",
       "      <td>8.177168e+06</td>\n",
       "      <td>8.177168e+06</td>\n",
       "      <td>8.177168e+06</td>\n",
       "      <td>8177168</td>\n",
       "      <td>8.177168e+06</td>\n",
       "      <td>8.177168e+06</td>\n",
       "      <td>8177168</td>\n",
       "      <td>8177168</td>\n",
       "      <td>8177168</td>\n",
       "      <td>8177168</td>\n",
       "    </tr>\n",
       "    <tr>\n",
       "      <th>unique</th>\n",
       "      <td>NaN</td>\n",
       "      <td>8176578</td>\n",
       "      <td>3427481</td>\n",
       "      <td>63182</td>\n",
       "      <td>421</td>\n",
       "      <td>36</td>\n",
       "      <td>569</td>\n",
       "      <td>218</td>\n",
       "      <td>2</td>\n",
       "      <td>2</td>\n",
       "      <td>NaN</td>\n",
       "      <td>NaN</td>\n",
       "      <td>NaN</td>\n",
       "      <td>27</td>\n",
       "      <td>NaN</td>\n",
       "      <td>NaN</td>\n",
       "      <td>NaN</td>\n",
       "      <td>5481</td>\n",
       "      <td>NaN</td>\n",
       "      <td>NaN</td>\n",
       "      <td>903272</td>\n",
       "      <td>903272</td>\n",
       "      <td>1</td>\n",
       "      <td>1</td>\n",
       "    </tr>\n",
       "    <tr>\n",
       "      <th>top</th>\n",
       "      <td>NaN</td>\n",
       "      <td>HJ590004</td>\n",
       "      <td>01/01/2007 12:01:00 AM</td>\n",
       "      <td>001XX N STATE ST</td>\n",
       "      <td>0820</td>\n",
       "      <td>THEFT</td>\n",
       "      <td>SIMPLE</td>\n",
       "      <td>STREET</td>\n",
       "      <td>False</td>\n",
       "      <td>False</td>\n",
       "      <td>NaN</td>\n",
       "      <td>NaN</td>\n",
       "      <td>NaN</td>\n",
       "      <td>06</td>\n",
       "      <td>NaN</td>\n",
       "      <td>NaN</td>\n",
       "      <td>NaN</td>\n",
       "      <td>02/10/2018 03:50:01 PM</td>\n",
       "      <td>NaN</td>\n",
       "      <td>NaN</td>\n",
       "      <td>(41.976290414, -87.905227221)</td>\n",
       "      <td>b\"\\x12\\x00\\x00\\x00\\x01\\x00\\x00\\x007i'&gt;\\xef\\xf9...</td>\n",
       "      <td>True</td>\n",
       "      <td>Chicago</td>\n",
       "    </tr>\n",
       "    <tr>\n",
       "      <th>freq</th>\n",
       "      <td>NaN</td>\n",
       "      <td>6</td>\n",
       "      <td>172</td>\n",
       "      <td>16602</td>\n",
       "      <td>660100</td>\n",
       "      <td>1728866</td>\n",
       "      <td>965838</td>\n",
       "      <td>2147126</td>\n",
       "      <td>6098820</td>\n",
       "      <td>6763404</td>\n",
       "      <td>NaN</td>\n",
       "      <td>NaN</td>\n",
       "      <td>NaN</td>\n",
       "      <td>1729965</td>\n",
       "      <td>NaN</td>\n",
       "      <td>NaN</td>\n",
       "      <td>NaN</td>\n",
       "      <td>2697237</td>\n",
       "      <td>NaN</td>\n",
       "      <td>NaN</td>\n",
       "      <td>14626</td>\n",
       "      <td>14626</td>\n",
       "      <td>8177168</td>\n",
       "      <td>8177168</td>\n",
       "    </tr>\n",
       "    <tr>\n",
       "      <th>mean</th>\n",
       "      <td>7.401516e+06</td>\n",
       "      <td>NaN</td>\n",
       "      <td>NaN</td>\n",
       "      <td>NaN</td>\n",
       "      <td>NaN</td>\n",
       "      <td>NaN</td>\n",
       "      <td>NaN</td>\n",
       "      <td>NaN</td>\n",
       "      <td>NaN</td>\n",
       "      <td>NaN</td>\n",
       "      <td>1.182374e+03</td>\n",
       "      <td>1.127884e+01</td>\n",
       "      <td>2.274416e+01</td>\n",
       "      <td>NaN</td>\n",
       "      <td>1.164706e+06</td>\n",
       "      <td>1.885893e+06</td>\n",
       "      <td>2.010772e+03</td>\n",
       "      <td>NaN</td>\n",
       "      <td>4.184249e+01</td>\n",
       "      <td>-8.767111e+01</td>\n",
       "      <td>NaN</td>\n",
       "      <td>NaN</td>\n",
       "      <td>NaN</td>\n",
       "      <td>NaN</td>\n",
       "    </tr>\n",
       "    <tr>\n",
       "      <th>std</th>\n",
       "      <td>3.717804e+06</td>\n",
       "      <td>NaN</td>\n",
       "      <td>NaN</td>\n",
       "      <td>NaN</td>\n",
       "      <td>NaN</td>\n",
       "      <td>NaN</td>\n",
       "      <td>NaN</td>\n",
       "      <td>NaN</td>\n",
       "      <td>NaN</td>\n",
       "      <td>NaN</td>\n",
       "      <td>7.029803e+02</td>\n",
       "      <td>6.953459e+00</td>\n",
       "      <td>1.385030e+01</td>\n",
       "      <td>NaN</td>\n",
       "      <td>1.618946e+04</td>\n",
       "      <td>3.139315e+04</td>\n",
       "      <td>6.897097e+00</td>\n",
       "      <td>NaN</td>\n",
       "      <td>8.633674e-02</td>\n",
       "      <td>5.892226e-02</td>\n",
       "      <td>NaN</td>\n",
       "      <td>NaN</td>\n",
       "      <td>NaN</td>\n",
       "      <td>NaN</td>\n",
       "    </tr>\n",
       "    <tr>\n",
       "      <th>min</th>\n",
       "      <td>6.340000e+02</td>\n",
       "      <td>NaN</td>\n",
       "      <td>NaN</td>\n",
       "      <td>NaN</td>\n",
       "      <td>NaN</td>\n",
       "      <td>NaN</td>\n",
       "      <td>NaN</td>\n",
       "      <td>NaN</td>\n",
       "      <td>NaN</td>\n",
       "      <td>NaN</td>\n",
       "      <td>1.110000e+02</td>\n",
       "      <td>1.000000e+00</td>\n",
       "      <td>1.000000e+00</td>\n",
       "      <td>NaN</td>\n",
       "      <td>1.092647e+06</td>\n",
       "      <td>1.813896e+06</td>\n",
       "      <td>2.001000e+03</td>\n",
       "      <td>NaN</td>\n",
       "      <td>4.164459e+01</td>\n",
       "      <td>-8.793457e+01</td>\n",
       "      <td>NaN</td>\n",
       "      <td>NaN</td>\n",
       "      <td>NaN</td>\n",
       "      <td>NaN</td>\n",
       "    </tr>\n",
       "    <tr>\n",
       "      <th>25%</th>\n",
       "      <td>3.996391e+06</td>\n",
       "      <td>NaN</td>\n",
       "      <td>NaN</td>\n",
       "      <td>NaN</td>\n",
       "      <td>NaN</td>\n",
       "      <td>NaN</td>\n",
       "      <td>NaN</td>\n",
       "      <td>NaN</td>\n",
       "      <td>NaN</td>\n",
       "      <td>NaN</td>\n",
       "      <td>6.210000e+02</td>\n",
       "      <td>6.000000e+00</td>\n",
       "      <td>1.000000e+01</td>\n",
       "      <td>NaN</td>\n",
       "      <td>1.153099e+06</td>\n",
       "      <td>1.859195e+06</td>\n",
       "      <td>2.005000e+03</td>\n",
       "      <td>NaN</td>\n",
       "      <td>4.176892e+01</td>\n",
       "      <td>-8.771321e+01</td>\n",
       "      <td>NaN</td>\n",
       "      <td>NaN</td>\n",
       "      <td>NaN</td>\n",
       "      <td>NaN</td>\n",
       "    </tr>\n",
       "    <tr>\n",
       "      <th>50%</th>\n",
       "      <td>7.399995e+06</td>\n",
       "      <td>NaN</td>\n",
       "      <td>NaN</td>\n",
       "      <td>NaN</td>\n",
       "      <td>NaN</td>\n",
       "      <td>NaN</td>\n",
       "      <td>NaN</td>\n",
       "      <td>NaN</td>\n",
       "      <td>NaN</td>\n",
       "      <td>NaN</td>\n",
       "      <td>1.034000e+03</td>\n",
       "      <td>1.000000e+01</td>\n",
       "      <td>2.300000e+01</td>\n",
       "      <td>NaN</td>\n",
       "      <td>1.166222e+06</td>\n",
       "      <td>1.890879e+06</td>\n",
       "      <td>2.010000e+03</td>\n",
       "      <td>NaN</td>\n",
       "      <td>4.185622e+01</td>\n",
       "      <td>-8.766550e+01</td>\n",
       "      <td>NaN</td>\n",
       "      <td>NaN</td>\n",
       "      <td>NaN</td>\n",
       "      <td>NaN</td>\n",
       "    </tr>\n",
       "    <tr>\n",
       "      <th>75%</th>\n",
       "      <td>1.072816e+07</td>\n",
       "      <td>NaN</td>\n",
       "      <td>NaN</td>\n",
       "      <td>NaN</td>\n",
       "      <td>NaN</td>\n",
       "      <td>NaN</td>\n",
       "      <td>NaN</td>\n",
       "      <td>NaN</td>\n",
       "      <td>NaN</td>\n",
       "      <td>NaN</td>\n",
       "      <td>1.731000e+03</td>\n",
       "      <td>1.700000e+01</td>\n",
       "      <td>3.400000e+01</td>\n",
       "      <td>NaN</td>\n",
       "      <td>1.176405e+06</td>\n",
       "      <td>1.909321e+06</td>\n",
       "      <td>2.016000e+03</td>\n",
       "      <td>NaN</td>\n",
       "      <td>4.190688e+01</td>\n",
       "      <td>-8.762807e+01</td>\n",
       "      <td>NaN</td>\n",
       "      <td>NaN</td>\n",
       "      <td>NaN</td>\n",
       "      <td>NaN</td>\n",
       "    </tr>\n",
       "    <tr>\n",
       "      <th>max</th>\n",
       "      <td>1.379609e+07</td>\n",
       "      <td>NaN</td>\n",
       "      <td>NaN</td>\n",
       "      <td>NaN</td>\n",
       "      <td>NaN</td>\n",
       "      <td>NaN</td>\n",
       "      <td>NaN</td>\n",
       "      <td>NaN</td>\n",
       "      <td>NaN</td>\n",
       "      <td>NaN</td>\n",
       "      <td>2.535000e+03</td>\n",
       "      <td>3.100000e+01</td>\n",
       "      <td>5.000000e+01</td>\n",
       "      <td>NaN</td>\n",
       "      <td>1.205119e+06</td>\n",
       "      <td>1.951573e+06</td>\n",
       "      <td>2.025000e+03</td>\n",
       "      <td>NaN</td>\n",
       "      <td>4.202271e+01</td>\n",
       "      <td>-8.752453e+01</td>\n",
       "      <td>NaN</td>\n",
       "      <td>NaN</td>\n",
       "      <td>NaN</td>\n",
       "      <td>NaN</td>\n",
       "    </tr>\n",
       "  </tbody>\n",
       "</table>\n",
       "</div>"
      ],
      "text/plain": [
       "                  ID Case Number                    Date             Block  \\\n",
       "count   8.177168e+06     8177168                 8177168           8177168   \n",
       "unique           NaN     8176578                 3427481             63182   \n",
       "top              NaN    HJ590004  01/01/2007 12:01:00 AM  001XX N STATE ST   \n",
       "freq             NaN           6                     172             16602   \n",
       "mean    7.401516e+06         NaN                     NaN               NaN   \n",
       "std     3.717804e+06         NaN                     NaN               NaN   \n",
       "min     6.340000e+02         NaN                     NaN               NaN   \n",
       "25%     3.996391e+06         NaN                     NaN               NaN   \n",
       "50%     7.399995e+06         NaN                     NaN               NaN   \n",
       "75%     1.072816e+07         NaN                     NaN               NaN   \n",
       "max     1.379609e+07         NaN                     NaN               NaN   \n",
       "\n",
       "           IUCR Primary Type Description Location Description   Arrest  \\\n",
       "count   8177168      8177168     8177168              8168048  8177168   \n",
       "unique      421           36         569                  218        2   \n",
       "top        0820        THEFT      SIMPLE               STREET    False   \n",
       "freq     660100      1728866      965838              2147126  6098820   \n",
       "mean        NaN          NaN         NaN                  NaN      NaN   \n",
       "std         NaN          NaN         NaN                  NaN      NaN   \n",
       "min         NaN          NaN         NaN                  NaN      NaN   \n",
       "25%         NaN          NaN         NaN                  NaN      NaN   \n",
       "50%         NaN          NaN         NaN                  NaN      NaN   \n",
       "75%         NaN          NaN         NaN                  NaN      NaN   \n",
       "max         NaN          NaN         NaN                  NaN      NaN   \n",
       "\n",
       "       Domestic          Beat      District          Ward FBI Code  \\\n",
       "count   8177168  8.177168e+06  8.177121e+06  7.572084e+06  8177168   \n",
       "unique        2           NaN           NaN           NaN       27   \n",
       "top       False           NaN           NaN           NaN       06   \n",
       "freq    6763404           NaN           NaN           NaN  1729965   \n",
       "mean        NaN  1.182374e+03  1.127884e+01  2.274416e+01      NaN   \n",
       "std         NaN  7.029803e+02  6.953459e+00  1.385030e+01      NaN   \n",
       "min         NaN  1.110000e+02  1.000000e+00  1.000000e+00      NaN   \n",
       "25%         NaN  6.210000e+02  6.000000e+00  1.000000e+01      NaN   \n",
       "50%         NaN  1.034000e+03  1.000000e+01  2.300000e+01      NaN   \n",
       "75%         NaN  1.731000e+03  1.700000e+01  3.400000e+01      NaN   \n",
       "max         NaN  2.535000e+03  3.100000e+01  5.000000e+01      NaN   \n",
       "\n",
       "        X Coordinate  Y Coordinate          Year              Updated On  \\\n",
       "count   8.177168e+06  8.177168e+06  8.177168e+06                 8177168   \n",
       "unique           NaN           NaN           NaN                    5481   \n",
       "top              NaN           NaN           NaN  02/10/2018 03:50:01 PM   \n",
       "freq             NaN           NaN           NaN                 2697237   \n",
       "mean    1.164706e+06  1.885893e+06  2.010772e+03                     NaN   \n",
       "std     1.618946e+04  3.139315e+04  6.897097e+00                     NaN   \n",
       "min     1.092647e+06  1.813896e+06  2.001000e+03                     NaN   \n",
       "25%     1.153099e+06  1.859195e+06  2.005000e+03                     NaN   \n",
       "50%     1.166222e+06  1.890879e+06  2.010000e+03                     NaN   \n",
       "75%     1.176405e+06  1.909321e+06  2.016000e+03                     NaN   \n",
       "max     1.205119e+06  1.951573e+06  2.025000e+03                     NaN   \n",
       "\n",
       "            Latitude     Longitude                       Location  \\\n",
       "count   8.177168e+06  8.177168e+06                        8177168   \n",
       "unique           NaN           NaN                         903272   \n",
       "top              NaN           NaN  (41.976290414, -87.905227221)   \n",
       "freq             NaN           NaN                          14626   \n",
       "mean    4.184249e+01 -8.767111e+01                            NaN   \n",
       "std     8.633674e-02  5.892226e-02                            NaN   \n",
       "min     4.164459e+01 -8.793457e+01                            NaN   \n",
       "25%     4.176892e+01 -8.771321e+01                            NaN   \n",
       "50%     4.185622e+01 -8.766550e+01                            NaN   \n",
       "75%     4.190688e+01 -8.762807e+01                            NaN   \n",
       "max     4.202271e+01 -8.752453e+01                            NaN   \n",
       "\n",
       "                                                     geom intersects     city  \n",
       "count                                             8177168    8177168  8177168  \n",
       "unique                                             903272          1        1  \n",
       "top     b\"\\x12\\x00\\x00\\x00\\x01\\x00\\x00\\x007i'>\\xef\\xf9...       True  Chicago  \n",
       "freq                                                14626    8177168  8177168  \n",
       "mean                                                  NaN        NaN      NaN  \n",
       "std                                                   NaN        NaN      NaN  \n",
       "min                                                   NaN        NaN      NaN  \n",
       "25%                                                   NaN        NaN      NaN  \n",
       "50%                                                   NaN        NaN      NaN  \n",
       "75%                                                   NaN        NaN      NaN  \n",
       "max                                                   NaN        NaN      NaN  "
      ]
     },
     "execution_count": 66,
     "metadata": {},
     "output_type": "execute_result"
    }
   ],
   "source": [
    "chicago_df.describe(include='all')"
   ]
  },
  {
   "cell_type": "code",
   "execution_count": null,
   "metadata": {},
   "outputs": [
    {
     "name": "stdout",
     "output_type": "stream",
     "text": [
      "+------------------------------------------------------------------------------------------------+\n",
      "|value                                                                                           |\n",
      "+------------------------------------------------------------------------------------------------+\n",
      "|BEGIN LAUNDERING ATTEMPT - STACK                                                                |\n",
      "|2022/09/01 05:14,00952,8139F54E0,0111632,8062C56E0,5331.44,US Dollar,5331.44,US Dollar,ACH,1    |\n",
      "|2022/09/03 13:09,0111632,8062C56E0,008456,81363F620,5602.59,US Dollar,5602.59,US Dollar,ACH,1   |\n",
      "|2022/09/01 07:40,0118693,823D5EB90,013729,801CF2E60,1400.54,US Dollar,1400.54,US Dollar,ACH,1   |\n",
      "|2022/09/01 14:19,013729,801CF2E60,0123621,81A7090F0,1467.94,US Dollar,1467.94,US Dollar,ACH,1   |\n",
      "|2022/09/02 12:40,0024750,81363F410,0213834,808757B00,16898.29,US Dollar,16898.29,US Dollar,ACH,1|\n",
      "|2022/09/03 06:34,0213834,808757B00,000,800073EF0,17607.19,US Dollar,17607.19,US Dollar,ACH,1    |\n",
      "|END LAUNDERING ATTEMPT - STACK                                                                  |\n",
      "|                                                                                                |\n",
      "|BEGIN LAUNDERING ATTEMPT - CYCLE:  Max 12 hops                                                  |\n",
      "|2022/09/01 00:19,0134266,814167590,0036925,810E343A0,132713.46,Yuan,132713.46,Yuan,ACH,1        |\n",
      "|2022/09/01 19:35,0036925,810E343A0,0119211,814AB4F60,18264.20,US Dollar,18264.20,US Dollar,ACH,1|\n",
      "|2022/09/02 02:58,0119211,814AB4F60,0132965,81B88A230,14567.69,Euro,14567.69,Euro,ACH,1          |\n",
      "|2022/09/02 18:02,0132965,81B88A230,0137089,810C71940,114329.26,Yuan,114329.26,Yuan,ACH,1        |\n",
      "|2022/09/03 07:16,0137089,810C71940,0216618,81D5302D0,14567.69,Euro,14567.69,Euro,ACH,1          |\n",
      "+------------------------------------------------------------------------------------------------+\n",
      "only showing top 15 rows\n",
      "\n"
     ]
    }
   ],
   "source": [
    "df = spark.read.text(f\"{path_data}/HI-Medium_Patterns.txt\")\n",
    "df.show(15, truncate=False)\n"
   ]
  },
  {
   "cell_type": "code",
   "execution_count": null,
   "metadata": {},
   "outputs": [],
   "source": []
  },
  {
   "cell_type": "code",
   "execution_count": null,
   "metadata": {},
   "outputs": [],
   "source": []
  },
  {
   "cell_type": "code",
   "execution_count": null,
   "metadata": {},
   "outputs": [],
   "source": []
  },
  {
   "cell_type": "code",
   "execution_count": null,
   "metadata": {},
   "outputs": [
    {
     "name": "stderr",
     "output_type": "stream",
     "text": [
      "25/04/15 18:04:28 WARN WindowExec: No Partition Defined for Window operation! Moving all data to a single partition, this can cause serious performance degradation.\n",
      "25/04/15 18:04:28 WARN WindowExec: No Partition Defined for Window operation! Moving all data to a single partition, this can cause serious performance degradation.\n",
      "25/04/15 18:04:28 WARN WindowExec: No Partition Defined for Window operation! Moving all data to a single partition, this can cause serious performance degradation.\n",
      "25/04/15 18:04:28 WARN WindowExec: No Partition Defined for Window operation! Moving all data to a single partition, this can cause serious performance degradation.\n",
      "25/04/15 18:04:28 WARN WindowExec: No Partition Defined for Window operation! Moving all data to a single partition, this can cause serious performance degradation.\n"
     ]
    },
    {
     "name": "stdout",
     "output_type": "stream",
     "text": [
      "+----------------+-------+------------+-------+----------+----------+---------+----------------+------------------+----------------+----+----------------------------+\n",
      "|Timestamp       |From_ID|From_Account|To_ID  |To_Account|Amount    |Currency |Converted_Amount|Converted_Currency|Transaction_Type|Flag|Suspicious_Type             |\n",
      "+----------------+-------+------------+-------+----------+----------+---------+----------------+------------------+----------------+----+----------------------------+\n",
      "|2022/09/01 05:14|00952  |8139F54E0   |0111632|8062C56E0 |5331.44   |US Dollar|5331.44         |US Dollar         |ACH             |1   |STACK                       |\n",
      "|2022/09/03 13:09|0111632|8062C56E0   |008456 |81363F620 |5602.59   |US Dollar|5602.59         |US Dollar         |ACH             |1   |STACK                       |\n",
      "|2022/09/01 07:40|0118693|823D5EB90   |013729 |801CF2E60 |1400.54   |US Dollar|1400.54         |US Dollar         |ACH             |1   |STACK                       |\n",
      "|2022/09/01 14:19|013729 |801CF2E60   |0123621|81A7090F0 |1467.94   |US Dollar|1467.94         |US Dollar         |ACH             |1   |STACK                       |\n",
      "|2022/09/02 12:40|0024750|81363F410   |0213834|808757B00 |16898.29  |US Dollar|16898.29        |US Dollar         |ACH             |1   |STACK                       |\n",
      "|2022/09/03 06:34|0213834|808757B00   |000    |800073EF0 |17607.19  |US Dollar|17607.19        |US Dollar         |ACH             |1   |STACK                       |\n",
      "|2022/09/01 00:19|0134266|814167590   |0036925|810E343A0 |132713.46 |Yuan     |132713.46       |Yuan              |ACH             |1   |CYCLE:  Max 12 hops         |\n",
      "|2022/09/01 19:35|0036925|810E343A0   |0119211|814AB4F60 |18264.20  |US Dollar|18264.20        |US Dollar         |ACH             |1   |CYCLE:  Max 12 hops         |\n",
      "|2022/09/02 02:58|0119211|814AB4F60   |0132965|81B88A230 |14567.69  |Euro     |14567.69        |Euro              |ACH             |1   |CYCLE:  Max 12 hops         |\n",
      "|2022/09/02 18:02|0132965|81B88A230   |0137089|810C71940 |114329.26 |Yuan     |114329.26       |Yuan              |ACH             |1   |CYCLE:  Max 12 hops         |\n",
      "|2022/09/03 07:16|0137089|810C71940   |0216618|81D5302D0 |14567.69  |Euro     |14567.69        |Euro              |ACH             |1   |CYCLE:  Max 12 hops         |\n",
      "|2022/09/03 11:39|0216618|81D5302D0   |0024083|81836B520 |13629.75  |Euro     |13629.75        |Euro              |ACH             |1   |CYCLE:  Max 12 hops         |\n",
      "|2022/09/03 12:04|0024083|81836B520   |0038110|81B868730 |97481.96  |Yuan     |97481.96        |Yuan              |ACH             |1   |CYCLE:  Max 12 hops         |\n",
      "|2022/09/04 07:27|0038110|81B868730   |0225015|81C6EA460 |14054.71  |US Dollar|14054.71        |US Dollar         |ACH             |1   |CYCLE:  Max 12 hops         |\n",
      "|2022/09/04 08:38|0225015|81C6EA460   |018112 |8045CC910 |13718.22  |US Dollar|13718.22        |US Dollar         |ACH             |1   |CYCLE:  Max 12 hops         |\n",
      "|2022/09/05 13:23|018112 |8045CC910   |007818 |8037732C0 |12908.33  |US Dollar|12908.33        |US Dollar         |ACH             |1   |CYCLE:  Max 12 hops         |\n",
      "|2022/09/06 05:10|007818 |8037732C0   |0121523|80D1BD2F0 |10636.75  |Euro     |10636.75        |Euro              |ACH             |1   |CYCLE:  Max 12 hops         |\n",
      "|2022/09/06 13:24|0121523|80D1BD2F0   |0134266|814167590 |1378736.88|Yen      |1378736.88      |Yen               |ACH             |1   |CYCLE:  Max 12 hops         |\n",
      "|2022/09/01 00:25|0266915|81C3CD2E0   |0266946|81A4AFE20 |1155546.44|Ruble    |1155546.44      |Ruble             |ACH             |1   |FAN-IN:  Max 9-degree Fan-In|\n",
      "|2022/09/01 03:18|0174634|81C5B2AB0   |0266946|81A4AFE20 |1104862.69|Ruble    |1104862.69      |Ruble             |ACH             |1   |FAN-IN:  Max 9-degree Fan-In|\n",
      "+----------------+-------+------------+-------+----------+----------+---------+----------------+------------------+----------------+----+----------------------------+\n",
      "only showing top 20 rows\n",
      "\n"
     ]
    }
   ],
   "source": [
    "df = df.withColumn(\"unique_id\", monotonically_increasing_id())\n",
    "\n",
    "df = df.withColumn(\"Suspicious_Type\", \n",
    "                   when(col(\"value\").rlike(r\"BEGIN LAUNDERING ATTEMPT.*\"), \n",
    "                        split(col(\"value\"), \" - \").getItem(1))\n",
    "                   .otherwise(None))\n",
    "\n",
    "window_spec = Window.orderBy(\"unique_id\").rowsBetween(Window.unboundedPreceding, 0)\n",
    "\n",
    "df_filled = df.withColumn(\"Suspicious_Type\", \n",
    "                          last(\"Suspicious_Type\", True).over(window_spec))\n",
    "\n",
    "df_cleaned = df_filled.filter(~col(\"value\").rlike(r\"BEGIN LAUNDERING ATTEMPT|END LAUNDERING ATTEMPT\"))\n",
    "\n",
    "split_df = df_cleaned.withColumn(\"split_values\", split(col(\"value\"), \",\"))\n",
    "\n",
    "processed_df = split_df.select(\n",
    "    col(\"split_values\").getItem(0).alias(\"Timestamp\"),\n",
    "    col(\"split_values\").getItem(1).alias(\"From_ID\"),\n",
    "    col(\"split_values\").getItem(2).alias(\"From_Account\"),\n",
    "    col(\"split_values\").getItem(3).alias(\"To_ID\"),\n",
    "    col(\"split_values\").getItem(4).alias(\"To_Account\"),\n",
    "    col(\"split_values\").getItem(5).alias(\"Amount\"),\n",
    "    col(\"split_values\").getItem(6).alias(\"Currency\"),\n",
    "    col(\"split_values\").getItem(7).alias(\"Converted_Amount\"),\n",
    "    col(\"split_values\").getItem(8).alias(\"Converted_Currency\"),\n",
    "    col(\"split_values\").getItem(9).alias(\"Transaction_Type\"),\n",
    "    col(\"split_values\").getItem(10).alias(\"Flag\"),\n",
    "    col(\"Suspicious_Type\")\n",
    ")\n",
    "\n",
    "processed_df = processed_df.filter(col(\"Timestamp\").rlike(r\"^\\d{4}/\\d{2}/\\d{2} \\d{2}:\\d{2}\"))\n",
    "\n",
    "processed_df.show(truncate=False)\n",
    "\n",
    "\n"
   ]
  },
  {
   "cell_type": "code",
   "execution_count": null,
   "metadata": {},
   "outputs": [
    {
     "name": "stdout",
     "output_type": "stream",
     "text": [
      "root\n",
      " |-- Timestamp: string (nullable = true)\n",
      " |-- From_ID: string (nullable = true)\n",
      " |-- From_Account: string (nullable = true)\n",
      " |-- To_ID: string (nullable = true)\n",
      " |-- To_Account: string (nullable = true)\n",
      " |-- Amount: string (nullable = true)\n",
      " |-- Currency: string (nullable = true)\n",
      " |-- Converted_Amount: string (nullable = true)\n",
      " |-- Converted_Currency: string (nullable = true)\n",
      " |-- Transaction_Type: string (nullable = true)\n",
      " |-- Flag: string (nullable = true)\n",
      " |-- Suspicious_Type: string (nullable = true)\n",
      "\n"
     ]
    }
   ],
   "source": [
    "processed_df.printSchema()"
   ]
  },
  {
   "cell_type": "code",
   "execution_count": null,
   "metadata": {},
   "outputs": [],
   "source": [
    "def full_func_creation_table(df, db, table):\n",
    "    #df.printSchema()\n",
    "    null_counts = {}\n",
    "    for col_name in df.columns:\n",
    "        null_count = (df.withColumn(\"new_column\", F.when((F.col(col_name).isNull()) | (F.isnan(F.col(col_name))), 1).otherwise(0)).agg(F.sum(\"new_column\").alias(\"temp_sum\")).collect()[0][0])\n",
    "\n",
    "        null_counts[col_name] = null_count\n",
    "    total_count = builtins.sum(null_counts.values())\n",
    "\n",
    "\n",
    "    print(null_counts)\n",
    "    print(total_count)\n",
    "    print(f\"Total count of null values: {total_count}\")\n",
    "    print(f\"Total count of rows: {df.count()}\")\n",
    "\n",
    "    types = {\"string\": \"String\"}\n",
    "    columns = [f\"{column_name} {types.get(column_type, 'String')}\" for column_name, column_type in df.dtypes]\n",
    "    return f\"create table if not exists {db}.{table} ({','.join(columns)}) ENGINE=MergeTree() order by {df.columns[0]}\"\n"
   ]
  },
  {
   "cell_type": "code",
   "execution_count": null,
   "metadata": {},
   "outputs": [
    {
     "ename": "NameError",
     "evalue": "name 'col_name' is not defined",
     "output_type": "error",
     "traceback": [
      "\u001b[0;31m---------------------------------------------------------------------------\u001b[0m",
      "\u001b[0;31mNameError\u001b[0m                                 Traceback (most recent call last)",
      "Cell \u001b[0;32mIn[24], line 1\u001b[0m\n\u001b[0;32m----> 1\u001b[0m null_count \u001b[38;5;241m=\u001b[39m df\u001b[38;5;241m.\u001b[39mwithColumn(\u001b[38;5;124m\"\u001b[39m\u001b[38;5;124mnew_column\u001b[39m\u001b[38;5;124m\"\u001b[39m, F\u001b[38;5;241m.\u001b[39mwhen((F\u001b[38;5;241m.\u001b[39mcol(col_name)\u001b[38;5;241m.\u001b[39misNull()) \u001b[38;5;241m|\u001b[39m (F\u001b[38;5;241m.\u001b[39misnan(F\u001b[38;5;241m.\u001b[39mcol(col_name))), \u001b[38;5;241m1\u001b[39m)\u001b[38;5;241m.\u001b[39motherwise(\u001b[38;5;241m0\u001b[39m))\u001b[38;5;241m.\u001b[39magg(F\u001b[38;5;241m.\u001b[39msum(\u001b[38;5;124m\"\u001b[39m\u001b[38;5;124mnew_column\u001b[39m\u001b[38;5;124m\"\u001b[39m)\u001b[38;5;241m.\u001b[39malias(\u001b[38;5;124m\"\u001b[39m\u001b[38;5;124mtemp_sum\u001b[39m\u001b[38;5;124m\"\u001b[39m))\u001b[38;5;241m.\u001b[39mcollect()[\u001b[38;5;241m0\u001b[39m][\u001b[38;5;241m0\u001b[39m]\n",
      "\u001b[0;31mNameError\u001b[0m: name 'col_name' is not defined"
     ]
    }
   ],
   "source": [
    "null_count = df.withColumn(\"new_column\", F.when((F.col(col_name).isNull()) | (F.isnan(F.col(col_name))), 1).otherwise(0)).agg(F.sum(\"new_column\").alias(\"temp_sum\")).collect()[0][0]"
   ]
  },
  {
   "cell_type": "code",
   "execution_count": null,
   "metadata": {},
   "outputs": [],
   "source": [
    "DB = \"card_data\"\n",
    "table = \"transactions\""
   ]
  },
  {
   "cell_type": "code",
   "execution_count": null,
   "metadata": {},
   "outputs": [
    {
     "name": "stderr",
     "output_type": "stream",
     "text": [
      "25/02/23 17:36:40 WARN WindowExec: No Partition Defined for Window operation! Moving all data to a single partition, this can cause serious performance degradation.\n",
      "25/02/23 17:36:40 WARN WindowExec: No Partition Defined for Window operation! Moving all data to a single partition, this can cause serious performance degradation.\n",
      "25/02/23 17:36:40 WARN WindowExec: No Partition Defined for Window operation! Moving all data to a single partition, this can cause serious performance degradation.\n",
      "25/02/23 17:36:40 WARN WindowExec: No Partition Defined for Window operation! Moving all data to a single partition, this can cause serious performance degradation.\n"
     ]
    },
    {
     "name": "stdout",
     "output_type": "stream",
     "text": [
      "{'Timestamp': 0, 'From_ID': 0, 'From_Account': 0, 'To_ID': 0, 'To_Account': 0, 'Amount': 0, 'Currency': 0, 'Converted_Amount': 0, 'Converted_Currency': 0, 'Transaction_Type': 0, 'Flag': 0, 'Suspicious_Type': 0}\n",
      "0\n",
      "Total count of null values: 0\n",
      "Total count of rows: 22743\n"
     ]
    },
    {
     "data": {
      "text/plain": [
       "'create table if not exists card_data.transactions (Timestamp String,From_ID String,From_Account String,To_ID String,To_Account String,Amount String,Currency String,Converted_Amount String,Converted_Currency String,Transaction_Type String,Flag String,Suspicious_Type String) ENGINE=MergeTree() order by Timestamp'"
      ]
     },
     "execution_count": 25,
     "metadata": {},
     "output_type": "execute_result"
    }
   ],
   "source": [
    "full_func_creation_table(processed_df, DB , table)"
   ]
  },
  {
   "cell_type": "code",
   "execution_count": null,
   "metadata": {},
   "outputs": [],
   "source": []
  },
  {
   "cell_type": "code",
   "execution_count": null,
   "metadata": {},
   "outputs": [],
   "source": [
    "null_count = processed_df.withColumn(\"new_column\", F.when(F.col(col_name).isNull()) | (F.isnan(F.col(col_name))), 1).otherwise(0)"
   ]
  },
  {
   "cell_type": "code",
   "execution_count": null,
   "metadata": {},
   "outputs": [
    {
     "data": {
      "text/plain": [
       "[('Timestamp', 'string'),\n",
       " ('From_ID', 'string'),\n",
       " ('From_Account', 'string'),\n",
       " ('To_ID', 'string'),\n",
       " ('To_Account', 'string'),\n",
       " ('Amount', 'string'),\n",
       " ('Currency', 'string'),\n",
       " ('Converted_Amount', 'string'),\n",
       " ('Converted_Currency', 'string'),\n",
       " ('Transaction_Type', 'string'),\n",
       " ('Flag', 'string'),\n",
       " ('Suspicious_Type', 'string')]"
      ]
     },
     "execution_count": 5,
     "metadata": {},
     "output_type": "execute_result"
    }
   ],
   "source": [
    "processed_df.dtypes"
   ]
  },
  {
   "cell_type": "code",
   "execution_count": null,
   "metadata": {},
   "outputs": [
    {
     "name": "stdout",
     "output_type": "stream",
     "text": [
      "['Timestamp String', 'From_ID String', 'From_Account String', 'To_ID String', 'To_Account String', 'Amount String', 'Currency String', 'Converted_Amount String', 'Converted_Currency String', 'Transaction_Type String', 'Flag String', 'Suspicious_Type String']\n"
     ]
    }
   ],
   "source": [
    "types = {\"string\": \"String\"}\n",
    "\n",
    "columns = [f\"{column_name} {types.get(column_type, 'String')}\" for column_name, column_type in processed_df.dtypes]\n",
    "print(columns)"
   ]
  },
  {
   "cell_type": "code",
   "execution_count": null,
   "metadata": {},
   "outputs": [],
   "source": [
    "DB = \"card_data\"\n",
    "table = \"transactions\""
   ]
  },
  {
   "cell_type": "code",
   "execution_count": null,
   "metadata": {},
   "outputs": [
    {
     "name": "stdout",
     "output_type": "stream",
     "text": [
      "create table if not exists card_data.transactions (Timestamp String,From_ID String,From_Account String,To_ID String,To_Account String,Amount String,Currency String,Converted_Amount String,Converted_Currency String,Transaction_Type String,Flag String,Suspicious_Type String) ENGINE=MergeTree() order by Timestamp\n",
      "Created\n"
     ]
    }
   ],
   "source": [
    "print(f\"create table if not exists {DB}.{table} ({','.join(columns)}) ENGINE=MergeTree() order by {processed_df.columns[0]}\")  \n",
    "print(\"Created\")"
   ]
  },
  {
   "cell_type": "code",
   "execution_count": null,
   "metadata": {},
   "outputs": [],
   "source": [
    "def ddl_func(df, db, table):\n",
    "    types = {\"string\": \"String\"}\n",
    "    columns = [f\"{column_name} {types.get(column_type, 'String')}\" for column_name, column_type in df.dtypes]\n",
    "    return f\"create table if not exists {db}.{table} ({','.join(columns)}) ENGINE=MergeTree() order by {df.columns[0]}\""
   ]
  },
  {
   "cell_type": "code",
   "execution_count": null,
   "metadata": {},
   "outputs": [
    {
     "data": {
      "text/plain": [
       "'create table if not exists card_data.transactions (Timestamp String,From_ID String,From_Account String,To_ID String,To_Account String,Amount String,Currency String,Converted_Amount String,Converted_Currency String,Transaction_Type String,Flag String,Suspicious_Type String) ENGINE=MergeTree() order by Timestamp'"
      ]
     },
     "execution_count": 10,
     "metadata": {},
     "output_type": "execute_result"
    }
   ],
   "source": [
    "ddl_func(processed_df, DB, table)"
   ]
  },
  {
   "cell_type": "code",
   "execution_count": null,
   "metadata": {},
   "outputs": [
    {
     "data": {
      "text/plain": [
       "'Timestamp String,From_ID String,From_Account String,To_ID String,To_Account String,Amount String,Currency String,Converted_Amount String,Converted_Currency String,Transaction_Type String,Flag String,Suspicious_Type String'"
      ]
     },
     "execution_count": 10,
     "metadata": {},
     "output_type": "execute_result"
    }
   ],
   "source": [
    "','.join(columns)"
   ]
  },
  {
   "cell_type": "code",
   "execution_count": null,
   "metadata": {},
   "outputs": [
    {
     "data": {
      "text/plain": [
       "'String'"
      ]
     },
     "execution_count": 9,
     "metadata": {},
     "output_type": "execute_result"
    }
   ],
   "source": [
    "types.get('string', 'String')"
   ]
  },
  {
   "cell_type": "code",
   "execution_count": null,
   "metadata": {},
   "outputs": [
    {
     "name": "stderr",
     "output_type": "stream",
     "text": [
      "[Stage 10:>                                                         (0 + 1) / 1]\r"
     ]
    },
    {
     "name": "stdout",
     "output_type": "stream",
     "text": [
      "+-----------------+-----------------+--------------------+\n",
      "|         Currency|Transaction_Count|        Total_Amount|\n",
      "+-----------------+-----------------+--------------------+\n",
      "|              Yen|              819|1.242312435171999...|\n",
      "|         UK Pound|             1262|      7.3326693163E8|\n",
      "|Australian Dollar|              341|4.1358344824000007E8|\n",
      "|      Saudi Riyal|                8|  372465.44000000006|\n",
      "|     Mexican Peso|                4|           953579.44|\n",
      "|           Shekel|              114| 2.705172844310001E9|\n",
      "|             Yuan|             1882|2.191043557284299...|\n",
      "|  Canadian Dollar|              141|2.5041100439000005E8|\n",
      "|             Euro|             6792|1.305416974135001...|\n",
      "|            Rupee|              552|      5.0259031931E9|\n",
      "|      Swiss Franc|                4|            18735.84|\n",
      "|        US Dollar|             9714|2.669610893167986E10|\n",
      "|      Brazil Real|               20|      3.1150056855E8|\n",
      "|          Bitcoin|                3|            3.625899|\n",
      "|            Ruble|             1087|1.567876827529301...|\n",
      "+-----------------+-----------------+--------------------+\n",
      "\n"
     ]
    },
    {
     "name": "stderr",
     "output_type": "stream",
     "text": [
      "                                                                                \r"
     ]
    }
   ],
   "source": [
    "\n",
    "grouped_by_currency = processed_df.groupBy(\"Currency\").agg(\n",
    "        F.count(\"*\").alias(\"Transaction_Count\"),\n",
    "        F.sum(\"Amount\").alias(\"Total_Amount\")\n",
    "    )\n",
    "grouped_by_currency.show()"
   ]
  },
  {
   "cell_type": "code",
   "execution_count": null,
   "metadata": {},
   "outputs": [
    {
     "name": "stdout",
     "output_type": "stream",
     "text": [
      "+----------------+-----------------+--------------------+\n",
      "|Transaction_Type|Transaction_Count|        Total_Amount|\n",
      "+----------------+-----------------+--------------------+\n",
      "|             ACH|            22740|1.667395935097328...|\n",
      "|         Bitcoin|                3|            3.625899|\n",
      "+----------------+-----------------+--------------------+\n",
      "\n"
     ]
    }
   ],
   "source": [
    "grouped_by_transaction_type = processed_df.groupBy(\"Transaction_Type\").agg(\n",
    "        F.count(\"*\").alias(\"Transaction_Count\"),\n",
    "        F.sum(\"Amount\").alias(\"Total_Amount\")\n",
    "    )\n",
    "grouped_by_transaction_type.show()"
   ]
  },
  {
   "cell_type": "code",
   "execution_count": null,
   "metadata": {},
   "outputs": [
    {
     "name": "stdout",
     "output_type": "stream",
     "text": [
      "+----+-----------------+--------------------+\n",
      "|Flag|Transaction_Count|        Total_Amount|\n",
      "+----+-----------------+--------------------+\n",
      "|   1|            22743|1.667395935100954...|\n",
      "+----+-----------------+--------------------+\n",
      "\n"
     ]
    }
   ],
   "source": [
    "grouped_by_flag = processed_df.groupBy(\"Flag\").agg(\n",
    "        F.count(\"*\").alias(\"Transaction_Count\"),\n",
    "        F.sum(\"Amount\").alias(\"Total_Amount\")\n",
    "    )\n",
    "grouped_by_flag.show()"
   ]
  },
  {
   "cell_type": "code",
   "execution_count": null,
   "metadata": {},
   "outputs": [
    {
     "name": "stdout",
     "output_type": "stream",
     "text": [
      "+--------+-----------------+------------------+\n",
      "| From_ID|Transaction_Count|      Total_Amount|\n",
      "+--------+-----------------+------------------+\n",
      "| 0212474|               19| 777334.5499999999|\n",
      "| 0253580|                4|         1077850.3|\n",
      "| 0125414|                4|          45690.69|\n",
      "| 0173659|                2|105983.34999999999|\n",
      "| 0031953|                3|          32217.49|\n",
      "|02127232|                1|           9976.75|\n",
      "| 0111606|               20|        8239124.81|\n",
      "| 0014993|                9| 655120.6699999999|\n",
      "| 0224393|                5|         121904.21|\n",
      "| 0036435|                3|30379.440000000002|\n",
      "| 0172156|               15|        6227672.95|\n",
      "|  025699|               33| 5735640.220000001|\n",
      "|  015240|               22|     4.767193925E7|\n",
      "| 0254896|                2|          14922.56|\n",
      "| 0152922|                3|          32692.75|\n",
      "| 0078860|                2|           8395.76|\n",
      "| 0055436|                5|         997488.92|\n",
      "| 0054349|                1|         979472.12|\n",
      "| 0295764|               29|        4868296.31|\n",
      "|  015598|               21|      2.02282265E7|\n",
      "+--------+-----------------+------------------+\n",
      "only showing top 20 rows\n",
      "\n"
     ]
    }
   ],
   "source": [
    "grouped_by_sender = processed_df.groupBy(\"From_ID\").agg(\n",
    "        F.count(\"*\").alias(\"Transaction_Count\"),\n",
    "        F.sum(\"Amount\").alias(\"Total_Amount\")\n",
    "    )\n",
    "grouped_by_sender.show()"
   ]
  },
  {
   "cell_type": "markdown",
   "metadata": {},
   "source": []
  },
  {
   "cell_type": "code",
   "execution_count": null,
   "metadata": {},
   "outputs": [
    {
     "name": "stdout",
     "output_type": "stream",
     "text": [
      "+-----------------+--------------------+\n",
      "|         Currency|      Average_Amount|\n",
      "+-----------------+--------------------+\n",
      "|              Yen|1.5168650002100117E9|\n",
      "|         UK Pound|   581035.6035103011|\n",
      "|Australian Dollar|  1212854.6869208212|\n",
      "|      Saudi Riyal|   46558.18000000001|\n",
      "|     Mexican Peso|           238394.86|\n",
      "|           Shekel|2.3729586353596497E7|\n",
      "|             Yuan|1.1642101792158872E8|\n",
      "|  Canadian Dollar|  1775964.5701418442|\n",
      "|             Euro|  1921992.0113883999|\n",
      "|            Rupee|   9104897.088949276|\n",
      "|      Swiss Franc|             4683.96|\n",
      "|        US Dollar|   2748209.690310877|\n",
      "|      Brazil Real|     1.55750284275E7|\n",
      "|          Bitcoin|            1.208633|\n",
      "|            Ruble| 1.442388985767527E8|\n",
      "+-----------------+--------------------+\n",
      "\n"
     ]
    }
   ],
   "source": [
    "avg_amount_by_currency = processed_df.groupBy(\"Currency\").agg(F.avg(\"Amount\").alias(\"Average_Amount\"))\n",
    "avg_amount_by_currency.show()"
   ]
  },
  {
   "cell_type": "code",
   "execution_count": null,
   "metadata": {},
   "outputs": [
    {
     "name": "stderr",
     "output_type": "stream",
     "text": [
      "25/02/03 19:24:35 WARN WindowExec: No Partition Defined for Window operation! Moving all data to a single partition, this can cause serious performance degradation.\n",
      "25/02/03 19:24:35 WARN WindowExec: No Partition Defined for Window operation! Moving all data to a single partition, this can cause serious performance degradation.\n",
      "25/02/03 19:24:35 WARN WindowExec: No Partition Defined for Window operation! Moving all data to a single partition, this can cause serious performance degradation.\n",
      "25/02/03 19:24:35 WARN WindowExec: No Partition Defined for Window operation! Moving all data to a single partition, this can cause serious performance degradation.\n"
     ]
    },
    {
     "name": "stdout",
     "output_type": "stream",
     "text": [
      "+--------------------+-------------+\n",
      "|     Suspicious_Type|   Max_Amount|\n",
      "+--------------------+-------------+\n",
      "|           BIPARTITE|    999845.79|\n",
      "| CYCLE:  Max 10 hops|      9951.36|\n",
      "| CYCLE:  Max 11 hops|     96739.20|\n",
      "| CYCLE:  Max 12 hops|      9872.20|\n",
      "| CYCLE:  Max 13 hops|      9971.68|\n",
      "|  CYCLE:  Max 2 hops|      9934.24|\n",
      "|  CYCLE:  Max 3 hops|    973986.67|\n",
      "|  CYCLE:  Max 4 hops|    990715.61|\n",
      "|  CYCLE:  Max 5 hops|      9783.97|\n",
      "|  CYCLE:  Max 6 hops|9986928829.16|\n",
      "|  CYCLE:  Max 7 hops|     98728.19|\n",
      "|  CYCLE:  Max 8 hops|      9811.06|\n",
      "|  CYCLE:  Max 9 hops|      9586.18|\n",
      "|FAN-IN:  Max 1-de...|      9762.64|\n",
      "|FAN-IN:  Max 10-d...|     99520.51|\n",
      "|FAN-IN:  Max 11-d...|      9919.49|\n",
      "|FAN-IN:  Max 12-d...|      9976.75|\n",
      "|FAN-IN:  Max 13-d...|      9965.87|\n",
      "|FAN-IN:  Max 14-d...|      9978.47|\n",
      "|FAN-IN:  Max 15-d...|     99560.78|\n",
      "+--------------------+-------------+\n",
      "only showing top 20 rows\n",
      "\n"
     ]
    }
   ],
   "source": [
    "max_amount_by_suspicious_type = processed_df.groupBy(\"Suspicious_Type\").agg(F.max(\"Amount\").alias(\"Max_Amount\"))\n",
    "max_amount_by_suspicious_type.show()"
   ]
  },
  {
   "cell_type": "code",
   "execution_count": null,
   "metadata": {},
   "outputs": [
    {
     "name": "stdout",
     "output_type": "stream",
     "text": [
      "+----+------------------+\n",
      "|Flag|Total_Transactions|\n",
      "+----+------------------+\n",
      "|   1|             22743|\n",
      "+----+------------------+\n",
      "\n"
     ]
    }
   ],
   "source": [
    "total_transactions_by_flag = processed_df.groupBy(\"Flag\").agg(F.count(\"*\").alias(\"Total_Transactions\"))\n",
    "total_transactions_by_flag.show()"
   ]
  },
  {
   "cell_type": "code",
   "execution_count": null,
   "metadata": {},
   "outputs": [
    {
     "name": "stderr",
     "output_type": "stream",
     "text": [
      "25/02/03 19:24:40 WARN WindowExec: No Partition Defined for Window operation! Moving all data to a single partition, this can cause serious performance degradation.\n",
      "25/02/03 19:24:40 WARN WindowExec: No Partition Defined for Window operation! Moving all data to a single partition, this can cause serious performance degradation.\n",
      "25/02/03 19:24:40 WARN WindowExec: No Partition Defined for Window operation! Moving all data to a single partition, this can cause serious performance degradation.\n",
      "25/02/03 19:24:40 WARN WindowExec: No Partition Defined for Window operation! Moving all data to a single partition, this can cause serious performance degradation.\n"
     ]
    },
    {
     "name": "stdout",
     "output_type": "stream",
     "text": [
      "+----------------+--------+------------+--------+----------+-------+-----------------+----------------+------------------+----------------+----+--------------------+----+\n",
      "|       Timestamp| From_ID|From_Account|   To_ID|To_Account| Amount|         Currency|Converted_Amount|Converted_Currency|Transaction_Type|Flag|     Suspicious_Type|Rank|\n",
      "+----------------+--------+------------+--------+----------+-------+-----------------+----------------+------------------+----------------+----+--------------------+----+\n",
      "|2022/09/18 15:01|02127147|   82F31CAE0|02127147| 83000CAC0|9685.09|Australian Dollar|         9685.09| Australian Dollar|             ACH|   1|      SCATTER-GATHER|   1|\n",
      "|2022/09/14 12:31|    0111|   800065010|     029| 8000C7720|9521.79|Australian Dollar|         9521.79| Australian Dollar|             ACH|   1|FAN-IN:  Max 14-d...|   2|\n",
      "|2022/09/06 10:25|    0110|   82E6C08C0|00126614| 82E6C0F40|9471.55|Australian Dollar|         9471.55| Australian Dollar|             ACH|   1|GATHER-SCATTER:  ...|   3|\n",
      "|2022/09/07 02:33|00127022|   830462B80|02131507| 8301A0340|9372.62|Australian Dollar|         9372.62| Australian Dollar|             ACH|   1|FAN-OUT:  Max 1-d...|   4|\n",
      "|2022/09/05 16:06|00127022|   830462B80|02131507| 8301A0340|9239.58|Australian Dollar|         9239.58| Australian Dollar|             ACH|   1|           BIPARTITE|   5|\n",
      "|2022/09/15 07:05|02129145|   83000CEE0|02127147| 82F31CAE0|9224.53|Australian Dollar|         9224.53| Australian Dollar|             ACH|   1|      SCATTER-GATHER|   6|\n",
      "|2022/09/17 08:07|02125369|   82DD5AA30|02127147| 83000CAC0|9147.41|Australian Dollar|         9147.41| Australian Dollar|             ACH|   1|      SCATTER-GATHER|   7|\n",
      "|2022/09/04 04:05|02131507|   8301A0340|00127022| 830462B80|9043.08|Australian Dollar|         9043.08| Australian Dollar|             ACH|   1|  CYCLE:  Max 2 hops|   8|\n",
      "|2022/09/16 13:05|02129461|   83000DC90|00126614| 83000D8D0|8926.84|Australian Dollar|         8926.84| Australian Dollar|             ACH|   1|      SCATTER-GATHER|   9|\n",
      "|2022/09/05 20:37|00126614|   82E6C0F40|     029| 82E2CB5B0|8888.13|Australian Dollar|         8888.13| Australian Dollar|             ACH|   1|  CYCLE:  Max 9 hops|  10|\n",
      "|2022/09/13 09:36|00131127|   8304659A0|02126978| 8304659F0|8772.95|Australian Dollar|         8772.95| Australian Dollar|             ACH|   1|GATHER-SCATTER:  ...|  11|\n",
      "|2022/09/15 14:59|02126306|   83000CE40|02127147| 82F31CAE0|8692.25|Australian Dollar|         8692.25| Australian Dollar|             ACH|   1|           BIPARTITE|  12|\n",
      "|2022/09/07 12:13|     029|   82DCAA2B0|00126614| 82E6C0F40| 869.59|Australian Dollar|          869.59| Australian Dollar|             ACH|   1|           BIPARTITE|  13|\n",
      "|2022/09/05 13:39| 0239197|   83000D0D0|02125369| 82DD5AA30|8629.47|Australian Dollar|         8629.47| Australian Dollar|             ACH|   1|  CYCLE:  Max 9 hops|  14|\n",
      "|2022/09/15 11:53| 0239197|   83000D0D0|     029| 82E2CB5B0|8622.26|Australian Dollar|         8622.26| Australian Dollar|             ACH|   1|GATHER-SCATTER:  ...|  15|\n",
      "|2022/09/15 01:08|02126978|   8304659F0|00131127| 8304659A0|8557.89|Australian Dollar|         8557.89| Australian Dollar|             ACH|   1| RANDOM:  Max 1 hops|  16|\n",
      "|2022/09/06 16:31|     029|   82E2CB5B0|02127249| 82E921690|8523.53|Australian Dollar|         8523.53| Australian Dollar|             ACH|   1|  CYCLE:  Max 9 hops|  17|\n",
      "|2022/09/03 11:12|01108586|   8288E4220|     009| 82DBF9820|8442.19|Australian Dollar|         8442.19| Australian Dollar|             ACH|   1| CYCLE:  Max 10 hops|  18|\n",
      "|2022/09/17 17:50|00127022|   830462B80|02131507| 8301A0340|8368.16|Australian Dollar|         8368.16| Australian Dollar|             ACH|   1|  CYCLE:  Max 2 hops|  19|\n",
      "|2022/09/12 18:54|02129145|   83000CEE0|01125491| 83000DC40|8365.41|Australian Dollar|         8365.41| Australian Dollar|             ACH|   1|      SCATTER-GATHER|  20|\n",
      "+----------------+--------+------------+--------+----------+-------+-----------------+----------------+------------------+----------------+----+--------------------+----+\n",
      "only showing top 20 rows\n",
      "\n"
     ]
    }
   ],
   "source": [
    "window_spec_rank = Window.partitionBy(\"Currency\").orderBy(F.desc(\"Amount\"))\n",
    "processed_df = processed_df.withColumn(\"Rank\", F.rank().over(window_spec_rank))\n",
    "processed_df.show()"
   ]
  },
  {
   "cell_type": "code",
   "execution_count": null,
   "metadata": {},
   "outputs": [
    {
     "name": "stderr",
     "output_type": "stream",
     "text": [
      "25/02/03 19:24:43 WARN WindowExec: No Partition Defined for Window operation! Moving all data to a single partition, this can cause serious performance degradation.\n",
      "25/02/03 19:24:43 WARN WindowExec: No Partition Defined for Window operation! Moving all data to a single partition, this can cause serious performance degradation.\n",
      "25/02/03 19:24:43 WARN WindowExec: No Partition Defined for Window operation! Moving all data to a single partition, this can cause serious performance degradation.\n",
      "25/02/03 19:24:43 WARN WindowExec: No Partition Defined for Window operation! Moving all data to a single partition, this can cause serious performance degradation.\n"
     ]
    },
    {
     "name": "stdout",
     "output_type": "stream",
     "text": [
      "+----------------+-------+------------+--------+----------+---------+---------+----------------+------------------+----------------+----+---------------+----+-----------------------------+\n",
      "|       Timestamp|From_ID|From_Account|   To_ID|To_Account|   Amount| Currency|Converted_Amount|Converted_Currency|Transaction_Type|Flag|Suspicious_Type|Rank|Max_Amount_In_Suspicious_Type|\n",
      "+----------------+-------+------------+--------+----------+---------+---------+----------------+------------------+----------------+----+---------------+----+-----------------------------+\n",
      "|2022/09/16 15:13|   0113|   8000D8040|     005| 80EE7B9A0|999845.79|      Yen|       999845.79|               Yen|             ACH|   1|      BIPARTITE|   1|                    999845.79|\n",
      "|2022/09/04 12:03|    011|   8002CA100|   00544| 8003AB050|  9996.32|US Dollar|         9996.32|         US Dollar|             ACH|   1|      BIPARTITE|   1|                    999845.79|\n",
      "|2022/09/09 04:32| 022819|   8035F8070|   00544| 8018C6640|   998.71|US Dollar|          998.71|         US Dollar|             ACH|   1|      BIPARTITE|   9|                    999845.79|\n",
      "|2022/09/12 01:33| 021617|   8009C00D0|  024527| 80BE242F0|  9977.40|     Euro|         9977.40|              Euro|             ACH|   1|      BIPARTITE|   7|                    999845.79|\n",
      "|2022/09/05 09:35|0128919|   80F8EF3E0| 0121178| 8124D5D80|   997.88|     Euro|          997.88|              Euro|             ACH|   1|      BIPARTITE|  13|                    999845.79|\n",
      "|2022/09/03 12:31| 012883|   81CA6C870|  004563| 81C902390|  9969.68|US Dollar|         9969.68|         US Dollar|             ACH|   1|      BIPARTITE|  13|                    999845.79|\n",
      "|2022/09/08 15:10| 022602|   80A9AD900|  005475| 8020FEEE0|  9962.64|     Euro|         9962.64|              Euro|             ACH|   1|      BIPARTITE|  16|                    999845.79|\n",
      "|2022/09/08 16:02|0277486|   81D2E5DA0|  001488| 80184DB20|  9961.74|US Dollar|         9961.74|         US Dollar|             ACH|   1|      BIPARTITE|  18|                    999845.79|\n",
      "|2022/09/12 12:18|0124323|   8222F2050|     026| 818938EC0|995910.27|    Ruble|       995910.27|             Ruble|             ACH|   1|      BIPARTITE|   5|                    999845.79|\n",
      "|2022/09/08 18:53|    001|   800401EE0|     021| 80069EA40| 99527.69|     Yuan|        99527.69|              Yuan|             ACH|   1|      BIPARTITE|   5|                    999845.79|\n",
      "|2022/09/10 15:43|0047750|   815C1E700|   00952| 805560DE0|  9949.63|US Dollar|         9949.63|         US Dollar|             ACH|   1|      BIPARTITE|  23|                    999845.79|\n",
      "|2022/09/06 10:06|    020|   8004A13A0|   01208| 800118600|  9949.32|US Dollar|         9949.32|         US Dollar|             ACH|   1|      BIPARTITE|  24|                    999845.79|\n",
      "|2022/09/10 06:47|    012|   800316770|   01818| 8004A1440|   994.77|US Dollar|          994.77|         US Dollar|             ACH|   1|      BIPARTITE|  29|                    999845.79|\n",
      "|2022/09/12 19:55|0128680|   81C9B6290| 0038633| 8215064A0|  9937.53|US Dollar|         9937.53|         US Dollar|             ACH|   1|      BIPARTITE|  30|                    999845.79|\n",
      "|2022/09/07 12:04|  00214|   80011D160|     003| 800109F40|  9933.43|     Euro|         9933.43|              Euro|             ACH|   1|      BIPARTITE|  19|                    999845.79|\n",
      "|2022/09/08 06:53|0183725|   828BBF620|00101871| 82F387BA0|  9917.67|     Euro|         9917.67|              Euro|             ACH|   1|      BIPARTITE|  25|                    999845.79|\n",
      "|2022/09/15 05:34|0272896|   81BBEA160| 0272142| 81C393430|  9905.46|    Ruble|         9905.46|             Ruble|             ACH|   1|      BIPARTITE|   9|                    999845.79|\n",
      "|2022/09/04 18:04|0020937|   816F35E10| 0083840| 824D3A370|  9896.09|US Dollar|         9896.09|         US Dollar|             ACH|   1|      BIPARTITE|  57|                    999845.79|\n",
      "|2022/09/11 06:12| 003806|   802235570|  024878| 801F8CC60|  9895.76|US Dollar|         9895.76|         US Dollar|             ACH|   1|      BIPARTITE|  58|                    999845.79|\n",
      "|2022/09/13 00:18|0048016|   813022280|  022257| 8031396C0|  9884.01|     Euro|         9884.01|              Euro|             ACH|   1|      BIPARTITE|  33|                    999845.79|\n",
      "+----------------+-------+------------+--------+----------+---------+---------+----------------+------------------+----------------+----+---------------+----+-----------------------------+\n",
      "only showing top 20 rows\n",
      "\n"
     ]
    },
    {
     "name": "stderr",
     "output_type": "stream",
     "text": [
      "                                                                                \r"
     ]
    }
   ],
   "source": [
    "window_spec_max = Window.partitionBy(\"Suspicious_Type\").orderBy(F.desc(\"Amount\"))\n",
    "processed_df = processed_df.withColumn(\"Max_Amount_In_Suspicious_Type\", F.max(\"Amount\").over(window_spec_max))\n",
    "processed_df.show()"
   ]
  },
  {
   "cell_type": "code",
   "execution_count": null,
   "metadata": {},
   "outputs": [
    {
     "name": "stderr",
     "output_type": "stream",
     "text": [
      "25/02/03 19:24:53 WARN WindowExec: No Partition Defined for Window operation! Moving all data to a single partition, this can cause serious performance degradation.\n",
      "25/02/03 19:24:53 WARN WindowExec: No Partition Defined for Window operation! Moving all data to a single partition, this can cause serious performance degradation.\n",
      "25/02/03 19:24:53 WARN WindowExec: No Partition Defined for Window operation! Moving all data to a single partition, this can cause serious performance degradation.\n",
      "25/02/03 19:24:53 WARN WindowExec: No Partition Defined for Window operation! Moving all data to a single partition, this can cause serious performance degradation.\n",
      "[Stage 39:>                                                         (0 + 1) / 1]\r"
     ]
    },
    {
     "name": "stdout",
     "output_type": "stream",
     "text": [
      "+----------------+-------+------------+--------+----------+---------+---------+----------------+------------------+----------------+----+---------------+----+-----------------------------+---------------+\n",
      "|       Timestamp|From_ID|From_Account|   To_ID|To_Account|   Amount| Currency|Converted_Amount|Converted_Currency|Transaction_Type|Flag|Suspicious_Type|Rank|Max_Amount_In_Suspicious_Type|Amount_Category|\n",
      "+----------------+-------+------------+--------+----------+---------+---------+----------------+------------------+----------------+----+---------------+----+-----------------------------+---------------+\n",
      "|2022/09/16 15:13|   0113|   8000D8040|     005| 80EE7B9A0|999845.79|      Yen|       999845.79|               Yen|             ACH|   1|      BIPARTITE|   1|                    999845.79|          Large|\n",
      "|2022/09/04 12:03|    011|   8002CA100|   00544| 8003AB050|  9996.32|US Dollar|         9996.32|         US Dollar|             ACH|   1|      BIPARTITE|   1|                    999845.79|         Medium|\n",
      "|2022/09/09 04:32| 022819|   8035F8070|   00544| 8018C6640|   998.71|US Dollar|          998.71|         US Dollar|             ACH|   1|      BIPARTITE|   9|                    999845.79|          Small|\n",
      "|2022/09/12 01:33| 021617|   8009C00D0|  024527| 80BE242F0|   9977.4|     Euro|         9977.40|              Euro|             ACH|   1|      BIPARTITE|   7|                    999845.79|         Medium|\n",
      "|2022/09/05 09:35|0128919|   80F8EF3E0| 0121178| 8124D5D80|   997.88|     Euro|          997.88|              Euro|             ACH|   1|      BIPARTITE|  13|                    999845.79|          Small|\n",
      "|2022/09/03 12:31| 012883|   81CA6C870|  004563| 81C902390|  9969.68|US Dollar|         9969.68|         US Dollar|             ACH|   1|      BIPARTITE|  13|                    999845.79|         Medium|\n",
      "|2022/09/08 15:10| 022602|   80A9AD900|  005475| 8020FEEE0|  9962.64|     Euro|         9962.64|              Euro|             ACH|   1|      BIPARTITE|  16|                    999845.79|         Medium|\n",
      "|2022/09/08 16:02|0277486|   81D2E5DA0|  001488| 80184DB20|  9961.74|US Dollar|         9961.74|         US Dollar|             ACH|   1|      BIPARTITE|  18|                    999845.79|         Medium|\n",
      "|2022/09/12 12:18|0124323|   8222F2050|     026| 818938EC0|995910.27|    Ruble|       995910.27|             Ruble|             ACH|   1|      BIPARTITE|   5|                    999845.79|          Large|\n",
      "|2022/09/08 18:53|    001|   800401EE0|     021| 80069EA40| 99527.69|     Yuan|        99527.69|              Yuan|             ACH|   1|      BIPARTITE|   5|                    999845.79|          Large|\n",
      "|2022/09/10 15:43|0047750|   815C1E700|   00952| 805560DE0|  9949.63|US Dollar|         9949.63|         US Dollar|             ACH|   1|      BIPARTITE|  23|                    999845.79|         Medium|\n",
      "|2022/09/06 10:06|    020|   8004A13A0|   01208| 800118600|  9949.32|US Dollar|         9949.32|         US Dollar|             ACH|   1|      BIPARTITE|  24|                    999845.79|         Medium|\n",
      "|2022/09/10 06:47|    012|   800316770|   01818| 8004A1440|   994.77|US Dollar|          994.77|         US Dollar|             ACH|   1|      BIPARTITE|  29|                    999845.79|          Small|\n",
      "|2022/09/12 19:55|0128680|   81C9B6290| 0038633| 8215064A0|  9937.53|US Dollar|         9937.53|         US Dollar|             ACH|   1|      BIPARTITE|  30|                    999845.79|         Medium|\n",
      "|2022/09/07 12:04|  00214|   80011D160|     003| 800109F40|  9933.43|     Euro|         9933.43|              Euro|             ACH|   1|      BIPARTITE|  19|                    999845.79|         Medium|\n",
      "|2022/09/08 06:53|0183725|   828BBF620|00101871| 82F387BA0|  9917.67|     Euro|         9917.67|              Euro|             ACH|   1|      BIPARTITE|  25|                    999845.79|         Medium|\n",
      "|2022/09/15 05:34|0272896|   81BBEA160| 0272142| 81C393430|  9905.46|    Ruble|         9905.46|             Ruble|             ACH|   1|      BIPARTITE|   9|                    999845.79|         Medium|\n",
      "|2022/09/04 18:04|0020937|   816F35E10| 0083840| 824D3A370|  9896.09|US Dollar|         9896.09|         US Dollar|             ACH|   1|      BIPARTITE|  57|                    999845.79|         Medium|\n",
      "|2022/09/11 06:12| 003806|   802235570|  024878| 801F8CC60|  9895.76|US Dollar|         9895.76|         US Dollar|             ACH|   1|      BIPARTITE|  58|                    999845.79|         Medium|\n",
      "|2022/09/13 00:18|0048016|   813022280|  022257| 8031396C0|  9884.01|     Euro|         9884.01|              Euro|             ACH|   1|      BIPARTITE|  33|                    999845.79|         Medium|\n",
      "+----------------+-------+------------+--------+----------+---------+---------+----------------+------------------+----------------+----+---------------+----+-----------------------------+---------------+\n",
      "only showing top 20 rows\n",
      "\n"
     ]
    },
    {
     "name": "stderr",
     "output_type": "stream",
     "text": [
      "                                                                                \r"
     ]
    }
   ],
   "source": [
    "\n",
    "processed_df = processed_df.withColumn(\"Amount\", F.col(\"Amount\").cast(DoubleType()))\n",
    "\n",
    "def amount_category(amount):\n",
    "    if amount < 1000:\n",
    "        return \"Small\"\n",
    "    elif 1000 <= amount < 10000:\n",
    "        return \"Medium\"\n",
    "    else:\n",
    "        return \"Large\"\n",
    "\n",
    "udf_amount_category = F.udf(amount_category, StringType())\n",
    "\n",
    "processed_df = processed_df.withColumn(\"Amount_Category\", udf_amount_category(F.col(\"Amount\")))\n",
    "\n",
    "processed_df.show()"
   ]
  },
  {
   "cell_type": "code",
   "execution_count": null,
   "metadata": {},
   "outputs": [
    {
     "name": "stderr",
     "output_type": "stream",
     "text": [
      "25/02/03 19:24:56 WARN WindowExec: No Partition Defined for Window operation! Moving all data to a single partition, this can cause serious performance degradation.\n",
      "25/02/03 19:24:56 WARN WindowExec: No Partition Defined for Window operation! Moving all data to a single partition, this can cause serious performance degradation.\n",
      "25/02/03 19:24:56 WARN WindowExec: No Partition Defined for Window operation! Moving all data to a single partition, this can cause serious performance degradation.\n",
      "25/02/03 19:24:56 WARN WindowExec: No Partition Defined for Window operation! Moving all data to a single partition, this can cause serious performance degradation.\n"
     ]
    },
    {
     "name": "stdout",
     "output_type": "stream",
     "text": [
      "+----------------+-------+------------+--------+----------+---------+---------+----------------+------------------+----------------+----+---------------+----+-----------------------------+---------------+--------------------+\n",
      "|       Timestamp|From_ID|From_Account|   To_ID|To_Account|   Amount| Currency|Converted_Amount|Converted_Currency|Transaction_Type|Flag|Suspicious_Type|Rank|Max_Amount_In_Suspicious_Type|Amount_Category|Is_Large_Transaction|\n",
      "+----------------+-------+------------+--------+----------+---------+---------+----------------+------------------+----------------+----+---------------+----+-----------------------------+---------------+--------------------+\n",
      "|2022/09/16 15:13|   0113|   8000D8040|     005| 80EE7B9A0|999845.79|      Yen|       999845.79|               Yen|             ACH|   1|      BIPARTITE|   1|                    999845.79|          Large|                true|\n",
      "|2022/09/04 12:03|    011|   8002CA100|   00544| 8003AB050|  9996.32|US Dollar|         9996.32|         US Dollar|             ACH|   1|      BIPARTITE|   1|                    999845.79|         Medium|               false|\n",
      "|2022/09/09 04:32| 022819|   8035F8070|   00544| 8018C6640|   998.71|US Dollar|          998.71|         US Dollar|             ACH|   1|      BIPARTITE|   9|                    999845.79|          Small|               false|\n",
      "|2022/09/12 01:33| 021617|   8009C00D0|  024527| 80BE242F0|   9977.4|     Euro|         9977.40|              Euro|             ACH|   1|      BIPARTITE|   7|                    999845.79|         Medium|               false|\n",
      "|2022/09/05 09:35|0128919|   80F8EF3E0| 0121178| 8124D5D80|   997.88|     Euro|          997.88|              Euro|             ACH|   1|      BIPARTITE|  13|                    999845.79|          Small|               false|\n",
      "|2022/09/03 12:31| 012883|   81CA6C870|  004563| 81C902390|  9969.68|US Dollar|         9969.68|         US Dollar|             ACH|   1|      BIPARTITE|  13|                    999845.79|         Medium|               false|\n",
      "|2022/09/08 15:10| 022602|   80A9AD900|  005475| 8020FEEE0|  9962.64|     Euro|         9962.64|              Euro|             ACH|   1|      BIPARTITE|  16|                    999845.79|         Medium|               false|\n",
      "|2022/09/08 16:02|0277486|   81D2E5DA0|  001488| 80184DB20|  9961.74|US Dollar|         9961.74|         US Dollar|             ACH|   1|      BIPARTITE|  18|                    999845.79|         Medium|               false|\n",
      "|2022/09/12 12:18|0124323|   8222F2050|     026| 818938EC0|995910.27|    Ruble|       995910.27|             Ruble|             ACH|   1|      BIPARTITE|   5|                    999845.79|          Large|                true|\n",
      "|2022/09/08 18:53|    001|   800401EE0|     021| 80069EA40| 99527.69|     Yuan|        99527.69|              Yuan|             ACH|   1|      BIPARTITE|   5|                    999845.79|          Large|                true|\n",
      "|2022/09/10 15:43|0047750|   815C1E700|   00952| 805560DE0|  9949.63|US Dollar|         9949.63|         US Dollar|             ACH|   1|      BIPARTITE|  23|                    999845.79|         Medium|               false|\n",
      "|2022/09/06 10:06|    020|   8004A13A0|   01208| 800118600|  9949.32|US Dollar|         9949.32|         US Dollar|             ACH|   1|      BIPARTITE|  24|                    999845.79|         Medium|               false|\n",
      "|2022/09/10 06:47|    012|   800316770|   01818| 8004A1440|   994.77|US Dollar|          994.77|         US Dollar|             ACH|   1|      BIPARTITE|  29|                    999845.79|          Small|               false|\n",
      "|2022/09/12 19:55|0128680|   81C9B6290| 0038633| 8215064A0|  9937.53|US Dollar|         9937.53|         US Dollar|             ACH|   1|      BIPARTITE|  30|                    999845.79|         Medium|               false|\n",
      "|2022/09/07 12:04|  00214|   80011D160|     003| 800109F40|  9933.43|     Euro|         9933.43|              Euro|             ACH|   1|      BIPARTITE|  19|                    999845.79|         Medium|               false|\n",
      "|2022/09/08 06:53|0183725|   828BBF620|00101871| 82F387BA0|  9917.67|     Euro|         9917.67|              Euro|             ACH|   1|      BIPARTITE|  25|                    999845.79|         Medium|               false|\n",
      "|2022/09/15 05:34|0272896|   81BBEA160| 0272142| 81C393430|  9905.46|    Ruble|         9905.46|             Ruble|             ACH|   1|      BIPARTITE|   9|                    999845.79|         Medium|               false|\n",
      "|2022/09/04 18:04|0020937|   816F35E10| 0083840| 824D3A370|  9896.09|US Dollar|         9896.09|         US Dollar|             ACH|   1|      BIPARTITE|  57|                    999845.79|         Medium|               false|\n",
      "|2022/09/11 06:12| 003806|   802235570|  024878| 801F8CC60|  9895.76|US Dollar|         9895.76|         US Dollar|             ACH|   1|      BIPARTITE|  58|                    999845.79|         Medium|               false|\n",
      "|2022/09/13 00:18|0048016|   813022280|  022257| 8031396C0|  9884.01|     Euro|         9884.01|              Euro|             ACH|   1|      BIPARTITE|  33|                    999845.79|         Medium|               false|\n",
      "+----------------+-------+------------+--------+----------+---------+---------+----------------+------------------+----------------+----+---------------+----+-----------------------------+---------------+--------------------+\n",
      "only showing top 20 rows\n",
      "\n"
     ]
    }
   ],
   "source": [
    "def is_large_transaction(amount):\n",
    "    return amount > 10000\n",
    "\n",
    "udf_is_large_transaction = F.udf(is_large_transaction, BooleanType())\n",
    "processed_df = processed_df.withColumn(\"Is_Large_Transaction\", udf_is_large_transaction(F.col(\"Amount\")))\n",
    "processed_df.show()"
   ]
  },
  {
   "cell_type": "code",
   "execution_count": null,
   "metadata": {},
   "outputs": [
    {
     "name": "stderr",
     "output_type": "stream",
     "text": [
      "25/02/03 19:25:04 WARN WindowExec: No Partition Defined for Window operation! Moving all data to a single partition, this can cause serious performance degradation.\n",
      "25/02/03 19:25:04 WARN WindowExec: No Partition Defined for Window operation! Moving all data to a single partition, this can cause serious performance degradation.\n",
      "25/02/03 19:25:04 WARN WindowExec: No Partition Defined for Window operation! Moving all data to a single partition, this can cause serious performance degradation.\n",
      "25/02/03 19:25:04 WARN WindowExec: No Partition Defined for Window operation! Moving all data to a single partition, this can cause serious performance degradation.\n",
      "[Stage 45:>                                                         (0 + 1) / 1]\r"
     ]
    },
    {
     "name": "stdout",
     "output_type": "stream",
     "text": [
      "+----------------+-------+------------+--------+----------+---------+---------+----------------+------------------+----------------+----+---------------+----+-----------------------------+---------------+--------------------+----+----+\n",
      "|       Timestamp|From_ID|From_Account|   To_ID|To_Account|   Amount| Currency|Converted_Amount|Converted_Currency|Transaction_Type|Flag|Suspicious_Type|Rank|Max_Amount_In_Suspicious_Type|Amount_Category|Is_Large_Transaction|Date|Time|\n",
      "+----------------+-------+------------+--------+----------+---------+---------+----------------+------------------+----------------+----+---------------+----+-----------------------------+---------------+--------------------+----+----+\n",
      "|2022/09/16 15:13|   0113|   8000D8040|     005| 80EE7B9A0|999845.79|      Yen|       999845.79|               Yen|             ACH|   1|      BIPARTITE|   1|                    999845.79|          Large|                true|NULL|NULL|\n",
      "|2022/09/04 12:03|    011|   8002CA100|   00544| 8003AB050|  9996.32|US Dollar|         9996.32|         US Dollar|             ACH|   1|      BIPARTITE|   1|                    999845.79|         Medium|               false|NULL|NULL|\n",
      "|2022/09/09 04:32| 022819|   8035F8070|   00544| 8018C6640|   998.71|US Dollar|          998.71|         US Dollar|             ACH|   1|      BIPARTITE|   9|                    999845.79|          Small|               false|NULL|NULL|\n",
      "|2022/09/12 01:33| 021617|   8009C00D0|  024527| 80BE242F0|   9977.4|     Euro|         9977.40|              Euro|             ACH|   1|      BIPARTITE|   7|                    999845.79|         Medium|               false|NULL|NULL|\n",
      "|2022/09/05 09:35|0128919|   80F8EF3E0| 0121178| 8124D5D80|   997.88|     Euro|          997.88|              Euro|             ACH|   1|      BIPARTITE|  13|                    999845.79|          Small|               false|NULL|NULL|\n",
      "|2022/09/03 12:31| 012883|   81CA6C870|  004563| 81C902390|  9969.68|US Dollar|         9969.68|         US Dollar|             ACH|   1|      BIPARTITE|  13|                    999845.79|         Medium|               false|NULL|NULL|\n",
      "|2022/09/08 15:10| 022602|   80A9AD900|  005475| 8020FEEE0|  9962.64|     Euro|         9962.64|              Euro|             ACH|   1|      BIPARTITE|  16|                    999845.79|         Medium|               false|NULL|NULL|\n",
      "|2022/09/08 16:02|0277486|   81D2E5DA0|  001488| 80184DB20|  9961.74|US Dollar|         9961.74|         US Dollar|             ACH|   1|      BIPARTITE|  18|                    999845.79|         Medium|               false|NULL|NULL|\n",
      "|2022/09/12 12:18|0124323|   8222F2050|     026| 818938EC0|995910.27|    Ruble|       995910.27|             Ruble|             ACH|   1|      BIPARTITE|   5|                    999845.79|          Large|                true|NULL|NULL|\n",
      "|2022/09/08 18:53|    001|   800401EE0|     021| 80069EA40| 99527.69|     Yuan|        99527.69|              Yuan|             ACH|   1|      BIPARTITE|   5|                    999845.79|          Large|                true|NULL|NULL|\n",
      "|2022/09/10 15:43|0047750|   815C1E700|   00952| 805560DE0|  9949.63|US Dollar|         9949.63|         US Dollar|             ACH|   1|      BIPARTITE|  23|                    999845.79|         Medium|               false|NULL|NULL|\n",
      "|2022/09/06 10:06|    020|   8004A13A0|   01208| 800118600|  9949.32|US Dollar|         9949.32|         US Dollar|             ACH|   1|      BIPARTITE|  24|                    999845.79|         Medium|               false|NULL|NULL|\n",
      "|2022/09/10 06:47|    012|   800316770|   01818| 8004A1440|   994.77|US Dollar|          994.77|         US Dollar|             ACH|   1|      BIPARTITE|  29|                    999845.79|          Small|               false|NULL|NULL|\n",
      "|2022/09/12 19:55|0128680|   81C9B6290| 0038633| 8215064A0|  9937.53|US Dollar|         9937.53|         US Dollar|             ACH|   1|      BIPARTITE|  30|                    999845.79|         Medium|               false|NULL|NULL|\n",
      "|2022/09/07 12:04|  00214|   80011D160|     003| 800109F40|  9933.43|     Euro|         9933.43|              Euro|             ACH|   1|      BIPARTITE|  19|                    999845.79|         Medium|               false|NULL|NULL|\n",
      "|2022/09/08 06:53|0183725|   828BBF620|00101871| 82F387BA0|  9917.67|     Euro|         9917.67|              Euro|             ACH|   1|      BIPARTITE|  25|                    999845.79|         Medium|               false|NULL|NULL|\n",
      "|2022/09/15 05:34|0272896|   81BBEA160| 0272142| 81C393430|  9905.46|    Ruble|         9905.46|             Ruble|             ACH|   1|      BIPARTITE|   9|                    999845.79|         Medium|               false|NULL|NULL|\n",
      "|2022/09/04 18:04|0020937|   816F35E10| 0083840| 824D3A370|  9896.09|US Dollar|         9896.09|         US Dollar|             ACH|   1|      BIPARTITE|  57|                    999845.79|         Medium|               false|NULL|NULL|\n",
      "|2022/09/11 06:12| 003806|   802235570|  024878| 801F8CC60|  9895.76|US Dollar|         9895.76|         US Dollar|             ACH|   1|      BIPARTITE|  58|                    999845.79|         Medium|               false|NULL|NULL|\n",
      "|2022/09/13 00:18|0048016|   813022280|  022257| 8031396C0|  9884.01|     Euro|         9884.01|              Euro|             ACH|   1|      BIPARTITE|  33|                    999845.79|         Medium|               false|NULL|NULL|\n",
      "+----------------+-------+------------+--------+----------+---------+---------+----------------+------------------+----------------+----+---------------+----+-----------------------------+---------------+--------------------+----+----+\n",
      "only showing top 20 rows\n",
      "\n"
     ]
    },
    {
     "name": "stderr",
     "output_type": "stream",
     "text": [
      "                                                                                \r"
     ]
    }
   ],
   "source": [
    "processed_df = processed_df.withColumn(\"Date\", F.to_date(F.col(\"Timestamp\")))\n",
    "processed_df = processed_df.withColumn(\"Time\", F.date_format(F.col(\"Timestamp\"), \"HH:mm:ss\"))\n",
    "processed_df.show()"
   ]
  },
  {
   "cell_type": "code",
   "execution_count": null,
   "metadata": {},
   "outputs": [
    {
     "name": "stderr",
     "output_type": "stream",
     "text": [
      "25/02/03 19:25:13 WARN WindowExec: No Partition Defined for Window operation! Moving all data to a single partition, this can cause serious performance degradation.\n",
      "25/02/03 19:25:13 WARN WindowExec: No Partition Defined for Window operation! Moving all data to a single partition, this can cause serious performance degradation.\n",
      "25/02/03 19:25:13 WARN WindowExec: No Partition Defined for Window operation! Moving all data to a single partition, this can cause serious performance degradation.\n",
      "25/02/03 19:25:13 WARN WindowExec: No Partition Defined for Window operation! Moving all data to a single partition, this can cause serious performance degradation.\n"
     ]
    },
    {
     "name": "stdout",
     "output_type": "stream",
     "text": [
      "+----------------+-------+------------+--------+----------+---------+---------+----------------+------------------+----------------+----+---------------+----+-----------------------------+---------------+--------------------+----+----+----+-----+----+\n",
      "|       Timestamp|From_ID|From_Account|   To_ID|To_Account|   Amount| Currency|Converted_Amount|Converted_Currency|Transaction_Type|Flag|Suspicious_Type|Rank|Max_Amount_In_Suspicious_Type|Amount_Category|Is_Large_Transaction|Date|Time|Year|Month| Day|\n",
      "+----------------+-------+------------+--------+----------+---------+---------+----------------+------------------+----------------+----+---------------+----+-----------------------------+---------------+--------------------+----+----+----+-----+----+\n",
      "|2022/09/16 15:13|   0113|   8000D8040|     005| 80EE7B9A0|999845.79|      Yen|       999845.79|               Yen|             ACH|   1|      BIPARTITE|   1|                    999845.79|          Large|                true|NULL|NULL|NULL| NULL|NULL|\n",
      "|2022/09/04 12:03|    011|   8002CA100|   00544| 8003AB050|  9996.32|US Dollar|         9996.32|         US Dollar|             ACH|   1|      BIPARTITE|   1|                    999845.79|         Medium|               false|NULL|NULL|NULL| NULL|NULL|\n",
      "|2022/09/09 04:32| 022819|   8035F8070|   00544| 8018C6640|   998.71|US Dollar|          998.71|         US Dollar|             ACH|   1|      BIPARTITE|   9|                    999845.79|          Small|               false|NULL|NULL|NULL| NULL|NULL|\n",
      "|2022/09/12 01:33| 021617|   8009C00D0|  024527| 80BE242F0|   9977.4|     Euro|         9977.40|              Euro|             ACH|   1|      BIPARTITE|   7|                    999845.79|         Medium|               false|NULL|NULL|NULL| NULL|NULL|\n",
      "|2022/09/05 09:35|0128919|   80F8EF3E0| 0121178| 8124D5D80|   997.88|     Euro|          997.88|              Euro|             ACH|   1|      BIPARTITE|  13|                    999845.79|          Small|               false|NULL|NULL|NULL| NULL|NULL|\n",
      "|2022/09/03 12:31| 012883|   81CA6C870|  004563| 81C902390|  9969.68|US Dollar|         9969.68|         US Dollar|             ACH|   1|      BIPARTITE|  13|                    999845.79|         Medium|               false|NULL|NULL|NULL| NULL|NULL|\n",
      "|2022/09/08 15:10| 022602|   80A9AD900|  005475| 8020FEEE0|  9962.64|     Euro|         9962.64|              Euro|             ACH|   1|      BIPARTITE|  16|                    999845.79|         Medium|               false|NULL|NULL|NULL| NULL|NULL|\n",
      "|2022/09/08 16:02|0277486|   81D2E5DA0|  001488| 80184DB20|  9961.74|US Dollar|         9961.74|         US Dollar|             ACH|   1|      BIPARTITE|  18|                    999845.79|         Medium|               false|NULL|NULL|NULL| NULL|NULL|\n",
      "|2022/09/12 12:18|0124323|   8222F2050|     026| 818938EC0|995910.27|    Ruble|       995910.27|             Ruble|             ACH|   1|      BIPARTITE|   5|                    999845.79|          Large|                true|NULL|NULL|NULL| NULL|NULL|\n",
      "|2022/09/08 18:53|    001|   800401EE0|     021| 80069EA40| 99527.69|     Yuan|        99527.69|              Yuan|             ACH|   1|      BIPARTITE|   5|                    999845.79|          Large|                true|NULL|NULL|NULL| NULL|NULL|\n",
      "|2022/09/10 15:43|0047750|   815C1E700|   00952| 805560DE0|  9949.63|US Dollar|         9949.63|         US Dollar|             ACH|   1|      BIPARTITE|  23|                    999845.79|         Medium|               false|NULL|NULL|NULL| NULL|NULL|\n",
      "|2022/09/06 10:06|    020|   8004A13A0|   01208| 800118600|  9949.32|US Dollar|         9949.32|         US Dollar|             ACH|   1|      BIPARTITE|  24|                    999845.79|         Medium|               false|NULL|NULL|NULL| NULL|NULL|\n",
      "|2022/09/10 06:47|    012|   800316770|   01818| 8004A1440|   994.77|US Dollar|          994.77|         US Dollar|             ACH|   1|      BIPARTITE|  29|                    999845.79|          Small|               false|NULL|NULL|NULL| NULL|NULL|\n",
      "|2022/09/12 19:55|0128680|   81C9B6290| 0038633| 8215064A0|  9937.53|US Dollar|         9937.53|         US Dollar|             ACH|   1|      BIPARTITE|  30|                    999845.79|         Medium|               false|NULL|NULL|NULL| NULL|NULL|\n",
      "|2022/09/07 12:04|  00214|   80011D160|     003| 800109F40|  9933.43|     Euro|         9933.43|              Euro|             ACH|   1|      BIPARTITE|  19|                    999845.79|         Medium|               false|NULL|NULL|NULL| NULL|NULL|\n",
      "|2022/09/08 06:53|0183725|   828BBF620|00101871| 82F387BA0|  9917.67|     Euro|         9917.67|              Euro|             ACH|   1|      BIPARTITE|  25|                    999845.79|         Medium|               false|NULL|NULL|NULL| NULL|NULL|\n",
      "|2022/09/15 05:34|0272896|   81BBEA160| 0272142| 81C393430|  9905.46|    Ruble|         9905.46|             Ruble|             ACH|   1|      BIPARTITE|   9|                    999845.79|         Medium|               false|NULL|NULL|NULL| NULL|NULL|\n",
      "|2022/09/04 18:04|0020937|   816F35E10| 0083840| 824D3A370|  9896.09|US Dollar|         9896.09|         US Dollar|             ACH|   1|      BIPARTITE|  57|                    999845.79|         Medium|               false|NULL|NULL|NULL| NULL|NULL|\n",
      "|2022/09/11 06:12| 003806|   802235570|  024878| 801F8CC60|  9895.76|US Dollar|         9895.76|         US Dollar|             ACH|   1|      BIPARTITE|  58|                    999845.79|         Medium|               false|NULL|NULL|NULL| NULL|NULL|\n",
      "|2022/09/13 00:18|0048016|   813022280|  022257| 8031396C0|  9884.01|     Euro|         9884.01|              Euro|             ACH|   1|      BIPARTITE|  33|                    999845.79|         Medium|               false|NULL|NULL|NULL| NULL|NULL|\n",
      "+----------------+-------+------------+--------+----------+---------+---------+----------------+------------------+----------------+----+---------------+----+-----------------------------+---------------+--------------------+----+----+----+-----+----+\n",
      "only showing top 20 rows\n",
      "\n"
     ]
    },
    {
     "name": "stderr",
     "output_type": "stream",
     "text": [
      "                                                                                \r"
     ]
    }
   ],
   "source": [
    "processed_df = processed_df.withColumn(\"Year\", F.year(F.col(\"Timestamp\")))\n",
    "processed_df = processed_df.withColumn(\"Month\", F.month(F.col(\"Timestamp\")))\n",
    "processed_df = processed_df.withColumn(\"Day\", F.dayofmonth(F.col(\"Timestamp\")))\n",
    "\n",
    "processed_df.show()\n"
   ]
  },
  {
   "cell_type": "code",
   "execution_count": null,
   "metadata": {},
   "outputs": [
    {
     "name": "stdout",
     "output_type": "stream",
     "text": [
      "root\n",
      " |-- Timestamp: timestamp (nullable = true)\n",
      " |-- From_ID: string (nullable = true)\n",
      " |-- From_Account: string (nullable = true)\n",
      " |-- To_ID: string (nullable = true)\n",
      " |-- To_Account: string (nullable = true)\n",
      " |-- Amount: double (nullable = true)\n",
      " |-- Currency: string (nullable = true)\n",
      " |-- Converted_Amount: string (nullable = true)\n",
      " |-- Converted_Currency: string (nullable = true)\n",
      " |-- Transaction_Type: string (nullable = true)\n",
      " |-- Flag: string (nullable = true)\n",
      " |-- Suspicious_Type: string (nullable = true)\n",
      " |-- Rank: integer (nullable = false)\n",
      " |-- Max_Amount_In_Suspicious_Type: string (nullable = true)\n",
      " |-- Amount_Category: string (nullable = true)\n",
      " |-- Is_Large_Transaction: boolean (nullable = true)\n",
      " |-- Date: date (nullable = true)\n",
      " |-- Time: string (nullable = true)\n",
      " |-- Year: integer (nullable = true)\n",
      " |-- Month: integer (nullable = true)\n",
      " |-- Day: integer (nullable = true)\n",
      "\n"
     ]
    }
   ],
   "source": [
    "processed_df = processed_df.withColumn(\"Timestamp\", F.to_timestamp(F.col(\"Timestamp\"), \"yyyy/MM/dd HH:mm\"))\n",
    "processed_df.printSchema()"
   ]
  },
  {
   "cell_type": "code",
   "execution_count": null,
   "metadata": {},
   "outputs": [],
   "source": [
    "processed_df = processed_df.withColumn(\"Date\", F.to_date(F.col(\"Timestamp\")))\n",
    "\n",
    "processed_df = processed_df.withColumn(\"Time\", F.date_format(F.col(\"Timestamp\"), \"HH:mm:ss\"))\n",
    "\n",
    "processed_df = processed_df.withColumn(\"Year\", F.year(F.col(\"Timestamp\")))\n",
    "processed_df = processed_df.withColumn(\"Month\", F.month(F.col(\"Timestamp\")))\n",
    "processed_df = processed_df.withColumn(\"Day\", F.dayofmonth(F.col(\"Timestamp\")))"
   ]
  },
  {
   "cell_type": "code",
   "execution_count": null,
   "metadata": {},
   "outputs": [
    {
     "name": "stderr",
     "output_type": "stream",
     "text": [
      "25/02/03 19:25:26 WARN WindowExec: No Partition Defined for Window operation! Moving all data to a single partition, this can cause serious performance degradation.\n",
      "25/02/03 19:25:26 WARN WindowExec: No Partition Defined for Window operation! Moving all data to a single partition, this can cause serious performance degradation.\n",
      "25/02/03 19:25:26 WARN WindowExec: No Partition Defined for Window operation! Moving all data to a single partition, this can cause serious performance degradation.\n",
      "25/02/03 19:25:26 WARN WindowExec: No Partition Defined for Window operation! Moving all data to a single partition, this can cause serious performance degradation.\n",
      "[Stage 51:>                                                         (0 + 1) / 1]\r"
     ]
    },
    {
     "name": "stdout",
     "output_type": "stream",
     "text": [
      "+-------------------+-------+------------+--------+----------+---------+---------+----------------+------------------+----------------+----+---------------+----+-----------------------------+---------------+--------------------+----------+--------+----+-----+---+\n",
      "|          Timestamp|From_ID|From_Account|   To_ID|To_Account|   Amount| Currency|Converted_Amount|Converted_Currency|Transaction_Type|Flag|Suspicious_Type|Rank|Max_Amount_In_Suspicious_Type|Amount_Category|Is_Large_Transaction|      Date|    Time|Year|Month|Day|\n",
      "+-------------------+-------+------------+--------+----------+---------+---------+----------------+------------------+----------------+----+---------------+----+-----------------------------+---------------+--------------------+----------+--------+----+-----+---+\n",
      "|2022-09-16 15:13:00|   0113|   8000D8040|     005| 80EE7B9A0|999845.79|      Yen|       999845.79|               Yen|             ACH|   1|      BIPARTITE|   1|                    999845.79|          Large|                true|2022-09-16|15:13:00|2022|    9| 16|\n",
      "|2022-09-04 12:03:00|    011|   8002CA100|   00544| 8003AB050|  9996.32|US Dollar|         9996.32|         US Dollar|             ACH|   1|      BIPARTITE|   1|                    999845.79|         Medium|               false|2022-09-04|12:03:00|2022|    9|  4|\n",
      "|2022-09-09 04:32:00| 022819|   8035F8070|   00544| 8018C6640|   998.71|US Dollar|          998.71|         US Dollar|             ACH|   1|      BIPARTITE|   9|                    999845.79|          Small|               false|2022-09-09|04:32:00|2022|    9|  9|\n",
      "|2022-09-12 01:33:00| 021617|   8009C00D0|  024527| 80BE242F0|   9977.4|     Euro|         9977.40|              Euro|             ACH|   1|      BIPARTITE|   7|                    999845.79|         Medium|               false|2022-09-12|01:33:00|2022|    9| 12|\n",
      "|2022-09-05 09:35:00|0128919|   80F8EF3E0| 0121178| 8124D5D80|   997.88|     Euro|          997.88|              Euro|             ACH|   1|      BIPARTITE|  13|                    999845.79|          Small|               false|2022-09-05|09:35:00|2022|    9|  5|\n",
      "|2022-09-03 12:31:00| 012883|   81CA6C870|  004563| 81C902390|  9969.68|US Dollar|         9969.68|         US Dollar|             ACH|   1|      BIPARTITE|  13|                    999845.79|         Medium|               false|2022-09-03|12:31:00|2022|    9|  3|\n",
      "|2022-09-08 15:10:00| 022602|   80A9AD900|  005475| 8020FEEE0|  9962.64|     Euro|         9962.64|              Euro|             ACH|   1|      BIPARTITE|  16|                    999845.79|         Medium|               false|2022-09-08|15:10:00|2022|    9|  8|\n",
      "|2022-09-08 16:02:00|0277486|   81D2E5DA0|  001488| 80184DB20|  9961.74|US Dollar|         9961.74|         US Dollar|             ACH|   1|      BIPARTITE|  18|                    999845.79|         Medium|               false|2022-09-08|16:02:00|2022|    9|  8|\n",
      "|2022-09-12 12:18:00|0124323|   8222F2050|     026| 818938EC0|995910.27|    Ruble|       995910.27|             Ruble|             ACH|   1|      BIPARTITE|   5|                    999845.79|          Large|                true|2022-09-12|12:18:00|2022|    9| 12|\n",
      "|2022-09-08 18:53:00|    001|   800401EE0|     021| 80069EA40| 99527.69|     Yuan|        99527.69|              Yuan|             ACH|   1|      BIPARTITE|   5|                    999845.79|          Large|                true|2022-09-08|18:53:00|2022|    9|  8|\n",
      "|2022-09-10 15:43:00|0047750|   815C1E700|   00952| 805560DE0|  9949.63|US Dollar|         9949.63|         US Dollar|             ACH|   1|      BIPARTITE|  23|                    999845.79|         Medium|               false|2022-09-10|15:43:00|2022|    9| 10|\n",
      "|2022-09-06 10:06:00|    020|   8004A13A0|   01208| 800118600|  9949.32|US Dollar|         9949.32|         US Dollar|             ACH|   1|      BIPARTITE|  24|                    999845.79|         Medium|               false|2022-09-06|10:06:00|2022|    9|  6|\n",
      "|2022-09-10 06:47:00|    012|   800316770|   01818| 8004A1440|   994.77|US Dollar|          994.77|         US Dollar|             ACH|   1|      BIPARTITE|  29|                    999845.79|          Small|               false|2022-09-10|06:47:00|2022|    9| 10|\n",
      "|2022-09-12 19:55:00|0128680|   81C9B6290| 0038633| 8215064A0|  9937.53|US Dollar|         9937.53|         US Dollar|             ACH|   1|      BIPARTITE|  30|                    999845.79|         Medium|               false|2022-09-12|19:55:00|2022|    9| 12|\n",
      "|2022-09-07 12:04:00|  00214|   80011D160|     003| 800109F40|  9933.43|     Euro|         9933.43|              Euro|             ACH|   1|      BIPARTITE|  19|                    999845.79|         Medium|               false|2022-09-07|12:04:00|2022|    9|  7|\n",
      "|2022-09-08 06:53:00|0183725|   828BBF620|00101871| 82F387BA0|  9917.67|     Euro|         9917.67|              Euro|             ACH|   1|      BIPARTITE|  25|                    999845.79|         Medium|               false|2022-09-08|06:53:00|2022|    9|  8|\n",
      "|2022-09-15 05:34:00|0272896|   81BBEA160| 0272142| 81C393430|  9905.46|    Ruble|         9905.46|             Ruble|             ACH|   1|      BIPARTITE|   9|                    999845.79|         Medium|               false|2022-09-15|05:34:00|2022|    9| 15|\n",
      "|2022-09-04 18:04:00|0020937|   816F35E10| 0083840| 824D3A370|  9896.09|US Dollar|         9896.09|         US Dollar|             ACH|   1|      BIPARTITE|  57|                    999845.79|         Medium|               false|2022-09-04|18:04:00|2022|    9|  4|\n",
      "|2022-09-11 06:12:00| 003806|   802235570|  024878| 801F8CC60|  9895.76|US Dollar|         9895.76|         US Dollar|             ACH|   1|      BIPARTITE|  58|                    999845.79|         Medium|               false|2022-09-11|06:12:00|2022|    9| 11|\n",
      "|2022-09-13 00:18:00|0048016|   813022280|  022257| 8031396C0|  9884.01|     Euro|         9884.01|              Euro|             ACH|   1|      BIPARTITE|  33|                    999845.79|         Medium|               false|2022-09-13|00:18:00|2022|    9| 13|\n",
      "+-------------------+-------+------------+--------+----------+---------+---------+----------------+------------------+----------------+----+---------------+----+-----------------------------+---------------+--------------------+----------+--------+----+-----+---+\n",
      "only showing top 20 rows\n",
      "\n"
     ]
    },
    {
     "name": "stderr",
     "output_type": "stream",
     "text": [
      "                                                                                \r"
     ]
    }
   ],
   "source": [
    "processed_df.show()"
   ]
  },
  {
   "cell_type": "code",
   "execution_count": null,
   "metadata": {},
   "outputs": [
    {
     "name": "stdout",
     "output_type": "stream",
     "text": [
      "+----------------+-------+------------+-------+----------+---------+---------+----------------+------------------+----------------+----+\n",
      "|Timestamp       |From_ID|From_Account|To_ID  |To_Account|Amount   |Currency |Converted_Amount|Converted_Currency|Transaction_Type|Flag|\n",
      "+----------------+-------+------------+-------+----------+---------+---------+----------------+------------------+----------------+----+\n",
      "|2022/09/01 05:14|00952  |8139F54E0   |0111632|8062C56E0 |5331.44  |US Dollar|5331.44         |US Dollar         |ACH             |1   |\n",
      "|2022/09/03 13:09|0111632|8062C56E0   |008456 |81363F620 |5602.59  |US Dollar|5602.59         |US Dollar         |ACH             |1   |\n",
      "|2022/09/01 07:40|0118693|823D5EB90   |013729 |801CF2E60 |1400.54  |US Dollar|1400.54         |US Dollar         |ACH             |1   |\n",
      "|2022/09/01 14:19|013729 |801CF2E60   |0123621|81A7090F0 |1467.94  |US Dollar|1467.94         |US Dollar         |ACH             |1   |\n",
      "|2022/09/02 12:40|0024750|81363F410   |0213834|808757B00 |16898.29 |US Dollar|16898.29        |US Dollar         |ACH             |1   |\n",
      "|2022/09/03 06:34|0213834|808757B00   |000    |800073EF0 |17607.19 |US Dollar|17607.19        |US Dollar         |ACH             |1   |\n",
      "|2022/09/01 00:19|0134266|814167590   |0036925|810E343A0 |132713.46|Yuan     |132713.46       |Yuan              |ACH             |1   |\n",
      "|2022/09/01 19:35|0036925|810E343A0   |0119211|814AB4F60 |18264.20 |US Dollar|18264.20        |US Dollar         |ACH             |1   |\n",
      "|2022/09/02 02:58|0119211|814AB4F60   |0132965|81B88A230 |14567.69 |Euro     |14567.69        |Euro              |ACH             |1   |\n",
      "|2022/09/02 18:02|0132965|81B88A230   |0137089|810C71940 |114329.26|Yuan     |114329.26       |Yuan              |ACH             |1   |\n",
      "|2022/09/03 07:16|0137089|810C71940   |0216618|81D5302D0 |14567.69 |Euro     |14567.69        |Euro              |ACH             |1   |\n",
      "|2022/09/03 11:39|0216618|81D5302D0   |0024083|81836B520 |13629.75 |Euro     |13629.75        |Euro              |ACH             |1   |\n",
      "|2022/09/03 12:04|0024083|81836B520   |0038110|81B868730 |97481.96 |Yuan     |97481.96        |Yuan              |ACH             |1   |\n",
      "|2022/09/04 07:27|0038110|81B868730   |0225015|81C6EA460 |14054.71 |US Dollar|14054.71        |US Dollar         |ACH             |1   |\n",
      "|2022/09/04 08:38|0225015|81C6EA460   |018112 |8045CC910 |13718.22 |US Dollar|13718.22        |US Dollar         |ACH             |1   |\n",
      "+----------------+-------+------------+-------+----------+---------+---------+----------------+------------------+----------------+----+\n",
      "only showing top 15 rows\n",
      "\n"
     ]
    }
   ],
   "source": [
    "from pyspark.sql.functions import split, col\n",
    "\n",
    "\n",
    "split_df = df.withColumn(\"split_values\", split(col(\"value\"), \",\"))\n",
    "\n",
    "processed_df = split_df.select(\n",
    "    col(\"split_values\").getItem(0).alias(\"Timestamp\"),\n",
    "    col(\"split_values\").getItem(1).alias(\"From_ID\"),\n",
    "    col(\"split_values\").getItem(2).alias(\"From_Account\"),\n",
    "    col(\"split_values\").getItem(3).alias(\"To_ID\"),\n",
    "    col(\"split_values\").getItem(4).alias(\"To_Account\"),\n",
    "    col(\"split_values\").getItem(5).alias(\"Amount\"),\n",
    "    col(\"split_values\").getItem(6).alias(\"Currency\"),\n",
    "    col(\"split_values\").getItem(7).alias(\"Converted_Amount\"),\n",
    "    col(\"split_values\").getItem(8).alias(\"Converted_Currency\"),\n",
    "    col(\"split_values\").getItem(9).alias(\"Transaction_Type\"),\n",
    "    col(\"split_values\").getItem(10).alias(\"Flag\")\n",
    ")\n",
    "processed_df = processed_df.filter(col(\"Timestamp\").rlike(r\"\\d{4}/\\d{2}/\\d{2} \\d{2}:\\d{2}\"))\n",
    "\n",
    "processed_df.show(15, truncate=False)"
   ]
  },
  {
   "cell_type": "code",
   "execution_count": null,
   "metadata": {},
   "outputs": [
    {
     "name": "stderr",
     "output_type": "stream",
     "text": [
      "25/02/01 22:37:10 WARN SparkSession: Using an existing Spark session; only runtime SQL configurations will take effect.\n"
     ]
    },
    {
     "name": "stdout",
     "output_type": "stream",
     "text": [
      "+-----------------+--------------------+--------------------+-----------------+\n",
      "|         Currency|        Total_Amount|      Average_Amount|Transaction_Count|\n",
      "+-----------------+--------------------+--------------------+-----------------+\n",
      "|              Yen|1.242312435171999...|1.5168650002100117E9|              819|\n",
      "|         UK Pound|      7.3326693163E8|   581035.6035103011|             1262|\n",
      "|Australian Dollar|4.1358344824000007E8|  1212854.6869208212|              341|\n",
      "|      Saudi Riyal|  372465.44000000006|   46558.18000000001|                8|\n",
      "|     Mexican Peso|           953579.44|           238394.86|                4|\n",
      "|           Shekel| 2.705172844310001E9|2.3729586353596497E7|              114|\n",
      "|             Yuan|2.191043557284299...|1.1642101792158872E8|             1882|\n",
      "|  Canadian Dollar|2.5041100439000005E8|  1775964.5701418442|              141|\n",
      "|             Euro|1.305416974135001...|  1921992.0113883999|             6792|\n",
      "|            Rupee|      5.0259031931E9|   9104897.088949276|              552|\n",
      "|      Swiss Franc|            18735.84|             4683.96|                4|\n",
      "|        US Dollar|2.669610893167986E10|   2748209.690310877|             9714|\n",
      "|      Brazil Real|      3.1150056855E8|     1.55750284275E7|               20|\n",
      "|          Bitcoin|            3.625899|            1.208633|                3|\n",
      "|            Ruble|1.567876827529301...| 1.442388985767527E8|             1087|\n",
      "+-----------------+--------------------+--------------------+-----------------+\n",
      "\n"
     ]
    }
   ],
   "source": [
    "spark = SparkSession.builder.appName(\"TransactionAnalysis\").getOrCreate()\n",
    "\n",
    "grouped_df = processed_df.groupBy(\"Currency\").agg(\n",
    "    sum(\"Amount\").alias(\"Total_Amount\"),\n",
    "    avg(\"Amount\").alias(\"Average_Amount\"),\n",
    "    count(\"Amount\").alias(\"Transaction_Count\")\n",
    ")\n",
    "\n",
    "\n",
    "grouped_df.show()"
   ]
  },
  {
   "cell_type": "code",
   "execution_count": null,
   "metadata": {},
   "outputs": [
    {
     "name": "stdout",
     "output_type": "stream",
     "text": [
      "+----------------+--------+------------+--------+----------+------------+-----------------+----------------+------------------+----------------+----+----------+----+----------+\n",
      "|       Timestamp| From_ID|From_Account|   To_ID|To_Account|      Amount|         Currency|Converted_Amount|Converted_Currency|Transaction_Type|Flag|row_number|rank|dense_rank|\n",
      "+----------------+--------+------------+--------+----------+------------+-----------------+----------------+------------------+----------------+----+----------+----+----------+\n",
      "|2022/09/04 02:04|01136230|   833638190|01125022| 833638230|     1005.71|Australian Dollar|         1005.71| Australian Dollar|             ACH|   1|         1|   1|         1|\n",
      "|2022/09/08 02:45|02126306|   83000CE40|01125491| 83000DC40|    10089.17|Australian Dollar|        10089.17| Australian Dollar|             ACH|   1|         2|   2|         2|\n",
      "|2022/09/12 03:18| 0239197|   83000D0D0|02129461| 83000DC90|    10113.08|Australian Dollar|        10113.08| Australian Dollar|             ACH|   1|         3|   3|         3|\n",
      "|2022/09/14 09:05| 0239197|   83000D0D0|     029| 82DD77190|    10160.18|Australian Dollar|        10160.18| Australian Dollar|             ACH|   1|         4|   4|         4|\n",
      "|2022/09/16 19:03|01124433|   82DC75330|     029| 8000C7720|    10184.47|Australian Dollar|        10184.47| Australian Dollar|             ACH|   1|         5|   5|         5|\n",
      "|2022/09/10 19:29|    0110|   82E6C08C0|02129145| 83000CEE0|    10403.84|Australian Dollar|        10403.84| Australian Dollar|             ACH|   1|         6|   6|         6|\n",
      "|2022/09/13 16:59| 0239197|   83000D0D0|02127147| 83000CAC0|    10441.70|Australian Dollar|        10441.70| Australian Dollar|             ACH|   1|         7|   7|         7|\n",
      "|2022/09/13 10:17|02126978|   8304659F0|00131127| 8304659A0|    10478.30|Australian Dollar|        10478.30| Australian Dollar|             ACH|   1|         8|   8|         8|\n",
      "|2022/09/11 08:25|02129461|   83000DC90|    0111| 82E921920|    10494.88|Australian Dollar|        10494.88| Australian Dollar|             ACH|   1|         9|   9|         9|\n",
      "|2022/09/12 08:23|02126978|   8304659F0|00131127| 8304659A0|    10586.15|Australian Dollar|        10586.15| Australian Dollar|             ACH|   1|        10|  10|        10|\n",
      "|2022/09/14 10:32|02127147|   83000CAC0|00126614| 83000D8D0|    10620.64|Australian Dollar|        10620.64| Australian Dollar|             ACH|   1|        11|  11|        11|\n",
      "|2022/09/03 07:50|00125319|   82E6C0C30|    0110| 82E6C08C0|    10700.96|Australian Dollar|        10700.96| Australian Dollar|             ACH|   1|        12|  12|        12|\n",
      "|2022/09/13 02:02|    0110|   82E6C08C0|02126306| 83000CE40|    10717.68|Australian Dollar|        10717.68| Australian Dollar|             ACH|   1|        13|  13|        13|\n",
      "|2022/09/14 02:35|01125022|   83363BCB0|01139586| 83363BC60|    11163.63|Australian Dollar|        11163.63| Australian Dollar|             ACH|   1|        14|  14|        14|\n",
      "|2022/09/05 15:27|    0211|   8000C3DA0|     009| 827FB7770|    11183.18|Australian Dollar|        11183.18| Australian Dollar|             ACH|   1|        15|  15|        15|\n",
      "|2022/09/09 22:16|02127147|   82F31CAE0|02129461| 83000DC90|    11202.85|Australian Dollar|        11202.85| Australian Dollar|             ACH|   1|        16|  16|        16|\n",
      "|2022/09/14 19:37|    0110|   827FB8570|     029| 8000C7720|    11337.37|Australian Dollar|        11337.37| Australian Dollar|             ACH|   1|        17|  17|        17|\n",
      "|2022/09/16 14:14|    0111|   82E921920|02127249| 82E921690|    11354.31|Australian Dollar|        11354.31| Australian Dollar|             ACH|   1|        18|  18|        18|\n",
      "|2022/09/15 04:15|00126614|   83000D8D0|02129145| 83000CEE0|    11407.30|Australian Dollar|        11407.30| Australian Dollar|             ACH|   1|        19|  19|        19|\n",
      "|2022/09/02 04:49|01125022|   833638230|01136230| 833638190|   114347.06|Australian Dollar|       114347.06| Australian Dollar|             ACH|   1|        20|  20|        20|\n",
      "|2022/09/04 03:50|01136230|   833638190|01125022| 833638230|   114347.06|Australian Dollar|       114347.06| Australian Dollar|             ACH|   1|        21|  20|        20|\n",
      "|2022/09/12 08:51|    0111|   82E921920|    0110| 82E6C08C0|    11625.87|Australian Dollar|        11625.87| Australian Dollar|             ACH|   1|        22|  22|        21|\n",
      "|2022/09/13 09:38| 0239197|   83000D0D0|    0111| 82E921920|    11865.54|Australian Dollar|        11865.54| Australian Dollar|             ACH|   1|        23|  23|        22|\n",
      "|2022/09/08 08:42|02127147|   83000CAC0|00126614| 82E6C0F40|    11911.50|Australian Dollar|        11911.50| Australian Dollar|             ACH|   1|        24|  24|        23|\n",
      "|2022/09/14 03:37|00127022|   830462B80|02131507| 8301A0340|    12159.32|Australian Dollar|        12159.32| Australian Dollar|             ACH|   1|        25|  25|        24|\n",
      "|2022/09/10 16:27| 0239197|   83000D0D0|02127147| 83000CAC0|    12170.12|Australian Dollar|        12170.12| Australian Dollar|             ACH|   1|        26|  26|        25|\n",
      "|2022/09/04 17:30|00126614|   82E6C0F40|    0111| 82E921920|     1218.15|Australian Dollar|         1218.15| Australian Dollar|             ACH|   1|        27|  27|        26|\n",
      "|2022/09/15 13:54| 0239197|   83000D0D0|02127147| 83000CAC0|    12194.85|Australian Dollar|        12194.85| Australian Dollar|             ACH|   1|        28|  28|        27|\n",
      "|2022/09/05 11:25|02129145|   83000CEE0|    0111| 82E921920|    12231.37|Australian Dollar|        12231.37| Australian Dollar|             ACH|   1|        29|  29|        28|\n",
      "|2022/09/09 19:54|01125491|   83000DC40|00126614| 82E6C0F40|     1232.28|Australian Dollar|         1232.28| Australian Dollar|             ACH|   1|        30|  30|        29|\n",
      "|2022/09/05 15:32|     009|   8000C79A0|     029| 827FB8770|    12401.02|Australian Dollar|        12401.02| Australian Dollar|             ACH|   1|        31|  31|        30|\n",
      "|2022/09/12 22:01|02129145|   83000CEE0|    0111| 82E921920|    12540.57|Australian Dollar|        12540.57| Australian Dollar|             ACH|   1|        32|  32|        31|\n",
      "|2022/09/05 16:27|    0111|   8000C64D0|     009| 827FB7770|    12643.64|Australian Dollar|        12643.64| Australian Dollar|             ACH|   1|        33|  33|        32|\n",
      "|2022/09/04 17:27| 0120011|   81E11C1E0|    0211| 82E91E020|    12742.15|Australian Dollar|        12742.15| Australian Dollar|             ACH|   1|        34|  34|        33|\n",
      "|2022/09/14 18:17|  017364|   803FB2070|     009| 8000C1710|    12828.24|Australian Dollar|        12828.24| Australian Dollar|             ACH|   1|        35|  35|        34|\n",
      "|2022/09/16 13:17|    0111|   82E921920|02127147| 83000CAC0|    12916.10|Australian Dollar|        12916.10| Australian Dollar|             ACH|   1|        36|  36|        35|\n",
      "|2022/09/16 11:09|02126306|   83000CE40|02127147| 83000CAC0|    12959.73|Australian Dollar|        12959.73| Australian Dollar|             ACH|   1|        37|  37|        36|\n",
      "|2022/09/11 09:46|02131507|   8301A0340|00127022| 830462B80|    12969.15|Australian Dollar|        12969.15| Australian Dollar|             ACH|   1|        38|  38|        37|\n",
      "|2022/09/14 23:56|02126978|   8304659F0|00131127| 8304659A0|    13021.98|Australian Dollar|        13021.98| Australian Dollar|             ACH|   1|        39|  39|        38|\n",
      "|2022/09/08 00:44|00125319|   82E6C0C30|00126614| 82E6C0F40|    13136.42|Australian Dollar|        13136.42| Australian Dollar|             ACH|   1|        40|  40|        39|\n",
      "|2022/09/04 09:54|02131507|   8301A0340|00127022| 830462B80|    13153.33|Australian Dollar|        13153.33| Australian Dollar|             ACH|   1|        41|  41|        40|\n",
      "|2022/09/16 16:03|00126614|   82E6C0F40|02125369| 82DD5AA30|    13164.87|Australian Dollar|        13164.87| Australian Dollar|             ACH|   1|        42|  42|        41|\n",
      "|2022/09/13 06:39|     009|   827FB5730|     029| 8000C7720|    13253.92|Australian Dollar|        13253.92| Australian Dollar|             ACH|   1|        43|  43|        42|\n",
      "|2022/09/06 13:06|00125319|   82E6C0C30|     029| 82DCAA2B0|    13964.99|Australian Dollar|        13964.99| Australian Dollar|             ACH|   1|        44|  44|        43|\n",
      "|2022/09/15 21:03|00127022|   830462B80|02131507| 8301A0340|    13999.09|Australian Dollar|        13999.09| Australian Dollar|             ACH|   1|        45|  45|        44|\n",
      "|2022/09/16 17:02|00126614|   82E6C0F40|     029| 82E2CB5B0|    14045.58|Australian Dollar|        14045.58| Australian Dollar|             ACH|   1|        46|  46|        45|\n",
      "|2022/09/04 16:13|02129461|   83000DC90|    0111| 82E921920|    14078.35|Australian Dollar|        14078.35| Australian Dollar|             ACH|   1|        47|  47|        46|\n",
      "|2022/09/06 00:13|00127022|   830462B80|02131507| 8301A0340|    14088.49|Australian Dollar|        14088.49| Australian Dollar|             ACH|   1|        48|  48|        47|\n",
      "|2022/09/06 00:04|02131507|   8301A0340|02131507| 8301A0340|    14088.49|Australian Dollar|        14088.49| Australian Dollar|             ACH|   1|        49|  48|        47|\n",
      "|2022/09/18 19:24|     029|   82DCAA2B0|02127147| 83000CAC0|    14099.10|Australian Dollar|        14099.10| Australian Dollar|             ACH|   1|        50|  50|        48|\n",
      "|2022/09/14 12:11| 0023312|   825E92FF0|     009| 82DDB0150|    14155.09|Australian Dollar|        14155.09| Australian Dollar|             ACH|   1|        51|  51|        49|\n",
      "|2022/09/11 11:58|    0211|   8000C3DA0|    0111| 827FB8260|    14273.56|Australian Dollar|        14273.56| Australian Dollar|             ACH|   1|        52|  52|        50|\n",
      "|2022/09/03 17:08|02126306|   83000CE40|02129145| 83000CEE0|    14446.06|Australian Dollar|        14446.06| Australian Dollar|             ACH|   1|        53|  53|        51|\n",
      "|2022/09/15 15:24|01136230|   833638190|01125022| 833638230|    14525.13|Australian Dollar|        14525.13| Australian Dollar|             ACH|   1|        54|  54|        52|\n",
      "|2022/09/14 18:26|01139586|   83363BC60|01125022| 83363BCB0|    14608.19|Australian Dollar|        14608.19| Australian Dollar|             ACH|   1|        55|  55|        53|\n",
      "|2022/09/09 19:28|00127022|   830462B80|00127022| 830462B80|    14622.21|Australian Dollar|        14622.21| Australian Dollar|             ACH|   1|        56|  56|        54|\n",
      "|2022/09/08 11:31|01136230|   833638190|01125022| 833638230|    14726.35|Australian Dollar|        14726.35| Australian Dollar|             ACH|   1|        57|  57|        55|\n",
      "|2022/09/13 06:28|01125022|   833638230|01136230| 833638190|    14726.35|Australian Dollar|        14726.35| Australian Dollar|             ACH|   1|        58|  57|        55|\n",
      "|2022/09/16 12:52|02129145|   83000CEE0|     029| 82DCAA2B0|    14738.39|Australian Dollar|        14738.39| Australian Dollar|             ACH|   1|        59|  59|        56|\n",
      "|2022/09/15 06:37|01125022|   833638230|01136230| 833638190|    14835.72|Australian Dollar|        14835.72| Australian Dollar|             ACH|   1|        60|  60|        57|\n",
      "|2022/09/20 10:54|  028174|   80715C030|00125597| 82E291A80|    15027.42|Australian Dollar|        15027.42| Australian Dollar|             ACH|   1|        61|  61|        58|\n",
      "|2022/09/14 13:26|  028219|   8240B8360|01125022| 82F363CE0| 15088321.72|Australian Dollar|     15088321.72| Australian Dollar|             ACH|   1|        62|  62|        59|\n",
      "|2022/09/04 01:49|00127022|   830462B80|00127022| 830462B80|    15125.34|Australian Dollar|        15125.34| Australian Dollar|             ACH|   1|        63|  63|        60|\n",
      "|2022/09/15 01:58|02131507|   8301A0340|00127022| 830462B80|    15147.52|Australian Dollar|        15147.52| Australian Dollar|             ACH|   1|        64|  64|        61|\n",
      "|2022/09/17 13:09|01125491|   83000DC40|02125369| 82DD5AA30|    15244.51|Australian Dollar|        15244.51| Australian Dollar|             ACH|   1|        65|  65|        62|\n",
      "|2022/09/09 13:46|  018781|   8208292D0|01126548| 82F798540|     1533.12|Australian Dollar|         1533.12| Australian Dollar|             ACH|   1|        66|  66|        63|\n",
      "|2022/09/05 16:01|   00544|   800BABB50|    0111| 8000C2D10|    15358.93|Australian Dollar|        15358.93| Australian Dollar|             ACH|   1|        67|  67|        64|\n",
      "|2022/09/15 15:50| 0239197|   83000D0D0|     029| 82E2CB5B0|    15374.89|Australian Dollar|        15374.89| Australian Dollar|             ACH|   1|        68|  68|        65|\n",
      "|2022/09/16 14:17|    0211|   8000C2950|     029| 8000C7720|    15500.17|Australian Dollar|        15500.17| Australian Dollar|             ACH|   1|        69|  69|        66|\n",
      "|2022/09/18 08:08|     009|   8000C53E0|     029| 8000C7720|    15535.65|Australian Dollar|        15535.65| Australian Dollar|             ACH|   1|        70|  70|        67|\n",
      "|2022/09/19 08:38|  001503|   804D6DF70|02130121| 830447570|    15631.32|Australian Dollar|        15631.32| Australian Dollar|             ACH|   1|        71|  71|        68|\n",
      "|2022/09/15 19:02|00127022|   830462B80|02131507| 8301A0340|    15811.26|Australian Dollar|        15811.26| Australian Dollar|             ACH|   1|        72|  72|        69|\n",
      "|2022/09/11 11:54|00126614|   82E6C0F40|02127249| 82E921690|     1594.87|Australian Dollar|         1594.87| Australian Dollar|             ACH|   1|        73|  73|        70|\n",
      "|2022/09/05 00:00|02126306|   83000CE40|     029| 82DCAA2B0|    15961.45|Australian Dollar|        15961.45| Australian Dollar|             ACH|   1|        74|  74|        71|\n",
      "|2022/09/12 01:46|02131507|   8301A0340|00127022| 830462B80|    16050.79|Australian Dollar|        16050.79| Australian Dollar|             ACH|   1|        75|  75|        72|\n",
      "|2022/09/10 03:24| 0239197|   83000D0D0|02127147| 82F31CAE0|    16053.85|Australian Dollar|        16053.85| Australian Dollar|             ACH|   1|        76|  76|        73|\n",
      "|2022/09/19 11:14|01125022|   83363BCB0|01139586| 83363BC60|    16092.08|Australian Dollar|        16092.08| Australian Dollar|             ACH|   1|        77|  77|        74|\n",
      "|2022/09/11 13:23|02129461|   83000DC90|01125491| 83000DC40|    16127.13|Australian Dollar|        16127.13| Australian Dollar|             ACH|   1|        78|  78|        75|\n",
      "|2022/09/09 08:37|     009|   8000C6670|    0211| 8000C3DA0|    16168.90|Australian Dollar|        16168.90| Australian Dollar|             ACH|   1|        79|  79|        76|\n",
      "|2022/09/02 11:12|02126978|   8304659F0|00131127| 8304659A0|    16185.80|Australian Dollar|        16185.80| Australian Dollar|             ACH|   1|        80|  80|        77|\n",
      "|2022/09/09 23:25|   02470|   800297510|     009| 8000C40D0|    16303.05|Australian Dollar|        16303.05| Australian Dollar|             ACH|   1|        81|  81|        78|\n",
      "|2022/09/09 13:12|    0111|   827FB7680|    0111| 827FB8260|    16312.91|Australian Dollar|        16312.91| Australian Dollar|             ACH|   1|        82|  82|        79|\n",
      "|2022/09/04 23:33|    0111|   82E921920|00126614| 82E6C0F40|     1665.72|Australian Dollar|         1665.72| Australian Dollar|             ACH|   1|        83|  83|        80|\n",
      "|2022/09/16 16:19|    0110|   82E6C08C0|02127249| 82E921690|    16734.91|Australian Dollar|        16734.91| Australian Dollar|             ACH|   1|        84|  84|        81|\n",
      "|2022/09/14 00:53|    0111|   82E921920|01125491| 83000DC40|    16754.97|Australian Dollar|        16754.97| Australian Dollar|             ACH|   1|        85|  85|        82|\n",
      "|2022/09/04 10:39|     029|   82DCAA2B0|    0110| 82E6C08C0|    16961.60|Australian Dollar|        16961.60| Australian Dollar|             ACH|   1|        86|  86|        83|\n",
      "|2022/09/17 13:24|02131507|   8301A0340|00127022| 830462B80|    17037.43|Australian Dollar|        17037.43| Australian Dollar|             ACH|   1|        87|  87|        84|\n",
      "|2022/09/17 01:20|02129145|   83000CEE0|02127147| 83000CAC0|    17048.16|Australian Dollar|        17048.16| Australian Dollar|             ACH|   1|        88|  88|        85|\n",
      "|2022/09/14 17:48|00126614|   82E6C0F40|01125491| 83000DC40|    17308.98|Australian Dollar|        17308.98| Australian Dollar|             ACH|   1|        89|  89|        86|\n",
      "|2022/09/06 00:18| 0239197|   83000D0D0|00126614| 82E6C0F40|    17396.47|Australian Dollar|        17396.47| Australian Dollar|             ACH|   1|        90|  90|        87|\n",
      "|2022/09/08 16:24|     029|   827FB8770|    0211| 82DBFE570|    17416.49|Australian Dollar|        17416.49| Australian Dollar|             ACH|   1|        91|  91|        88|\n",
      "|2022/09/03 14:31|     029|   8000C7720|     029| 827FB8770|    17532.26|Australian Dollar|        17532.26| Australian Dollar|             ACH|   1|        92|  92|        89|\n",
      "|2022/09/03 19:07|     029|   8000C7720|     009| 827FB7770|    17595.35|Australian Dollar|        17595.35| Australian Dollar|             ACH|   1|        93|  93|        90|\n",
      "|2022/09/02 11:07|     009|   8000C1710|     029| 827FB8770|    17657.89|Australian Dollar|        17657.89| Australian Dollar|             ACH|   1|        94|  94|        91|\n",
      "|2022/09/06 09:05|02131507|   8301A0340|00127022| 830462B80|     1769.84|Australian Dollar|         1769.84| Australian Dollar|             ACH|   1|        95|  95|        92|\n",
      "|2022/09/16 18:57|     009|   8000BF960|     029| 8000C7720|    17709.60|Australian Dollar|        17709.60| Australian Dollar|             ACH|   1|        96|  96|        93|\n",
      "|2022/09/14 00:12|    0110|   82E6C08C0|00126614| 83000D8D0|    17766.46|Australian Dollar|        17766.46| Australian Dollar|             ACH|   1|        97|  97|        94|\n",
      "|2022/09/17 08:11|00126614|   83000D8D0|02129461| 83000DC90|    17770.81|Australian Dollar|        17770.81| Australian Dollar|             ACH|   1|        98|  98|        95|\n",
      "|2022/09/08 12:11|    0110|   82E6C08C0|02129461| 83000DC90|    17851.26|Australian Dollar|        17851.26| Australian Dollar|             ACH|   1|        99|  99|        96|\n",
      "|2022/09/02 22:30|00127022|   830462B80|02131507| 8301A0340|     1805.25|Australian Dollar|         1805.25| Australian Dollar|             ACH|   1|       100| 100|        97|\n",
      "|2022/09/18 08:22| 0239197|   83000D0D0|    0111| 82E921920|    18119.16|Australian Dollar|        18119.16| Australian Dollar|             ACH|   1|       101| 101|        98|\n",
      "|2022/09/14 06:10|02131507|   8301A0340|02131507| 8301A0340|    18142.03|Australian Dollar|        18142.03| Australian Dollar|             ACH|   1|       102| 102|        99|\n",
      "|2022/09/07 13:29|02127249|   82E921690|00126614| 82E6C0F40|    18198.25|Australian Dollar|        18198.25| Australian Dollar|             ACH|   1|       103| 103|       100|\n",
      "|2022/09/17 22:15| 0239197|   83000D0D0|     029| 82E2CB5B0|     1833.79|Australian Dollar|         1833.79| Australian Dollar|             ACH|   1|       104| 104|       101|\n",
      "|2022/09/22 10:55| 0030939|   81585ADF0|01108613| 82DC54510|    18387.09|Australian Dollar|        18387.09| Australian Dollar|             ACH|   1|       105| 105|       102|\n",
      "|2022/09/08 22:38| 0125414|   81CEB82E0|00125597| 82F232AD0|    18394.00|Australian Dollar|        18394.00| Australian Dollar|             ACH|   1|       106| 106|       103|\n",
      "|2022/09/14 11:07|01136230|   833638190|01125022| 833638230|    18483.78|Australian Dollar|        18483.78| Australian Dollar|             ACH|   1|       107| 107|       104|\n",
      "|2022/09/17 14:53|02126978|   8304659F0|00131127| 8304659A0|    18512.03|Australian Dollar|        18512.03| Australian Dollar|             ACH|   1|       108| 108|       105|\n",
      "|2022/09/16 19:40| 0239197|   83000D0D0|02125369| 82DD5AA30|    18533.31|Australian Dollar|        18533.31| Australian Dollar|             ACH|   1|       109| 109|       106|\n",
      "|2022/09/10 08:28|02125369|   82DD5AA30|00126614| 82E6C0F40|    18648.67|Australian Dollar|        18648.67| Australian Dollar|             ACH|   1|       110| 110|       107|\n",
      "|2022/09/14 12:26|00126614|   82E6C0F40|02129461| 83000DC90|    18659.97|Australian Dollar|        18659.97| Australian Dollar|             ACH|   1|       111| 111|       108|\n",
      "|2022/09/05 12:53| 0238261|   814A532A0|01126424| 82F70D130|     1886.63|Australian Dollar|         1886.63| Australian Dollar|             ACH|   1|       112| 112|       109|\n",
      "|2022/09/10 19:52|    0110|   82E6C08C0|    0111| 82E921920|    18941.94|Australian Dollar|        18941.94| Australian Dollar|             ACH|   1|       113| 113|       110|\n",
      "|2022/09/14 17:36|00131127|   8304659A0|02126978| 8304659F0|    19065.77|Australian Dollar|        19065.77| Australian Dollar|             ACH|   1|       114| 114|       111|\n",
      "|2022/09/05 04:35|01136230|   833638190|01125022| 833638230|    19080.19|Australian Dollar|        19080.19| Australian Dollar|             ACH|   1|       115| 115|       112|\n",
      "|2022/09/15 11:01|01125022|   83363BCB0|01139586| 83363BC60|    19339.06|Australian Dollar|        19339.06| Australian Dollar|             ACH|   1|       116| 116|       113|\n",
      "|2022/09/10 05:47|02129145|   83000CEE0|00126614| 82E6C0F40|    19364.05|Australian Dollar|        19364.05| Australian Dollar|             ACH|   1|       117| 117|       114|\n",
      "|2022/09/11 21:41| 0239197|   83000D0D0|     029| 82DD77190|    19408.18|Australian Dollar|        19408.18| Australian Dollar|             ACH|   1|       118| 118|       115|\n",
      "|2022/09/02 21:10|02126978|   8304659F0|00131127| 8304659A0|    19439.76|Australian Dollar|        19439.76| Australian Dollar|             ACH|   1|       119| 119|       116|\n",
      "|2022/09/15 04:31|00125319|   82E6C0C30|    0111| 82E921920|    19542.01|Australian Dollar|        19542.01| Australian Dollar|             ACH|   1|       120| 120|       117|\n",
      "|2022/09/13 13:37|01125022|   83363BCB0|01139586| 83363BC60|    19571.32|Australian Dollar|        19571.32| Australian Dollar|             ACH|   1|       121| 121|       118|\n",
      "|2022/09/11 06:31|01139586|   83363BC60|01125022| 83363BCB0|    19571.32|Australian Dollar|        19571.32| Australian Dollar|             ACH|   1|       122| 121|       118|\n",
      "|2022/09/13 12:14|02126306|   83000CE40|02125369| 82DD5AA30|    19671.28|Australian Dollar|        19671.28| Australian Dollar|             ACH|   1|       123| 123|       119|\n",
      "|2022/09/11 22:34|02126306|   83000CE40|01125491| 83000DC40|    19854.30|Australian Dollar|        19854.30| Australian Dollar|             ACH|   1|       124| 124|       120|\n",
      "|2022/09/07 04:35|     009|   8000C6670|    0111| 827FB7680|    19929.99|Australian Dollar|        19929.99| Australian Dollar|             ACH|   1|       125| 125|       121|\n",
      "|2022/09/15 17:28|    0111|   82E921920|     029| 82DD77190|    19950.84|Australian Dollar|        19950.84| Australian Dollar|             ACH|   1|       126| 126|       122|\n",
      "|2022/09/11 06:45|01125022|   83363BCB0|01125022| 83363BCB0|    20056.05|Australian Dollar|        20056.05| Australian Dollar|             ACH|   1|       127| 127|       123|\n",
      "|2022/09/09 15:39|01125022|   833638230|01136230| 833638190|    20085.90|Australian Dollar|        20085.90| Australian Dollar|             ACH|   1|       128| 128|       124|\n",
      "|2022/09/14 12:25| 0239197|   83000D0D0|02129145| 83000CEE0|    20237.60|Australian Dollar|        20237.60| Australian Dollar|             ACH|   1|       129| 129|       125|\n",
      "|2022/09/09 08:48|     029|   82DCAA2B0|00126614| 82E6C0F40|    20254.52|Australian Dollar|        20254.52| Australian Dollar|             ACH|   1|       130| 130|       126|\n",
      "|2022/09/10 17:11|     029|   827FB8770|    0110| 800064BF0|    20277.95|Australian Dollar|        20277.95| Australian Dollar|             ACH|   1|       131| 131|       127|\n",
      "|2022/09/15 11:29|01125491|   83000DC40|02127147| 83000CAC0|    20373.69|Australian Dollar|        20373.69| Australian Dollar|             ACH|   1|       132| 132|       128|\n",
      "|2022/09/04 13:00|01108613|   829C2FC50|     029| 827FB8770|    20404.11|Australian Dollar|        20404.11| Australian Dollar|             ACH|   1|       133| 133|       129|\n",
      "|2022/09/13 00:06|01139586|   83363BC60|01125022| 83363BCB0|    20410.72|Australian Dollar|        20410.72| Australian Dollar|             ACH|   1|       134| 134|       130|\n",
      "|2022/09/14 08:00|00126614|   82E6C0F40|02127147| 83000CAC0|    20597.78|Australian Dollar|        20597.78| Australian Dollar|             ACH|   1|       135| 135|       131|\n",
      "|2022/09/03 08:22|02126306|   83000CE40|    0111| 82E921920|    20664.97|Australian Dollar|        20664.97| Australian Dollar|             ACH|   1|       136| 136|       132|\n",
      "|2022/09/15 09:28|00131127|   8304659A0|02126978| 8304659F0|    20705.52|Australian Dollar|        20705.52| Australian Dollar|             ACH|   1|       137| 137|       133|\n",
      "|2022/09/12 19:55|   01213|   8003AF840|    0211| 8000C3D50|    20825.44|Australian Dollar|        20825.44| Australian Dollar|             ACH|   1|       138| 138|       134|\n",
      "|2022/09/16 10:45|00126614|   82E6C0F40|00126614| 83000D8D0|    20862.08|Australian Dollar|        20862.08| Australian Dollar|             ACH|   1|       139| 139|       135|\n",
      "|2022/09/11 16:41| 0239197|   83000D0D0|02127249| 82E921690|    21112.75|Australian Dollar|        21112.75| Australian Dollar|             ACH|   1|       140| 140|       136|\n",
      "|2022/09/16 15:20| 0239197|   83000D0D0|02127147| 83000CAC0|    21147.14|Australian Dollar|        21147.14| Australian Dollar|             ACH|   1|       141| 141|       137|\n",
      "|2022/09/12 14:55|02126306|   83000CE40|02129145| 83000CEE0|    21180.67|Australian Dollar|        21180.67| Australian Dollar|             ACH|   1|       142| 142|       138|\n",
      "|2022/09/09 20:24|02131507|   8301A0340|00127022| 830462B80|    21253.16|Australian Dollar|        21253.16| Australian Dollar|             ACH|   1|       143| 143|       139|\n",
      "|2022/09/17 12:26|    0111|   8000C2D10|     029| 8000C7720|    21389.97|Australian Dollar|        21389.97| Australian Dollar|             ACH|   1|       144| 144|       140|\n",
      "|2022/09/04 01:14|01136230|   833638190|01125022| 833638230|    21431.03|Australian Dollar|        21431.03| Australian Dollar|             ACH|   1|       145| 145|       141|\n",
      "|2022/09/09 14:55|01125022|   833638230|01136230| 833638190|    21431.03|Australian Dollar|        21431.03| Australian Dollar|             ACH|   1|       146| 145|       141|\n",
      "|2022/09/03 21:37|00125319|   82E6C0C30|     029| 82E2CB5B0|    21435.55|Australian Dollar|        21435.55| Australian Dollar|             ACH|   1|       147| 147|       142|\n",
      "|2022/09/04 14:41|00126614|   82E6C0F40|    0110| 82E6C08C0|    21448.08|Australian Dollar|        21448.08| Australian Dollar|             ACH|   1|       148| 148|       143|\n",
      "|2022/09/08 14:42|     000|   8039EF170|     009| 8000C6670|     2145.27|Australian Dollar|         2145.27| Australian Dollar|             ACH|   1|       149| 149|       144|\n",
      "|2022/09/16 23:07|00127022|   830462B80|02131507| 8301A0340|    21540.51|Australian Dollar|        21540.51| Australian Dollar|             ACH|   1|       150| 150|       145|\n",
      "|2022/09/12 22:13|01125022|   83363BCB0|01139586| 83363BC60|    21574.87|Australian Dollar|        21574.87| Australian Dollar|             ACH|   1|       151| 151|       146|\n",
      "|2022/09/14 14:10| 0239197|   83000D0D0|02127249| 82E921690|    21593.87|Australian Dollar|        21593.87| Australian Dollar|             ACH|   1|       152| 152|       147|\n",
      "|2022/09/07 05:00|02126306|   83000CE40|    0110| 82E6C08C0|    21627.07|Australian Dollar|        21627.07| Australian Dollar|             ACH|   1|       153| 153|       148|\n",
      "|2022/09/08 12:29| 0116290|   824B55ED0|     009| 8000C6670|     2182.53|Australian Dollar|         2182.53| Australian Dollar|             ACH|   1|       154| 154|       149|\n",
      "|2022/09/11 11:13| 0239197|   83000D0D0|00126614| 82E6C0F40|    21824.99|Australian Dollar|        21824.99| Australian Dollar|             ACH|   1|       155| 155|       150|\n",
      "|2022/09/09 13:09|     029|   82DD77190|00126614| 82E6C0F40|    21931.70|Australian Dollar|        21931.70| Australian Dollar|             ACH|   1|       156| 156|       151|\n",
      "|2022/09/06 11:37|02126306|   83000CE40|     029| 82DD77190|    21974.97|Australian Dollar|        21974.97| Australian Dollar|             ACH|   1|       157| 157|       152|\n",
      "|2022/09/06 15:31|02126306|   83000CE40|02127147| 82F31CAE0|    21998.71|Australian Dollar|        21998.71| Australian Dollar|             ACH|   1|       158| 158|       153|\n",
      "|2022/09/09 15:48|     029|   82E2CB5B0|00126614| 82E6C0F40|    22070.24|Australian Dollar|        22070.24| Australian Dollar|             ACH|   1|       159| 159|       154|\n",
      "|2022/09/14 11:18|02127147|   83000CAC0|     029| 82DCAA2B0|    22080.26|Australian Dollar|        22080.26| Australian Dollar|             ACH|   1|       160| 160|       155|\n",
      "|2022/09/12 14:06|02131507|   8301A0340|00127022| 830462B80|    22296.88|Australian Dollar|        22296.88| Australian Dollar|             ACH|   1|       161| 161|       156|\n",
      "|2022/09/04 00:29|02127147|   82F31CAE0|    0111| 82E921920|    22338.26|Australian Dollar|        22338.26| Australian Dollar|             ACH|   1|       162| 162|       157|\n",
      "|2022/09/10 13:21| 0027143|   80AE8E4A0|00124800| 82F2D1220|    22379.96|Australian Dollar|        22379.96| Australian Dollar|             ACH|   1|       163| 163|       158|\n",
      "|2022/09/09 01:52|00126614|   83000D8D0|00126614| 82E6C0F40|    22410.48|Australian Dollar|        22410.48| Australian Dollar|             ACH|   1|       164| 164|       159|\n",
      "|2022/09/14 15:21|00131127|   8304659A0|02126978| 8304659F0|    22470.38|Australian Dollar|        22470.38| Australian Dollar|             ACH|   1|       165| 165|       160|\n",
      "|2022/09/13 14:35| 0239197|   83000D0D0|00126614| 83000D8D0|    22515.28|Australian Dollar|        22515.28| Australian Dollar|             ACH|   1|       166| 166|       161|\n",
      "|2022/09/15 10:39|02129145|   83000CEE0|     029| 82DD77190|     2258.07|Australian Dollar|         2258.07| Australian Dollar|             ACH|   1|       167| 167|       162|\n",
      "|2022/09/17 15:49|02126306|   83000CE40|00125319| 82E6C0C30|    22616.10|Australian Dollar|        22616.10| Australian Dollar|             ACH|   1|       168| 168|       163|\n",
      "|2022/09/12 05:43|00131127|   8304659A0|02126978| 8304659F0|    22625.72|Australian Dollar|        22625.72| Australian Dollar|             ACH|   1|       169| 169|       164|\n",
      "|2022/09/16 18:06|    0110|   82E6C08C0|02127147| 83000CAC0|    22647.87|Australian Dollar|        22647.87| Australian Dollar|             ACH|   1|       170| 170|       165|\n",
      "|2022/09/10 18:17|     029|   827FB8770|    0211| 8000C56D0|    22821.49|Australian Dollar|        22821.49| Australian Dollar|             ACH|   1|       171| 171|       166|\n",
      "|2022/09/06 17:12|02127249|   82E921690|    0110| 82E6C08C0|    23015.01|Australian Dollar|        23015.01| Australian Dollar|             ACH|   1|       172| 172|       167|\n",
      "|2022/09/07 11:57|02126306|   83000CE40|     029| 82E2CB5B0|    23178.98|Australian Dollar|        23178.98| Australian Dollar|             ACH|   1|       173| 173|       168|\n",
      "|2022/09/05 05:48|    0211|   827FB8960|     009| 827FB7770|     2325.29|Australian Dollar|         2325.29| Australian Dollar|             ACH|   1|       174| 174|       169|\n",
      "|2022/09/09 04:07|02131507|   8301A0340|00127022| 830462B80|    23461.11|Australian Dollar|        23461.11| Australian Dollar|             ACH|   1|       175| 175|       170|\n",
      "|2022/09/16 07:57|02129461|   83000DC90|    0111| 82E921920|    23524.89|Australian Dollar|        23524.89| Australian Dollar|             ACH|   1|       176| 176|       171|\n",
      "|2022/09/20 07:30|02131507|   8301A0340|00127022| 830462B80|    23651.81|Australian Dollar|        23651.81| Australian Dollar|             ACH|   1|       177| 177|       172|\n",
      "|2022/09/14 23:21|01139586|   83363BC60|01139586| 83363BC60|    23793.87|Australian Dollar|        23793.87| Australian Dollar|             ACH|   1|       178| 178|       173|\n",
      "|2022/09/14 05:40|02131507|   8301A0340|00127022| 830462B80|    23984.69|Australian Dollar|        23984.69| Australian Dollar|             ACH|   1|       179| 179|       174|\n",
      "|2022/09/05 14:04| 0116754|   806E072D0|01124978| 82FCD0F30|    24067.16|Australian Dollar|        24067.16| Australian Dollar|             ACH|   1|       180| 180|       175|\n",
      "|2022/09/10 10:14| 0239197|   83000D0D0|     029| 82DCAA2B0|     2415.69|Australian Dollar|         2415.69| Australian Dollar|             ACH|   1|       181| 181|       176|\n",
      "|2022/09/13 14:24|02129145|   83000CEE0|00126614| 83000D8D0|    24446.74|Australian Dollar|        24446.74| Australian Dollar|             ACH|   1|       182| 182|       177|\n",
      "|2022/09/17 04:25|00126614|   83000D8D0|02127147| 83000CAC0|    24579.74|Australian Dollar|        24579.74| Australian Dollar|             ACH|   1|       183| 183|       178|\n",
      "|2022/09/07 04:49|01125022|   83363BCB0|01139586| 83363BC60|     2461.01|Australian Dollar|         2461.01| Australian Dollar|             ACH|   1|       184| 184|       179|\n",
      "|2022/09/07 22:28|01139586|   83363BC60|01139586| 83363BC60|     2461.01|Australian Dollar|         2461.01| Australian Dollar|             ACH|   1|       185| 184|       179|\n",
      "|2022/09/10 13:00|01139586|   83363BC60|01125022| 83363BCB0|     2461.01|Australian Dollar|         2461.01| Australian Dollar|             ACH|   1|       186| 184|       179|\n",
      "|2022/09/13 12:24|02129145|   83000CEE0|    0110| 82E6C08C0|    24633.54|Australian Dollar|        24633.54| Australian Dollar|             ACH|   1|       187| 187|       180|\n",
      "|2022/09/14 06:44|00126614|   82E6C0F40|00125319| 82E6C0C30|    24991.46|Australian Dollar|        24991.46| Australian Dollar|             ACH|   1|       188| 188|       181|\n",
      "|2022/09/14 13:18| 0239197|   83000D0D0|02127147| 82F31CAE0|    24999.12|Australian Dollar|        24999.12| Australian Dollar|             ACH|   1|       189| 189|       182|\n",
      "|2022/09/12 21:57|02126306|   83000CE40|    0110| 82E6C08C0|    25021.24|Australian Dollar|        25021.24| Australian Dollar|             ACH|   1|       190| 190|       183|\n",
      "|2022/09/15 22:33| 0239197|   83000D0D0|01125491| 83000DC40|    25246.33|Australian Dollar|        25246.33| Australian Dollar|             ACH|   1|       191| 191|       184|\n",
      "|2022/09/10 14:05| 0061776|   818AF73C0|02129461| 82F583090|    25276.74|Australian Dollar|        25276.74| Australian Dollar|             ACH|   1|       192| 192|       185|\n",
      "|2022/09/13 11:36|01125491|   83000DC40|    0110| 82E6C08C0|    25311.40|Australian Dollar|        25311.40| Australian Dollar|             ACH|   1|       193| 193|       186|\n",
      "|2022/09/16 13:03|  013843|   807B82B00|00124800| 82DD3E1B0|    25349.77|Australian Dollar|        25349.77| Australian Dollar|             ACH|   1|       194| 194|       187|\n",
      "|2022/09/13 09:40|00127022|   830462B80|02131507| 8301A0340|    25361.57|Australian Dollar|        25361.57| Australian Dollar|             ACH|   1|       195| 195|       188|\n",
      "|2022/09/16 12:55|     029|   8000C1F90|     029| 8000C7720|    25374.80|Australian Dollar|        25374.80| Australian Dollar|             ACH|   1|       196| 196|       189|\n",
      "|2022/09/07 17:08|02126306|   83000CE40|00125319| 82E6C0C30|    25398.44|Australian Dollar|        25398.44| Australian Dollar|             ACH|   1|       197| 197|       190|\n",
      "|2022/09/06 22:32|     029|   82E2CB5B0|    0110| 82E6C08C0|    25521.28|Australian Dollar|        25521.28| Australian Dollar|             ACH|   1|       198| 198|       191|\n",
      "|2022/09/09 14:42|    0110|   82E6C08C0|     029| 82DCAA2B0|    25717.75|Australian Dollar|        25717.75| Australian Dollar|             ACH|   1|       199| 199|       192|\n",
      "|2022/09/14 06:48|02129145|   83000CEE0|02126306| 83000CE40|    25888.62|Australian Dollar|        25888.62| Australian Dollar|             ACH|   1|       200| 200|       193|\n",
      "|2022/09/17 11:10| 0239197|   83000D0D0|     029| 82DCAA2B0|    26098.27|Australian Dollar|        26098.27| Australian Dollar|             ACH|   1|       201| 201|       194|\n",
      "|2022/09/08 18:49|02126306|   83000CE40|00126614| 83000D8D0|    26162.01|Australian Dollar|        26162.01| Australian Dollar|             ACH|   1|       202| 202|       195|\n",
      "|2022/09/05 18:25|02126306|   83000CE40|02127249| 82E921690|    26215.98|Australian Dollar|        26215.98| Australian Dollar|             ACH|   1|       203| 203|       196|\n",
      "|2022/09/06 15:59|     029|   827FB8770|     009| 827FB7770|    26542.51|Australian Dollar|        26542.51| Australian Dollar|             ACH|   1|       204| 204|       197|\n",
      "|2022/09/06 04:12|    0211|   8000C5A20|     029| 827FB8770|    26564.38|Australian Dollar|        26564.38| Australian Dollar|             ACH|   1|       205| 205|       198|\n",
      "|2022/09/15 06:53|     000|   8039EF170|     009| 8000C6670|     2668.06|Australian Dollar|         2668.06| Australian Dollar|             ACH|   1|       206| 206|       199|\n",
      "|2022/09/01 22:47|    0110|   82E6C08C0|    0111| 82E921920|    26684.45|Australian Dollar|        26684.45| Australian Dollar|             ACH|   1|       207| 207|       200|\n",
      "|2022/09/16 04:31|  023435|   802A101F0|     009| 82DF02FF0|    26892.96|Australian Dollar|        26892.96| Australian Dollar|             ACH|   1|       208| 208|       201|\n",
      "|2022/09/18 16:33|     029|   82DD77190|02127147| 83000CAC0|     2693.90|Australian Dollar|         2693.90| Australian Dollar|             ACH|   1|       209| 209|       202|\n",
      "|2022/09/21 03:28| 0226734|   80ABEC370|02126841| 82E634A60|    27013.32|Australian Dollar|        27013.32| Australian Dollar|             ACH|   1|       210| 210|       203|\n",
      "|2022/09/12 10:28|     029|   827FB8770|     029| 827FB8A00|    27108.02|Australian Dollar|        27108.02| Australian Dollar|             ACH|   1|       211| 211|       204|\n",
      "|2022/09/13 17:28|02126978|   8304659F0|00131127| 8304659A0|    27364.26|Australian Dollar|        27364.26| Australian Dollar|             ACH|   1|       212| 212|       205|\n",
      "|2022/09/13 16:38|02129145|   83000CEE0|02129461| 83000DC90|    27368.20|Australian Dollar|        27368.20| Australian Dollar|             ACH|   1|       213| 213|       206|\n",
      "|2022/09/08 16:34|    0111|   8000C3060|     009| 827FB7770|    27433.11|Australian Dollar|        27433.11| Australian Dollar|             ACH|   1|       214| 214|       207|\n",
      "|2022/09/14 16:43|02129145|   83000CEE0|00125319| 82E6C0C30|    27442.59|Australian Dollar|        27442.59| Australian Dollar|             ACH|   1|       215| 215|       208|\n",
      "|2022/09/18 07:10|00125319|   82E6C0C30|02127147| 83000CAC0|    27820.95|Australian Dollar|        27820.95| Australian Dollar|             ACH|   1|       216| 216|       209|\n",
      "|2022/09/14 10:36|02127147|   82F31CAE0|02127147| 83000CAC0|     2783.50|Australian Dollar|         2783.50| Australian Dollar|             ACH|   1|       217| 217|       210|\n",
      "|2022/09/07 19:22|00125319|   82E6C0C30|01125491| 83000DC40|     2784.54|Australian Dollar|         2784.54| Australian Dollar|             ACH|   1|       218| 218|       211|\n",
      "|2022/09/16 16:34|02131507|   8301A0340|00127022| 830462B80|    27993.50|Australian Dollar|        27993.50| Australian Dollar|             ACH|   1|       219| 219|       212|\n",
      "|2022/09/01 16:19|    0111|   827FB8260|     029| 827FB8770|    28057.68|Australian Dollar|        28057.68| Australian Dollar|             ACH|   1|       220| 220|       213|\n",
      "|2022/09/17 13:49|02126306|   83000CE40|02127147| 83000CAC0|    28099.77|Australian Dollar|        28099.77| Australian Dollar|             ACH|   1|       221| 221|       214|\n",
      "|2022/09/19 16:26| 0030939|   81585ADF0|00128456| 82F427ED0|    28232.20|Australian Dollar|        28232.20| Australian Dollar|             ACH|   1|       222| 222|       215|\n",
      "|2022/09/18 09:16| 0239197|   83000D0D0|02129461| 83000DC90| 28480691.23|Australian Dollar|     28480691.23| Australian Dollar|             ACH|   1|       223| 223|       216|\n",
      "|2022/09/13 14:09|02127147|   83000CAC0|02129461| 83000DC90|     2849.98|Australian Dollar|         2849.98| Australian Dollar|             ACH|   1|       224| 224|       217|\n",
      "|2022/09/08 10:46|     020|   815379630|02126306| 82F1EDDA0|    28564.66|Australian Dollar|        28564.66| Australian Dollar|             ACH|   1|       225| 225|       218|\n",
      "|2022/09/05 08:47|02126306|   83000CE40|00126614| 82E6C0F40|288435253.74|Australian Dollar|    288435253.74| Australian Dollar|             ACH|   1|       226| 226|       219|\n",
      "|2022/09/18 07:53|    0111|   82E921920|    0110| 82E6C08C0|    29293.66|Australian Dollar|        29293.66| Australian Dollar|             ACH|   1|       227| 227|       220|\n",
      "|2022/09/13 10:18|00125319|   82E6C0C30|02125369| 82DD5AA30|     3000.15|Australian Dollar|         3000.15| Australian Dollar|             ACH|   1|       228| 228|       221|\n",
      "|2022/09/12 17:07| 0239197|   83000D0D0|02127147| 82F31CAE0|     3029.46|Australian Dollar|         3029.46| Australian Dollar|             ACH|   1|       229| 229|       222|\n",
      "|2022/09/11 19:28|     029|   82DCAA2B0|01125491| 83000DC40|    30376.45|Australian Dollar|        30376.45| Australian Dollar|             ACH|   1|       230| 230|       223|\n",
      "|2022/09/11 15:07|02129461|   83000DC90|02129145| 83000CEE0|     3080.58|Australian Dollar|         3080.58| Australian Dollar|             ACH|   1|       231| 231|       224|\n",
      "|2022/09/08 08:59|02127147|   83000CAC0|    0110| 82E6C08C0|     3250.28|Australian Dollar|         3250.28| Australian Dollar|             ACH|   1|       232| 232|       225|\n",
      "|2022/09/15 18:28|02129145|   83000CEE0|02127249| 82E921690|     3302.52|Australian Dollar|         3302.52| Australian Dollar|             ACH|   1|       233| 233|       226|\n",
      "|2022/09/12 14:58|     029|   82DCAA2B0|00125319| 82E6C0C30|     3315.56|Australian Dollar|         3315.56| Australian Dollar|             ACH|   1|       234| 234|       227|\n",
      "|2022/09/17 07:28|02129461|   83000DC90|02127147| 83000CAC0|    33998.81|Australian Dollar|        33998.81| Australian Dollar|             ACH|   1|       235| 235|       228|\n",
      "|2022/09/08 11:58|00131127|   8304659A0|02126978| 8304659F0|     3402.83|Australian Dollar|         3402.83| Australian Dollar|             ACH|   1|       236| 236|       229|\n",
      "|2022/09/05 15:51|00127022|   830462B80|02131507| 8301A0340|     3464.97|Australian Dollar|         3464.97| Australian Dollar|             ACH|   1|       237| 237|       230|\n",
      "|2022/09/08 14:21|02131507|   8301A0340|00127022| 830462B80|     3464.97|Australian Dollar|         3464.97| Australian Dollar|             ACH|   1|       238| 237|       230|\n",
      "|2022/09/07 13:36|02129461|   83000DC90|02129145| 83000CEE0|     3500.35|Australian Dollar|         3500.35| Australian Dollar|             ACH|   1|       239| 239|       231|\n",
      "|2022/09/07 16:11|02127249|   82E921690|02129145| 83000CEE0|     3629.29|Australian Dollar|         3629.29| Australian Dollar|             ACH|   1|       240| 240|       232|\n",
      "|2022/09/10 19:58|02127249|   82E921690|     029| 82DCAA2B0|     3643.12|Australian Dollar|         3643.12| Australian Dollar|             ACH|   1|       241| 241|       233|\n",
      "|2022/09/06 10:24|     009|   8000C6670|     009| 8000C53E0| 36750017.14|Australian Dollar|     36750017.14| Australian Dollar|             ACH|   1|       242| 242|       234|\n",
      "|2022/09/06 11:50|00125319|   82E6C0C30|02127147| 82F31CAE0|     3698.11|Australian Dollar|         3698.11| Australian Dollar|             ACH|   1|       243| 243|       235|\n",
      "|2022/09/06 12:11|    0111|   82E921920|02127249| 82E921690|     3719.90|Australian Dollar|         3719.90| Australian Dollar|             ACH|   1|       244| 244|       236|\n",
      "|2022/09/17 07:32|00126614|   83000D8D0|00126614| 82E6C0F40|     3817.52|Australian Dollar|         3817.52| Australian Dollar|             ACH|   1|       245| 245|       237|\n",
      "|2022/09/08 08:23|02129145|   83000CEE0|02127147| 83000CAC0|     3844.70|Australian Dollar|         3844.70| Australian Dollar|             ACH|   1|       246| 246|       238|\n",
      "|2022/09/06 09:12|02126306|   83000CE40|00126614| 82E6C0F40|     3924.00|Australian Dollar|         3924.00| Australian Dollar|             ACH|   1|       247| 247|       239|\n",
      "|2022/09/09 11:31|     009|   8000C53E0|    0111| 827FB8260| 40032508.32|Australian Dollar|     40032508.32| Australian Dollar|             ACH|   1|       248| 248|       240|\n",
      "|2022/09/02 22:08|00131127|   8304659A0|02126978| 8304659F0|     4025.28|Australian Dollar|         4025.28| Australian Dollar|             ACH|   1|       249| 249|       241|\n",
      "|2022/09/11 10:45|02126306|   83000CE40|00125319| 82E6C0C30|     4037.34|Australian Dollar|         4037.34| Australian Dollar|             ACH|   1|       250| 250|       242|\n",
      "+----------------+--------+------------+--------+----------+------------+-----------------+----------------+------------------+----------------+----+----------+----+----------+\n",
      "only showing top 250 rows\n",
      "\n"
     ]
    }
   ],
   "source": [
    "\n",
    "window_spec = Window.partitionBy(\"Currency\").orderBy(\"Amount\")\n",
    "\n",
    "df_with_rank = processed_df.withColumn(\"row_number\", row_number().over(window_spec)) \\\n",
    "                           .withColumn(\"rank\", rank().over(window_spec)) \\\n",
    "                           .withColumn(\"dense_rank\", dense_rank().over(window_spec))\n",
    "\n",
    "df_with_rank.show(250)"
   ]
  },
  {
   "cell_type": "code",
   "execution_count": null,
   "metadata": {},
   "outputs": [
    {
     "name": "stdout",
     "output_type": "stream",
     "text": [
      "+----------------+-------+------------+-------+----------+----------+---------+----------------+------------------+----------------+----+------------------+\n",
      "|       Timestamp|From_ID|From_Account|  To_ID|To_Account|    Amount| Currency|Converted_Amount|Converted_Currency|Transaction_Type|Flag|               Tax|\n",
      "+----------------+-------+------------+-------+----------+----------+---------+----------------+------------------+----------------+----+------------------+\n",
      "|2022/09/01 05:14|  00952|   8139F54E0|0111632| 8062C56E0|   5331.44|US Dollar|         5331.44|         US Dollar|             ACH|   1|          1066.288|\n",
      "|2022/09/03 13:09|0111632|   8062C56E0| 008456| 81363F620|   5602.59|US Dollar|         5602.59|         US Dollar|             ACH|   1|          1120.518|\n",
      "|2022/09/01 07:40|0118693|   823D5EB90| 013729| 801CF2E60|   1400.54|US Dollar|         1400.54|         US Dollar|             ACH|   1|           280.108|\n",
      "|2022/09/01 14:19| 013729|   801CF2E60|0123621| 81A7090F0|   1467.94|US Dollar|         1467.94|         US Dollar|             ACH|   1|           293.588|\n",
      "|2022/09/02 12:40|0024750|   81363F410|0213834| 808757B00|  16898.29|US Dollar|        16898.29|         US Dollar|             ACH|   1|3379.6580000000004|\n",
      "|2022/09/03 06:34|0213834|   808757B00|    000| 800073EF0|  17607.19|US Dollar|        17607.19|         US Dollar|             ACH|   1|          3521.438|\n",
      "|2022/09/01 00:19|0134266|   814167590|0036925| 810E343A0| 132713.46|     Yuan|       132713.46|              Yuan|             ACH|   1|         26542.692|\n",
      "|2022/09/01 19:35|0036925|   810E343A0|0119211| 814AB4F60|  18264.20|US Dollar|        18264.20|         US Dollar|             ACH|   1|           3652.84|\n",
      "|2022/09/02 02:58|0119211|   814AB4F60|0132965| 81B88A230|  14567.69|     Euro|        14567.69|              Euro|             ACH|   1|2913.5380000000005|\n",
      "|2022/09/02 18:02|0132965|   81B88A230|0137089| 810C71940| 114329.26|     Yuan|       114329.26|              Yuan|             ACH|   1|         22865.852|\n",
      "|2022/09/03 07:16|0137089|   810C71940|0216618| 81D5302D0|  14567.69|     Euro|        14567.69|              Euro|             ACH|   1|2913.5380000000005|\n",
      "|2022/09/03 11:39|0216618|   81D5302D0|0024083| 81836B520|  13629.75|     Euro|        13629.75|              Euro|             ACH|   1|2725.9500000000003|\n",
      "|2022/09/03 12:04|0024083|   81836B520|0038110| 81B868730|  97481.96|     Yuan|        97481.96|              Yuan|             ACH|   1|19496.392000000003|\n",
      "|2022/09/04 07:27|0038110|   81B868730|0225015| 81C6EA460|  14054.71|US Dollar|        14054.71|         US Dollar|             ACH|   1|          2810.942|\n",
      "|2022/09/04 08:38|0225015|   81C6EA460| 018112| 8045CC910|  13718.22|US Dollar|        13718.22|         US Dollar|             ACH|   1|2743.6440000000002|\n",
      "|2022/09/05 13:23| 018112|   8045CC910| 007818| 8037732C0|  12908.33|US Dollar|        12908.33|         US Dollar|             ACH|   1|          2581.666|\n",
      "|2022/09/06 05:10| 007818|   8037732C0|0121523| 80D1BD2F0|  10636.75|     Euro|        10636.75|              Euro|             ACH|   1|           2127.35|\n",
      "|2022/09/06 13:24|0121523|   80D1BD2F0|0134266| 814167590|1378736.88|      Yen|      1378736.88|               Yen|             ACH|   1|        275747.376|\n",
      "|2022/09/01 00:25|0266915|   81C3CD2E0|0266946| 81A4AFE20|1155546.44|    Ruble|      1155546.44|             Ruble|             ACH|   1|        231109.288|\n",
      "|2022/09/01 03:18|0174634|   81C5B2AB0|0266946| 81A4AFE20|1104862.69|    Ruble|      1104862.69|             Ruble|             ACH|   1|        220972.538|\n",
      "+----------------+-------+------------+-------+----------+----------+---------+----------------+------------------+----------------+----+------------------+\n",
      "only showing top 20 rows\n",
      "\n"
     ]
    },
    {
     "name": "stderr",
     "output_type": "stream",
     "text": [
      "                                                                                \r"
     ]
    }
   ],
   "source": [
    "\n",
    "\n",
    "def calculate_tax(amount):\n",
    "    try:\n",
    "        return float(amount) * 0.2\n",
    "    except (TypeError, ValueError):\n",
    "        return 0.0 \n",
    "\n",
    "calculate_tax_udf = udf(calculate_tax, DoubleType())\n",
    "\n",
    "df_with_tax = processed_df.withColumn(\"Tax\", calculate_tax_udf(col(\"Amount\")))\n",
    "\n",
    "df_with_tax.show()"
   ]
  }
 ],
 "metadata": {
  "kernelspec": {
   "display_name": "sp",
   "language": "python",
   "name": "python3"
  },
  "language_info": {
   "codemirror_mode": {
    "name": "ipython",
    "version": 3
   },
   "file_extension": ".py",
   "mimetype": "text/x-python",
   "name": "python",
   "nbconvert_exporter": "python",
   "pygments_lexer": "ipython3",
   "version": "3.12.11"
  }
 },
 "nbformat": 4,
 "nbformat_minor": 2
}
